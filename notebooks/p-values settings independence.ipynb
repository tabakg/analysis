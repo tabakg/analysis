{
 "metadata": {
  "name": "",
  "signature": "sha256:9efe8aa9982fdb06e0cff82df1ae4e25bdc4202979b0edf2b4918d8c6832a81c"
 },
 "nbformat": 3,
 "nbformat_minor": 0,
 "worksheets": [
  {
   "cells": [
    {
     "cell_type": "code",
     "collapsed": false,
     "input": [
      "import sys\n",
      "import itertools\n",
      "import numpy as np\n",
      "sys.path.append(r'K:\\ns\\qt\\Diamond\\Eigenpapers\\16-Bell_new_data\\settings_independence')\n"
     ],
     "language": "python",
     "metadata": {},
     "outputs": [],
     "prompt_number": 1
    },
    {
     "cell_type": "code",
     "collapsed": false,
     "input": [
      "import pvalues, correlation_data\n",
      "reload(correlation_data)\n",
      "reload(pvalues)\n",
      "pvalues.DEBUG = False\n",
      "pvalues.MAX_FISHER = 5000\n",
      "pvalues.MAX_LARSSON = 0\n",
      "pvalues.SIM_NUM = 10000"
     ],
     "language": "python",
     "metadata": {},
     "outputs": [],
     "prompt_number": 234
    },
    {
     "cell_type": "code",
     "collapsed": false,
     "input": [
      "from open_data_1 import bell_open_data_analysis_filter_function as bell_data_1\n",
      "from open_data_2 import bell_open_data_2_analysis_filter_function as bell_data_2\n",
      "reload(bell_data_1)\n",
      "reload(bell_data_2)"
     ],
     "language": "python",
     "metadata": {},
     "outputs": [
      {
       "metadata": {},
       "output_type": "pyout",
       "prompt_number": 89,
       "text": [
        "<module 'open_data_2.bell_open_data_2_analysis_filter_function' from 'K:\\ns\\qt\\Diamond\\Eigenpapers\\16-Bell_new_data\\settings_independence\\open_data_2\\bell_open_data_2_analysis_filter_function.pyc'>"
       ]
      }
     ],
     "prompt_number": 89
    },
    {
     "cell_type": "code",
     "collapsed": false,
     "input": [
      "for corrs_set,name in zip([correlation_data.correlations_first_run,correlation_data.correlations_second_run],['first_test','second_test']):\n",
      "    \n",
      "    print '-'*40\n",
      "    print name\n",
      "    for key in corrs_set.keys():\n",
      "        corrs = corrs_set[key]['correlations']\n",
      "        descr = corrs_set[key]['description']\n",
      "        print descr, ': '\n",
      "        print pvalues.getRNGcounts(corrs)\n",
      "        print pvalues.getPvalues(corrs)\n",
      "    print '-'*40\n",
      "        \n"
     ],
     "language": "python",
     "metadata": {},
     "outputs": [
      {
       "output_type": "stream",
       "stream": "stdout",
       "text": [
        "----------------------------------------\n",
        "first_test\n",
        "All recorded data not marked invalid : \n",
        "[2843526, 2844065, 2844839, 2843606]\n",
        "(0.80034272495244019, 0.83720553577569101, 0.94339, 0.59974644350367123, -1)"
       ]
      },
      {
       "output_type": "stream",
       "stream": "stdout",
       "text": [
        "\n",
        "All recorded data : \n",
        "[4938847, 4942101, 4939328, 4942337]\n",
        "(0.87197598547679511, 0.15895040163243754, 0.56759, 0.9563671629134638, -1)"
       ]
      },
      {
       "output_type": "stream",
       "stream": "stdout",
       "text": [
        "\n",
        "All recorded data not marked invalid and without a click in the PSB tail : \n",
        "[2406462, 2407420, 2406936, 2406166]\n",
        "(0.80176070476057049, 0.95164124111566273, 0.94508, 0.57802086754626647, -1)"
       ]
      },
      {
       "output_type": "stream",
       "stream": "stdout",
       "text": [
        "\n",
        "All recorded data without a click in the PSB tail : \n",
        "[4180986, 4183746, 4180933, 4183904]\n",
        "(0.97464878609562267, 0.16123904761166513, 0.58004, 0.95925443409461186, -1)"
       ]
      },
      {
       "output_type": "stream",
       "stream": "stdout",
       "text": [
        "\n",
        "----------------------------------------\n",
        "----------------------------------------\n",
        "second_test\n",
        "All recorded data not marked invalid : \n",
        "[2870463, 2870702, 2870178, 2868486]\n",
        "(0.46060126884165903, 0.66825261835515315, 0.79011, 0.56906840981221829, -1)"
       ]
      },
      {
       "output_type": "stream",
       "stream": "stdout",
       "text": [
        "\n",
        "All recorded data : \n",
        "[4529615, 4530943, 4528295, 4526440]\n",
        "(0.17134813148433969, 0.90143841466867758, 0.48551, 0.45481067615574167, -1)"
       ]
      },
      {
       "output_type": "stream",
       "stream": "stdout",
       "text": [
        "\n",
        "All recorded data not marked invalid and without a click in the PSB tail : \n",
        "[2431773, 2432671, 2432227, 2430534]\n",
        "(0.58967857050097472, 0.79904619541045085, 0.78892, 0.40644909108594596, -1)"
       ]
      },
      {
       "output_type": "stream",
       "stream": "stdout",
       "text": [
        "\n",
        "All recorded data without a click in the PSB tail : \n",
        "[3841069, 3840856, 3839738, 3837833]\n",
        "(0.26669375006329626, 0.58907816915774402, 0.63167, 0.66619750622776119, -1)"
       ]
      },
      {
       "output_type": "stream",
       "stream": "stdout",
       "text": [
        "\n",
        "----------------------------------------\n"
       ]
      }
     ],
     "prompt_number": 235
    },
    {
     "cell_type": "code",
     "collapsed": false,
     "input": [
      "filter_names = ['psi_plus','window_filter','no_psb_tail','not_invalid']\n",
      "dataset = bell_data_1\n",
      "trial_filter_function = correlation_data.get_trial_filter_function(filter_names)\n",
      "corrs = dataset.get_correlations(trial_filter_function)\n",
      "print corrs, np.sum(corrs)\n",
      "pvalues.getPvalues(corrs)\n"
     ],
     "language": "python",
     "metadata": {},
     "outputs": [
      {
       "output_type": "stream",
       "stream": "stdout",
       "text": [
        "[[42  9 20 48]\n",
        " [24 10 24 38]\n",
        " [15 35 38 18]\n",
        " [38 26 24 36]] 445\n"
       ]
      },
      {
       "metadata": {},
       "output_type": "pyout",
       "prompt_number": 5,
       "text": [
        "(0.5069503910348846,\n",
        " 0.84963525235205639,\n",
        " 0.063177554093100843,\n",
        " 0.057850684425949851,\n",
        " -1,\n",
        " -1)"
       ]
      }
     ],
     "prompt_number": 5
    },
    {
     "cell_type": "code",
     "collapsed": false,
     "input": [
      "correlation_data.correlation_filters.keys()"
     ],
     "language": "python",
     "metadata": {},
     "outputs": [
      {
       "metadata": {},
       "output_type": "pyout",
       "prompt_number": 6,
       "text": [
        "['all', 'psi_plus', 'no_psb_tail', 'not_invalid', 'window_filter', 'psi_minus']"
       ]
      }
     ],
     "prompt_number": 6
    },
    {
     "cell_type": "code",
     "collapsed": false,
     "input": [
      "dataset = bell_data_1\n",
      "\n",
      "filter_name_options = correlation_data.correlation_filters.keys()\n",
      "filter_combs=[]\n",
      "for i in range(len(filter_name_options)):\n",
      "    for comb in itertools.combinations(filter_name_options,i):\n",
      "       filter_combs.append(comb)\n",
      "print len(filter_combs)"
     ],
     "language": "python",
     "metadata": {},
     "outputs": [
      {
       "output_type": "stream",
       "stream": "stdout",
       "text": [
        "63\n"
       ]
      }
     ],
     "prompt_number": 7
    },
    {
     "cell_type": "code",
     "collapsed": false,
     "input": [
      "dataset = bell_data_1\n",
      "\n",
      "filter_name_options = ['not_invalid', 'window_filter']\n",
      "filter_combs=[]\n",
      "for i in range(len(filter_name_options)+1):\n",
      "    for comb in itertools.combinations(filter_name_options,i):\n",
      "       filter_combs.append(list(comb))\n",
      "       filter_combs[-1].append('psi_minus')\n",
      "       filter_combs[-1].append('no_psb_tail')\n",
      "       filter_combs.append(list(comb))\n",
      "       filter_combs[-1].append('psi_plus')\n",
      "       filter_combs[-1].append('no_psb_tail')\n",
      "print filter_combs\n",
      "print len(filter_combs)"
     ],
     "language": "python",
     "metadata": {},
     "outputs": [
      {
       "output_type": "stream",
       "stream": "stdout",
       "text": [
        "[['psi_minus', 'no_psb_tail'], ['psi_plus', 'no_psb_tail'], ['not_invalid', 'psi_minus', 'no_psb_tail'], ['not_invalid', 'psi_plus', 'no_psb_tail'], ['window_filter', 'psi_minus', 'no_psb_tail'], ['window_filter', 'psi_plus', 'no_psb_tail'], ['not_invalid', 'window_filter', 'psi_minus', 'no_psb_tail'], ['not_invalid', 'window_filter', 'psi_plus', 'no_psb_tail']]\n",
        "8\n"
       ]
      }
     ],
     "prompt_number": 57
    },
    {
     "cell_type": "code",
     "collapsed": false,
     "input": [
      "dataset = bell_data_1\n",
      "filter_combs = [['not_invalid', 'no_psb_tail'],\n",
      "                ['not_invalid', 'no_psb_tail','psi_minus'],\n",
      "                ['not_invalid', 'no_psb_tail','psi_plus'],\n",
      "                ['not_invalid', 'no_psb_tail','window_filter','psi_plus'],\n",
      "                ['not_invalid', 'no_psb_tail','window_filter','psi_minus']]"
     ],
     "language": "python",
     "metadata": {},
     "outputs": [
      {
       "output_type": "stream",
       "stream": "stdout",
       "text": [
        "\n"
       ]
      }
     ],
     "prompt_number": 92
    },
    {
     "cell_type": "code",
     "collapsed": false,
     "input": [
      "\n",
      "p_values_combs = []\n",
      "i=0\n",
      "Ns=[]\n",
      "all_corrs=[]\n",
      "for filter_names in filter_combs:\n",
      "    print i,':',\n",
      "    i+=1\n",
      "    trial_filter_function = correlation_data.get_trial_filter_function(filter_names)\n",
      "    corrs = dataset.get_correlations(trial_filter_function)\n",
      "    N=np.sum(corrs)\n",
      "    print N,',  ',\n",
      "    if N>4 and not(N in Ns):\n",
      "        p_values_combs.append(pvalues.getPvalues(corrs))\n",
      "        Ns.append(N)\n",
      "        all_corrs.append(corrs)\n",
      "    else:\n",
      "         p_values_combs.append((-1,-1,-1,-1,-1,-1))\n",
      "         Ns.append(-1)\n",
      "         all_corrs.append([])"
     ],
     "language": "python",
     "metadata": {},
     "outputs": [
      {
       "output_type": "stream",
       "stream": "stdout",
       "text": [
        "0 : 2362 ,   "
       ]
      },
      {
       "output_type": "stream",
       "stream": "stdout",
       "text": [
        "1 : 747 ,   "
       ]
      },
      {
       "output_type": "stream",
       "stream": "stdout",
       "text": [
        "2 : 1615 ,   "
       ]
      },
      {
       "output_type": "stream",
       "stream": "stdout",
       "text": [
        "3 : 1170 ,   "
       ]
      },
      {
       "output_type": "stream",
       "stream": "stdout",
       "text": [
        "4 : 502 ,  \n"
       ]
      }
     ],
     "prompt_number": 93
    },
    {
     "cell_type": "code",
     "collapsed": false,
     "input": [
      "pvalues_fisher = np.array([p_value_combs[3] for p_value_combs in p_values_combs])\n",
      "#(pA,pB,pABchi2,pABfisher,indiv_p_value,joint_p_value)    \n",
      "hist(pvalues_fisher, bins = np.linspace(0,1,21))"
     ],
     "language": "python",
     "metadata": {},
     "outputs": [
      {
       "metadata": {},
       "output_type": "pyout",
       "prompt_number": 94,
       "text": [
        "(array([ 2.,  2.,  0.,  0.,  0.,  0.,  0.,  0.,  0.,  0.,  0.,  0.,  1.,\n",
        "         0.,  0.,  0.,  0.,  0.,  0.,  0.]),\n",
        " array([ 0.  ,  0.05,  0.1 ,  0.15,  0.2 ,  0.25,  0.3 ,  0.35,  0.4 ,\n",
        "         0.45,  0.5 ,  0.55,  0.6 ,  0.65,  0.7 ,  0.75,  0.8 ,  0.85,\n",
        "         0.9 ,  0.95,  1.  ]),\n",
        " <a list of 20 Patch objects>)"
       ]
      },
      {
       "metadata": {},
       "output_type": "display_data",
       "png": "[encoded data removed]",
       "text": [
        "<matplotlib.figure.Figure at 0x86c6910>"
       ]
      }
     ],
     "prompt_number": 94
    },
    {
     "cell_type": "code",
     "collapsed": false,
     "input": [
      "print 'total unique combinations of filters:',np.sum(pvalues_fisher>0)\n",
      "print ''\n",
      "low_fisher_indexes = np.where((pvalues_fisher>0.)&(pvalues_fisher>0))[0]\n",
      "for idx in low_fisher_indexes:\n",
      "    print idx, Ns[idx], pvalues_fisher[idx],': '\n",
      "    print p_values_combs[idx]\n",
      "    filter_names = filter_combs[idx]\n",
      "    for filter_name in filter_names:\n",
      "        print correlation_data.correlation_filters[filter_name]['description'],\n",
      "    print ''\n",
      "    print pvalues.getRNGcounts(all_corrs[idx])\n",
      "    print ''"
     ],
     "language": "python",
     "metadata": {},
     "outputs": [
      {
       "output_type": "stream",
       "stream": "stdout",
       "text": [
        "total unique combinations of filters: 5\n",
        "\n",
        "0 2362 0.0435323021381 : \n",
        "(0.47143494462172381, 0.9180612319970417, 0.18607, 0.043532302138072514, 0.039735258668695317)\n",
        "not marked invalid without a click in the PSB tail \n",
        "[555, 608, 623, 576]\n",
        "\n",
        "1 747 0.00498713396067 : \n",
        "(0.16437955637489249, 0.8262565583092385, 0.01503, 0.0049871339606696301, 0.0042817732054344177)\n",
        "not marked invalid without a click in the PSB tail psi-minus events \n",
        "[175, 218, 195, 159]\n",
        "\n",
        "2 1615 0.636824813672 : \n",
        "(0.065531354799499592, 0.99999999999985023, 0.29205, 0.63682481367184041, 0.61846892382854857)\n",
        "not marked invalid without a click in the PSB tail psi-plus events \n",
        "[380, 390, 428, 417]\n",
        "\n",
        "3 1170 0.0779945959152 : \n",
        "(0.084505209987939908, 0.93011544111688538, 0.09431, 0.077994595915209644, 0.069865412690392314)\n",
        "not marked invalid without a click in the PSB tail filtered with predefined time-windows psi-plus events \n",
        "[261, 294, 322, 293]\n",
        "\n",
        "4 502 0.0716758744304 : \n",
        "(0.39645380592683516, 0.75475300975934212, 0.21223, 0.071675874430422212, 0.061235920555242011)\n",
        "not marked invalid without a click in the PSB tail filtered with predefined time-windows psi-minus events \n",
        "[122, 139, 133, 108]\n",
        "\n"
       ]
      }
     ],
     "prompt_number": 95
    },
    {
     "cell_type": "code",
     "collapsed": false,
     "input": [
      "reload(pvalues)\n",
      "pts=20\n",
      "#nsims=[50,500,5000]#\n",
      "nsims = np.linspace(50,50000,pts).astype(np.int)\n",
      "pts = len(nsims)\n",
      "psi=np.zeros(pts)\n",
      "psj=np.zeros(pts)\n",
      "for i,nsim in enumerate(nsims):\n",
      "    print i,\n",
      "    #freqs=[4938847,4942101,4939328,4942337]\n",
      "    freqs = [53,79,62,51]\n",
      "    dist=[0.25,0.25,0.25,0.25]\n",
      "    psi[i],psj[i]=pvalues.probAtLeastOneBelowXX(50, trials = 245)\n",
      "    #pvalues.probEqOrSmallerPvalueFisher(nsim, freqs,dist)\n",
      "    #ps[i]=pvalues.probEqOrSmallerPvalue(nsim, freqs,dist)\n"
     ],
     "language": "python",
     "metadata": {},
     "outputs": [
      {
       "output_type": "stream",
       "stream": "stdout",
       "text": [
        "0 ('n_sim,trials', 50, 245)\n",
        "1"
       ]
      },
      {
       "output_type": "stream",
       "stream": "stdout",
       "text": [
        " ('n_sim,trials', 50, 245)\n",
        "2"
       ]
      },
      {
       "output_type": "stream",
       "stream": "stdout",
       "text": [
        " ('n_sim,trials', 50, 245)\n",
        "3"
       ]
      },
      {
       "output_type": "stream",
       "stream": "stdout",
       "text": [
        " ('n_sim,trials', 50, 245)\n",
        "4"
       ]
      },
      {
       "output_type": "stream",
       "stream": "stdout",
       "text": [
        " ('n_sim,trials', 50, 245)\n",
        "5"
       ]
      },
      {
       "output_type": "stream",
       "stream": "stdout",
       "text": [
        " ('n_sim,trials', 50, 245)\n",
        "6"
       ]
      },
      {
       "output_type": "stream",
       "stream": "stdout",
       "text": [
        " ('n_sim,trials', 50, 245)\n",
        "7"
       ]
      },
      {
       "output_type": "stream",
       "stream": "stdout",
       "text": [
        " ('n_sim,trials', 50, 245)\n",
        "8"
       ]
      },
      {
       "output_type": "stream",
       "stream": "stdout",
       "text": [
        " ('n_sim,trials', 50, 245)\n",
        "9"
       ]
      },
      {
       "output_type": "stream",
       "stream": "stdout",
       "text": [
        " ('n_sim,trials', 50, 245)\n",
        "10"
       ]
      },
      {
       "output_type": "stream",
       "stream": "stdout",
       "text": [
        " ('n_sim,trials', 50, 245)\n",
        "11"
       ]
      },
      {
       "output_type": "stream",
       "stream": "stdout",
       "text": [
        " ('n_sim,trials', 50, 245)\n",
        "12"
       ]
      },
      {
       "output_type": "stream",
       "stream": "stdout",
       "text": [
        " ('n_sim,trials', 50, 245)\n",
        "13"
       ]
      },
      {
       "output_type": "stream",
       "stream": "stdout",
       "text": [
        " ('n_sim,trials', 50, 245)\n",
        "14"
       ]
      },
      {
       "output_type": "stream",
       "stream": "stdout",
       "text": [
        " ('n_sim,trials', 50, 245)\n",
        "15"
       ]
      },
      {
       "output_type": "stream",
       "stream": "stdout",
       "text": [
        " ('n_sim,trials', 50, 245)\n",
        "16"
       ]
      },
      {
       "output_type": "stream",
       "stream": "stdout",
       "text": [
        " ('n_sim,trials', 50, 245)\n",
        "17"
       ]
      },
      {
       "output_type": "stream",
       "stream": "stdout",
       "text": [
        " ('n_sim,trials', 50, 245)\n",
        "18"
       ]
      },
      {
       "output_type": "stream",
       "stream": "stdout",
       "text": [
        " ('n_sim,trials', 50, 245)\n",
        "19"
       ]
      },
      {
       "output_type": "stream",
       "stream": "stdout",
       "text": [
        " ('n_sim,trials', 50, 245)\n"
       ]
      }
     ],
     "prompt_number": 145
    },
    {
     "cell_type": "code",
     "collapsed": false,
     "input": [
      "plt.plot(nsims,psj)\n",
      "plt.plot(nsims,psi)"
     ],
     "language": "python",
     "metadata": {},
     "outputs": [
      {
       "metadata": {},
       "output_type": "pyout",
       "prompt_number": 147,
       "text": [
        "[<matplotlib.lines.Line2D at 0xa5650d0>]"
       ]
      },
      {
       "metadata": {},
       "output_type": "display_data",
       "png": "[encoded data removed]",
       "text": [
        "<matplotlib.figure.Figure at 0xa565e90>"
       ]
      }
     ],
     "prompt_number": 147
    },
    {
     "cell_type": "code",
     "collapsed": false,
     "input": [
      "print psi, psj"
     ],
     "language": "python",
     "metadata": {},
     "outputs": [
      {
       "output_type": "stream",
       "stream": "stdout",
       "text": [
        "[ 0.0212  0.015   0.0209] [ 0.12    0.124   0.1222]\n"
       ]
      }
     ],
     "prompt_number": 144
    },
    {
     "cell_type": "code",
     "collapsed": false,
     "input": [
      "a=np.random.multinomial(245, dist)\n",
      "print a\n",
      "a.reshape(2,2)"
     ],
     "language": "python",
     "metadata": {},
     "outputs": [
      {
       "output_type": "stream",
       "stream": "stdout",
       "text": [
        "[52 74 68 51]\n"
       ]
      },
      {
       "metadata": {},
       "output_type": "pyout",
       "prompt_number": 116,
       "text": [
        "array([[52, 74],\n",
        "       [68, 51]])"
       ]
      }
     ],
     "prompt_number": 116
    },
    {
     "cell_type": "code",
     "collapsed": false,
     "input": [
      "pvalues.getPvaluesCounts(69,69,78,84)"
     ],
     "language": "python",
     "metadata": {},
     "outputs": [
      {
       "output_type": "stream",
       "stream": "stdout",
       "text": [
        "('N00,N01,N10,N11 = ', 69, 69, 78, 84)\n",
        "('Na0, Na1, Nb0, Nb1 = ', 138, 162, 147, 153)\n",
        "('N = ', 300)\n",
        "('[pA,pB]=', [0.18411657239193879, 0.77288654309033944])\n",
        "('pAB = ', 0.54514)"
       ]
      },
      {
       "output_type": "stream",
       "stream": "stdout",
       "text": [
        "\n",
        "('pABfisher = ', 0.81686685741126153)\n",
        "('pABchi2 = ', 0.83841480538236868)\n"
       ]
      },
      {
       "metadata": {},
       "output_type": "pyout",
       "prompt_number": 248,
       "text": [
        "(0.18411657239193879,\n",
        " 0.77288654309033944,\n",
        " 0.54514,\n",
        " 0.83841480538236868,\n",
        " 0.81686685741126153)"
       ]
      }
     ],
     "prompt_number": 248
    },
    {
     "cell_type": "code",
     "collapsed": false,
     "input": [
      "reload(pvalues)\n",
      "import time\n",
      "#t0=time.time()\n",
      "#print pvalues.probEqOrSmallerPvalue(500000,np.array([53,79,62,51]),[.25,.25,.25,.25])\n",
      "t1=time.time()\n",
      "#print t1-t0\n",
      "print pvalues.probEqOrSmallerPvalue_nd(10000,np.array([4938847,4942101,4939328,4942337]),[.25,.25,.25,.25])\n",
      "t2=time.time()\n",
      "print t2-t1"
     ],
     "language": "python",
     "metadata": {},
     "outputs": [
      {
       "output_type": "stream",
       "stream": "stdout",
       "text": [
        "0.5688\n",
        "0.00699996948242\n"
       ]
      }
     ],
     "prompt_number": 218
    },
    {
     "cell_type": "code",
     "collapsed": false,
     "input": [
      "reload(pvalues)\n",
      "pvalues.DEBUG=True\n",
      "trials1=np.array([2362,1615,110,747,245,163], dtype=np.int)#19762613,11376036,9626984,\n",
      "trials2=np.array([2270,1540,72,106,730,228,132], dtype=np.int)#18115293,11479829,9727205,\n",
      "trials12=np.array([300], dtype=np.int)\n",
      "trials_all = np.hstack((trials1,trials2,trials12))\n",
      "ps_all=np.zeros((len(trials_all),2))\n",
      "for i,tr in enumerate(trials12):\n",
      "    print i\n",
      "    ps_all[i] = pvalues.probAtLeastOneBelowXX(10000, trials = tr)"
     ],
     "language": "python",
     "metadata": {},
     "outputs": [
      {
       "output_type": "stream",
       "stream": "stdout",
       "text": [
        "0\n",
        "10000\n",
        "0 "
       ]
      },
      {
       "output_type": "stream",
       "stream": "stdout",
       "text": [
        "1000 "
       ]
      },
      {
       "output_type": "stream",
       "stream": "stdout",
       "text": [
        "2000 "
       ]
      },
      {
       "output_type": "stream",
       "stream": "stdout",
       "text": [
        "3000 "
       ]
      },
      {
       "output_type": "stream",
       "stream": "stdout",
       "text": [
        "4000 "
       ]
      },
      {
       "output_type": "stream",
       "stream": "stdout",
       "text": [
        "5000 "
       ]
      },
      {
       "output_type": "stream",
       "stream": "stdout",
       "text": [
        "6000 "
       ]
      },
      {
       "output_type": "stream",
       "stream": "stdout",
       "text": [
        "7000 "
       ]
      },
      {
       "output_type": "stream",
       "stream": "stdout",
       "text": [
        "8000 "
       ]
      },
      {
       "output_type": "stream",
       "stream": "stdout",
       "text": [
        "9000 "
       ]
      },
      {
       "output_type": "stream",
       "stream": "stdout",
       "text": [
        "('n_sim,trials', 10000, 300)\n"
       ]
      }
     ],
     "prompt_number": 250
    },
    {
     "cell_type": "code",
     "collapsed": false,
     "input": [
      "for i,tr in enumerate(trials12):\n",
      "     print tr.sum(),',', ps_all[i,0], ',', ps_all[i,1]"
     ],
     "language": "python",
     "metadata": {},
     "outputs": [
      {
       "output_type": "stream",
       "stream": "stdout",
       "text": [
        "300 , 0.0177 , 0.1306\n"
       ]
      }
     ],
     "prompt_number": 251
    },
    {
     "cell_type": "code",
     "collapsed": false,
     "input": [
      "reload(pvalues)\n",
      "trials_list=np.array([2362,1615,110,747,245,163], dtype=np.int)\n",
      "pvalues.probAtLeastOneBelowTable(500, trials_list = trials_list)"
     ],
     "language": "python",
     "metadata": {},
     "outputs": [
      {
       "output_type": "stream",
       "stream": "stdout",
       "text": [
        "0 / 500\n",
        "5"
       ]
      },
      {
       "output_type": "stream",
       "stream": "stdout",
       "text": [
        " / 500\n",
        "10"
       ]
      },
      {
       "output_type": "stream",
       "stream": "stdout",
       "text": [
        " / 500\n",
        "15"
       ]
      },
      {
       "output_type": "stream",
       "stream": "stdout",
       "text": [
        " / 500\n",
        "20"
       ]
      },
      {
       "output_type": "stream",
       "stream": "stdout",
       "text": [
        " / 500\n",
        "25"
       ]
      },
      {
       "output_type": "stream",
       "stream": "stdout",
       "text": [
        " / 500\n",
        "30"
       ]
      },
      {
       "output_type": "stream",
       "stream": "stdout",
       "text": [
        " / 500\n",
        "35"
       ]
      },
      {
       "output_type": "stream",
       "stream": "stdout",
       "text": [
        " / 500\n",
        "40"
       ]
      },
      {
       "output_type": "stream",
       "stream": "stdout",
       "text": [
        " / 500\n",
        "45"
       ]
      },
      {
       "output_type": "stream",
       "stream": "stdout",
       "text": [
        " / 500\n",
        "50"
       ]
      },
      {
       "output_type": "stream",
       "stream": "stdout",
       "text": [
        " / 500\n",
        "55"
       ]
      },
      {
       "output_type": "stream",
       "stream": "stdout",
       "text": [
        " / 500\n",
        "60"
       ]
      },
      {
       "output_type": "stream",
       "stream": "stdout",
       "text": [
        " / 500\n",
        "65"
       ]
      },
      {
       "output_type": "stream",
       "stream": "stdout",
       "text": [
        " / 500\n",
        "70"
       ]
      },
      {
       "output_type": "stream",
       "stream": "stdout",
       "text": [
        " / 500\n",
        "75"
       ]
      },
      {
       "output_type": "stream",
       "stream": "stdout",
       "text": [
        " / 500\n",
        "80"
       ]
      },
      {
       "output_type": "stream",
       "stream": "stdout",
       "text": [
        " / 500\n",
        "85"
       ]
      },
      {
       "output_type": "stream",
       "stream": "stdout",
       "text": [
        " / 500\n",
        "90"
       ]
      },
      {
       "output_type": "stream",
       "stream": "stdout",
       "text": [
        " / 500\n",
        "95"
       ]
      },
      {
       "output_type": "stream",
       "stream": "stdout",
       "text": [
        " / 500\n",
        "100"
       ]
      },
      {
       "output_type": "stream",
       "stream": "stdout",
       "text": [
        " / 500\n",
        "105"
       ]
      },
      {
       "output_type": "stream",
       "stream": "stdout",
       "text": [
        " / 500\n",
        "110"
       ]
      },
      {
       "output_type": "stream",
       "stream": "stdout",
       "text": [
        " / 500\n",
        "115"
       ]
      },
      {
       "output_type": "stream",
       "stream": "stdout",
       "text": [
        " / 500\n",
        "120"
       ]
      },
      {
       "output_type": "stream",
       "stream": "stdout",
       "text": [
        " / 500\n",
        "125"
       ]
      },
      {
       "output_type": "stream",
       "stream": "stdout",
       "text": [
        " / 500\n",
        "130"
       ]
      },
      {
       "output_type": "stream",
       "stream": "stdout",
       "text": [
        " / 500\n",
        "135"
       ]
      },
      {
       "output_type": "stream",
       "stream": "stdout",
       "text": [
        " / 500\n",
        "140"
       ]
      },
      {
       "output_type": "stream",
       "stream": "stdout",
       "text": [
        " / 500\n",
        "145"
       ]
      },
      {
       "output_type": "stream",
       "stream": "stdout",
       "text": [
        " / 500\n",
        "150"
       ]
      },
      {
       "output_type": "stream",
       "stream": "stdout",
       "text": [
        " / 500\n",
        "155"
       ]
      },
      {
       "output_type": "stream",
       "stream": "stdout",
       "text": [
        " / 500\n",
        "160"
       ]
      },
      {
       "output_type": "stream",
       "stream": "stdout",
       "text": [
        " / 500\n",
        "165"
       ]
      },
      {
       "output_type": "stream",
       "stream": "stdout",
       "text": [
        " / 500\n",
        "170"
       ]
      },
      {
       "output_type": "stream",
       "stream": "stdout",
       "text": [
        " / 500\n",
        "175"
       ]
      },
      {
       "output_type": "stream",
       "stream": "stdout",
       "text": [
        " / 500\n",
        "180"
       ]
      },
      {
       "output_type": "stream",
       "stream": "stdout",
       "text": [
        " / 500\n",
        "185"
       ]
      },
      {
       "output_type": "stream",
       "stream": "stdout",
       "text": [
        " / 500\n",
        "190"
       ]
      },
      {
       "output_type": "stream",
       "stream": "stdout",
       "text": [
        " / 500\n",
        "195"
       ]
      },
      {
       "output_type": "stream",
       "stream": "stdout",
       "text": [
        " / 500\n",
        "200"
       ]
      },
      {
       "output_type": "stream",
       "stream": "stdout",
       "text": [
        " / 500\n",
        "205"
       ]
      },
      {
       "output_type": "stream",
       "stream": "stdout",
       "text": [
        " / 500\n",
        "210"
       ]
      },
      {
       "output_type": "stream",
       "stream": "stdout",
       "text": [
        " / 500\n",
        "215"
       ]
      },
      {
       "output_type": "stream",
       "stream": "stdout",
       "text": [
        " / 500\n",
        "220"
       ]
      },
      {
       "output_type": "stream",
       "stream": "stdout",
       "text": [
        " / 500\n",
        "225"
       ]
      },
      {
       "output_type": "stream",
       "stream": "stdout",
       "text": [
        " / 500\n",
        "230"
       ]
      },
      {
       "output_type": "stream",
       "stream": "stdout",
       "text": [
        " / 500\n",
        "235"
       ]
      },
      {
       "output_type": "stream",
       "stream": "stdout",
       "text": [
        " / 500\n",
        "240"
       ]
      },
      {
       "output_type": "stream",
       "stream": "stdout",
       "text": [
        " / 500\n",
        "245"
       ]
      },
      {
       "output_type": "stream",
       "stream": "stdout",
       "text": [
        " / 500\n",
        "250"
       ]
      },
      {
       "output_type": "stream",
       "stream": "stdout",
       "text": [
        " / 500\n",
        "255"
       ]
      },
      {
       "output_type": "stream",
       "stream": "stdout",
       "text": [
        " / 500\n",
        "260"
       ]
      },
      {
       "output_type": "stream",
       "stream": "stdout",
       "text": [
        " / 500\n",
        "265"
       ]
      },
      {
       "output_type": "stream",
       "stream": "stdout",
       "text": [
        " / 500\n",
        "270"
       ]
      },
      {
       "output_type": "stream",
       "stream": "stdout",
       "text": [
        " / 500\n",
        "275"
       ]
      },
      {
       "output_type": "stream",
       "stream": "stdout",
       "text": [
        " / 500\n",
        "280"
       ]
      },
      {
       "output_type": "stream",
       "stream": "stdout",
       "text": [
        " / 500\n",
        "285"
       ]
      },
      {
       "output_type": "stream",
       "stream": "stdout",
       "text": [
        " / 500\n",
        "290"
       ]
      },
      {
       "output_type": "stream",
       "stream": "stdout",
       "text": [
        " / 500\n",
        "295"
       ]
      },
      {
       "output_type": "stream",
       "stream": "stdout",
       "text": [
        " / 500\n",
        "300"
       ]
      },
      {
       "output_type": "stream",
       "stream": "stdout",
       "text": [
        " / 500\n",
        "305"
       ]
      },
      {
       "output_type": "stream",
       "stream": "stdout",
       "text": [
        " / 500\n",
        "310"
       ]
      },
      {
       "output_type": "stream",
       "stream": "stdout",
       "text": [
        " / 500\n",
        "315"
       ]
      },
      {
       "output_type": "stream",
       "stream": "stdout",
       "text": [
        " / 500\n",
        "320"
       ]
      },
      {
       "output_type": "stream",
       "stream": "stdout",
       "text": [
        " / 500\n",
        "325"
       ]
      },
      {
       "output_type": "stream",
       "stream": "stdout",
       "text": [
        " / 500\n",
        "330"
       ]
      },
      {
       "output_type": "stream",
       "stream": "stdout",
       "text": [
        " / 500\n",
        "335"
       ]
      },
      {
       "output_type": "stream",
       "stream": "stdout",
       "text": [
        " / 500\n",
        "340"
       ]
      },
      {
       "output_type": "stream",
       "stream": "stdout",
       "text": [
        " / 500\n",
        "345"
       ]
      },
      {
       "output_type": "stream",
       "stream": "stdout",
       "text": [
        " / 500\n",
        "350"
       ]
      },
      {
       "output_type": "stream",
       "stream": "stdout",
       "text": [
        " / 500\n",
        "355"
       ]
      },
      {
       "output_type": "stream",
       "stream": "stdout",
       "text": [
        " / 500\n",
        "360"
       ]
      },
      {
       "output_type": "stream",
       "stream": "stdout",
       "text": [
        " / 500\n",
        "365"
       ]
      },
      {
       "output_type": "stream",
       "stream": "stdout",
       "text": [
        " / 500\n",
        "370"
       ]
      },
      {
       "output_type": "stream",
       "stream": "stdout",
       "text": [
        " / 500\n",
        "375"
       ]
      },
      {
       "output_type": "stream",
       "stream": "stdout",
       "text": [
        " / 500\n",
        "380"
       ]
      },
      {
       "output_type": "stream",
       "stream": "stdout",
       "text": [
        " / 500\n",
        "385"
       ]
      },
      {
       "output_type": "stream",
       "stream": "stdout",
       "text": [
        " / 500\n",
        "390"
       ]
      },
      {
       "output_type": "stream",
       "stream": "stdout",
       "text": [
        " / 500\n",
        "395"
       ]
      },
      {
       "output_type": "stream",
       "stream": "stdout",
       "text": [
        " / 500\n",
        "400"
       ]
      },
      {
       "output_type": "stream",
       "stream": "stdout",
       "text": [
        " / 500\n",
        "405"
       ]
      },
      {
       "output_type": "stream",
       "stream": "stdout",
       "text": [
        " / 500\n",
        "410"
       ]
      },
      {
       "output_type": "stream",
       "stream": "stdout",
       "text": [
        " / 500\n",
        "415"
       ]
      },
      {
       "output_type": "stream",
       "stream": "stdout",
       "text": [
        " / 500\n",
        "420"
       ]
      },
      {
       "output_type": "stream",
       "stream": "stdout",
       "text": [
        " / 500\n",
        "425"
       ]
      },
      {
       "output_type": "stream",
       "stream": "stdout",
       "text": [
        " / 500\n",
        "430"
       ]
      },
      {
       "output_type": "stream",
       "stream": "stdout",
       "text": [
        " / 500\n",
        "435"
       ]
      },
      {
       "output_type": "stream",
       "stream": "stdout",
       "text": [
        " / 500\n",
        "440"
       ]
      },
      {
       "output_type": "stream",
       "stream": "stdout",
       "text": [
        " / 500\n",
        "445"
       ]
      },
      {
       "output_type": "stream",
       "stream": "stdout",
       "text": [
        " / 500\n",
        "450"
       ]
      },
      {
       "output_type": "stream",
       "stream": "stdout",
       "text": [
        " / 500\n",
        "455"
       ]
      },
      {
       "output_type": "stream",
       "stream": "stdout",
       "text": [
        " / 500\n",
        "460"
       ]
      },
      {
       "output_type": "stream",
       "stream": "stdout",
       "text": [
        " / 500\n",
        "465"
       ]
      },
      {
       "output_type": "stream",
       "stream": "stdout",
       "text": [
        " / 500\n",
        "470"
       ]
      },
      {
       "output_type": "stream",
       "stream": "stdout",
       "text": [
        " / 500\n",
        "475"
       ]
      },
      {
       "output_type": "stream",
       "stream": "stdout",
       "text": [
        " / 500\n",
        "480"
       ]
      },
      {
       "output_type": "stream",
       "stream": "stdout",
       "text": [
        " / 500\n",
        "485"
       ]
      },
      {
       "output_type": "stream",
       "stream": "stdout",
       "text": [
        " / 500\n",
        "490"
       ]
      },
      {
       "output_type": "stream",
       "stream": "stdout",
       "text": [
        " / 500\n",
        "495"
       ]
      },
      {
       "output_type": "stream",
       "stream": "stdout",
       "text": [
        " / 500\n"
       ]
      },
      {
       "metadata": {},
       "output_type": "pyout",
       "prompt_number": 167,
       "text": [
        "(0.0119, 0.11066666666666666)"
       ]
      }
     ],
     "prompt_number": 167
    },
    {
     "cell_type": "code",
     "collapsed": false,
     "input": [
      "trials_list[::-1]"
     ],
     "language": "python",
     "metadata": {},
     "outputs": [
      {
       "metadata": {},
       "output_type": "pyout",
       "prompt_number": 164,
       "text": [
        "array([2362, 1615,  747,  245,  163,  110])"
       ]
      }
     ],
     "prompt_number": 164
    },
    {
     "cell_type": "code",
     "collapsed": false,
     "input": [
      "trials_list.sort?"
     ],
     "language": "python",
     "metadata": {},
     "outputs": [],
     "prompt_number": 163
    },
    {
     "cell_type": "code",
     "collapsed": false,
     "input": [
      "\\"
     ],
     "language": "python",
     "metadata": {},
     "outputs": []
    }
   ],
   "metadata": {}
  }
 ]
}