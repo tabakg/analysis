{
 "metadata": {
  "name": "",
  "signature": ""
 },
 "nbformat": 3,
 "nbformat_minor": 0,
 "worksheets": [
  {
   "cells": [
    {
     "cell_type": "heading",
     "level": 1,
     "metadata": {},
     "source": [
      "Nuclear spin environment fingerprinting analysis"
     ]
    },
    {
     "cell_type": "code",
     "collapsed": false,
     "input": [
      "import sys\n",
      "import os\n",
      "sys.path.append(r'D:/measuring')\n",
      "sys.path.append(r'D:/measuring/analysis')\n",
      "sys.path.append(r'D:/measuring/analysis/scripts/QEC')\n",
      "sys.path.append(r'D:/measuring/analysis/scripts/QEC_data_analysis/fingerprints/')\n"
     ],
     "language": "python",
     "metadata": {},
     "outputs": []
    },
    {
     "cell_type": "heading",
     "level": 2,
     "metadata": {},
     "source": [
      "Basic data (still make some nice function)"
     ]
    },
    {
     "cell_type": "code",
     "collapsed": false,
     "input": [
      "import analysis.scripts.mbi.mbi_electron_decoupling_analysis as DD; reload(DD)\n",
      "import Fingerprint_analysis as fp; reload(fp)\n",
      "\n",
      "fp.fingerprint_single(disp_sim_spin = True,n_sim_spins = 0,xrange = [2.0,3.0],tag = 'short_tau_111_1_sil1832', \n",
      "                      step_size = 4e-3,start = 0, tot = 5,pts = 41,start_tau = 2.1,\n",
      "                       older_than = '20150730_160000',return_data = False)"
     ],
     "language": "python",
     "metadata": {},
     "outputs": []
    },
    {
     "cell_type": "code",
     "collapsed": false,
     "input": [
      "import analysis.scripts.mbi.mbi_electron_decoupling_analysis as DD; reload(DD)\n",
      "fit_results = DD.electron_DD_analysis(timestamp='20150307_151350', measurement_name = ['ssro_results'], show_guess = False, plot_fit = False)"
     ],
     "language": "python",
     "metadata": {},
     "outputs": []
    },
    {
     "cell_type": "heading",
     "level": 2,
     "metadata": {},
     "source": [
      "Fingerprint Data Merged, ms=+1 at ~300 G"
     ]
    },
    {
     "cell_type": "code",
     "collapsed": false,
     "input": [
      "import fingerprint_analysis_N8 as fp8; reload(fp8)\n",
      "fp8.fingerprint()"
     ],
     "language": "python",
     "metadata": {},
     "outputs": []
    },
    {
     "cell_type": "code",
     "collapsed": false,
     "input": [
      "import fingerprint_analysis_N16 as fp16; reload(fp16)\n",
      "fp16.fingerprint()"
     ],
     "language": "python",
     "metadata": {},
     "outputs": []
    },
    {
     "cell_type": "code",
     "collapsed": false,
     "input": [
      "import fingerprint_analysis_N32 as fp32; reload(fp32)\n",
      "fp32.fingerprint()"
     ],
     "language": "python",
     "metadata": {},
     "outputs": []
    },
    {
     "cell_type": "code",
     "collapsed": false,
     "input": [
      "import fingerprint_analysis_N64 as fp64; reload(fp64)\n",
      "fp64.fingerprint()"
     ],
     "language": "python",
     "metadata": {},
     "outputs": []
    },
    {
     "cell_type": "heading",
     "level": 2,
     "metadata": {},
     "source": [
      "Fingerprint Data Merged, ms=-1 at ~300 G"
     ]
    },
    {
     "cell_type": "code",
     "collapsed": false,
     "input": [
      "import fingerprint_analysis_N16_msm1 as fp16_m1; reload(fp16_m1)\n",
      "fp16_m1.fingerprint(RO = 'x')"
     ],
     "language": "python",
     "metadata": {},
     "outputs": []
    },
    {
     "cell_type": "code",
     "collapsed": false,
     "input": [
      "import fingerprint_analysis_N32_msm1 as fp32_m1; reload(fp32_m1)\n",
      "fp32_m1.fingerprint(disp_sim_spin = True)"
     ],
     "language": "python",
     "metadata": {},
     "outputs": []
    },
    {
     "cell_type": "code",
     "collapsed": false,
     "input": [
      "import fingerprint_analysis_N64_msm1 as fp64_m1; reload(fp64_m1)\n",
      "fp64_m1.fingerprint(disp_sim_spin = True)"
     ],
     "language": "python",
     "metadata": {},
     "outputs": []
    },
    {
     "cell_type": "heading",
     "level": 2,
     "metadata": {},
     "source": [
      "Sample 111 nr1, sil 18, ms=-1"
     ]
    },
    {
     "cell_type": "code",
     "collapsed": false,
     "input": [
      "#sys.path.append(r'D:/measuring/analysis/scripts/QEC_data_analysis/fingerprints/')\n",
      "from nr1_sil18 import fingerprint_analysis_N16 as fp16; reload(fp16)\n",
      "fp16.fingerprint()#xrange=[6.2,6.4])"
     ],
     "language": "python",
     "metadata": {},
     "outputs": []
    },
    {
     "cell_type": "code",
     "collapsed": false,
     "input": [
      "from nr1_sil18 import fingerprint_analysis_N32 as fp32; reload(fp32)\n",
      "# fp32.fingerprint(xrange=[0,20])\n",
      "# from nr1_sil18 import fingerprint_analysis_N32 as fp32; reload(fp32)\n",
      "fp32.fingerprint(xrange=[8.0,11.0])"
     ],
     "language": "python",
     "metadata": {},
     "outputs": []
    },
    {
     "cell_type": "code",
     "collapsed": false,
     "input": [
      "from nr1_sil18 import fingerprint_analysis_N64 as fp64; reload(fp64)\n",
      "fp64.fingerprint(xrange=[4.9,5.1])"
     ],
     "language": "python",
     "metadata": {},
     "outputs": []
    },
    {
     "cell_type": "code",
     "collapsed": false,
     "input": [
      "from nr1_sil18 import fingerprint_analysis_N32 as fp32; reload(fp32)\n",
      "fp32.fingerprint(xrange=[4.95,5.05])"
     ],
     "language": "python",
     "metadata": {},
     "outputs": []
    },
    {
     "cell_type": "code",
     "collapsed": false,
     "input": [],
     "language": "python",
     "metadata": {},
     "outputs": []
    }
   ],
   "metadata": {}
  }
 ]
}
