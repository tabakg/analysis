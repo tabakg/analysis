{
 "cells": [
  {
   "cell_type": "code",
   "execution_count": 1,
   "metadata": {
    "collapsed": false
   },
   "outputs": [
    {
     "data": {
      "text/plain": [
       "1199.169832"
      ]
     },
     "execution_count": 1,
     "metadata": {},
     "output_type": "execute_result"
    }
   ],
   "source": [
    "299792458*4e-6"
   ]
  },
  {
   "cell_type": "code",
   "execution_count": 16,
   "metadata": {
    "collapsed": false
   },
   "outputs": [],
   "source": [
    "sys.path.append(r'H:\\My Documents\\scripts')"
   ]
  },
  {
   "cell_type": "code",
   "execution_count": 24,
   "metadata": {
    "collapsed": false
   },
   "outputs": [
    {
     "name": "stdout",
     "output_type": "stream",
     "text": [
      "d:\\measuring\\data\n"
     ]
    }
   ],
   "source": [
    "execfile(r'D:\\measuring\\analysis\\scripts\\setup_analysis.py')\n",
    "%matplotlib inline"
   ]
  },
  {
   "cell_type": "code",
   "execution_count": 7,
   "metadata": {
    "collapsed": false
   },
   "outputs": [],
   "source": [
    "folder = r'X:\\data\\20160525\\184753_length_scan_FSR_-2-10V_high_intensity_morepoints'\n",
    "fp=tb.get_msmt_fp(folder)"
   ]
  },
  {
   "cell_type": "code",
   "execution_count": 8,
   "metadata": {
    "collapsed": true
   },
   "outputs": [],
   "source": [
    "f =h5py.File(fp)"
   ]
  },
  {
   "cell_type": "code",
   "execution_count": 22,
   "metadata": {
    "collapsed": false
   },
   "outputs": [
    {
     "data": {
      "text/plain": [
       "[u'PD_signal', u'piezo_voltage']"
      ]
     },
     "execution_count": 22,
     "metadata": {},
     "output_type": "execute_result"
    }
   ],
   "source": [
    "ks=f.keys()\n",
    "g=f[ks[1]]\n",
    "g.keys()"
   ]
  },
  {
   "cell_type": "code",
   "execution_count": 28,
   "metadata": {
    "collapsed": false
   },
   "outputs": [
    {
     "data": {
      "text/plain": [
       "[<matplotlib.lines.Line2D at 0xc67b7f0>]"
      ]
     },
     "execution_count": 28,
     "metadata": {},
     "output_type": "execute_result"
    },
    {
     "data": {
      "image/png": "[encoded data removed]",
      "text/plain": [
       "<matplotlib.figure.Figure at 0xc4c12f0>"
      ]
     },
     "metadata": {},
     "output_type": "display_data"
    }
   ],
   "source": [
    "y = g['PD_signal'].value\n",
    "x=g['piezo_voltage'].value\n",
    "plt.plot(x,y)"
   ]
  },
  {
   "cell_type": "code",
   "execution_count": 34,
   "metadata": {
    "collapsed": false
   },
   "outputs": [
    {
     "data": {
      "text/plain": [
       "[<matplotlib.lines.Line2D at 0xca301b0>]"
      ]
     },
     "execution_count": 34,
     "metadata": {},
     "output_type": "execute_result"
    },
    {
     "data": {
      "image/png": "[encoded data removed]",
      "text/plain": [
       "<matplotlib.figure.Figure at 0xcae0570>"
      ]
     },
     "metadata": {},
     "output_type": "display_data"
    }
   ],
   "source": [
    "zeromodes = x[y>0.5]\n",
    "l=637\n",
    "res=np.arange(len(zeromodes))*l/2.\n",
    "plt.plot(zeromodes,res, 'o')\n",
    "\n"
   ]
  },
  {
   "cell_type": "code",
   "execution_count": 37,
   "metadata": {
    "collapsed": false
   },
   "outputs": [
    {
     "name": "stdout",
     "output_type": "stream",
     "text": [
      "Converged with chi squared  1949.50059902\n",
      "degrees of freedom, dof  7\n",
      "RMS of residuals (i.e. sqrt(chisq/dof))  16.6883218322\n",
      "Reduced chisq (i.e. variance of residuals)  278.500085574\n",
      "\n",
      "fitted parameters at minimum, with 68% C.I.:\n",
      " 0 a           -319.470996 +/-  12.131156\n",
      " 1 b            307.269684 +/-   2.078820\n",
      "\n",
      "correlation matrix:\n",
      "               a         b         \n",
      "         a  1.000000\n",
      "         b -0.888667  1.000000\n",
      "\n"
     ]
    },
    {
     "name": "stderr",
     "output_type": "stream",
     "text": [
      "d:/measuring\\analysis\\lib\\fitting\\fit.py:91: FutureWarning: comparison to `None` will result in an elementwise object comparison in the future.\n",
      "  if not success or cov == None: # FIXME: find a better solution!!!\n"
     ]
    }
   ],
   "source": [
    "xfit=zeromodes[zeromodes>0]\n",
    "yfit = np.arange(len(xfit))*l/2.\n",
    "f = common.fit_line\n",
    "guess = [0,300]\n",
    "fitres = fit.fit1d(xfit,yfit,f,*guess, ret=True, do_plot=True, do_print=True)"
   ]
  },
  {
   "cell_type": "code",
   "execution_count": null,
   "metadata": {
    "collapsed": true
   },
   "outputs": [],
   "source": [
    "fitres = fit.fit1d"
   ]
  },
  {
   "cell_type": "code",
   "execution_count": 42,
   "metadata": {
    "collapsed": false
   },
   "outputs": [
    {
     "name": "stdout",
     "output_type": "stream",
     "text": [
      "eta, pflip: 0.208216216216 0.0163636363636\n"
     ]
    },
    {
     "data": {
      "text/plain": [
       "(0.9414192475044791, 12.724324324324325)"
      ]
     },
     "execution_count": 42,
     "metadata": {},
     "output_type": "execute_result"
    }
   ],
   "source": [
    "from analysis.lib.nv import detection\n",
    "detection.get_Ey_vs_strain_saturation(4,1.2*1250e3)"
   ]
  },
  {
   "cell_type": "code",
   "execution_count": 36,
   "metadata": {
    "collapsed": false
   },
   "outputs": [
    {
     "name": "stdout",
     "output_type": "stream",
     "text": [
      "transitions kw deprecated, use function get_transitions instead\n"
     ]
    },
    {
     "data": {
      "text/plain": [
       "array([ 62.99396005,  63.10070981,  68.15529468,  72.24357007,\n",
       "        72.93874527,  75.91372012])"
      ]
     },
     "execution_count": 36,
     "metadata": {},
     "output_type": "execute_result"
    }
   ],
   "source": [
    "from analysis.lib.nv import nvlevels\n",
    "nvlevels.get_ES_ExEy(68.16,72.25)"
   ]
  },
  {
   "cell_type": "code",
   "execution_count": 1,
   "metadata": {
    "collapsed": false
   },
   "outputs": [],
   "source": [
    "from scipy.stats import fisher_exact"
   ]
  },
  {
   "cell_type": "code",
   "execution_count": 6,
   "metadata": {
    "collapsed": false
   },
   "outputs": [
    {
     "data": {
      "text/plain": [
       "(0.80712788259958068, 0.024061101048130428)"
      ]
     },
     "execution_count": 6,
     "metadata": {},
     "output_type": "execute_result"
    }
   ],
   "source": [
    "fisher_exact(np.array([[343,441],[530,550]]))"
   ]
  },
  {
   "cell_type": "code",
   "execution_count": 45,
   "metadata": {
    "collapsed": false
   },
   "outputs": [
    {
     "data": {
      "text/plain": [
       "(0.9428264157082006, 13.42520107238606)"
      ]
     },
     "execution_count": 45,
     "metadata": {},
     "output_type": "execute_result"
    }
   ],
   "source": [
    "detection.get_SSRO_stats(detection.get_pflip(2),detection.get_eta(1350e3))"
   ]
  },
  {
   "cell_type": "code",
   "execution_count": 150,
   "metadata": {
    "collapsed": false
   },
   "outputs": [
    {
     "data": {
      "text/plain": [
       "<module 'analysis.lib.nv.detection' from 'analysis\\lib\\nv\\detection.pyc'>"
      ]
     },
     "execution_count": 150,
     "metadata": {},
     "output_type": "execute_result"
    }
   ],
   "source": [
    "from analysis.lib.nv import nvlevels\n",
    "reload(nvlevels)\n",
    "from analysis.lib.nv import detection\n",
    "reload(detection)"
   ]
  },
  {
   "cell_type": "code",
   "execution_count": 184,
   "metadata": {
    "collapsed": false
   },
   "outputs": [
    {
     "data": {
      "text/plain": [
       "[<matplotlib.lines.Line2D at 0x920eeb0>]"
      ]
     },
     "execution_count": 184,
     "metadata": {},
     "output_type": "execute_result"
    },
    {
     "data": {
      "image/png": "[encoded data removed]",
      "text/plain": [
       "<matplotlib.figure.Figure at 0xa1fe9f0>"
      ]
     },
     "metadata": {},
     "output_type": "display_data"
    }
   ],
   "source": [
    "strain_splitting=0.\n",
    "pts=100\n",
    "x = np.linspace(0,14,pts)\n",
    "y1=zeros(pts)\n",
    "y2=zeros(pts)\n",
    "for i,strain_splitting in enumerate(x):\n",
    "    ytmp = 0\n",
    "    #for angle in np.linspace(0,120,pts):\n",
    "    #    ytmp = ytmp + (1-nvlevels.get_ms0_fraction(strain_splitting,2,theta_x=angle))+0.01\n",
    "    y1[i]=1./(1-nvlevels.get_ms0_fraction(strain_splitting,2,theta_x=20)+0.0095)\n",
    "    y2[i] = 1./detection.get_pflip_Ey(strain_splitting)\n",
    "plt.plot(x,y1)\n",
    "plt.plot(x,y2)"
   ]
  },
  {
   "cell_type": "code",
   "execution_count": 53,
   "metadata": {
    "collapsed": false
   },
   "outputs": [],
   "source": [
    "strain_splitting=2.\n",
    "w,v=nvlevels.get_ES(E_field=[strain_splitting/2.,0,0],Ee0=0-1.94,transitions=False)"
   ]
  },
  {
   "cell_type": "code",
   "execution_count": 73,
   "metadata": {
    "collapsed": false
   },
   "outputs": [],
   "source": [
    "w2,v2=np.sort(w),np.transpose(v)[numpy.argsort(w)]"
   ]
  },
  {
   "cell_type": "code",
   "execution_count": 104,
   "metadata": {
    "collapsed": false
   },
   "outputs": [
    {
     "data": {
      "text/plain": [
       "1.0"
      ]
     },
     "execution_count": 104,
     "metadata": {},
     "output_type": "execute_result"
    }
   ],
   "source": [
    "strain_splitting/2*np.sin(90/180.*np.pi)"
   ]
  },
  {
   "cell_type": "code",
   "execution_count": 70,
   "metadata": {
    "collapsed": false
   },
   "outputs": [
    {
     "data": {
      "text/plain": [
       "matrix([[  9.95878326e-01+0.j,   8.15181484e-02+0.j,   3.97636853e-02+0.j,\n",
       "           4.66022331e-15+0.j,  -8.96622337e-19+0.j,  -2.84109950e-18-0.j],\n",
       "        [ -3.02270645e-17-0.j,  -7.29001028e-18-0.j,  -4.86905938e-17-0.j,\n",
       "           9.91936786e-01+0.j,  -1.08608227e-01+0.j,   6.53120699e-02+0.j],\n",
       "        [ -4.00776049e-02-0.j,   2.21764066e-03+0.j,   9.99194109e-01+0.j,\n",
       "          -2.00606027e-16+0.j,   4.89222096e-18+0.j,  -1.70367540e-18-0.j],\n",
       "        [  1.13662087e-18+0.j,  -7.75177137e-18-0.j,   3.86540345e-17+0.j,\n",
       "          -6.60774405e-02+0.j,  -3.45927102e-03+0.j,   9.97808501e-01+0.j],\n",
       "        [ -4.57631655e-18-0.j,   8.03886913e-17+0.j,   1.83876715e-16+0.j,\n",
       "           1.08144280e-01+0.j,   9.94078612e-01+0.j,   1.06079318e-02+0.j],\n",
       "        [ -8.13642721e-02-0.j,   9.96669390e-01+0.j,  -5.47555241e-03-0.j,\n",
       "          -3.16082638e-16+0.j,  -9.70994154e-18+0.j,   1.91980613e-18+0.j]])"
      ]
     },
     "execution_count": 70,
     "metadata": {},
     "output_type": "execute_result"
    }
   ],
   "source": [
    "v"
   ]
  },
  {
   "cell_type": "code",
   "execution_count": 71,
   "metadata": {
    "collapsed": false
   },
   "outputs": [],
   "source": [
    "np.linalg.eig?"
   ]
  },
  {
   "cell_type": "code",
   "execution_count": 76,
   "metadata": {
    "collapsed": false
   },
   "outputs": [
    {
     "data": {
      "text/plain": [
       "matrix([[  9.95878326e-01+0.j,  -3.02270645e-17-0.j,  -4.00776049e-02-0.j,\n",
       "           1.13662087e-18+0.j,  -4.57631655e-18-0.j,  -8.13642721e-02-0.j],\n",
       "        [  8.15181484e-02+0.j,  -7.29001028e-18-0.j,   2.21764066e-03+0.j,\n",
       "          -7.75177137e-18-0.j,   8.03886913e-17+0.j,   9.96669390e-01+0.j],\n",
       "        [  3.97636853e-02+0.j,  -4.86905938e-17-0.j,   9.99194109e-01+0.j,\n",
       "           3.86540345e-17+0.j,   1.83876715e-16+0.j,  -5.47555241e-03-0.j],\n",
       "        [  4.66022331e-15+0.j,   9.91936786e-01+0.j,  -2.00606027e-16+0.j,\n",
       "          -6.60774405e-02+0.j,   1.08144280e-01+0.j,  -3.16082638e-16+0.j],\n",
       "        [ -8.96622337e-19+0.j,  -1.08608227e-01+0.j,   4.89222096e-18+0.j,\n",
       "          -3.45927102e-03+0.j,   9.94078612e-01+0.j,  -9.70994154e-18+0.j],\n",
       "        [ -2.84109950e-18-0.j,   6.53120699e-02+0.j,  -1.70367540e-18-0.j,\n",
       "           9.97808501e-01+0.j,   1.06079318e-02+0.j,   1.91980613e-18+0.j]])"
      ]
     },
     "execution_count": 76,
     "metadata": {},
     "output_type": "execute_result"
    }
   ],
   "source": [
    "np.transpose(v)"
   ]
  },
  {
   "cell_type": "code",
   "execution_count": 24,
   "metadata": {
    "collapsed": false
   },
   "outputs": [
    {
     "name": "stdout",
     "output_type": "stream",
     "text": [
      "H:\\My Documents\\scripts\n"
     ]
    }
   ],
   "source": [
    "cd .."
   ]
  },
  {
   "cell_type": "code",
   "execution_count": 35,
   "metadata": {
    "collapsed": false
   },
   "outputs": [
    {
     "name": "stdout",
     "output_type": "stream",
     "text": [
      "Calculating data for fidelity graph\n",
      "All necessary data calculated\n"
     ]
    },
    {
     "data": {
      "image/png": "[encoded data removed]",
      "text/plain": [
       "<matplotlib.figure.Figure at 0x9480cd0>"
      ]
     },
     "metadata": {},
     "output_type": "display_data"
    },
    {
     "data": {
      "image/png": "[encoded data removed]",
      "text/plain": [
       "<matplotlib.figure.Figure at 0x9c769f0>"
      ]
     },
     "metadata": {},
     "output_type": "display_data"
    }
   ],
   "source": [
    "execfile(r'H:\\My Documents\\scripts\\analysis\\scripts\\bell\\Optimal_angles_just_one_angle_fixed_v2.py')"
   ]
  },
  {
   "cell_type": "code",
   "execution_count": 32,
   "metadata": {
    "collapsed": false
   },
   "outputs": [],
   "source": [
    "def C1(a,b,x,y):\n",
    "    return (np.bitwise_xor((-1)**(np.bitwise_xor(a,1)*np.bitwise_xor(b,1))*x*y,1))/2.\n",
    "def C2(a,b,x,y):\n",
    "    return ((-1)**(a*b)*x*y+1)/2\n",
    "rnd=[[0,0],[0,1],[1,0],[1,1]]\n",
    "ro=[[-1,-1],[-1,1],[1,-1],[1,1]]"
   ]
  },
  {
   "cell_type": "code",
   "execution_count": 33,
   "metadata": {
    "collapsed": false
   },
   "outputs": [
    {
     "name": "stdout",
     "output_type": "stream",
     "text": [
      "[[ 1.  0.  0.  1.]\n",
      " [ 1.  0.  0.  1.]\n",
      " [ 1.  0.  0.  1.]\n",
      " [ 0.  1.  1.  0.]]\n"
     ]
    }
   ],
   "source": [
    "C=np.zeros((4,4))\n",
    "for i,r in enumerate(rnd):\n",
    "    for j,o in enumerate(ro):\n",
    "        H=(r[0],r[1],o[0],o[1])\n",
    "        C[i,j]=C2(*H)\n",
    "print C"
   ]
  },
  {
   "cell_type": "code",
   "execution_count": 2,
   "metadata": {
    "collapsed": false
   },
   "outputs": [
    {
     "data": {
      "text/plain": [
       "1"
      ]
     },
     "execution_count": 2,
     "metadata": {},
     "output_type": "execute_result"
    }
   ],
   "source": [
    "(-1)**False"
   ]
  },
  {
   "cell_type": "code",
   "execution_count": 4,
   "metadata": {
    "collapsed": false
   },
   "outputs": [
    {
     "data": {
      "text/plain": [
       "0"
      ]
     },
     "execution_count": 4,
     "metadata": {},
     "output_type": "execute_result"
    }
   ],
   "source": [
    "False*True"
   ]
  },
  {
   "cell_type": "code",
   "execution_count": null,
   "metadata": {
    "collapsed": false
   },
   "outputs": [],
   "source": []
  }
 ],
 "metadata": {
  "kernelspec": {
   "display_name": "Python 2",
   "language": "python",
   "name": "python2"
  },
  "language_info": {
   "codemirror_mode": {
    "name": "ipython",
    "version": 2
   },
   "file_extension": ".py",
   "mimetype": "text/x-python",
   "name": "python",
   "nbconvert_exporter": "python",
   "pygments_lexer": "ipython2",
   "version": "2.7.3"
  }
 },
 "nbformat": 4,
 "nbformat_minor": 0
}
