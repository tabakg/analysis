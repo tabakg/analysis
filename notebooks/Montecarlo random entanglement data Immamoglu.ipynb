{
 "metadata": {
  "name": "",
  "signature": "sha256:d067f34a535d7bbd0ca3f4908566e77489a8dd83f38d35f322ae8fe4ba63e394"
 },
 "nbformat": 3,
 "nbformat_minor": 0,
 "worksheets": [
  {
   "cells": [
    {
     "cell_type": "code",
     "collapsed": false,
     "input": [
      "execfile(r'D:\\measuring\\analysis\\scripts\\setup_analysis.py')\n",
      "from analysis.lib.fitting import fit, common\n",
      "import inspect"
     ],
     "language": "python",
     "metadata": {},
     "outputs": [
      {
       "output_type": "stream",
       "stream": "stdout",
       "text": [
        "d:\\measuring\\data\n"
       ]
      }
     ],
     "prompt_number": 7
    },
    {
     "cell_type": "code",
     "collapsed": false,
     "input": [
      "f = common.fit_cos\n",
      "args=arange(len(inspect.getargspec(f)[0]))\n",
      "print f(*args)[2]\n",
      "print inspect.getargspec(f)[0]"
     ],
     "language": "python",
     "metadata": {},
     "outputs": [
      {
       "output_type": "stream",
       "stream": "stdout",
       "text": [
        "A * cos(2pi * (f*x + phi/360) ) + a\n",
        "['g_f', 'g_a', 'g_A', 'g_phi']\n"
       ]
      }
     ],
     "prompt_number": 8
    },
    {
     "cell_type": "code",
     "collapsed": false,
     "input": [
      "d=np.loadtxt(r'D:\\bjhensen\\Desktop\\Imamoglu_entanglement.txt', skiprows=1, delimiter=',')"
     ],
     "language": "python",
     "metadata": {},
     "outputs": [],
     "prompt_number": 12
    },
    {
     "cell_type": "code",
     "collapsed": false,
     "input": [
      "x=d[0:8,0]\n",
      "y=d[0:8,1]\n",
      "dy=d[8:,1]-y\n",
      "print x, y, dy\n",
      "args=[0.2,0.5,0.1,-100.]\n",
      "fitres = fit.fit1d(x, y, f, *args, fixed = [],\n",
      "                   do_print = True, ret = True)"
     ],
     "language": "python",
     "metadata": {},
     "outputs": [
      {
       "output_type": "stream",
       "stream": "stdout",
       "text": [
        "[-0.0111  0.9868  2.003   2.9828  3.9808  4.9788  5.995   7.0111] [ 0.5034  0.5931  0.5489  0.3598  0.3683  0.5765  0.6157  0.4748] [ 0.068   0.0746  0.0724  0.0593  0.0593  0.0724  0.0768  0.0638]\n",
        "Converged with chi squared  0.00203634888957\n",
        "degrees of freedom, dof  4\n",
        "RMS of residuals (i.e. sqrt(chisq/dof))  0.0225629612948\n",
        "Reduced chisq (i.e. variance of residuals)  0.000509087222392\n",
        "\n",
        "fitted parameters at minimum, with 68% C.I.:\n",
        " 0 f              0.214766 +/-   0.005000\n",
        " 1 a              0.484454 +/-   0.008638\n",
        " 2 A              0.140852 +/-   0.012417\n",
        " 3 phi          -85.253549 +/-   7.612827\n",
        "\n",
        "correlation matrix:\n",
        "               f         a         A         phi       \n",
        "         f  1.000000\n",
        "         a  0.320140  1.000000\n",
        "         A -0.043458 -0.224435  1.000000\n",
        "       phi -0.823235 -0.249558  0.016469  1.000000\n",
        "\n"
       ]
      }
     ],
     "prompt_number": 43
    },
    {
     "cell_type": "code",
     "collapsed": false,
     "input": [
      "p1 = fitres['params_dict']\n",
      "plt.plot(x,y, 'o')\n",
      "plot_pts=10000\n",
      "x_p=np.linspace(min(x),max(x),plot_pts)\n",
      "f_p = fitres['fitfunc'](x_p)\n",
      "plt.plot(x_p,f_p)\n",
      "\n",
      "f_g = f(*args)[1](x_p)\n",
      "plt.plot(x_p,f_g,'r')"
     ],
     "language": "python",
     "metadata": {},
     "outputs": [
      {
       "metadata": {},
       "output_type": "pyout",
       "prompt_number": 46,
       "text": [
        "[<matplotlib.lines.Line2D at 0x8144730>]"
       ]
      },
      {
       "metadata": {},
       "output_type": "display_data",
       "png": "[encoded data removed]",
       "text": [
        "<matplotlib.figure.Figure at 0x81253d0>"
       ]
      }
     ],
     "prompt_number": 46
    },
    {
     "cell_type": "code",
     "collapsed": false,
     "input": [
      "pts = 10000\n",
      "exp_pts = 8\n",
      "mu=0.5\n",
      "sig = 0.07\n",
      "xs=np.arange(0,8)\n",
      "ys=np.zeros((pts,exp_pts))\n",
      "As=np.zeros(pts)\n",
      "fs=np.zeros(pts)\n",
      "fits=[]\n",
      "for i in range(pts):\n",
      "    ys[i]=np.random.normal(mu,sig,exp_pts)\n",
      "    fitres = fit.fit1d(xs, ys[i], f, *args, fixed = [],\n",
      "                   do_print = False, ret = True)\n",
      "    fits.append(fitres)\n",
      "    if fitres['success']:\n",
      "        As[i] = fitres['params_dict']['A']\n",
      "        fs[i] = fitres['params_dict']['f']"
     ],
     "language": "python",
     "metadata": {},
     "outputs": [],
     "prompt_number": 77
    },
    {
     "cell_type": "code",
     "collapsed": false,
     "input": [
      "plt.hist(2*As[(fs>0.1) & (fs <0.5)], bins = np.linspace(0,0.5,10))"
     ],
     "language": "python",
     "metadata": {},
     "outputs": [
      {
       "metadata": {},
       "output_type": "pyout",
       "prompt_number": 78,
       "text": [
        "(array([  247.,  1826.,  2302.,   951.,   203.,    22.,     0.,     0.,\n",
        "            0.]),\n",
        " array([ 0.        ,  0.05555556,  0.11111111,  0.16666667,  0.22222222,\n",
        "         0.27777778,  0.33333333,  0.38888889,  0.44444444,  0.5       ]),\n",
        " <a list of 9 Patch objects>)"
       ]
      },
      {
       "metadata": {},
       "output_type": "display_data",
       "png": "[encoded data removed]",
       "text": [
        "<matplotlib.figure.Figure at 0xadef050>"
       ]
      }
     ],
     "prompt_number": 78
    },
    {
     "cell_type": "code",
     "collapsed": false,
     "input": [
      "a=np.where((2*As>0.29) & (fs>0.1) & (fs<0.5))\n",
      "print len(a[0]),a\n",
      "print float( len(a[0]))/pts"
     ],
     "language": "python",
     "metadata": {},
     "outputs": [
      {
       "output_type": "stream",
       "stream": "stdout",
       "text": [
        "16 (array([ 776, 2586, 2713, 2987, 3194, 3293, 3918, 4334, 5411, 5691, 6363,\n",
        "       6429, 6990, 7455, 8988, 9820]),)\n",
        "0.0016\n"
       ]
      }
     ],
     "prompt_number": 82
    },
    {
     "cell_type": "code",
     "collapsed": false,
     "input": [
      "i=315\n",
      "\n",
      "p1 = fits[i]['params_dict']\n",
      "plt.plot(xs,ys[i], 'o')\n",
      "plot_pts=10000\n",
      "x_p=np.linspace(min(xs),max(xs),plot_pts)\n",
      "f_p = fits[i]['fitfunc'](x_p)\n",
      "plt.plot(x_p,f_p)\n"
     ],
     "language": "python",
     "metadata": {},
     "outputs": [
      {
       "metadata": {},
       "output_type": "pyout",
       "prompt_number": 75,
       "text": [
        "[<matplotlib.lines.Line2D at 0xaef4630>]"
       ]
      },
      {
       "metadata": {},
       "output_type": "display_data",
       "png": "[encoded data removed]",
       "text": [
        "<matplotlib.figure.Figure at 0xade8ef0>"
       ]
      }
     ],
     "prompt_number": 75
    },
    {
     "cell_type": "raw",
     "metadata": {},
     "source": []
    }
   ],
   "metadata": {}
  }
 ]
}