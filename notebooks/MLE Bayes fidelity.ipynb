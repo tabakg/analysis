{
 "metadata": {
  "name": "",
  "signature": "sha256:bd24936313af32af3b1a81f25511801ae8dc77662af8e2e0c5dc0d6f014b35f8"
 },
 "nbformat": 3,
 "nbformat_minor": 0,
 "worksheets": [
  {
   "cells": [
    {
     "cell_type": "code",
     "collapsed": false,
     "input": [
      "import numpy as np\n",
      "import scipy"
     ],
     "language": "python",
     "metadata": {},
     "outputs": [],
     "prompt_number": 182
    },
    {
     "cell_type": "code",
     "collapsed": false,
     "input": [
      "F0a,F1a,F0b,F1b = (0.96, 0.99, 0.943, 0.995)\n",
      "N00, N01, N10, N11 = (2., 12., 13., 4.)"
     ],
     "language": "python",
     "metadata": {},
     "outputs": [],
     "prompt_number": 2
    },
    {
     "cell_type": "code",
     "collapsed": false,
     "input": [
      "pts = 200\n",
      "p00,p01,p10 = np.ogrid[0:1:pts*1j,0:1:pts*1j,0:1:pts*1j]\n",
      "likelihood=(F0a*(1-F0b)*p00+F0a*F1b*p01+(1-F1a)*F1b*(1-p00-p01-p10)+(1-F0b)*(1-F1a)*p10)**N01\\\n",
      "\t\t  *(F0a*F0b*p00+F0a*(1-F1b)*p01+(1-F1a)*(1-F1b)*(1-p00-p01-p10)+F0b*(1-F1a)*p10)**N00\\\n",
      "\t\t  *((1-F0a)*(1-F0b)*p00+(1-F0a)*F1b*p01+F1a*F1b*(1-p00-p01-p10)+(1-F0b)*F1a*p10)**N11\\\n",
      "\t\t  *((1-F0a)*F0b*p00+(1-F0a)*(1-F1b)*p01+F1a*(1-F1b)*(1-p00-p01-p10)+F0b*F1a*p10)**N10\n",
      "prior = (1-p00-p01-p10)>0\n",
      "post = likelihood*prior"
     ],
     "language": "python",
     "metadata": {},
     "outputs": [],
     "prompt_number": 17
    },
    {
     "cell_type": "code",
     "collapsed": false,
     "input": [
      "norm = np.sum(post)\n",
      "p00df=np.sum(post, axis=(1,2))/norm\n",
      "p10df=np.sum(post, axis=(0,1))/norm\n",
      "p01df=np.sum(post, axis=(0,2))/norm"
     ],
     "language": "python",
     "metadata": {},
     "outputs": [],
     "prompt_number": 18
    },
    {
     "cell_type": "code",
     "collapsed": false,
     "input": [
      "print np.sum(p10df)\n",
      "linspace(0,1,pts)[where(np.cumsum(p10df)>((1-.68)/2.))[0][0]]"
     ],
     "language": "python",
     "metadata": {},
     "outputs": [
      {
       "output_type": "stream",
       "stream": "stdout",
       "text": [
        "1.0\n"
       ]
      },
      {
       "metadata": {},
       "output_type": "pyout",
       "prompt_number": 22,
       "text": [
        "0.33668341708542715"
       ]
      }
     ],
     "prompt_number": 22
    },
    {
     "cell_type": "code",
     "collapsed": false,
     "input": [
      "print np.max(post)\n",
      "a=np.argmax(post)\n",
      "b= np.unravel_index(a,np.shape(post))\n",
      "print b\n",
      "print likelihood[b]\n",
      "print p00[b], p01[b], p10[b], 1-p00[b]-p01[b]-p10[b]"
     ],
     "language": "python",
     "metadata": {},
     "outputs": [
      {
       "output_type": "stream",
       "stream": "stdout",
       "text": [
        "1.61355803189e-16\n",
        "(6, 40, 44)\n",
        "1.61355803189e-16\n",
        "0.0606060606061 0.40404040404 0.444444444444 0.0909090909091\n"
       ]
      }
     ],
     "prompt_number": 117
    },
    {
     "cell_type": "code",
     "collapsed": false,
     "input": [
      "pts = 200"
     ],
     "language": "python",
     "metadata": {},
     "outputs": [],
     "prompt_number": 180
    },
    {
     "cell_type": "code",
     "collapsed": false,
     "input": [
      "#ZZ\n",
      "lower_bound = False\n",
      "F0a,F1a,F0b,F1b = (0.955, 0.9786, 0.9376, 0.9952)\n",
      "N00, N01, N10, N11 = (0., 17., 13., 1.)"
     ],
     "language": "python",
     "metadata": {},
     "outputs": [],
     "prompt_number": 245
    },
    {
     "cell_type": "code",
     "collapsed": false,
     "input": [
      "p00,p01,Fz = np.ogrid[0:1:pts*1j,0:1:pts*1j,0:1:pts*1j]\n",
      "p10 = Fz-p01-2*p00+2*np.sqrt(p00-Fz*p00) if lower_bound else Fz-p01 #+sqrt?\n",
      "likelihood=(F0a*(1-F0b)*p00+F0a*F1b*p01+(1-F1a)*F1b*(1-p00-p01-p10)+(1-F0b)*(1-F1a)*p10)**N01\\\n",
      "\t\t  *(F0a*F0b*p00+F0a*(1-F1b)*p01+(1-F1a)*(1-F1b)*(1-p00-p01-p10)+F0b*(1-F1a)*p10)**N00\\\n",
      "\t\t  *((1-F0a)*(1-F0b)*p00+(1-F0a)*F1b*p01+F1a*F1b*(1-p00-p01-p10)+(1-F0b)*F1a*p10)**N11\\\n",
      "\t\t  *((1-F0a)*F0b*p00+(1-F0a)*(1-F1b)*p01+F1a*(1-F1b)*(1-p00-p01-p10)+F0b*F1a*p10)**N10\n",
      "prior = ((1-p00-p01-p10)>=0) & (p10 >= 0) & (p01 >= 0) & (p00 >= 0)  & (p10 <= 1) & (p01 <= 1) & (p00 <= 1) \n",
      "post = likelihood*prior\n",
      "post_Fz=np.sum(post,axis=(0,1))"
     ],
     "language": "python",
     "metadata": {},
     "outputs": [],
     "prompt_number": 246
    },
    {
     "cell_type": "code",
     "collapsed": false,
     "input": [
      "#XX\n",
      "psi_min = False\n",
      "F0a,F1a,F0b,F1b = (0.96, 0.99, 0.943, 0.995 )\n",
      "N00, N01, N10, N11 = (18., 7., 3., 20.)"
     ],
     "language": "python",
     "metadata": {},
     "outputs": [],
     "prompt_number": 247
    },
    {
     "cell_type": "code",
     "collapsed": false,
     "input": [
      "p00,p01,Fx = np.ogrid[0:1:pts*1j,0:1:pts*1j,0:1:pts*1j]\n",
      "p10 = Fx-p01 if psi_min else 1-Fx-p01\n",
      "likelihood=(F0a*(1-F0b)*p00+F0a*F1b*p01+(1-F1a)*F1b*(1-p00-p01-p10)+(1-F0b)*(1-F1a)*p10)**N01\\\n",
      "\t\t  *(F0a*F0b*p00+F0a*(1-F1b)*p01+(1-F1a)*(1-F1b)*(1-p00-p01-p10)+F0b*(1-F1a)*p10)**N00\\\n",
      "\t\t  *((1-F0a)*(1-F0b)*p00+(1-F0a)*F1b*p01+F1a*F1b*(1-p00-p01-p10)+(1-F0b)*F1a*p10)**N11\\\n",
      "\t\t  *((1-F0a)*F0b*p00+(1-F0a)*(1-F1b)*p01+F1a*(1-F1b)*(1-p00-p01-p10)+F0b*F1a*p10)**N10\n",
      "prior = ((1-p00-p01-p10)>=0) & (p10 >= 0) & (p01 >= 0) & (p00 >= 0)  & (p10 <= 1) & (p01 <= 1) & (p00 <= 1) \n",
      "post = likelihood*prior\n",
      "post_Fx=np.sum(post,axis=(0,1))"
     ],
     "language": "python",
     "metadata": {},
     "outputs": [],
     "prompt_number": 248
    },
    {
     "cell_type": "code",
     "collapsed": false,
     "input": [
      "Fx,Fz=meshgrid(linspace(0,1,pts),linspace(0,1,pts))\n",
      "post_Fxg,post_Fzg= np.meshgrid(post_Fx,post_Fz)"
     ],
     "language": "python",
     "metadata": {},
     "outputs": [],
     "prompt_number": 249
    },
    {
     "cell_type": "code",
     "collapsed": false,
     "input": [
      "post_F,F=np.histogram(Fx+0.5*Fz-0.5, bins=pts,\n",
      "                range=(0,1), density=True, weights=post_Fxg*post_Fzg)\n",
      "post_F_norm = post_F/pts/1."
     ],
     "language": "python",
     "metadata": {},
     "outputs": [],
     "prompt_number": 250
    },
    {
     "cell_type": "code",
     "collapsed": false,
     "input": [
      "conf = 0.68\n",
      "F_mle = F[np.argmax(post_F)]\n",
      "F_lc = F[where(np.cumsum(post_F_norm)>(1-conf)/2.)[0][0]]\n",
      "F_uc = F[where(np.cumsum(post_F_norm)>(1-(1-conf)/2.))[0][0]]\n",
      "p_entangled = 1.-np.sum(post_F_norm[F[1:]<=.5])"
     ],
     "language": "python",
     "metadata": {},
     "outputs": [],
     "prompt_number": 251
    },
    {
     "cell_type": "code",
     "collapsed": false,
     "input": [
      "print 'Fidelity',\n",
      "print 'lower bound:' if lower_bound else 'best guess:'\n",
      "print 'F = {:.2f}'.format(F_mle)\n",
      "print '{:.0f}% confidence interval: [{:.2f},{:.2f}]'.format(conf*100.,F_lc,F_uc)\n",
      "print 'Prob(F>0.5) = {:.3f}'.format(p_entangled)\n"
     ],
     "language": "python",
     "metadata": {},
     "outputs": [
      {
       "output_type": "stream",
       "stream": "stdout",
       "text": [
        "Fidelity best guess:\n",
        "F = 0.78\n",
        "68% confidence interval: [0.70,0.83]\n",
        "Prob(F>0.5) = 1.000\n"
       ]
      }
     ],
     "prompt_number": 252
    },
    {
     "cell_type": "code",
     "collapsed": false,
     "input": [
      "plot(F[1:],post_F/100.)"
     ],
     "language": "python",
     "metadata": {},
     "outputs": [
      {
       "metadata": {},
       "output_type": "pyout",
       "prompt_number": 190,
       "text": [
        "[<matplotlib.lines.Line2D at 0xc1e56f0>]"
       ]
      },
      {
       "metadata": {},
       "output_type": "display_data",
       "png": "[encoded data removed]",
       "text": [
        "<matplotlib.figure.Figure at 0xc027b50>"
       ]
      }
     ],
     "prompt_number": 190
    },
    {
     "cell_type": "code",
     "collapsed": false,
     "input": [],
     "language": "python",
     "metadata": {},
     "outputs": [],
     "prompt_number": 315
    },
    {
     "cell_type": "code",
     "collapsed": false,
     "input": [
      "np.product?"
     ],
     "language": "python",
     "metadata": {},
     "outputs": [],
     "prompt_number": 1
    },
    {
     "cell_type": "code",
     "collapsed": false,
     "input": [],
     "language": "python",
     "metadata": {},
     "outputs": []
    }
   ],
   "metadata": {}
  }
 ]
}