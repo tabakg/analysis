{
 "metadata": {
  "name": "",
  "signature": "sha256:f516126679aa4efb074cd8f6fa898ad1f4e4a52a30e9305d430ec1cb18c729c1"
 },
 "nbformat": 3,
 "nbformat_minor": 0,
 "worksheets": [
  {
   "cells": [
    {
     "cell_type": "code",
     "collapsed": false,
     "input": [
      "import sys\n",
      "import os\n",
      "Bell_folder = r'D:\\bjhensen\\data\\Marked Bell Data\\After2014-11-19analysis'\n",
      "\n",
      "# Add data path\n",
      "if not Bell_folder in sys.path:\n",
      "    sys.path.append(Bell_folder)\n",
      "analsysis_base=r'H:\\My Documents\\scripts'\n",
      "if not analsysis_base in sys.path:\n",
      "    sys.path.append(analsysis_base)\n",
      "    \n",
      "# Import all Initialization files\n",
      "execfile(os.path.join(analsysis_base,r'analysis\\lib\\bell\\Initialization_Bell.py'))\n",
      "\n",
      "# Set folders\n",
      "Base_Folder = Bell_folder\n",
      "\n",
      "BS_Folder = Base_Folder + '\\\\BS'\n",
      "LT3_Folder = Base_Folder + '\\\\LT3'\n",
      "LT4_Folder = Base_Folder + '\\\\LT4'\n"
     ],
     "language": "python",
     "metadata": {},
     "outputs": [
      {
       "output_type": "stream",
       "stream": "stdout",
       "text": [
        "d:\\measuring\\data\n"
       ]
      }
     ],
     "prompt_number": 50
    },
    {
     "cell_type": "heading",
     "level": 1,
     "metadata": {},
     "source": [
      "Get Filepaths"
     ]
    },
    {
     "cell_type": "code",
     "collapsed": false,
     "input": [
      "fp_BS = tb.get_all_msmt_filepaths(BS_Folder, pattern='')\n",
      "fp_LT3 = tb.get_all_msmt_filepaths(LT3_Folder,pattern = '')\n",
      "fp_LT4 = tb.get_all_msmt_filepaths(LT4_Folder, pattern = '')\n",
      "fp_Bell_data = tb.get_all_msmt_filepaths(Base_Folder, pattern = 'Total_Bell_events')\n",
      "\n",
      "has_bell_analysis_data = False\n",
      "BS_fp_len = len(fp_BS)\n",
      "\n",
      "# Checks if there already is a file with the analyzed data\n",
      "for i,f in enumerate(fp_Bell_data):\n",
      "    has_bell_analysis_data = has_bell_analysis_data | ('\\Total_Bell_events.hdf5' in f)\n",
      "  \n",
      "if has_bell_analysis_data == True:\n",
      "    if tb.has_analysis_data(Base_Folder+'\\Total_Bell_events.hdf5', 'Total_Bell_events'):\n",
      "        print \"There is file with analysis data\"\n",
      "\n",
      "# Checks if the number of data sets in the BS folder is consistent with the number of folders in the LT1 or LT3 folders.\n",
      "if BS_fp_len != len(fp_LT3) or BS_fp_len != len(fp_LT4):\n",
      "    print \"ATTENTION\"\n",
      "    print \"The length of the filepaths for the BS data does not correspond with the length of the filepaths \\\n",
      "of the seperate set-up data. This will give errors later on in the script.\"\n",
      "    print\n",
      "print len(fp_BS)\n",
      "print len(fp_LT3)\n",
      "print len(fp_LT4)\n"
     ],
     "language": "python",
     "metadata": {},
     "outputs": [
      {
       "output_type": "stream",
       "stream": "stdout",
       "text": [
        "There is file with analysis data\n",
        "131\n",
        "131\n",
        "131\n"
       ]
      }
     ],
     "prompt_number": 51
    },
    {
     "cell_type": "code",
     "collapsed": false,
     "input": [
      "# Set settings\n",
      "Settings.VERBOSE = False\n",
      "\n",
      "Settings.first_win_min = 5000000\n",
      "Settings.first_win_max = 6000000\n",
      "Settings.second_win_min = 6000000\n",
      "Settings.second_win_max = 7000000\n",
      "\n",
      "# Sets if the selection of the entanglement events should be re-executed.\n",
      "Settings.Force_eval = True\n",
      "# Set the Marker Channel of the BS\n",
      "marker_channel =1"
     ],
     "language": "python",
     "metadata": {},
     "outputs": [],
     "prompt_number": 52
    },
    {
     "cell_type": "code",
     "collapsed": false,
     "input": [
      "# Set input variables\n",
      "marker_chan = 4\n",
      "channel_rnd_0 = 1\n",
      "channel_rnd_1 = 2\n",
      "RO_start = 10711\n",
      "RO_length = 4100\n",
      "sync_time_lim = 15000\n",
      "save = True\n",
      "re_analyse_lt4 = True\n",
      "re_analyse_lt3 = False\n",
      "for i in range(len(fp_LT3)):\n",
      "    if Settings.VERBOSE:\n",
      "        print fp_LT3[i]\n",
      "    if re_analyse_lt3:\n",
      "        SSRO_LT3 = Events.re_analyze_SSRO_data(fp_LT3[i], \n",
      "                                           marker_chan ,\n",
      "                                           RO_start, \n",
      "                                           RO_length, \n",
      "                                           channel_rnd_0, \n",
      "                                           channel_rnd_1, \n",
      "                                           sync_time_lim = sync_time_lim,  \n",
      "                                           VERBOSE = Settings.VERBOSE)\n",
      "    if re_analyse_lt4:\n",
      "        SSRO_LT4 = Events.re_analyze_SSRO_data(fp_LT4[i], \n",
      "                                           marker_chan ,\n",
      "                                           RO_start, \n",
      "                                           RO_length, \n",
      "                                           channel_rnd_0, \n",
      "                                           channel_rnd_1, \n",
      "                                           sync_time_lim = sync_time_lim,  \n",
      "                                           VERBOSE = Settings.VERBOSE)"
     ],
     "language": "python",
     "metadata": {},
     "outputs": [
      {
       "output_type": "stream",
       "stream": "stdout",
       "text": [
        "There are events for which no random number is generated\n",
        "There are events for which no random number is generated\n",
        "There are events for which no random number is generated"
       ]
      },
      {
       "output_type": "stream",
       "stream": "stdout",
       "text": [
        "\n",
        "There are events for which no random number is generated"
       ]
      },
      {
       "output_type": "stream",
       "stream": "stdout",
       "text": [
        "\n",
        "There are events for which no random number is generated\n",
        "There are events for which no random number is generated"
       ]
      },
      {
       "output_type": "stream",
       "stream": "stdout",
       "text": [
        "\n",
        "There are events for which no random number is generated"
       ]
      },
      {
       "output_type": "stream",
       "stream": "stdout",
       "text": [
        "\n",
        "There are events for which no random number is generated"
       ]
      },
      {
       "output_type": "stream",
       "stream": "stdout",
       "text": [
        "\n"
       ]
      }
     ],
     "prompt_number": 53
    },
    {
     "cell_type": "heading",
     "level": 1,
     "metadata": {},
     "source": [
      "Get a table with the information of all marked events"
     ]
    },
    {
     "cell_type": "code",
     "collapsed": false,
     "input": [
      "\"\"\"\n",
      "Returns all marked events and check if they are really entangled. \n",
      "\n",
      "Colums are:\n",
      "\n",
      "Sync_Number BS, Sync_Time_photon_1 BS, Sync_Time_photon_2 BS, Channel_photon_1 BS, Channel_photon_2 BS, psiminus , abs_time BS,\n",
      "\n",
      "Sync_Number_LT3, Number of photons_LT3, Random Number Indicator LT3, Random Number LT3, \n",
      "Sync_Time Random Number LT3, Sync_Time_photon_1_LT3, Sync_Time_photon_2_LT3, Sync_Time_photon_3_LT3, \n",
      "Sync_Time_photon_4_LT3, Sync_Time_photon_5_LT3, Sync_Time_photon_6_LT3, Sync_Time_photon_7_LT3, \n",
      "Sync_Time_photon_8_LT3, Sync_Time_photon_9_LT3, Sync_Time_photon_10_LT3, Sync_Time_photon_11_LT3, \n",
      "Sync_Time_photon_12_LT3, Sync_Time_photon_13_LT3, Sync_Time_photon_14_LT3, Sync_Time_photon_15_LT3, \n",
      "Sync_Time_photon_16_LT3, Sync_Time_photon_17_LT3, Sync_Time_photon_18_LT3, Sync_Time_photon_19_LT3, \n",
      "Sync_Time_photon_20_LT3, Sync_Time_photon_21_LT3, Sync_Time_photon_22_LT3, Sync_Time_photon_23_LT3, \n",
      "Sync_Time_photon_24_LT3\n",
      "\n",
      "Sync_Number_LT4, Number of photons_LT4, Random Number Indicator LT4, Random Number LT4, \n",
      "Sync_Time Random Number LT4, Sync_Time_photon_1_LT4, Sync_Time_photon_2_LT4, Sync_Time_photon_3_LT4, \n",
      "Sync_Time_photon_4_LT4, Sync_Time_photon_5_LT4, Sync_Time_photon_6_LT4, Sync_Time_photon_7_LT4, \n",
      "Sync_Time_photon_8_LT4, Sync_Time_photon_9_LT4, Sync_Time_photon_10_LT4, Sync_Time_photon_11_LT4, \n",
      "Sync_Time_photon_12_LT4, Sync_Time_photon_13_LT4, Sync_Time_photon_14_LT4, Sync_Time_photon_15_LT4, \n",
      "Sync_Time_photon_16_LT4, Sync_Time_photon_17_LT4, Sync_Time_photon_18_LT4, Sync_Time_photon_19_LT4, \n",
      "Sync_Time_photon_20_LT4, Sync_Time_photon_21_LT4, Sync_Time_photon_22_LT4, Sync_Time_photon_23_LT4, \n",
      "Sync_Time_photon_24_LT4\n",
      "\"\"\"\n",
      "\n",
      "# Initialize a matrix for all events\n",
      "Total_Bell_events = np.empty((0,67), dtype = np.uint64)\n",
      "\n",
      "# Ensures the analysis is saved either when there hasn't been done any analysis yet or if the data is reanalyzed. \n",
      "if has_bell_analysis_data and not Settings.Force_eval:\n",
      "    save = False\n",
      "else:\n",
      "    save = True\n",
      "\n",
      "# Checks if there is analysis data and if the data analysis is forced to be redone\n",
      "if has_bell_analysis_data and not Settings.Force_eval:\n",
      "    Total_Bell_events, atts_Bell = tb.get_analysis_data(Base_Folder, 'Total_Bell_events')\n",
      "else:\n",
      "    for i in arange(len(fp_BS)):\n",
      "        if Settings.VERBOSE:\n",
      "            print \"Retrieving Bell events run \" + str(i+1) + \"....\"\n",
      "        \n",
      "        Bell_events, _a = Events.get_Bell_events(fp_BS[i],\n",
      "                                                                 fp_LT3[i],\n",
      "                                                                 fp_LT4[i],\n",
      "                                                                 marker_channel,\n",
      "                                                                 Settings.first_win_min, \n",
      "                                                                 Settings.first_win_max, \n",
      "                                                                 Settings.second_win_min, \n",
      "                                                                 Settings.second_win_max,\n",
      "                                                                 force_eval = False, \n",
      "                                                                 VERBOSE = Settings.VERBOSE)\n",
      "        if Settings.VERBOSE:\n",
      "            print \"Bell events run \" + str(i+1) + \" retrieved\"\n",
      "            print\n",
      "\n",
      "        Total_Bell_events = np.vstack((Total_Bell_events, Bell_events))\n",
      "\n",
      "\n",
      "    # Checks if there already is a file in which the data analysis can be saved and if not makes it    \n",
      "    if not tb.has_data(Base_Folder+'\\Total_Bell_events.hdf5','Total_Bell_events'):\n",
      "        f = h5py.File(Base_Folder+'\\Total_Bell_events.hdf5', 'a')\n",
      "        f.close\n",
      "\n",
      "    # Saves total entanglement data and saves attributes depending on how they come out of the retrieved data\n",
      "    if save:\n",
      "        tb.clear_analysis_data(Base_Folder+'\\Total_Bell_events.hdf5')\n",
      "        tb.set_analysis_data(Base_Folder+'\\Total_Bell_events.hdf5',\n",
      "                                 'Total_Bell_events',\n",
      "                                 Total_Bell_events,\n",
      "                                 _a) \n",
      "\n",
      "       \n",
      "print\n",
      "print 'Found {} valid entanglement events in all runs.'.format(int(len(Total_Bell_events)))\n",
      "print '===================================='\n",
      "print\n",
      "    \n",
      "    \n"
     ],
     "language": "python",
     "metadata": {},
     "outputs": [
      {
       "output_type": "stream",
       "stream": "stdout",
       "text": [
        "\n",
        "Found 1512 valid entanglement events in all runs.\n",
        "====================================\n",
        "\n"
       ]
      }
     ],
     "prompt_number": 54
    },
    {
     "cell_type": "heading",
     "level": 1,
     "metadata": {},
     "source": [
      "Plot BS Tail"
     ]
    },
    {
     "cell_type": "code",
     "collapsed": false,
     "input": [
      "for i in range(1):#arange(b):\n",
      "    print i\n",
      "    folder, file_name = os.path.split(fp_BS[i])\n",
      "    print folder\n",
      "    print file_name\n",
      "    a = pqsequence.TailAnalysis(folder, hdf5_mode='r', pq_folder =folder)11\n",
      "    mrkr_filter = pq_tools.filter_marker(a.pqf,1)\n",
      "    pq_plots.plot_photon_hist_filter_comparison(a.pqf,mrkr_filter,start = 6000e3, \n",
      "                                                length = 1000000, \n",
      "                                                hist_binsize = 1000, \n",
      "                                                save = False, \n",
      "                                                log= True)"
     ],
     "language": "python",
     "metadata": {},
     "outputs": [
      {
       "ename": "SyntaxError",
       "evalue": "invalid syntax (<ipython-input-17-3ef7d82f74b6>, line 6)",
       "output_type": "pyerr",
       "traceback": [
        "\u001b[1;36m  File \u001b[1;32m\"<ipython-input-17-3ef7d82f74b6>\"\u001b[1;36m, line \u001b[1;32m6\u001b[0m\n\u001b[1;33m    a = pqsequence.TailAnalysis(folder, hdf5_mode='r', pq_folder =folder)11\u001b[0m\n\u001b[1;37m                                                                          ^\u001b[0m\n\u001b[1;31mSyntaxError\u001b[0m\u001b[1;31m:\u001b[0m invalid syntax\n"
       ]
      }
     ],
     "prompt_number": 17
    },
    {
     "cell_type": "heading",
     "level": 2,
     "metadata": {},
     "source": [
      "Laser Filter"
     ]
    },
    {
     "cell_type": "code",
     "collapsed": false,
     "input": [
      "Settings.first_win_min_ch0 = 5444500\n",
      "Settings.WINDOW_LENGTH = 50000\n",
      "Settings.dif_ch0_ch1 = 1000\n",
      "Settings.dif_win1_win2 = 600000\n",
      "\n",
      "Total_Bell_events_laser_filter = Analysis.Laser_filter(Total_Bell_events,\n",
      "                                                       Settings.first_win_min_ch0,\n",
      "                                                       Settings.WINDOW_LENGTH,\n",
      "                                                       Settings.dif_win1_win2,\n",
      "                                                       Settings.dif_ch0_ch1,\n",
      "                                                       Settings.Sync_time_ph_win_1_BS,\n",
      "                                                       Settings.Sync_time_ph_win_2_BS,\n",
      "                                                       Settings.Chan_ph_win_1_BS,\n",
      "                                                       Settings.Chan_ph_win_2_BS)\n",
      "\n",
      "print \"After cutting out the laser {} events remain.\".format(int(len(Total_Bell_events_laser_filter)))\n",
      "print \n",
      "print \"There are {} psiminus events.\".format(int(np.sum(Total_Bell_events_laser_filter[:,Settings.Psiminus_event]))) \n",
      "print \"======================================================\"\n"
     ],
     "language": "python",
     "metadata": {},
     "outputs": [
      {
       "output_type": "stream",
       "stream": "stdout",
       "text": [
        "After cutting out the laser 157 events remain.\n",
        "\n",
        "There are 80 psiminus events.\n",
        "======================================================\n"
       ]
      }
     ],
     "prompt_number": 27
    },
    {
     "cell_type": "heading",
     "level": 2,
     "metadata": {},
     "source": [
      "RND Num Check filter"
     ]
    },
    {
     "cell_type": "code",
     "collapsed": false,
     "input": [
      "is_rnd_num_LT3 = Total_Bell_events_laser_filter[:,Settings.RND_num_ind_LT3] == 1\n",
      "is_rnd_num_LT4 = Total_Bell_events_laser_filter[:,Settings.RND_num_ind_LT4] == 1\n",
      "\n",
      "is_rnd_num = is_rnd_num_LT3 & is_rnd_num_LT4\n",
      "\n",
      "Total_Bell_events_after_laser_and_rnd_check_filter = Total_Bell_events_laser_filter[is_rnd_num]"
     ],
     "language": "python",
     "metadata": {},
     "outputs": [],
     "prompt_number": 28
    },
    {
     "cell_type": "code",
     "collapsed": false,
     "input": [
      "print len(Total_Bell_events_after_laser_and_rnd_check_filter)"
     ],
     "language": "python",
     "metadata": {},
     "outputs": [
      {
       "output_type": "stream",
       "stream": "stdout",
       "text": [
        "156\n"
       ]
      }
     ],
     "prompt_number": 29
    },
    {
     "cell_type": "heading",
     "level": 2,
     "metadata": {},
     "source": [
      "DT FILTER"
     ]
    },
    {
     "cell_type": "code",
     "collapsed": false,
     "input": [
      "# Apllies a maximum DT filter, taking all events up to a set dt. Fill this maximum in as the second argument in the function.\n",
      "max_delay = 5000 #enter number in picoseconds\n",
      "\n",
      "# Can also take the laser filtered matrix as input\n",
      "\n",
      "Total_Bell_events_dt_filter = Analysis.DT_filter_max(Total_Bell_events_after_laser_and_rnd_check_filter,\n",
      "                                                           max_delay,\n",
      "                                                           Settings.Sync_time_ph_win_1_BS,\n",
      "                                                           Settings.Sync_time_ph_win_2_BS,\n",
      "                                                           Settings.Chan_ph_win_1_BS,\n",
      "                                                           Settings.Chan_ph_win_2_BS,\n",
      "                                                           Settings.dif_win1_win2,\n",
      "                                                           Settings.dif_ch0_ch1)"
     ],
     "language": "python",
     "metadata": {},
     "outputs": [],
     "prompt_number": 23
    },
    {
     "cell_type": "code",
     "collapsed": false,
     "input": [
      "print len(Total_Bell_events_dt_filter)\n",
      "print np.sum(Total_Bell_events_dt_filter[:,Settings.Psiminus_event])"
     ],
     "language": "python",
     "metadata": {},
     "outputs": [
      {
       "ename": "NameError",
       "evalue": "name 'Total_Bell_events_dt_filter' is not defined",
       "output_type": "pyerr",
       "traceback": [
        "\u001b[1;31m---------------------------------------------------------------------------\u001b[0m\n\u001b[1;31mNameError\u001b[0m                                 Traceback (most recent call last)",
        "\u001b[1;32m<ipython-input-15-f19084f64a5c>\u001b[0m in \u001b[0;36m<module>\u001b[1;34m()\u001b[0m\n\u001b[1;32m----> 1\u001b[1;33m \u001b[1;32mprint\u001b[0m \u001b[0mlen\u001b[0m\u001b[1;33m(\u001b[0m\u001b[0mTotal_Bell_events_dt_filter\u001b[0m\u001b[1;33m)\u001b[0m\u001b[1;33m\u001b[0m\u001b[0m\n\u001b[0m\u001b[0;32m      2\u001b[0m \u001b[1;32mprint\u001b[0m \u001b[0mnp\u001b[0m\u001b[1;33m.\u001b[0m\u001b[0msum\u001b[0m\u001b[1;33m(\u001b[0m\u001b[0mTotal_Bell_events_dt_filter\u001b[0m\u001b[1;33m[\u001b[0m\u001b[1;33m:\u001b[0m\u001b[1;33m,\u001b[0m\u001b[0mSettings\u001b[0m\u001b[1;33m.\u001b[0m\u001b[0mPsiminus_event\u001b[0m\u001b[1;33m]\u001b[0m\u001b[1;33m)\u001b[0m\u001b[1;33m\u001b[0m\u001b[0m\n",
        "\u001b[1;31mNameError\u001b[0m: name 'Total_Bell_events_dt_filter' is not defined"
       ]
      }
     ],
     "prompt_number": 15
    },
    {
     "cell_type": "heading",
     "level": 1,
     "metadata": {},
     "source": [
      "CHSH value extraction"
     ]
    },
    {
     "cell_type": "code",
     "collapsed": false,
     "input": [
      "# Get the CHSH values for Psiminus and Psiplus states and get the Bell-correlators\n",
      "Settings.VERBOSE = True\n",
      "CHSH_psimin, CHSH_psiplus, E_a_b_min, E_a_pr_b_min, E_a_b_pr_min, \\\n",
      "                            E_a_pr_b_pr_min, E_a_b_plus, E_a_pr_b_plus, \\\n",
      "                                            E_a_b_pr_plus, E_a_pr_b_pr_plus =\\\n",
      "                                                Analysis.CHSH_value(Total_Bell_events_after_laser_and_rnd_check_filter ,\n",
      "                                                                Settings.Psiminus_event,\n",
      "                                                                Settings.RND_num_LT3,\n",
      "                                                                Settings.RND_num_LT4,\n",
      "                                                                Settings.Num_phot_LT3,\n",
      "                                                                Settings.Num_phot_LT4, \n",
      "                                                                Settings.VERBOSE)\n",
      "\n",
      "print \"Psiminus\"\n",
      "print\n",
      "print \"E(a,b)\", E_a_b_min\n",
      "print \"E(a',b)\", E_a_pr_b_min\n",
      "print \"E(a,b')\", E_a_b_pr_min\n",
      "print \"E(a',b')\", E_a_pr_b_pr_min\n",
      "print \n",
      "print \"Psiplus\"\n",
      "print\n",
      "print \"E(a,b)\", E_a_b_plus\n",
      "print \"E(a',b)\", E_a_pr_b_plus\n",
      "print \"E(a,b')\", E_a_b_pr_plus\n",
      "print \"E(a',b')\", E_a_pr_b_pr_plus\n",
      "print\n",
      "\n",
      "\n",
      "print \"The CHSH value of psiminus is\", CHSH_psimin\n",
      "print \"The CHSH value of psiplus is\", CHSH_psiplus"
     ],
     "language": "python",
     "metadata": {},
     "outputs": [
      {
       "output_type": "stream",
       "stream": "stdout",
       "text": [
        "Number of events used for psimin a,b: 20\n",
        "Number of events used for psimin a',b: 29\n",
        "Number of events used for psimin a,b': 15\n",
        "Number of events used for psimin a',b': 15\n",
        "\n",
        "\n",
        "Number of events used for psiplus a,b: 27\n",
        "Number of events used for psiplus a',b: 14\n",
        "Number of events used for psiplus a,b': 28\n",
        "Number of events used for psiplus a',b': 8\n",
        "Psiminus\n",
        "\n",
        "E(a,b) 0.0\n",
        "E(a',b) -0.103448275862\n",
        "E(a,b') -0.0666666666667\n",
        "E(a',b') -0.466666666667\n",
        "\n",
        "Psiplus\n",
        "\n",
        "E(a,b) 0.037037037037\n",
        "E(a',b) 0.0\n",
        "E(a,b') -0.142857142857\n",
        "E(a',b') -0.25\n",
        "\n",
        "The CHSH value of psiminus is -0.503448275862\n",
        "The CHSH value of psiplus is -0.429894179894\n"
       ]
      }
     ],
     "prompt_number": 30
    },
    {
     "cell_type": "heading",
     "level": 1,
     "metadata": {},
     "source": [
      "TPQI"
     ]
    },
    {
     "cell_type": "code",
     "collapsed": false,
     "input": [
      "# Settings TPQI Filtering\n",
      "Settings.first_win_min_ch0 = 5445000\n",
      "Settings.WINDOW_LENGTH = 50000\n",
      "Settings.dif_ch0_ch1 = 1000\n",
      "Settings.dif_win1_win2 = 600000\n",
      "\n",
      "Settings.ch0_start = Settings.first_win_min_ch0\n",
      "Settings.ch1_start = Settings.ch0_start + Settings.dif_ch0_ch1\n",
      "\n",
      "noof_pulses = 2"
     ],
     "language": "python",
     "metadata": {},
     "outputs": [],
     "prompt_number": 29
    },
    {
     "cell_type": "heading",
     "level": 2,
     "metadata": {},
     "source": [
      "Defines coincident photons and filters them according to the settings above"
     ]
    },
    {
     "cell_type": "code",
     "collapsed": false,
     "input": [
      "dts, filtered_dts = TPQI.TPQI_analysis(BS_Folder, \n",
      "                                       Settings.ch0_start, \n",
      "                                       Settings.ch1_start, \n",
      "                                       Settings.WINDOW_LENGTH, \n",
      "                                       Settings.dif_win1_win2, \n",
      "                                       noof_pulses)"
     ],
     "language": "python",
     "metadata": {},
     "outputs": [
      {
       "output_type": "stream",
       "stream": "stdout",
       "text": [
        "\n",
        "Found 746521 coincident photons in all runs.\n",
        "====================================\n",
        "\n",
        "\n",
        "Found 81 coincident photons after filtering."
       ]
      },
      {
       "output_type": "stream",
       "stream": "stdout",
       "text": [
        "\n",
        "====================================\n",
        "\n"
       ]
      }
     ],
     "prompt_number": 30
    },
    {
     "cell_type": "code",
     "collapsed": false,
     "input": [
      "num_bins = 500\n",
      "\n",
      "#fig4,ax =subplots(figsize=(10,6))\n",
      "#binsw=linspace(-1000,1000,num_bins)\n",
      "#n, bins, patches = plt.hist(dts, binsw)\n",
      "#plt.xlabel('Detection time difference dt(ns)')\n",
      "#ax.set_ylabel('Counts')\n",
      "#ax.set_title('Unfiltered coincident event counts vs. dt[ns]')\n",
      "#ax.set_xlim(-700,700)\n",
      "\n",
      "\n",
      "fig5,ax =subplots(figsize=(10,6))\n",
      "binsw=linspace(-1000,1000,num_bins)\n",
      "n, bins, patches = plt.hist(filtered_dts, binsw)\n",
      "plt.xlabel('Detection time difference dt(ns)')\n",
      "ax.set_ylabel('Counts')\n",
      "ax.set_title('Filtered coincident event counts vs. dt[ns]')\n",
      "ax.set_xlim(-700,700)"
     ],
     "language": "python",
     "metadata": {},
     "outputs": [
      {
       "metadata": {},
       "output_type": "pyout",
       "prompt_number": 31,
       "text": [
        "(-700, 700)"
       ]
      },
      {
       "metadata": {},
       "output_type": "display_data",
       "png": "[encoded data removed]",
       "text": [
        "<matplotlib.figure.Figure at 0x83ea170>"
       ]
      }
     ],
     "prompt_number": 31
    },
    {
     "cell_type": "heading",
     "level": 1,
     "metadata": {},
     "source": [
      "Sync number differences"
     ]
    },
    {
     "cell_type": "code",
     "collapsed": false,
     "input": [
      "Sync_num_LT3 = Total_Bell_events[:,Settings.Sync_num_LT3]\n",
      "Sync_num_LT4 = Total_Bell_events[:,Settings.Sync_num_LT4]\n",
      "Dif_LT3_LT4 = np.abs(Sync_num_LT4 - Sync_num_LT3)\n",
      "\n",
      "num_bins = 100\n",
      "# the histogram of the data\n",
      "n, bins, patches = plt.hist(Dif_LT3_LT4, num_bins, facecolor='green')\n",
      "plt.xlabel('Difference in sync number between LT3 and LT4')\n",
      "plt.ylabel('Occurence')\n",
      "\n",
      "#plt.xlim(1.0614e11, 1.0624e11)\n",
      "\n",
      "\n",
      "# Tweak spacing to prevent clipping of ylabel\n",
      "plt.subplots_adjust(left=0.15)\n",
      "plt.show()"
     ],
     "language": "python",
     "metadata": {},
     "outputs": [
      {
       "metadata": {},
       "output_type": "display_data",
       "png": "[encoded data removed]",
       "text": [
        "<matplotlib.figure.Figure at 0xbf41e10>"
       ]
      }
     ],
     "prompt_number": 17
    },
    {
     "cell_type": "code",
     "collapsed": false,
     "input": [
      "1-5/40."
     ],
     "language": "python",
     "metadata": {},
     "outputs": [
      {
       "metadata": {},
       "output_type": "pyout",
       "prompt_number": 15,
       "text": [
        "0.875"
       ]
      }
     ],
     "prompt_number": 15
    },
    {
     "cell_type": "code",
     "collapsed": false,
     "input": [],
     "language": "python",
     "metadata": {},
     "outputs": []
    }
   ],
   "metadata": {}
  }
 ]
}