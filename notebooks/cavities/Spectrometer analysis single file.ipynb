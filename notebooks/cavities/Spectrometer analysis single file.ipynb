{
 "cells": [
  {
   "cell_type": "code",
   "execution_count": null,
   "metadata": {
    "collapsed": false
   },
   "outputs": [],
   "source": [
    "%matplotlib inline\n",
    "import os\n",
    "import numpy as np\n",
    "import sys\n",
    "import matplotlib\n",
    "import matplotlib.pyplot as plt\n",
    "c=3.e8 #speed of light\n",
    "import time\n",
    "filepath='D:/measuring/'\n",
    "import scipy.signal\n",
    "os.chdir(filepath)\n",
    "\n",
    "sys.path.append('H:/My Documents/measuring/')\n",
    "\n",
    "data_dir='D:\\measuring\\data/20160719'#:\\measuring\\data/20160503\\ON diamond\\pos 7/raw data spectrometer\\L9'#'D:\\measuring\\data/20160707\\CL2_newmirror_processed'#\"/Users/suzannevandam/Documents/PhD/localdata/20160430/ON_diamond\" \n",
    "print data_dir\n",
    "\n",
    "%matplotlib inline"
   ]
  },
  {
   "cell_type": "code",
   "execution_count": null,
   "metadata": {
    "collapsed": false
   },
   "outputs": [],
   "source": [
    "import analysis.scripts.cavity.spectrometer_analysis as sa\n",
    "import analysis.scripts.cavity.spectrometer_analysis_2Dsweep as sa_2D"
   ]
  },
  {
   "cell_type": "code",
   "execution_count": null,
   "metadata": {
    "collapsed": false
   },
   "outputs": [],
   "source": [
    "nr_datafiles = 9\n",
    "minimum_peak_heights = [650,8000,1500,800,1000,10000,5000,3500,1000]\n",
    "avg_nu_fsrs = np.zeros((nr_datafiles,2))\n",
    "min_fsrs = np.ones(nr_datafiles)*4*1.e12\n",
    "max_fsrs = np.ones(nr_datafiles)*20.e12\n",
    "max_fsrs[5] = 40.e12\n",
    "max_fsrs[6] = 40.e12\n",
    "max_fsrs[7] = 50.e12\n",
    "max_fsrs[8] = 50.e12\n",
    "\n",
    "min_fsrs[7] = 10.e12\n",
    "min_fsrs[8] = 10.e12\n",
    "\n",
    "reload(sa_2D)\n",
    "\n",
    "for i in np.arange(nr_datafiles):\n",
    "    #data_folder = os.path.join(data_dir,'L'+str(i))\n",
    "    data_folder = os.path.join(data_dir)\n",
    "    #note that what are called wavelengths, are actually the frequencies in THz! \n",
    "    wavelengths,filenumbers,intensities = sa.load_data_from_folder(data_folder)\n",
    "\n",
    "    minimum_peak_height = minimum_peak_heights[i]\n",
    "    x0s,u_x0s=sa_2D.peaks_from_1D_data(wavelengths,intensities[:,0],\n",
    "                                       data_dir=data_folder,save_fig=False,\n",
    "                                       plot_fit =False, plot_peak_locations=True,\n",
    "                                       minimum_peak_height=minimum_peak_height, g_gamma=1)\n",
    "    # reinitialise every time\n",
    "    nu_fsrs=np.array([])\n",
    "\n",
    "    if i == 4:\n",
    "        x0s=x0s[:-2]\n",
    "    \n",
    "    for l in np.arange(len(x0s)-1):\n",
    "        fund_1 = x0s[l]\n",
    "        fund_2 = x0s[l+1]\n",
    "        nu_fsr = np.abs(fund_2 - fund_1)*1.e12\n",
    "        if ((nu_fsr>min_fsrs[i]) and (nu_fsr<max_fsrs[i])):\n",
    "            length = c/(2*nu_fsr)\n",
    "            print nu_fsr*1.e-12, 'THz'\n",
    "            print length *1.e6 , 'um'\n",
    "            nu_fsrs = np.append(nu_fsrs,nu_fsr)\n",
    "            \n",
    "    print nu_fsrs\n",
    "    avg_nu_fsr = np.average(nu_fsrs)\n",
    "    u_avg_nu_fsr = np.std(nu_fsrs)\n",
    "    \n",
    "    avg_nu_fsrs[i,0] = avg_nu_fsr \n",
    "    avg_nu_fsrs[i,1] = u_avg_nu_fsr\n",
    "            \n",
    "        \n",
    "#     fund_1 = x0s[0]\n",
    "#     fund_2 = x0s[3]\n",
    "#     dnu_fsr = np.abs(fund_2 - fund_1)*1.e12\n",
    "#     if dnu_fsr>2*1.e12:\n",
    "#         length = c/(2*dnu_fsr)\n",
    "#         print dnu_fsr*1.e-12, 'THz'\n",
    "#         print length *1.e6 , 'um'\n",
    "\n",
    "\n",
    "\n",
    "# wavelengths,filenumbers,intensities = sa.load_data(data_file)\n",
    "\n",
    "\n",
    "f = open(os.path.join(data_dir,'fsr_data.txt'), 'w')\n",
    "np.savetxt(f,avg_nu_fsrs)\n",
    "f.close()"
   ]
  },
  {
   "cell_type": "code",
   "execution_count": null,
   "metadata": {
    "collapsed": false
   },
   "outputs": [],
   "source": [
    "\n",
    "nu_fsrs = np.loadtxt(os.path.join(data_dir,'fsr_data.txt'))\n",
    "\n",
    "linewidths = np.loadtxt(os.path.join(data_dir,'linewidth_data.txt'))\n",
    "\n"
   ]
  },
  {
   "cell_type": "code",
   "execution_count": null,
   "metadata": {
    "collapsed": false
   },
   "outputs": [],
   "source": [
    "fig,ax = plt.subplots()\n",
    "\n",
    "ax.errorbar(nu_fsrs[:,0]*1.e-14,linewidths[:,0],xerr = nu_fsrs[:,1]*1.e-14,yerr=linewidths[:,1])\n",
    "ax.set_xlabel('linewidth (GHz)')\n",
    "ax.set_ylabel('nu FSR (THz)')\n",
    "\n",
    "plt.show()\n",
    "\n",
    "fig1,ax1 = plt.subplots()\n",
    "\n",
    "ax1.errorbar(c/(2*nu_fsrs[:,0])*1.e6,np.divide(nu_fsrs[:,0],linewidths[:,0]*1.e9),yerr=linewidths[:,1])\n",
    "ax1.set_xlabel('cavity length (um)')\n",
    "ax1.set_ylabel('Finesse')\n"
   ]
  },
  {
   "cell_type": "code",
   "execution_count": null,
   "metadata": {
    "collapsed": false
   },
   "outputs": [],
   "source": [
    "reload(sa_2D)\n",
    "minimum_peak_height = 5000\n",
    "x0s,u_x0s=sa_2D.peaks_from_1D_data(wavelengths,intensities[:,0],data_dir=data_dir,save_fig=False,plot_fit =False, plot_peak_locations=True,minimum_peak_height=minimum_peak_height, g_gamma=1)\n",
    "\n",
    "\n"
   ]
  },
  {
   "cell_type": "code",
   "execution_count": null,
   "metadata": {
    "collapsed": false
   },
   "outputs": [],
   "source": [
    "#Finding cavity length from peaks\n",
    "\n",
    "for i in np.arange(len(x0s)-1):\n",
    "    fund_1 = x0s[i]\n",
    "    fund_2 = x0s[i+1]\n",
    "    dnu_fsr = np.abs(fund_2 - fund_1)*1.e12\n",
    "    if dnu_fsr>3*1.e12:\n",
    "        length = c/(2*dnu_fsr)\n",
    "        print dnu_fsr*1.e-12, 'THz'\n",
    "        print length *1.e6 , 'um'\n",
    "\n",
    "\n",
    "fund_1 = x0s[0]\n",
    "fund_2 = x0s[3]\n",
    "dnu_fsr = np.abs(fund_2 - fund_1)*1.e12\n",
    "if dnu_fsr>2*1.e12:\n",
    "    length = c/(2*dnu_fsr)\n",
    "    print dnu_fsr*1.e-12, 'THz'\n",
    "    print length *1.e6 , 'um'\n"
   ]
  },
  {
   "cell_type": "code",
   "execution_count": null,
   "metadata": {
    "collapsed": false
   },
   "outputs": [],
   "source": [
    "reload(sa_2D)\n",
    "sa_2D.peaks_from_2D_data(data_dir,plot_peak_locations=False,minimum_peak_height=minimum_peak_height)"
   ]
  },
  {
   "cell_type": "code",
   "execution_count": null,
   "metadata": {
    "collapsed": true
   },
   "outputs": [],
   "source": []
  }
 ],
 "metadata": {
  "kernelspec": {
   "display_name": "Python 2",
   "language": "python",
   "name": "python2"
  },
  "language_info": {
   "codemirror_mode": {
    "name": "ipython",
    "version": 2
   },
   "file_extension": ".py",
   "mimetype": "text/x-python",
   "name": "python",
   "nbconvert_exporter": "python",
   "pygments_lexer": "ipython2",
   "version": "2.7.3"
  }
 },
 "nbformat": 4,
 "nbformat_minor": 0
}
