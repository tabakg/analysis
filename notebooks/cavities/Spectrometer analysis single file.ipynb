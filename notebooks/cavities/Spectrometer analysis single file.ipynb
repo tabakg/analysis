{
 "metadata": {
  "kernelspec": {
   "display_name": "Python 2",
   "language": "python",
   "name": "python2"
  },
  "language_info": {
   "codemirror_mode": {
    "name": "ipython",
    "version": 2
   },
   "file_extension": ".py",
   "mimetype": "text/x-python",
   "name": "python",
   "nbconvert_exporter": "python",
   "pygments_lexer": "ipython2",
   "version": "2.7.3"
  },
  "name": "",
  "signature": "sha256:fd8ccc2309e9bd4702c6b3c78d40bd8dd5f433acd47c4b7f3e9518f364d68a23"
 },
 "nbformat": 3,
 "nbformat_minor": 0,
 "worksheets": [
  {
   "cells": [
    {
     "cell_type": "code",
     "collapsed": false,
     "input": [
      "%matplotlib inline\n",
      "import os\n",
      "import numpy as np\n",
      "import sys\n",
      "import matplotlib\n",
      "import matplotlib.pyplot as plt\n",
      "c=2.998e8 #speed of light\n",
      "import time\n",
      "filepath='D:/measuring/'\n",
      "import scipy.signal\n",
      "os.chdir(filepath)\n",
      "\n",
      "sys.path.append('H:/My Documents/measuring/')\n",
      "\n",
      "data_dir='D:\\measuring\\data/data_for_cav_char_paper/20160819\\spectrometer/RT_OFFD_2D_split_peak'#:\\measuring\\data/20160503\\ON diamond\\pos 7/raw data spectrometer\\L9'#'D:\\measuring\\data/20160707\\CL2_newmirror_processed'#\"/Users/suzannevandam/Documents/PhD/localdata/20160430/ON_diamond\" \n",
      "print data_dir\n",
      "\n",
      "%matplotlib inline"
     ],
     "language": "python",
     "metadata": {},
     "outputs": [
      {
       "output_type": "stream",
       "stream": "stdout",
       "text": [
        "D:\\measuring\\data/data_for_cav_char_paper/20160819\\spectrometer/RT_OFFD_2D_split_peak\n"
       ]
      }
     ],
     "prompt_number": 5
    },
    {
     "cell_type": "code",
     "collapsed": false,
     "input": [
      "import analysis.scripts.cavity.spectrometer_analysis as sa\n",
      "import analysis.scripts.cavity.spectrometer_analysis_2Dsweep as spectrometer_analysis_2Dsweep"
     ],
     "language": "python",
     "metadata": {},
     "outputs": [],
     "prompt_number": 6
    },
    {
     "cell_type": "code",
     "collapsed": false,
     "input": [
      "\n",
      "sa_2D = spectrometer_analysis_2Dsweep.spectrometer_2D_analysis(data_dir,V_min=0,V_max=10,laser_wavelength=636.6e-9)\n",
      "frequencies,filenumbers,intensities = sa_2D.get_data(min_frq=432,max_frq=510)#load_data_from_folder(data_dir)\n"
     ],
     "language": "python",
     "metadata": {},
     "outputs": [],
     "prompt_number": 7
    },
    {
     "cell_type": "code",
     "collapsed": false,
     "input": [
      "plt.plot(frequencies,intensities[:,0])"
     ],
     "language": "python",
     "metadata": {},
     "outputs": [
      {
       "metadata": {},
       "output_type": "pyout",
       "prompt_number": 8,
       "text": [
        "[<matplotlib.lines.Line2D at 0x11a566f0>]"
       ]
      },
      {
       "metadata": {},
       "output_type": "display_data",
       "png": "[encoded data removed]",
       "text": [
        "<matplotlib.figure.Figure at 0x11788af0>"
       ]
      }
     ],
     "prompt_number": 8
    },
    {
     "cell_type": "code",
     "collapsed": false,
     "input": [
      "minimum_peak_height = 2000\n",
      "minimum_peak_distance = 200\n",
      "max_gamma = 1\n",
      "g_gamma=0.2\n",
      "keep_same_height = True\n",
      "remove_hom = True\n",
      "x0s,u_x0s=sa_2D.peaks_from_1D_data(intensity=sa_2D.intensities[:,0],plot_peak_locations=True,\n",
      "                                   max_gamma = max_gamma,\n",
      "                                   minimum_peak_height=minimum_peak_height,\n",
      "                                   minimum_peak_distance=minimum_peak_distance,\n",
      "                                   g_gamma=g_gamma,\n",
      "                                   plot_fit=False,\n",
      "                                   fit_peaks=True,\n",
      "                                      kpsh=keep_same_height,remove_hom=remove_hom)\n",
      "print x0s\n",
      "\n",
      "nu_fsrs=np.array([])\n",
      "\n",
      "# x0s=x0s[:-1]\n",
      "\n",
      "for l in np.arange(len(x0s)-1):\n",
      "    fund_1 = x0s[l]\n",
      "    fund_2 = x0s[l+1]\n",
      "    nu_fsr = np.abs(fund_2 - fund_1)*1.e12\n",
      "    length = c/(2*nu_fsr)\n",
      "    print 'FSR is ', nu_fsr*1.e-12, 'THz'\n",
      "    print 'length is ',length *1.e6 , 'um'\n",
      "    nu_fsrs = np.append(nu_fsrs,nu_fsr)\n",
      "\n",
      "print nu_fsrs\n",
      "avg_nu_fsr = np.average(nu_fsrs)\n",
      "u_avg_nu_fsr = np.std(nu_fsrs)\n",
      "print avg_nu_fsr\n",
      "# avg_nu_fsrs[i,0] = avg_nu_fsr \n",
      "# avg_nu_fsrs[i,1] = u_avg_nu_fsr\n",
      "\n",
      "length = c/(2*avg_nu_fsr)\n",
      "\n",
      "print 'length is ',length *1.e6 , 'um'"
     ],
     "language": "python",
     "metadata": {},
     "outputs": [
      {
       "output_type": "stream",
       "stream": "stdout",
       "text": [
        "number of failed fits: 5\n"
       ]
      },
      {
       "metadata": {},
       "output_type": "display_data",
       "png": "[encoded data removed]",
       "text": [
        "<matplotlib.figure.Figure at 0x11856730>"
       ]
      },
      {
       "output_type": "stream",
       "stream": "stdout",
       "text": [
        "[ 494.21263845  465.2695214   436.3948608 ]\n",
        "FSR is  28.9431170454 THz\n",
        "length is  5.1791242721 um\n",
        "FSR is  28.8746606077 THz\n",
        "length is  5.1914030103 um\n",
        "[  2.89431170e+13   2.88746606e+13]\n",
        "2.89088888265e+13\n",
        "length is  5.18525637217 um\n"
       ]
      }
     ],
     "prompt_number": 14
    },
    {
     "cell_type": "code",
     "collapsed": false,
     "input": [
      "nr_datafiles = 1\n",
      "minimum_peak_heights = [6000,12000]\n",
      "avg_nu_fsrs = np.zeros((nr_datafiles,2))\n",
      "min_fsrs = np.ones(nr_datafiles)*4*1.e12\n",
      "max_fsrs = np.ones(nr_datafiles)*20.e12\n",
      "#max_fsrs[5] = 40.e12\n",
      "#max_fsrs[6] = 40.e12\n",
      "#max_fsrs[7] = 50.e12\n",
      "#max_fsrs[8] = 50.e12\n",
      "#min_fsrs[7] = 10.e12\n",
      "#min_fsrs[8] = 10.e12\n",
      "\n",
      "reload(sa_2D)\n",
      "filename = '2016 september 07 18_01_47 OND_LT_POS2_L4 1185.csv'\n",
      "\n",
      "sa_2D = spectrometer_analysis_2Dsweep.spectrometer_2D_analysis(data_dir,V_min=0,V_max=10,laser_wavelength=636.6e-9)\n",
      "frequencies,filenumbers,intensities = sa_2D.get_data(min_frq=432,max_frq=496)#load_data_from_folder(data_dir)\n",
      "\n",
      "\n",
      "for i in np.arange(nr_datafiles):\n",
      "#    data_folder = os.path.join(data_dir,'L'+str(i))\n",
      "    datafile = os.path.join(data_dir, filename)\n",
      "\n",
      "    #note that what are called wavelengths, are actually the frequencies in THz! \n",
      "    wavelengths,intensities = sa.load_data(datafile)\n",
      "\n",
      "    minimum_peak_height = minimum_peak_heights[i]\n",
      "    x0s,u_x0s=sa_2D.peaks_from_1D_data(wavelengths,intensities[:,0],\n",
      "                                       data_dir=datafile,save_fig=False,\n",
      "                                       plot_fit =False, plot_peak_locations=True,minimum_peak_distance=10,\n",
      "                                       minimum_peak_height=minimum_peak_height, g_gamma=0.1)\n",
      "    print x0s\n",
      "\n",
      "    # reinitialise every time\n",
      "    nu_fsrs=np.array([])\n",
      "\n",
      "    if i == 4:\n",
      "        x0s=x0s[:-2]\n",
      "    \n",
      "    for l in np.arange(len(x0s)-1):\n",
      "        fund_1 = x0s[l]\n",
      "        fund_2 = x0s[l+1]\n",
      "        nu_fsr = np.abs(fund_2 - fund_1)*1.e12\n",
      "        if ((nu_fsr>min_fsrs[i]) and (nu_fsr<max_fsrs[i])):\n",
      "            length = c/(2*nu_fsr)\n",
      "            print nu_fsr*1.e-12, 'THz'\n",
      "            print length *1.e6 , 'um'\n",
      "            nu_fsrs = np.append(nu_fsrs,nu_fsr)\n",
      "            \n",
      "    print nu_fsrs\n",
      "    avg_nu_fsr = np.average(nu_fsrs)\n",
      "    u_avg_nu_fsr = np.std(nu_fsrs)\n",
      "    print avg_nu_fsr\n",
      "    avg_nu_fsrs[i,0] = avg_nu_fsr \n",
      "    avg_nu_fsrs[i,1] = u_avg_nu_fsr\n",
      "            \n",
      "        \n",
      "#     fund_1 = x0s[0]\n",
      "#     fund_2 = x0s[3]\n",
      "#     dnu_fsr = np.abs(fund_2 - fund_1)*1.e12\n",
      "#     if dnu_fsr>2*1.e12:\n",
      "#         length = c/(2*dnu_fsr)\n",
      "#         print dnu_fsr*1.e-12, 'THz'\n",
      "#         print length *1.e6 , 'um'\n",
      "\n",
      "\n",
      "\n",
      "# wavelengths,filenumbers,intensities = sa.load_data(data_file)\n",
      "\n",
      "\n",
      "f = open(os.path.join(data_dir,'fsr_data.txt'), 'w')\n",
      "np.savetxt(f,avg_nu_fsrs)\n",
      "f.close()"
     ],
     "language": "python",
     "metadata": {},
     "outputs": [],
     "prompt_number": null
    },
    {
     "cell_type": "code",
     "collapsed": false,
     "input": [
      "# nus = [430.99,449.51,468.4,487.4]\n",
      "# nus = [431.07,449.61,468.54,487.53]\n",
      "# nus = [431.3,486.64]\n",
      "# nus = [438.38, 495.11]\n",
      "# nus = [441.52,471.33]\n",
      "# nus=[434.48,470.77]\n",
      "# nus = [451.34,484.24]\n",
      "nus = [438.17,467.62,497.43]\n",
      "nu_fsrs = np.array([])\n",
      "\n",
      "for i,nu in enumerate(nus):\n",
      "    if i < len(nus)-1:\n",
      "        print i\n",
      "        nu_fsr = nus[i+1] - nus[i]\n",
      "        nu_fsrs =np.append(nu_fsrs,nu_fsr)\n",
      "print nu_fsrs\n",
      "avg_nu_fsrs = np.average(nu_fsrs*1.e12)\n",
      "u_avg_nu_fsr = np.std(nu_fsrs*1.e12)\n",
      "length = c/(2*avg_nu_fsrs)\n",
      "print 'cavity length is ',length\n"
     ],
     "language": "python",
     "metadata": {},
     "outputs": [],
     "prompt_number": null
    },
    {
     "cell_type": "code",
     "collapsed": false,
     "input": [
      "636.6/2*9"
     ],
     "language": "python",
     "metadata": {},
     "outputs": [],
     "prompt_number": null
    },
    {
     "cell_type": "code",
     "collapsed": false,
     "input": [
      "\n",
      "nu_fsrs = np.loadtxt(os.path.join(data_dir,'fsr_data.txt'))\n",
      "\n",
      "linewidths = np.loadtxt(os.path.join(data_dir,'linewidth_data.txt'))\n",
      "\n"
     ],
     "language": "python",
     "metadata": {},
     "outputs": [],
     "prompt_number": null
    },
    {
     "cell_type": "code",
     "collapsed": false,
     "input": [
      "fig,ax = plt.subplots()\n",
      "\n",
      "ax.errorbar(nu_fsrs[:,0]*1.e-14,linewidths[:,0],xerr = nu_fsrs[:,1]*1.e-14,yerr=linewidths[:,1])\n",
      "ax.set_xlabel('nu FSR (THz)')\n",
      "ax.set_ylabel('linewidth (GHz)')\n",
      "\n",
      "plt.show()\n",
      "\n",
      "fig1,ax1 = plt.subplots()\n",
      "\n",
      "ax1.errorbar(c/(2*nu_fsrs[:,0])*1.e6,np.divide(nu_fsrs[:,0],linewidths[:,0]*1.e9),yerr=linewidths[:,1])\n",
      "ax1.set_xlabel('cavity length (um)')\n",
      "ax1.set_ylabel('Finesse')\n"
     ],
     "language": "python",
     "metadata": {
      "scrolled": true
     },
     "outputs": [],
     "prompt_number": null
    },
    {
     "cell_type": "code",
     "collapsed": false,
     "input": [
      "reload(sa_2D)\n",
      "minimum_peak_height = 6500\n",
      "x0s,u_x0s=sa_2D.peaks_from_1D_data(wavelengths,intensities[:,0],data_dir=data_dir,save_fig=False,plot_fit =False, plot_peak_locations=True,minimum_peak_height=minimum_peak_height, g_gamma=1)\n",
      "\n",
      "\n"
     ],
     "language": "python",
     "metadata": {},
     "outputs": [],
     "prompt_number": null
    },
    {
     "cell_type": "code",
     "collapsed": false,
     "input": [
      "#Finding cavity length from peaks\n",
      "\n",
      "for i in np.arange(len(x0s)-1):\n",
      "    fund_1 = x0s[i]\n",
      "    fund_2 = x0s[i+1]\n",
      "    dnu_fsr = np.abs(fund_2 - fund_1)*1.e12\n",
      "    if dnu_fsr>3*1.e12:\n",
      "        length = c/(2*dnu_fsr)\n",
      "        print dnu_fsr*1.e-12, 'THz'\n",
      "        print length *1.e6 , 'um'\n",
      "\n",
      "\n",
      "fund_1 = x0s[0]\n",
      "fund_2 = x0s[1]\n",
      "dnu_fsr = np.abs(fund_2 - fund_1)*1.e12\n",
      "if dnu_fsr>2*1.e12:\n",
      "    length = c/(2*dnu_fsr)\n",
      "    print dnu_fsr*1.e-12, 'THz'\n",
      "    print length *1.e6 , 'um'\n"
     ],
     "language": "python",
     "metadata": {},
     "outputs": [],
     "prompt_number": null
    },
    {
     "cell_type": "code",
     "collapsed": false,
     "input": [],
     "language": "python",
     "metadata": {
      "scrolled": true
     },
     "outputs": [],
     "prompt_number": null
    },
    {
     "cell_type": "code",
     "collapsed": true,
     "input": [
      "###analysing SPE files"
     ],
     "language": "python",
     "metadata": {},
     "outputs": [],
     "prompt_number": null
    },
    {
     "cell_type": "code",
     "collapsed": false,
     "input": [],
     "language": "python",
     "metadata": {},
     "outputs": [],
     "prompt_number": null
    },
    {
     "cell_type": "code",
     "collapsed": true,
     "input": [],
     "language": "python",
     "metadata": {},
     "outputs": [],
     "prompt_number": null
    },
    {
     "cell_type": "code",
     "collapsed": true,
     "input": [],
     "language": "python",
     "metadata": {},
     "outputs": [],
     "prompt_number": null
    },
    {
     "cell_type": "code",
     "collapsed": true,
     "input": [],
     "language": "python",
     "metadata": {},
     "outputs": [],
     "prompt_number": null
    },
    {
     "cell_type": "code",
     "collapsed": true,
     "input": [],
     "language": "python",
     "metadata": {},
     "outputs": [],
     "prompt_number": null
    }
   ],
   "metadata": {}
  }
 ]
}