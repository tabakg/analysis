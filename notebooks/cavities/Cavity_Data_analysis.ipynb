{
 "metadata": {
  "name": "",
  "signature": ""
 },
 "nbformat": 3,
 "nbformat_minor": 0,
 "worksheets": [
  {
   "cells": [
    {
     "cell_type": "code",
     "collapsed": false,
     "input": [
      "import sys\n",
      "%matplotlib inline\n",
      "\n",
      "sys.path.append(\"D:/measuring\")\n",
      "sys.path.append(\"D:/measuring/analysis/\")\n",
      "sys.path.append(\"K:/ns/qt/Diamond/Samples/Markers_design_Wolfgang\")\n",
      "execfile(\"nv_marker.py\")"
     ],
     "language": "python",
     "metadata": {},
     "outputs": []
    },
    {
     "cell_type": "code",
     "collapsed": false,
     "input": [
      "import analysis.scripts.cavity.fit_sweep_msync_delays as fit_sweep\n",
      "import analysis.lib.tools.toolbox as tb"
     ],
     "language": "python",
     "metadata": {},
     "outputs": []
    },
    {
     "cell_type": "code",
     "collapsed": false,
     "input": [
      "sys.path.append(\"K:/ns/qt/Diamond/Samples/Markers_design_Wolfgang\")\n",
      "execfile(\"nv_marker.py\")\n"
     ],
     "language": "python",
     "metadata": {},
     "outputs": []
    },
    {
     "cell_type": "heading",
     "level": 1,
     "metadata": {},
     "source": [
      "sweep sync delays analysis"
     ]
    },
    {
     "cell_type": "code",
     "collapsed": false,
     "input": [
      "fit_linewidth2.fit_linewidth(folder = tb.latest_data('145310_piezo_scan_zoki_pos8_RT'))"
     ],
     "language": "python",
     "metadata": {},
     "outputs": []
    },
    {
     "cell_type": "code",
     "collapsed": false,
     "input": [
      "reload(fit_sweep)\n",
      "fit_sweep.fit_sweep_msync_delays(folder = tb.latest_data('sawtooth'),threshold=0.01,delta=0.02)"
     ],
     "language": "python",
     "metadata": {},
     "outputs": []
    },
    {
     "cell_type": "code",
     "collapsed": false,
     "input": [
      "execfile(\"D:/measuring/analysis/scripts/cavity/fit_sweep_msync_delays.py\")"
     ],
     "language": "python",
     "metadata": {},
     "outputs": []
    },
    {
     "cell_type": "code",
     "collapsed": false,
     "input": [
      "import numpy as np\n",
      "a=np.array([1])\n",
      "b=[1,2,3]\n",
      "[b[i] for i in a]"
     ],
     "language": "python",
     "metadata": {},
     "outputs": []
    },
    {
     "cell_type": "code",
     "collapsed": false,
     "input": [
      "execfile(\"D:/measuring/analysis/scripts/cavity/fit_linewidth2.py\")"
     ],
     "language": "python",
     "metadata": {},
     "outputs": []
    },
    {
     "cell_type": "code",
     "collapsed": false,
     "input": [],
     "language": "python",
     "metadata": {},
     "outputs": []
    },
    {
     "cell_type": "code",
     "collapsed": false,
     "input": [],
     "language": "python",
     "metadata": {},
     "outputs": []
    },
    {
     "cell_type": "code",
     "collapsed": false,
     "input": [],
     "language": "python",
     "metadata": {},
     "outputs": []
    },
    {
     "cell_type": "code",
     "collapsed": false,
     "input": [],
     "language": "python",
     "metadata": {},
     "outputs": []
    },
    {
     "cell_type": "code",
     "collapsed": false,
     "input": [
      "colors = ['red']\n",
      "x= np.array([0,1,2,3])\n",
      "y = np.array([3,4,5,6])\n",
      "y2 = np.array([[3,4,5,6],[7,8,9,1]])\n",
      "y.ndim\n",
      "\n",
      "if y.ndim==1:\n",
      "    plt.plot(x, y, color='red', linewidth =2)\n",
      "else:\n",
      "    rows,cols = np.shape(y)\n",
      "    if (colors == None) or (len(colors) < rows):\n",
      "        print colors\n",
      "        colori = cm.gist_earth(np.linspace(0,0.75, rows))\n",
      "    else:\n",
      "        colori=color\n",
      "    \n",
      "    for j in np.arange(rows):\n",
      "        plt.plot(x, y[j,:], 'RoyalBlue')            \n",
      "        plt.plot(x, y[j,:], 'o', color = colori[j])\n",
      "plt.show()\n",
      "    "
     ],
     "language": "python",
     "metadata": {},
     "outputs": []
    },
    {
     "cell_type": "code",
     "collapsed": false,
     "input": [
      "x = np.array([])\n",
      "print type(x)\n",
      "a = np.array([1,2,3])\n",
      "b = np.array([4,5,6])\n",
      "print type(b)\n",
      "c = np.append([a],[b],axis = 0)\n",
      "print type(c)\n",
      "a = c\n",
      "c = np.append(c,[b],axis=0)\n",
      "print c\n",
      "print a,b"
     ],
     "language": "python",
     "metadata": {},
     "outputs": []
    },
    {
     "cell_type": "code",
     "collapsed": false,
     "input": [
      "print rows,cols"
     ],
     "language": "python",
     "metadata": {},
     "outputs": []
    },
    {
     "cell_type": "code",
     "collapsed": false,
     "input": [
      "from matplotlib import cm\n",
      "colori = cm.gist_earth(np.linspace(0,1, 11))\n",
      "print colori\n",
      "\n",
      "for i in np.arange(11):\n",
      "    print colori[i]\n",
      "    plt.hold(True)\n",
      "    plt.plot(x, y, color=colori[i], linewidth =2)\n",
      "    plt.show()"
     ],
     "language": "python",
     "metadata": {},
     "outputs": []
    },
    {
     "cell_type": "code",
     "collapsed": false,
     "input": [
      "sys.path.append(\"D:/measuring/analysis/\")"
     ],
     "language": "python",
     "metadata": {},
     "outputs": []
    },
    {
     "cell_type": "code",
     "collapsed": false,
     "input": [
      "import sys\n",
      "%matplotlib inline\n",
      "\n",
      "sys.path.append(\"K:/ns/qt/Diamond/Samples/Markers_design_Wolfgang\")\n",
      "\n",
      "execfile(\"K:/ns/qt/Diamond/Samples/Markers_design_Wolfgang/nv_markers.py\")"
     ],
     "language": "python",
     "metadata": {},
     "outputs": []
    },
    {
     "cell_type": "code",
     "collapsed": false,
     "input": [],
     "language": "python",
     "metadata": {},
     "outputs": []
    }
   ],
   "metadata": {}
  }
 ]
}
