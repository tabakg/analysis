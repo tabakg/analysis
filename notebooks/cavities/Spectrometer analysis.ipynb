{
 "cells": [
  {
   "cell_type": "code",
   "execution_count": null,
   "metadata": {
    "collapsed": false
   },
   "outputs": [],
   "source": [
    "%matplotlib inline\n",
    "import os\n",
    "import numpy as np\n",
    "import sys\n",
    "import matplotlib\n",
    "import matplotlib.pyplot as plt\n",
    "c=3.e8 #speed of light\n",
    "\n",
    "filepath='D:/measuring/'\n",
    "import scipy.signal\n",
    "os.chdir(filepath)\n",
    "\n",
    "sys.path.append('H:/My Documents/measuring/')\n",
    "\n",
    "data_dir='D:\\measuring\\data/20160503\\ON diamond\\pos 7/raw data spectrometer\\L7'#'D:\\measuring\\data/20160707\\CL2_newmirror_processed'#\"/Users/suzannevandam/Documents/PhD/localdata/20160430/ON_diamond\" \n",
    "print data_dir\n",
    "\n",
    "%matplotlib inline"
   ]
  },
  {
   "cell_type": "code",
   "execution_count": null,
   "metadata": {
    "collapsed": false
   },
   "outputs": [],
   "source": [
    "import analysis.scripts.cavity.spectrometer_analysis as sa\n",
    "import analysis.scripts.cavity.spectrometer_analysis_2Dsweep as sa_2D"
   ]
  },
  {
   "cell_type": "markdown",
   "metadata": {},
   "source": [
    "# Finding the cavity length from a 2D plot on diamond"
   ]
  },
  {
   "cell_type": "markdown",
   "metadata": {},
   "source": [
    "1. load the data from data_dir containing your 2D sweep data, and check if it looks fine"
   ]
  },
  {
   "cell_type": "code",
   "execution_count": null,
   "metadata": {
    "collapsed": false
   },
   "outputs": [],
   "source": [
    "#note that what are called wavelengths, are actually the frequencies in THz! \n",
    "wavelengths,filenumbers,intensities = sa.load_data_from_folder(data_dir)"
   ]
  },
  {
   "cell_type": "code",
   "execution_count": null,
   "metadata": {
    "collapsed": false
   },
   "outputs": [],
   "source": [
    "plt.plot(wavelengths,intensities[:,0])"
   ]
  },
  {
   "cell_type": "code",
   "execution_count": null,
   "metadata": {
    "collapsed": false
   },
   "outputs": [],
   "source": [
    "reload(sa_2D)\n",
    "sa_2D.plot_data(data_dir,wavelengths,intensities,vmax=1000, aspect =0.1)"
   ]
  },
  {
   "cell_type": "markdown",
   "metadata": {},
   "source": [
    "2. Find the peaks of one of the spectrometer sweep, and check if your settings (especially: minimum_peak_height) is fine.\n",
    "   check with 2D data if it works well "
   ]
  },
  {
   "cell_type": "code",
   "execution_count": null,
   "metadata": {
    "collapsed": false
   },
   "outputs": [],
   "source": [
    "reload(sa_2D)\n",
    "minimum_peak_height = 500\n",
    "x0s,u_x0s=sa_2D.peaks_from_1D_data(wavelengths,intensities[:,0],plot_peak_locations=True,minimum_peak_height=minimum_peak_height)"
   ]
  },
  {
   "cell_type": "code",
   "execution_count": null,
   "metadata": {
    "collapsed": false
   },
   "outputs": [],
   "source": [
    "#Finding cavity length from peaks\n",
    "\n",
    "fund_1 = x0s[3]\n",
    "fund_2 = x0s[4]\n",
    "print x0s\n",
    "dnu_fsr = np.abs(fund_2 - fund_1)*1.e12\n",
    "length = c/(2*dnu_fsr)\n",
    "print length \n",
    "lengths = np.append(lengths,length)"
   ]
  },
  {
   "cell_type": "code",
   "execution_count": null,
   "metadata": {
    "collapsed": false
   },
   "outputs": [],
   "source": [
    "reload(sa_2D)\n",
    "sa_2D.peaks_from_2D_data(data_dir,plot_peak_locations=False,minimum_peak_height=minimum_peak_height)"
   ]
  },
  {
   "cell_type": "markdown",
   "metadata": {},
   "source": [
    "3. determine from the plot above which min_voltage and min_frequency you want to use.\n",
    "check if diamond and air modes are plottted. \n",
    "later you can come back here to plot the overlap of peaks and modes for your best outcome."
   ]
  },
  {
   "cell_type": "code",
   "execution_count": null,
   "metadata": {
    "collapsed": false
   },
   "outputs": [],
   "source": [
    "reload(sa_2D)\n",
    "min_voltage = 4\n",
    "min_frequency = 420\n",
    "sa_2D.overlap_peaks_and_modes(data_dir=data_dir,\n",
    "                               conversion_factor=307.e-9,diamond_thickness=4.232e-6,cavity_length=12.462e-6,\n",
    "                               minimum_peak_height=minimum_peak_height,plot_fit=False,\n",
    "                               min_voltage = min_voltage,min_frequency=min_frequency)# min_frequency=450\n"
   ]
  },
  {
   "cell_type": "markdown",
   "metadata": {},
   "source": [
    "Now: determine which diamond thicknesses and air lengths you want to check, and find the mean squares.\n",
    "Plot the mean squares to check if the answer is as expected.\n",
    "Then go back to the above function to see if indeed this gives a good overlap."
   ]
  },
  {
   "cell_type": "code",
   "execution_count": null,
   "metadata": {
    "collapsed": false,
    "scrolled": true
   },
   "outputs": [],
   "source": [
    "diamond_thicknesses = np.linspace(3.2e-6,5.2e-6,51)\n",
    "air_lengths = np.linspace(11.05e-6,16.05e-6,51)\n",
    "reload(sa_2D)\n",
    "ms_overlaps = sa_2D.find_best_overlap_peaks_and_modes(data_dir,diamond_thicknesses, air_lengths,\n",
    "                                                      minimum_peak_height=minimum_peak_height,\n",
    "                                                      min_voltage = min_voltage,min_frequency=min_frequency)"
   ]
  },
  {
   "cell_type": "code",
   "execution_count": null,
   "metadata": {
    "collapsed": false
   },
   "outputs": [],
   "source": [
    "ix_min_mean_square_overlap = np.unravel_index(ms_overlaps.argmin(), ms_overlaps.shape)\n",
    "print 'lowest mean square error (',ms_overlaps[ix_min_mean_square_overlap], ') is found for:'\n",
    "print 'diamond thickness: ',diamond_thicknesses[ix_min_mean_square_overlap[0]]*1.e6, 'um'\n",
    "print 'air length: ',air_lengths[ix_min_mean_square_overlap[1]]*1.e6, 'um'\n",
    "print 'total cavity length:', (diamond_thicknesses[ix_min_mean_square_overlap[0]]+air_lengths[ix_min_mean_square_overlap[1]])*1.e6, 'um'\n",
    "\n",
    "\n",
    "fig,ax = plt.subplots()\n",
    "ax.set_xlabel('air length (um)',fontsize =16)\n",
    "ax.set_ylabel('diamond thickness (um)',fontsize = 16)\n",
    "ax.set_title('mean square deviation')\n",
    "extent = [air_lengths[0]*1.e6,air_lengths[-1]*1.e6,diamond_thicknesses[-1]*1.e6,diamond_thicknesses[0]*1.e6]\n",
    "im = ax.imshow(ms_overlaps, extent=extent, interpolation='None', cmap='afmhot',aspect=2)\n",
    "\n",
    "plt.colorbar(im)  \n",
    "\n",
    "fig.savefig(os.path.join(data_dir, 'overlap_mean_square_deviations.png'))\n"
   ]
  },
  {
   "cell_type": "code",
   "execution_count": null,
   "metadata": {
    "collapsed": false
   },
   "outputs": [],
   "source": [
    "# you can plot the mean square deviation on a log scale to make things more clear. although here vmax is still useful.\n",
    "\n",
    "fig,ax = plt.subplots()\n",
    "ax.set_xlabel('air length (um)',fontsize =16)\n",
    "ax.set_ylabel('diamond thickness (um)',fontsize = 16)\n",
    "ax.set_title('log square deviation')\n",
    "\n",
    "extent = [air_lengths[0]*1.e6,air_lengths[-1]*1.e6,diamond_thicknesses[-1]*1.e6,diamond_thicknesses[0]*1.e6]\n",
    "im = ax.imshow(np.log(ms_overlaps), extent=extent, interpolation='None', cmap='afmhot',aspect=1.6,vmax=0)\n",
    "\n",
    "plt.colorbar(im)  \n",
    "\n",
    "fig.savefig(os.path.join(data_dir, 'overlap_log_mean_square_deviations.png'))\n"
   ]
  },
  {
   "cell_type": "code",
   "execution_count": null,
   "metadata": {
    "collapsed": false
   },
   "outputs": [],
   "source": [
    "# If you want, you can plot several of the manual overlaps, for consecutive cavity lenghts\n",
    "\n",
    "reload(sa_2D)\n",
    "\n",
    "for i in np.arange(-3,4):\n",
    "    print i \n",
    "    cavity_length = 12.e-6 + i*325.e-9\n",
    "    \n",
    "    sa_2D.overlap_peaks_and_modes(data_dir=data_dir,\n",
    "                               conversion_factor=307.e-9,diamond_thickness=4.1e-6,cavity_length=cavity_length,\n",
    "                               minimum_peak_height=1000,plot_fit=False,min_frequency=450, min_voltage = 0) \n"
   ]
  },
  {
   "cell_type": "code",
   "execution_count": null,
   "metadata": {
    "collapsed": false
   },
   "outputs": [],
   "source": [
    "# If you want, you can plot several of the manual overlaps, for consecutive diamond thicknesses\n",
    "\n",
    "reload(sa_2D)\n",
    "\n",
    "for i in np.arange(-3,4):\n",
    "    print i \n",
    "    diamond_thickness = 4.1e-6 + i*133.e-9\n",
    "    cavity_length = 12.35e-6 + i*133.e-9 \n",
    "    \n",
    "    sa_2D.overlap_peaks_and_modes(data_dir=data_dir,\n",
    "                               conversion_factor=307.e-9,diamond_thickness=diamond_thickness,cavity_length=cavity_length,\n",
    "                               minimum_peak_height=1000,plot_fit=False,min_frequency=450, min_voltage = 0) \n",
    "    plt.show()\n",
    "\n",
    "    "
   ]
  },
  {
   "cell_type": "markdown",
   "metadata": {},
   "source": [
    "### check cavity length for several spectrometer scans on bare cavity"
   ]
  },
  {
   "cell_type": "code",
   "execution_count": null,
   "metadata": {
    "collapsed": false
   },
   "outputs": [],
   "source": [
    "reload(sa_2D)\n",
    "reload(sa)\n",
    "\n",
    "lengths = np.array([])\n",
    "### pick by hand the peaks that are the fundamental modes\n",
    "\n",
    "#scan nr 0\n",
    "x0s,u_x0s=sa_2D.peaks_from_1D_data(wavelengths,intensities[:,0],plot_peak_locations=False)\n",
    "fund_1 = x0s[1]\n",
    "fund_2 = x0s[-1]\n",
    "\n",
    "dnu_fsr = np.abs(fund_2 - fund_1)*1.e12\n",
    "length = c/(2*dnu_fsr)\n",
    "print length \n",
    "lengths = np.append(lengths,length)\n",
    "\n",
    "#scan nr 1\n",
    "x0s,u_x0s=sa_2D.peaks_from_1D_data(wavelengths,intensities[:,1],plot_peak_locations=False)\n",
    "fund_1 = x0s[1]\n",
    "fund_2 = x0s[-1]\n",
    "\n",
    "dnu_fsr = np.abs(fund_2 - fund_1)*1.e12\n",
    "length = c/(2*dnu_fsr)\n",
    "print length\n",
    "lengths = np.append(lengths,length)\n",
    "\n",
    "\n",
    "#scan nr 2\n",
    "x0s,u_x0s=sa_2D.peaks_from_1D_data(wavelengths,intensities[:,2],plot_peak_locations=False)\n",
    "fund_1 = x0s[2]\n",
    "fund_2 = x0s[-1]\n",
    "\n",
    "dnu_fsr = np.abs(fund_2 - fund_1)*1.e12\n",
    "length = 0#ambiguous  c/(2*dnu_fsr)\n",
    "print length\n",
    "lengths = np.append(lengths,length)\n",
    "\n",
    "#scan nr 3\n",
    "x0s,u_x0s=sa_2D.peaks_from_1D_data(wavelengths,intensities[:,3],plot_peak_locations=False)\n",
    "fund_1 = x0s[0]\n",
    "fund_2 = x0s[4]\n",
    "\n",
    "dnu_fsr = np.abs(fund_2 - fund_1)*1.e12\n",
    "length = c/(2*dnu_fsr)\n",
    "print length\n",
    "lengths = np.append(lengths,length)\n",
    "\n",
    "\n",
    "#scan nr 4\n",
    "x0s,u_x0s=sa_2D.peaks_from_1D_data(wavelengths,intensities[:,4],plot_peak_locations=False)\n",
    "fund_1 = x0s[1]\n",
    "fund_2 = x0s[5]\n",
    "\n",
    "dnu_fsr = np.abs(fund_2 - fund_1)*1.e12\n",
    "length = c/(2*dnu_fsr)\n",
    "print length\n",
    "lengths = np.append(lengths,length)\n",
    "\n",
    "\n",
    "#scan nr 5\n",
    "x0s,u_x0s=sa_2D.peaks_from_1D_data(wavelengths,intensities[:,5],plot_peak_locations=False)\n",
    "fund_1 = x0s[2]\n",
    "fund_2 = x0s[-1]\n",
    "\n",
    "dnu_fsr = np.abs(fund_2 - fund_1)*1.e12\n",
    "length = c/(2*dnu_fsr)\n",
    "print length\n",
    "lengths = np.append(lengths,length)\n",
    "\n",
    "\n",
    "#scan nr 6\n",
    "x0s,u_x0s=sa_2D.peaks_from_1D_data(wavelengths,intensities[:,6],plot_peak_locations=False)\n",
    "fund_1 = x0s[2]\n",
    "fund_2 = x0s[-1]\n",
    "\n",
    "dnu_fsr = np.abs(fund_2 - fund_1)*1.e12\n",
    "length = 0 # ambiguous c/(2*dnu_fsr)\n",
    "print length\n",
    "lengths = np.append(lengths,length)\n",
    "\n",
    "#scan nr 7\n",
    "x0s,u_x0s=sa_2D.peaks_from_1D_data(wavelengths,intensities[:,7],plot_peak_locations=False)\n",
    "fund_1 = x0s[1]\n",
    "fund_2 = x0s[4]\n",
    "\n",
    "dnu_fsr = np.abs(fund_2 - fund_1)*1.e12\n",
    "length = c/(2*dnu_fsr)\n",
    "print length\n",
    "lengths = np.append(lengths,length)\n",
    "\n",
    "\n",
    "#scan nr 8\n",
    "x0s,u_x0s=sa_2D.peaks_from_1D_data(wavelengths,intensities[:,8],plot_peak_locations=False)\n",
    "fund_1 = x0s[2]\n",
    "fund_2 = x0s[5]\n",
    "\n",
    "dnu_fsr = np.abs(fund_2 - fund_1)*1.e12\n",
    "length = c/(2*dnu_fsr)\n",
    "print length\n",
    "lengths = np.append(lengths,length)\n",
    "\n",
    "\n",
    "\n",
    "#scan nr 9\n",
    "x0s,u_x0s=sa_2D.peaks_from_1D_data(wavelengths,intensities[:,9],plot_peak_locations=False)\n",
    "fund_1 = x0s[2]\n",
    "fund_2 = x0s[5]\n",
    "\n",
    "dnu_fsr = np.abs(fund_2 - fund_1)*1.e12\n",
    "length =0 #ambiguous c/(2*dnu_fsr)\n",
    "print length\n",
    "lengths = np.append(lengths,length)\n",
    "\n",
    "\n",
    "#scan nr 10\n",
    "x0s,u_x0s=sa_2D.peaks_from_1D_data(wavelengths,intensities[:,10],plot_peak_locations=False)\n",
    "fund_1 = x0s[1]\n",
    "fund_2 = x0s[3]\n",
    "\n",
    "dnu_fsr = np.abs(fund_2 - fund_1)*1.e12\n",
    "length = c/(2*dnu_fsr)\n",
    "print length\n",
    "lengths = np.append(lengths,length)\n",
    "\n",
    "#scan nr 11\n",
    "x0s,u_x0s=sa_2D.peaks_from_1D_data(wavelengths,intensities[:,11],plot_peak_locations=False)\n",
    "fund_1 = x0s[2]\n",
    "fund_2 = x0s[5]\n",
    "\n",
    "dnu_fsr = np.abs(fund_2 - fund_1)*1.e12\n",
    "length = c/(2*dnu_fsr)\n",
    "print length\n",
    "lengths = np.append(lengths,length)\n",
    "\n",
    "#scan nr 12\n",
    "x0s,u_x0s=sa_2D.peaks_from_1D_data(wavelengths,intensities[:,12],plot_peak_locations=False)\n",
    "fund_1 = x0s[0]\n",
    "fund_2 = x0s[2]\n",
    "\n",
    "dnu_fsr = np.abs(fund_2 - fund_1)*1.e12\n",
    "length = c/(2*dnu_fsr)\n",
    "print length\n",
    "lengths = np.append(lengths,length)\n",
    "\n",
    "#scan nr 13\n",
    "x0s,u_x0s=sa_2D.peaks_from_1D_data(wavelengths,intensities[:,13],plot_peak_locations=False)\n",
    "fund_1 = x0s[1]\n",
    "fund_2 = x0s[3]\n",
    "\n",
    "dnu_fsr = np.abs(fund_2 - fund_1)*1.e12\n",
    "length = c/(2*dnu_fsr)\n",
    "print length\n",
    "lengths = np.append(lengths,length)\n",
    "\n",
    "#scan nr 14\n",
    "x0s,u_x0s=sa_2D.peaks_from_1D_data(wavelengths,intensities[:,14],plot_peak_locations=False)\n",
    "fund_1 = x0s[2]\n",
    "fund_2 = x0s[-2]\n",
    "\n",
    "dnu_fsr = np.abs(fund_2 - fund_1)*1.e12\n",
    "length = c/(2*dnu_fsr)\n",
    "print length\n",
    "lengths = np.append(lengths,length)\n",
    "\n",
    "#scan nr 15\n",
    "x0s,u_x0s=sa_2D.peaks_from_1D_data(wavelengths,intensities[:,15],plot_peak_locations=False)\n",
    "fund_1 = x0s[1]\n",
    "fund_2 = x0s[3]\n",
    "\n",
    "dnu_fsr = np.abs(fund_2 - fund_1)*1.e12\n",
    "length = c/(2*dnu_fsr)\n",
    "print length\n",
    "lengths = np.append(lengths,length)\n",
    "\n",
    "#scan nr 16\n",
    "x0s,u_x0s=sa_2D.peaks_from_1D_data(wavelengths,intensities[:,16],plot_peak_locations=False)\n",
    "fund_1 = x0s[1]\n",
    "fund_2 = x0s[3]\n",
    "\n",
    "dnu_fsr = np.abs(fund_2 - fund_1)*1.e12\n",
    "length = c/(2*dnu_fsr)\n",
    "print length\n",
    "lengths = np.append(lengths,length)\n",
    "\n",
    "#scan nr 17\n",
    "x0s,u_x0s=sa_2D.peaks_from_1D_data(wavelengths,intensities[:,17],plot_peak_locations=False)\n",
    "fund_1 = x0s[0]\n",
    "fund_2 = x0s[2]\n",
    "\n",
    "dnu_fsr = np.abs(fund_2 - fund_1)*1.e12\n",
    "length = c/(2*dnu_fsr)\n",
    "print length\n",
    "lengths = np.append(lengths,length)\n",
    "\n",
    "#scan nr 18\n",
    "x0s,u_x0s=sa_2D.peaks_from_1D_data(wavelengths,intensities[:,18],plot_peak_locations=False)\n",
    "fund_1 = x0s[1]\n",
    "fund_2 = x0s[4]\n",
    "\n",
    "dnu_fsr = np.abs(fund_2 - fund_1)*1.e12\n",
    "length = c/(2*dnu_fsr)\n",
    "print length\n",
    "lengths = np.append(lengths,length)\n",
    "\n",
    "\n",
    "#scan nr 19\n",
    "x0s,u_x0s=sa_2D.peaks_from_1D_data(wavelengths,intensities[:,19],minimum_peak_height = 10000,plot_peak_locations=False)\n",
    "fund_1 = x0s[0]\n",
    "fund_2 = x0s[3]\n",
    "\n",
    "dnu_fsr = np.abs(fund_2 - fund_1)*1.e12\n",
    "length = c/(2*dnu_fsr)\n",
    "print length\n",
    "lengths = np.append(lengths,length)\n",
    "\n",
    "\n",
    "#scan nr 20\n",
    "x0s,u_x0s=sa_2D.peaks_from_1D_data(wavelengths,intensities[:,20],plot_peak_locations=False)\n",
    "fund_1 = x0s[0]\n",
    "fund_2 = x0s[2]\n",
    "\n",
    "dnu_fsr = np.abs(fund_2 - fund_1)*1.e12\n",
    "length = c/(2*dnu_fsr)\n",
    "print length\n",
    "lengths = np.append(lengths,length)\n",
    "\n",
    "\n",
    "#scan nr 21\n",
    "x0s,u_x0s=sa_2D.peaks_from_1D_data(wavelengths,intensities[:,21],minimum_peak_height = 10000,plot_peak_locations=False)\n",
    "fund_1 = x0s[2]\n",
    "fund_2 = x0s[5]\n",
    "\n",
    "dnu_fsr = np.abs(fund_2 - fund_1)*1.e12\n",
    "length = c/(2*dnu_fsr)\n",
    "print length\n",
    "lengths = np.append(lengths,length)\n",
    "\n",
    "\n",
    "#scan nr 22\n",
    "x0s,u_x0s=sa_2D.peaks_from_1D_data(wavelengths,intensities[:,22],plot_peak_locations=False)\n",
    "fund_1 = x0s[1]\n",
    "fund_2 = x0s[3]\n",
    "\n",
    "dnu_fsr = np.abs(fund_2 - fund_1)*1.e12\n",
    "length = c/(2*dnu_fsr)\n",
    "print length\n",
    "lengths = np.append(lengths,length)\n",
    "\n",
    "\n",
    "#scan nr 23\n",
    "x0s,u_x0s=sa_2D.peaks_from_1D_data(wavelengths,intensities[:,23],minimum_peak_height = 10000,plot_peak_locations=False)\n",
    "fund_1 = x0s[0]\n",
    "fund_2 = x0s[3]\n",
    "\n",
    "dnu_fsr = np.abs(fund_2 - fund_1)*1.e12\n",
    "length = c/(2*dnu_fsr)\n",
    "print length\n",
    "lengths = np.append(lengths,length)\n",
    "\n",
    "#scan nr 24\n",
    "x0s,u_x0s=sa_2D.peaks_from_1D_data(wavelengths,intensities[:,24],plot_peak_locations=False)\n",
    "fund_1 = x0s[0]\n",
    "fund_2 = x0s[3]\n",
    "\n",
    "dnu_fsr = np.abs(fund_2 - fund_1)*1.e12\n",
    "length = c/(2*dnu_fsr)\n",
    "print length\n",
    "lengths = np.append(lengths,length)\n",
    "\n",
    "#scan nr 25\n",
    "x0s,u_x0s=sa_2D.peaks_from_1D_data(wavelengths,intensities[:,25],minimum_peak_height = 10000,plot_peak_locations=False)\n",
    "fund_1 = x0s[1]\n",
    "fund_2 = x0s[4]\n",
    "\n",
    "dnu_fsr = np.abs(fund_2 - fund_1)*1.e12\n",
    "length = c/(2*dnu_fsr)\n",
    "print length\n",
    "lengths = np.append(lengths,length)\n",
    "\n",
    "\n",
    "\n",
    "#scan nr 26\n",
    "x0s,u_x0s=sa_2D.peaks_from_1D_data(wavelengths,intensities[:,26],plot_peak_locations=False)\n",
    "fund_1 = x0s[0]\n",
    "fund_2 = x0s[2]\n",
    "\n",
    "dnu_fsr = np.abs(fund_2 - fund_1)*1.e12\n",
    "length = c/(2*dnu_fsr)\n",
    "print length\n",
    "lengths = np.append(lengths,length)\n",
    "\n",
    "#scan nr 27\n",
    "x0s,u_x0s=sa_2D.peaks_from_1D_data(wavelengths,intensities[:,27],minimum_peak_height = 10000,plot_peak_locations=False)\n",
    "fund_1 = x0s[1]\n",
    "fund_2 = x0s[3]\n",
    "\n",
    "dnu_fsr = np.abs(fund_2 - fund_1)*1.e12\n",
    "length = c/(2*dnu_fsr)\n",
    "print length\n",
    "lengths = np.append(lengths,length)\n",
    "\n",
    "\n",
    "#scan nr 28\n",
    "x0s,u_x0s=sa_2D.peaks_from_1D_data(wavelengths,intensities[:,28],plot_peak_locations=False)\n",
    "fund_1 = x0s[1]\n",
    "fund_2 = x0s[2]\n",
    "\n",
    "dnu_fsr = np.abs(fund_2 - fund_1)*1.e12\n",
    "length = c/(2*dnu_fsr)\n",
    "print length\n",
    "lengths = np.append(lengths,length)\n",
    "\n",
    "#scan nr 29\n",
    "x0s,u_x0s=sa_2D.peaks_from_1D_data(wavelengths,intensities[:,29],minimum_peak_height = 10000,plot_peak_locations=False)\n",
    "fund_1 = x0s[0]\n",
    "fund_2 = x0s[3]\n",
    "\n",
    "dnu_fsr = np.abs(fund_2 - fund_1)*1.e12\n",
    "length = c/(2*dnu_fsr)\n",
    "print length\n",
    "lengths = np.append(lengths,length)\n",
    "\n",
    "\n",
    "#scan nr 30\n",
    "x0s,u_x0s=sa_2D.peaks_from_1D_data(wavelengths,intensities[:,30],plot_peak_locations=False)\n",
    "fund_1 = x0s[1]\n",
    "fund_2 = x0s[4]\n",
    "\n",
    "dnu_fsr = np.abs(fund_2 - fund_1)*1.e12\n",
    "length = c/(2*dnu_fsr)\n",
    "print length\n",
    "lengths = np.append(lengths,length)\n",
    "\n",
    "#scan nr 31\n",
    "x0s,u_x0s=sa_2D.peaks_from_1D_data(wavelengths,intensities[:,31],minimum_peak_height = 10000,plot_peak_locations=True)\n",
    "fund_1 = x0s[5]\n",
    "fund_2 = x0s[-3]\n",
    "\n",
    "dnu_fsr = np.abs(fund_2 - fund_1)*1.e12\n",
    "length = c/(2*dnu_fsr)\n",
    "print length\n",
    "lengths = np.append(lengths,length)\n",
    "\n",
    "\n",
    "\n",
    "lengths = lengths*1.e6\n",
    "fig,ax = plt.subplots()\n",
    "ax.plot(lengths[:],'o')\n",
    "xticks = np.linspace(ax.get_xlim()[0],ax.get_xlim()[-1],5)\n",
    "xticklabels = np.linspace(-2,10,5)\n",
    "ax.set_xticks(xticks)\n",
    "ax.set_xticklabels(xticklabels)\n",
    "ax.set_xlabel('V')\n",
    "ax.set_ylabel('cavity length (um)')\n",
    "ax.set_ylim(3,8)\n",
    "\n",
    "\n",
    "plt.figure()\n",
    "plt.plot(lengths[(np.where(lengths>0))])\n",
    "\n",
    "\n"
   ]
  },
  {
   "cell_type": "code",
   "execution_count": null,
   "metadata": {
    "collapsed": false
   },
   "outputs": [],
   "source": [
    "\n"
   ]
  },
  {
   "cell_type": "code",
   "execution_count": null,
   "metadata": {
    "collapsed": false
   },
   "outputs": [],
   "source": [
    "# you can also plot the data in a different way\n",
    "reload(sa_2D)\n",
    "sa_2D.shifted_plot_from_2D_data(data_dir)"
   ]
  },
  {
   "cell_type": "code",
   "execution_count": null,
   "metadata": {
    "collapsed": false
   },
   "outputs": [],
   "source": [
    "#plotting air modes for a specific configuration\n",
    "reload(sa_2D)\n",
    "fig,ax = sa_2D.plot_air_modes(cavity_length=0.25e-6,conversion_factor = 1.25e-6/12)\n",
    "y0=3.e8/(800e-9)*1.e-12\n",
    "y1=3.e8/(630e-9)*1.e-12\n",
    "ax.set_ylim(y0,y1)\n",
    "ax.set_xlabel('length *1.25')\n",
    "ax.set_ylabel('freq(THz)')"
   ]
  },
  {
   "cell_type": "code",
   "execution_count": null,
   "metadata": {
    "collapsed": false
   },
   "outputs": [],
   "source": []
  }
 ],
 "metadata": {
  "kernelspec": {
   "display_name": "Python 2",
   "language": "python",
   "name": "python2"
  },
  "language_info": {
   "codemirror_mode": {
    "name": "ipython",
    "version": 2
   },
   "file_extension": ".py",
   "mimetype": "text/x-python",
   "name": "python",
   "nbconvert_exporter": "python",
   "pygments_lexer": "ipython2",
   "version": "2.7.3"
  }
 },
 "nbformat": 4,
 "nbformat_minor": 0
}
