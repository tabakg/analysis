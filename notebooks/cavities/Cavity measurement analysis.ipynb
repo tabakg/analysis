{
 "metadata": {
  "name": "",
  "signature": ""
 },
 "nbformat": 3,
 "nbformat_minor": 0,
 "worksheets": [
  {
   "cells": [
    {
     "cell_type": "code",
     "collapsed": false,
     "input": [
      "import sys\n",
      "%matplotlib inline\n",
      "\n",
      "sys.path.append(\"D:/measuring\")\n",
      "sys.path.append(\"K:/ns/qt/Diamond/Projects/Cavities/data_fitting\")"
     ],
     "language": "python",
     "metadata": {},
     "outputs": []
    },
    {
     "cell_type": "code",
     "collapsed": false,
     "input": [
      "cd D:/measuring"
     ],
     "language": "python",
     "metadata": {},
     "outputs": []
    },
    {
     "cell_type": "code",
     "collapsed": false,
     "input": [
      "execfile(\"K:/ns/qt/Diamond/Projects/Cavities/data_fitting/Final_piezo_fitting.py\")"
     ],
     "language": "python",
     "metadata": {},
     "outputs": []
    },
    {
     "cell_type": "code",
     "collapsed": false,
     "input": [
      "np.log(np.e)"
     ],
     "language": "python",
     "metadata": {},
     "outputs": []
    },
    {
     "cell_type": "code",
     "collapsed": false,
     "input": [
      "execfile (\"D:/measuring/analysis/scripts/cavity/analysis_cavity_scan.py\")"
     ],
     "language": "python",
     "metadata": {},
     "outputs": []
    },
    {
     "cell_type": "code",
     "collapsed": false,
     "input": [
      "import msvcrt\n",
      "import time\n"
     ],
     "language": "python",
     "metadata": {},
     "outputs": []
    },
    {
     "cell_type": "code",
     "collapsed": false,
     "input": [
      "t= 0\n",
      "for t in np.arange(10):\n",
      "    print t \n",
      "    time.sleep(1)\n",
      "    if (msvcrt.kbhit() and (msvcrt.getch() == 'q')):\n",
      "        print \"You hit q, stopping coarse moving\"\n",
      "        breakq\n"
     ],
     "language": "python",
     "metadata": {},
     "outputs": []
    },
    {
     "cell_type": "code",
     "collapsed": false,
     "input": [
      "if(1):\n",
      "    print 1"
     ],
     "language": "python",
     "metadata": {},
     "outputs": []
    },
    {
     "cell_type": "code",
     "collapsed": false,
     "input": [
      "if(\"ERROR\"):\n",
      "    print 1"
     ],
     "language": "python",
     "metadata": {},
     "outputs": []
    },
    {
     "cell_type": "code",
     "collapsed": false,
     "input": [
      "def func(a):\n",
      "    if a==1:\n",
      "        print 1\n",
      "        return 1\n",
      "    else:\n",
      "        print 2\n",
      "\n"
     ],
     "language": "python",
     "metadata": {},
     "outputs": []
    },
    {
     "cell_type": "code",
     "collapsed": false,
     "input": [
      "if(func(1)):\n",
      "    print 3"
     ],
     "language": "python",
     "metadata": {},
     "outputs": []
    },
    {
     "cell_type": "code",
     "collapsed": false,
     "input": [],
     "language": "python",
     "metadata": {},
     "outputs": []
    }
   ],
   "metadata": {}
  }
 ]
}
