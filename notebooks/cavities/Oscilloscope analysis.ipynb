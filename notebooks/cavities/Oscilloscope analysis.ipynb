{
 "cells": [
  {
   "cell_type": "code",
   "execution_count": null,
   "metadata": {
    "collapsed": false
   },
   "outputs": [],
   "source": [
    "%matplotlib inline\n",
    "import os\n",
    "import numpy as np\n",
    "import json\n",
    "filepath='D:/measuring'\n",
    "import scipy.signal\n",
    "c = 2.997e8\n",
    "os.chdir(filepath)\n",
    "from analysis.lib.fitting import fit, common; reload(common)\n",
    "from analysis.lib.tools import plot\n"
   ]
  },
  {
   "cell_type": "code",
   "execution_count": null,
   "metadata": {
    "collapsed": false,
    "scrolled": true
   },
   "outputs": [],
   "source": [
    "import analysis.scripts.cavity.oscilloscope_analysis_linewidth as oscillo_ana"
   ]
  },
  {
   "cell_type": "code",
   "execution_count": null,
   "metadata": {
    "collapsed": true
   },
   "outputs": [],
   "source": [
    "#functions for analysis of linewidths from several files, \n",
    "#taking into account the up down modulation\n",
    "\n",
    "def get_up_down_lws(fitted_lws,first_lw_direction):\n",
    "    even_lws=fitted_lws[::2]\n",
    "    odd_lws = fitted_lws[1::2]\n",
    "    if len(even_lws)>len(odd_lws):\n",
    "        even_lws=even_lws[:-1]\n",
    "    updown_mean_lws=np.add(even_lws,odd_lws)/2        \n",
    "    if first_lw_direction=='up':\n",
    "        lws_up = even_lws\n",
    "        lws_down  = odd_lws\n",
    "    elif first_lw_direction=='down':\n",
    "        lws_up = odd_lws\n",
    "        lws_down  = even_lws\n",
    "    else:\n",
    "        print 'specify a valid modulation direction for the first linewidth'\n",
    "        return\n",
    "    return updown_mean_lws,lws_up,lws_down\n",
    "\n",
    "def add_to_analysis_dict(analysis,lws_up,lws_down,updown_mean_lws):\n",
    "    analysis['lws_up']=lws_up\n",
    "    analysis['lws_down']=lws_down\n",
    "    analysis['updown_mean_lws']=updown_mean_lws\n",
    "    analysis['avg_up']=np.average(lws_up)\n",
    "    analysis['u_avg_up']=np.std(lws_up)\n",
    "    analysis['avg_down']=np.average(lws_down)\n",
    "    analysis['u_avg_down']=np.std(lws_down)\n",
    "    analysis['avg_updown_mean']=np.average(updown_mean_lws)\n",
    "    analysis['u_avg_updown_mean']=np.std(updown_mean_lws)\n",
    "    return analysis\n",
    "\n",
    "def print_results(analysis):\n",
    "    print 'avg_up', analysis['avg_up'],analysis['u_avg_up']\n",
    "    print 'avg_down', analysis['avg_down'],analysis['u_avg_down']\n",
    "    print 'avg_updown_mean', analysis['avg_updown_mean'],analysis['u_avg_updown_mean']\n",
    "\n",
    "#functions for saving in json\n",
    "def default(obj):\n",
    "    if isinstance(obj, np.ndarray):\n",
    "        return obj.tolist()\n",
    "    raise TypeError('Not serializable')\n",
    "\n",
    "def save_to_json_file(indir,filename,analysis_dict):\n",
    "    f = open(os.path.join(indir,filename+'.json'), 'w')\n",
    "    json.dump(analysis_dict,f,default=default)\n",
    "    f.close()\n",
    "\n",
    "def save_to_txt_file(indir,filename,nparray):\n",
    "    f = open(os.path.join(indir,filename+'.txt'), 'w')\n",
    "    np.savetxt(f,nparray)\n",
    "    f.close()\n",
    "  "
   ]
  },
  {
   "cell_type": "code",
   "execution_count": null,
   "metadata": {
    "collapsed": false,
    "scrolled": true
   },
   "outputs": [],
   "source": [
    "\n",
    "# Parameters for\n",
    "\n",
    "#g_x02 = 0.02\n",
    "# g_gamma2 = 0.002\n",
    "\n",
    "nr_datafiles = 9\n",
    "\n",
    "linewidths = np.zeros((nr_datafiles,2))\n",
    "\n",
    "reload(oscillo_ana)\n",
    "\n",
    "for i in np.arange(nr_datafiles):\n",
    "    fixed =[]#[0,1,2,5]\n",
    "    \n",
    "    g_a1 = 0.002\n",
    "    g_A1 = 0.00004\n",
    "    g_x01 = 0.002\n",
    "    g_gamma1 = 0.0004\n",
    "    g_dx = 0.0015\n",
    "    g_A2 = 0.00002\n",
    "    \n",
    "    if i == 2:\n",
    "        g_gamma1 = 0.0035\n",
    "    indir='D:\\measuring\\data/20160430\\OFF_diamond'#'D:\\measuring\\data/20160430\\OFF_diamond'\n",
    "    filename='OFFD00'+str(i)\n",
    "    linewidth, u_linewidth = oscillo_ana.plot_and_fit(indir, filename,\n",
    "                                                      g_a1, g_A1, g_x01, g_gamma1, g_dx, g_A2,fixed=fixed)\n",
    "    print linewidth, u_linewidth\n",
    "    linewidths[i,0]= linewidth\n",
    "    linewidths[i,1] = u_linewidth\n",
    "print linewidths\n",
    "\n",
    "f = open(os.path.join(indir,'linewidth_data.txt'), 'w')\n",
    "np.savetxt(f,linewidths)\n",
    "f.close()"
   ]
  },
  {
   "cell_type": "code",
   "execution_count": null,
   "metadata": {
    "collapsed": false
   },
   "outputs": [],
   "source": [
    "nu=470.e12\n",
    "Q = nu/(linewidths[1])\n",
    "print Q\n",
    "nu_FSR=c/(2*cavity_lengths[1])\n",
    "F=Q*nu_FSR/nu\n",
    "print F\n",
    "F=nu_FSR/linewidths[1]\n",
    "print F\n",
    "print nu_FSR\n"
   ]
  },
  {
   "cell_type": "code",
   "execution_count": null,
   "metadata": {
    "collapsed": false
   },
   "outputs": [],
   "source": [
    "def get_avg_values_from_json(V,Lnr,day_dir,tag=''):\n",
    "    V_str = '%1.3f'%V\n",
    "    string_name = '%sL%d_V%sp%s'%(tag,Lnr,V_str[0],V_str[2:])\n",
    "    #print string_name\n",
    "    datapath = os.path.join(day_dir,string_name)\n",
    "    f = open(os.path.join(datapath,'analysis.json'), 'r')\n",
    "    analysis = json.load(f)\n",
    "    f.close()\n",
    "    avg_values = np.array([[analysis['avg_up'], analysis['u_avg_up'],\\\n",
    "        analysis['avg_down'],analysis['u_avg_down'],\\\n",
    "        analysis['avg_updown_mean'],analysis['u_avg_updown_mean']]])\n",
    "    return datapath,avg_values\n",
    "\n",
    "def get_avg_array_for_Vs(Vs,Lnr,day_dir,tag=''):\n",
    "    for i,V in enumerate(Vs):\n",
    "        datapath,avg_values=get_avg_values_from_json(V,Lnr,day_dir,tag=tag)\n",
    "        if i==0:\n",
    "            datapath,avg_array=get_avg_values_from_json(V,Lnr,day_dir,tag=tag)\n",
    "        else:\n",
    "            avg_array=np.append(avg_array,avg_values,axis=0)\n",
    "    return datapath,avg_array\n"
   ]
  },
  {
   "cell_type": "code",
   "execution_count": null,
   "metadata": {
    "collapsed": false
   },
   "outputs": [],
   "source": [
    "def plot_updown_lws(avgs,Ns,ax=None):\n",
    "    if ax==None:\n",
    "        fig,ax = plt.subplots()\n",
    "    ax.errorbar(Ns,avgs[:,0],yerr=avgs[:,1],fmt='ro',label='upgoing slope')\n",
    "    ax.errorbar(Ns,avgs[:,2],yerr=avgs[:,3],fmt='go',label='downgoing slope')\n",
    "    ax.errorbar(Ns,avgs[:,4],yerr=avgs[:,5],fmt='bo',label='up and down mean')\n",
    "    ax.set_xlabel('cavity length (lambda/2)')\n",
    "    ax.set_ylabel('linewidth (GHz)')\n",
    "    ax.legend()\n",
    "    return(ax)\n",
    "\n",
    "def plot_mean_lws(avgs,Ns,ax=None,style='bo',label='mean'):\n",
    "    if ax==None:\n",
    "        fig,ax = plt.subplots()\n",
    "    ax.errorbar(Ns,avgs[:,4],yerr=avgs[:,5],fmt=style,label=label)\n",
    "    ax.set_xlabel('cavity length (lambda/2)')\n",
    "    ax.set_ylabel('linewidth (GHz)')\n",
    "    ax.legend()\n",
    "    return(ax)\n",
    "\n",
    "\n",
    "def plot_finesse_vs_length(avgs,Ns,lambda_c=636.6e-9):\n",
    "    Finesses = c/(np.multiply(Ns,lambda_c))/np.multiply(avgs[:,4],1.e9)\n",
    "    u_Finesses = c/(np.multiply(Ns,lambda_c))/np.multiply((avgs[:,4]**2),1.e9)*avgs[:,5]\n",
    "    fig,ax = plt.subplots()\n",
    "    print Finesses,u_Finesses\n",
    "    ax.errorbar(Ns,Finesses,yerr=u_Finesses,fmt='bo',label='mean Finesse')\n",
    "    ax.set_xlabel('cavity length (lambda/2)')\n",
    "    ax.set_ylabel('Finess')\n",
    "    ax.legend()\n",
    "    return(ax)\n",
    "\n",
    "    \n",
    "\n",
    "def fit_lws(linewidths,u_linewidths,Ns,g_Finesse,datapath,ax=None,lambda_c=636.6e-9):\n",
    "    #cavity_lengths =  Ns#636.6e-9*Ns/2 # in um\n",
    "    g_a = 0#0.1*1.e9\n",
    "    g_b = (c)/(2*g_Finesse)*1.e-9*2/lambda_c #*1.e9\n",
    "    print g_b\n",
    "    print Ns\n",
    "    print linewidths\n",
    "    p0, fitfunc, fitfunc_str = common.fit_inverse(g_a, g_b)\n",
    "    fit_result = fit.fit1d(Ns,linewidths, None, \n",
    "                           p0=p0, fitfunc=fitfunc, do_print=True, ret=True, fixed=[0])\n",
    "    if ax == None:\n",
    "        fig,ax = plt.subplots(figsize=(8,4))\n",
    "        ax.errorbar(Ns,linewidths,yerr=u_linewidths,fmt = 'bo')\n",
    "    x = np.linspace(min(Ns),max(Ns),10*len(Ns))\n",
    "    plot.plot_fit1d(fit_result,x, ax=ax, label='Fit',show_guess=True, \n",
    "                    plot_data=False,color='red', print_info= False)\n",
    "    b_fit=fit_result['params_dict']['b']#cav length in um, linewidth in GHz\n",
    "    u_b_fit = fit_result['error_dict']['b']\n",
    "    print b_fit\n",
    "    Finesse = c/(2*b_fit)*1.e-9*2/lambda_c\n",
    "    u_Finesse = c/(2*b_fit**2)*1.e-9*2/lambda_c*u_b_fit\n",
    "    ax.set_title(datapath)\n",
    "    ax.legend(title='Finesse = %d $\\pm$ %d'%(Finesse,u_Finesse))\n",
    "    plt.savefig(os.path.join(datapath,'plot_lw_vs_L.png'))\n",
    "    plt.show()\n",
    "    plt.close()\n",
    "    return Finesse"
   ]
  },
  {
   "cell_type": "code",
   "execution_count": null,
   "metadata": {
    "collapsed": false,
    "scrolled": true
   },
   "outputs": [],
   "source": [
    "# off diamond values\n",
    "\n",
    "day_dir_20160818 = 'D:\\measuring\\data/20160818'\n",
    "V0s = np.array([1.129,2.473,3.482])\n",
    "V2s = np.array([6.083,7.258,8.269,9.246])\n",
    "day_dir_20160819 = 'D:\\measuring\\data/20160819'\n",
    "V3s = np.array([1.402,2.646,3.781,4.846,5.864,6.890])\n",
    "N0s = np.array([21,22,23])#possibly the N0s should be 21,22,23->not 100%clear. -> leave out?\n",
    "N2s = np.array([13,14,15,16])\n",
    "N3s = np.array([17,18,19,20,21,22])\n",
    "\n",
    "datapath,avgs0=get_avg_array_for_Vs(V0s,0,day_dir_20160818)\n",
    "datapath,avgs2=get_avg_array_for_Vs(V2s,2,day_dir_20160818)\n",
    "datapath,avgs3=get_avg_array_for_Vs(V3s,3,day_dir_20160819)\n",
    "\n",
    "avgs = np.append(np.append(avgs0,avgs2,axis=0),avgs3,axis=0)\n",
    "Ns = np.append(np.append(N0s,N2s),N3s)\n",
    "\n",
    "linewidths = avgs[:,4]\n",
    "u_linewidths = avgs[:,5]\n",
    "ax = plot_updown_lws(avgs,Ns)\n",
    "Finesse=fit_lws(linewidths,u_linewidths,Ns,g_Finesse=30000,datapath=datapath, ax=ax)\n",
    "plot_finesse_vs_length(avgs,Ns)\n",
    "print Finesse\n",
    "\n"
   ]
  },
  {
   "cell_type": "code",
   "execution_count": null,
   "metadata": {
    "collapsed": true
   },
   "outputs": [],
   "source": []
  },
  {
   "cell_type": "code",
   "execution_count": null,
   "metadata": {
    "collapsed": true
   },
   "outputs": [],
   "source": []
  },
  {
   "cell_type": "code",
   "execution_count": null,
   "metadata": {
    "collapsed": false
   },
   "outputs": [],
   "source": [
    "# ON DIAMOND LINEWIDTH< LENGHTS< POS0\n",
    "day_dir_20160819 = 'D:\\measuring\\data/20160819'\n",
    "V0s=np.array([2.935,4.088,5.183,6.182])\n",
    "V1s=np.array([2.139,3.587,4.753,5.836,6.891,7.928,8.909,9.958])\n",
    "V2s=np.array([6.957,8.738,9.866])\n",
    "\n",
    "N0s = np.array([54,55,56,57])\n",
    "N1s = np.array([45,46,47,48,49,50,51,52])#np.array([44,45,46,47,48,49,50,51])\n",
    "N2s = np.array([52,53,54])#np.array([51,52,53])\n",
    "print N0s\n",
    "print N1s \n",
    "print N2s\n",
    "\n",
    "\n",
    "datapath,avgs0=get_avg_array_for_Vs(V0s,0,day_dir_20160819,tag='OND_')\n",
    "datapath,avgs1=get_avg_array_for_Vs(V1s,1,day_dir_20160819,tag='OND_')\n",
    "datapath,avgs2=get_avg_array_for_Vs(V2s,2,day_dir_20160819,tag='OND_')\n",
    "\n",
    "avgs = np.append(np.append(avgs1,avgs2,axis=0),avgs0,axis=0)\n",
    "Ns = np.append(np.append(N1s,N2s),N0s)\n",
    "\n",
    "#beunen begint hier\n",
    "avgsN52=[(avgs[7]+avgs[8])/2.]\n",
    "avgsN54=[(avgs[10]+avgs[11])/2.]\n",
    "avgspos0 = np.append(np.append(np.append(np.append(avgs[0:7],avgsN52,axis=0),[avgs[9]],axis=0),avgsN54,axis=0),avgs[12:],axis=0)\n",
    "print avgspos0\n",
    "N52=[(Ns[7]+Ns[8])/2.]\n",
    "N54=[(Ns[10]+Ns[11])/2.]\n",
    "Nspos0 = np.append(np.append(np.append(np.append(Ns[0:7],N52),Ns[9]),N54),Ns[12:])\n",
    "print Nspos0\n",
    "#beunenn stopt hier\n",
    "\n",
    "ax = plot_updown_lws(avgspos0,Nspos0)\n",
    "\n",
    "ax.set_title(datapath)\n",
    "plt.savefig(os.path.join(datapath,'plot_lw_vs_L.png'))\n",
    "plt.show()\n",
    "\n",
    "plot_finesse_vs_length(avgs,Ns)\n"
   ]
  },
  {
   "cell_type": "code",
   "execution_count": null,
   "metadata": {
    "collapsed": false
   },
   "outputs": [],
   "source": [
    "# ON DIAMOND LINEWIDTH< LENGHTS< POS1 L2\n",
    "day_dir_20160822 = 'D:\\measuring\\data/20160822'\n",
    "V0s=np.array([1.546,3.019,4.237,5.348,6.404,7.473,8.515,9.551])\n",
    "V3s=np.array([1.373,2.859,4.062,5.152,6.218,7.224,8.198,9.268])\n",
    "V4s=np.array([0.951,2.390,3.646,4.783,5.843,6.934,7.975,8.977])\n",
    "V5s=np.array([1.359,3.383,4.565,5.620,6.695,7.727,8.734,9.832])\n",
    "\n",
    "N0s = np.arange(55,63,1)\n",
    "N3s = np.arange(49,57,1)\n",
    "N4s = np.arange(44,52,1)\n",
    "N5s = np.arange(40,48,1)\n",
    "print V3s\n",
    "print N3s\n",
    "print N4s\n",
    "# \n",
    "datapath,avgs0=get_avg_array_for_Vs(V0s,1,day_dir_20160822,tag='OND_POS2_')\n",
    "datapath,avgs3=get_avg_array_for_Vs(V3s,3,day_dir_20160822,tag='OND_POS2_')\n",
    "datapath,avgs4=get_avg_array_for_Vs(V4s,4,day_dir_20160822,tag='OND_POS2_')\n",
    "datapath,avgs5=get_avg_array_for_Vs(V5s,5,day_dir_20160822,tag='OND_POS2_')\n",
    "\n",
    "\n",
    "avgs=np.append(np.append(np.append(avgs0,avgs3,axis=0),avgs4,axis=0),avgs5,axis=0)\n",
    "Ns=np.append(np.append(np.append(N0s,N3s),N4s),N5s)\n",
    "# avgs = np.append(np.append(avgs0,avgs1,axis=0),avgs2,axis=0)\n",
    "# Ns = np.append(np.append(N0s,N1s),N2s)\n",
    "\n",
    "ax = plot_updown_lws(avgs,Ns)\n",
    "ax.set_title(datapath)\n",
    "plt.savefig(os.path.join(datapath,'plot_lw_vs_L.png'))\n",
    "plt.show()\n",
    "\n",
    "plot_finesse_vs_length(avgs,Ns)\n",
    "\n",
    "ax = plot_mean_lws(avgs,Ns, label='mean pos 1')\n",
    "ax = plot_mean_lws(avgspos0,Nspos0, ax=ax, style ='go',label='mean pos 0')\n",
    "ax.set_title(datapath)\n",
    "plt.savefig(os.path.join(datapath,'plot_lw_vs_L_2positions.png'))\n",
    "plt.show()"
   ]
  },
  {
   "cell_type": "code",
   "execution_count": null,
   "metadata": {
    "collapsed": true
   },
   "outputs": [],
   "source": [
    "# ON DIAMOND LINEWIDTH< LENGHTS< POS0\n",
    "#initial analayysis (manual)\n",
    "linewidths1 = np.array([1.65,1.46, 1.62,1.70,1.67, 1.49,1.24,1.18])\n",
    "linewidths2 = np.array([0.809,0.798,0.799,0.792])\n",
    "linewidths3 = np.array([0.93,1.03,1.19])\n",
    "u_linewidths1 = np.array([0.06,0.04,0.04,0.04,0.04,0.04,0.04,0.04])\n",
    "u_linewidths2 = np.array([0.03,0.033,0.031,0.034])\n",
    "u_linewidths3 = np.array([0.04,0.04,0.04])\n",
    "\n",
    "linewidths=np.append(np.append(linewidths1 ,linewidths2),linewidths3)\n",
    "u_linewidths=np.append(np.append(u_linewidths1 ,u_linewidths2),u_linewidths3)\n"
   ]
  },
  {
   "cell_type": "code",
   "execution_count": null,
   "metadata": {
    "collapsed": false
   },
   "outputs": [],
   "source": [
    "# OFF DIAMOND LINEWIDTH< LENGHTS< \n",
    "\n",
    "linewidths = np.array([1.26,1.17,1.09,1.04,0.97,0.92,0.88,0.83,0.79,0.77])*1.e9\n",
    "u_linewidths = np.array([0.04,0.05,0.05,0.05,0.03,0.04,0.03,0.03,0.04,0.03])*1.e9\n",
    "N = np.array([13,14,15,16,17,18,19,20,21,22])\n",
    "cavity_lengths =  636.6*1.e-9*N/2\n",
    "print linewidths,u_linewidths,cavity_lengths\n",
    "\n"
   ]
  },
  {
   "cell_type": "code",
   "execution_count": null,
   "metadata": {
    "collapsed": false,
    "scrolled": true
   },
   "outputs": [],
   "source": [
    "# V = 1.129\n",
    "#8 um at  4.611, \n",
    "#so \n",
    "#removed 0.8+-0.03 @ N=22\n",
    "#23,24,0.76,0.76,0.04,0.03,\n",
    "fig,ax = plt.subplots()\n",
    "ax.errorbar(cavity_lengths*1.e6,linewidths*1.e-9,yerr=u_linewidths*1.e-9,fmt='o')\n",
    "ax.set_xlabel('cavity length (um)')\n",
    "ax.set_ylabel('linewidth (GHz)')\n"
   ]
  },
  {
   "cell_type": "code",
   "execution_count": null,
   "metadata": {
    "collapsed": false
   },
   "outputs": [],
   "source": [
    "reload(common)\n",
    "g_a = 0.1e9\n",
    "g_b = (c)/(2*40000)\n",
    "print g_b\n",
    "print cavity_lengths,linewidths\n",
    "p0, fitfunc, fitfunc_str = common.fit_inverse(g_a, g_b)\n",
    "fit_result = fit.fit1d(cavity_lengths,linewidths, None, p0=p0, fitfunc=fitfunc, do_print=True, ret=True, fixed=[])\n",
    "print p0\n",
    "fig,ax = plt.subplots(figsize=(8,4))\n",
    "ax.plot(cavity_lengths,linewidths)\n",
    "plot.plot_fit1d(fit_result, np.linspace(min(cavity_lengths),max(cavity_lengths),10*len(cavity_lengths)),ax=ax, label='Fit',show_guess=True, plot_data=True,color='red', data_linestyle = 'o', print_info= True)\n",
    "b_fit=fit_result['params_dict']['b']\n",
    "Finesse = c/(2*b_fit)\n",
    "ax.set_title(str(Finesse))\n",
    "# ax.text(0.1,0.1,'the finesse is '+str(Finesse))\n",
    "print Finesse"
   ]
  },
  {
   "cell_type": "code",
   "execution_count": null,
   "metadata": {
    "collapsed": true
   },
   "outputs": [],
   "source": []
  },
  {
   "cell_type": "code",
   "execution_count": null,
   "metadata": {
    "collapsed": false,
    "scrolled": true
   },
   "outputs": [],
   "source": [
    "reload(oscillo_ana)\n",
    "indir='D:\\measuring\\data/20160822/OND_POS2_L5_V9p832'#'D:\\measuring\\data/20160430\\OFF_diamond'\n",
    "filename='NICE_LWS00099'\n",
    "EOM_freq=6. # in GHz\n",
    "\n",
    "oa = oscillo_ana.oscilloscope_analysis(indir=indir,filename=filename)\n",
    "oa.get_data(use_timetrace=False,x_min=0,x_max=1000)#1400)\n",
    "oa.plot_data()#plot_mod=True)\n",
    "\n",
    "# lws_old=lws[:-1]\n",
    "lws = np.array([])#lws_old## \n",
    "nr_lws=120\n",
    "\n",
    "x0 =860\n",
    "windowsize=300# print len(x)\n",
    "# xi = int(len(x)/nr_lws)\n",
    "# print xi \n",
    "\n",
    "x,y = oa.get_data(use_timetrace=False)\n",
    "# lw,u_lw = oa.plot_and_fit_with_EOM(EOM_freq=EOM_freq)\n",
    "# print lw\n",
    "\n",
    "for i in np.arange(nr_lws):\n",
    "    xi = int(x0+(len(x)*i/nr_lws))\n",
    "    \n",
    "    if i%2==1:\n",
    "        xi=xi-50   \n",
    "    if (xi-windowsize)>0:\n",
    "        x_min = xi-windowsize\n",
    "    else: \n",
    "        x_min = 0\n",
    "    if (xi+windowsize)<len(x)-1:\n",
    "        x_max = xi+windowsize\n",
    "    else:\n",
    "        x_max =-1\n",
    "    oa.get_data(use_timetrace=False,x_min = x_min, x_max=x_max)\n",
    "    #oa.plot_data()\n",
    "    lw,u_lw = oa.plot_and_fit_with_EOM(EOM_freq=EOM_freq,g_gamma1=20, g_dx=60,g_A2=2,g_A3=2,show_fit=True)\n",
    "    lws = np.append(lws,lw)\n",
    "#     if i>1:\n",
    "#         break\n",
    "        \n",
    "print lws\n",
    "print len(lws)\n",
    "print np.average(lws)\n",
    "print np.std(lws)\n",
    "\n",
    "f = open(os.path.join(indir,'fitted_lws.txt'), 'w')\n",
    "np.savetxt(f,lws)\n",
    "f.close()\n",
    "\n",
    "# plt.show()\n",
    "\n",
    "# x,y = oscillo_ana.plot_data(indir, filename,use_timetrace=False,x_min=x_min,x_max=x_max)\n",
    "\n",
    "# oscillo_ana.plot_and_fit_with_EOM(indir, filename,EOM_frq,g_a1, g_A1, g_x01, g_gamma1, g_dx, g_A2,g_A3,fixed=fixed,use_timetrace=False)"
   ]
  },
  {
   "cell_type": "code",
   "execution_count": null,
   "metadata": {
    "collapsed": false,
    "scrolled": true
   },
   "outputs": [],
   "source": [
    "# print len(lws)\n",
    "# print lws\n",
    "# lws_old=lws[120:]\n",
    "# print len(lws_old)\n",
    "# print lws_old\n",
    "# #print lws_old\n",
    "# f = open(os.path.join(indir,'fitted_lws.txt'), 'w')\n",
    "# np.savetxt(f,lws_old)\n",
    "# f.close()"
   ]
  },
  {
   "cell_type": "code",
   "execution_count": null,
   "metadata": {
    "collapsed": true
   },
   "outputs": [],
   "source": []
  },
  {
   "cell_type": "code",
   "execution_count": null,
   "metadata": {
    "collapsed": false
   },
   "outputs": [],
   "source": [
    "# indir='D:\\measuring\\data/20160819/OND_L2_V9p866'#\n",
    "\n",
    "f = open(os.path.join(indir,'fitted_lws.txt'), 'r')\n",
    "lws_from_file = np.loadtxt(f)\n",
    "f.close()\n",
    "\n",
    "print len(lws_from_file)\n",
    "\n",
    "os.listdir(indir)\n",
    "\n",
    "# filename='NICE_LWS00058'\n",
    "reload(oscillo_ana)\n",
    "oa = oscillo_ana.oscilloscope_analysis(indir=indir,filename=filename)\n",
    "oa.get_data(use_timetrace=False,x_max=2000)#5000\n",
    "oa.plot_data(plot_mod=True)\n",
    "#oa.get_data(use_timetrace=False,x_min=-2000)\n",
    "#oa.plot_data(plot_mod=True)"
   ]
  },
  {
   "cell_type": "code",
   "execution_count": null,
   "metadata": {
    "collapsed": false,
    "scrolled": true
   },
   "outputs": [],
   "source": []
  },
  {
   "cell_type": "code",
   "execution_count": null,
   "metadata": {
    "collapsed": false
   },
   "outputs": [],
   "source": [
    "#IF SINGLE FILE EXECUTE THIS CELL:\n",
    "\n",
    "first_lw_direction = 'down'\n",
    "\n",
    "updown_mean_lws,lws_up,lws_down =get_up_down_lws(lws_from_file,first_lw_direction)\n",
    "analysis=add_to_analysis_dict({},lws_up,lws_down,updown_mean_lws)\n",
    "save_to_json_file(indir,'analysis',analysis)\n",
    "\n",
    "print 'results of ',indir\n",
    "print_results(analysis)\n"
   ]
  },
  {
   "cell_type": "code",
   "execution_count": null,
   "metadata": {
    "collapsed": true
   },
   "outputs": [],
   "source": [
    "#IF THREE FILES EXECUTE THIS AND THE FOLLWING CELLS:\n",
    "\n",
    "file1_first_lw_direction = 'up'\n",
    "file2_first_lw_direction = 'up'\n",
    "file3_first_lw_direction = 'down'\n",
    "removedfromfile1=0\n",
    "removedfromfile2=0\n"
   ]
  },
  {
   "cell_type": "code",
   "execution_count": null,
   "metadata": {
    "collapsed": false
   },
   "outputs": [],
   "source": [
    "fitted_lws_file1=lws_from_file[0:48-removedfromfile1]\n",
    "fitted_lws_file2=lws_from_file[48-removedfromfile1:96-removedfromfile1-removedfromfile2]\n",
    "fitted_lws_file3=lws_from_file[96-removedfromfile1-removedfromfile2:144]\n",
    "\n",
    "print len(fitted_lws_file1),len(fitted_lws_file2),len(fitted_lws_file3)\n",
    "#print fitted_lws_file1\n",
    "#print fitted_lws_file2 \n",
    "#print fitted_lws_file3"
   ]
  },
  {
   "cell_type": "code",
   "execution_count": null,
   "metadata": {
    "collapsed": false,
    "scrolled": true
   },
   "outputs": [],
   "source": [
    "save_to_txt_file(indir,'fitted_lws_file1',fitted_lws_file1)\n",
    "save_to_txt_file(indir,'fitted_lws_file2',fitted_lws_file2)\n",
    "save_to_txt_file(indir,'fitted_lws_file3',fitted_lws_file3)\n",
    "\n",
    "updown_mean_lws_file1,lws_up_file1,lws_down_file1 =get_up_down_lws(fitted_lws_file1,file1_first_lw_direction)\n",
    "updown_mean_lws_file2,lws_up_file2,lws_down_file2 =get_up_down_lws(fitted_lws_file2,file2_first_lw_direction)\n",
    "updown_mean_lws_file3,lws_up_file3,lws_down_file3 =get_up_down_lws(fitted_lws_file3,file3_first_lw_direction)\n",
    "\n",
    "updown_mean_lws = np.append(np.append(updown_mean_lws_file1,updown_mean_lws_file2),updown_mean_lws_file3)\n",
    "lws_up = np.append(np.append(lws_up_file1,lws_up_file2),lws_up_file3)\n",
    "lws_down = np.append(np.append(lws_down_file1,lws_down_file2),lws_down_file3)\n",
    "\n",
    "analysis=add_to_analysis_dict({},lws_up,lws_down,updown_mean_lws)\n",
    "analysis_file1=add_to_analysis_dict({},lws_up_file1,lws_down_file1,updown_mean_lws_file1)\n",
    "analysis_file2=add_to_analysis_dict({},lws_up_file2,lws_down_file2,updown_mean_lws_file2)\n",
    "analysis_file3=add_to_analysis_dict({},lws_up_file3,lws_down_file3,updown_mean_lws_file3)\n",
    "save_to_json_file(indir,'analysis',analysis)\n",
    "save_to_json_file(indir,'analysis_file1',analysis_file1)\n",
    "save_to_json_file(indir,'analysis_file2',analysis_file2)\n",
    "save_to_json_file(indir,'analysis_file3',analysis_file3)\n",
    "\n",
    "print 'results of ',indir\n",
    "print_results(analysis)\n",
    "print_results(analysis_file1)\n",
    "print_results(analysis_file2)\n",
    "print_results(analysis_file3)"
   ]
  },
  {
   "cell_type": "code",
   "execution_count": null,
   "metadata": {
    "collapsed": false
   },
   "outputs": [],
   "source": [
    "\n"
   ]
  },
  {
   "cell_type": "code",
   "execution_count": null,
   "metadata": {
    "collapsed": false
   },
   "outputs": [],
   "source": [
    "import matplotlib.pyplot as plt\n",
    "\n",
    "fig,ax=plt.subplots()\n",
    "\n",
    "ax.plot(lws)\n",
    "ax.set_xlabel('sweep nr')\n",
    "ax.set_ylabel('linewidth')"
   ]
  },
  {
   "cell_type": "code",
   "execution_count": null,
   "metadata": {
    "collapsed": true
   },
   "outputs": [],
   "source": [
    "f = open(os.path.join(indir,'fitted_lws_file0010.txt'), 'w')\n",
    "np.savetxt(f,lws)\n",
    "f.close()"
   ]
  },
  {
   "cell_type": "code",
   "execution_count": null,
   "metadata": {
    "collapsed": false
   },
   "outputs": [],
   "source": [
    "copy_lws_from_file=lws_from_file\n",
    "print co"
   ]
  },
  {
   "cell_type": "code",
   "execution_count": null,
   "metadata": {
    "collapsed": true
   },
   "outputs": [],
   "source": [
    "f = open(os.path.join(indir,'fitted_lws.txt'), 'w')\n",
    "np.savetxt(f,new_lws_from_file)\n",
    "f.close()"
   ]
  },
  {
   "cell_type": "code",
   "execution_count": null,
   "metadata": {
    "collapsed": true
   },
   "outputs": [],
   "source": []
  }
 ],
 "metadata": {
  "kernelspec": {
   "display_name": "Python 2",
   "language": "python",
   "name": "python2"
  },
  "language_info": {
   "codemirror_mode": {
    "name": "ipython",
    "version": 2
   },
   "file_extension": ".py",
   "mimetype": "text/x-python",
   "name": "python",
   "nbconvert_exporter": "python",
   "pygments_lexer": "ipython2",
   "version": "2.7.3"
  }
 },
 "nbformat": 4,
 "nbformat_minor": 0
}
