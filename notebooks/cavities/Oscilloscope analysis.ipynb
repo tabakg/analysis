{
 "cells": [
  {
   "cell_type": "code",
   "execution_count": null,
   "metadata": {
    "collapsed": false
   },
   "outputs": [],
   "source": [
    "%matplotlib inline\n",
    "import os\n",
    "import numpy as np\n",
    "filepath='D:/measuring'\n",
    "import scipy.signal\n",
    "os.chdir(filepath)\n"
   ]
  },
  {
   "cell_type": "code",
   "execution_count": null,
   "metadata": {
    "collapsed": false,
    "scrolled": true
   },
   "outputs": [],
   "source": [
    "import analysis.scripts.cavity.oscilloscope_analysis_linewidth as oscillo_ana\n"
   ]
  },
  {
   "cell_type": "code",
   "execution_count": null,
   "metadata": {
    "collapsed": false
   },
   "outputs": [],
   "source": [
    "\n",
    "# Parameters for\n",
    "g_a1 = 0.02\n",
    "g_A1 = 0.02\n",
    "g_x01 = 2.14\n",
    "g_gamma1 = 0.1\n",
    "g_A2 = 0.02\n",
    "#g_x02 = 0.02\n",
    "g_gamma2 = 0.1\n",
    "g_dx = 0.24\n",
    "\n",
    "\n"
   ]
  }
 ],
 "metadata": {
  "kernelspec": {
   "display_name": "Python 2",
   "language": "python",
   "name": "python2"
  },
  "language_info": {
   "codemirror_mode": {
    "name": "ipython",
    "version": 2
   },
   "file_extension": ".py",
   "mimetype": "text/x-python",
   "name": "python",
   "nbconvert_exporter": "python",
   "pygments_lexer": "ipython2",
   "version": "2.7.3"
  }
 },
 "nbformat": 4,
 "nbformat_minor": 0
}
