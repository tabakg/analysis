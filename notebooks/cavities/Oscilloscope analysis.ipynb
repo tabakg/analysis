{
 "cells": [
  {
   "cell_type": "code",
   "execution_count": null,
   "metadata": {
    "collapsed": false
   },
   "outputs": [],
   "source": [
    "%matplotlib inline\n",
    "import os\n",
    "import numpy as np\n",
    "filepath='D:/measuring'\n",
    "import scipy.signal\n",
    "os.chdir(filepath)\n"
   ]
  },
  {
   "cell_type": "code",
   "execution_count": null,
   "metadata": {
    "collapsed": false,
    "scrolled": true
   },
   "outputs": [],
   "source": [
    "import analysis.scripts.cavity.oscilloscope_analysis_linewidth as oscillo_ana"
   ]
  },
  {
   "cell_type": "code",
   "execution_count": null,
   "metadata": {
    "collapsed": false,
    "scrolled": false
   },
   "outputs": [],
   "source": [
    "\n",
    "# Parameters for\n",
    "g_a1 = 0.00\n",
    "g_A1 = 0.0004\n",
    "g_x01 = 0.002\n",
    "g_gamma1 = 0.001\n",
    "g_dx = 0.0025\n",
    "g_A2 = 0.0004\n",
    "#g_x02 = 0.02\n",
    "g_gamma2 = 0.001\n",
    "\n",
    "\n",
    "fixed =[]#[0,1,2,5,6]\n",
    "indir='D:\\measuring\\data/20160430\\OFF_diamond'\n",
    "filename='OFFD000'\n",
    "reload(oscillo_ana)\n",
    "oscillo_ana.plot_and_fit(indir, filename,g_a1, g_A1, g_x01, g_gamma1, g_dx, g_A2, g_gamma2,fixed=fixed)"
   ]
  },
  {
   "cell_type": "code",
   "execution_count": null,
   "metadata": {
    "collapsed": false
   },
   "outputs": [],
   "source": [
    "reload(oscillo_ana)"
   ]
  },
  {
   "cell_type": "code",
   "execution_count": null,
   "metadata": {
    "collapsed": true
   },
   "outputs": [],
   "source": []
  }
 ],
 "metadata": {
  "kernelspec": {
   "display_name": "Python 2",
   "language": "python",
   "name": "python2"
  },
  "language_info": {
   "codemirror_mode": {
    "name": "ipython",
    "version": 2
   },
   "file_extension": ".py",
   "mimetype": "text/x-python",
   "name": "python",
   "nbconvert_exporter": "python",
   "pygments_lexer": "ipython2",
   "version": "2.7.3"
  }
 },
 "nbformat": 4,
 "nbformat_minor": 0
}
