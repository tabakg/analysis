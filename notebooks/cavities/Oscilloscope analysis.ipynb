{
 "cells": [
  {
   "cell_type": "code",
   "execution_count": 11,
   "metadata": {
    "collapsed": false
   },
   "outputs": [
    {
     "name": "stdout",
     "output_type": "stream",
     "text": [
      "reloaded\n"
     ]
    }
   ],
   "source": [
    "%matplotlib inline\n",
    "import os\n",
    "import numpy as np\n",
    "import json\n",
    "filepath='C:/measuring/'#only for local \n",
    "\n",
    "datapath = 'W:\\Diamond\\Projects\\Cavities\\Cavity characterisation paper\\data/data_for_cav_char_paper/'\n",
    "import scipy.signal\n",
    "c = 2.997e8\n",
    "os.chdir(filepath)\n",
    "from analysis.lib.fitting import fit, common; reload(common)\n",
    "from analysis.lib.tools import plot\n",
    "import matplotlib.pyplot as plt\n"
   ]
  },
  {
   "cell_type": "code",
   "execution_count": 12,
   "metadata": {
    "collapsed": false,
    "scrolled": true
   },
   "outputs": [],
   "source": [
    "import analysis.scripts.cavity.oscilloscope_analysis_linewidth as oscillo_ana\n",
    "import analysis.scripts.cavity.functions_for_processing_linewidth_data as funcs"
   ]
  },
  {
   "cell_type": "code",
   "execution_count": null,
   "metadata": {
    "collapsed": false
   },
   "outputs": [],
   "source": [
    "LWs_LT = [2.04,2.05,1.83,1.96,2.01,2.0,1.78,1.8,1.96,1.61,1.86,1.36,1.64,2.27,2.22,2.26,1.87,2.05,1.99,1.94]\n",
    "nr_lws = len(LWs_LT)\n",
    "avg_lw = np.average(LWs_LT)\n",
    "u_avg_lw = np.std(LWs_LT)\n",
    "\n",
    "print '%d fitted; average linewidth = %.2f +- %.2f'%(nr_lws,avg_lw,u_avg_lw)"
   ]
  },
  {
   "cell_type": "code",
   "execution_count": null,
   "metadata": {
    "collapsed": true
   },
   "outputs": [],
   "source": [
    "lws = np.array([])"
   ]
  },
  {
   "cell_type": "code",
   "execution_count": null,
   "metadata": {
    "collapsed": false
   },
   "outputs": [],
   "source": [
    "indir = 'D:\\measuring/data/20160907/145700_reflection_scope_trace'\n",
    "filename = 'REFL000'\n",
    "EOM_freq= 6.\n",
    "reload(oscillo_ana)\n",
    "\n",
    "oa_all = oscillo_ana.oscilloscope_analysis(indir=indir,filename=filename)\n",
    "oa_all.get_data(use_timetrace=False,x_min=None,x_max=None,data_col=3)\n",
    "oa_all.plot_data(plot_mod=True,figsize=(16,4),fmt='o')\n",
    "\n",
    "x_min=64000\n",
    "x_max=x_min+5000\n",
    "oa_single = oscillo_ana.oscilloscope_analysis(indir=indir,filename=filename)\n",
    "oa_single.get_data(use_timetrace=False,x_min=x_min,x_max=x_max,data_col=3)#1400)\n",
    "oa_single.plot_data(plot_mod=False,figsize=(16,4),fmt='o')\n"
   ]
  },
  {
   "cell_type": "code",
   "execution_count": null,
   "metadata": {
    "collapsed": true
   },
   "outputs": [],
   "source": [
    "\n",
    "\n",
    "# for j,filename in enumerate(filenames):\n",
    "#     oa = oscillo_ana.oscilloscope_analysis(indir=indir,filename=filename)\n",
    "#     oa.get_data(use_timetrace=False,x_min=0,x_max=10000,data_col=3)#1400)\n",
    "#     oa.plot_data()#plot_mod=True)\n",
    "\n",
    "#     # lws_old=lws[:-1]\n",
    "#     lws = np.array([])#lws_old## \n",
    "#     As = np.array([])#lws_old## \n",
    "#     gammas = np.array([])#lws_old## \n",
    "#     nr_lws=10\n",
    "\n",
    "#     x0 =x0s[j]\n",
    "#     windowsize=5000# print len(x)\n",
    "#     # xi = int(len(x)/nr_lws)\n",
    "#     # print xi \n",
    "\n",
    "#     x,y = oa.get_data(use_timetrace=False,data_col=3)\n",
    "#     # lw,u_lw = oa.plot_and_fit_with_EOM(EOM_freq=EOM_freq)\n",
    "#     # print lw\n",
    "\n",
    "# "
   ]
  },
  {
   "cell_type": "code",
   "execution_count": null,
   "metadata": {
    "collapsed": false,
    "scrolled": true
   },
   "outputs": [],
   "source": []
  },
  {
   "cell_type": "code",
   "execution_count": null,
   "metadata": {
    "collapsed": false,
    "scrolled": true
   },
   "outputs": [],
   "source": [
    "print len(good_lws)\n",
    "print good_lws[-1]\n",
    "print good_u_lws\n",
    "print good_chisqs\n",
    "print 'average lw %.2f +- %.2f'%(np.average(good_lws[:-1]) ,np.std(good_lws[:-1]))\n",
    "\n"
   ]
  },
  {
   "cell_type": "code",
   "execution_count": null,
   "metadata": {
    "collapsed": false,
    "scrolled": true
   },
   "outputs": [],
   "source": [
    "lw,u_lw,A1,u_a1,g,u_g,chi_sq = oa_single.plot_and_fit_with_EOM(EOM_freq=EOM_freq,\n",
    "                                g_a1 = 0.01,g_A1 = 120000,g_A2=20000,g_A3=20000,g_gamma1=200,g_dx = 500,\n",
    "                                show_fit=True,print_fit=True,plot_name=str(x_min))\n",
    "\n",
    "print chi_sq"
   ]
  },
  {
   "cell_type": "code",
   "execution_count": null,
   "metadata": {
    "collapsed": true
   },
   "outputs": [],
   "source": [
    "lws = [1.18,1.48,1.37,2.22]"
   ]
  },
  {
   "cell_type": "code",
   "execution_count": null,
   "metadata": {
    "collapsed": true
   },
   "outputs": [],
   "source": []
  },
  {
   "cell_type": "code",
   "execution_count": null,
   "metadata": {
    "collapsed": false,
    "scrolled": true
   },
   "outputs": [],
   "source": [
    "\n",
    "# Parameters for\n",
    "\n",
    "#g_x02 = 0.02\n",
    "# g_gamma2 = 0.002\n",
    "\n",
    "nr_datafiles = 9\n",
    "\n",
    "linewidths = np.zeros((nr_datafiles,2))\n",
    "\n",
    "reload(oscillo_ana)\n",
    "\n",
    "for i in np.arange(nr_datafiles):\n",
    "    fixed =[]#[0,1,2,5]\n",
    "    \n",
    "    g_a1 = 0.002\n",
    "    g_A1 = 0.00004\n",
    "    g_x01 = 0.002\n",
    "    g_gamma1 = 0.0004\n",
    "    g_dx = 0.0015\n",
    "    g_A2 = 0.00002\n",
    "    \n",
    "    if i == 2:\n",
    "        g_gamma1 = 0.0035\n",
    "    indir='D:\\measuring\\data/20160430\\OFF_diamond'#'D:\\measuring\\data/20160430\\OFF_diamond'\n",
    "    filename='OFFD00'+str(i)\n",
    "    linewidth, u_linewidth = oscillo_ana.plot_and_fit(indir, filename,\n",
    "                                                      g_a1, g_A1, g_x01, g_gamma1, g_dx, g_A2,fixed=fixed)\n",
    "    print linewidth, u_linewidth\n",
    "    linewidths[i,0]= linewidth\n",
    "    linewidths[i,1] = u_linewidth\n",
    "print linewidths\n",
    "\n",
    "f = open(os.path.join(indir,'linewidth_data.txt'), 'w')\n",
    "np.savetxt(f,linewidths)\n",
    "f.close()"
   ]
  },
  {
   "cell_type": "code",
   "execution_count": null,
   "metadata": {
    "collapsed": false
   },
   "outputs": [],
   "source": [
    "nu=470.e12\n",
    "Q = nu/(linewidths[1])\n",
    "print Q\n",
    "nu_FSR=c/(2*cavity_lengths[1])\n",
    "F=Q*nu_FSR/nu\n",
    "print F\n",
    "F=nu_FSR/linewidths[1]\n",
    "print F\n",
    "print nu_FSR\n"
   ]
  },
  {
   "cell_type": "code",
   "execution_count": null,
   "metadata": {
    "collapsed": false
   },
   "outputs": [],
   "source": [
    "\n",
    "  "
   ]
  },
  {
   "cell_type": "code",
   "execution_count": null,
   "metadata": {
    "collapsed": false
   },
   "outputs": [],
   "source": [
    "# plotting all in one!!! \\\n",
    "reload(funcs)\n",
    "\n",
    "avg_finesse_RT_OFFD = np.average(funcs.finesses_from_lws(RT_OFFD_POS0_avgs[:,4],RT_OFFD_POS0_avgs[:,5],RT_OFFD_POS0_Ns)[0])\n",
    "avg_finesse_LT_OFFD = np.average(funcs.finesses_from_lws(LT_OFFD_POS3_avg_array,LT_OFFD_POS3_std_array,LT_OFFD_POS3_Ns)[0])\n",
    "\n",
    "\n",
    "###TODO - include diamond thickness\n",
    "fig3,ax3 = plt.subplots(figsize=(6,4))\n",
    "ax3 = funcs.plot_mean_lws_from_avgs(RT_OFFD_POS0_avgs,RT_OFFD_POS0_Ns,ax=ax3,label='RT OFFD POS0')\n",
    "ax3 = funcs.plot_mean_lws(LT_OFFD_POS3_avg_array,LT_OFFD_POS3_std_array,LT_OFFD_POS3_Ns,ax=ax3,label='LT OFFD POS3')\n",
    "ax3.set_title(folder+'/lw_vs_L_all_OFFD')\n",
    "plt.savefig(os.path.join(folder,'lw_vs_L_all_OFFD.png'))\n",
    "plt.show(fig3)\n",
    "\n",
    "\n",
    "fig,ax = plt.subplots(figsize=(12,4))\n",
    "ax = funcs.plot_mean_lws_from_avgs(RT_OND_POS0_avgs,RT_OND_POS0_Ns,ax=ax,label='RT OND POS0')\n",
    "ax = funcs.plot_mean_lws_from_avgs(RT_OND_POS1_avgs,RT_OND_POS1_Ns,ax=ax,label='RT OND POS1')\n",
    "ax = funcs.plot_mean_lws_from_avgs(RT_OND_POS2_avgs,RT_OND_POS2_Ns,ax=ax,label='RT OND POS2')\n",
    "\n",
    "ax = funcs.plot_mean_lws(LT_OND_POS2_avg_array,LT_OND_POS2_std_array,LT_OND_POS2_Ns,ax=ax,label='LT OND POS2')\n",
    "ax = funcs.plot_mean_lws(LT_OND_POS4_avg_array,LT_OND_POS4_std_array,LT_OND_POS4_Ns,ax=ax,label='LT OND POS4')\n",
    "\n",
    "ax.set_title(folder+'/lw_vs_L_all_OND')\n",
    "plt.savefig(os.path.join(folder,'lw_vs_L_all_OND.png'))\n",
    "plt.show(fig)\n",
    "\n",
    "###################### version 1 -both separate\n",
    "\n",
    "fig4,ax4 = plt.subplots(figsize=(6,4))\n",
    "ax4  = funcs.plot_finesse_vs_length_from_avgs(RT_OFFD_POS0_avgs,RT_OFFD_POS0_Ns,ax=ax4,label='RT OFFD POS0')\n",
    "ax4 = funcs.plot_finesse_vs_length(LT_OFFD_POS3_avg_array,LT_OFFD_POS3_std_array,LT_OFFD_POS3_Ns,ax=ax4,label='LT OFFD POS3')\n",
    "ax4.set_title(folder+'/Finesse_vs_L_all_OFFD')\n",
    "ax4.legend(loc='lower right')\n",
    "plt.savefig(os.path.join(folder,'Finesse_vs_L_all_OFFD.png'))\n",
    "plt.show(fig4)\n",
    "\n",
    "fig2,ax2 = plt.subplots(figsize=(12,4))\n",
    "ax2 = funcs.plot_finesse_vs_length_from_avgs(RT_OND_POS0_avgs,RT_OND_POS0_Ns,ax=ax2,label='RT OND POS0')\n",
    "ax2 = funcs.plot_finesse_vs_length_from_avgs(RT_OND_POS1_avgs,RT_OND_POS1_Ns,ax=ax2,label='RT OND POS1')\n",
    "ax2 = funcs.plot_finesse_vs_length_from_avgs(RT_OND_POS2_avgs,RT_OND_POS2_Ns,ax=ax2,label='RT OND POS2')\n",
    "\n",
    "ax2 = funcs.plot_finesse_vs_length(LT_OND_POS2_avg_array,LT_OND_POS2_std_array,LT_OND_POS2_Ns,ax=ax2,label='LT OND POS2')\n",
    "ax2 = funcs.plot_finesse_vs_length(LT_OND_POS4_avg_array,LT_OND_POS4_std_array,LT_OND_POS4_Ns,ax=ax2,label='LT OND POS4')\n",
    "\n",
    "ax2.set_title(folder+'/Finesse_vs_L_all_OND')\n",
    "plt.savefig(os.path.join(folder,'Finesse_vs_L_all_OND_vs1.png'))\n",
    "plt.show(fig2)\n",
    "\n",
    "\n",
    "###################### version 2 -OFF D average as a lines\n",
    "fig5,ax5 = plt.subplots(figsize=(12,4))\n",
    "ax5 = funcs.plot_finesse_vs_length_from_avgs(RT_OND_POS0_avgs,RT_OND_POS0_Ns,ax=ax5,label='RT OND POS0')\n",
    "ax5 = funcs.plot_finesse_vs_length_from_avgs(RT_OND_POS1_avgs,RT_OND_POS1_Ns,ax=ax5,label='RT OND POS1')\n",
    "ax5 = funcs.plot_finesse_vs_length_from_avgs(RT_OND_POS2_avgs,RT_OND_POS2_Ns,ax=ax5,label='RT OND POS2')\n",
    "\n",
    "ax5 = funcs.plot_finesse_vs_length(LT_OND_POS2_avg_array,LT_OND_POS2_std_array,LT_OND_POS2_Ns,ax=ax5,label='LT OND POS2')\n",
    "ax5 = funcs.plot_finesse_vs_length(LT_OND_POS4_avg_array,LT_OND_POS4_std_array,LT_OND_POS4_Ns,ax=ax5,label='LT OND POS4')\n",
    "\n",
    "ax5.plot(ax5.get_xlim(),[avg_finesse_RT_OFFD,avg_finesse_RT_OFFD],'--',color='orange' )\n",
    "ax5.text(ax5.get_xlim()[0]+1,avg_finesse_RT_OFFD-2000,'RT OFFD',color='orange')\n",
    "\n",
    "ax5.plot(ax5.get_xlim(),[avg_finesse_LT_OFFD,avg_finesse_LT_OFFD],'--',color='darkorange' )\n",
    "ax5.text(ax5.get_xlim()[0]+1,avg_finesse_LT_OFFD-2000,'LT OFFD',color='darkorange')\n",
    "\n",
    "ax5.set_title(folder+'/Finesse_vs_L_all_OND')\n",
    "plt.savefig(os.path.join(folder,'Finesse_vs_L_all_OND_vs2.png'))\n",
    "plt.show(fig5)\n",
    "\n",
    "\n",
    "\n",
    "\n",
    "\n",
    "###################### version 2 -OFF D average as a lines\n",
    "fig6,ax6 = plt.subplots(figsize=(12,4))\n",
    "ax6  = funcs.plot_finesse_vs_length_from_avgs(RT_OFFD_POS0_avgs,RT_OFFD_POS0_Ns,ax=ax6,label='RT OFFD POS0')\n",
    "ax6 = funcs.plot_finesse_vs_length(LT_OFFD_POS3_avg_array,LT_OFFD_POS3_std_array,LT_OFFD_POS3_Ns,ax=ax6,label='LT OFFD POS3')\n",
    "\n",
    "ax6 = funcs.plot_finesse_vs_length_from_avgs(RT_OND_POS0_avgs,RT_OND_POS0_Ns,ax=ax6,label='RT OND POS0')\n",
    "ax6 = funcs.plot_finesse_vs_length_from_avgs(RT_OND_POS1_avgs,RT_OND_POS1_Ns,ax=ax6,label='RT OND POS1')\n",
    "ax6 = funcs.plot_finesse_vs_length_from_avgs(RT_OND_POS2_avgs,RT_OND_POS2_Ns,ax=ax6,label='RT OND POS2')\n",
    "\n",
    "ax6 = funcs.plot_finesse_vs_length(LT_OND_POS2_avg_array,LT_OND_POS2_std_array,LT_OND_POS2_Ns,ax=ax6,label='LT OND POS2')\n",
    "ax6 = funcs.plot_finesse_vs_length(LT_OND_POS4_avg_array,LT_OND_POS4_std_array,LT_OND_POS4_Ns,ax=ax6,label='LT OND POS4')\n",
    "\n",
    "ax6.set_title(folder+'/Finesse_vs_L_all_OND')\n",
    "plt.savefig(os.path.join(folder,'Finesse_vs_L_all_OND_vs3.png'))\n",
    "plt.show(fig6)\n",
    " \n"
   ]
  },
  {
   "cell_type": "code",
   "execution_count": null,
   "metadata": {
    "collapsed": false
   },
   "outputs": [],
   "source": [
    "reload(funcs)\n",
    "#LT ON DIAMOND, POS 4\n",
    "dir_L2 = os.path.join(datapath,'20160909/LT_OND_POS4_L2')\n",
    "dir_L3 = os.path.join(datapath,'20160909/LT_OND_POS4_L3')\n",
    "dir_L4 = os.path.join(datapath,'20160909/LT_OND_POS4_L4')\n",
    "dir_L5 = os.path.join(datapath,'20160909/LT_OND_POS4_L5')\n",
    "\n",
    "d_diamond_pos4 = 4.22e-6\n",
    "N2s= [42,43,44]\n",
    "N3s = [44,45,46,47]\n",
    "N4s = [45,46,47,48]\n",
    "N5s=[48,49,50,51]#educated guess for now\n",
    "V2s=[0,1,2]\n",
    "V3s=[0,1,2,3]\n",
    "V4s=[0,1,2,3]\n",
    "V5s = [0,1,2,3]\n",
    "folder,avg_array2,std_array2 = funcs.get_LT_avg_array_from_json(V2s ,dir_L2)\n",
    "folder,avg_array3,std_array3 = funcs.get_LT_avg_array_from_json(V3s ,dir_L3)\n",
    "folder,avg_array4,std_array4 = funcs.get_LT_avg_array_from_json(V4s ,dir_L4)\n",
    "folder,avg_array5,std_array5 = funcs.get_LT_avg_array_from_json(V5s ,dir_L5)\n",
    "\n",
    "\n",
    "LT_OND_POS4_avg_array = np.concatenate((avg_array2,avg_array3,avg_array4,avg_array5))\n",
    "LT_OND_POS4_std_array =np.concatenate((std_array2,std_array3,std_array4,std_array5))  \n",
    "LT_OND_POS4_Ns = np.concatenate((N2s,N3s,N4s,N5s))\n",
    "\n",
    "\n",
    "ax = funcs.plot_finesse_vs_length(LT_OND_POS4_avg_array,LT_OND_POS4_std_array,LT_OND_POS4_Ns)\n",
    "\n",
    "funcs.plot_mean_lws(LT_OND_POS4_avg_array,LT_OND_POS4_std_array,LT_OND_POS4_Ns)"
   ]
  },
  {
   "cell_type": "code",
   "execution_count": null,
   "metadata": {
    "collapsed": false,
    "scrolled": true
   },
   "outputs": [],
   "source": [
    "#LT ON DIAMOND , POS 2\n",
    "reload(funcs)\n",
    "dir_L5 = os.path.join(datapath,'20160905/LT_OND_POS2_L5')\n",
    "dir_L6 = os.path.join(datapath,'20160905/LT_OND_POS2_L6')\n",
    "dir_L7 = os.path.join(datapath,'20160905/LT_OND_POS2_L7')\n",
    "\n",
    "N2s= [69]\n",
    "avg_array2 = [1.92]\n",
    "std_array2 = [0.22]\n",
    "V5s= [0,1,2,3]\n",
    "N5s = [53,54,55,56]\n",
    "V6s=[0,1,2,3]\n",
    "N6s=[48,49,50,51]\n",
    "V7s = [0,1,2,3]\n",
    "N7s=[44,45,46,47]\n",
    "\n",
    "\n",
    "folder,avg_array5,std_array5 = funcs.get_LT_avg_array_from_json(V5s ,dir_L5)\n",
    "folder,avg_array6,std_array6 = funcs.get_LT_avg_array_from_json(V6s ,dir_L6)\n",
    "folder,avg_array7,std_array7 = funcs.get_LT_avg_array_from_json(V7s ,dir_L7)\n",
    "\n",
    "\n",
    "LT_OND_POS2_avg_array = np.concatenate((avg_array5,avg_array6,avg_array7,avg_array2)) \n",
    "LT_OND_POS2_std_array =  np.concatenate((std_array5,std_array6,std_array7,std_array2)) \n",
    "LT_OND_POS2_Ns = np.concatenate((N5s,N6s,N7s,N2s))\n",
    "\n",
    "print LT_OND_POS2_avg_array\n",
    "\n",
    "ax = funcs.plot_finesse_vs_length(LT_OND_POS2_avg_array,LT_OND_POS2_std_array,LT_OND_POS2_Ns)\n",
    "\n",
    "funcs.plot_mean_lws(LT_OND_POS2_avg_array,LT_OND_POS2_std_array,LT_OND_POS2_Ns)"
   ]
  },
  {
   "cell_type": "code",
   "execution_count": null,
   "metadata": {
    "collapsed": false
   },
   "outputs": [],
   "source": [
    "#LT OFF DIAMOND , POS 3\n",
    "dir_L0 = os.path.join(datapath,'20160907/LT_POS3_OFFD_L0')\n",
    "\n",
    "N0s= [17]\n",
    "V0s = [0]\n",
    "\n",
    "folder,avg_array0,std_array0 = funcs.get_LT_avg_array_from_json(V0s ,dir_L0)\n",
    "\n",
    "LT_OFFD_POS3_avg_array = avg_array0\n",
    "LT_OFFD_POS3_std_array = std_array0\n",
    "LT_OFFD_POS3_Ns = N0s\n",
    "\n",
    "\n",
    "ax = funcs.plot_finesse_vs_length(LT_OFFD_POS3_avg_array,LT_OFFD_POS3_std_array,LT_OFFD_POS3_Ns)\n",
    "\n",
    "funcs.plot_mean_lws(LT_OFFD_POS3_avg_array,LT_OFFD_POS3_std_array,LT_OFFD_POS3_Ns)"
   ]
  },
  {
   "cell_type": "code",
   "execution_count": 15,
   "metadata": {
    "collapsed": false,
    "scrolled": true
   },
   "outputs": [
    {
     "data": {
      "image/png": "[encoded data removed]",
      "text/plain": [
       "<matplotlib.figure.Figure at 0xaa3f550>"
      ]
     },
     "metadata": {},
     "output_type": "display_data"
    },
    {
     "data": {
      "image/png": "[encoded data removed]",
      "text/plain": [
       "<matplotlib.figure.Figure at 0xbd78da0>"
      ]
     },
     "metadata": {},
     "output_type": "display_data"
    },
    {
     "data": {
      "image/png": "[encoded data removed]",
      "text/plain": [
       "<matplotlib.figure.Figure at 0xa8e68d0>"
      ]
     },
     "metadata": {},
     "output_type": "display_data"
    }
   ],
   "source": [
    "# ON DIAMOND LINEWIDTH< LENGHTS< POS2\n",
    "dir_L2 = os.path.join(datapath,'20160825/OND_POS2L2')\n",
    "dir_L3 = os.path.join(datapath,'20160825/OND_POS2L3')\n",
    "dir_L4 = os.path.join(datapath,'20160825/OND_POS2L4')\n",
    "dir_L5 = os.path.join(datapath,'20160825/OND_POS2L5')\n",
    "dir_L6 = os.path.join(datapath,'20160825/OND_POS2L6')\n",
    "dir_L7 = os.path.join(datapath,'20160825/OND_POS2L7')\n",
    "dir_L8 = os.path.join(datapath,'20160825/OND_POS2L8')\n",
    "\n",
    "L2_N0 = 70#73\n",
    "L3_N0 = 65#68\n",
    "L4_N0 = 59#62\n",
    "L5_N0 = 54#57\n",
    "L6_N0 = 49#48#49#48\n",
    "L7_N0 = 45#44\n",
    "L8_N0 = 44#42\n",
    "\n",
    "nr_files_L3= 9\n",
    "V2s=np.arange(0,0+9,1)\n",
    "V3s=np.arange(0,0+9,1)\n",
    "V4s=np.arange(0,0+9,1)\n",
    "V5s=np.arange(0,0+9,1)\n",
    "V6s=np.arange(0,0+9,1)\n",
    "V7s=np.arange(0,0+9,1)\n",
    "V8s=np.arange(0,0+7,1)\n",
    "\n",
    "\n",
    "N2s = np.arange(L2_N0 ,L2_N0+9,1)#55,63\n",
    "N3s= np.arange(L3_N0 ,L3_N0+9,1)\n",
    "N4s= np.arange(L4_N0 ,L4_N0+9,1)\n",
    "N5s= np.arange(L5_N0 ,L5_N0+9,1)\n",
    "N6s= np.arange(L6_N0 ,L6_N0+9,1)\n",
    "N7s= np.arange(L7_N0 ,L7_N0+9,1)\n",
    "N8s= np.arange(L8_N0 ,L8_N0+7,1)\n",
    "\n",
    "folder,avgs2=funcs.get_avg_array_for_Vs(V2s,1,dir_L2,tag='')\n",
    "folder,avgs3=funcs.get_avg_array_for_Vs(V3s,1,dir_L3,tag='')\n",
    "folder,avgs4=funcs.get_avg_array_for_Vs(V4s,1,dir_L4,tag='')\n",
    "folder,avgs5=funcs.get_avg_array_for_Vs(V5s,1,dir_L5,tag='')\n",
    "folder,avgs6=funcs.get_avg_array_for_Vs(V6s,1,dir_L6,tag='')\n",
    "folder,avgs7=funcs.get_avg_array_for_Vs(V7s,1,dir_L7,tag='')\n",
    "folder,avgs8=funcs.get_avg_array_for_Vs(V8s,1,dir_L8,tag='')\n",
    "\n",
    "\n",
    "#RT_OND_POS2_avgs = np.append(np.append(np.append(np.append(np.append(np.append(avgs2,avgs3,axis=0),avgs4,axis=0),avgs5,axis=0),avgs6,axis=0),avgs7,axis=0),avgs8,axis=0)\n",
    "RT_OND_POS2_avgs = np.concatenate((avgs2,avgs3,avgs4,avgs5,avgs6,avgs7,avgs8))\n",
    "RT_OND_POS2_Ns = np.concatenate((N2s,N3s,N4s,N5s,N6s,N7s,N8s))\n",
    "\n",
    "RT_OND_POS2_avgs_zoom= np.append(np.append(avgs7,avgs8,axis=0),avgs6,axis=0)\n",
    "RT_OND_POS2_Ns_zoom= np.append(np.append(N7s,N8s,axis=0),N6s,axis=0)\n",
    "\n",
    "ax = funcs.plot_updown_lws(RT_OND_POS2_avgs,RT_OND_POS2_Ns)\n",
    "ax.set_title(folder)\n",
    "plt.savefig(os.path.join(folder,'plot_lw_vs_L.png'))\n",
    "plt.show()\n",
    "\n",
    "ax = funcs.plot_updown_lws(RT_OND_POS2_avgs_zoom,RT_OND_POS2_Ns_zoom)\n",
    "ax.set_title(folder)\n",
    "plt.savefig(os.path.join(folder,'plot_lw_vs_L_zoom.png'))\n",
    "plt.show()\n",
    "\n",
    "ax,Finesses = funcs.plot_finesse_vs_length_from_avgs(RT_OND_POS2_avgs,RT_OND_POS2_Ns)\n",
    "ax.set_title(folder)\n",
    "plt.savefig(os.path.join(folder,'Finesse_vs_L.png'))\n",
    "plt.show()\n",
    "\n",
    "\n",
    "# ax = plot_mean_lws_from_avgs(avgs,Ns, label='mean pos 2')\n",
    "# ax = plot_mean_lws_from_avgs(avgspos0,Nspos0, ax=ax, style ='go',label='mean pos 0')\n",
    "# ax.set_title(datapath)\n",
    "# plt.savefig(os.path.join(datapath,'plot_lw_vs_L_2positions.png'))\n",
    "# plt.show()\n"
   ]
  },
  {
   "cell_type": "code",
   "execution_count": 16,
   "metadata": {
    "collapsed": false
   },
   "outputs": [
    {
     "name": "stderr",
     "output_type": "stream",
     "text": [
      "analysis\\lib\\tools\\plot.py:40: FutureWarning: comparison to `None` will result in an elementwise object comparison in the future.\n",
      "  if fit_xvals == None:\n"
     ]
    },
    {
     "data": {
      "image/png": "[encoded data removed]",
      "text/plain": [
       "<matplotlib.figure.Figure at 0xaa73198>"
      ]
     },
     "metadata": {},
     "output_type": "display_data"
    }
   ],
   "source": [
    "\n",
    "### Fit rclip\n",
    "\n",
    "\n",
    "g_ROC = 15e-6\n",
    "g_rclip = 30e-6\n",
    "g_Transmission = 50e-6\n",
    "g_Loss = 50e-6\n",
    "fig,ax = plt.subplots(figsize=(8,4))\n",
    "p0, fitfunc, fitfunc_str = common.fit_clipping_radius(g_ROC,g_rclip,g_Transmission,g_Loss)\n",
    "# show_guess = True\n",
    "# if show_guess:\n",
    "#     ax.plot(np.linspace(x[0],x[-1],201), fitfunc(np.linspace(0,x[-1],201)), lw=2)\n",
    "fit_result = fit.fit1d(RT_OND_POS2_Ns,Finesses, None, p0=p0, fitfunc=fitfunc, do_print=True, ret=True, fixed=[0])\n",
    "\n",
    "\n",
    "x = np.linspace(min(RT_OND_POS2_Ns),max(RT_OND_POS2_Ns),10*len(RT_OND_POS2_Ns))\n",
    "   \n",
    "        \n",
    "plot.plot_fit1d(fit_result,x, ax=ax, label='Fit',show_guess=True, \n",
    "                plot_data=True,color='red', print_info= False)\n",
    "    \n",
    "# rclip_fit=fit_result['params_dict']['rclip']\n",
    "# #u_rclip_fit = fit_result['error_dict']['rclip']\n",
    "# print rclip\n",
    "\n",
    "\n",
    "\n",
    "plt.savefig(os.path.join(datapath,'plot_Finesse_vs_N_rclip_fit.png'))\n",
    "plt.show()\n",
    "plt.close()"
   ]
  },
  {
   "cell_type": "code",
   "execution_count": null,
   "metadata": {
    "collapsed": false,
    "scrolled": true
   },
   "outputs": [],
   "source": [
    "# off diamond position 0 RT\n",
    "reload(funcs)\n",
    "dir_L0 =os.path.join(datapath,'20160818/RT_OFFD_POS0_L0')\n",
    "dir_L2= os.path.join(datapath,'20160818/RT_OFFD_POS0_L2')\n",
    "dir_L3 = os.path.join(datapath,'20160819/RT_OFFD_POS0_L3')\n",
    "#I relabeled the data in the dedicated folder (my docs) from V1p129 -> V0 etc. SvD 15-9-2016\n",
    "V0s=[0,1,2]\n",
    "V2s=[0,1,2,3]\n",
    "V3s=[0,1,2,3,4,5]\n",
    "\n",
    "#V0s = np.array([1.129,2.473,3.482])\n",
    "#V2s = np.array([6.083,7.258,8.269,9.246])\n",
    "#V3s = np.array([1.402,2.646,3.781,4.846,5.864,6.890])\n",
    "N0s = np.array([21,22,23])#possibly the N0s should be 21,22,23->not 100%clear. -> leave out?\n",
    "N2s = np.array([13,14,15,16])\n",
    "N3s = np.array([17,18,19,20,21,22])\n",
    "\n",
    "folder,avgs0=funcs.get_avg_array_for_Vs(V0s,1,dir_L0,tag='')\n",
    "folder,avgs2=funcs.get_avg_array_for_Vs(V2s,2,dir_L2,tag='')\n",
    "folder,avgs3=funcs.get_avg_array_for_Vs(V3s,3,dir_L3,tag='')\n",
    "\n",
    "RT_OFFD_POS0_avgs = np.concatenate((avgs0,avgs2,avgs3))\n",
    "RT_OFFD_POS0_Ns = np.append(np.append(N0s,N2s),N3s)\n",
    "\n",
    "\n",
    "\n",
    "\n",
    "ax = funcs.plot_updown_lws(RT_OFFD_POS0_avgs,RT_OFFD_POS0_Ns)\n",
    "ax.set_title(folder)\n",
    "plt.savefig(os.path.join(folder,'plot_lw_vs_L.png'))\n",
    "plt.show()\n",
    "\n",
    "ax = funcs.plot_finesse_vs_length_from_avgs(RT_OFFD_POS0_avgs,RT_OFFD_POS0_Ns)\n",
    "ax.set_title(folder)\n",
    "plt.savefig(os.path.join(folder,'Finesse_vs_L.png'))\n",
    "plt.show()"
   ]
  },
  {
   "cell_type": "code",
   "execution_count": null,
   "metadata": {
    "collapsed": true
   },
   "outputs": [],
   "source": []
  },
  {
   "cell_type": "code",
   "execution_count": null,
   "metadata": {
    "collapsed": true
   },
   "outputs": [],
   "source": []
  },
  {
   "cell_type": "code",
   "execution_count": null,
   "metadata": {
    "collapsed": false,
    "scrolled": true
   },
   "outputs": [],
   "source": [
    "# ON DIAMOND LINEWIDTH< LENGHTS< POS0\n",
    "reload(funcs)\n",
    "dir_L0 = os.path.join(datapath,'20160819/RT_OND_POS0_L0')\n",
    "dir_L1 = os.path.join(datapath,'20160819/RT_OND_POS0_L1')\n",
    "dir_L2 = os.path.join(datapath,'20160819/RT_OND_POS0_L2')\n",
    "\n",
    "\n",
    "V0s=np.arange(0,4,1)\n",
    "V1s=np.arange(0,8,1)\n",
    "V2s=np.arange(0,3,1)\n",
    "print V0s,V1s,V2s\n",
    "\n",
    "\n",
    "#V0s=np.array([2.935,4.088,5.183,6.182])\n",
    "#V1s=np.array([2.139,3.587,4.753,5.836,6.891,7.928,8.909,9.958])\n",
    "#V2s=np.array([6.957,8.738,9.866])\n",
    "\n",
    "N0s = np.array([54,55,56,57])\n",
    "N1s = np.array([45,46,47,48,49,50,51,52])#np.array([44,45,46,47,48,49,50,51])\n",
    "N2s = np.array([52,53,54])#np.array([51,52,53])\n",
    "print N0s,N1s,N2s\n",
    "\n",
    "\n",
    "folder,avgs0=funcs.get_avg_array_for_Vs(V0s,1,dir_L0,tag='')\n",
    "folder,avgs1=funcs.get_avg_array_for_Vs(V1s,1,dir_L1,tag='')\n",
    "folder,avgs2=funcs.get_avg_array_for_Vs(V2s,1,dir_L2,tag='')\n",
    "\n",
    "RT_OND_POS0_avgs = np.concatenate((avgs1,avgs2,avgs0))\n",
    "RT_OND_POS0_Ns = np.concatenate((N1s,N2s,N0s))\n",
    "\n",
    "##beunen begint hier\n",
    "#avgsN52=[(avgs[7]+avgs[8])/2.]\n",
    "#avgsN54=[(avgs[10]+avgs[11])/2.]\n",
    "#avgspos0 = np.append(np.append(np.append(np.append(avgs[0:7],avgsN52,axis=0),[avgs[9]],axis=0),avgsN54,axis=0),avgs[12:],axis=0)\n",
    "#print avgspos0\n",
    "#N52=[(Ns[7]+Ns[8])/2.]\n",
    "#N54=[(Ns[10]+Ns[11])/2.]\n",
    "#Nspos0 = np.append(np.append(np.append(np.append(Ns[0:7],N52),Ns[9]),N54),Ns[12:])\n",
    "#print Nspos0\n",
    "##beunenn stopt hier\n",
    "\n",
    "ax = funcs.plot_updown_lws(RT_OND_POS0_avgs,RT_OND_POS0_Ns)\n",
    "\n",
    "ax.set_title(folder)\n",
    "plt.savefig(os.path.join(folder,'plot_lw_vs_L.png'))\n",
    "plt.show()\n",
    "\n",
    "funcs.plot_finesse_vs_length_from_avgs(RT_OND_POS0_avgs,RT_OND_POS0_Ns)\n"
   ]
  },
  {
   "cell_type": "code",
   "execution_count": null,
   "metadata": {
    "collapsed": false,
    "scrolled": true
   },
   "outputs": [],
   "source": [
    "# ON DIAMOND LINEWIDTH< LENGHTS< POS1 L2\n",
    "reload(funcs)\n",
    "dir_L1 = os.path.join(datapath,'20160822/RT_OND_POS1_L1')\n",
    "dir_L3 = os.path.join(datapath,'20160822/RT_OND_POS1_L3')\n",
    "dir_L4 = os.path.join(datapath,'20160822/RT_OND_POS1_L4')\n",
    "dir_L5 = os.path.join(datapath,'20160822/RT_OND_POS1_L5')\n",
    "\n",
    "V1s=np.arange(0,8,1)\n",
    "V3s=np.arange(0,8,1)\n",
    "V4s=np.arange(0,8,1)\n",
    "V5s=np.arange(0,8,1)\n",
    "\n",
    "#V0s=np.array([1.546,3.019,4.237,5.348,6.404,7.473,8.515,9.551])\n",
    "#V3s=np.array([1.373,2.859,4.062,5.152,6.218,7.224,8.198,9.268])\n",
    "#V4s=np.array([0.951,2.390,3.646,4.783,5.843,6.934,7.975,8.977])\n",
    "#V5s=np.array([1.359,3.383,4.565,5.620,6.695,7.727,8.734,9.832])\n",
    "\n",
    "N1s = np.arange(53,61,1)#55,63#53,61\n",
    "N3s = np.arange(47,55,1)#49,57#46,55\n",
    "N4s = np.arange(44,52,1)\n",
    "N5s = np.arange(39,47,1)\n",
    "\n",
    "folder,avgs1=funcs.get_avg_array_for_Vs(V1s,1,dir_L1,tag='')\n",
    "folder,avgs3=funcs.get_avg_array_for_Vs(V3s,1,dir_L3,tag='')\n",
    "folder,avgs4=funcs.get_avg_array_for_Vs(V4s,1,dir_L4,tag='')\n",
    "folder,avgs5=funcs.get_avg_array_for_Vs(V5s,1,dir_L5,tag='')\n",
    "\n",
    "RT_OND_POS1_avgs=np.concatenate((avgs1,avgs3,avgs4,avgs5))\n",
    "RT_OND_POS1_Ns=np.concatenate((N1s,N3s,N4s,N5s))\n",
    "\n",
    "ax = funcs.plot_updown_lws(RT_OND_POS1_avgs,RT_OND_POS1_Ns)\n",
    "ax.set_title(folder)\n",
    "plt.savefig(os.path.join(folder,'plot_lw_vs_L.png'))\n",
    "plt.show()\n",
    "\n",
    "funcs.plot_finesse_vs_length_from_avgs(RT_OND_POS1_avgs,RT_OND_POS1_Ns)\n",
    "ax.set_title(folder)\n",
    "plt.savefig(os.path.join(folder,'Finesse_vs_L.png'))\n",
    "plt.show()\n",
    "\n",
    "\n",
    "# ax = plot_mean_lws(avgs,Ns, label='mean pos 1')\n",
    "# ax = plot_mean_lws(avgspos0,Nspos0, ax=ax, style ='go',label='mean pos 0')\n",
    "# ax.set_title(datapath)\n",
    "# plt.savefig(os.path.join(datapath,'plot_lw_vs_L_2positions.png'))\n",
    "# plt.show()"
   ]
  },
  {
   "cell_type": "code",
   "execution_count": null,
   "metadata": {
    "collapsed": false
   },
   "outputs": [],
   "source": []
  },
  {
   "cell_type": "code",
   "execution_count": null,
   "metadata": {
    "collapsed": true
   },
   "outputs": [],
   "source": [
    "# ON DIAMOND LINEWIDTH< LENGHTS< POS0\n",
    "#initial analayysis (manual)\n",
    "reload(funcs)\n",
    "linewidths1 = np.array([1.65,1.46, 1.62,1.70,1.67, 1.49,1.24,1.18])\n",
    "linewidths2 = np.array([0.809,0.798,0.799,0.792])\n",
    "linewidths3 = np.array([0.93,1.03,1.19])\n",
    "u_linewidths1 = np.array([0.06,0.04,0.04,0.04,0.04,0.04,0.04,0.04])\n",
    "u_linewidths2 = np.array([0.03,0.033,0.031,0.034])\n",
    "u_linewidths3 = np.array([0.04,0.04,0.04])\n",
    "\n",
    "linewidths=np.append(np.append(linewidths1 ,linewidths2),linewidths3)\n",
    "u_linewidths=np.append(np.append(u_linewidths1 ,u_linewidths2),u_linewidths3)\n"
   ]
  },
  {
   "cell_type": "code",
   "execution_count": null,
   "metadata": {
    "collapsed": false
   },
   "outputs": [],
   "source": [
    "# OFF DIAMOND LINEWIDTH< LENGHTS< \n",
    "\n",
    "linewidths = np.array([1.26,1.17,1.09,1.04,0.97,0.92,0.88,0.83,0.79,0.77])*1.e9\n",
    "u_linewidths = np.array([0.04,0.05,0.05,0.05,0.03,0.04,0.03,0.03,0.04,0.03])*1.e9\n",
    "N = np.array([13,14,15,16,17,18,19,20,21,22])\n",
    "cavity_lengths =  636.6*1.e-9*N/2\n",
    "print linewidths,u_linewidths,cavity_lengths\n",
    "\n"
   ]
  },
  {
   "cell_type": "code",
   "execution_count": null,
   "metadata": {
    "collapsed": false,
    "scrolled": true
   },
   "outputs": [],
   "source": [
    "# V = 1.129\n",
    "#8 um at  4.611, \n",
    "#so \n",
    "#removed 0.8+-0.03 @ N=22\n",
    "#23,24,0.76,0.76,0.04,0.03,\n",
    "fig,ax = plt.subplots()\n",
    "ax.errorbar(cavity_lengths*1.e6,linewidths*1.e-9,yerr=u_linewidths*1.e-9,fmt='o')\n",
    "ax.set_xlabel('cavity length (um)')\n",
    "ax.set_ylabel('linewidth (GHz)')\n"
   ]
  },
  {
   "cell_type": "code",
   "execution_count": null,
   "metadata": {
    "collapsed": false,
    "scrolled": true
   },
   "outputs": [],
   "source": [
    "reload(common)\n",
    "g_a = 0.1e9\n",
    "g_b = (c)/(2*40000)\n",
    "print g_b\n",
    "print cavity_lengths,linewidths\n",
    "p0, fitfunc, fitfunc_str = common.fit_inverse(g_a, g_b)\n",
    "fit_result = fit.fit1d(cavity_lengths,linewidths, None, p0=p0, fitfunc=fitfunc, do_print=True, ret=True, fixed=[])\n",
    "print p0\n",
    "fig,ax = plt.subplots(figsize=(8,4))\n",
    "ax.plot(cavity_lengths,linewidths)\n",
    "plot.plot_fit1d(fit_result, np.linspace(min(cavity_lengths),max(cavity_lengths),10*len(cavity_lengths)),ax=ax, label='Fit',show_guess=True, plot_data=True,color='red', data_linestyle = 'o', print_info= True)\n",
    "b_fit=fit_result['params_dict']['b']\n",
    "Finesse = c/(2*b_fit)\n",
    "ax.set_title(str(Finesse))\n",
    "# ax.text(0.1,0.1,'the finesse is '+str(Finesse))\n",
    "print Finesse"
   ]
  },
  {
   "cell_type": "code",
   "execution_count": null,
   "metadata": {
    "collapsed": true
   },
   "outputs": [],
   "source": [
    "\n",
    "\n"
   ]
  },
  {
   "cell_type": "code",
   "execution_count": null,
   "metadata": {
    "collapsed": false,
    "scrolled": true
   },
   "outputs": [],
   "source": [
    "indir = 'D:\\measuring\\data/20160914/HR_ANN_PROC_L0/V-1'\n",
    "filename = 'LWS006'\n",
    "EOM_freq= 7.\n",
    "data_col=2\n",
    "reload(oscillo_ana)\n",
    "\n",
    "oa_all = oscillo_ana.oscilloscope_analysis(indir=indir,filename=filename)\n",
    "x,y=oa_all.get_data(use_timetrace=False,x_min=None,x_max=None,data_col=data_col)\n",
    "oa_all.get_data(use_timetrace=False,x_min=None,x_max=100000,data_col=data_col)\n",
    "oa_all.plot_data(plot_mod=False,figsize=(16,4),fmt='o')\n",
    "print len(x)\n",
    "\n",
    "test=True\n",
    "x0 =2100\n",
    "x_odd_offset =0\n",
    "\n",
    "ms_per_div = 10 \n",
    "mod_frequency = 50 #Hz\n",
    "\n",
    "windowsize=200# print len(x)\n",
    "g_gamma = 6\n",
    "g_dx=26\n",
    "g_A=1.4\n",
    "max_chisq=0.01#0.003#0.007#0.004#0.001#0.04\n",
    "\n",
    "nr_lws=20.*mod_frequency*ms_per_div/1000.\n",
    "\n",
    "\n",
    "\n",
    "oscillo_ana.fit_all_resonances_in_sweep(nr_lws,x0,windowsize,x_odd_offset,g_gamma,g_dx,g_A,max_chisq,test=test,total_length=125000,data_col=data_col)\n",
    "\n"
   ]
  },
  {
   "cell_type": "code",
   "execution_count": null,
   "metadata": {
    "collapsed": false,
    "scrolled": true
   },
   "outputs": [],
   "source": [
    "#\n"
   ]
  },
  {
   "cell_type": "code",
   "execution_count": null,
   "metadata": {
    "collapsed": true
   },
   "outputs": [],
   "source": []
  },
  {
   "cell_type": "code",
   "execution_count": null,
   "metadata": {
    "collapsed": false,
    "scrolled": true
   },
   "outputs": [],
   "source": [
    "reload(oscillo_ana)\n",
    "indir='D:\\measuring\\data/20160825/OND_POS2L8'#'D:\\measuring\\data/20160430\\OFF_diamond'\n",
    "# filenames=['V0/NICE_LWS00168','V1/NICE_LWS00167','V-1/NICE_LWS00169',\\\n",
    "#           'V3/NICE_LWS00163','V4/NICE_LWS00164','V5/NICE_LWS00165',\\\n",
    "#           'V6/NICE_LWS00166']\n",
    "indir = 'D:\\measuring\\data/20160830/135900'\n",
    "filename = 'LT_LWS003'\n",
    "filenames=[filename]#['V0/NICE_LWS00168','V1/NICE_LWS00167','V-1/NICE_LWS00169']\n",
    "EOM_freq=6. # in GHz\n",
    "# x0s = [200,170,850,650,1100,750,400]\n",
    "# dx0s = [0,0,0,0,0,0,0,0,0]\n",
    "\n",
    "x0s = [5000,700,850]\n",
    "dx0s = [0,0,0]\n",
    "\n",
    "for j,filename in enumerate(filenames):\n",
    "    oa = oscillo_ana.oscilloscope_analysis(indir=indir,filename=filename)\n",
    "    oa.get_data(use_timetrace=False,x_min=0,x_max=10000,data_col=3)#1400)\n",
    "    oa.plot_data()#plot_mod=True)\n",
    "\n",
    "    # lws_old=lws[:-1]\n",
    "    lws = np.array([])#lws_old## \n",
    "    As = np.array([])#lws_old## \n",
    "    gammas = np.array([])#lws_old## \n",
    "    nr_lws=10\n",
    "\n",
    "    x0 =x0s[j]\n",
    "    windowsize=5000# print len(x)\n",
    "    # xi = int(len(x)/nr_lws)\n",
    "    # print xi \n",
    "\n",
    "    x,y = oa.get_data(use_timetrace=False,data_col=3)\n",
    "    # lw,u_lw = oa.plot_and_fit_with_EOM(EOM_freq=EOM_freq)\n",
    "    # print lw\n",
    "\n",
    "    for i in np.arange(nr_lws):\n",
    "        xi = int(x0+(len(x)*i/nr_lws))\n",
    "\n",
    "        if i%2==1:\n",
    "            xi=xi+dx0s[j]   \n",
    "        if (xi-windowsize)>0:\n",
    "            x_min = xi-windowsize\n",
    "        else: \n",
    "            x_min = 0\n",
    "        if (xi+windowsize)<len(x)-1:\n",
    "            x_max = xi+windowsize\n",
    "        else:\n",
    "            x_max =-1\n",
    "        oa.get_data(use_timetrace=False,x_min = x_min, x_max=x_max,data_col=3)\n",
    "    #     oa.plot_data()\n",
    "        print i\n",
    "        lw,u_lw,A1,u_A1,gamma1,u_gamma1 = \\\n",
    "            oa.plot_and_fit_with_EOM(EOM_freq=EOM_freq,\n",
    "                g_gamma1=500, g_dx=1000,g_A2=10000,g_A3=10000,show_fit=True,print_fit=False)\n",
    "        lws = np.append(lws,lw)\n",
    "        As = np.append(As,A1)\n",
    "        gammas = np.append(gammas,gamma1)\n",
    "        if i>1:\n",
    "            break\n",
    "\n",
    "    print lws\n",
    "    print len(lws)\n",
    "    print np.average(lws)\n",
    "    print np.std(lws)\n",
    "\n",
    "    f = open(os.path.join(indir,filename+'_fitted_lws.txt'), 'w')\n",
    "    np.savetxt(f,lws)\n",
    "    f.close()\n",
    "    f = open(os.path.join(indir,filename+'_fitted_As.txt'), 'w')\n",
    "    np.savetxt(f,As)\n",
    "    f.close()\n",
    "    f = open(os.path.join(indir,filename+'_fitted_gammas.txt'), 'w')\n",
    "    np.savetxt(f,gammas)\n",
    "    f.close()\n",
    "\n",
    "# plt.show()\n",
    "\n",
    "# x,y = oscillo_ana.plot_data(indir, filename,use_timetrace=False,x_min=x_min,x_max=x_max)\n",
    "\n",
    "# oscillo_ana.plot_and_fit_with_EOM(indir, filename,EOM_frq,g_a1, g_A1, g_x01, g_gamma1, g_dx, g_A2,g_A3,fixed=fixed,use_timetrace=False)"
   ]
  },
  {
   "cell_type": "code",
   "execution_count": null,
   "metadata": {
    "collapsed": false,
    "scrolled": true
   },
   "outputs": [],
   "source": [
    "\n",
    "# print len(lws)\n",
    "# print lws\n",
    "# lws_old=lws[120:]\n",
    "# print len(lws_old)\n",
    "# print lws_old\n",
    "# #print lws_old\n",
    "# f = open(os.path.join(indir,'fitted_lws.txt'), 'w')\n",
    "# np.savetxt(f,lws_old)\n",
    "# f.close()"
   ]
  },
  {
   "cell_type": "code",
   "execution_count": null,
   "metadata": {
    "collapsed": true
   },
   "outputs": [],
   "source": []
  },
  {
   "cell_type": "code",
   "execution_count": null,
   "metadata": {
    "collapsed": false,
    "scrolled": true
   },
   "outputs": [],
   "source": [
    "# indir='D:\\measuring\\data/20160819/OND_L2_V9p866'#\n",
    "lws_from_file={}\n",
    "for filename in filenames:\n",
    "    print filename\n",
    "\n",
    "    f = open(os.path.join(indir,filename+'_fitted_lws.txt'), 'r')\n",
    "    lws_from_file[filename] = np.loadtxt(f)\n",
    "    f.close()\n",
    "    \n",
    "    print len(lws_from_file[filename])\n",
    "\n",
    "    os.listdir(indir)\n",
    "    # filename='NICE_LWS00058'\n",
    "    reload(oscillo_ana)\n",
    "    oa = oscillo_ana.oscilloscope_analysis(indir=indir,filename=filename)\n",
    "    oa.get_data(use_timetrace=False,x_max=2000)#5000\n",
    "    oa.plot_data(plot_mod=True)\n",
    "    #oa.get_data(use_timetrace=False,x_min=-2000)\n",
    "    #oa.plot_data(plot_mod=True)"
   ]
  },
  {
   "cell_type": "code",
   "execution_count": null,
   "metadata": {
    "collapsed": false,
    "scrolled": true
   },
   "outputs": [],
   "source": [
    "first_lw_directions = ['u','u','u','u','u','u','d']"
   ]
  },
  {
   "cell_type": "code",
   "execution_count": null,
   "metadata": {
    "collapsed": false,
    "scrolled": true
   },
   "outputs": [],
   "source": [
    "#IF SINGLE FILE EXECUTE THIS CELL:\n",
    "for i,filename in enumerate(filenames):\n",
    "    first_lw_direction = first_lw_directions[i]\n",
    "\n",
    "    updown_mean_lws,lws_up,lws_down =funcs.get_up_down_lws(lws_from_file[filename],first_lw_direction)\n",
    "    analysis=funcs.add_to_analysis_dict({},lws_up,lws_down,updown_mean_lws)\n",
    "    funcs.save_to_json_file(indir,filename+'_analysis',analysis)\n",
    "\n",
    "    print 'results of ',indir,filename\n",
    "    print_results(analysis)\n"
   ]
  },
  {
   "cell_type": "code",
   "execution_count": null,
   "metadata": {
    "collapsed": true
   },
   "outputs": [],
   "source": [
    "#IF THREE FILES EXECUTE THIS AND THE FOLLWING CELLS:\n",
    "\n",
    "file1_first_lw_direction = 'up'\n",
    "file2_first_lw_direction = 'up'\n",
    "file3_first_lw_direction = 'down'\n",
    "removedfromfile1=0\n",
    "removedfromfile2=0\n"
   ]
  },
  {
   "cell_type": "code",
   "execution_count": null,
   "metadata": {
    "collapsed": false
   },
   "outputs": [],
   "source": [
    "fitted_lws_file1=lws_from_file[0:48-removedfromfile1]\n",
    "fitted_lws_file2=lws_from_file[48-removedfromfile1:96-removedfromfile1-removedfromfile2]\n",
    "fitted_lws_file3=lws_from_file[96-removedfromfile1-removedfromfile2:144]\n",
    "\n",
    "print len(fitted_lws_file1),len(fitted_lws_file2),len(fitted_lws_file3)\n",
    "#print fitted_lws_file1\n",
    "#print fitted_lws_file2 \n",
    "#print fitted_lws_file3"
   ]
  },
  {
   "cell_type": "code",
   "execution_count": null,
   "metadata": {
    "collapsed": false,
    "scrolled": true
   },
   "outputs": [],
   "source": [
    "funcs.save_to_txt_file(indir,'fitted_lws_file1',fitted_lws_file1)\n",
    "funcs.save_to_txt_file(indir,'fitted_lws_file2',fitted_lws_file2)\n",
    "funcs.save_to_txt_file(indir,'fitted_lws_file3',fitted_lws_file3)\n",
    "\n",
    "updown_mean_lws_file1,lws_up_file1,lws_down_file1 =funcs.get_up_down_lws(fitted_lws_file1,file1_first_lw_direction)\n",
    "updown_mean_lws_file2,lws_up_file2,lws_down_file2 =funcs.get_up_down_lws(fitted_lws_file2,file2_first_lw_direction)\n",
    "updown_mean_lws_file3,lws_up_file3,lws_down_file3 =funcs.get_up_down_lws(fitted_lws_file3,file3_first_lw_direction)\n",
    "\n",
    "updown_mean_lws = np.append(np.append(updown_mean_lws_file1,updown_mean_lws_file2),updown_mean_lws_file3)\n",
    "lws_up = np.append(np.append(lws_up_file1,lws_up_file2),lws_up_file3)\n",
    "lws_down = np.append(np.append(lws_down_file1,lws_down_file2),lws_down_file3)\n",
    "\n",
    "analysis=funcs.add_to_analysis_dict({},lws_up,lws_down,updown_mean_lws)\n",
    "analysis_file1=funcs.add_to_analysis_dict({},lws_up_file1,lws_down_file1,updown_mean_lws_file1)\n",
    "analysis_file2=funcs.add_to_analysis_dict({},lws_up_file2,lws_down_file2,updown_mean_lws_file2)\n",
    "analysis_file3=funcs.add_to_analysis_dict({},lws_up_file3,lws_down_file3,updown_mean_lws_file3)\n",
    "funcs.save_to_json_file(indir,'analysis',analysis)\n",
    "funcs.save_to_json_file(indir,'analysis_file1',analysis_file1)\n",
    "funcs.save_to_json_file(indir,'analysis_file2',analysis_file2)\n",
    "funcs.save_to_json_file(indir,'analysis_file3',analysis_file3)\n",
    "\n",
    "print 'results of ',indir\n",
    "print_results(analysis)\n",
    "print_results(analysis_file1)\n",
    "print_results(analysis_file2)\n",
    "print_results(analysis_file3)"
   ]
  },
  {
   "cell_type": "code",
   "execution_count": null,
   "metadata": {
    "collapsed": false
   },
   "outputs": [],
   "source": [
    "\n"
   ]
  },
  {
   "cell_type": "code",
   "execution_count": null,
   "metadata": {
    "collapsed": false
   },
   "outputs": [],
   "source": [
    "import matplotlib.pyplot as plt\n",
    "\n",
    "fig,ax=plt.subplots()\n",
    "\n",
    "ax.plot(lws)\n",
    "ax.set_xlabel('sweep nr')\n",
    "ax.set_ylabel('linewidth')"
   ]
  },
  {
   "cell_type": "code",
   "execution_count": null,
   "metadata": {
    "collapsed": true
   },
   "outputs": [],
   "source": [
    "f = open(os.path.join(indir,'fitted_lws_file0010.txt'), 'w')\n",
    "np.savetxt(f,lws)\n",
    "f.close()"
   ]
  },
  {
   "cell_type": "code",
   "execution_count": null,
   "metadata": {
    "collapsed": false
   },
   "outputs": [],
   "source": [
    "copy_lws_from_file=lws_from_file\n",
    "print co"
   ]
  },
  {
   "cell_type": "code",
   "execution_count": null,
   "metadata": {
    "collapsed": true
   },
   "outputs": [],
   "source": [
    "f = open(os.path.join(indir,'fitted_lws.txt'), 'w')\n",
    "np.savetxt(f,new_lws_from_file)\n",
    "f.close()"
   ]
  },
  {
   "cell_type": "code",
   "execution_count": null,
   "metadata": {
    "collapsed": true
   },
   "outputs": [],
   "source": []
  }
 ],
 "metadata": {
  "kernelspec": {
   "display_name": "Python 2",
   "language": "python",
   "name": "python2"
  },
  "language_info": {
   "codemirror_mode": {
    "name": "ipython",
    "version": 2
   },
   "file_extension": ".py",
   "mimetype": "text/x-python",
   "name": "python",
   "nbconvert_exporter": "python",
   "pygments_lexer": "ipython2",
   "version": "2.7.11"
  }
 },
 "nbformat": 4,
 "nbformat_minor": 0
}
