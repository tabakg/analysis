{
<<<<<<< HEAD
 "cells": [
  {
   "cell_type": "code",
   "execution_count": 1,
   "metadata": {
    "collapsed": false
   },
   "outputs": [
    {
     "name": "stdout",
     "output_type": "stream",
     "text": [
      "reloaded\n",
      "reloaded\n"
     ]
    }
   ],
   "source": [
    "%matplotlib inline\n",
    "import os\n",
    "import numpy as np\n",
    "import json\n",
    "filepath='C:/measuring/'#only for local \n",
    "\n",
    "datapath = 'W:\\Diamond\\Projects\\Cavities\\Cavity characterisation paper\\data/data_for_cav_char_paper/'\n",
    "import scipy.signal\n",
    "c = 2.997e8\n",
    "os.chdir(filepath)\n",
    "from analysis.lib.fitting import fit, common; reload(common)\n",
    "from analysis.lib.tools import plot\n",
    "import matplotlib.pyplot as plt\n"
   ]
  },
  {
   "cell_type": "code",
   "execution_count": 2,
   "metadata": {
    "collapsed": false,
    "scrolled": true
   },
   "outputs": [
    {
     "name": "stdout",
     "output_type": "stream",
     "text": [
      "reloaded\n"
     ]
    }
   ],
   "source": [
    "import analysis.scripts.cavity.oscilloscope_analysis_linewidth as oscillo_ana\n",
    "import analysis.scripts.cavity.functions_for_processing_linewidth_data as funcs"
   ]
  },
  {
   "cell_type": "code",
   "execution_count": 3,
   "metadata": {
    "collapsed": false
   },
   "outputs": [
    {
     "name": "stdout",
     "output_type": "stream",
     "text": [
      "20 fitted; average linewidth = 1.92 +- 0.22\n"
     ]
    }
   ],
   "source": [
    "LWs_LT = [2.04,2.05,1.83,1.96,2.01,2.0,1.78,1.8,1.96,1.61,1.86,1.36,1.64,2.27,2.22,2.26,1.87,2.05,1.99,1.94]\n",
    "nr_lws = len(LWs_LT)\n",
    "avg_lw = np.average(LWs_LT)\n",
    "u_avg_lw = np.std(LWs_LT)\n",
    "\n",
    "print '%d fitted; average linewidth = %.2f +- %.2f'%(nr_lws,avg_lw,u_avg_lw)"
   ]
  },
  {
   "cell_type": "code",
   "execution_count": 4,
   "metadata": {
    "collapsed": true
   },
   "outputs": [],
   "source": [
    "lws = np.array([])"
   ]
  },
  {
   "cell_type": "code",
   "execution_count": 6,
   "metadata": {
    "collapsed": false
   },
   "outputs": [
    {
     "name": "stdout",
     "output_type": "stream",
     "text": [
      "reloaded\n"
     ]
    },
    {
     "ename": "IOError",
     "evalue": "File D:\\measuring/data/20160907/145700_reflection_scope_trace\\REFL000.csv does not exist",
     "output_type": "error",
     "traceback": [
      "\u001b[1;31m---------------------------------------------------------------------------\u001b[0m",
      "\u001b[1;31mIOError\u001b[0m                                   Traceback (most recent call last)",
      "\u001b[1;32m<ipython-input-6-c3815e7eed61>\u001b[0m in \u001b[0;36m<module>\u001b[1;34m()\u001b[0m\n\u001b[0;32m      5\u001b[0m \u001b[1;33m\u001b[0m\u001b[0m\n\u001b[0;32m      6\u001b[0m \u001b[0moa_all\u001b[0m \u001b[1;33m=\u001b[0m \u001b[0moscillo_ana\u001b[0m\u001b[1;33m.\u001b[0m\u001b[0moscilloscope_analysis\u001b[0m\u001b[1;33m(\u001b[0m\u001b[0mindir\u001b[0m\u001b[1;33m=\u001b[0m\u001b[0mindir\u001b[0m\u001b[1;33m,\u001b[0m\u001b[0mfilename\u001b[0m\u001b[1;33m=\u001b[0m\u001b[0mfilename\u001b[0m\u001b[1;33m)\u001b[0m\u001b[1;33m\u001b[0m\u001b[0m\n\u001b[1;32m----> 7\u001b[1;33m \u001b[0moa_all\u001b[0m\u001b[1;33m.\u001b[0m\u001b[0mget_data\u001b[0m\u001b[1;33m(\u001b[0m\u001b[0muse_timetrace\u001b[0m\u001b[1;33m=\u001b[0m\u001b[0mFalse\u001b[0m\u001b[1;33m,\u001b[0m\u001b[0mx_min\u001b[0m\u001b[1;33m=\u001b[0m\u001b[0mNone\u001b[0m\u001b[1;33m,\u001b[0m\u001b[0mx_max\u001b[0m\u001b[1;33m=\u001b[0m\u001b[0mNone\u001b[0m\u001b[1;33m,\u001b[0m\u001b[0mdata_col\u001b[0m\u001b[1;33m=\u001b[0m\u001b[1;36m3\u001b[0m\u001b[1;33m)\u001b[0m\u001b[1;33m\u001b[0m\u001b[0m\n\u001b[0m\u001b[0;32m      8\u001b[0m \u001b[0moa_all\u001b[0m\u001b[1;33m.\u001b[0m\u001b[0mplot_data\u001b[0m\u001b[1;33m(\u001b[0m\u001b[0mplot_mod\u001b[0m\u001b[1;33m=\u001b[0m\u001b[0mTrue\u001b[0m\u001b[1;33m,\u001b[0m\u001b[0mfigsize\u001b[0m\u001b[1;33m=\u001b[0m\u001b[1;33m(\u001b[0m\u001b[1;36m16\u001b[0m\u001b[1;33m,\u001b[0m\u001b[1;36m4\u001b[0m\u001b[1;33m)\u001b[0m\u001b[1;33m,\u001b[0m\u001b[0mfmt\u001b[0m\u001b[1;33m=\u001b[0m\u001b[1;34m'o'\u001b[0m\u001b[1;33m)\u001b[0m\u001b[1;33m\u001b[0m\u001b[0m\n\u001b[0;32m      9\u001b[0m \u001b[1;33m\u001b[0m\u001b[0m\n",
      "\u001b[1;32mC:\\measuring\\analysis\\scripts\\cavity\\oscilloscope_analysis_linewidth.pyc\u001b[0m in \u001b[0;36mget_data\u001b[1;34m(self, **kw)\u001b[0m\n\u001b[0;32m     49\u001b[0m         \u001b[1;31m# data = pd.read_csv(os.path.join(indir,filename+'.csv'), skiprows=16, names = [\"X\",\"None\",\"Y\"],usecols=[0,1,2]) #creating a dataframe in pandas and importing the data\u001b[0m\u001b[1;33m\u001b[0m\u001b[1;33m\u001b[0m\u001b[0m\n\u001b[0;32m     50\u001b[0m         \u001b[1;32mif\u001b[0m \u001b[0mnr_channels\u001b[0m \u001b[1;33m==\u001b[0m \u001b[1;36m3\u001b[0m\u001b[1;33m:\u001b[0m\u001b[1;33m\u001b[0m\u001b[0m\n\u001b[1;32m---> 51\u001b[1;33m             \u001b[0mdata\u001b[0m \u001b[1;33m=\u001b[0m \u001b[0mpd\u001b[0m\u001b[1;33m.\u001b[0m\u001b[0mread_csv\u001b[0m\u001b[1;33m(\u001b[0m\u001b[0mos\u001b[0m\u001b[1;33m.\u001b[0m\u001b[0mpath\u001b[0m\u001b[1;33m.\u001b[0m\u001b[0mjoin\u001b[0m\u001b[1;33m(\u001b[0m\u001b[0mself\u001b[0m\u001b[1;33m.\u001b[0m\u001b[0mindir\u001b[0m\u001b[1;33m,\u001b[0m\u001b[0mself\u001b[0m\u001b[1;33m.\u001b[0m\u001b[0mfilename\u001b[0m\u001b[1;33m+\u001b[0m\u001b[1;34m'.csv'\u001b[0m\u001b[1;33m)\u001b[0m\u001b[1;33m,\u001b[0m \u001b[0mskiprows\u001b[0m\u001b[1;33m=\u001b[0m\u001b[1;36m16\u001b[0m\u001b[1;33m,\u001b[0m \u001b[0mnames\u001b[0m \u001b[1;33m=\u001b[0m \u001b[1;33m[\u001b[0m\u001b[1;34m\"None\"\u001b[0m\u001b[1;33m,\u001b[0m\u001b[1;34m\"mod\"\u001b[0m\u001b[1;33m,\u001b[0m\u001b[1;34m\"2\"\u001b[0m\u001b[1;33m,\u001b[0m\u001b[1;34m\"3\"\u001b[0m\u001b[1;33m]\u001b[0m\u001b[1;33m,\u001b[0m\u001b[0musecols\u001b[0m\u001b[1;33m=\u001b[0m\u001b[1;33m[\u001b[0m\u001b[1;36m0\u001b[0m\u001b[1;33m,\u001b[0m\u001b[1;36m1\u001b[0m\u001b[1;33m,\u001b[0m\u001b[1;36m2\u001b[0m\u001b[1;33m,\u001b[0m\u001b[1;36m3\u001b[0m\u001b[1;33m]\u001b[0m\u001b[1;33m)\u001b[0m \u001b[1;31m#creating a dataframe in pandas and importing the data\u001b[0m\u001b[1;33m\u001b[0m\u001b[0m\n\u001b[0m\u001b[0;32m     52\u001b[0m         \u001b[1;32melif\u001b[0m \u001b[0mnr_channels\u001b[0m \u001b[1;33m==\u001b[0m \u001b[1;36m4\u001b[0m\u001b[1;33m:\u001b[0m\u001b[1;33m\u001b[0m\u001b[0m\n\u001b[0;32m     53\u001b[0m             \u001b[0mdata\u001b[0m \u001b[1;33m=\u001b[0m \u001b[0mpd\u001b[0m\u001b[1;33m.\u001b[0m\u001b[0mread_csv\u001b[0m\u001b[1;33m(\u001b[0m\u001b[0mos\u001b[0m\u001b[1;33m.\u001b[0m\u001b[0mpath\u001b[0m\u001b[1;33m.\u001b[0m\u001b[0mjoin\u001b[0m\u001b[1;33m(\u001b[0m\u001b[0mself\u001b[0m\u001b[1;33m.\u001b[0m\u001b[0mindir\u001b[0m\u001b[1;33m,\u001b[0m\u001b[0mself\u001b[0m\u001b[1;33m.\u001b[0m\u001b[0mfilename\u001b[0m\u001b[1;33m+\u001b[0m\u001b[1;34m'.csv'\u001b[0m\u001b[1;33m)\u001b[0m\u001b[1;33m,\u001b[0m \u001b[0mskiprows\u001b[0m\u001b[1;33m=\u001b[0m\u001b[1;36m16\u001b[0m\u001b[1;33m,\u001b[0m \u001b[0mnames\u001b[0m \u001b[1;33m=\u001b[0m \u001b[1;33m[\u001b[0m\u001b[1;34m\"None\"\u001b[0m\u001b[1;33m,\u001b[0m\u001b[1;34m\"mod\"\u001b[0m\u001b[1;33m,\u001b[0m\u001b[1;34m\"2\"\u001b[0m\u001b[1;33m,\u001b[0m\u001b[1;34m\"3\"\u001b[0m\u001b[1;33m,\u001b[0m\u001b[1;34m\"4\"\u001b[0m\u001b[1;33m]\u001b[0m\u001b[1;33m,\u001b[0m\u001b[0musecols\u001b[0m\u001b[1;33m=\u001b[0m\u001b[1;33m[\u001b[0m\u001b[1;36m0\u001b[0m\u001b[1;33m,\u001b[0m\u001b[1;36m1\u001b[0m\u001b[1;33m,\u001b[0m\u001b[1;36m2\u001b[0m\u001b[1;33m,\u001b[0m\u001b[1;36m3\u001b[0m\u001b[1;33m,\u001b[0m\u001b[1;36m4\u001b[0m\u001b[1;33m]\u001b[0m\u001b[1;33m)\u001b[0m \u001b[1;31m#creating a dataframe in pandas and importing the data\u001b[0m\u001b[1;33m\u001b[0m\u001b[0m\n",
      "\u001b[1;32mC:\\Users\\jorik\\AppData\\Local\\Enthought\\Canopy\\User\\lib\\site-packages\\pandas\\io\\parsers.pyc\u001b[0m in \u001b[0;36mparser_f\u001b[1;34m(filepath_or_buffer, sep, delimiter, header, names, index_col, usecols, squeeze, prefix, mangle_dupe_cols, dtype, engine, converters, true_values, false_values, skipinitialspace, skiprows, skipfooter, nrows, na_values, keep_default_na, na_filter, verbose, skip_blank_lines, parse_dates, infer_datetime_format, keep_date_col, date_parser, dayfirst, iterator, chunksize, compression, thousands, decimal, lineterminator, quotechar, quoting, escapechar, comment, encoding, dialect, tupleize_cols, error_bad_lines, warn_bad_lines, skip_footer, doublequote, delim_whitespace, as_recarray, compact_ints, use_unsigned, low_memory, buffer_lines, memory_map, float_precision)\u001b[0m\n\u001b[0;32m    527\u001b[0m                     skip_blank_lines=skip_blank_lines)\n\u001b[0;32m    528\u001b[0m \u001b[1;33m\u001b[0m\u001b[0m\n\u001b[1;32m--> 529\u001b[1;33m         \u001b[1;32mreturn\u001b[0m \u001b[0m_read\u001b[0m\u001b[1;33m(\u001b[0m\u001b[0mfilepath_or_buffer\u001b[0m\u001b[1;33m,\u001b[0m \u001b[0mkwds\u001b[0m\u001b[1;33m)\u001b[0m\u001b[1;33m\u001b[0m\u001b[0m\n\u001b[0m\u001b[0;32m    530\u001b[0m \u001b[1;33m\u001b[0m\u001b[0m\n\u001b[0;32m    531\u001b[0m     \u001b[0mparser_f\u001b[0m\u001b[1;33m.\u001b[0m\u001b[0m__name__\u001b[0m \u001b[1;33m=\u001b[0m \u001b[0mname\u001b[0m\u001b[1;33m\u001b[0m\u001b[0m\n",
      "\u001b[1;32mC:\\Users\\jorik\\AppData\\Local\\Enthought\\Canopy\\User\\lib\\site-packages\\pandas\\io\\parsers.pyc\u001b[0m in \u001b[0;36m_read\u001b[1;34m(filepath_or_buffer, kwds)\u001b[0m\n\u001b[0;32m    293\u001b[0m \u001b[1;33m\u001b[0m\u001b[0m\n\u001b[0;32m    294\u001b[0m     \u001b[1;31m# Create the parser.\u001b[0m\u001b[1;33m\u001b[0m\u001b[1;33m\u001b[0m\u001b[0m\n\u001b[1;32m--> 295\u001b[1;33m     \u001b[0mparser\u001b[0m \u001b[1;33m=\u001b[0m \u001b[0mTextFileReader\u001b[0m\u001b[1;33m(\u001b[0m\u001b[0mfilepath_or_buffer\u001b[0m\u001b[1;33m,\u001b[0m \u001b[1;33m**\u001b[0m\u001b[0mkwds\u001b[0m\u001b[1;33m)\u001b[0m\u001b[1;33m\u001b[0m\u001b[0m\n\u001b[0m\u001b[0;32m    296\u001b[0m \u001b[1;33m\u001b[0m\u001b[0m\n\u001b[0;32m    297\u001b[0m     \u001b[1;32mif\u001b[0m \u001b[1;33m(\u001b[0m\u001b[0mnrows\u001b[0m \u001b[1;32mis\u001b[0m \u001b[1;32mnot\u001b[0m \u001b[0mNone\u001b[0m\u001b[1;33m)\u001b[0m \u001b[1;32mand\u001b[0m \u001b[1;33m(\u001b[0m\u001b[0mchunksize\u001b[0m \u001b[1;32mis\u001b[0m \u001b[1;32mnot\u001b[0m \u001b[0mNone\u001b[0m\u001b[1;33m)\u001b[0m\u001b[1;33m:\u001b[0m\u001b[1;33m\u001b[0m\u001b[0m\n",
      "\u001b[1;32mC:\\Users\\jorik\\AppData\\Local\\Enthought\\Canopy\\User\\lib\\site-packages\\pandas\\io\\parsers.pyc\u001b[0m in \u001b[0;36m__init__\u001b[1;34m(self, f, engine, **kwds)\u001b[0m\n\u001b[0;32m    610\u001b[0m             \u001b[0mself\u001b[0m\u001b[1;33m.\u001b[0m\u001b[0moptions\u001b[0m\u001b[1;33m[\u001b[0m\u001b[1;34m'has_index_names'\u001b[0m\u001b[1;33m]\u001b[0m \u001b[1;33m=\u001b[0m \u001b[0mkwds\u001b[0m\u001b[1;33m[\u001b[0m\u001b[1;34m'has_index_names'\u001b[0m\u001b[1;33m]\u001b[0m\u001b[1;33m\u001b[0m\u001b[0m\n\u001b[0;32m    611\u001b[0m \u001b[1;33m\u001b[0m\u001b[0m\n\u001b[1;32m--> 612\u001b[1;33m         \u001b[0mself\u001b[0m\u001b[1;33m.\u001b[0m\u001b[0m_make_engine\u001b[0m\u001b[1;33m(\u001b[0m\u001b[0mself\u001b[0m\u001b[1;33m.\u001b[0m\u001b[0mengine\u001b[0m\u001b[1;33m)\u001b[0m\u001b[1;33m\u001b[0m\u001b[0m\n\u001b[0m\u001b[0;32m    613\u001b[0m \u001b[1;33m\u001b[0m\u001b[0m\n\u001b[0;32m    614\u001b[0m     \u001b[1;32mdef\u001b[0m \u001b[0m_get_options_with_defaults\u001b[0m\u001b[1;33m(\u001b[0m\u001b[0mself\u001b[0m\u001b[1;33m,\u001b[0m \u001b[0mengine\u001b[0m\u001b[1;33m)\u001b[0m\u001b[1;33m:\u001b[0m\u001b[1;33m\u001b[0m\u001b[0m\n",
      "\u001b[1;32mC:\\Users\\jorik\\AppData\\Local\\Enthought\\Canopy\\User\\lib\\site-packages\\pandas\\io\\parsers.pyc\u001b[0m in \u001b[0;36m_make_engine\u001b[1;34m(self, engine)\u001b[0m\n\u001b[0;32m    745\u001b[0m     \u001b[1;32mdef\u001b[0m \u001b[0m_make_engine\u001b[0m\u001b[1;33m(\u001b[0m\u001b[0mself\u001b[0m\u001b[1;33m,\u001b[0m \u001b[0mengine\u001b[0m\u001b[1;33m=\u001b[0m\u001b[1;34m'c'\u001b[0m\u001b[1;33m)\u001b[0m\u001b[1;33m:\u001b[0m\u001b[1;33m\u001b[0m\u001b[0m\n\u001b[0;32m    746\u001b[0m         \u001b[1;32mif\u001b[0m \u001b[0mengine\u001b[0m \u001b[1;33m==\u001b[0m \u001b[1;34m'c'\u001b[0m\u001b[1;33m:\u001b[0m\u001b[1;33m\u001b[0m\u001b[0m\n\u001b[1;32m--> 747\u001b[1;33m             \u001b[0mself\u001b[0m\u001b[1;33m.\u001b[0m\u001b[0m_engine\u001b[0m \u001b[1;33m=\u001b[0m \u001b[0mCParserWrapper\u001b[0m\u001b[1;33m(\u001b[0m\u001b[0mself\u001b[0m\u001b[1;33m.\u001b[0m\u001b[0mf\u001b[0m\u001b[1;33m,\u001b[0m \u001b[1;33m**\u001b[0m\u001b[0mself\u001b[0m\u001b[1;33m.\u001b[0m\u001b[0moptions\u001b[0m\u001b[1;33m)\u001b[0m\u001b[1;33m\u001b[0m\u001b[0m\n\u001b[0m\u001b[0;32m    748\u001b[0m         \u001b[1;32melse\u001b[0m\u001b[1;33m:\u001b[0m\u001b[1;33m\u001b[0m\u001b[0m\n\u001b[0;32m    749\u001b[0m             \u001b[1;32mif\u001b[0m \u001b[0mengine\u001b[0m \u001b[1;33m==\u001b[0m \u001b[1;34m'python'\u001b[0m\u001b[1;33m:\u001b[0m\u001b[1;33m\u001b[0m\u001b[0m\n",
      "\u001b[1;32mC:\\Users\\jorik\\AppData\\Local\\Enthought\\Canopy\\User\\lib\\site-packages\\pandas\\io\\parsers.pyc\u001b[0m in \u001b[0;36m__init__\u001b[1;34m(self, src, **kwds)\u001b[0m\n\u001b[0;32m   1117\u001b[0m         \u001b[0mkwds\u001b[0m\u001b[1;33m[\u001b[0m\u001b[1;34m'allow_leading_cols'\u001b[0m\u001b[1;33m]\u001b[0m \u001b[1;33m=\u001b[0m \u001b[0mself\u001b[0m\u001b[1;33m.\u001b[0m\u001b[0mindex_col\u001b[0m \u001b[1;32mis\u001b[0m \u001b[1;32mnot\u001b[0m \u001b[0mFalse\u001b[0m\u001b[1;33m\u001b[0m\u001b[0m\n\u001b[0;32m   1118\u001b[0m \u001b[1;33m\u001b[0m\u001b[0m\n\u001b[1;32m-> 1119\u001b[1;33m         \u001b[0mself\u001b[0m\u001b[1;33m.\u001b[0m\u001b[0m_reader\u001b[0m \u001b[1;33m=\u001b[0m \u001b[0m_parser\u001b[0m\u001b[1;33m.\u001b[0m\u001b[0mTextReader\u001b[0m\u001b[1;33m(\u001b[0m\u001b[0msrc\u001b[0m\u001b[1;33m,\u001b[0m \u001b[1;33m**\u001b[0m\u001b[0mkwds\u001b[0m\u001b[1;33m)\u001b[0m\u001b[1;33m\u001b[0m\u001b[0m\n\u001b[0m\u001b[0;32m   1120\u001b[0m \u001b[1;33m\u001b[0m\u001b[0m\n\u001b[0;32m   1121\u001b[0m         \u001b[1;31m# XXX\u001b[0m\u001b[1;33m\u001b[0m\u001b[1;33m\u001b[0m\u001b[0m\n",
      "\u001b[1;32mpandas/parser.pyx\u001b[0m in \u001b[0;36mpandas.parser.TextReader.__cinit__ (pandas\\parser.c:3246)\u001b[1;34m()\u001b[0m\n",
      "\u001b[1;32mpandas/parser.pyx\u001b[0m in \u001b[0;36mpandas.parser.TextReader._setup_parser_source (pandas\\parser.c:6111)\u001b[1;34m()\u001b[0m\n",
      "\u001b[1;31mIOError\u001b[0m: File D:\\measuring/data/20160907/145700_reflection_scope_trace\\REFL000.csv does not exist"
     ]
    }
   ],
   "source": [
    "indir = 'D:\\measuring/data/20160907/145700_reflection_scope_trace'\n",
    "filename = 'REFL000'\n",
    "EOM_freq= 6.\n",
    "reload(oscillo_ana)\n",
    "\n",
    "oa_all = oscillo_ana.oscilloscope_analysis(indir=indir,filename=filename)\n",
    "oa_all.get_data(use_timetrace=False,x_min=None,x_max=None,data_col=3)\n",
    "oa_all.plot_data(plot_mod=True,figsize=(16,4),fmt='o')\n",
    "\n",
    "x_min=64000\n",
    "x_max=x_min+5000\n",
    "oa_single = oscillo_ana.oscilloscope_analysis(indir=indir,filename=filename)\n",
    "oa_single.get_data(use_timetrace=False,x_min=x_min,x_max=x_max,data_col=3)#1400)\n",
    "oa_single.plot_data(plot_mod=False,figsize=(16,4),fmt='o')\n"
   ]
  },
  {
   "cell_type": "code",
   "execution_count": 10,
   "metadata": {
    "collapsed": true
   },
   "outputs": [],
   "source": [
    "\n",
    "\n",
    "# for j,filename in enumerate(filenames):\n",
    "#     oa = oscillo_ana.oscilloscope_analysis(indir=indir,filename=filename)\n",
    "#     oa.get_data(use_timetrace=False,x_min=0,x_max=10000,data_col=3)#1400)\n",
    "#     oa.plot_data()#plot_mod=True)\n",
    "\n",
    "#     # lws_old=lws[:-1]\n",
    "#     lws = np.array([])#lws_old## \n",
    "#     As = np.array([])#lws_old## \n",
    "#     gammas = np.array([])#lws_old## \n",
    "#     nr_lws=10\n",
    "\n",
    "#     x0 =x0s[j]\n",
    "#     windowsize=5000# print len(x)\n",
    "#     # xi = int(len(x)/nr_lws)\n",
    "#     # print xi \n",
    "\n",
    "#     x,y = oa.get_data(use_timetrace=False,data_col=3)\n",
    "#     # lw,u_lw = oa.plot_and_fit_with_EOM(EOM_freq=EOM_freq)\n",
    "#     # print lw\n",
    "\n",
    "# "
   ]
  },
  {
   "cell_type": "code",
   "execution_count": null,
   "metadata": {
    "collapsed": false,
    "scrolled": true
   },
   "outputs": [],
   "source": []
  },
  {
   "cell_type": "code",
   "execution_count": 11,
   "metadata": {
    "collapsed": false,
    "scrolled": true
   },
   "outputs": [
    {
     "ename": "NameError",
     "evalue": "name 'good_lws' is not defined",
     "output_type": "error",
     "traceback": [
      "\u001b[1;31m---------------------------------------------------------------------------\u001b[0m",
      "\u001b[1;31mNameError\u001b[0m                                 Traceback (most recent call last)",
      "\u001b[1;32m<ipython-input-11-132b59ae618f>\u001b[0m in \u001b[0;36m<module>\u001b[1;34m()\u001b[0m\n\u001b[1;32m----> 1\u001b[1;33m \u001b[1;32mprint\u001b[0m \u001b[0mlen\u001b[0m\u001b[1;33m(\u001b[0m\u001b[0mgood_lws\u001b[0m\u001b[1;33m)\u001b[0m\u001b[1;33m\u001b[0m\u001b[0m\n\u001b[0m\u001b[0;32m      2\u001b[0m \u001b[1;32mprint\u001b[0m \u001b[0mgood_lws\u001b[0m\u001b[1;33m[\u001b[0m\u001b[1;33m-\u001b[0m\u001b[1;36m1\u001b[0m\u001b[1;33m]\u001b[0m\u001b[1;33m\u001b[0m\u001b[0m\n\u001b[0;32m      3\u001b[0m \u001b[1;32mprint\u001b[0m \u001b[0mgood_u_lws\u001b[0m\u001b[1;33m\u001b[0m\u001b[0m\n\u001b[0;32m      4\u001b[0m \u001b[1;32mprint\u001b[0m \u001b[0mgood_chisqs\u001b[0m\u001b[1;33m\u001b[0m\u001b[0m\n\u001b[0;32m      5\u001b[0m \u001b[1;32mprint\u001b[0m \u001b[1;34m'average lw %.2f +- %.2f'\u001b[0m\u001b[1;33m%\u001b[0m\u001b[1;33m(\u001b[0m\u001b[0mnp\u001b[0m\u001b[1;33m.\u001b[0m\u001b[0maverage\u001b[0m\u001b[1;33m(\u001b[0m\u001b[0mgood_lws\u001b[0m\u001b[1;33m[\u001b[0m\u001b[1;33m:\u001b[0m\u001b[1;33m-\u001b[0m\u001b[1;36m1\u001b[0m\u001b[1;33m]\u001b[0m\u001b[1;33m)\u001b[0m \u001b[1;33m,\u001b[0m\u001b[0mnp\u001b[0m\u001b[1;33m.\u001b[0m\u001b[0mstd\u001b[0m\u001b[1;33m(\u001b[0m\u001b[0mgood_lws\u001b[0m\u001b[1;33m[\u001b[0m\u001b[1;33m:\u001b[0m\u001b[1;33m-\u001b[0m\u001b[1;36m1\u001b[0m\u001b[1;33m]\u001b[0m\u001b[1;33m)\u001b[0m\u001b[1;33m)\u001b[0m\u001b[1;33m\u001b[0m\u001b[0m\n",
      "\u001b[1;31mNameError\u001b[0m: name 'good_lws' is not defined"
     ]
    }
   ],
   "source": [
    "print len(good_lws)\n",
    "print good_lws[-1]\n",
    "print good_u_lws\n",
    "print good_chisqs\n",
    "print 'average lw %.2f +- %.2f'%(np.average(good_lws[:-1]) ,np.std(good_lws[:-1]))\n",
    "\n"
   ]
  },
  {
   "cell_type": "code",
   "execution_count": 12,
   "metadata": {
    "collapsed": false,
    "scrolled": true
   },
   "outputs": [
    {
     "ename": "NameError",
     "evalue": "name 'oa_single' is not defined",
     "output_type": "error",
     "traceback": [
      "\u001b[1;31m---------------------------------------------------------------------------\u001b[0m",
      "\u001b[1;31mNameError\u001b[0m                                 Traceback (most recent call last)",
      "\u001b[1;32m<ipython-input-12-d2f9e2f4eeff>\u001b[0m in \u001b[0;36m<module>\u001b[1;34m()\u001b[0m\n\u001b[1;32m----> 1\u001b[1;33m lw,u_lw,A1,u_a1,g,u_g,chi_sq = oa_single.plot_and_fit_with_EOM(EOM_freq=EOM_freq,\n\u001b[0m\u001b[0;32m      2\u001b[0m                                 \u001b[0mg_a1\u001b[0m \u001b[1;33m=\u001b[0m \u001b[1;36m0.01\u001b[0m\u001b[1;33m,\u001b[0m\u001b[0mg_A1\u001b[0m \u001b[1;33m=\u001b[0m \u001b[1;36m120000\u001b[0m\u001b[1;33m,\u001b[0m\u001b[0mg_A2\u001b[0m\u001b[1;33m=\u001b[0m\u001b[1;36m20000\u001b[0m\u001b[1;33m,\u001b[0m\u001b[0mg_A3\u001b[0m\u001b[1;33m=\u001b[0m\u001b[1;36m20000\u001b[0m\u001b[1;33m,\u001b[0m\u001b[0mg_gamma1\u001b[0m\u001b[1;33m=\u001b[0m\u001b[1;36m200\u001b[0m\u001b[1;33m,\u001b[0m\u001b[0mg_dx\u001b[0m \u001b[1;33m=\u001b[0m \u001b[1;36m500\u001b[0m\u001b[1;33m,\u001b[0m\u001b[1;33m\u001b[0m\u001b[0m\n\u001b[0;32m      3\u001b[0m                                 show_fit=True,print_fit=True,plot_name=str(x_min))\n\u001b[0;32m      4\u001b[0m \u001b[1;33m\u001b[0m\u001b[0m\n\u001b[0;32m      5\u001b[0m \u001b[1;32mprint\u001b[0m \u001b[0mchi_sq\u001b[0m\u001b[1;33m\u001b[0m\u001b[0m\n",
      "\u001b[1;31mNameError\u001b[0m: name 'oa_single' is not defined"
     ]
    }
   ],
   "source": [
    "lw,u_lw,A1,u_a1,g,u_g,chi_sq = oa_single.plot_and_fit_with_EOM(EOM_freq=EOM_freq,\n",
    "                                g_a1 = 0.01,g_A1 = 120000,g_A2=20000,g_A3=20000,g_gamma1=200,g_dx = 500,\n",
    "                                show_fit=True,print_fit=True,plot_name=str(x_min))\n",
    "\n",
    "print chi_sq"
   ]
  },
  {
   "cell_type": "code",
   "execution_count": 13,
   "metadata": {
    "collapsed": true
   },
   "outputs": [],
   "source": [
    "lws = [1.18,1.48,1.37,2.22]"
   ]
  },
  {
   "cell_type": "code",
   "execution_count": null,
   "metadata": {
    "collapsed": true
   },
   "outputs": [],
   "source": []
  },
  {
   "cell_type": "code",
   "execution_count": 14,
   "metadata": {
    "collapsed": false,
    "scrolled": true
   },
   "outputs": [
    {
     "name": "stdout",
     "output_type": "stream",
     "text": [
      "reloaded\n"
     ]
    },
    {
     "ename": "AttributeError",
     "evalue": "'module' object has no attribute 'plot_and_fit'",
     "output_type": "error",
     "traceback": [
      "\u001b[1;31m---------------------------------------------------------------------------\u001b[0m",
      "\u001b[1;31mAttributeError\u001b[0m                            Traceback (most recent call last)",
      "\u001b[1;32m<ipython-input-14-f7f31e6c5b3f>\u001b[0m in \u001b[0;36m<module>\u001b[1;34m()\u001b[0m\n\u001b[0;32m     25\u001b[0m     \u001b[0mindir\u001b[0m\u001b[1;33m=\u001b[0m\u001b[1;34m'D:\\measuring\\data/20160430\\OFF_diamond'\u001b[0m\u001b[1;31m#'D:\\measuring\\data/20160430\\OFF_diamond'\u001b[0m\u001b[1;33m\u001b[0m\u001b[0m\n\u001b[0;32m     26\u001b[0m     \u001b[0mfilename\u001b[0m\u001b[1;33m=\u001b[0m\u001b[1;34m'OFFD00'\u001b[0m\u001b[1;33m+\u001b[0m\u001b[0mstr\u001b[0m\u001b[1;33m(\u001b[0m\u001b[0mi\u001b[0m\u001b[1;33m)\u001b[0m\u001b[1;33m\u001b[0m\u001b[0m\n\u001b[1;32m---> 27\u001b[1;33m     linewidth, u_linewidth = oscillo_ana.plot_and_fit(indir, filename,\n\u001b[0m\u001b[0;32m     28\u001b[0m                                                       g_a1, g_A1, g_x01, g_gamma1, g_dx, g_A2,fixed=fixed)\n\u001b[0;32m     29\u001b[0m     \u001b[1;32mprint\u001b[0m \u001b[0mlinewidth\u001b[0m\u001b[1;33m,\u001b[0m \u001b[0mu_linewidth\u001b[0m\u001b[1;33m\u001b[0m\u001b[0m\n",
      "\u001b[1;31mAttributeError\u001b[0m: 'module' object has no attribute 'plot_and_fit'"
     ]
    }
   ],
   "source": [
    "\n",
    "# Parameters for\n",
    "\n",
    "#g_x02 = 0.02\n",
    "# g_gamma2 = 0.002\n",
    "\n",
    "nr_datafiles = 9\n",
    "\n",
    "linewidths = np.zeros((nr_datafiles,2))\n",
    "\n",
    "reload(oscillo_ana)\n",
    "\n",
    "for i in np.arange(nr_datafiles):\n",
    "    fixed =[]#[0,1,2,5]\n",
    "    \n",
    "    g_a1 = 0.002\n",
    "    g_A1 = 0.00004\n",
    "    g_x01 = 0.002\n",
    "    g_gamma1 = 0.0004\n",
    "    g_dx = 0.0015\n",
    "    g_A2 = 0.00002\n",
    "    \n",
    "    if i == 2:\n",
    "        g_gamma1 = 0.0035\n",
    "    indir='D:\\measuring\\data/20160430\\OFF_diamond'#'D:\\measuring\\data/20160430\\OFF_diamond'\n",
    "    filename='OFFD00'+str(i)\n",
    "    linewidth, u_linewidth = oscillo_ana.plot_and_fit(indir, filename,\n",
    "                                                      g_a1, g_A1, g_x01, g_gamma1, g_dx, g_A2,fixed=fixed)\n",
    "    print linewidth, u_linewidth\n",
    "    linewidths[i,0]= linewidth\n",
    "    linewidths[i,1] = u_linewidth\n",
    "print linewidths\n",
    "\n",
    "f = open(os.path.join(indir,'linewidth_data.txt'), 'w')\n",
    "np.savetxt(f,linewidths)\n",
    "f.close()"
   ]
  },
  {
   "cell_type": "code",
   "execution_count": 15,
   "metadata": {
    "collapsed": false
   },
   "outputs": [
    {
     "name": "stdout",
     "output_type": "stream",
     "text": [
      "[ inf  inf]\n"
     ]
    },
    {
     "ename": "NameError",
     "evalue": "name 'cavity_lengths' is not defined",
     "output_type": "error",
     "traceback": [
      "\u001b[1;31m---------------------------------------------------------------------------\u001b[0m",
      "\u001b[1;31mNameError\u001b[0m                                 Traceback (most recent call last)",
      "\u001b[1;32m<ipython-input-15-55bcb0e08268>\u001b[0m in \u001b[0;36m<module>\u001b[1;34m()\u001b[0m\n\u001b[0;32m      2\u001b[0m \u001b[0mQ\u001b[0m \u001b[1;33m=\u001b[0m \u001b[0mnu\u001b[0m\u001b[1;33m/\u001b[0m\u001b[1;33m(\u001b[0m\u001b[0mlinewidths\u001b[0m\u001b[1;33m[\u001b[0m\u001b[1;36m1\u001b[0m\u001b[1;33m]\u001b[0m\u001b[1;33m)\u001b[0m\u001b[1;33m\u001b[0m\u001b[0m\n\u001b[0;32m      3\u001b[0m \u001b[1;32mprint\u001b[0m \u001b[0mQ\u001b[0m\u001b[1;33m\u001b[0m\u001b[0m\n\u001b[1;32m----> 4\u001b[1;33m \u001b[0mnu_FSR\u001b[0m\u001b[1;33m=\u001b[0m\u001b[0mc\u001b[0m\u001b[1;33m/\u001b[0m\u001b[1;33m(\u001b[0m\u001b[1;36m2\u001b[0m\u001b[1;33m*\u001b[0m\u001b[0mcavity_lengths\u001b[0m\u001b[1;33m[\u001b[0m\u001b[1;36m1\u001b[0m\u001b[1;33m]\u001b[0m\u001b[1;33m)\u001b[0m\u001b[1;33m\u001b[0m\u001b[0m\n\u001b[0m\u001b[0;32m      5\u001b[0m \u001b[0mF\u001b[0m\u001b[1;33m=\u001b[0m\u001b[0mQ\u001b[0m\u001b[1;33m*\u001b[0m\u001b[0mnu_FSR\u001b[0m\u001b[1;33m/\u001b[0m\u001b[0mnu\u001b[0m\u001b[1;33m\u001b[0m\u001b[0m\n\u001b[0;32m      6\u001b[0m \u001b[1;32mprint\u001b[0m \u001b[0mF\u001b[0m\u001b[1;33m\u001b[0m\u001b[0m\n",
      "\u001b[1;31mNameError\u001b[0m: name 'cavity_lengths' is not defined"
     ]
    }
   ],
   "source": [
    "nu=470.e12\n",
    "Q = nu/(linewidths[1])\n",
    "print Q\n",
    "nu_FSR=c/(2*cavity_lengths[1])\n",
    "F=Q*nu_FSR/nu\n",
    "print F\n",
    "F=nu_FSR/linewidths[1]\n",
    "print F\n",
    "print nu_FSR\n"
   ]
  },
  {
   "cell_type": "code",
   "execution_count": null,
   "metadata": {
    "collapsed": false
   },
   "outputs": [],
   "source": [
    "\n",
    "  "
   ]
  },
  {
   "cell_type": "code",
   "execution_count": 16,
   "metadata": {
    "collapsed": false
   },
   "outputs": [
    {
     "ename": "NameError",
     "evalue": "name 'RT_OFFD_POS0_avgs' is not defined",
     "output_type": "error",
     "traceback": [
      "\u001b[1;31m---------------------------------------------------------------------------\u001b[0m",
      "\u001b[1;31mNameError\u001b[0m                                 Traceback (most recent call last)",
      "\u001b[1;32m<ipython-input-16-53a724daa110>\u001b[0m in \u001b[0;36m<module>\u001b[1;34m()\u001b[0m\n\u001b[0;32m      2\u001b[0m \u001b[0mreload\u001b[0m\u001b[1;33m(\u001b[0m\u001b[0mfuncs\u001b[0m\u001b[1;33m)\u001b[0m\u001b[1;33m\u001b[0m\u001b[0m\n\u001b[0;32m      3\u001b[0m \u001b[1;33m\u001b[0m\u001b[0m\n\u001b[1;32m----> 4\u001b[1;33m \u001b[0mavg_finesse_RT_OFFD\u001b[0m \u001b[1;33m=\u001b[0m \u001b[0mnp\u001b[0m\u001b[1;33m.\u001b[0m\u001b[0maverage\u001b[0m\u001b[1;33m(\u001b[0m\u001b[0mfuncs\u001b[0m\u001b[1;33m.\u001b[0m\u001b[0mfinesses_from_lws\u001b[0m\u001b[1;33m(\u001b[0m\u001b[0mRT_OFFD_POS0_avgs\u001b[0m\u001b[1;33m[\u001b[0m\u001b[1;33m:\u001b[0m\u001b[1;33m,\u001b[0m\u001b[1;36m4\u001b[0m\u001b[1;33m]\u001b[0m\u001b[1;33m,\u001b[0m\u001b[0mRT_OFFD_POS0_avgs\u001b[0m\u001b[1;33m[\u001b[0m\u001b[1;33m:\u001b[0m\u001b[1;33m,\u001b[0m\u001b[1;36m5\u001b[0m\u001b[1;33m]\u001b[0m\u001b[1;33m,\u001b[0m\u001b[0mRT_OFFD_POS0_Ns\u001b[0m\u001b[1;33m)\u001b[0m\u001b[1;33m[\u001b[0m\u001b[1;36m0\u001b[0m\u001b[1;33m]\u001b[0m\u001b[1;33m)\u001b[0m\u001b[1;33m\u001b[0m\u001b[0m\n\u001b[0m\u001b[0;32m      5\u001b[0m \u001b[0mavg_finesse_LT_OFFD\u001b[0m \u001b[1;33m=\u001b[0m \u001b[0mnp\u001b[0m\u001b[1;33m.\u001b[0m\u001b[0maverage\u001b[0m\u001b[1;33m(\u001b[0m\u001b[0mfuncs\u001b[0m\u001b[1;33m.\u001b[0m\u001b[0mfinesses_from_lws\u001b[0m\u001b[1;33m(\u001b[0m\u001b[0mLT_OFFD_POS3_avg_array\u001b[0m\u001b[1;33m,\u001b[0m\u001b[0mLT_OFFD_POS3_std_array\u001b[0m\u001b[1;33m,\u001b[0m\u001b[0mLT_OFFD_POS3_Ns\u001b[0m\u001b[1;33m)\u001b[0m\u001b[1;33m[\u001b[0m\u001b[1;36m0\u001b[0m\u001b[1;33m]\u001b[0m\u001b[1;33m)\u001b[0m\u001b[1;33m\u001b[0m\u001b[0m\n\u001b[0;32m      6\u001b[0m \u001b[1;33m\u001b[0m\u001b[0m\n",
      "\u001b[1;31mNameError\u001b[0m: name 'RT_OFFD_POS0_avgs' is not defined"
     ]
    }
   ],
   "source": [
    "# plotting all in one!!! \\\n",
    "reload(funcs)\n",
    "\n",
    "avg_finesse_RT_OFFD = np.average(funcs.finesses_from_lws(RT_OFFD_POS0_avgs[:,4],RT_OFFD_POS0_avgs[:,5],RT_OFFD_POS0_Ns)[0])\n",
    "avg_finesse_LT_OFFD = np.average(funcs.finesses_from_lws(LT_OFFD_POS3_avg_array,LT_OFFD_POS3_std_array,LT_OFFD_POS3_Ns)[0])\n",
    "\n",
    "\n",
    "###TODO - include diamond thickness\n",
    "fig3,ax3 = plt.subplots(figsize=(6,4))\n",
    "ax3 = funcs.plot_mean_lws_from_avgs(RT_OFFD_POS0_avgs,RT_OFFD_POS0_Ns,ax=ax3,label='RT OFFD POS0')\n",
    "ax3 = funcs.plot_mean_lws(LT_OFFD_POS3_avg_array,LT_OFFD_POS3_std_array,LT_OFFD_POS3_Ns,ax=ax3,label='LT OFFD POS3')\n",
    "ax3.set_title(folder+'/lw_vs_L_all_OFFD')\n",
    "plt.savefig(os.path.join(folder,'lw_vs_L_all_OFFD.png'))\n",
    "plt.show(fig3)\n",
    "\n",
    "\n",
    "fig,ax = plt.subplots(figsize=(12,4))\n",
    "ax = funcs.plot_mean_lws_from_avgs(RT_OND_POS0_avgs,RT_OND_POS0_Ns,ax=ax,label='RT OND POS0')\n",
    "ax = funcs.plot_mean_lws_from_avgs(RT_OND_POS1_avgs,RT_OND_POS1_Ns,ax=ax,label='RT OND POS1')\n",
    "ax = funcs.plot_mean_lws_from_avgs(RT_OND_POS2_avgs,RT_OND_POS2_Ns,ax=ax,label='RT OND POS2')\n",
    "\n",
    "ax = funcs.plot_mean_lws(LT_OND_POS2_avg_array,LT_OND_POS2_std_array,LT_OND_POS2_Ns,ax=ax,label='LT OND POS2')\n",
    "ax = funcs.plot_mean_lws(LT_OND_POS4_avg_array,LT_OND_POS4_std_array,LT_OND_POS4_Ns,ax=ax,label='LT OND POS4')\n",
    "\n",
    "ax.set_title(folder+'/lw_vs_L_all_OND')\n",
    "plt.savefig(os.path.join(folder,'lw_vs_L_all_OND.png'))\n",
    "plt.show(fig)\n",
    "\n",
    "###################### version 1 -both separate\n",
    "\n",
    "fig4,ax4 = plt.subplots(figsize=(6,4))\n",
    "ax4  = funcs.plot_finesse_vs_length_from_avgs(RT_OFFD_POS0_avgs,RT_OFFD_POS0_Ns,ax=ax4,label='RT OFFD POS0')\n",
    "ax4 = funcs.plot_finesse_vs_length(LT_OFFD_POS3_avg_array,LT_OFFD_POS3_std_array,LT_OFFD_POS3_Ns,ax=ax4,label='LT OFFD POS3')\n",
    "ax4.set_title(folder+'/Finesse_vs_L_all_OFFD')\n",
    "ax4.legend(loc='lower right')\n",
    "plt.savefig(os.path.join(folder,'Finesse_vs_L_all_OFFD.png'))\n",
    "plt.show(fig4)\n",
    "\n",
    "fig2,ax2 = plt.subplots(figsize=(12,4))\n",
    "ax2 = funcs.plot_finesse_vs_length_from_avgs(RT_OND_POS0_avgs,RT_OND_POS0_Ns,ax=ax2,label='RT OND POS0')\n",
    "ax2 = funcs.plot_finesse_vs_length_from_avgs(RT_OND_POS1_avgs,RT_OND_POS1_Ns,ax=ax2,label='RT OND POS1')\n",
    "ax2 = funcs.plot_finesse_vs_length_from_avgs(RT_OND_POS2_avgs,RT_OND_POS2_Ns,ax=ax2,label='RT OND POS2')\n",
    "\n",
    "ax2 = funcs.plot_finesse_vs_length(LT_OND_POS2_avg_array,LT_OND_POS2_std_array,LT_OND_POS2_Ns,ax=ax2,label='LT OND POS2')\n",
    "ax2 = funcs.plot_finesse_vs_length(LT_OND_POS4_avg_array,LT_OND_POS4_std_array,LT_OND_POS4_Ns,ax=ax2,label='LT OND POS4')\n",
    "\n",
    "ax2.set_title(folder+'/Finesse_vs_L_all_OND')\n",
    "plt.savefig(os.path.join(folder,'Finesse_vs_L_all_OND_vs1.png'))\n",
    "plt.show(fig2)\n",
    "\n",
    "\n",
    "###################### version 2 -OFF D average as a lines\n",
    "fig5,ax5 = plt.subplots(figsize=(12,4))\n",
    "ax5 = funcs.plot_finesse_vs_length_from_avgs(RT_OND_POS0_avgs,RT_OND_POS0_Ns,ax=ax5,label='RT OND POS0')\n",
    "ax5 = funcs.plot_finesse_vs_length_from_avgs(RT_OND_POS1_avgs,RT_OND_POS1_Ns,ax=ax5,label='RT OND POS1')\n",
    "ax5 = funcs.plot_finesse_vs_length_from_avgs(RT_OND_POS2_avgs,RT_OND_POS2_Ns,ax=ax5,label='RT OND POS2')\n",
    "\n",
    "ax5 = funcs.plot_finesse_vs_length(LT_OND_POS2_avg_array,LT_OND_POS2_std_array,LT_OND_POS2_Ns,ax=ax5,label='LT OND POS2')\n",
    "ax5 = funcs.plot_finesse_vs_length(LT_OND_POS4_avg_array,LT_OND_POS4_std_array,LT_OND_POS4_Ns,ax=ax5,label='LT OND POS4')\n",
    "\n",
    "ax5.plot(ax5.get_xlim(),[avg_finesse_RT_OFFD,avg_finesse_RT_OFFD],'--',color='orange' )\n",
    "ax5.text(ax5.get_xlim()[0]+1,avg_finesse_RT_OFFD-2000,'RT OFFD',color='orange')\n",
    "\n",
    "ax5.plot(ax5.get_xlim(),[avg_finesse_LT_OFFD,avg_finesse_LT_OFFD],'--',color='darkorange' )\n",
    "ax5.text(ax5.get_xlim()[0]+1,avg_finesse_LT_OFFD-2000,'LT OFFD',color='darkorange')\n",
    "\n",
    "ax5.set_title(folder+'/Finesse_vs_L_all_OND')\n",
    "plt.savefig(os.path.join(folder,'Finesse_vs_L_all_OND_vs2.png'))\n",
    "plt.show(fig5)\n",
    "\n",
    "\n",
    "\n",
    "\n",
    "\n",
    "###################### version 2 -OFF D average as a lines\n",
    "fig6,ax6 = plt.subplots(figsize=(12,4))\n",
    "ax6  = funcs.plot_finesse_vs_length_from_avgs(RT_OFFD_POS0_avgs,RT_OFFD_POS0_Ns,ax=ax6,label='RT OFFD POS0')\n",
    "ax6 = funcs.plot_finesse_vs_length(LT_OFFD_POS3_avg_array,LT_OFFD_POS3_std_array,LT_OFFD_POS3_Ns,ax=ax6,label='LT OFFD POS3')\n",
    "\n",
    "ax6 = funcs.plot_finesse_vs_length_from_avgs(RT_OND_POS0_avgs,RT_OND_POS0_Ns,ax=ax6,label='RT OND POS0')\n",
    "ax6 = funcs.plot_finesse_vs_length_from_avgs(RT_OND_POS1_avgs,RT_OND_POS1_Ns,ax=ax6,label='RT OND POS1')\n",
    "ax6 = funcs.plot_finesse_vs_length_from_avgs(RT_OND_POS2_avgs,RT_OND_POS2_Ns,ax=ax6,label='RT OND POS2')\n",
    "\n",
    "ax6 = funcs.plot_finesse_vs_length(LT_OND_POS2_avg_array,LT_OND_POS2_std_array,LT_OND_POS2_Ns,ax=ax6,label='LT OND POS2')\n",
    "ax6 = funcs.plot_finesse_vs_length(LT_OND_POS4_avg_array,LT_OND_POS4_std_array,LT_OND_POS4_Ns,ax=ax6,label='LT OND POS4')\n",
    "\n",
    "ax6.set_title(folder+'/Finesse_vs_L_all_OND')\n",
    "plt.savefig(os.path.join(folder,'Finesse_vs_L_all_OND_vs3.png'))\n",
    "plt.show(fig6)\n",
    " \n"
   ]
  },
  {
   "cell_type": "code",
   "execution_count": 17,
   "metadata": {
    "collapsed": false
   },
   "outputs": [
    {
     "data": {
      "text/plain": [
       "<matplotlib.axes._subplots.AxesSubplot at 0xb2729e8>"
      ]
     },
     "execution_count": 17,
     "metadata": {},
     "output_type": "execute_result"
    },
    {
     "data": {
      "image/png": "iVBORw0KGgoAAAANSUhEUgAAAZYAAAEPCAYAAABhkeIdAAAABHNCSVQICAgIfAhkiAAAAAlwSFlz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\nmZnVlBOLmZnVlBOLmZnV1P8HIk+wMhgxim8AAAAASUVORK5CYII=\n",
      "text/plain": [
       "<matplotlib.figure.Figure at 0xb06b400>"
      ]
     },
     "metadata": {},
     "output_type": "display_data"
    },
    {
     "data": {
      "image/png": "iVBORw0KGgoAAAANSUhEUgAAAYYAAAEPCAYAAABGP2P1AAAABHNCSVQICAgIfAhkiAAAAAlwSFlz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\nM08puJvFsLUAAAAASUVORK5CYII=\n",
      "text/plain": [
       "<matplotlib.figure.Figure at 0xad2da90>"
      ]
     },
     "metadata": {},
     "output_type": "display_data"
    }
   ],
   "source": [
    "reload(funcs)\n",
    "#LT ON DIAMOND, POS 4\n",
    "dir_L2 = os.path.join(datapath,'20160909/LT_OND_POS4_L2')\n",
    "dir_L3 = os.path.join(datapath,'20160909/LT_OND_POS4_L3')\n",
    "dir_L4 = os.path.join(datapath,'20160909/LT_OND_POS4_L4')\n",
    "dir_L5 = os.path.join(datapath,'20160909/LT_OND_POS4_L5')\n",
    "\n",
    "d_diamond_pos4 = 4.22e-6\n",
    "N2s= [42,43,44]\n",
    "N3s = [44,45,46,47]\n",
    "N4s = [45,46,47,48]\n",
    "N5s=[48,49,50,51]#educated guess for now\n",
    "V2s=[0,1,2]\n",
    "V3s=[0,1,2,3]\n",
    "V4s=[0,1,2,3]\n",
    "V5s = [0,1,2,3]\n",
    "folder,avg_array2,std_array2 = funcs.get_LT_avg_array_from_json(V2s ,dir_L2)\n",
    "folder,avg_array3,std_array3 = funcs.get_LT_avg_array_from_json(V3s ,dir_L3)\n",
    "folder,avg_array4,std_array4 = funcs.get_LT_avg_array_from_json(V4s ,dir_L4)\n",
    "folder,avg_array5,std_array5 = funcs.get_LT_avg_array_from_json(V5s ,dir_L5)\n",
    "\n",
    "\n",
    "LT_OND_POS4_avg_array = np.concatenate((avg_array2,avg_array3,avg_array4,avg_array5))\n",
    "LT_OND_POS4_std_array =np.concatenate((std_array2,std_array3,std_array4,std_array5))  \n",
    "LT_OND_POS4_Ns = np.concatenate((N2s,N3s,N4s,N5s))\n",
    "\n",
    "\n",
    "ax = funcs.plot_finesse_vs_length(LT_OND_POS4_avg_array,LT_OND_POS4_std_array,LT_OND_POS4_Ns)\n",
    "\n",
    "funcs.plot_mean_lws(LT_OND_POS4_avg_array,LT_OND_POS4_std_array,LT_OND_POS4_Ns)"
   ]
  },
  {
   "cell_type": "code",
   "execution_count": 18,
   "metadata": {
    "collapsed": false,
    "scrolled": true
   },
   "outputs": [
    {
     "name": "stdout",
     "output_type": "stream",
     "text": [
      "[ 1.88983324  1.85875156  1.86500074  1.96506584  1.59740665  1.48208958\n",
      "  1.54787281  1.57418327  1.42972132  1.4497439   1.4981274   2.05010352\n",
      "  1.92      ]\n"
     ]
    },
    {
     "data": {
      "text/plain": [
       "<matplotlib.axes._subplots.AxesSubplot at 0xc4a6a90>"
      ]
     },
     "execution_count": 18,
     "metadata": {},
     "output_type": "execute_result"
    },
    {
     "data": {
      "image/png": "iVBORw0KGgoAAAANSUhEUgAAAZAAAAEPCAYAAABsj5JaAAAABHNCSVQICAgIfAhkiAAAAAlwSFlz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\n",
      "text/plain": [
       "<matplotlib.figure.Figure at 0xb08b128>"
      ]
     },
     "metadata": {},
     "output_type": "display_data"
    },
    {
     "data": {
      "image/png": "iVBORw0KGgoAAAANSUhEUgAAAYYAAAEPCAYAAABGP2P1AAAABHNCSVQICAgIfAhkiAAAAAlwSFlz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\ngg==\n",
      "text/plain": [
       "<matplotlib.figure.Figure at 0xb3a7208>"
      ]
     },
     "metadata": {},
     "output_type": "display_data"
    }
   ],
   "source": [
    "#LT ON DIAMOND , POS 2\n",
    "reload(funcs)\n",
    "dir_L5 = os.path.join(datapath,'20160905/LT_OND_POS2_L5')\n",
    "dir_L6 = os.path.join(datapath,'20160905/LT_OND_POS2_L6')\n",
    "dir_L7 = os.path.join(datapath,'20160905/LT_OND_POS2_L7')\n",
    "\n",
    "N2s= [69]\n",
    "avg_array2 = [1.92]\n",
    "std_array2 = [0.22]\n",
    "V5s= [0,1,2,3]\n",
    "N5s = [53,54,55,56]\n",
    "V6s=[0,1,2,3]\n",
    "N6s=[48,49,50,51]\n",
    "V7s = [0,1,2,3]\n",
    "N7s=[44,45,46,47]\n",
    "\n",
    "\n",
    "folder,avg_array5,std_array5 = funcs.get_LT_avg_array_from_json(V5s ,dir_L5)\n",
    "folder,avg_array6,std_array6 = funcs.get_LT_avg_array_from_json(V6s ,dir_L6)\n",
    "folder,avg_array7,std_array7 = funcs.get_LT_avg_array_from_json(V7s ,dir_L7)\n",
    "\n",
    "\n",
    "LT_OND_POS2_avg_array = np.concatenate((avg_array5,avg_array6,avg_array7,avg_array2)) \n",
    "LT_OND_POS2_std_array =  np.concatenate((std_array5,std_array6,std_array7,std_array2)) \n",
    "LT_OND_POS2_Ns = np.concatenate((N5s,N6s,N7s,N2s))\n",
    "\n",
    "print LT_OND_POS2_avg_array\n",
    "\n",
    "ax = funcs.plot_finesse_vs_length(LT_OND_POS2_avg_array,LT_OND_POS2_std_array,LT_OND_POS2_Ns)\n",
    "\n",
    "funcs.plot_mean_lws(LT_OND_POS2_avg_array,LT_OND_POS2_std_array,LT_OND_POS2_Ns)"
   ]
  },
  {
   "cell_type": "code",
   "execution_count": 19,
   "metadata": {
    "collapsed": false
   },
   "outputs": [
    {
     "data": {
      "text/plain": [
       "<matplotlib.axes._subplots.AxesSubplot at 0xc8fb3c8>"
      ]
     },
     "execution_count": 19,
     "metadata": {},
     "output_type": "execute_result"
    },
    {
     "data": {
      "image/png": "iVBORw0KGgoAAAANSUhEUgAAAZsAAAEPCAYAAACUb2mtAAAABHNCSVQICAgIfAhkiAAAAAlwSFlz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\ndk42ZmaWnZONmZll9/8BST3avsCHMk4AAAAASUVORK5CYII=\n",
      "text/plain": [
       "<matplotlib.figure.Figure at 0xb08b048>"
      ]
     },
     "metadata": {},
     "output_type": "display_data"
    },
    {
     "data": {
      "image/png": "iVBORw0KGgoAAAANSUhEUgAAAZEAAAEPCAYAAACDTflkAAAABHNCSVQICAgIfAhkiAAAAAlwSFlz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\n",
      "text/plain": [
       "<matplotlib.figure.Figure at 0xb08b080>"
      ]
     },
     "metadata": {},
     "output_type": "display_data"
    }
   ],
   "source": [
    "#LT OFF DIAMOND , POS 3\n",
    "dir_L0 = os.path.join(datapath,'20160907/LT_POS3_OFFD_L0')\n",
    "\n",
    "N0s= [17]\n",
    "V0s = [0]\n",
    "\n",
    "folder,avg_array0,std_array0 = funcs.get_LT_avg_array_from_json(V0s ,dir_L0)\n",
    "\n",
    "LT_OFFD_POS3_avg_array = avg_array0\n",
    "LT_OFFD_POS3_std_array = std_array0\n",
    "LT_OFFD_POS3_Ns = N0s\n",
    "\n",
    "\n",
    "ax = funcs.plot_finesse_vs_length(LT_OFFD_POS3_avg_array,LT_OFFD_POS3_std_array,LT_OFFD_POS3_Ns)\n",
    "\n",
    "funcs.plot_mean_lws(LT_OFFD_POS3_avg_array,LT_OFFD_POS3_std_array,LT_OFFD_POS3_Ns)"
   ]
=======
 "metadata": {
  "kernelspec": {
   "display_name": "Python 2",
   "language": "python",
   "name": "python2"
  },
  "language_info": {
   "codemirror_mode": {
    "name": "ipython",
    "version": 2
   },
   "file_extension": ".py",
   "mimetype": "text/x-python",
   "name": "python",
   "nbconvert_exporter": "python",
   "pygments_lexer": "ipython2",
   "version": "2.7.11"
>>>>>>> 809bae249b85397ab865dc86bdf899c1a0465fe8
  },
  "name": "",
  "signature": "sha256:6ccddad299064435316ea551a6810b1b6c63d7d4ff9dd8722eebab249e2ba0be"
 },
 "nbformat": 3,
 "nbformat_minor": 0,
 "worksheets": [
  {
<<<<<<< HEAD
   "cell_type": "code",
   "execution_count": 8,
   "metadata": {
    "collapsed": false,
    "scrolled": true
   },
   "outputs": [
    {
     "data": {
      "image/png": "iVBORw0KGgoAAAANSUhEUgAAAtoAAAEZCAYAAACpeoK0AAAABHNCSVQICAgIfAhkiAAAAAlwSFlz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\niIhIM1CiLSIiIiLSDP4XaaQ7qEmQhcAAAAAASUVORK5CYII=\n",
      "text/plain": [
       "<matplotlib.figure.Figure at 0xb82ee10>"
      ]
=======
   "cells": [
    {
     "cell_type": "code",
     "collapsed": false,
     "input": [
      "execfile('H:/My Documents/measuring/analysis/scripts/setup_analysis.py')\n",
      "\n",
      "%matplotlib inline\n",
      "\n",
      "import scipy.signal"
     ],
     "language": "python",
     "metadata": {},
     "outputs": [],
     "prompt_number": 47
    },
    {
     "cell_type": "code",
     "collapsed": false,
     "input": [
      "import analysis.scripts.cavity.oscilloscope_analysis_linewidth as oscillo_ana\n",
      "import analysis.scripts.cavity.functions_for_processing_linewidth_data as funcs"
     ],
     "language": "python",
     "metadata": {
      "scrolled": true
     },
     "outputs": [],
     "prompt_number": 44
    },
    {
     "cell_type": "code",
     "collapsed": false,
     "input": [
      "######simple plotting of oscilloscope data\n",
      "\n",
      "indir = 'D:\\measuring/data/20160907/145700_reflection_scope_trace'\n",
      "filename = 'REFL000'\n",
      "EOM_freq= 6.\n",
      "reload(oscillo_ana)\n",
      "\n",
      "oa_all = oscillo_ana.oscilloscope_analysis(indir=indir,filename=filename)\n",
      "oa_all.get_data(use_timetrace=False,x_min=None,x_max=None,data_col=3)\n",
      "oa_all.plot_data(plot_mod=True,figsize=(16,4),fmt='o')\n",
      "\n",
      "x_min=64000\n",
      "x_max=x_min+5000\n",
      "oa_single = oscillo_ana.oscilloscope_analysis(indir=indir,filename=filename)\n",
      "oa_single.get_data(use_timetrace=False,x_min=x_min,x_max=x_max,data_col=3)#1400)\n",
      "oa_single.plot_data(plot_mod=False,figsize=(16,4),fmt='o')"
     ],
     "language": "python",
     "metadata": {},
     "outputs": []
    },
    {
     "cell_type": "code",
     "collapsed": false,
     "input": [
      "###plot lw + modulation\n",
      "\n",
      "indir = 'K:/ns\\qt\\Diamond\\Projects\\Cavities\\Cavity characterisation paper\\data\\data_for_cav_char_paper/20160825/OND_POS2L6/V2'\n",
      "filename = 'NICE_LWS00144'\n",
      "EOM_freq= 6.\n",
      "data_col=2\n",
      "reload(oscillo_ana)\n",
      "\n",
      "oa_all = oscillo_ana.oscilloscope_analysis(indir=indir,filename=filename)\n",
      "# x,y=oa_all.get_data(use_timetrace=False,x_min=None,x_max=None,data_col=data_col)\n",
      "oa_all.get_data(use_timetrace=False,x_min=1000,x_max=3000,data_col=data_col,nr_channels=3)\n",
      "\n",
      "xtomsconversion = 500/125000.\n",
      "\n",
      "fig,ax = plt.subplots()\n",
      "ax.plot(oa_all.x*xtomsconversion,oa_all.y,'o')\n",
      "maxmod = max(oa_all.mod)\n",
      "minmod = min(oa_all.mod)\n",
      "avgmod = minmod-maxmod\n",
      "print maxmod,minmod\n",
      "print avgmod\n",
      "#scale_y =(max(oa_all.y)/ maxmod) \n",
      "ax.plot(oa_all.x*xtomsconversion,(oa_all.mod-avgmod)*0.6)\n",
      "ax.set_xlabel('time in sweep (ms)')\n",
      "plt.savefig(os.path.join(indir,filename+'data_for_cav_paper_schematic.png'))\n",
      "plt.savefig(os.path.join(indir,filename+'data_for_cav_paper_schematic.eps'))"
     ],
     "language": "python",
     "metadata": {},
     "outputs": []
    },
    {
     "cell_type": "code",
     "collapsed": false,
     "input": [
      "#################fitting many linewidths in an oscilloscope sweep\n",
      "indir = 'K:/ns\\qt\\Diamond\\Projects\\Cavities\\Cavity characterisation paper\\data\\data_for_cav_char_paper/20160822\\RT_OND_POS1_L3\\V3'\n",
      "indir = 'K:/ns\\qt\\Diamond\\Projects\\Cavities\\Cavity characterisation paper\\data\\data_for_cav_char_paper/20160825/OND_POS2L6/V2'\n",
      "#indir = 'K:/ns\\qt\\Diamond\\Projects\\Cavities\\Cavity characterisation paper\\data\\data_for_cav_char_paper/20160905/LT_OND_POS2_L6/V2'\n",
      "#filename = 'NICE_LWS00076'\n",
      "filename = 'NICE_LWS00144'\n",
      "EOM_freq= 6.\n",
      "data_col=2\n",
      "reload(oscillo_ana)\n",
      "\n",
      "oa_all = oscillo_ana.oscilloscope_analysis(indir=indir,filename=filename)\n",
      "# x,y=oa_all.get_data(use_timetrace=False,x_min=None,x_max=None,data_col=data_col)\n",
      "oa_all.get_data(use_timetrace=False,x_min=None,x_max=2200,data_col=data_col,nr_channels=3)\n",
      "oa_all.plot_data(plot_mod=True,figsize=(16,4),fmt='o')\n",
      "print len(x)\n",
      "\n",
      "min_plots=0\n",
      "max_plots = 1\n",
      "return_data = True\n",
      "\n",
      "test=True\n",
      "x0 =250\n",
      "x_odd_offset =0\n",
      "\n",
      "ms_per_div = 20\n",
      "mod_frequency = 1000 #Hz\n",
      "\n",
      "windowsize=100# print len(x)\n",
      "g_gamma = 6#6\n",
      "g_dx=30#26\n",
      "g_A=2#1.4\n",
      "max_chisq=0.0005#0.0028#1.#0.003#0.007#0.004#0.001#0.04\n",
      "\n",
      "nr_lws=20.*mod_frequency*ms_per_div/1000.\n",
      "\n",
      "\n",
      "x,y,fit_result = oscillo_ana.fit_all_resonances_in_sweep(indir,filename,EOM_freq,nr_lws,x0,\n",
      "                                                         windowsize,x_odd_offset,g_gamma,g_dx,g_A,max_chisq,\n",
      "                                                         test=test,total_length=125000,data_col=data_col,\n",
      "                                                         max_plots=max_plots,min_plots=min_plots,return_data=return_data)"
     ],
     "language": "python",
     "metadata": {},
     "outputs": [],
     "prompt_number": 57
    },
    {
     "cell_type": "code",
     "collapsed": true,
     "input": [
      "######################plot single linewidth for cavity characteristaion paper\n",
      "execfile('H:/My Documents/measuring/analysis/scripts/cavity/plot_single_linewidth_scan.py')"
     ],
     "language": "python",
     "metadata": {},
     "outputs": [],
     "prompt_number": 61
    },
    {
     "cell_type": "code",
     "collapsed": false,
     "input": [],
     "language": "python",
     "metadata": {
      "scrolled": true
>>>>>>> 809bae249b85397ab865dc86bdf899c1a0465fe8
     },
     "outputs": [],
     "prompt_number": 61
    },
    {
     "cell_type": "code",
     "collapsed": false,
     "input": [],
     "language": "python",
     "metadata": {},
     "outputs": []
    },
    {
     "cell_type": "code",
     "collapsed": false,
     "input": [
      "######################no longer used############################\n",
      "\n",
      "reload(oscillo_ana)\n",
      "indir='D:\\measuring\\data/20160825/OND_POS2L8'#'D:\\measuring\\data/20160430\\OFF_diamond'\n",
      "# filenames=['V0/NICE_LWS00168','V1/NICE_LWS00167','V-1/NICE_LWS00169',\\\n",
      "#           'V3/NICE_LWS00163','V4/NICE_LWS00164','V5/NICE_LWS00165',\\\n",
      "#           'V6/NICE_LWS00166']\n",
      "indir = 'D:\\measuring\\data/20160830/135900'\n",
      "filename = 'LT_LWS003'\n",
      "filenames=[filename]#['V0/NICE_LWS00168','V1/NICE_LWS00167','V-1/NICE_LWS00169']\n",
      "EOM_freq=6. # in GHz\n",
      "# x0s = [200,170,850,650,1100,750,400]\n",
      "# dx0s = [0,0,0,0,0,0,0,0,0]\n",
      "\n",
      "x0s = [5000,700,850]\n",
      "dx0s = [0,0,0]\n",
      "\n",
      "for j,filename in enumerate(filenames):\n",
      "    oa = oscillo_ana.oscilloscope_analysis(indir=indir,filename=filename)\n",
      "    oa.get_data(use_timetrace=False,x_min=0,x_max=10000,data_col=3)#1400)\n",
      "    oa.plot_data()#plot_mod=True)\n",
      "\n",
      "    # lws_old=lws[:-1]\n",
      "    lws = np.array([])#lws_old## \n",
      "    As = np.array([])#lws_old## \n",
      "    gammas = np.array([])#lws_old## \n",
      "    nr_lws=10\n",
      "\n",
      "    x0 =x0s[j]\n",
      "    windowsize=5000# print len(x)\n",
      "    # xi = int(len(x)/nr_lws)\n",
      "    # print xi \n",
      "\n",
      "    x,y = oa.get_data(use_timetrace=False,data_col=3)\n",
      "    # lw,u_lw = oa.plot_and_fit_with_EOM(EOM_freq=EOM_freq)\n",
      "    # print lw\n",
      "\n",
      "    for i in np.arange(nr_lws):\n",
      "        xi = int(x0+(len(x)*i/nr_lws))\n",
      "\n",
      "        if i%2==1:\n",
      "            xi=xi+dx0s[j]   \n",
      "        if (xi-windowsize)>0:\n",
      "            x_min = xi-windowsize\n",
      "        else: \n",
      "            x_min = 0\n",
      "        if (xi+windowsize)<len(x)-1:\n",
      "            x_max = xi+windowsize\n",
      "        else:\n",
      "            x_max =-1\n",
      "        oa.get_data(use_timetrace=False,x_min = x_min, x_max=x_max,data_col=3)\n",
      "    #     oa.plot_data()\n",
      "        print i\n",
      "        lw,u_lw,A1,u_A1,gamma1,u_gamma1 = \\\n",
      "            oa.plot_and_fit_with_EOM(EOM_freq=EOM_freq,\n",
      "                g_gamma1=500, g_dx=1000,g_A2=10000,g_A3=10000,show_fit=True,print_fit=False)\n",
      "        lws = np.append(lws,lw)\n",
      "        As = np.append(As,A1)\n",
      "        gammas = np.append(gammas,gamma1)\n",
      "        if i>1:\n",
      "            break\n",
      "\n",
      "    print lws\n",
      "    print len(lws)\n",
      "    print np.average(lws)\n",
      "    print np.std(lws)\n",
      "\n",
      "    f = open(os.path.join(indir,filename+'_fitted_lws.txt'), 'w')\n",
      "    np.savetxt(f,lws)\n",
      "    f.close()\n",
      "    f = open(os.path.join(indir,filename+'_fitted_As.txt'), 'w')\n",
      "    np.savetxt(f,As)\n",
      "    f.close()\n",
      "    f = open(os.path.join(indir,filename+'_fitted_gammas.txt'), 'w')\n",
      "    np.savetxt(f,gammas)\n",
      "    f.close()\n",
      "\n",
      "# plt.show()\n",
      "\n",
      "# x,y = oscillo_ana.plot_data(indir, filename,use_timetrace=False,x_min=x_min,x_max=x_max)\n",
      "\n",
      "# oscillo_ana.plot_and_fit_with_EOM(indir, filename,EOM_frq,g_a1, g_A1, g_x01, g_gamma1, g_dx, g_A2,g_A3,fixed=fixed,use_timetrace=False)"
     ],
     "language": "python",
     "metadata": {
      "scrolled": true
     },
     "outputs": [],
     "prompt_number": null
    },
    {
<<<<<<< HEAD
     "data": {
      "image/png": "iVBORw0KGgoAAAANSUhEUgAAAtoAAAEZCAYAAACpeoK0AAAABHNCSVQICAgIfAhkiAAAAAlwSFlz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\nA1Roi4iIiIhkwP8HG3YAWUht/gQAAAAASUVORK5CYII=\n",
      "text/plain": [
       "<matplotlib.figure.Figure at 0xbd2edd8>"
      ]
=======
     "cell_type": "code",
     "collapsed": false,
     "input": [],
     "language": "python",
     "metadata": {
      "scrolled": true
>>>>>>> 809bae249b85397ab865dc86bdf899c1a0465fe8
     },
     "outputs": [],
     "prompt_number": null
    },
    {
     "cell_type": "code",
     "collapsed": true,
     "input": [
      "######################below are functions used to analyse oscilloscope data\n",
      "#### that is saved in a text file (old style)\n",
      "#### but did not have information about the ascending or descending slope of the cavity length modulation.\n",
      "#### as long as newer linewidth analysis files are used, this code is not longer needed.\n",
      "#### but it has been used to analyse opart of the data for the cavity characterisation paper"
     ],
     "language": "python",
     "metadata": {},
     "outputs": [],
     "prompt_number": null
    },
    {
<<<<<<< HEAD
     "data": {
      "image/png": "iVBORw0KGgoAAAANSUhEUgAAAtoAAAEZCAYAAACpeoK0AAAABHNCSVQICAgIfAhkiAAAAAlwSFlz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\nJEkaAxttSZIkaQz+H2kjTaJuU3KGAAAAAElFTkSuQmCC\n",
      "text/plain": [
       "<matplotlib.figure.Figure at 0xbd4a9b0>"
      ]
=======
     "cell_type": "code",
     "collapsed": false,
     "input": [
      "# indir='D:\\measuring\\data/20160819/OND_L2_V9p866'#\n",
      "lws_from_file={}\n",
      "for filename in filenames:\n",
      "    print filename\n",
      "\n",
      "    f = open(os.path.join(indir,filename+'_fitted_lws.txt'), 'r')\n",
      "    lws_from_file[filename] = np.loadtxt(f)\n",
      "    f.close()\n",
      "    \n",
      "    print len(lws_from_file[filename])\n",
      "\n",
      "    os.listdir(indir)\n",
      "    # filename='NICE_LWS00058'\n",
      "    reload(oscillo_ana)\n",
      "    oa = oscillo_ana.oscilloscope_analysis(indir=indir,filename=filename)\n",
      "    oa.get_data(use_timetrace=False,x_max=2000)#5000\n",
      "    oa.plot_data(plot_mod=True)\n",
      "    #oa.get_data(use_timetrace=False,x_min=-2000)\n",
      "    #oa.plot_data(plot_mod=True)"
     ],
     "language": "python",
     "metadata": {
      "scrolled": true
>>>>>>> 809bae249b85397ab865dc86bdf899c1a0465fe8
     },
     "outputs": [],
     "prompt_number": null
    },
    {
     "cell_type": "code",
     "collapsed": false,
     "input": [
      "first_lw_directions = ['u','u','u','u','u','u','d']"
     ],
     "language": "python",
     "metadata": {
      "scrolled": true
     },
     "outputs": [],
     "prompt_number": null
    },
    {
     "cell_type": "code",
     "collapsed": false,
     "input": [
      "#IF SINGLE FILE EXECUTE THIS CELL:\n",
      "for i,filename in enumerate(filenames):\n",
      "    first_lw_direction = first_lw_directions[i]\n",
      "\n",
      "    updown_mean_lws,lws_up,lws_down =funcs.get_up_down_lws(lws_from_file[filename],first_lw_direction)\n",
      "    analysis=funcs.add_to_analysis_dict({},lws_up,lws_down,updown_mean_lws)\n",
      "    funcs.save_to_json_file(indir,filename+'_analysis',analysis)\n",
      "\n",
      "    print 'results of ',indir,filename\n",
      "    print_results(analysis)\n"
     ],
     "language": "python",
     "metadata": {
      "scrolled": true
     },
     "outputs": [],
     "prompt_number": null
    },
    {
     "cell_type": "code",
     "collapsed": true,
     "input": [
      "#IF THREE FILES EXECUTE THIS AND THE FOLLWING CELLS:\n",
      "\n",
      "file1_first_lw_direction = 'up'\n",
      "file2_first_lw_direction = 'up'\n",
      "file3_first_lw_direction = 'down'\n",
      "removedfromfile1=0\n",
      "removedfromfile2=0\n"
     ],
     "language": "python",
     "metadata": {},
<<<<<<< HEAD
     "output_type": "display_data"
    }
   ],
   "source": [
    "# ON DIAMOND LINEWIDTH< LENGHTS< POS2\n",
    "dir_L2 = os.path.join(datapath,'20160825/OND_POS2L2')\n",
    "dir_L3 = os.path.join(datapath,'20160825/OND_POS2L3')\n",
    "dir_L4 = os.path.join(datapath,'20160825/OND_POS2L4')\n",
    "dir_L5 = os.path.join(datapath,'20160825/OND_POS2L5')\n",
    "dir_L6 = os.path.join(datapath,'20160825/OND_POS2L6')\n",
    "dir_L7 = os.path.join(datapath,'20160825/OND_POS2L7')\n",
    "dir_L8 = os.path.join(datapath,'20160825/OND_POS2L8')\n",
    "\n",
    "L2_N0 = 70#73\n",
    "L3_N0 = 65#68\n",
    "L4_N0 = 59#62\n",
    "L5_N0 = 54#57\n",
    "L6_N0 = 49#48#49#48\n",
    "L7_N0 = 45#44\n",
    "L8_N0 = 44#42\n",
    "\n",
    "nr_files_L3= 9\n",
    "V2s=np.arange(0,0+9,1)\n",
    "V3s=np.arange(0,0+9,1)\n",
    "V4s=np.arange(0,0+9,1)\n",
    "V5s=np.arange(0,0+9,1)\n",
    "V6s=np.arange(0,0+9,1)\n",
    "V7s=np.arange(0,0+9,1)\n",
    "V8s=np.arange(0,0+7,1)\n",
    "\n",
    "\n",
    "N2s = np.arange(L2_N0 ,L2_N0+9,1)#55,63\n",
    "N3s= np.arange(L3_N0 ,L3_N0+9,1)\n",
    "N4s= np.arange(L4_N0 ,L4_N0+9,1)\n",
    "N5s= np.arange(L5_N0 ,L5_N0+9,1)\n",
    "N6s= np.arange(L6_N0 ,L6_N0+9,1)\n",
    "N7s= np.arange(L7_N0 ,L7_N0+9,1)\n",
    "N8s= np.arange(L8_N0 ,L8_N0+7,1)\n",
    "\n",
    "folder,avgs2=funcs.get_avg_array_for_Vs(V2s,1,dir_L2,tag='')\n",
    "folder,avgs3=funcs.get_avg_array_for_Vs(V3s,1,dir_L3,tag='')\n",
    "folder,avgs4=funcs.get_avg_array_for_Vs(V4s,1,dir_L4,tag='')\n",
    "folder,avgs5=funcs.get_avg_array_for_Vs(V5s,1,dir_L5,tag='')\n",
    "folder,avgs6=funcs.get_avg_array_for_Vs(V6s,1,dir_L6,tag='')\n",
    "folder,avgs7=funcs.get_avg_array_for_Vs(V7s,1,dir_L7,tag='')\n",
    "folder,avgs8=funcs.get_avg_array_for_Vs(V8s,1,dir_L8,tag='')\n",
    "\n",
    "\n",
    "#RT_OND_POS2_avgs = np.append(np.append(np.append(np.append(np.append(np.append(avgs2,avgs3,axis=0),avgs4,axis=0),avgs5,axis=0),avgs6,axis=0),avgs7,axis=0),avgs8,axis=0)\n",
    "RT_OND_POS2_avgs = np.concatenate((avgs2,avgs3,avgs4,avgs5,avgs6,avgs7,avgs8))\n",
    "RT_OND_POS2_Ns = np.concatenate((N2s,N3s,N4s,N5s,N6s,N7s,N8s))\n",
    "\n",
    "RT_OND_POS2_avgs_zoom= np.append(np.append(avgs7,avgs8,axis=0),avgs6,axis=0)\n",
    "RT_OND_POS2_Ns_zoom= np.append(np.append(N7s,N8s,axis=0),N6s,axis=0)\n",
    "\n",
    "ax = funcs.plot_updown_lws(RT_OND_POS2_avgs,RT_OND_POS2_Ns)\n",
    "ax.set_title(folder)\n",
    "plt.savefig(os.path.join(folder,'plot_lw_vs_L.png'))\n",
    "plt.show()\n",
    "\n",
    "ax = funcs.plot_updown_lws(RT_OND_POS2_avgs_zoom,RT_OND_POS2_Ns_zoom)\n",
    "ax.set_title(folder)\n",
    "plt.savefig(os.path.join(folder,'plot_lw_vs_L_zoom.png'))\n",
    "plt.show()\n",
    "\n",
    "ax,Finesses = funcs.plot_finesse_vs_length_from_avgs(RT_OND_POS2_avgs,RT_OND_POS2_Ns)\n",
    "ax.set_title(folder)\n",
    "plt.savefig(os.path.join(folder,'Finesse_vs_L.png'))\n",
    "plt.show()\n",
    "\n",
    "\n",
    "# ax = plot_mean_lws_from_avgs(avgs,Ns, label='mean pos 2')\n",
    "# ax = plot_mean_lws_from_avgs(avgspos0,Nspos0, ax=ax, style ='go',label='mean pos 0')\n",
    "# ax.set_title(datapath)\n",
    "# plt.savefig(os.path.join(datapath,'plot_lw_vs_L_2positions.png'))\n",
    "# plt.show()\n"
   ]
  },
  {
   "cell_type": "code",
   "execution_count": 7,
   "metadata": {
    "collapsed": false
   },
   "outputs": [
    {
     "ename": "AttributeError",
     "evalue": "'module' object has no attribute 'fit_clipping_radius'",
     "output_type": "error",
     "traceback": [
      "\u001b[1;31m---------------------------------------------------------------------------\u001b[0m",
      "\u001b[1;31mAttributeError\u001b[0m                            Traceback (most recent call last)",
      "\u001b[1;32m<ipython-input-7-ba50d51b11bf>\u001b[0m in \u001b[0;36m<module>\u001b[1;34m()\u001b[0m\n\u001b[0;32m      8\u001b[0m \u001b[0mg_Loss\u001b[0m \u001b[1;33m=\u001b[0m \u001b[1;36m50e-6\u001b[0m\u001b[1;33m\u001b[0m\u001b[0m\n\u001b[0;32m      9\u001b[0m \u001b[0mfig\u001b[0m\u001b[1;33m,\u001b[0m\u001b[0max\u001b[0m \u001b[1;33m=\u001b[0m \u001b[0mplt\u001b[0m\u001b[1;33m.\u001b[0m\u001b[0msubplots\u001b[0m\u001b[1;33m(\u001b[0m\u001b[0mfigsize\u001b[0m\u001b[1;33m=\u001b[0m\u001b[1;33m(\u001b[0m\u001b[1;36m8\u001b[0m\u001b[1;33m,\u001b[0m\u001b[1;36m4\u001b[0m\u001b[1;33m)\u001b[0m\u001b[1;33m)\u001b[0m\u001b[1;33m\u001b[0m\u001b[0m\n\u001b[1;32m---> 10\u001b[1;33m \u001b[0mp0\u001b[0m\u001b[1;33m,\u001b[0m \u001b[0mfitfunc\u001b[0m\u001b[1;33m,\u001b[0m \u001b[0mfitfunc_str\u001b[0m \u001b[1;33m=\u001b[0m \u001b[0mcommon\u001b[0m\u001b[1;33m.\u001b[0m\u001b[0mfit_clipping_radius\u001b[0m\u001b[1;33m(\u001b[0m\u001b[0mg_ROC\u001b[0m\u001b[1;33m,\u001b[0m\u001b[0mg_rclip\u001b[0m\u001b[1;33m,\u001b[0m\u001b[0mg_Transmission\u001b[0m\u001b[1;33m,\u001b[0m\u001b[0mg_Loss\u001b[0m\u001b[1;33m)\u001b[0m\u001b[1;33m\u001b[0m\u001b[0m\n\u001b[0m\u001b[0;32m     11\u001b[0m \u001b[1;31m# show_guess = True\u001b[0m\u001b[1;33m\u001b[0m\u001b[1;33m\u001b[0m\u001b[0m\n\u001b[0;32m     12\u001b[0m \u001b[1;31m# if show_guess:\u001b[0m\u001b[1;33m\u001b[0m\u001b[1;33m\u001b[0m\u001b[0m\n",
      "\u001b[1;31mAttributeError\u001b[0m: 'module' object has no attribute 'fit_clipping_radius'"
     ]
    },
    {
     "data": {
      "image/png": "iVBORw0KGgoAAAANSUhEUgAAAegAAAEACAYAAAB4R+XjAAAABHNCSVQICAgIfAhkiAAAAAlwSFlz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\nGgAGJNAAMCCBBoABCTQADOh/ASdITlM8xVmbAAAAAElFTkSuQmCC\n",
      "text/plain": [
       "<matplotlib.figure.Figure at 0xb606198>"
      ]
=======
     "outputs": [],
     "prompt_number": null
    },
    {
     "cell_type": "code",
     "collapsed": false,
     "input": [
      "fitted_lws_file1=lws_from_file[0:48-removedfromfile1]\n",
      "fitted_lws_file2=lws_from_file[48-removedfromfile1:96-removedfromfile1-removedfromfile2]\n",
      "fitted_lws_file3=lws_from_file[96-removedfromfile1-removedfromfile2:144]\n",
      "\n",
      "print len(fitted_lws_file1),len(fitted_lws_file2),len(fitted_lws_file3)\n",
      "#print fitted_lws_file1\n",
      "#print fitted_lws_file2 \n",
      "#print fitted_lws_file3"
     ],
     "language": "python",
     "metadata": {},
     "outputs": [],
     "prompt_number": null
    },
    {
     "cell_type": "code",
     "collapsed": false,
     "input": [
      "funcs.save_to_txt_file(indir,'fitted_lws_file1',fitted_lws_file1)\n",
      "funcs.save_to_txt_file(indir,'fitted_lws_file2',fitted_lws_file2)\n",
      "funcs.save_to_txt_file(indir,'fitted_lws_file3',fitted_lws_file3)\n",
      "\n",
      "updown_mean_lws_file1,lws_up_file1,lws_down_file1 =funcs.get_up_down_lws(fitted_lws_file1,file1_first_lw_direction)\n",
      "updown_mean_lws_file2,lws_up_file2,lws_down_file2 =funcs.get_up_down_lws(fitted_lws_file2,file2_first_lw_direction)\n",
      "updown_mean_lws_file3,lws_up_file3,lws_down_file3 =funcs.get_up_down_lws(fitted_lws_file3,file3_first_lw_direction)\n",
      "\n",
      "updown_mean_lws = np.append(np.append(updown_mean_lws_file1,updown_mean_lws_file2),updown_mean_lws_file3)\n",
      "lws_up = np.append(np.append(lws_up_file1,lws_up_file2),lws_up_file3)\n",
      "lws_down = np.append(np.append(lws_down_file1,lws_down_file2),lws_down_file3)\n",
      "\n",
      "analysis=funcs.add_to_analysis_dict({},lws_up,lws_down,updown_mean_lws)\n",
      "analysis_file1=funcs.add_to_analysis_dict({},lws_up_file1,lws_down_file1,updown_mean_lws_file1)\n",
      "analysis_file2=funcs.add_to_analysis_dict({},lws_up_file2,lws_down_file2,updown_mean_lws_file2)\n",
      "analysis_file3=funcs.add_to_analysis_dict({},lws_up_file3,lws_down_file3,updown_mean_lws_file3)\n",
      "funcs.save_to_json_file(indir,'analysis',analysis)\n",
      "funcs.save_to_json_file(indir,'analysis_file1',analysis_file1)\n",
      "funcs.save_to_json_file(indir,'analysis_file2',analysis_file2)\n",
      "funcs.save_to_json_file(indir,'analysis_file3',analysis_file3)\n",
      "\n",
      "print 'results of ',indir\n",
      "print_results(analysis)\n",
      "print_results(analysis_file1)\n",
      "print_results(analysis_file2)\n",
      "print_results(analysis_file3)"
     ],
     "language": "python",
     "metadata": {
      "scrolled": true
>>>>>>> 809bae249b85397ab865dc86bdf899c1a0465fe8
     },
     "outputs": [],
     "prompt_number": null
    },
    {
     "cell_type": "code",
     "collapsed": false,
     "input": [
      "\n"
     ],
     "language": "python",
     "metadata": {},
     "outputs": [],
     "prompt_number": null
    },
    {
     "cell_type": "code",
     "collapsed": false,
     "input": [
      "import matplotlib.pyplot as plt\n",
      "\n",
      "fig,ax=plt.subplots()\n",
      "\n",
      "ax.plot(lws)\n",
      "ax.set_xlabel('sweep nr')\n",
      "ax.set_ylabel('linewidth')"
     ],
     "language": "python",
     "metadata": {},
     "outputs": [],
     "prompt_number": null
    },
    {
     "cell_type": "code",
     "collapsed": true,
     "input": [
      "f = open(os.path.join(indir,'fitted_lws_file0010.txt'), 'w')\n",
      "np.savetxt(f,lws)\n",
      "f.close()"
     ],
     "language": "python",
     "metadata": {},
     "outputs": [],
     "prompt_number": null
    },
    {
     "cell_type": "code",
     "collapsed": false,
     "input": [
      "copy_lws_from_file=lws_from_file\n",
      "print co"
     ],
     "language": "python",
     "metadata": {},
     "outputs": [],
     "prompt_number": null
    },
    {
     "cell_type": "code",
     "collapsed": true,
     "input": [
      "f = open(os.path.join(indir,'fitted_lws.txt'), 'w')\n",
      "np.savetxt(f,new_lws_from_file)\n",
      "f.close()"
     ],
     "language": "python",
     "metadata": {},
     "outputs": [],
     "prompt_number": null
    },
    {
     "cell_type": "code",
     "collapsed": true,
     "input": [],
     "language": "python",
     "metadata": {},
     "outputs": [],
     "prompt_number": null
    }
   ],
<<<<<<< HEAD
   "source": [
    "\n",
    "### Fit rclip\n",
    "from scipy.optimize import curve_fit\n",
    "\n",
    "g_ROC = 15e-6\n",
    "g_rclip = 30e-6\n",
    "g_Transmission = 50e-6\n",
    "g_Loss = 50e-6\n",
    "fig,ax = plt.subplots(figsize=(8,4))\n",
    "p0, fitfunc, fitfunc_str = common.fit_clipping_radius(g_ROC,g_rclip,g_Transmission,g_Loss)\n",
    "# show_guess = True\n",
    "# if show_guess:\n",
    "#     ax.plot(np.linspace(x[0],x[-1],201), fitfunc(np.linspace(0,x[-1],201)), lw=2)\n",
    "fit_result = fit.fit1d(RT_OND_POS2_Ns,Finesses, None, p0=p0, fitfunc=fitfunc, do_print=True, ret=True, fixed=[0])\n",
    "\n",
    "\n",
    "x = np.linspace(min(RT_OND_POS2_Ns),max(RT_OND_POS2_Ns),10*len(RT_OND_POS2_Ns))\n",
    "   \n",
    "        \n",
    "plot.plot_fit1d(fit_result,x, ax=ax, label='Fit',show_guess=True, \n",
    "                plot_data=True,color='red', print_info= False)\n",
    "    \n",
    "# rclip_fit=fit_result['params_dict']['rclip']\n",
    "# #u_rclip_fit = fit_result['error_dict']['rclip']\n",
    "# print rclip\n",
    "\n",
    "print RT_OND_POS2_Ns\n",
    "print Finesses\n",
    "\n",
    "Z = 4e-6\n",
    "ROC = 18.3e-6\n",
    "\n",
    "\n",
    "\n",
    "x = RT_OND_POS2_Ns\n",
    "y = Finesses\n",
    "\n",
    "def clip_fit_sym(x,ROC,Z):\n",
    "    return 2*np.pi/(433e-6+np.exp(-4*ROC*Z/(637e-9/3.14*(x*ROC)**0.5*(1+x/4/ROC))))\n",
    "\n",
    "popt = curve_fit(clip_fit_sym,x,y)\n",
    "\n",
    "plt.plot(x,y,'b+:',label='data')\n",
    "plt.plot(x,clip_fit_sym(x,*popt),'ro:',label='fit')\n",
    "plt.legend()\n",
    "plt.title('Fig. 3 - Fit for Time Constant')\n",
    "plt.xlabel('Time (s)')\n",
    "plt.ylabel('Voltage (V)')\n",
    "plt.show()\n",
    "\n",
    "\n",
    "\n",
    "\n",
    "\n",
    "\n",
    "plt.savefig(os.path.join(datapath,'plot_Finesse_vs_N_rclip_fit.png'))\n",
    "plt.show()\n",
    "plt.close()"
   ]
  },
  {
   "cell_type": "code",
   "execution_count": 9,
   "metadata": {
    "collapsed": false,
    "scrolled": true
   },
   "outputs": [
    {
     "data": {
      "image/png": "iVBORw0KGgoAAAANSUhEUgAAAvoAAAEZCAYAAADmJ4FkAAAABHNCSVQICAgIfAhkiAAAAAlwSFlz\nAAALEgAACxIB0t1+/AAAIABJREFUeJzs3Xl8FOX9wPHPNwFUUDABhCTEEEKxImKtJ4oQRLAKVilK\nQUDxQG0r1oN61MaQxqtKvVCrIgUU8KbWA61RBLz4oVXxqlcMARMRuQQiGMh+f388s8tk2c0u5Fiy\nft+vV17ZmWeOZ2aemfnOs888K6qKMcYYY4wxJrmkJDoDxhhjjDHGmIZngb4xxhhjjDFJyAJ9Y4wx\nxhhjkpAF+sYYY4wxxiQhC/SNMcYYY4xJQhboG2OMMcYYk4R2y0BfROaJyNhE5yMWEQmISLcmWE9f\nEflfY68nUUTkIxHpV0d6sygPQSLyDxG5tgnW0yTlryk01jFubmWnMYhIfxFZkcD1l4nI8U28zv1E\nZJGIfC8itzblupuCiEwXkb8mOh/GmN1fnYG+iFwtIvPCxn0hIs+HjftcREaEjWspIqtFZK+w8QER\n2SgiG0TkOxEpCZ9XVU9W1Yd3bZOalAKIyAMicp4/wbsQ/+ht52oReUlEDtillai+rqoH1jez8QaG\n3vHMizD+TBF52zt+FSLyvIgcW998qWovVV3kraNQRB4KS69XeYh0fLzxR3rbsM47RotFZNyuridI\nVX+nqjd462jMIGu3+BGMhgjkGuKcb4yys7sTkT+LyPVxTBpXWRGRs0XktV3Ix0gRmbWz80VYTkM9\nvF4ArFLVdqr6pwZYntlNiMh9InK+iJwsIq951+9K7zrfxjddKxH5p/ewVykil4Ut534R+VREakTk\nrAjryRWRZ717+CoRudmXliYi/xKRTd71b1TYvKd5FVjfe/9P9aXli8h8EVkvIl9FWO8xIvJ/3nrf\nj3SP9e2Ds0VkmzftehFZKiLDvGn6+mKtTd65tcE3rkuM/TzUy8cmL1Z7WESyfOn+dQeXeZeXNsMX\n/wTTzvDSlonID96+WSsir4vIhSIideXHm7fOuEpEeorIv7198b2IvCIifcKWcZ6I/M9L/0ZEngsr\nN3/zlv2d/5jHyFfE65Z3rD/wyugaEfmPiBzopb0kIgN90/5DRGZGWMYhIrJFRPaNss+jVpIGxarR\nXwT0CR4AEekMtAAODRuX500boqpbgdeAE8KWqUBvVW0LHADMBO4WkYJYmd0NBQvmPGBIhPS/edvZ\nBVgFTI+4EJHUxsneDuINDJ8HTvaPEJHLgduA64H9gP2Be4BTGjKDjWSH4+Od/K8ArwJ5qtoB+B1w\nYgOvW2i8gDzmhTGuhTRd+Yu2/gbZjp+olwg7V+tpV8vrENx5Vl8Nda7kAJ/syoyJPh+aWnPY3rA8\nnoQra+2AYiADOBB3n/V/e1OEi02ygeOBK0VksC/9fdw1/78R1tcSKAFext3vugD+B9l7gS1AR2AM\n8A9fANcRmA1crqrtgCuBOSLSwZu3CpgGTIyw3jTgGeBv3vbdCjwrIu3CJg3uA4A3VbWtqu6LuyfP\nEZE0r4JwHy8GOQh3brULjlPVr8PX78vH6d423Aa09+avBl4Py0tw3cFlXuKNV7z4x5f2hC9tiLdv\ncoCbgau8fRKPiHGVuMrJ14GlQFcgE3gaeElEjvKm6Q/cAPzWW/+BwGO+7b4Q+DVwMNAbOEVELogj\nT9GuWx8DJ6lqGtAZV+b+6aXNo/a1eyYwTMIqx3Hl61lVXe8Nh+/zRcSiqlH/gJa4QnmoN3yGl8lX\nw8Z9HmX+C4D7wsYFgG5h44YDm4E0b/hV4FzvczdcQLYad1BnAW1985bhTpgPgA3Ag7gTcx7wPe5G\n2M43/a+Bj4C1wHzg52HLugJXUNYBjwCtfOl/AiqBr4FzgBovf3sD3wEtfNNOB/7qGz4Z2OB9LgSe\nAB4G1gPnAq2AO4AKb/m3Ay296fsDK3zLygCe9PZHKTDBl5YC/Bn40tsfb+NOiIXevt/kjT8DdwI/\n623rGmCht4zBwIu+ZbYFNgK/qaOsHAG86S2rApgS3B+4i+KtYdM/DVzq2+/H44LsH72/jcB74eXB\nGz4XdxNfA7wA7O9Lux341jv2S4GeUY7Pa8BddWzPvt6+WeWt51kg00sbAbwdNv1lwNP+Yw+0Bn4A\ntnnbs8E7dlV4Zd2b/pfeelIj5MN/PL/3jmeW71y6EPgcV57v9s0Xz3lzpbePNnvrucpXbj4CTgvL\ny3hvvwfTfwE8hDsPqrzxE71pjwbe8MrDe0B/33JexT0wvu7N143a53wesAB3bqwCHvHNewew3Lcv\n+nrjY5YdXBD7F2AZsBKYEdwnuBtOADgLKPfW++c6ysd04B+468sGbz37x8pn2Pn/qDfvO7jKj3jO\n7/Brx3nACqCTb5o9vW1b6x2nicByX3rE4wz83CsLW719uNZ37XrX25ZyoDBsX4i3P9O94bHePv4O\nV3bLgOPjuE5EukZFPQ9jHJtqryxswF1bYl5fcefDN8DMGMs/FVemvwe+AAZ748ex/fz4ErjAN88n\nwMm+4VRvm34RY1192X4elQNn+bbxbuA5b31vAbk7Wf5C95861h+rrEa9ZgBn487xKd56PgmWA999\n5UHcPXUFLmiXsHlvw13D/uqNPxh4P0pehwFLfcMVwEDfcBEwJ8J8rwX3a9i1bmGU9bT2ylaeb9xM\n4Ebvcx9gZdg8q4CjwsYNBL4KGzcE+Chs3GfAOb7h0D7w9tMiX9peuHPo8LBl5OCu0yl1lTff9MuA\nKyKc5x8CkyKtO8I5+NcoaaHrgW/cEV7+esZxbkeLqx4Gnoswz73AAu/zFcDcOpb/BnC+b/gcXGAd\na3/tENdGmGYP4Mbg+oEewKdh0/wPGOMbTvHK8dBY+7zOdcexAfOBP3qfp+AuZsVh4x70Tf8scKX3\nuQtQHmuH4L4l2Aqc6A2H3/QHetO0xwUAt4UVmjeBDrgb5Le4J/TeuIv7K0CBb8duwl34U3GB+xds\nv9GUAYuBTrgbzCd4F2vgV7ibwIG4k2m2VzC7eekvAQMiFUhcoDnbV9gKcReKU7zhPXGB4ZveNrb3\nClyRl94f70aNO9neAa71tqEr7kI7yEv/Ey546+67KKT59r3/ZnAj7iRI8ZZ1rDe+Fe4mvZc3fCLu\nxhn1IoELVo/08rc/7kn2Ei/tOH858PbtD3jBCbUDgULgobBl+8vDqbjAtgfbg+A3vLTBuJvaPt7w\nAb51hI6Pd/y24Qs+I2xPOu7GsQfQBvfU/y/f/N9T+0K/BDgjwrEPHTvftM8BF/qGbwPujJKPWMfz\nGWAfXK3VKrYHHfGcN+/iaj328MYN9+2vM3Dnin94BfBLb7gbkO1blr/sZ+JuzsHzeaA33N53PJfh\nAssUL4/+YzwHuMZXFo/xLftMr/yk4B6uvsF7GI+j7JzrlZ0c3M36qeD0bA/07/fW2RtXY3dAlOMy\n3SsDx+IqRO4AXtuJfP6IK1+puJvPV97nWOd3pGvHA9QOBG7GBc3tgCzczdkf6Nd1nHe4kQD9gIO8\nz728bfm1L/0otp+DPXEPCcH98nfctSN4fke9TkS5RkU6D6PeqCNdf73hWNfXrbjrYUu88yHKco/E\nBa3B7ckAenifTwK6+q55VXiBPFAAzPItZwjwcYxt2B8XQI/wykIaXpDtbd93wGFeGZuFL4glvvIX\nLEN1bW/UshpnWdoKXOLNO8Lbd/t66f/C3X/2xN2/FwPjw+b9vbcNwWvUVcANUfJ6R3AfeNseADr6\n0n+D70HANz5SoD8NV4kxz9vP84FeXtovgE1h018O/Nv73Ab3MDnUy/tpuIeuvcLmiTfQ/xz4u284\ntA/wna/ePv4D7gF/n7Bl5BBnoI+7b9YAORHSJrH9XN/hWhHt/AtLC93vw8aX47svxlouLq6aw/a4\n6hvg7Ajz5HtlaQ/cg3OVtx3H4KvI9aZdDxzhG/4l8H0c+yxqoI+7N6/DxRxL8SpEfMfWf737M1Di\nGz4RF9MGz7ezcdfXVcCnuIqr2Mc0jg0oBJ7yPr+PCyBODBs3to753w+eIHXtEO8gjfI+h27OEaY7\nFfhvWKEZ5Rt+ErjHN3wx25+g/gI86ksT3AnZL8qy/gbc632ehvfE7g3/jNqB/mXA5LACuRl30lXi\narBzfft0Qdh2fYkXGHnDg/EuAtQO9I8CloXNezUwzfv8Kd7TX6zCiKvh+Be+gNWX9jTbnyLPBCpj\nlZWw+f8YLCPe8DK2176eD7wcdgzjDfTnUTuoScGduNnAAG/7j8KrGfJNFzo+uEA0gHeDjnN7fgGs\n8Q0/BPzFVxa+B/b0Hfu6Av3fAq/78v8NYTUwvmljHc8+vuHH8B6y4zxvzo6xze+xPRh4EV/Ncth0\ntS7cuJrRmWHTvIh3nfCO56Q6jvFM4D68by5i5HEtcHCcZedl4CJfWg+8B1i23wgzfOn/B4yIst7p\n1A6s2uAu5BHzHCGfb/rSBFdrcywukKzr/I507RhG7XOtFO/BwBseH14G6zjOUW/evulvp3bg8Vfg\nWu9zQdh+CdZ+7nBj99LDrxN11owRdh7WMV2tQIPY19cteDX8MZZ7n3/bY0z7r+A5g7tvbmD7NWIW\n3vWjjvmv9u+bCNv3gG/4JOCTnThPFsS5DZHKaiVepVAcZenrsPT/A0bjvnXfgu8hAxgJzPfNuyzC\n8hdFWjcwCPeNT5433AV3Pvu/kT+BsMDaGx8p0P+PV24H4yoiJnrnVQtcsFgZNv35wbx7w0Nw96Vq\n3MPPSRHWGynQT/e2Y4S3rrO97fhHpH3A9geitd66qqLsn+D1LZ5A/9jwfedLuxD4LMK613n/j/SV\nz82+tFW+ZdS6X/jGv4VXwVNH3vzLDcZVXb20rXgVXWHzBB9cMrzhE4F/e8vYgKuMCH6TtA1fXAB0\nB2ri2Gfx1Ojvi/vW4d++cXcCF/uGs71yF2w9MAu43ZfeFe8BDNec6mPgqlj5i6fXnUVAX6/tWAdV\nLcXVjBzjjetFWPv8MC8Qow2piLTAtXVbEyFtPxF5RES+FpH13oZ3CJvsW9/nzRGG9/Y+Z+KeGgFQ\nt7dW4Gq9Ii3rh7B5/S9VllO7jXSkdvq3qmq6qmaq6mmqWuZLC39BMxP31O9ffiY72h/I8l5iWSsi\n64BrcBdOcAVlhxd8orgFd/F6SUS+FJGrfGn+47YG6CAiUcuLiPxM3ItL33jH6QZqH6fHgOALS2fi\nvuHYFTnAncHt9/KmuADrVdzX2fcA34p7YSl4/PzHZx3uxMyoY3v2Evey1jJvexYC+/rakz8Stj1P\nq+qWOLfhaeBAEcnB3UjWq+o7UaaNdTwjltc4z5tabTRF5CwRec97cWgd7kISnCcbV1bikQOMCCuj\nx+LaKAbV9YLyn3DB9xIR+VBEzvHlcaKIfOLLY9sI2xVNrfPf+9wC9w1eULTzP5LQNqhqFe7GkRln\nPv3zKi7Qz8Ttu7rO71rzekqAfr52zJnUPrb+bY51nHcg7qX1+eJeSFyPu9n7pz+Z7e2Fa10nVfUH\nfNf1OK4T4euOdR7GK9b19Tt175XFEvU8EJGTROQt76W7dbjguwOAd9/8BNfmdy9cE9I5u7ouz0rf\n51pldWfKXxzCy+rXbC/nscpSRdiygvs9B/ftyTe+cn5fXXn02oYfgIs//OOPxt1Phnv7GVxwDW67\ng9rhakPjsRlXGfOSqm5T1cm4b4IO9JbdNmz60LJF5JfAVFzFVitcjfI0Eekda6Wquhb3DcBE3PEd\njDu/v/aWHWkfvKWq6bhA8hlcjX99rPb+R7o/ZvjSQ+tW1TTv/xJf2q2+tP2ILQt3DY0lPK5a5st3\ntDwHcPd9VPU/qnqqt89OxbVSOd+bNvzYtmN7WaoXdW3sJ+KuAcF11IobVXUF7sFzjLgXhE/DVXwF\n05eparn3+WNcJcvpsdYdT6D/Fq4Ajcd93YmqbsQ9TY0HKoIrjuJ5Ir+o6nca7mns7QhpN+IO0kHq\nXjYZw66/hFiJu8D4ZRMW8ETxjTdtUA6+FzBU9TOghYh0jTMvGjZcEZa3HFx+w63A1QKk+06idqoa\nfCl2Oa72KHYGVKtUdaKq5uFuPJeLyAAv2f9C7lu4p8zT6ljcP3Dty/K843QttY/TI8DpIrI/rsb9\nqWjZipHtFbiv9/zbv7eqLva26W5VPRzXhOAAXNBY6/io6mZvm4bXsZ4rcDX1R3jbE3yzPbhNJUBH\nETkEVxMV7aa9w/ao6o+4dq9jceW5rl5h4j6eYeI5b0J5847LA8DvvX2ahqstCM6zoo58hG/jClzN\nuv8Y7aOqt9Yxz/YE1VWqeoGqZgEXAfeKSDcR6Ys7nqf78rjBl8dYZSf8/M/BXXe+jTx5TKHrgfdA\nmQ5UxpHP8HkFVwMZbKtc1/kNYdupqptw35we542KdK0KrivWcY60D+fgHk6zvLJ0f3B6cZ0xdFbV\n9yKtW0Ra4wKkoFjXiXCxzsN4xbq+xio7QRHPAxFphfs2+RZcc5E0XGWJP5+P4ioFTsU124lVIbMC\nV6O4U0TkOGKXv3i3F6KU1TjKEtSuRANXURUs51twzfmC5XxfVfUHw+F5PBFXa+6/bh2KK5vjVHVB\naEYXVH0DHOKb/xAvf/H4IML6gz7H3Uv85cC/7ONxAfB7Xl7ewX2TEd4xSUSq+pqqHqmug4izcA8X\nwQB6h33gm+8HXFOn/hJHTyx1rP8zXEx0hn+8d+yH474ZbVAicgTuAfD1eizmZcLy7Pkt7njsUBHn\nVQ7Ox1VYgzuG/jLzC+IvM/Foift24UdveAFwuIjs6ZtmJu64D8fdC96PscyY18KYgb63c97BtUHz\nd7v2hjcu1hu/bwI/9z3BbM+d66JqNK4W9mZVXRdh/n1wT1QbxXXtVJ+u0h4HhojIABFpISITcReb\nt+Kcd5yIHOjdvK6LMM0LxH6oieZR4C8i0kHc2/kFRA4Al+D2xZUisqeIpIrIQSJyuJc+DSgWke4A\nInKwuG9ewNUQhLqAEpEhvovVRtzXVgEAdW/kfy8iB6nqBtxXuPeIyKleLVsLrwYr2P3UPriXYn4Q\nkZ/jejMI8QrrGtzLVy96y4zkW6BrHTV29wF/FpGe3ja0E9dDACJyuFf72AJXI7MluD0e//G5Enc8\nrxCRdG/+Q0TkEd/2bAY2eOmTwrZnGy5YvxXXdrakju1pH6H8P4yrSTiFugP9uo5nXXb2vGmD21er\nRSTFq0Xv5Ut/EJjo1VYhInkiEgwAvsVXrnDfHpwiIoO9Ze0prpvRSN9Q7UBETpft3bit9/IV8LZp\nK7BGXNd513njgmKVnUeAy0SkqxeY34BryhcsIzsbPJ4sriu8Vrj3lt5S1Yo48glwmLgu+FJxzcq2\n4Nooxzq/o/GX7ceBa8R1x9YF13wxKNZx/hboIq7XkaC9gXWqulVEjsQFq0G/wjXLCnoSGOrtl5a4\nGif/fq3zOkHYNYoY5+FOiPf6Gss04BzvHiIikikiPXDvdbQCVqtqQEROwtXGhudhMG6bY9Xmg6ul\nHuidD6kiku5VLMSyN7HL386IVlZjlSWA/URkgne/OAP3Xs48VV2Je2/qdhHZx9uX3WIEqCfjKqAA\nEJFeuHI/QVUj9fj0MO6Y7yuuR5zx+Hq+E9cF+J648tlKRPbwXTtmAUeLyPHetl2Ga6v/Py+gngv8\nVURai3uwPwXXnBPcQ8JxwWMl7mGkrzceb1v3wJWXFG+9ofNNRH7h7a+2uGYly1U1eH+ptQ/CeTHU\nA7hvAcPtzPXtT7h9N9LLX2dc2d8H9y5Eg/CO/VDctflhr5Z6VxXhWpoUi4st9xaRCbhKriu99f1a\nRH4rIvt6w0fimu4FY8CHcBWemd496HKi9JYYwR7evgr+pYjIMBHp4R3zjrjjOc+r7AtW+r2Ja8YV\n9BTugbgIX22+l99fich+3uef45qjPx0rY/H+YNZCXNMa/9PWa964hWEZmSciVweHvZvofLZ3W6jA\nUhHZgHsR9lzci71FvsX4n1aLcC8crce96BteExz+ZFtXTeHnuIN+N+6kHYJrT7gtjnlfxBXw+bgn\n+lciTBatm814XI97oPoA98LGO7hAJDwfAdxLPr/AtXVbhfuaMBhI3oa70b8kIt/jArRgd01FwEPi\nvio9HVdT9rKIbMQ9uN2jqv7jGWq+o6q34Qr9X7x1LsfVHgQL2URgtHdc78fd1MLNwRXo8GY7/v3+\nBO6CtEZE3glPV9WncS8bPiruq/wPcMEG3j6Yivv6rwz3VZ6/Fjl0fFT1LVzNy0CgVERW4x4ighfR\nO3Dti1fjTsRIN5JHvPkf9wWL4fn9zJvuK2+/d/bGv+FN9673dV00dR3Pumrlduq8UdX/4S5Ci3HB\n1kH4zndVfRJXHud4x/hfuBpsgJuAAm/7LvceEk/FvVj0He7r+olsv95Eyrd/3BHA/3nreRr3suYy\nXLvZ/+DOvzJccwX/vquz7OB6DHsYVzlR6s1/iS897muJZw4u8FwDHIq7thBHPsG1Ef0t7uvk0cAw\nVa2J4/yOxn/tKcKdn2W4IDz02wKxjjPu+vYxsFJEVnnj/oB72Pwed/4/5pu+VreaqvqJN/0juJrb\nNdT+xjTWdWISta9RtxP7PIwk/NjFdX2NuVDVt3E9cdyBey9nAa7N7CZcWXpCXJPCkbhj7J93JS6g\nOJra+zDaulbgrr8Tcde093AviccST/nbGdHKaqyyBK4m+2e441eMa14TrNA7CxfsfoLbvieo3bwv\n3InUfqi8HNfUZ5q4PsU3isiHvvRCXLPHcly5vtkXMIN70PgB10vO/d7n46BWrHC/l7dTcC+gB2OF\nP+DKZbBHs4tU9VNv3pdw3+zM9cr5E7iXZ4M14f1wD6/P4b4t+QF3vIKu9PZXOa5Z4bA69kEkdwD5\nsmNTobi/xVHVx3HfOF/u5eUj3Musx0apkN1hETHSn/WuJ8txDyWTcbHgLi9XVb/EPVD9AvdOYCVu\n3w0OfuOPK8Pjgc+99T+E667zUW8Z9+Pulx/irhPPqOrUOPP1Ee5Ybvb+j8N9o/Ui7hu1/+Lux+PC\n5q1VQew9SD6F+4YjPFYaCHzgxWzP4SpWboqVueALCI1K3I9RDFDVc2JO3Ix5T+lfA12CT2wNtNwB\nwFRV3emvceu53n64nikGxJy4GYh1fERkGi7I+jbsK+Rg+q9xN6sA7uu3K1V1fj3y8zLuxcV/xpzY\n7FZEZDquy9tI3+zFmrcQ13Rlhx/pqWeevsR1J1hXU8qGXF8qrnlENy/QNUmmPmVVRM4GzlPVXW5G\n4lvWEcAUVT26vstqrmwfJCdxTeAWqGqj/cp9vDX69fUckdvfJxUveLyS2m1SG8LBuJqZpvYGtWsa\nmrU4js906v7BrJdV9RBVPRRXq/fAruZFXFOMQ4mjZs+YOP0J15yiqaTjui62IN80hcJEZ2A3YPsg\nyajqcmCKuCbhjaJFYy3YT92b5Pc2xboSTVXjbc8VFxG5A/e1YYPW/sVDVWtwzWSSRl3HR1VfF9cT\nTrT0H3yDe1O794G4icgMXNOWS9T11mKan8b/KnQnqeq/mnh93+GaNiSE9/W1/zgEf9X3JK9p3K4u\n9xpcs7PwY/yaqu5q08xo6zoTtw/Dt2OZqh7ckOuqIw/zcE1WgnkI7scb2U3Kuddk6ietofdBY50/\n9SUiH+HaqIdG4fJ1oao+EnmuRs9TX1wTmx32l7pf6a0XVb29vsuoS5M03TGmufAC/WcjNd3x0k/D\ntYnrjOuXe0mk6YwxxhhjEq2pmu4YkxRU9WlVPZDYveUYY4wxxiRUkzTdMSbZeM18WohIe1WN9ENv\n9lWZMcbsAlXd1d/KMcaEsRp9Y2oTovQ3LL4fSBGvP/lIQX6QxvhZ6vr+TRo4kE24RoPBv03ApIED\nG33dhYWFjb6ORP0l87bZ9jX/v2TfPmNMw7IafWM8IjIH93Pl7UVkOa6Hg1a4F24eAIZ7XcVWA1W4\nvqUTJlBTs0MXK22AQCAQaXJjjDHG/MRYoG+MR1XPjJF+C+6HUHYLKampVFG7P8UqICXFvqgzxhhj\njDXdMabZGjd1KoV5eQT756wCCvPyGDc1nh/yq5/8/PxGX0eiJPO2gW1fc5fs22eMaVjWvaYxjUBE\ntCnOrfKyMmYUFBCorCQlM5NxxcXk5OY2+nqNMaYxiAhqL+Ma02As0DemETRVoG/MruratSvl5eWJ\nzob5icrJyWHZsmU7jLdA35iGZYG+MY3AAn2zu/MCqkRnw/xERSt/Fugb07Csjb4xxhhjjDFJyAJ9\nY4wxxhhjkpB1r2mMMWa7BQvcX/BzsJeX/PztnxtzfmOMMQ3G2ugb0wisjb7Z3cXVRl8E6lOO6zv/\nbmrhwoWMGTOGFStWANCrVy/uvfde+vXr12R5SElJ4csvv6Rbt25Nts6GZG30jWkaVqNvjDHG7CSR\n7bHoRx99lND1G2NMNNZG35hmrKysnDFjihgwoJAxY4ooK7PuEk39lZeVUTRmDIVA0ZgxlJeVNen8\nJjb7xtAYEw8L9I1ppsrKyhk0aAqzZ09kwYIiZs+eyKBBUyzYN/VSXlbGlEGDmDh7NkXAxNmzmTJo\nUNzBen3nD/rb3/5G9+7dadu2Lb169eLpp58OpZWWlpKfn8++++7Lfvvtx6hRo0JpH3/8MYMHD6Z9\n+/ZkZGRw8803Ay4wvvnmm+nevTsdO3Zk5MiRrF+/3uW5vJyUlBQeeughcnJy2G+//bjxxhtDy9yy\nZQvjxo0jPT2dXr168fbbb9fKa25uLvPnzwegqKiI3/72t5x99tm0bduWgw8+mHfffTc07bvvvssv\nf/lL2rVrx4gRIxg5ciTXXXddxH1Q13b6bdiwgbPOOov99tuP3NxcbrjhhlDazJkz6du3LxMmTGDf\nffelZ8+eobwG5z3//PPJzMwkOzubgoICe4gwJpmoqv3Zn/018J87tRrXwIGTFDapawQd/NukAwdO\navR1m+YvWhmdNHq0bqpdqHQT6KTRo+Nabn3nD3ryySd15cqVqqr6+OOPa5s2bULDo0aN0htvvFFV\nVX/88Ud94403VFV148aNmpGRobfffrv++OOPumnTJl2yZImqqt5xxx3ap08frays1Orqar3ooot0\n1KhRqqqEHQ1WAAAgAElEQVS6bNkyFRG94IIL9Mcff9SlS5fqHnvsoZ9++qmqql511VXar18/Xb9+\nvX799dfaq1cvzc7ODuW1a9eu+sorr7jtnzRJ99prL33xxRc1EAjoNddco0cffbSqqlZXV2tOTo5O\nmTJFt23bpnPnztVWrVppQUFBxH0QbTtVVUVES0tLVVV17Nixetppp2lVVZUuW7ZMe/Toof/85z9V\nVXXGjBnaokULvfPOO3Xbtm362GOPabt27XTdunWqqnraaafp7373O928ebN+9913etRRR+kDDzyw\nU8dqV0Qrf974hF/D7c/+kuXPavSNaabWrAkAbcLGtmHt2kAismOSRKCiIkKpgkBlZZPMHzR8+HA6\ndeoEwBlnnMHPfvYzlixZAkDLli0pLy+noqKCVq1accwxxwDw3HPPkZGRwaWXXkqrVq1o06YNRxxx\nBAD3338/N9xwAxkZGbRs2ZLrrruOJ598kkDAnS8iwqRJk2jVqhW9e/fmkEMOYenSpQA88cQT/OUv\nf6Fdu3ZkZWVxySWX1Jn3vn37cuKJJyIijB07lg8++ACAt956i5qaGi6++GJSU1MZNmwYRx55ZNTl\nRNtOv0AgwGOPPcbNN99M69atycnJ4YorruDhhx8OTdOpUycuueQSUlNTGTFiBAcccADPP/88q1at\n4oUXXuD2229nzz33pEOHDlx66aU88sgjcR0jY8zuzwJ9Y5qpgw5KAarCxlbRs6ed1mbXpWRlRShV\nkJKZ2STzBz300EMceuihpKWlkZaWxscff8zq1asBuPXWWwkEAhx55JEcfPDBTJ8+HYAVK1aQl5cX\ncXnl5eUMGzaM9PR00tPT6dmzJy1btuTbb78NTRN8sABo3bo1mzZtAqCyspIuXbqE0nJycurMe+fO\nnWstZ8uWLQQCAb755huysrJqTZudnR11OdG202/16tVs27aN/fffv1b+KioqQsPh68zJyaGyspLy\n8nK2bt1KRkYG6enppKWlcdFFF4X2szGm+bOIwJhmqrh4HHl5hWwP9qvIyyukuHhcwvJkmr9xxcUU\n5uX5ShUU5uUxrri4SeYHWL58ORdccAH33nsv69atY926dRx00EGourbj++23Hw888AAVFRXcd999\n/P73v+err74iOzub0tLSiMvcf//9eeGFF1i7di1r165l3bp1VFVVkZGRETM/GRkZoa40wT007IqM\njIxaAThQa7nhom2nX4cOHUI1//78+YP78HUuX7481CZ/zz33ZM2aNaF9sn79+tA3EMaY5s8CfWOa\nqdzcHEpKJjB69GQGDChk9OjJlJRMIDe37tpGY+qSk5vLhJISJo8eTSEwefRoJpSUkJOb2yTzA1RV\nVZGSkkKHDh0IBAJMnz69VheWTz75ZCh43XfffUlJSSElJYWhQ4eycuVK7rrrLqqrq9m0aVOouc+F\nF17In//8Z5YvXw7Ad999xzPPPBNaZvAhIpIRI0Zw0003sX79er7++mvuvvvuuLfFv+w+ffqQmprK\nPffcQ01NDf/+979D+Ysk2nb6paSkMGLECK699lo2bdpEeXk5t99+O2PHjg1Ns2rVKqZMmcK2bdt4\n4okn+PTTTzn55JPp3LkzgwcP5rLLLmPjxo2oKl999RWLFi3aqe0zxuy+LNA3phnLzc1h1qxC5s8v\nYtasQgvyTYPIyc2lcNYsioDCWbN2KkhviPkPPPBArrjiCo4++mg6d+7Mxx9/TN++fUPpb7/9Nkcd\ndRRt27bltNNO46677qJr167svffelJSU8Mwzz9C5c2d69OjBAu9Xev/4xz9y6qmnMnjwYNq1a8cx\nxxxTK8gO75feP1xYWMj+++9Pbm4uv/rVrzjrrLOiThtJML1ly5bMnTuXBx98kLS0NObMmcMpp5zC\nHnvsEXG+aNsZvs677rqL1q1b061bN/r168eYMWM455xzQulHHXUUX3zxBR06dKCgoICnnnqKtLQ0\nwDWRqq6upmfPnqSnp3PGGWewcuXKOrfHGNN82C/jGtMI7Jdxze7Ofhl393D00Ufzu9/9jrPPPrtR\nlj9z5kymTZu229XS2y/jGtM07JdxjTHGbLdggfsD6N8fJk1yn/Pz3V9jz5/kFi1axAEHHECHDh2Y\nNWsWH374Ib/61a8SnS1jTJKyQN8YY8x29Q3ILaCv02effcaIESP44Ycf6NatG0899VSt3n6MMaYh\nWdMdYxqBNd0xu7u4mu4Y00is6Y4xTcNexjXGGGOMMSYJWaBvTDNWtqyMMZeMYcC4AYy5ZAxly8oS\nnSVjjDHG7Cas6Y4xjaApmu6ULStj0MWDKD2kFFoB1ZC3NI+Su0vI7bpz3Rmanx5rumMSyZruGNM0\nLNA3phE0RaB/wnkn8ErnV1yQH1QNA1cO5OVpLzfquk3zZ4G+SSQL9I1pGtbrjjHNVE1NTe0gH6AV\nBGoCCcmPSQ4Lli1gwbIFoc/5XfMByO+aH/rcmPMbY4xpOFajb0wjSNYa/fKyMmYUFBCoqCAlK4tx\nxcU7/aunZvcQT42+FAlauOvluL7z+51zzjlkZ2fz17/+tUGW15gGDBjA2LFjOffcc5kzZw4PPfQQ\nL774YpOtv6ioiC+//JKHH364yda5s6xG35imYTX6xjRTUwumRmyjP/XuqY2yvvKyMqYMGkRRaSlt\ngCqgcPFiJpSUWLBvTBRnnnkmZ555ZpOvV8RiZWOM9bpjTIiITBORb0XkgyjpZ4rIUu/vdRE5uKnz\n6JfbNZeSu0sYvXE0A8oGMHrj6EZ9EXfG+PGhIB+gDVBUWsqM8eMbZX0mcYK9OfEqu9SbU33nN8YY\n0zAs0Ddmu+nAiXWkfwX0U9VDgOuBxqk63wm5XXOZddcs5s+Yz6y7ZjVqbzuBmppQkB/UBggE7J2A\nZBLszWn2PrNhAMzeZzaDLh4Ud7Be3/mD3nvvPQ477DDatWvHyJEj2bJlS6305557jkMPPZS0tDT6\n9u3Lhx9+GEr729/+RpcuXWjbti0HHnggr776KuDK6o033kj37t1p164dRxxxBBUVFQB8+umnDB48\nmPbt23PggQfyxBNPhJZ3zjnncPHFFzN06FDatm1Lnz59KCvbvj0lJSUceOCBpKWlMWHChFpNUmbO\nnMlxxx0XGk5JSeH++++nR48epKenc/HFF4fSAoEAV1xxBR07diQvL4977rmHlJSUqOdYtO0M98wz\nz9CrVy/S09M5/vjj+fTTT0Npubm53HzzzRx00EG0b9+e8847j+rq6rj2szGmGVBV+7M/+/P+gBzg\ngzim2xdYUUe6JptJo0frJlD1/W0CnTR6dKKzZnZBtDI6esJo5c8ok3x/f0ZHT4jvONd3flXV6upq\nzcnJ0TvvvFO3bdumTz75pLZs2VILCgpUVfXdd9/V/fbbT99++20NBAL60EMPadeuXbW6ulo/++wz\nzc7O1pUrV6qqanl5uX711VeqqnrLLbdo79699YsvvlBV1Q8++EDXrl2rVVVVmp2drTNnztRAIKDv\nv/++dujQQf/3v/+pquq4ceO0Q4cO+s4772hNTY2OHj1aR40apaqqq1ev1n322Ufnzp2r27Zt09tv\nv11btGih06ZNU1XVGTNm6HHHHRfaNhHRU045RTds2KDLly/Xjh076n/+8x9VVf3HP/6hBx10kFZW\nVur69ev1hBNO0JSUFK2pqdlhH9W1nZMmTdKxY8eGpmvTpo2+8sorum3bNr3lllu0e/fuunXrVlVV\n7dq1qx588MFaUVGh69at02OPPTau/Vxf0cqfNz7h9wL7s79k+bMafWN2zfnAC4nORFMaN2QIhWlp\nVHnDVUBhWhrjhgxJZLZMA6vYUBGxN6fKDZVNMj/A4sWL2bZtG5dccgmpqakMHz6cI444IpQ+depU\nLrroIg4//HBEhLFjx7LHHnuwePFiUlNTqa6u5qOPPmLbtm3sv//+5HrvkEybNo0bbriB7t27A3Dw\nwQeTlpbGc889R25uLmeddRYiwiGHHMLw4cNr1eoPGzaMww47jJSUFEaPHs37778PwLx58+jVqxfD\nhg0jNTWVSy+9lM6dO9e5fddccw377LMP2dnZDBgwILSsJ554gj/+8Y9kZGTQrl07rr766qjLqGs7\n/R5//HGGDh3K8ccfT2pqKhMnTmTz5s28+eaboWkmTJhAZmYm++67L9deey2PPPJIzP1sjGkeLNA3\nZieJyADgHOCqROelKeWMGsWE//6XyaNHUzhgAJNHj2bCf/9LzqhRic6aaUBZbbOgOmxkNWS2zWyS\n+QEqKyvJysqqNS4nJyf0uby8nL///e+kp6eTnp5OWloaX3/9NZWVleTl5XHHHXcwadIkOnXqxJln\nnsnKlSsBWLFiBd26ddthfeXl5SxevLjW8ubMmcO3334bmsYfvLdu3ZpNmzaF8pqdnV1reeHD4Tp1\n6hTXsupaTl3b6VdZWVlr34kI2dnZoSZLAF26dAl9zsnJobLSPZTVtZ+NMc2D9bpjzE4Qkd7AA8Cv\nVHVdXdNOmjQp9Dk/P5/8/PxGzVtTyMnNpXDWrERnwzSi4suLWXzx4h16cyq+u7hJ5gfIyMioFYgC\nLF++PFQTn52dzbXXXss111wTcf6RI0cycuRINm3axAUXXMBVV13FzJkzyc7OprS0lJ49e9aaPjs7\nm/z8fP7zn//EnUd/XpcvX15r3IoVK3Z6OcFlff3116Hh8OWGi7adfpmZmXz00Uc75M8f3PvzW15e\nTmameyiLtZ8bwoIFC1iwYEGjLd+Ynzqr0TemNvH+dkwQ2R94ChirqqWxFjRp0qTQXzIE+eanwd+b\nE6+y07051Xd+gD59+tCiRQumTJnCtm3bmDt3LkuWLAmljx8/nvvuuy80rqqqinnz5lFVVcXnn3/O\nq6++SnV1Na1atWKvvfYiJcXd6s4//3wKCgr48ssvAfjwww9Zt24dQ4cO5fPPP2fWrFls27aNrVu3\n8s477/DZZ5/FzOuQIUP45JNPePrpp6mpqeHOO++MWLMejxEjRnDnnXdSWVnJ+vXrueWWW6JOW9d2\nhi/z+eef59VXX2Xbtm1MnjyZPffckz59+oSmueeee6ioqGDt2rXceOONjBw5Eqh7PzeU/Pz8WtdK\nY0zDskDfGI+IzAHeBHqIyHIROUdELhSRC7xJCoB04F4ReU9ElkRdmDHNWLA3JwawS7051Xf+li1b\nMnfuXKZPn0779u154oknGD58eCj9sMMOY+rUqVx88cWkp6fTo0ePUE32jz/+yNVXX03Hjh3JzMzk\nu+++46abbgLg8ssvZ8SIEQwePJh27dpx/vnns3nzZvbee29eeuklHn30UTIzM8nMzOTqq6/mxx9/\njJnXYP6uuuoqOnToQGlpKX379o06fXj/9v7h8ePHM3jwYHr37s1hhx3GkCFDaNGiRcQAvq7t9OvR\nowezZs3i4osvpmPHjjz//PM8++yztGix/Qv9M888k8GDB9O9e3d+9rOfce2118bcz8aY5sF+GdeY\nRtAUv4xrTH00t1/G/Sl68cUX+d3vflerK8+Glpuby7Rp0zj++OMbbR2R2C/jGtM0rI2+McaYkAXL\nFrBg2QIA+uf0Z9KCSQDkd80nv2t+o8//U7ZlyxZeffVVBg8ezMqVKykqKuI3v/lNorNljGnGrEbf\nmEZgNfpmdxdPjb5pWps3b6Z///589tln7LXXXgwdOpQ77riDvffeu9HW2a1bNx588EGr0TcmSVmg\nb0wjsEDf7O4s0DeJZIG+MU3DXsY1xhhjjDEmCVmgb4wxxhhjTBKyl3GNMXErKyunoGAGFRUBsrJS\nKC4eR25uTsz5jDHGGNP0rI2+MY0gGdvol5WVM2jQFEpLi4A2QBV5eYWUlEywYL8Zsjb6JpGsjb4x\nTcMCfWMaQTIG+iecUMQrr0zEBflBVQwcOJmXXy5MVLbMLooWaC1Y4P6Cn4M/6pyfv/1zXeo7v/lp\nsEDfmKZhTXeMMXGpqQlQO8gHaEMgEEhEdkwj8QfkItuD9qaaf3c3c+ZMHnzwQV577bW4pk/UD1IZ\nYwzYy7jGmDilpqYAVWFjq0hJscuI+WkRsQpnY0zzYHdoY0xcpk4dR15eIduDfddGf+rUcQnMlWkM\nZWXljBlTBBQyZkwRZWXlTTq/McaYhmGBvjEmLrm5OZSUTGD06MkMGFDI6NGT7UXcJBR86Xr27IlA\nEbNnT2TQoClxB+v1nT8oJSWFr776KjR8zjnncN111wGwcOFCsrOzuemmm+jYsSPdunVjzpw5UZc1\nY8YMevbsSdu2benevTsPPPBAKC24rNtuu41OnTqRlZXFjBkzQulr167l17/+Ne3atePoo4+mtLS0\nznw//PDDdO3alY4dO3LjjTfWSquurubSSy8lKyuLLl26cNlll7F161YA8vPz+de//gXAG2+8QUpK\nCi+88AIA8+fP59BDDwVc06HjjjuOP/3pT6Snp5OXl8eLL74YNT+5ublMnjyZ3r1707ZtW84//3xW\nrVrFySefTLt27Rg8eDDff/99aPrFixdz7LHHkpaWxqGHHsrChQsbZD8aYxLDAn1jTNxyc3OYNauQ\n+fOLmDWr0IL8JFRQMMPXsxJAG0pLiygomNEk8wfFah6zcuVK1q5dS2VlJTNmzOCCCy7giy++iDht\np06dmDdvHhs2bGD69OlcdtllvP/++7WWtXHjRiorK3nwwQf5wx/+EAp+f//739O6dWu+/fZbpk2b\nxj//+c+oefrkk0/4/e9/z+zZs6msrGTNmjVUVFSE0q+//nqWLFnCBx98wNKlS1myZAnXX389AP37\n92eB90LDokWLyMvLY9GiRYALovN9bzIvWbKEAw88kDVr1vCnP/2J8847r859NXfuXObPn89nn33G\ns88+y0knncTNN9/Md999R01NDXfddRcAFRUVDB06lOuuu45169YxefJkhg8fzpo1a+q9H40xiWGB\nvjHGmJCKisgvXVdWxvfSdX3nD4rVa5WIUFxcTMuWLenXrx9Dhgzh8ccfjzjtSSedRNeuXQE47rjj\nGDx4cK2XaVu1akVBQQGpqamcdNJJ7L333nz22WcEAgHmzp1LcXExe+65JwcddBBnn3121Dw99dRT\nnHLKKRx77LG0bNmS4uLiWg8sc+bMobCwkPbt29O+fXsKCwt5+OGHARfoB2vPFy1axDXXXBMaXrhw\nIf379w8tJycnh3PPPRcR4eyzz2blypWsWrUqar4mTJhAhw4dyMjI4LjjjuPoo4+md+/etGrVimHD\nhvHee+8BMHv2bIYMGcKJJ54IwMCBAzn88MOZN29evfajMSZxLNA3xhgTkpUV+aXrzMz4bhf1nT9e\naWlp7LnnnqHhnJwcKisrI077wgsv0KdPH9q3b09aWhovvPACq1evDqW3b9++1kvlrVu3ZtOmTaEa\n7y5dutRaTzSVlZVkZ2fXWk779u1rpe+///4R89ynTx8+//xzVq1axdKlSznrrLNYsWIFa9asYcmS\nJfTr1y80X+fOnUOf99prL1SVTZs2Rc1Xp06dak0fPhyct7y8nMcff5z09HTS09NJS0vjjTfe4Jtv\nvqnXfjTGJI4F+sYYY0KKiyO/dF1cPK5J5g9q3bo1P/zwQ2h45cqVtdLXrVvH5s2bQ8PLly8nMzNz\nh+VUV1dz+umnc+WVV/Ldd9+xbt06TjrppLh+LKxjx46kpqayYsWKWuuJJiMjo9a0P/zwQ6jZC0Bm\nZibl5dvfVSgvLw/lea+99uKwww7jzjvvpFevXrRo0YI+ffpw22230b17d9LT02Pmt76ys7M566yz\nWLt2LWvXrmXdunVs3LiRK6+8sl770RiTOBboG2OMCfG/dA07/9J1fecPOvTQQ5kzZw6BQIAXX3yx\n1kuh4Jr2FBYWsnXrVl577TWef/55zjjjjB2WU11dTXV1NR06dAi94PrSSy/FlYeUlBSGDx/OpEmT\n2Lx5M5988gkzZ86MOv3pp5/Oc889x5tvvsnWrVu57rrragXCo0aN4vrrr2f16tWsXr2a4uJixo4d\nG0rv168fd999d6iZTn5+fq3hxjZmzBieffZZXnrpJQKBAFu2bGHhwoVUVlbWaz8aYxLHAn1jzG6r\nvKyMojFjKBwwgKIxYygvK0t0ln4Sgi9dw669dF3f+QHuuOMOnnnmGdLS0njkkUcYNmxYrfSMjAzS\n0tLIzMxk7Nix3H///fTo0WOH5ey9997cddddnHHGGaSnp/Poo49y6qmn1rluf7v6KVOmsHHjRjIy\nMjj33HM599xzo87Xs2dP7rnnHkaNGkVmZibt27ev1eznL3/5C4cffji9e/fmkEMO4fDDD+faa68N\npffv359NmzaFmukEh2MF+nW9uByeVte0Xbp04d///jc33ngjHTt2JCcnh8mTJxMIBOq9H40xiSH2\ntZsxDU9E1M6t+ikvK2PKoEEUlZbSBtcQpDAvjwklJeTk5iY6e82eiMTxwivUpxjXd/5oFi5cyNix\nY+tsRmN2b9HKnzfenhCMaSAtEp0BY4yJZMb48aEgH1w/LkWlpUweP57Cl19OZNaS2oIF7g+gf3+Y\nNMl9zs93f409vzHGmIZjgb4xZrcUqKmJ0EkjBAI7102j2Tn1DcgtoDfGmN2HtdE3xsStbFkZYy4Z\nw4BxAxhzyRjKljVem/mU1NQInTRSq/s+89PUv39/a7ZjjDFxsDb6xjSCZGyjX7asjEEXD6L0kFJo\nBVRD3tI8Su4uIbdrw7eZtzb6jSueNvrGNBZro29M07BA35hGkIyB/gnnncArnV9xQX5QNQxcOZCX\npzVOm/nysjJmFBQQqKwkJTOTccXFFuQ3EAv0TSJZoG9M07A2+saYuNTU1NQO8gFaQaCm8drM5+Tm\nUjhrVqMt3xhjjElmFugbY+KSmpoK1exQo5+Sam3mm6OcnBzr59wkTE7Ozv+2gjFm51nTHWMaQTI2\n3WnqNvrGmJ8ea7pjTMOyQN+YRpCMgT64YL/gtgIqN1SS2TaT4suLLcg3xjQYC/SNaVgW6BvTCJI1\n0DfGmMZkgb4xDcsa1xrjEZFpIvKtiHwQJf0AEXlTRLaIyOVNnT9jjDHGmJ1hgb4x200HTqwjfQ0w\nAbi1abJjjDHGGLPrLNA3xqOqrwPr6khfrar/BbY1Xa6MMcYYY3aNBfrGGGOMMcYkIetH3yQdEfk5\n0BVQoFxVP01EPiZNmhT6nJ+fT35+fiKy0ayVlZVTUDCDiooAWVkpFBePIzfX+t82JlksWLCABQsW\nJDobxiQt63XHJAUR6QpcDpwMfA18AwiQAWQBzwO3q+qyGMvJAZ5V1d51TFMIbFTV2+qYxnrdqaey\nsnIGDZpCaWkR0AaoIi+vkJKSCRbsG5OkrNcdYxqWNd0xyeIW4Bng56qar6qjVHWkqvYHfg48B/wt\njuWI9xfPdKYRjR8/wxfkA7ShtLSI8eNnJCxPxhhjTHNiTXdMUlDVEXWkbQNKvL+oRGQOkA+0F5Hl\nQCHuN2BVVR8QkU7AO8A+QEBE/gj0VNVNDbMVxq+mJsD2ID+oDYFAIBHZMcYYY5odC/RNUhGRUuBW\nVb3PN+45VR0aa15VPTNG+rdAdv1zaeKRmpoCVFE72K8iJcW+iDTGGGPiYXdMk2y2AgNEZLqItPLG\nZSUyQ2bXTJ06jry8QlywD8E2+lOnjktgrowxxpjmw17GNUlFRN5V1V+KyJXAcOAM4GlV/WUT58Ne\nxm0AwV53KisDZGZarzvGJDt7GdeYhmWBvkkqIvKeqh7qfT4BuBtIV9X9mjgfFug3M+VlZcwoKCBQ\nUUFKVhbjiovJyc1NdLaM+UmxQN+YhmVt9E2yuS74QVVfFpETgbMTmB/TDJSXlTFl0CCKSku9jjyh\ncPFiJpSUWLBvjDGm2bIafZMURKTOpjmq+m5T5QWsRr+5KTrhBCa+8krYa78weeBACl9+OVHZMuYn\nx2r0jWlYVqNvksXffZ8Pw3WDGbxZKHB8k+fINBuBmpoIHXliXXkaY4xp1izQN0lBVQcEP3vt9C2w\nN3FLycqK0JEnpGRmJihHxhhjTP1Z95omGVmbGbNTxg0ZQmFamq8jTyhMS2PckCGJzJYxxhhTL9ZG\n3ySdYBebCc6DtdFvZkK97lRWkpKZab3uGJMA1kbfmIZlgb5JCiIyhe01+SOBR/3pqnpJE+fHAn1j\njNlJFugb07Csjb5JFu/4Pv83YbkwDapsWRkFtxVQsaGCrLZZFF9eTG5Xq2U3xhhj4mE1+sY0AqvR\nr7+yZWUMungQpYeUQiugGvKW5lFyd4kF+8YkKavRN6Zh2cu4JimISF8ROcs3/KSIzPf+rAeeZqjg\ntoLtQT5AKyg9pJSC2woSmi9jjDGmubCmOyZZFAETfMMHAONwPSb+GZifgDyZevh41cfQPmxkK/hk\n1SeNsr6ysnIKCmZQUREgKyuF4uJx5ObmNMq6jDHGmKZggb5JFm1V1R8BfqGq/wUQkZsSlCdTD+3b\ntIdqttfoA1RDepv0Bl9XWVk5gwZNobS0CPdsWMXixYWUlEywYN8YY0yzZU13TLLY1z+gqr/xDXZq\n4ryYBjC1YCp5S/NcsA+hNvpTC6Y2+LrGj5/hC/IB2lBaWsT48TMafF3GGGNMU7FA3ySLT0Vkh183\nEpGhwGcJyI+pp9yuuZTcXcLojaMZUDaA0RtHN9qLuDU1AWr/Li5AGwKBQIOvyxhjjGkq1nTHJIvL\ngOdF5HTgXW/cYcAxwNCE5crUS27XXGbdNavR15OamoL7PVx/sF9FSorVhRhjjGm+7C5mkoKqfgn0\nBl4Dunp/i4Deqvp54nJmmoOpU8eRl1eIC/YBqsjLK2Tq1HEJzJUxxhhTP9aPvkkKEkfH9fFM04D5\nsX70m5lgrzuVlQEyM63XHWMSwfrRN6ZhWaBvkoKILASeA/4dXoMvIj2AYcDJqtq/ifJjgb4xxuwk\nC/SNaVgW6JukICKtgNHAmUAvYAMgwN7AR8Bs4BFVrY66kIbNjwX6xhizkyzQN6ZhWaBvko6IpAAd\nvEm/8FcAACAASURBVMHVqtrkXadYoG+MMTvPAn1jGpYF+sY0Agv0jTFm51mgb0zDsl53jDEGKFtW\nxphLxjBg3ADGXDKGsmVlic6SMcYYUy9Wo29MI7Aa/eblkdcf4Q+Ff2Dd0eugFVANaYvTuKfoHkb1\nHZXo7Bnzk2E1+sY0LKvRN8b85D3/+PPbg3yAVrDu6HU8//jzCc2XMcYYUx8W6JukIiK/EZEvROR7\nEdkgIhtFZEOi82V2bxUbKrYH+UGtoHJDZULyY4wxxjQEC/RNsrkF+LWqtlPVtqq6j6q2jWdGEZkm\nIt+KyAd1THOX9yDxvoj8osFybRIqNTUVwjterYaUVLtEGmOMab7sLmaSzbeq+r9dnHc6cGK0RBE5\nCchT1Z8BFwL37eJ6zG5masFU8pbmbQ/2qyFvaR5TC6YmNF/GGGNMfdjLuCYpiMhvvI/9gc7A08CP\nwXRVnRvncnKAZ1W1d4S0+4BXVfUxb/h/QL6qfhthWnsZt5kpW1ZGwW0FVG6oJLNtJsWXF5PbNTfR\n2TLmJ8VexjWmYbVIdAaMaSCn+D7/AAz2DSsQV6AfQxawwjdc4Y3bIdA3zU9u11xm3TWrydZXXlbG\njIICAhUVpGRlMa64mJxce7AwxhjTcCzQN0lBVc8BEJFjVfUNf5qIHJuIPE2aNCn0OT8/n/z8/ERk\nw+yGysvKmDJoEEWlpbQBqoDCxYuZUFJiwb75SVmwYAELFixIdDaMSVrWdMckFRF5V1V/GWtcHfPv\nTNOdT4H+1nTH7KyiE05g4iuv0MY3rgqYPHAghS+/nKhsGZNw1nTHmIZlNfomKYhIH+AYoKOIXO5L\naguk7syivL9IngH+ADwmIkcD6yMF+cbEElizplaQD9AGCKxdm4jsGGOMSVIW6Jtk0QrYG1em9/GN\n3wCcHs8CRGQOkA+0F5HlQKG3XFXVB1R1noicLCJf4ipgz2nA/JufkJSDDqLq/fd3qNFP6dkzUVky\nxhiThKzpjkkqIpKjquW7QT6s6Y6JKmIb/bw8a6NvfvKs6Y4xDcsCfZMURORZXO86Eanqr5swOxbo\nm5hCve5UVpKSmWm97hiDBfrGNDQL9E1SEJH+3sff4PrRD/aTOAr3I1qXNXF+LNA3xpidZIG+MQ3L\nAn2TVETkHVU9PNa4JsiHBfrGGLOTLNA3pmGlJDoDxjSwNiLSLTggIrmwQwcnxhhjjDFJz3rdMcnm\nMmCBiHyF6yYzB7gwsVkyZkdlZeUUFMygoiJAVlYKxcXjyM3NSXS2jDHGJBFrumOSjojsAfzcG/xU\nVX9MQB6s6Y6JqqysnEGDplBaWgRevzt5eYWUlEywYN/8pFnTHWMalgX6JimIyPGqOl9EfhMpXVXn\nNnF+LNA3UY0ZU8Ts2RMhrCf90aMnM2tWYaKyZUzCWaBvTMOypjsmWfQH5gOnREhToEkDfWPq8vHH\nAXZ8daQNn3wSSER2jDHGJCkL9E1SUNVC77/9Wq3Z7bVvn4L7mazaNfrp6dY/gjHGmIZjdxWTVESk\nVERmi8hFInJQovNjTCRTp44jL68QF+xDsI3+1KnjEpgrY4wxycba6Juk4r2IexRwHHAscADwgaoO\na+J8WBt9U6dgrzuVlQEyM63XHWPA2ugb09As0DdJRURaAEfg2uz3BdrjAv0m7WLTAn1jjNl5Fugb\n07As0DdJRUR+AD4EbgNeVtU1CcqHBfrGGLOTLNA3pmFZoG+SioiciqvJPxKoBt4EFqnqK02cDwv0\njTFmJ1mgb0zDskDfJCUR+TlwEnApsJ+q7tXE67dA3+xWysvKmFFQQKCigpSsLMYVF5OTm5vobBlT\niwX6xjQsC/RNUhGRp4BDgFJgEfA68H+quqWJ82GBvqlT2bIyCm4roGJDBVltsyi+vJjcro0TeJeX\nlTFl0CCKSku93+GFwrw8JpSUWLBvdisW6BvTsCzQN0lFRA4H3lPVmgTnwwJ9E1XZsjIGXTyI0kNK\noRVQDXlL8yi5u6RRgv2iE05g4iuvhPXaD5MHDqTw5ZcbfH3G7CoL9I1pWNaPvkk2nwDXiMgDACLy\nMxEZmuA8GVPL+OLx24N8gFZQekgp44vHN8r6AjU1EX6HFwIB+yVeY4xJZhbom2QzHfcS7jHecAVw\nfeKyY8yOampqtgf5Qa0gUNM4gXdKVlbop7mCqoCUzMxGWZ8xxpjdgwX6JtnkqeotwFYAVf0BsK+B\nzW4lNTXVPY76VUNKauNckscNGUJhWprvd3j/v737j46rPu88/n5GxpuNg8BWNlAJbCtD49Reyo8S\nahYW7MjaddomZNttios3UcPRpg0WnEPYQEimY6FtCInrPVnbbMIcB7GYOqGEQLcbikcChZpUNT+N\naxubTMayI/EjAXMMzgbHmmf/uFfyWB7ZlnWvRjP6vM7xsebeO/f7XI109cx3nu/3C+mZM2n5/d+P\npT0REZkcVKMvVcXMfgw0AU+5+8VmlgQ2uvulExyHavRlVBNdow9Fs+4MDJCor9esOzIpqUZfJFpK\n9KWqmFkz8BVgPrAJuBxocfeeCY5Dib4c19CsOwMHBqivrY911h2RSqFEXyRaSvSl6phZHbCQoGSn\n191/UYYYlOiLiIyREn2RaE0rdwAiMXgPsJ/g53t++IfjyTLHJFJW+XwfqVQn/f0FGhoSdHS00Ng4\np9xhiYhIjNSjL1XFzO4E/gTYDgxNYeLu/okJjkM9+jJp5PN9NDevIZdrh3DJrGQyTTbbpmRfJhX1\n6ItES4m+VBUz2wX8tru/W+Y4lOjLpLFkSTvd3TfDiCWzmppW0dWVLldYIsdQoi8SLU2vKdXmp8Bp\n5Q5CZDIZHCxAiSWztGCWiEh1U42+VJtfAi+YWTcw3Kvv7jeULySR8qqpSRDMnn90j34iob4eEZFq\npru8VJu/AzqAHwPPFv07ITNbamYvmdluM7ulxP4zzewhM9tqZr1mNj/SyEViksm0kEymoWjJrGQy\nTSbTUsaoREQkbqrRFwHMLAHsJlhsawB4GrjG3V8qOubrwNvu3mFm84B17r5klPOpRl8mlaFZdwYG\nCtTXxz/rzvACXf39JBoatECXnBTV6ItES4m+VAUze8DdP2Vm24Bjfqjd/bdP8PyFQNrdPxY+vjV4\nmt9ZdMzfA3e4+1Ph458Al7n7z0ucT4m+TFl9+Txrmptpz+XCOX4gnUzSls0q2ZfjUqIvEi2V7ki1\nuDH8/w+Aj5f4dyINwL6ixz8LtxXbCvwhgJldCswGzjn1kEUmTn5PnuU3LGdxy2KW37Cc/J58bG11\nplLDST4EIwPaczk6U6nY2hQRkWNpMK5UBXd/Jfy/L8ZmvgZ808yeA7YBzwODox28cuXK4a8XLVrE\nokWLYgxNZHT5PXmaVzSTuyAHdcAh6F3RS3Ztlsa50fewF7ZvLzHHDxR27Ii8LalsPT099PT0lDsM\nkaql0h2pCmb2NiVKdgAjKMGpPcHzFwIr3X1p+PiY0p0Sz8kD57v7OyX2qXRHJo0l1y2h++xumF60\n8RA0vdpE1/quyNtrX7KEm7u7R8zxA6uamkh3Rd+eVA+V7ohES6U7UhXc/XR3ry3x7/QTJfmhp4Hz\nzGyOmU0HriGYwWeYmZ1hZqeFX7cCPyqV5ItMNoODg0cn+QDToTAYzzz6LZkM6WSyaI6foEa/JZOJ\npT0RESlNpTsigLsPmtkKYBPBG+D17r7TzD4X7Pa7gd8C7jWzArAduK58EYucvIbaBjjEMT369bX1\nsbQ3p7GRtmyWVakUhYEBEvX1tGnWHRGRCafSHZEYqHRHJpONmzdyffp69i/cHyT7h2Bm70zWta9j\n2RXLyh2eyDCV7ohES4m+SAyU6Mtkk9+TJ7U6xcCBAepr6+m4qSOWgbgi46FEXyRaSvRFYqBEX6a6\noQW6+vsLNDTEv0CXVAcl+iLRUqIvEgMl+jKV5fN9NDevIZdrh3DJrGQyTTbbpmRfjkuJvki0NOuO\niIhEKpXqLEryAWaQy7WTSnWWMSoRkalHib6IiERq+/YClFgya8eOeKbzFBGR0pToi4hIpOrqEjA8\ni/6Qg8yapT85IiITSXddERGJVCbTQjKZhqIls5LJNJlMSxmjEhGZejQYVyQGGowrU93QrDsDAwXq\n6zXrjpwcDcYViZYSfZEYKNEXERk7Jfoi0ZpW7gBERETGqy+fpzOVotDfT6KhgZaODuY0akEwEZna\n1KMvEgP16MtUN7QSb/+BfhpqG2Jdibcvn2dNczPtuVw4az+kk0naslkl+xVGPfoi0VKiLxIDJfoy\nleX35Gle0UzughxMBw5BcmuS7NpsLMl++5Il3NzdfdSEngeBVU1NpLu6Im9P4qNEXyRamnVHREQi\nlVqdOpLkA0yH3AU5UqtTsbRXGBwsMWs/FAqat19EpjYl+iIiEqntr28/kuQPmQ47Xt8RS3uJmpoS\ns/ZDIqE/cSIytekuKCIikaqbUQeHRmw8BLNmzIqlvZZMhnQyWTRrf1Cj35LJxNKeiEilUI2+SAxU\noy9T2UTX6EPRrDsDAyTq6zXrToVSjb5ItJToi8RAib5MdUOz7gwcGKC+tj7WWXekeijRF4mWEn2R\nGCjRFxEZOyX6ItHSglkiIlLx8vk+UqlO+vsLNDQk6OhoobFxTrnDEhEpK/Xoi8RAPfoiEyef76O5\neQ25XDuES2Ylk2my2TYl+xVGPfoi0VKiLxIDJfoiE2fJkna6u2+GEUtmNTWtoqsrHUubw4N/+/tJ\nNDRo8G9ElOiLREulOyIiUtHeeKMAJZbMevPNeBbM6svnWdPcTHsuF35+AOneXtqyWSX7IjKpaB59\nERGpaAsWJKDEklnz58fzJ66ztXU4yYfgLUZ7Lkdna2ss7YmInCol+iIiUtE6OlpIJtNQtGRWMpmm\no6MllvYKg4MlPj+AQiGeTxBERE6VSndERKSiNTbOIZttI5VaxcBAgfr6BB0d8Q3ETdTUsBN4ACgQ\n9Jh9Ckgk1HcmIpOLBuOKxECDcUWq11NPPkmmqYl1hw8P1+hfP20ard3dXH7lleUOr6JpMK5ItNT9\nICIiMgZdt98+nORDULaz7vBhum6/vZxhiYgcQ4m+iIhUvPyePMtvWM7ilsUsv2E5+T352NpSjb6I\nVAol+iIhM1tqZi+Z2W4zu6XE/joze9TMXjCzbWbWUoYwRWSE/J48zSuauf/0++lp7OH+0++neUVz\nbMl+oqamxBw/qtEXkclHNfoigJklgN1AEzAAPA1c4+4vFR2TBt7j7l8ys/cDu4Cz3P1wifOpRl9k\ngiy5bgndZ3fD9KKNh6Dp1Sa61ndF3l5fPs9/v2oxb+87jdc4m7N4ldPP/TVf+dETmkd/nFSjLxIt\nzbojErgUeNnd+wDM7LvA1cBLRce8Cpwffn068EapJF9EJtYbB984OskHmA5vHnwzlvYKJNhkV7OX\nr0I4HHe23cZt+pBcRCYZ3ZVEAg3AvqLHPwu3FcsAC8xsANgK3DhBsYnIcSz4wAI4NGLjIZj/gfmx\ntNfa2snevUNJPsAM9u79Kq2tnbG0JyJyqpToi5y8LwFb3b0euAhYZ2bvK3NMIlNex00dJLcmjyT7\nhyC5NUnHTR2xtDc4WIASw3HjHIzbl8/Tvnw56cWLaV++nL58fIONRaR6qHRHJNAPzC56fE64rdjl\nwF8BuHvOzPLAh4FnSp1w5cqVw18vWrSIRYsWRRetiAxrnNtIdm2W1OoUAwcGqK+tp2NtB41z46mX\nr6lJQIkls+IajNu3cSNrrr+e9v37h+ftT//wh7StW8ecZctiaXOi9PT00NPTU+4wRKqWBuOKAGZW\nQzC4tgl4BdgCLHP3nUXH/DVwwN3bzewsggT/Anc/phBYg3FFqteTTz5FU1OGw4fXMVSjP23a9XR3\nt3LllZdH3l778uV86v77j1mJ94FrryW9YUPk7ZWTBuOKREs9+iKAuw+a2QpgE8Hf0fXuvtPMPhfs\n9ruBO4B7zGwrYMAXSyX5IlLd7r67qyjJB5jB4cPruPvuVbEk+vt/8hPWA+1wpEcfOJzLRd7WkL58\nns5UikJ/P4mGBlo6OjSjkEgFUqIvEnL3fwDmjdj27aKvfwF8fKLjEpHJZfv20jX6O3bEU6O/b/du\n/jcctRJvO/DpXbtiaa8vn2dNczPtudyRNxa9vbRls0r2RSqMBuOKiIiMQV1dAkosmTVrVjx/Us+b\nN6/kSrzJefNKHT5unanUcJI/1FZ7LkdnKhVLeyISHyX6IiIiY5DJtDB79m0cSfYPMnv2bWQyLbG0\n994ZM0quxDtjxsj0PxqF7dtLvrEo7NgRS3siEh8l+iIiImNhBTz5CCy4EOb+e1hwYfDY4indaclk\nSCeTRW8rIJ1M0pLJxNJeoq6u5BuLxKxZsbQnIvHRrDsiMdCsOyLVa8l1S+g+u/vo1XgPQdOrTXSt\n74qlzc1Pbubzn7mdA2+9h9ozf8Vd9/4lV1x5RSxtlazRTyYnpEZfs+6IREuDcUVERMZgcHDw6CQf\nYDoUBuPp0c/n+2j57MPk9vwAmAFvHaTls2my2XNpbJwTeXtzGhtpy2ZZlUpRGBggUV9Pm2bdEalI\nSvRFRETGoKamJliFd0SPfqImnmrY1tZOcrnrgFUMzaSfy11Ha2snXV3pWNqc09hYdXP0i0xFSvRF\nRETGIJPKcNVnr2Lf4X3BSLcCnDvtXDLfiadm/p139kOJmfQPHjwcS3siUj2U6IuIiIyRnWZwGUGv\n/iGwZ+IrK9+9ex+UmEl/165Px9ZmPt9HKtVJf3+BhoYEHR0tsZQJiUi8lOiLiIiMQWtHK3sv2Xuk\ndGc67L1kL60drbEMxp037zx6e4+d8HLevGTkbUGQ5Dc3ryGXO/IJQm9vmmy2Tcm+SIXR9JoiIiJj\nMNGDcWfMeC+lFuiKax79YEzAUJIPMINcrp3W1s5Y2hOR+CjRFxERGYPhwbjFYhyMm8m0kEymKV6g\nK5lMx7ZA1+BgAUosmVUoxPNGRkTio9IdERGRMcikMjSvaCZ3QW64Rj+5NUlmbTyDcRsb55DNtpFK\nrWJgoEB9fYKOjvjKaGpqEoRr7xZtPUgiob5BkUqj31oREZExaJzbSHZtlmvfvpbF+cVc+/a1ZNdm\naZwb4zzzVoBZL+Ozn4RZL8e2Ci9M/CcIIhIfrYwrEgOtjCsiUdm4eSN//sU/58C0A8PTedYeruVb\nX/8Wy65YFkubQ7PuHPkEYWJm3dHKuCLRUqIvEgMl+iISlU+2fJJHdj0CH2W4VIjH4ep5V/Nw58Nl\nji5aSvRFoqVEXyQGSvRFJCqzLp7F/o/tP2Yl3pmPzuTN596Mpc38njyp1Sn6D/TTUNtAx00d8ZYm\nhZToi0RLg3FFREQmMZ/uJafz9OnxdCbk9+SPDDauAw5B74re+MchiEjkNBhXRERkEpvfOL/kdJ7z\nG+fH0l5qderIjEIA0yF3QY7U6lQs7YlIfJToi4iITGIb7tjA7GdmH0n2D8HsZ2az4Y4NsbS3/fXt\nJT9B2PH6jljaE5H4KNEXERGZxBrnNtLz7Z6jpvPs+XZPbGU0dTPqSn6CMGvGrFjaE5H4aDCuSAw0\nGFdEKtVRNfpFC4JNRI2+BuOKREuJvkgMlOiLSCUbmnVn4MAA9bX1mnVHpEIp0ReJgRJ9EZGxU6Iv\nEi3V6IuIiIiIVCEl+iIiIiIiVUiJvoiIiIhIFVKiLyIiIiJShZToi4iIiIhUISX6IiEzW2pmL5nZ\nbjO7pcT+m83seTN7zsy2mdlhMzuzHLGKiIiInIgSfRHAzBLAWuA/AguAZWb24eJj3H2Vu1/k7hcD\nXwJ63P2tiY+2/Hp6esodQmyq+dpA11fpqv36RCRaSvRFApcCL7t7n7v/GvgucPVxjl8GbJyQyCah\nak42qvnaQNdX6ar9+kQkWkr0RQINwL6ixz8Ltx3DzP41sBT4/gTEJSIiInJKlOiLjN3Hgc1TtWxH\nREREKoO5e7ljECk7M1sIrHT3peHjWwF39ztLHPsQ8IC7f/c459MvlojIKXB3K3cMItVCib4IYGY1\nwC6gCXgF2AIsc/edI447A/gpcI67/78JD1RERETkJE0rdwAik4G7D5rZCmATQUnbenffaWafC3b7\n3eGhnwQeU5IvIiIik5169EVEREREqpAG44qMk5mtN7PXzOzFom1fN7OdZvaCmX3fzGrLGeOpKnVt\nRfu+YGYFM5tVjtiiMNr1mVlb+PptM7OvlSu+8RrlZ/MjZrYlXPxti5ldUs4YT5WZnWNmj5vZ9vB1\nuiHcPtPMNpnZLjN7LCy3qzglrq8t3F4t95aSr1/R/oq/v4hMBkr0RcbvHoKFtoptAha4+4XAywQL\nbFWiUteGmZ0DNAN9Ex5RtI65PjNbRDCz0vnufj6wqgxxRaXU6/d14CvufhGQBr4x4VFF4zBwk7sv\nAC4Drg8XubsV6HL3ecDjVO7v3sjrWxFeX7XcW0Z7/arp/iJSdkr0RcbJ3TcD+0ds63L3QviwFzhn\nwgOLQKlrC/0P4L9NcDiRG+X6/gL4mrsfDo/5xYQHFpFRru8VYKiX+0ygf0KDioi7v+ruL4RfvwPs\nJPg9uxq4NzzsXoJxNRVnlOtrqKJ7S8nrC3dXxf1FZDJQoi8Sv88Cj5Y7iKiY2SeAfe6+rdyxxORD\nwJVm1mtmT1Rqactx3AqsNrO9BL37ldojPMzM5gIXEiS+Z7n7axAkk8AHyhdZNIqu759H7KqKe0vx\n9U2B+4vIhNKsOyIxMrMvA792978pdyxRCFcFvo3gY/XhzWUKJy7TgJnuvtDMPgI8AHywzDFFaT3Q\n5u4Pm9l/Br7D0a9nRTGz9wEPAje6+zsl1rCo6BknRl5f0faquLcUXx8wSPXfX0QmlHr0RWJiZi3A\n7wF/WuZQopQE5gJbzSxPUDbwrJlVfK9pkX3AQwDu/jRQMLO68oYUqd9194cB3P1B4NIyx3PKzGwa\nQZJ4n7s/Em5+zczOCvefDbxervjGa5Trq5p7S4nrmwr3F5EJpURfJBpGUc+TmS0lqDH9hLu/W7ao\nojF8be7+L+5+trt/0N0bgZ8BF7l7xSZTjHjtgIeBjwKY2YeA09z9jXIEFpGR1/eymV0FYGZNwO6y\nRBWN7wA73P2bRdv+DmgJv/4M8MjIJ1WQY66vyu4tR11fld5fRMpK8+iLjJOZ/Q2wCKgDXiOYyeQ2\nYDowlCD2uvvnyxLgOJS6Nne/p2j/T4FL3P3N8kQ4PqO8dvcRzFZzIfAu8AV3/1G5YhyPUa7vReAu\ngp/PXwGfd/fnyxXjqTKzy4EngW0E5TlO8Hu3haDc6lyCWVs+5e5vlSvOUzXK9X0Z+J9Ux72l5Ovn\n7v9QdExF319EJgMl+iIiIiIiVUilOyIiIiIiVUiJvoiIiIhIFVKiLyIiIiJShZToi4iIiIhUISX6\nIiIiIiJVSIm+iIiIiEgVUqIvIjJOZvY5M1sefv2ZcEXWsTz/CTO7OOKYzjCzvyh6fJWZ/Z+TfO43\nihbViiS2k20//P6tOYnjppnZs2bWYGaPm9l2M9tmZjcUHbPazK4Yb+wiIpVKib6IyDi5+7fdfUP4\nsAVoKGM4Q2YCIxdSOuHCKWb2PuDKmBYJO9mFW07muCuAzcBh4CZ3XwBcBlxvZh8Oj/lfwBfHHKWI\nSJVQoi8iU5qZfdrMtprZ82Z2b7jtD8ysN+wx3mRm/8YCeTOrLXru7nBf2sy+YGZ/BFwCbDCz58zs\n98zsB0XHLzGzh04QT7OZ/djMnjGz75nZe8PteTNbGca01cw+FG5/fxjjNjPLmNkeM5sF3AF8MIzj\nzvD0p5vZ35rZTjO7b5QQrga6R4ntLjPbEraVLtqeN7Ovht/Dp83sYjN7zMxeNrP/WnSKM8zs783s\nJTO7q+j5f2Zmu8ysF7i8aPsxr0PRuZYCj7r7a+7+AoC7vwPsJHyj5e4vA3PM7Izjfc9FRKqVEn0R\nmbLMbD5wG7DI3S8Cbgx3/aO7L3T33wG+B3zRg2XEHwb+U/jcS4E97v7z8Dnu7t8HngH+1N0vdvcf\nAvPMrC485s+A9ceJpw74CtDk7pcAzwI3FR3yehjTt4Cbw21poNvdzwceBM4Nt98K5MI4bgm3XQjc\nAMwHkmb270qEcUV4DaXc5u6XAhcAi8zs3xbt2xN+D/8RuIfg+3QZcHvRMR8Brgd+CzjPzP4wLHNa\nGR57RRjbkJGvwy1F+xYDPcXBmdnc8Br/uWjzC+G5RUSmnGnlDkBEpIw+Cvytu+8HcPe3wu3nmtkD\nwG8ApwH5cPsDwF8C9wLXECSfpVjR1/cBy82sE1gI/JfjxLOQINF9yswsbPvHRfuHPh14lvANB0Fy\n/Mkw/sfMbP9xzr/F3V8BMLMXgLkjzg8wB3hllOdfY2atBH87zg5j/Zdw31D9/TZghrv/Evilmf2q\n6FOQLe7eF7a/MYx9EHjC3d8Mt38P+M3w+JKvg5nVA2+4+6+GAgtLjh4Ebgx79ocMhNcpIjLlKNEX\nETnWGmCVu//fcFBqGsDd/8nMkmb2foLkuuMkztVJkAS/S/CmonCcYw3Y5O7XjrL/3fD/QUa/f9so\n24ufP+ZzhL3lXwB+x90PmNk9wHtKnLswop1CUTsja+89/DdazCVfB4KynceKYptGkOTf5+6PlLiW\nkx0bICJSVVS6IyJT2ePAH4c17ZjZzHB7LUFPMMBnRjznB8BqYMfQJwEjvB0+H4CwB30A+DJBScvx\n9AKXm1kyjOe9ZvabJ3jOU8CfhMf/B+DMojhOP8FzS+kj6K0fqRZ4B3jbzM4CPnaS5ytO4n/XzOaY\nWSKMeTOwBbjSzGaa2WnAH49os9TrsBR4tOjxdwhej2+WaP83wmsSEZlylOiLyJTl7juAvwJ+ZGbP\nA38d7moHHjSzp4Gfj3jaA8C1wHdHOW0n8K1wEOy/CrfdD+xz912jhRLG8wuCWXs2mtlWgrKaecXH\nlNAONJvZi8AfAa8Cb4elME+Z2YtFg3GPabOEzQS19CNje5Gg3n0nsCE87kTnGrlvC7AW2E4wTHvI\nxgAAAPVJREFUfuAH7v4qQY1+L0F9/44R13bU6xC+STjP3XeHjy8neD0+Gg4Gfs7Mlhad4yLgn44T\nn4hI1bJgfJmIiMTFgnnhn3P3E/Xon8q5pwOD7j5oZguBu9z9lOe9D2vdn3D3j5zw4DIYSuzdfeTU\noaWO/RDwDXe/Ov7IREQmHyX6IiIxMrNnCEpemt391zGc/zyCTxkSBLXxn3f3Z8d5zjsJpq7sGX+E\n5WNmq4GH3H3zCQ8WEalCSvRFRERERKqQavRFRERERKqQEn0RERERkSqkRF9EREREpAop0RcRERER\nqUJK9EVEREREqpASfRERERGRKvT/AY6I1eQd2RoCAAAAAElFTkSuQmCC\n",
      "text/plain": [
       "<matplotlib.figure.Figure at 0xb616be0>"
      ]
     },
     "metadata": {},
     "output_type": "display_data"
    },
    {
     "ename": "AttributeError",
     "evalue": "'tuple' object has no attribute 'set_title'",
     "output_type": "error",
     "traceback": [
      "\u001b[1;31m---------------------------------------------------------------------------\u001b[0m",
      "\u001b[1;31mAttributeError\u001b[0m                            Traceback (most recent call last)",
      "\u001b[1;32m<ipython-input-9-f24368e14ef5>\u001b[0m in \u001b[0;36m<module>\u001b[1;34m()\u001b[0m\n\u001b[0;32m     32\u001b[0m \u001b[1;33m\u001b[0m\u001b[0m\n\u001b[0;32m     33\u001b[0m \u001b[0max\u001b[0m \u001b[1;33m=\u001b[0m \u001b[0mfuncs\u001b[0m\u001b[1;33m.\u001b[0m\u001b[0mplot_finesse_vs_length_from_avgs\u001b[0m\u001b[1;33m(\u001b[0m\u001b[0mRT_OFFD_POS0_avgs\u001b[0m\u001b[1;33m,\u001b[0m\u001b[0mRT_OFFD_POS0_Ns\u001b[0m\u001b[1;33m)\u001b[0m\u001b[1;33m\u001b[0m\u001b[0m\n\u001b[1;32m---> 34\u001b[1;33m \u001b[0max\u001b[0m\u001b[1;33m.\u001b[0m\u001b[0mset_title\u001b[0m\u001b[1;33m(\u001b[0m\u001b[0mfolder\u001b[0m\u001b[1;33m)\u001b[0m\u001b[1;33m\u001b[0m\u001b[0m\n\u001b[0m\u001b[0;32m     35\u001b[0m \u001b[0mplt\u001b[0m\u001b[1;33m.\u001b[0m\u001b[0msavefig\u001b[0m\u001b[1;33m(\u001b[0m\u001b[0mos\u001b[0m\u001b[1;33m.\u001b[0m\u001b[0mpath\u001b[0m\u001b[1;33m.\u001b[0m\u001b[0mjoin\u001b[0m\u001b[1;33m(\u001b[0m\u001b[0mfolder\u001b[0m\u001b[1;33m,\u001b[0m\u001b[1;34m'Finesse_vs_L.png'\u001b[0m\u001b[1;33m)\u001b[0m\u001b[1;33m)\u001b[0m\u001b[1;33m\u001b[0m\u001b[0m\n\u001b[0;32m     36\u001b[0m \u001b[0mplt\u001b[0m\u001b[1;33m.\u001b[0m\u001b[0mshow\u001b[0m\u001b[1;33m(\u001b[0m\u001b[1;33m)\u001b[0m\u001b[1;33m\u001b[0m\u001b[0m\n",
      "\u001b[1;31mAttributeError\u001b[0m: 'tuple' object has no attribute 'set_title'"
     ]
    },
    {
     "data": {
      "image/png": "iVBORw0KGgoAAAANSUhEUgAAAZYAAAEPCAYAAABhkeIdAAAABHNCSVQICAgIfAhkiAAAAAlwSFlz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\nK5QTi5mZFcqJxczMCvX/AerY/IF4/xMyAAAAAElFTkSuQmCC\n",
      "text/plain": [
       "<matplotlib.figure.Figure at 0xbf2bc50>"
      ]
     },
     "metadata": {},
     "output_type": "display_data"
    }
   ],
   "source": [
    "# off diamond position 0 RT\n",
    "reload(funcs)\n",
    "dir_L0 =os.path.join(datapath,'20160818/RT_OFFD_POS0_L0')\n",
    "dir_L2= os.path.join(datapath,'20160818/RT_OFFD_POS0_L2')\n",
    "dir_L3 = os.path.join(datapath,'20160819/RT_OFFD_POS0_L3')\n",
    "#I relabeled the data in the dedicated folder (my docs) from V1p129 -> V0 etc. SvD 15-9-2016\n",
    "V0s=[0,1,2]\n",
    "V2s=[0,1,2,3]\n",
    "V3s=[0,1,2,3,4,5]\n",
    "\n",
    "#V0s = np.array([1.129,2.473,3.482])\n",
    "#V2s = np.array([6.083,7.258,8.269,9.246])\n",
    "#V3s = np.array([1.402,2.646,3.781,4.846,5.864,6.890])\n",
    "N0s = np.array([21,22,23])#possibly the N0s should be 21,22,23->not 100%clear. -> leave out?\n",
    "N2s = np.array([13,14,15,16])\n",
    "N3s = np.array([17,18,19,20,21,22])\n",
    "\n",
    "folder,avgs0=funcs.get_avg_array_for_Vs(V0s,1,dir_L0,tag='')\n",
    "folder,avgs2=funcs.get_avg_array_for_Vs(V2s,2,dir_L2,tag='')\n",
    "folder,avgs3=funcs.get_avg_array_for_Vs(V3s,3,dir_L3,tag='')\n",
    "\n",
    "RT_OFFD_POS0_avgs = np.concatenate((avgs0,avgs2,avgs3))\n",
    "RT_OFFD_POS0_Ns = np.append(np.append(N0s,N2s),N3s)\n",
    "\n",
    "\n",
    "\n",
    "\n",
    "ax = funcs.plot_updown_lws(RT_OFFD_POS0_avgs,RT_OFFD_POS0_Ns)\n",
    "ax.set_title(folder)\n",
    "plt.savefig(os.path.join(folder,'plot_lw_vs_L.png'))\n",
    "plt.show()\n",
    "\n",
    "ax = funcs.plot_finesse_vs_length_from_avgs(RT_OFFD_POS0_avgs,RT_OFFD_POS0_Ns)\n",
    "ax.set_title(folder)\n",
    "plt.savefig(os.path.join(folder,'Finesse_vs_L.png'))\n",
    "plt.show()"
   ]
  },
  {
   "cell_type": "code",
   "execution_count": 11,
   "metadata": {
    "collapsed": false,
    "scrolled": false
   },
   "outputs": [
    {
     "name": "stdout",
     "output_type": "stream",
     "text": [
      "[70 71 72 73 74 75 76 77 78 65 66 67 68 69 70 71 72 73 59 60 61 62 63 64 65\n",
      " 66 67 54 55 56 57 58 59 60 61 62 49 50 51 52 53 54 55 56 57 45 46 47 48 49\n",
      " 50 51 52 53 44 45 46 47 48 49 50]\n"
     ]
    },
    {
     "ename": "ValueError",
     "evalue": "x and y must have same first dimension",
     "output_type": "error",
     "traceback": [
      "\u001b[1;31m---------------------------------------------------------------------------\u001b[0m",
      "\u001b[1;31mValueError\u001b[0m                                Traceback (most recent call last)",
      "\u001b[1;32m<ipython-input-11-927573693c45>\u001b[0m in \u001b[0;36m<module>\u001b[1;34m()\u001b[0m\n\u001b[0;32m     40\u001b[0m \u001b[1;33m\u001b[0m\u001b[0m\n\u001b[0;32m     41\u001b[0m \u001b[0max\u001b[0m\u001b[1;33m.\u001b[0m\u001b[0mplot\u001b[0m\u001b[1;33m(\u001b[0m\u001b[0mRT_OND_POS2_Ns\u001b[0m\u001b[1;33m,\u001b[0m \u001b[0mFinesses\u001b[0m\u001b[1;33m,\u001b[0m\u001b[1;34m'ro'\u001b[0m\u001b[1;33m,\u001b[0m\u001b[0mlabel\u001b[0m\u001b[1;33m=\u001b[0m\u001b[1;34m'data'\u001b[0m\u001b[1;33m)\u001b[0m\u001b[1;33m\u001b[0m\u001b[0m\n\u001b[1;32m---> 42\u001b[1;33m \u001b[0max\u001b[0m\u001b[1;33m.\u001b[0m\u001b[0mplot\u001b[0m\u001b[1;33m(\u001b[0m\u001b[0mRT_OND_POS2_Ns\u001b[0m\u001b[1;33m,\u001b[0m \u001b[0mfitfunc\u001b[0m\u001b[1;33m(\u001b[0m\u001b[0mt\u001b[0m\u001b[1;33m)\u001b[0m\u001b[1;33m,\u001b[0m\u001b[0mlabel\u001b[0m \u001b[1;33m=\u001b[0m \u001b[1;34m'fit'\u001b[0m\u001b[1;33m)\u001b[0m\u001b[1;33m\u001b[0m\u001b[0m\n\u001b[0m\u001b[0;32m     43\u001b[0m \u001b[1;33m\u001b[0m\u001b[0m\n\u001b[0;32m     44\u001b[0m \u001b[1;33m\u001b[0m\u001b[0m\n",
      "\u001b[1;32mC:\\Users\\jorik\\AppData\\Local\\Enthought\\Canopy\\User\\lib\\site-packages\\matplotlib\\__init__.pyc\u001b[0m in \u001b[0;36minner\u001b[1;34m(ax, *args, **kwargs)\u001b[0m\n\u001b[0;32m   1810\u001b[0m                     warnings.warn(msg % (label_namer, func.__name__),\n\u001b[0;32m   1811\u001b[0m                                   RuntimeWarning, stacklevel=2)\n\u001b[1;32m-> 1812\u001b[1;33m             \u001b[1;32mreturn\u001b[0m \u001b[0mfunc\u001b[0m\u001b[1;33m(\u001b[0m\u001b[0max\u001b[0m\u001b[1;33m,\u001b[0m \u001b[1;33m*\u001b[0m\u001b[0margs\u001b[0m\u001b[1;33m,\u001b[0m \u001b[1;33m**\u001b[0m\u001b[0mkwargs\u001b[0m\u001b[1;33m)\u001b[0m\u001b[1;33m\u001b[0m\u001b[0m\n\u001b[0m\u001b[0;32m   1813\u001b[0m         \u001b[0mpre_doc\u001b[0m \u001b[1;33m=\u001b[0m \u001b[0minner\u001b[0m\u001b[1;33m.\u001b[0m\u001b[0m__doc__\u001b[0m\u001b[1;33m\u001b[0m\u001b[0m\n\u001b[0;32m   1814\u001b[0m         \u001b[1;32mif\u001b[0m \u001b[0mpre_doc\u001b[0m \u001b[1;32mis\u001b[0m \u001b[0mNone\u001b[0m\u001b[1;33m:\u001b[0m\u001b[1;33m\u001b[0m\u001b[0m\n",
      "\u001b[1;32mC:\\Users\\jorik\\AppData\\Local\\Enthought\\Canopy\\User\\lib\\site-packages\\matplotlib\\axes\\_axes.pyc\u001b[0m in \u001b[0;36mplot\u001b[1;34m(self, *args, **kwargs)\u001b[0m\n\u001b[0;32m   1422\u001b[0m             \u001b[0mkwargs\u001b[0m\u001b[1;33m[\u001b[0m\u001b[1;34m'color'\u001b[0m\u001b[1;33m]\u001b[0m \u001b[1;33m=\u001b[0m \u001b[0mc\u001b[0m\u001b[1;33m\u001b[0m\u001b[0m\n\u001b[0;32m   1423\u001b[0m \u001b[1;33m\u001b[0m\u001b[0m\n\u001b[1;32m-> 1424\u001b[1;33m         \u001b[1;32mfor\u001b[0m \u001b[0mline\u001b[0m \u001b[1;32min\u001b[0m \u001b[0mself\u001b[0m\u001b[1;33m.\u001b[0m\u001b[0m_get_lines\u001b[0m\u001b[1;33m(\u001b[0m\u001b[1;33m*\u001b[0m\u001b[0margs\u001b[0m\u001b[1;33m,\u001b[0m \u001b[1;33m**\u001b[0m\u001b[0mkwargs\u001b[0m\u001b[1;33m)\u001b[0m\u001b[1;33m:\u001b[0m\u001b[1;33m\u001b[0m\u001b[0m\n\u001b[0m\u001b[0;32m   1425\u001b[0m             \u001b[0mself\u001b[0m\u001b[1;33m.\u001b[0m\u001b[0madd_line\u001b[0m\u001b[1;33m(\u001b[0m\u001b[0mline\u001b[0m\u001b[1;33m)\u001b[0m\u001b[1;33m\u001b[0m\u001b[0m\n\u001b[0;32m   1426\u001b[0m             \u001b[0mlines\u001b[0m\u001b[1;33m.\u001b[0m\u001b[0mappend\u001b[0m\u001b[1;33m(\u001b[0m\u001b[0mline\u001b[0m\u001b[1;33m)\u001b[0m\u001b[1;33m\u001b[0m\u001b[0m\n",
      "\u001b[1;32mC:\\Users\\jorik\\AppData\\Local\\Enthought\\Canopy\\User\\lib\\site-packages\\matplotlib\\axes\\_base.pyc\u001b[0m in \u001b[0;36m_grab_next_args\u001b[1;34m(self, *args, **kwargs)\u001b[0m\n\u001b[0;32m    384\u001b[0m                 \u001b[1;32mreturn\u001b[0m\u001b[1;33m\u001b[0m\u001b[0m\n\u001b[0;32m    385\u001b[0m             \u001b[1;32mif\u001b[0m \u001b[0mlen\u001b[0m\u001b[1;33m(\u001b[0m\u001b[0mremaining\u001b[0m\u001b[1;33m)\u001b[0m \u001b[1;33m<=\u001b[0m \u001b[1;36m3\u001b[0m\u001b[1;33m:\u001b[0m\u001b[1;33m\u001b[0m\u001b[0m\n\u001b[1;32m--> 386\u001b[1;33m                 \u001b[1;32mfor\u001b[0m \u001b[0mseg\u001b[0m \u001b[1;32min\u001b[0m \u001b[0mself\u001b[0m\u001b[1;33m.\u001b[0m\u001b[0m_plot_args\u001b[0m\u001b[1;33m(\u001b[0m\u001b[0mremaining\u001b[0m\u001b[1;33m,\u001b[0m \u001b[0mkwargs\u001b[0m\u001b[1;33m)\u001b[0m\u001b[1;33m:\u001b[0m\u001b[1;33m\u001b[0m\u001b[0m\n\u001b[0m\u001b[0;32m    387\u001b[0m                     \u001b[1;32myield\u001b[0m \u001b[0mseg\u001b[0m\u001b[1;33m\u001b[0m\u001b[0m\n\u001b[0;32m    388\u001b[0m                 \u001b[1;32mreturn\u001b[0m\u001b[1;33m\u001b[0m\u001b[0m\n",
      "\u001b[1;32mC:\\Users\\jorik\\AppData\\Local\\Enthought\\Canopy\\User\\lib\\site-packages\\matplotlib\\axes\\_base.pyc\u001b[0m in \u001b[0;36m_plot_args\u001b[1;34m(self, tup, kwargs)\u001b[0m\n\u001b[0;32m    362\u001b[0m             \u001b[0mx\u001b[0m\u001b[1;33m,\u001b[0m \u001b[0my\u001b[0m \u001b[1;33m=\u001b[0m \u001b[0mindex_of\u001b[0m\u001b[1;33m(\u001b[0m\u001b[0mtup\u001b[0m\u001b[1;33m[\u001b[0m\u001b[1;33m-\u001b[0m\u001b[1;36m1\u001b[0m\u001b[1;33m]\u001b[0m\u001b[1;33m)\u001b[0m\u001b[1;33m\u001b[0m\u001b[0m\n\u001b[0;32m    363\u001b[0m \u001b[1;33m\u001b[0m\u001b[0m\n\u001b[1;32m--> 364\u001b[1;33m         \u001b[0mx\u001b[0m\u001b[1;33m,\u001b[0m \u001b[0my\u001b[0m \u001b[1;33m=\u001b[0m \u001b[0mself\u001b[0m\u001b[1;33m.\u001b[0m\u001b[0m_xy_from_xy\u001b[0m\u001b[1;33m(\u001b[0m\u001b[0mx\u001b[0m\u001b[1;33m,\u001b[0m \u001b[0my\u001b[0m\u001b[1;33m)\u001b[0m\u001b[1;33m\u001b[0m\u001b[0m\n\u001b[0m\u001b[0;32m    365\u001b[0m \u001b[1;33m\u001b[0m\u001b[0m\n\u001b[0;32m    366\u001b[0m         \u001b[1;32mif\u001b[0m \u001b[0mself\u001b[0m\u001b[1;33m.\u001b[0m\u001b[0mcommand\u001b[0m \u001b[1;33m==\u001b[0m \u001b[1;34m'plot'\u001b[0m\u001b[1;33m:\u001b[0m\u001b[1;33m\u001b[0m\u001b[0m\n",
      "\u001b[1;32mC:\\Users\\jorik\\AppData\\Local\\Enthought\\Canopy\\User\\lib\\site-packages\\matplotlib\\axes\\_base.pyc\u001b[0m in \u001b[0;36m_xy_from_xy\u001b[1;34m(self, x, y)\u001b[0m\n\u001b[0;32m    221\u001b[0m         \u001b[0my\u001b[0m \u001b[1;33m=\u001b[0m \u001b[0m_check_1d\u001b[0m\u001b[1;33m(\u001b[0m\u001b[0my\u001b[0m\u001b[1;33m)\u001b[0m\u001b[1;33m\u001b[0m\u001b[0m\n\u001b[0;32m    222\u001b[0m         \u001b[1;32mif\u001b[0m \u001b[0mx\u001b[0m\u001b[1;33m.\u001b[0m\u001b[0mshape\u001b[0m\u001b[1;33m[\u001b[0m\u001b[1;36m0\u001b[0m\u001b[1;33m]\u001b[0m \u001b[1;33m!=\u001b[0m \u001b[0my\u001b[0m\u001b[1;33m.\u001b[0m\u001b[0mshape\u001b[0m\u001b[1;33m[\u001b[0m\u001b[1;36m0\u001b[0m\u001b[1;33m]\u001b[0m\u001b[1;33m:\u001b[0m\u001b[1;33m\u001b[0m\u001b[0m\n\u001b[1;32m--> 223\u001b[1;33m             \u001b[1;32mraise\u001b[0m \u001b[0mValueError\u001b[0m\u001b[1;33m(\u001b[0m\u001b[1;34m\"x and y must have same first dimension\"\u001b[0m\u001b[1;33m)\u001b[0m\u001b[1;33m\u001b[0m\u001b[0m\n\u001b[0m\u001b[0;32m    224\u001b[0m         \u001b[1;32mif\u001b[0m \u001b[0mx\u001b[0m\u001b[1;33m.\u001b[0m\u001b[0mndim\u001b[0m \u001b[1;33m>\u001b[0m \u001b[1;36m2\u001b[0m \u001b[1;32mor\u001b[0m \u001b[0my\u001b[0m\u001b[1;33m.\u001b[0m\u001b[0mndim\u001b[0m \u001b[1;33m>\u001b[0m \u001b[1;36m2\u001b[0m\u001b[1;33m:\u001b[0m\u001b[1;33m\u001b[0m\u001b[0m\n\u001b[0;32m    225\u001b[0m             \u001b[1;32mraise\u001b[0m \u001b[0mValueError\u001b[0m\u001b[1;33m(\u001b[0m\u001b[1;34m\"x and y can be no greater than 2-D\"\u001b[0m\u001b[1;33m)\u001b[0m\u001b[1;33m\u001b[0m\u001b[0m\n",
      "\u001b[1;31mValueError\u001b[0m: x and y must have same first dimension"
     ]
    },
    {
     "data": {
      "image/png": "iVBORw0KGgoAAAANSUhEUgAAAYcAAAEACAYAAABYq7oeAAAABHNCSVQICAgIfAhkiAAAAAlwSFlz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\nRU5ErkJggg==\n",
      "text/plain": [
       "<matplotlib.figure.Figure at 0xb5e1588>"
      ]
     },
     "metadata": {},
     "output_type": "display_data"
    }
   ],
   "source": [
    "from analysis.lib.fitting import fit, common\n",
    "def fit_clipping_radius(g_ROC,g_Z,g_w0):\n",
    "#def fit_clipping_radius(g_ROC,g_Z):\n",
    "\n",
    "    fitfunc_str = '2*np.pi/(433e-6+np.exp(-4*ROC()*Z()/(637e-9/3.14*(x*ROC()/2)**0.5*(1+x/2/ROC()))))'\n",
    "    \n",
    "    ROC = fit.Parameter(g_ROC, 'ROC')\n",
    "    Z = fit.Parameter(g_Z, 'Z')\n",
    "    w0 = fit.Parameter(g_w0, 'w0')\n",
    "\n",
    "    p0 = [ROC,Z,w0]\n",
    "    #p0 = [ROC,Z]\n",
    "\n",
    "    def fitfunc(x):\n",
    "        #For symmetric cavity, from Hunger:\n",
    "        #return 2*np.pi/(433e-6+np.exp(-4*ROC()*Z()/(x*637e-9/np.pi*(1/(1-(1-x/ROC())**2))**0.5)))\n",
    "        \n",
    "        #For asymmetric cavity:\n",
    "        #return 2*np.pi/(433e-6+np.exp(-4*ROC()*Z()/(637e-9/np.pi*np.sqrt(x*(ROC()-x))*(1+(637e-9*x/np.pi*(637e-9/np.pi*np.sqrt(x*(ROC()-x)))**2)))))\n",
    "    \n",
    "        #For large cavity, w0 is fitted\n",
    "        return 2*np.pi/(419e-6+np.exp(-4*ROC()*Z()/(w0()**2+(637e-9*x/np.pi/w0())**2)))\n",
    "    \n",
    "        #For large cavity, w0 is analytical\n",
    "        #return 2*np.pi/(433e-6+np.exp(-4*ROC()*Z()/((637e-9*np.sqrt(x*ROC())/np.pi)+(637e-9*x/np.pi/np.sqrt(637e-9*np.sqrt(x*ROC())/np.pi))**2)))\n",
    "    \n",
    "    return p0, fitfunc, fitfunc_str\n",
    "\n",
    "fig = plt.figure()\n",
    "ax = plt.subplot(111)\n",
    "p0, fitfunc, fitfunc_str = fit_clipping_radius(18.3e-6,2e-6,1.02e-6)\n",
    "\n",
    "epsilon = 10e-6\n",
    "print RT_OND_POS2_Ns\n",
    "\n",
    "t = np.array(range(50,79))*318.5e-9\n",
    "r = np.array([14798.,14683.,14605.,14657.,14666.,14566.,14440.,14147.,13890.,13922.,13441.,12484.,11685.,10750.,9733.,8674.,7568.,6740.,6003.,5315.,4765.,3985.,3608.,3265.,2746.,2445.,2139.,1869.,1684.])\n",
    "ax.plot(t, r,'ro',label='data')\n",
    "ax.plot(t, fitfunc(t),label = 'fit')\n",
    "\n",
    "\n",
    "fit_result = fit.fit1d(t,r, None, p0=p0, fitfunc=fitfunc, do_print=True, ret=True, VERBOSE = True)\n",
    "\n",
    "#ax.set_title('Title')\n",
    "ax.set_xlabel('Cavity Length(m)')\n",
    "ax.set_ylabel('Finesse')\n",
    "print fit_result\n",
    "\n",
    "plt.legend()\n",
    "\n",
    "print fit_result['params_dict']['ROC']\n",
    "print fit_result['params_dict']['Z']\n",
    "print fit_result['params_dict']['w0']\n",
    "\n"
   ]
  },
  {
   "cell_type": "code",
   "execution_count": 188,
   "metadata": {
    "collapsed": false
   },
   "outputs": [
    {
     "name": "stdout",
     "output_type": "stream",
     "text": [
      "3564.28287358\n",
      "14510.5384971\n",
      "323.880952611\n",
      "13628.761427\n"
     ]
    }
   ],
   "source": [
    "x = 80*318.5e-9\n",
    "Z = 1.5e-6\n",
    "ROC = 18.3e-6\n",
    "w0 = 1e-6\n",
    " \n",
    "\n",
    "#sym\n",
    "#y = 2*np.pi/(433e-6+np.exp(-4*ROC*Z/(x*637e-9/np.pi*(1/(x/ROC*(1-x/ROC)))**0.5)))\n",
    "#print y\n",
    "\n",
    "#r = 2*np.pi/(433e-6+np.exp(-4*ROC*Z/(637e-9/3.14*(x*ROC/2)**0.5*(1+2*x/ROC))))\n",
    "r = 2*np.pi/(433e-6+np.exp(-4*ROC*Z/(637e-9/3.14*np.sqrt(x*ROC)*(1+2*x/ROC))))\n",
    "print r\n",
    "                          \n",
    "#asym\n",
    "t = 2*np.pi/(433e-6+np.exp(-4*ROC*Z/(637e-9/3.14*(x*ROC)**0.5*(1+x/4/ROC))))\n",
    "print t\n",
    "\n",
    "l = 2*np.pi/(433e-6+np.exp(-4*ROC*Z/(w0**2+(637e-9*x/np.pi/w0)**2)))\n",
    "print l\n",
    "\n",
    "k = 2*np.pi/(433e-6+np.exp(-4*ROC*Z/(637e-9*np.sqrt(x*ROC)/np.pi+(637e-9*x/np.pi)**2/(637e-9*np.sqrt(x*ROC)/np.pi))))\n",
    "print k"
   ]
  },
  {
   "cell_type": "code",
   "execution_count": 42,
   "metadata": {
    "collapsed": false,
    "scrolled": true
   },
   "outputs": [
    {
     "name": "stdout",
     "output_type": "stream",
     "text": [
      "[0 1 2 3] [0 1 2 3 4 5 6 7] [0 1 2]\n",
      "[54 55 56 57] [45 46 47 48 49 50 51 52] [52 53 54]\n"
     ]
    },
    {
     "data": {
      "image/png": "iVBORw0KGgoAAAANSUhEUgAAAvUAAAEZCAYAAAAXLNrpAAAABHNCSVQICAgIfAhkiAAAAAlwSFlz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\n",
      "text/plain": [
       "<matplotlib.figure.Figure at 0xd5b2ef0>"
      ]
     },
     "metadata": {},
     "output_type": "display_data"
    },
    {
     "data": {
      "text/plain": [
       "(<matplotlib.axes._subplots.AxesSubplot at 0xd4a44e0>,\n",
       " array([  6339.42315106,   7003.28261216,   6202.05307711,   5776.74855124,\n",
       "          5742.19595211,   6304.26680538,   7420.14846069,   7695.90089264,\n",
       "          9772.64869191,   8592.11451765,   7325.37217677,  10770.57941516,\n",
       "         10721.50921426,  10515.74230437,  10428.15213723]))"
      ]
     },
     "execution_count": 42,
     "metadata": {},
     "output_type": "execute_result"
    },
    {
     "data": {
      "image/png": "iVBORw0KGgoAAAANSUhEUgAAAZYAAAEPCAYAAABhkeIdAAAABHNCSVQICAgIfAhkiAAAAAlwSFlz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\nJxYzM8uUE4uZmWXq/wMKpOeZ0/c/tQAAAABJRU5ErkJggg==\n",
      "text/plain": [
       "<matplotlib.figure.Figure at 0xd858320>"
      ]
     },
     "metadata": {},
     "output_type": "display_data"
    }
   ],
   "source": [
    "# ON DIAMOND LINEWIDTH< LENGHTS< POS0\n",
    "reload(funcs)\n",
    "dir_L0 = os.path.join(datapath,'20160819/RT_OND_POS0_L0')\n",
    "dir_L1 = os.path.join(datapath,'20160819/RT_OND_POS0_L1')\n",
    "dir_L2 = os.path.join(datapath,'20160819/RT_OND_POS0_L2')\n",
    "\n",
    "\n",
    "V0s=np.arange(0,4,1)\n",
    "V1s=np.arange(0,8,1)\n",
    "V2s=np.arange(0,3,1)\n",
    "print V0s,V1s,V2s\n",
    "\n",
    "\n",
    "#V0s=np.array([2.935,4.088,5.183,6.182])\n",
    "#V1s=np.array([2.139,3.587,4.753,5.836,6.891,7.928,8.909,9.958])\n",
    "#V2s=np.array([6.957,8.738,9.866])\n",
    "\n",
    "N0s = np.array([54,55,56,57])\n",
    "N1s = np.array([45,46,47,48,49,50,51,52])#np.array([44,45,46,47,48,49,50,51])\n",
    "N2s = np.array([52,53,54])#np.array([51,52,53])\n",
    "print N0s,N1s,N2s\n",
    "\n",
    "\n",
    "folder,avgs0=funcs.get_avg_array_for_Vs(V0s,1,dir_L0,tag='')\n",
    "folder,avgs1=funcs.get_avg_array_for_Vs(V1s,1,dir_L1,tag='')\n",
    "folder,avgs2=funcs.get_avg_array_for_Vs(V2s,1,dir_L2,tag='')\n",
    "\n",
    "RT_OND_POS0_avgs = np.concatenate((avgs1,avgs2,avgs0))\n",
    "RT_OND_POS0_Ns = np.concatenate((N1s,N2s,N0s))\n",
    "\n",
    "##beunen begint hier\n",
    "#avgsN52=[(avgs[7]+avgs[8])/2.]\n",
    "#avgsN54=[(avgs[10]+avgs[11])/2.]\n",
    "#avgspos0 = np.append(np.append(np.append(np.append(avgs[0:7],avgsN52,axis=0),[avgs[9]],axis=0),avgsN54,axis=0),avgs[12:],axis=0)\n",
    "#print avgspos0\n",
    "#N52=[(Ns[7]+Ns[8])/2.]\n",
    "#N54=[(Ns[10]+Ns[11])/2.]\n",
    "#Nspos0 = np.append(np.append(np.append(np.append(Ns[0:7],N52),Ns[9]),N54),Ns[12:])\n",
    "#print Nspos0\n",
    "##beunenn stopt hier\n",
    "\n",
    "ax = funcs.plot_updown_lws(RT_OND_POS0_avgs,RT_OND_POS0_Ns)\n",
    "\n",
    "ax.set_title(folder)\n",
    "plt.savefig(os.path.join(folder,'plot_lw_vs_L.png'))\n",
    "plt.show()\n",
    "\n",
    "funcs.plot_finesse_vs_length_from_avgs(RT_OND_POS0_avgs,RT_OND_POS0_Ns)\n"
   ]
  },
  {
   "cell_type": "code",
   "execution_count": null,
   "metadata": {
    "collapsed": false,
    "scrolled": true
   },
   "outputs": [],
   "source": [
    "# ON DIAMOND LINEWIDTH< LENGHTS< POS1 L2\n",
    "reload(funcs)\n",
    "dir_L1 = os.path.join(datapath,'20160822/RT_OND_POS1_L1')\n",
    "dir_L3 = os.path.join(datapath,'20160822/RT_OND_POS1_L3')\n",
    "dir_L4 = os.path.join(datapath,'20160822/RT_OND_POS1_L4')\n",
    "dir_L5 = os.path.join(datapath,'20160822/RT_OND_POS1_L5')\n",
    "\n",
    "V1s=np.arange(0,8,1)\n",
    "V3s=np.arange(0,8,1)\n",
    "V4s=np.arange(0,8,1)\n",
    "V5s=np.arange(0,8,1)\n",
    "\n",
    "#V0s=np.array([1.546,3.019,4.237,5.348,6.404,7.473,8.515,9.551])\n",
    "#V3s=np.array([1.373,2.859,4.062,5.152,6.218,7.224,8.198,9.268])\n",
    "#V4s=np.array([0.951,2.390,3.646,4.783,5.843,6.934,7.975,8.977])\n",
    "#V5s=np.array([1.359,3.383,4.565,5.620,6.695,7.727,8.734,9.832])\n",
    "\n",
    "N1s = np.arange(53,61,1)#55,63#53,61\n",
    "N3s = np.arange(47,55,1)#49,57#46,55\n",
    "N4s = np.arange(44,52,1)\n",
    "N5s = np.arange(39,47,1)\n",
    "\n",
    "folder,avgs1=funcs.get_avg_array_for_Vs(V1s,1,dir_L1,tag='')\n",
    "folder,avgs3=funcs.get_avg_array_for_Vs(V3s,1,dir_L3,tag='')\n",
    "folder,avgs4=funcs.get_avg_array_for_Vs(V4s,1,dir_L4,tag='')\n",
    "folder,avgs5=funcs.get_avg_array_for_Vs(V5s,1,dir_L5,tag='')\n",
    "\n",
    "RT_OND_POS1_avgs=np.concatenate((avgs1,avgs3,avgs4,avgs5))\n",
    "RT_OND_POS1_Ns=np.concatenate((N1s,N3s,N4s,N5s))\n",
    "\n",
    "ax = funcs.plot_updown_lws(RT_OND_POS1_avgs,RT_OND_POS1_Ns)\n",
    "ax.set_title(folder)\n",
    "plt.savefig(os.path.join(folder,'plot_lw_vs_L.png'))\n",
    "plt.show()\n",
    "\n",
    "funcs.plot_finesse_vs_length_from_avgs(RT_OND_POS1_avgs,RT_OND_POS1_Ns)\n",
    "ax.set_title(folder)\n",
    "plt.savefig(os.path.join(folder,'Finesse_vs_L.png'))\n",
    "plt.show()\n",
    "\n",
    "\n",
    "# ax = plot_mean_lws(avgs,Ns, label='mean pos 1')\n",
    "# ax = plot_mean_lws(avgspos0,Nspos0, ax=ax, style ='go',label='mean pos 0')\n",
    "# ax.set_title(datapath)\n",
    "# plt.savefig(os.path.join(datapath,'plot_lw_vs_L_2positions.png'))\n",
    "# plt.show()"
   ]
  },
  {
   "cell_type": "code",
   "execution_count": null,
   "metadata": {
    "collapsed": false
   },
   "outputs": [],
   "source": []
  },
  {
   "cell_type": "code",
   "execution_count": null,
   "metadata": {
    "collapsed": true
   },
   "outputs": [],
   "source": [
    "# ON DIAMOND LINEWIDTH< LENGHTS< POS0\n",
    "#initial analayysis (manual)\n",
    "reload(funcs)\n",
    "linewidths1 = np.array([1.65,1.46, 1.62,1.70,1.67, 1.49,1.24,1.18])\n",
    "linewidths2 = np.array([0.809,0.798,0.799,0.792])\n",
    "linewidths3 = np.array([0.93,1.03,1.19])\n",
    "u_linewidths1 = np.array([0.06,0.04,0.04,0.04,0.04,0.04,0.04,0.04])\n",
    "u_linewidths2 = np.array([0.03,0.033,0.031,0.034])\n",
    "u_linewidths3 = np.array([0.04,0.04,0.04])\n",
    "\n",
    "linewidths=np.append(np.append(linewidths1 ,linewidths2),linewidths3)\n",
    "u_linewidths=np.append(np.append(u_linewidths1 ,u_linewidths2),u_linewidths3)\n"
   ]
  },
  {
   "cell_type": "code",
   "execution_count": null,
   "metadata": {
    "collapsed": false
   },
   "outputs": [],
   "source": [
    "# OFF DIAMOND LINEWIDTH< LENGHTS< \n",
    "\n",
    "linewidths = np.array([1.26,1.17,1.09,1.04,0.97,0.92,0.88,0.83,0.79,0.77])*1.e9\n",
    "u_linewidths = np.array([0.04,0.05,0.05,0.05,0.03,0.04,0.03,0.03,0.04,0.03])*1.e9\n",
    "N = np.array([13,14,15,16,17,18,19,20,21,22])\n",
    "cavity_lengths =  636.6*1.e-9*N/2\n",
    "print linewidths,u_linewidths,cavity_lengths\n",
    "\n"
   ]
  },
  {
   "cell_type": "code",
   "execution_count": null,
   "metadata": {
    "collapsed": false,
    "scrolled": true
   },
   "outputs": [],
   "source": [
    "# V = 1.129\n",
    "#8 um at  4.611, \n",
    "#so \n",
    "#removed 0.8+-0.03 @ N=22\n",
    "#23,24,0.76,0.76,0.04,0.03,\n",
    "fig,ax = plt.subplots()\n",
    "ax.errorbar(cavity_lengths*1.e6,linewidths*1.e-9,yerr=u_linewidths*1.e-9,fmt='o')\n",
    "ax.set_xlabel('cavity length (um)')\n",
    "ax.set_ylabel('linewidth (GHz)')\n"
   ]
  },
  {
   "cell_type": "code",
   "execution_count": null,
   "metadata": {
    "collapsed": false,
    "scrolled": true
   },
   "outputs": [],
   "source": [
    "reload(common)\n",
    "g_a = 0.1e9\n",
    "g_b = (c)/(2*40000)\n",
    "print g_b\n",
    "print cavity_lengths,linewidths\n",
    "p0, fitfunc, fitfunc_str = common.fit_inverse(g_a, g_b)\n",
    "fit_result = fit.fit1d(cavity_lengths,linewidths, None, p0=p0, fitfunc=fitfunc, do_print=True, ret=True, fixed=[])\n",
    "print p0\n",
    "fig,ax = plt.subplots(figsize=(8,4))\n",
    "ax.plot(cavity_lengths,linewidths)\n",
    "plot.plot_fit1d(fit_result, np.linspace(min(cavity_lengths),max(cavity_lengths),10*len(cavity_lengths)),ax=ax, label='Fit',show_guess=True, plot_data=True,color='red', data_linestyle = 'o', print_info= True)\n",
    "b_fit=fit_result['params_dict']['b']\n",
    "Finesse = c/(2*b_fit)\n",
    "ax.set_title(str(Finesse))\n",
    "# ax.text(0.1,0.1,'the finesse is '+str(Finesse))\n",
    "print Finesse"
   ]
  },
  {
   "cell_type": "code",
   "execution_count": null,
   "metadata": {
    "collapsed": true
   },
   "outputs": [],
   "source": [
    "\n",
    "\n"
   ]
  },
  {
   "cell_type": "code",
   "execution_count": null,
   "metadata": {
    "collapsed": false,
    "scrolled": true
   },
   "outputs": [],
   "source": [
    "indir = 'D:\\measuring\\data/20160914/HR_ANN_PROC_L0/V-1'\n",
    "filename = 'LWS006'\n",
    "EOM_freq= 7.\n",
    "data_col=2\n",
    "reload(oscillo_ana)\n",
    "\n",
    "oa_all = oscillo_ana.oscilloscope_analysis(indir=indir,filename=filename)\n",
    "x,y=oa_all.get_data(use_timetrace=False,x_min=None,x_max=None,data_col=data_col)\n",
    "oa_all.get_data(use_timetrace=False,x_min=None,x_max=100000,data_col=data_col)\n",
    "oa_all.plot_data(plot_mod=False,figsize=(16,4),fmt='o')\n",
    "print len(x)\n",
    "\n",
    "test=True\n",
    "x0 =2100\n",
    "x_odd_offset =0\n",
    "\n",
    "ms_per_div = 10 \n",
    "mod_frequency = 50 #Hz\n",
    "\n",
    "windowsize=200# print len(x)\n",
    "g_gamma = 6\n",
    "g_dx=26\n",
    "g_A=1.4\n",
    "max_chisq=0.01#0.003#0.007#0.004#0.001#0.04\n",
    "\n",
    "nr_lws=20.*mod_frequency*ms_per_div/1000.\n",
    "\n",
    "\n",
    "\n",
    "oscillo_ana.fit_all_resonances_in_sweep(nr_lws,x0,windowsize,x_odd_offset,g_gamma,g_dx,g_A,max_chisq,test=test,total_length=125000,data_col=data_col)\n",
    "\n"
   ]
  },
  {
   "cell_type": "code",
   "execution_count": null,
   "metadata": {
    "collapsed": false,
    "scrolled": true
   },
   "outputs": [],
   "source": [
    "#\n"
   ]
  },
  {
   "cell_type": "code",
   "execution_count": null,
   "metadata": {
    "collapsed": true
   },
   "outputs": [],
   "source": []
  },
  {
   "cell_type": "code",
   "execution_count": null,
   "metadata": {
    "collapsed": false,
    "scrolled": true
   },
   "outputs": [],
   "source": [
    "reload(oscillo_ana)\n",
    "indir='D:\\measuring\\data/20160825/OND_POS2L8'#'D:\\measuring\\data/20160430\\OFF_diamond'\n",
    "# filenames=['V0/NICE_LWS00168','V1/NICE_LWS00167','V-1/NICE_LWS00169',\\\n",
    "#           'V3/NICE_LWS00163','V4/NICE_LWS00164','V5/NICE_LWS00165',\\\n",
    "#           'V6/NICE_LWS00166']\n",
    "indir = 'D:\\measuring\\data/20160830/135900'\n",
    "filename = 'LT_LWS003'\n",
    "filenames=[filename]#['V0/NICE_LWS00168','V1/NICE_LWS00167','V-1/NICE_LWS00169']\n",
    "EOM_freq=6. # in GHz\n",
    "# x0s = [200,170,850,650,1100,750,400]\n",
    "# dx0s = [0,0,0,0,0,0,0,0,0]\n",
    "\n",
    "x0s = [5000,700,850]\n",
    "dx0s = [0,0,0]\n",
    "\n",
    "for j,filename in enumerate(filenames):\n",
    "    oa = oscillo_ana.oscilloscope_analysis(indir=indir,filename=filename)\n",
    "    oa.get_data(use_timetrace=False,x_min=0,x_max=10000,data_col=3)#1400)\n",
    "    oa.plot_data()#plot_mod=True)\n",
    "\n",
    "    # lws_old=lws[:-1]\n",
    "    lws = np.array([])#lws_old## \n",
    "    As = np.array([])#lws_old## \n",
    "    gammas = np.array([])#lws_old## \n",
    "    nr_lws=10\n",
    "\n",
    "    x0 =x0s[j]\n",
    "    windowsize=5000# print len(x)\n",
    "    # xi = int(len(x)/nr_lws)\n",
    "    # print xi \n",
    "\n",
    "    x,y = oa.get_data(use_timetrace=False,data_col=3)\n",
    "    # lw,u_lw = oa.plot_and_fit_with_EOM(EOM_freq=EOM_freq)\n",
    "    # print lw\n",
    "\n",
    "    for i in np.arange(nr_lws):\n",
    "        xi = int(x0+(len(x)*i/nr_lws))\n",
    "\n",
    "        if i%2==1:\n",
    "            xi=xi+dx0s[j]   \n",
    "        if (xi-windowsize)>0:\n",
    "            x_min = xi-windowsize\n",
    "        else: \n",
    "            x_min = 0\n",
    "        if (xi+windowsize)<len(x)-1:\n",
    "            x_max = xi+windowsize\n",
    "        else:\n",
    "            x_max =-1\n",
    "        oa.get_data(use_timetrace=False,x_min = x_min, x_max=x_max,data_col=3)\n",
    "    #     oa.plot_data()\n",
    "        print i\n",
    "        lw,u_lw,A1,u_A1,gamma1,u_gamma1 = \\\n",
    "            oa.plot_and_fit_with_EOM(EOM_freq=EOM_freq,\n",
    "                g_gamma1=500, g_dx=1000,g_A2=10000,g_A3=10000,show_fit=True,print_fit=False)\n",
    "        lws = np.append(lws,lw)\n",
    "        As = np.append(As,A1)\n",
    "        gammas = np.append(gammas,gamma1)\n",
    "        if i>1:\n",
    "            break\n",
    "\n",
    "    print lws\n",
    "    print len(lws)\n",
    "    print np.average(lws)\n",
    "    print np.std(lws)\n",
    "\n",
    "    f = open(os.path.join(indir,filename+'_fitted_lws.txt'), 'w')\n",
    "    np.savetxt(f,lws)\n",
    "    f.close()\n",
    "    f = open(os.path.join(indir,filename+'_fitted_As.txt'), 'w')\n",
    "    np.savetxt(f,As)\n",
    "    f.close()\n",
    "    f = open(os.path.join(indir,filename+'_fitted_gammas.txt'), 'w')\n",
    "    np.savetxt(f,gammas)\n",
    "    f.close()\n",
    "\n",
    "# plt.show()\n",
    "\n",
    "# x,y = oscillo_ana.plot_data(indir, filename,use_timetrace=False,x_min=x_min,x_max=x_max)\n",
    "\n",
    "# oscillo_ana.plot_and_fit_with_EOM(indir, filename,EOM_frq,g_a1, g_A1, g_x01, g_gamma1, g_dx, g_A2,g_A3,fixed=fixed,use_timetrace=False)"
   ]
  },
  {
   "cell_type": "code",
   "execution_count": null,
   "metadata": {
    "collapsed": false,
    "scrolled": true
   },
   "outputs": [],
   "source": [
    "\n",
    "# print len(lws)\n",
    "# print lws\n",
    "# lws_old=lws[120:]\n",
    "# print len(lws_old)\n",
    "# print lws_old\n",
    "# #print lws_old\n",
    "# f = open(os.path.join(indir,'fitted_lws.txt'), 'w')\n",
    "# np.savetxt(f,lws_old)\n",
    "# f.close()"
   ]
  },
  {
   "cell_type": "code",
   "execution_count": null,
   "metadata": {
    "collapsed": true
   },
   "outputs": [],
   "source": []
  },
  {
   "cell_type": "code",
   "execution_count": null,
   "metadata": {
    "collapsed": false,
    "scrolled": true
   },
   "outputs": [],
   "source": [
    "# indir='D:\\measuring\\data/20160819/OND_L2_V9p866'#\n",
    "lws_from_file={}\n",
    "for filename in filenames:\n",
    "    print filename\n",
    "\n",
    "    f = open(os.path.join(indir,filename+'_fitted_lws.txt'), 'r')\n",
    "    lws_from_file[filename] = np.loadtxt(f)\n",
    "    f.close()\n",
    "    \n",
    "    print len(lws_from_file[filename])\n",
    "\n",
    "    os.listdir(indir)\n",
    "    # filename='NICE_LWS00058'\n",
    "    reload(oscillo_ana)\n",
    "    oa = oscillo_ana.oscilloscope_analysis(indir=indir,filename=filename)\n",
    "    oa.get_data(use_timetrace=False,x_max=2000)#5000\n",
    "    oa.plot_data(plot_mod=True)\n",
    "    #oa.get_data(use_timetrace=False,x_min=-2000)\n",
    "    #oa.plot_data(plot_mod=True)"
   ]
  },
  {
   "cell_type": "code",
   "execution_count": null,
   "metadata": {
    "collapsed": false,
    "scrolled": true
   },
   "outputs": [],
   "source": [
    "first_lw_directions = ['u','u','u','u','u','u','d']"
   ]
  },
  {
   "cell_type": "code",
   "execution_count": null,
   "metadata": {
    "collapsed": false,
    "scrolled": true
   },
   "outputs": [],
   "source": [
    "#IF SINGLE FILE EXECUTE THIS CELL:\n",
    "for i,filename in enumerate(filenames):\n",
    "    first_lw_direction = first_lw_directions[i]\n",
    "\n",
    "    updown_mean_lws,lws_up,lws_down =funcs.get_up_down_lws(lws_from_file[filename],first_lw_direction)\n",
    "    analysis=funcs.add_to_analysis_dict({},lws_up,lws_down,updown_mean_lws)\n",
    "    funcs.save_to_json_file(indir,filename+'_analysis',analysis)\n",
    "\n",
    "    print 'results of ',indir,filename\n",
    "    print_results(analysis)\n"
   ]
  },
  {
   "cell_type": "code",
   "execution_count": null,
   "metadata": {
    "collapsed": true
   },
   "outputs": [],
   "source": [
    "#IF THREE FILES EXECUTE THIS AND THE FOLLWING CELLS:\n",
    "\n",
    "file1_first_lw_direction = 'up'\n",
    "file2_first_lw_direction = 'up'\n",
    "file3_first_lw_direction = 'down'\n",
    "removedfromfile1=0\n",
    "removedfromfile2=0\n"
   ]
  },
  {
   "cell_type": "code",
   "execution_count": null,
   "metadata": {
    "collapsed": false
   },
   "outputs": [],
   "source": [
    "fitted_lws_file1=lws_from_file[0:48-removedfromfile1]\n",
    "fitted_lws_file2=lws_from_file[48-removedfromfile1:96-removedfromfile1-removedfromfile2]\n",
    "fitted_lws_file3=lws_from_file[96-removedfromfile1-removedfromfile2:144]\n",
    "\n",
    "print len(fitted_lws_file1),len(fitted_lws_file2),len(fitted_lws_file3)\n",
    "#print fitted_lws_file1\n",
    "#print fitted_lws_file2 \n",
    "#print fitted_lws_file3"
   ]
  },
  {
   "cell_type": "code",
   "execution_count": null,
   "metadata": {
    "collapsed": false,
    "scrolled": true
   },
   "outputs": [],
   "source": [
    "funcs.save_to_txt_file(indir,'fitted_lws_file1',fitted_lws_file1)\n",
    "funcs.save_to_txt_file(indir,'fitted_lws_file2',fitted_lws_file2)\n",
    "funcs.save_to_txt_file(indir,'fitted_lws_file3',fitted_lws_file3)\n",
    "\n",
    "updown_mean_lws_file1,lws_up_file1,lws_down_file1 =funcs.get_up_down_lws(fitted_lws_file1,file1_first_lw_direction)\n",
    "updown_mean_lws_file2,lws_up_file2,lws_down_file2 =funcs.get_up_down_lws(fitted_lws_file2,file2_first_lw_direction)\n",
    "updown_mean_lws_file3,lws_up_file3,lws_down_file3 =funcs.get_up_down_lws(fitted_lws_file3,file3_first_lw_direction)\n",
    "\n",
    "updown_mean_lws = np.append(np.append(updown_mean_lws_file1,updown_mean_lws_file2),updown_mean_lws_file3)\n",
    "lws_up = np.append(np.append(lws_up_file1,lws_up_file2),lws_up_file3)\n",
    "lws_down = np.append(np.append(lws_down_file1,lws_down_file2),lws_down_file3)\n",
    "\n",
    "analysis=funcs.add_to_analysis_dict({},lws_up,lws_down,updown_mean_lws)\n",
    "analysis_file1=funcs.add_to_analysis_dict({},lws_up_file1,lws_down_file1,updown_mean_lws_file1)\n",
    "analysis_file2=funcs.add_to_analysis_dict({},lws_up_file2,lws_down_file2,updown_mean_lws_file2)\n",
    "analysis_file3=funcs.add_to_analysis_dict({},lws_up_file3,lws_down_file3,updown_mean_lws_file3)\n",
    "funcs.save_to_json_file(indir,'analysis',analysis)\n",
    "funcs.save_to_json_file(indir,'analysis_file1',analysis_file1)\n",
    "funcs.save_to_json_file(indir,'analysis_file2',analysis_file2)\n",
    "funcs.save_to_json_file(indir,'analysis_file3',analysis_file3)\n",
    "\n",
    "print 'results of ',indir\n",
    "print_results(analysis)\n",
    "print_results(analysis_file1)\n",
    "print_results(analysis_file2)\n",
    "print_results(analysis_file3)"
   ]
  },
  {
   "cell_type": "code",
   "execution_count": null,
   "metadata": {
    "collapsed": false
   },
   "outputs": [],
   "source": [
    "\n"
   ]
  },
  {
   "cell_type": "code",
   "execution_count": null,
   "metadata": {
    "collapsed": false
   },
   "outputs": [],
   "source": [
    "import matplotlib.pyplot as plt\n",
    "\n",
    "fig,ax=plt.subplots()\n",
    "\n",
    "ax.plot(lws)\n",
    "ax.set_xlabel('sweep nr')\n",
    "ax.set_ylabel('linewidth')"
   ]
  },
  {
   "cell_type": "code",
   "execution_count": null,
   "metadata": {
    "collapsed": true
   },
   "outputs": [],
   "source": [
    "f = open(os.path.join(indir,'fitted_lws_file0010.txt'), 'w')\n",
    "np.savetxt(f,lws)\n",
    "f.close()"
   ]
  },
  {
   "cell_type": "code",
   "execution_count": null,
   "metadata": {
    "collapsed": false
   },
   "outputs": [],
   "source": [
    "copy_lws_from_file=lws_from_file\n",
    "print co"
   ]
  },
  {
   "cell_type": "code",
   "execution_count": null,
   "metadata": {
    "collapsed": true
   },
   "outputs": [],
   "source": [
    "f = open(os.path.join(indir,'fitted_lws.txt'), 'w')\n",
    "np.savetxt(f,new_lws_from_file)\n",
    "f.close()"
   ]
  },
  {
   "cell_type": "code",
   "execution_count": 83,
   "metadata": {
    "collapsed": false
   },
   "outputs": [
    {
     "data": {
      "image/png": "iVBORw0KGgoAAAANSUhEUgAAAX8AAAEACAYAAABbMHZzAAAABHNCSVQICAgIfAhkiAAAAAlwSFlz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\nJJAlf2OMSaD/Bz3K0fKf7GAhAAAAAElFTkSuQmCC\n",
      "text/plain": [
       "<matplotlib.figure.Figure at 0x91e9c88>"
      ]
     },
     "metadata": {},
     "output_type": "display_data"
    }
   ],
   "source": []
  },
  {
   "cell_type": "code",
   "execution_count": null,
   "metadata": {
    "collapsed": true
   },
   "outputs": [],
   "source": []
=======
   "metadata": {}
>>>>>>> 809bae249b85397ab865dc86bdf899c1a0465fe8
  }
 ]
}