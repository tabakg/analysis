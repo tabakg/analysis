{
 "cells": [
  {
   "cell_type": "code",
   "execution_count": null,
   "metadata": {
    "collapsed": false
   },
   "outputs": [],
   "source": [
    "execfile('d:/measuring/analysis/scripts/setup_analysis.py')\n",
    "%matplotlib inline"
   ]
  },
  {
   "cell_type": "code",
   "execution_count": null,
   "metadata": {
    "collapsed": false
   },
   "outputs": [],
   "source": [
    "# NV levels transitions\n",
    "\n",
    "nvlevels.get_transitions_ExEy(80.3,90.8,\n",
    "                              show_ms0_transitions=True,\n",
    "                              show_m1_transitions=True,\n",
    "                              show_p1_transitions=False,\n",
    "                              show_A_transitions=False,\n",
    "                              show_FB_A_transitions=False,\n",
    "                              show_FB_E_transitions=False,\n",
    "                              show_E_prime_flip_transitions=False)"
   ]
  },
  {
   "cell_type": "code",
   "execution_count": null,
   "metadata": {
    "collapsed": true
   },
   "outputs": [],
   "source": []
  },
  {
   "cell_type": "code",
   "execution_count": null,
   "metadata": {
    "collapsed": false
   },
   "outputs": [],
   "source": [
    "### Fitting laserscans 1 peak at a time\n",
    "\n",
    "f_min = 85\n",
    "f_max = 100\n",
    "g_a= 100\n",
    "g_A= 300\n",
    "g_x0 = 91\n",
    "g_gamma = 0.5\n",
    "fixed=[]\n",
    "\n",
    "\n",
    "folder = r'D:\\measuring\\data\\20161005\\134741_laser_scan_Harry_Scan5_NV4_g_0.0_r_2.0'\n",
    "d = np.loadtxt(tb.get_msmt_fp(folder, ext='dat'), skiprows=15)\n",
    "if len(d)>2:\n",
    "    voltage, frequency, counts = d[:,0],d[:,1],d[:,2]\n",
    "\n",
    "fig,ax=plt.subplots(1, figsize=(16,5))\n",
    "plt.plot(frequency,counts,'-')\n",
    "ax.set_xlabel(\"Frequency (GHz wrt 470.4 THz)\", fontsize = 14)\n",
    "ax.set_ylabel(\"Countrate (Hz)\", fontsize = 14)\n",
    "plt.savefig(os.path.join(folder,'Scan5_NV2_wholefigure.png'))\n",
    "\n",
    "idx_min = np.searchsorted(frequency, f_min, side=\"left\")\n",
    "idx_max = np.searchsorted(frequency, f_max, side=\"left\")\n",
    "frequency = frequency[idx_min:idx_max]\n",
    "counts = counts[idx_min:idx_max]\n",
    "\n",
    "fig,ax=plt.subplots(1, figsize=(8,5))\n",
    "    \n",
    "p0, fitfunc, fitfunc_str = common.fit_lorentz(g_a, g_A, g_x0, g_gamma)\n",
    "fit_result = fit.fit1d(frequency,counts, None, p0=p0, fitfunc=fitfunc, do_print=True, ret=True, fixed=fixed)\n",
    "\n",
    "T = fit_result['params_dict']['x0']\n",
    "gamma = fit_result['params_dict']['gamma']\n",
    "u_gamma = fit_result['error_dict']['gamma']\n",
    "\n",
    "print 'T = ', T , 'GHz'\n",
    "print 'Linewidth T', gamma, 'GHz +/-', u_gamma, 'GHz'\n",
    "\n",
    "\n",
    "plot.plot_fit1d(fit_result, np.linspace(frequency[0],frequency[-1],len(frequency)),ax=ax, label='Fit',show_guess=True, plot_data=True,color='red', data_linestyle = '-', print_info= False)\n",
    "ax.set_xlabel(\"Frequency (GHz wrt 470.4 THz)\", fontsize = 14)\n",
    "ax.set_ylabel(\"Countrate (Hz)\", fontsize = 14)\n",
    "ax.legend(title='Transition at %.2f GHz, Linewidth = %.2f $\\pm$ %.2f MHz'%(T, gamma*1.e3,u_gamma*1.e3))\n",
    "plt.savefig(os.path.join(folder,'Scan5_NV4_Ex.png'))\n"
   ]
  },
  {
   "cell_type": "code",
   "execution_count": null,
   "metadata": {
    "collapsed": true
   },
   "outputs": [],
   "source": [
    "# plotting optical depth versus linewidth Ey\n",
    "\n",
    "folder = r'K:\\ns\\qt\\Diamond\\Samples\\Cavity samples\\2016-09 Harry_unetched\\Laserscans'\n",
    "fig,ax=plt.subplots(1, figsize=(8,5))\n",
    "od = [0.6, 1, 2, 1.8]\n",
    "Ey = [315, 367, 421, 295]\n",
    "yerr = [13, 12, 102, 12]\n",
    "\n",
    "eb = plt.errorbar(od, Ey, yerr=yerr, fmt='.', color='b')\n",
    "ax.set_xlabel(\"Optical depth (um)\", fontsize = 14)\n",
    "ax.set_ylabel(\"Linewidth Ey (MHz)\", fontsize = 14)\n",
    "ax.set_xlim(0,2.5)\n",
    "plt.savefig(os.path.join(folder,'OpticalDepth_vs_Eylinewidth.png'))\n",
    "\n",
    "\n",
    "strain = [6.99,7.1,18.36,7.36,7.84,18.8,20.49,13.49,14.52]\n",
    "avg_strain = np.mean(strain)\n",
    "print avg_strain"
   ]
  },
  {
   "cell_type": "code",
   "execution_count": null,
   "metadata": {
    "collapsed": true
   },
   "outputs": [],
   "source": [
    "### Plot 2 graphs in one figure with two axes \n",
    "\n",
    "from mpl_toolkits.axes_grid1 import host_subplot\n",
    "import mpl_toolkits.axisartist as AA\n",
    "import matplotlib.pyplot as plt\n",
    "\n",
    "folder = r'K:\\ns\\qt\\Diamond\\Samples\\Cavity samples\\2016-09 Harry_unetched\\Laserscans'\n",
    "od = [0.6, 1, 2, 1.8]\n",
    "Ey = [315, 367, 421, 295]\n",
    "Ex = [522, 619, 1417, 239]\n",
    "yerr = [13, 12, 102, 12]\n",
    "xerr = [38,57,384,65]\n",
    "\n",
    "if 1:\n",
    "\n",
    "    host = host_subplot(111, axes_class=AA.Axes)\n",
    "    plt.subplots_adjust(right=0.75)\n",
    "\n",
    "    par1 = host.twinx()\n",
    "    \n",
    "    offset = 60\n",
    "\n",
    "    host.set_xlim(0, 2.5)\n",
    "    host.set_ylim(0, 1500)\n",
    "\n",
    "    host.set_xlabel(\"Optical depth (um)\")\n",
    "    host.set_ylabel(\"Intrinsic linewidth Ey (Mhz)\")\n",
    "    par1.set_ylabel(\"Linewidth Ex with green excitation (Mhz)\")\n",
    "    \n",
    "\n",
    "    p1, = host.plot(od, Ey, '.')\n",
    "    p2, = par1.plot(od, Ex, '.')\n",
    "    eb1 = plt.errorbar(od, Ey, yerr=yerr, fmt='.', color='b')\n",
    "    eb2 = plt.errorbar(od, Ex, yerr=xerr, fmt='.', color='g')\n",
    "    \n",
    "    par1.set_ylim(0, 1500)\n",
    "\n",
    "    host.legend()\n",
    "\n",
    "    host.axis[\"left\"].label.set_color(p1.get_color())\n",
    "    par1.axis[\"right\"].label.set_color(p2.get_color())\n",
    "\n",
    "    plt.draw()\n",
    "    #plt.show()\n",
    "    plt.savefig(os.path.join(folder,'OpticalDepth_vs_Eylinewidth_Ex_green.png'))"
   ]
  },
  {
   "cell_type": "code",
   "execution_count": null,
   "metadata": {
    "collapsed": false
   },
   "outputs": [],
   "source": [
    "### Plotting two graphs in one figure same axes\n",
    "\n",
    "import matplotlib.pyplot as plt\n",
    "%matplotlib inline\n",
    "\n",
    "import analysis.scripts.cavity.spectrometer_analysis as sa\n",
    "import analysis.scripts.cavity.spectrometer_analysis_2Dsweep as spectrometer_analysis_2Dsweep\n",
    "data_dir = 'D:\\measuring\\data/20161004/Sophie_ZPL_spectrometer/20160920 ZPL Sophie Area 5'\n",
    "data_dir2 = 'D:\\measuring\\data/20161004/Harry_ZPL_spectrometer'\n",
    "\n",
    "sa_2D = spectrometer_analysis_2Dsweep.spectrometer_2D_analysis(data_dir,V_min=0,V_max=10,laser_wavelength=636.6e-9)\n",
    "frequencies,filenumbers,intensities = sa_2D.get_data(min_frq=470,max_frq=473)\n",
    "\n",
    "\n",
    "intensity = intensities[:,0]\n",
    "intensity = intensity - 600\n",
    "\n",
    "sa_2D_2 = spectrometer_analysis_2Dsweep.spectrometer_2D_analysis(data_dir2,V_min=0,V_max=10,laser_wavelength=636.6e-9)\n",
    "frequencies2,filenumbers2,intensities2 = sa_2D_2.get_data(min_frq=470,max_frq=473)\n",
    "\n",
    "intensity2 = intensities2[:,0]\n",
    "\n",
    "fig,ax=plt.subplots(1, figsize=(10,5))\n",
    "plt.plot(frequencies,intensity, '-', label='d = 3 um')\n",
    "plt.plot(frequencies2, intensity2, '-', label='d = 27 um')\n",
    "\n",
    "plt.xlabel('Frequency (THz)')\n",
    "plt.ylabel('Intensity (a.u.)')\n",
    "ax.set_ylim(0,5000)\n",
    "#ax.set_yscale('log')\n",
    "plt.legend()\n",
    "plt.title('Sophie\"s ZPL is translated down 600, for clarity')\n",
    "plt.draw()\n",
    "#plt.show()\n",
    "folder = 'D:\\measuring\\data/20161004'\n",
    "plt.savefig(os.path.join(folder,'ZPL_Sophie_Harry_Spectrometer.png'))\n",
    "\n"
   ]
  },
  {
   "cell_type": "code",
   "execution_count": null,
   "metadata": {
    "collapsed": true
   },
   "outputs": [],
   "source": [
    "### Plotting and fitting spectrometer data\n",
    "\n",
    "import analysis.scripts.cavity.spectrometer_analysis as sa\n",
    "import analysis.scripts.cavity.spectrometer_analysis_2Dsweep as spectrometer_analysis_2Dsweep\n",
    "data_dir = 'D:\\measuring\\data/20161004/Sophie_ZPL_spectrometer/20160920 ZPL Sophie Area 5'\n",
    "\n",
    "f_min = 0\n",
    "f_max = 1000\n",
    "g_a= 0\n",
    "g_A= 100\n",
    "g_x0 = 471.7\n",
    "g_gamma = 0.5\n",
    "fixed=[]\n",
    "\n",
    "sa_2D = spectrometer_analysis_2Dsweep.spectrometer_2D_analysis(data_dir,V_min=0,V_max=10,laser_wavelength=636.6e-9)\n",
    "frequencies,filenumbers,intensities = sa_2D.get_data(min_frq=470,max_frq=473)\n",
    "reload(spectrometer_analysis_2Dsweep)\n",
    "intensity = intensities[:,0]\n",
    "\n",
    "\n",
    "fig,ax=plt.subplots(1, figsize=(16,5))\n",
    "plt.plot(frequencies,intensities[:,0],'-')\n",
    "ax.set_xlabel(\"Frequency (THz)\", fontsize = 14)\n",
    "ax.set_ylabel(\"Intensity(a.u.)\", fontsize = 14)\n",
    "plt.savefig(os.path.join(data_dir,'Sophie_Scan5_ZPL.png'))\n",
    "\n",
    "idx_min = np.searchsorted(frequencies, f_min, side=\"left\")\n",
    "idx_max = np.searchsorted(frequencies, f_max, side=\"left\")\n",
    "frequency = frequencies[idx_min:idx_max]\n",
    "intensity = intensity[idx_min:idx_max]\n",
    "print max(frequency)\n",
    "print len(frequency)\n",
    "\n",
    "\n",
    "fig,ax=plt.subplots(1, figsize=(8,5))\n",
    "    \n",
    "p0, fitfunc, fitfunc_str = common.fit_lorentz(g_a, g_A, g_x0, g_gamma)\n",
    "fit_result = fit.fit1d(frequency,intensity, None, p0=p0, fitfunc=fitfunc, do_print=True, ret=True, fixed=fixed)\n",
    "\n",
    "T = fit_result['params_dict']['x0']\n",
    "gamma = fit_result['params_dict']['gamma']\n",
    "u_gamma = fit_result['error_dict']['gamma']\n",
    "\n",
    "print 'T = ', T , 'GHz'\n",
    "print 'Linewidth T', gamma, 'GHz +/-', u_gamma, 'GHz'\n",
    "\n",
    "\n",
    "plot.plot_fit1d(fit_result, np.linspace(frequency[0],frequency[-1],len(frequency)),ax=ax, label='Fit',show_guess=True, plot_data=True,color='red', data_linestyle = '-', print_info= False)\n",
    "ax.set_xlabel(\"Frequency (THz)\", fontsize = 14)\n",
    "ax.set_ylabel(\"Intensity (a.u.)\", fontsize = 14)\n",
    "ax.set_yscale('log')\n",
    "ax.legend(title='ZPL at %.2f THz, Linewidth = %.2f $\\pm$ %.2f GHz'%(T, gamma*1.e3,u_gamma*1.e3))\n",
    "plt.savefig(os.path.join(data_dir,'fit_Sophie_scan5.png'))"
   ]
  },
  {
   "cell_type": "code",
   "execution_count": null,
   "metadata": {
    "collapsed": false
   },
   "outputs": [],
   "source": [
    "# plotting microwave power versus linewidth Ex\n",
    "\n",
    "folder = r'K:\\ns\\qt\\Diamond\\Samples\\Cavity samples\\2016-09 Harry_unetched\\Laserscans'\n",
    "fig,ax=plt.subplots(1, figsize=(8,5))\n",
    "mw = [10, 10,12,15,15,20,26]\n",
    "Ex = [975, 953,975,912,993,1284,2774]\n",
    "yerr = [53,50,67,63,64,91,108]\n",
    "\n",
    "eb = plt.errorbar(mw, Ex, yerr=yerr, fmt='.', color='b')\n",
    "ax.set_xlabel(\"Microwave power (dBm)\", fontsize = 14)\n",
    "ax.set_ylabel(\"Linewidth Ex (MHz)\", fontsize = 14)\n",
    "ax.set_xlim(5,30)\n",
    "plt.savefig(os.path.join(folder,'Microwavepower_vs_Exlinewidth_Scan5NV4.png'))\n",
    "\n"
   ]
  },
  {
   "cell_type": "code",
   "execution_count": null,
   "metadata": {
    "collapsed": true
   },
   "outputs": [],
   "source": []
  }
 ],
 "metadata": {
  "kernelspec": {
   "display_name": "Python 2",
   "language": "python",
   "name": "python2"
  },
  "language_info": {
   "codemirror_mode": {
    "name": "ipython",
    "version": 2
   },
   "file_extension": ".py",
   "mimetype": "text/x-python",
   "name": "python",
   "nbconvert_exporter": "python",
   "pygments_lexer": "ipython2",
   "version": "2.7.3"
  }
 },
 "nbformat": 4,
 "nbformat_minor": 0
}
