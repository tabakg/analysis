{
 "metadata": {
  "kernelspec": {
   "display_name": "Python 2",
   "language": "python",
   "name": "python2"
  },
  "language_info": {
   "codemirror_mode": {
    "name": "ipython",
    "version": 2
   },
   "file_extension": ".py",
   "mimetype": "text/x-python",
   "name": "python",
   "nbconvert_exporter": "python",
   "pygments_lexer": "ipython2",
   "version": "2.7.3"
  },
  "name": "",
  "signature": "sha256:37fbd6b3f0c2c17dccbc643fa9586582e282bf1122a749c072d3a04837457a36"
 },
 "nbformat": 3,
 "nbformat_minor": 0,
 "worksheets": [
  {
   "cells": [
    {
     "cell_type": "code",
     "collapsed": false,
     "input": [
      "%matplotlib inline\n",
      "import os\n",
      "import numpy as np\n",
      "import sys\n",
      "import matplotlib\n",
      "import matplotlib.pyplot as plt\n",
      "c=2.998e8 #speed of light\n",
      "import time\n",
      "filepath='D:/measuring/'\n",
      "import scipy.signal\n",
      "os.chdir(filepath)\n",
      "\n",
      "sys.path.append('H:/My Documents/measuring/')\n",
      "%matplotlib inline\n",
      "\n",
      "from analysis.lib.tools import plot\n",
      "import analysis.lib.tools.toolbox as tb\n",
      "from analysis.lib.fitting import fit,common\n",
      "from analysis.lib.cavity import cavity_tools\n",
      "import analysis.scripts.cavity.cavity_general_analysis\n",
      "from analysis.scripts.cavity import analyse_laserscan "
     ],
     "language": "python",
     "metadata": {},
     "outputs": [
      {
       "output_type": "stream",
       "stream": "stdout",
       "text": [
        "reloaded\n"
       ]
      }
     ],
     "prompt_number": 2
    },
    {
     "cell_type": "code",
     "collapsed": false,
     "input": [
      "import math\n",
      "2*math.sqrt(2*math.log(2))"
     ],
     "language": "python",
     "metadata": {},
     "outputs": [],
     "prompt_number": null
    },
    {
     "cell_type": "code",
     "collapsed": false,
     "input": [
      "times = ['214252','215843','220955','223331','203750','160830']\n",
      "labels=['44','45','46','47','49','52']\n",
      "Ns=[44,45,46,47,49,52]\n",
      "reload(analyse_laserscan)\n",
      "binsize = 50\n",
      "\n",
      "FWHM_bins2 = np.array([])\n",
      "u_FWHM_bins2 = np.array([])\n",
      "fig3,ax3 = plt.subplots(figsize=(14,4))\n",
      "  \n",
      "    \n",
      "ax3.set_xlabel('bin nr')\n",
      "ax3.set_ylabel('FWHM')\n",
      "for i,time in enumerate(times):\n",
      "    timestamp,folder = tb.latest_data(contains = time+'_fine_laser_scan',return_timestamp=True)\n",
      "\n",
      "    a=analyse_laserscan.laserscan_analysis(folder)\n",
      "    a.get_and_bin_data(binsize=binsize,avg_per_s=False)\n",
      "#     a.poly_fit_frq()\n",
      "#     a.plot_PD_signal_vs_frq()\n",
      "#     a.plot_PD_signal_vs_V()\n",
      "#     a.plot_frq_vs_V()\n",
      "    FWHMs,u_FWHMs=a.fit_bins(plot_fit=False,plot_sigmas=False)\n",
      "    ax3.errorbar(np.arange(a.nr_bins),FWHMs,yerr=u_FWHMs,label=labels[i])\n",
      "#     a.plot_bins()\n",
      "#     a.get_linecut_per_ms(linecut_point = 10,do_plot=False)\n",
      "    FWHM_bins2 = np.append(FWHM_bins2,FWHMs[5])\n",
      "    u_FWHM_bins2 = np.append(u_FWHM_bins2,u_FWHMs[5])\n",
      "    a.finish()\n",
      "ax3.legend(title='cavity mode nr',loc='upper left')\n",
      "\n",
      "ax3.set_ylim([0,50])\n",
      "ax3.set_xlim([0,19])\n",
      "\n",
      "\n",
      "ax3.set_title(os.path.split(folder)[-1]+'/FWHMs_vs_bins_sweep_cavitylength_binsize%d.png'%binsize)\n",
      "fig3.savefig(folder+'/FWHMs_vs_bins_sweep_cavitylength_binsize%d.png'%binsize)\n",
      "# pls.show()\n",
      "# plt.close()\n",
      "\n",
      "fig4,ax4 = plt.subplots(figsize=(14,4))\n",
      "ax4.errorbar(Ns,FWHM_bins2,yerr=u_FWHM_bins2)\n",
      "ax4.set_xlim([43,53])\n",
      "ax4.set_xlabel('mode nr (N)')\n",
      "ax4.set_ylabel('FWHM of gaussian fit')\n",
      "fig4.savefig(folder+'/FWHMs_bin3_vs_cavitylength.png')\n"
     ],
     "language": "python",
     "metadata": {},
     "outputs": [],
     "prompt_number": null
    },
    {
     "cell_type": "code",
     "collapsed": false,
     "input": [
      "times = ['165207','162137','160830']\n",
      "labels=['normal 1','normal 2', 'normal 3']\n",
      "binsizes = [72,83,100]\n",
      "reload(analyse_laserscan)\n",
      "\n",
      "fig3,ax3 = plt.subplots(figsize=(14,4))\n",
      "    \n",
      "ax3.set_xlabel('bin start time (100 ms)')\n",
      "ax3.set_ylabel('FWHM')\n",
      "for i,time in enumerate(times):\n",
      "    timestamp,folder = tb.latest_data(contains = time+'_fine_laser_scan',return_timestamp=True)\n",
      "\n",
      "    a=analyse_laserscan.laserscan_analysis(folder)\n",
      "    a.get_and_bin_data(binsize=binsizes[i],avg_per_s=False)\n",
      "#     a.poly_fit_frq()\n",
      "#     a.plot_PD_signal_vs_frq()\n",
      "#     a.plot_PD_signal_vs_V()\n",
      "#     a.plot_frq_vs_V()\n",
      "    FWHMs,u_FWHMs=a.fit_bins(plot_fit=False,plot_sigmas=False)\n",
      "    ax3.errorbar(np.arange(a.nr_bins)*binsizes[i]/100.,FWHMs,yerr=u_FWHMs,label=labels[i])\n",
      "#     a.plot_bins()\n",
      "#     a.get_linecut_per_ms(linecut_point = 10,do_plot=False)\n",
      "    a.finish()\n",
      "ax3.legend(title='pulse tube setting',loc='upper left')\n",
      "\n",
      "ax3.set_ylim([0,150])\n",
      "ax3.set_xlim([0,20])\n",
      "\n",
      "\n",
      "ax3.set_title(os.path.split(folder)[-1]+'/FWHMs_vs_bins_sweep_tubesetting.png')\n",
      "plt.show()\n",
      "fig3.savefig(folder+'/FWHMs_vs_bins_sweep_tubesetting.png')"
     ],
     "language": "python",
     "metadata": {},
     "outputs": [
      {
       "ename": "Exception",
       "evalue": "No fitting data found containing 165207_fine_laser_scan.",
       "output_type": "pyerr",
       "traceback": [
        "\u001b[1;31m---------------------------------------------------------------------------\u001b[0m\n\u001b[1;31mException\u001b[0m                                 Traceback (most recent call last)",
        "\u001b[1;32m<ipython-input-3-a2c9cd8042a6>\u001b[0m in \u001b[0;36m<module>\u001b[1;34m()\u001b[0m\n\u001b[0;32m      9\u001b[0m \u001b[0max3\u001b[0m\u001b[1;33m.\u001b[0m\u001b[0mset_ylabel\u001b[0m\u001b[1;33m(\u001b[0m\u001b[1;34m'FWHM'\u001b[0m\u001b[1;33m)\u001b[0m\u001b[1;33m\u001b[0m\u001b[0m\n\u001b[0;32m     10\u001b[0m \u001b[1;32mfor\u001b[0m \u001b[0mi\u001b[0m\u001b[1;33m,\u001b[0m\u001b[0mtime\u001b[0m \u001b[1;32min\u001b[0m \u001b[0menumerate\u001b[0m\u001b[1;33m(\u001b[0m\u001b[0mtimes\u001b[0m\u001b[1;33m)\u001b[0m\u001b[1;33m:\u001b[0m\u001b[1;33m\u001b[0m\u001b[0m\n\u001b[1;32m---> 11\u001b[1;33m     \u001b[0mtimestamp\u001b[0m\u001b[1;33m,\u001b[0m\u001b[0mfolder\u001b[0m \u001b[1;33m=\u001b[0m \u001b[0mtb\u001b[0m\u001b[1;33m.\u001b[0m\u001b[0mlatest_data\u001b[0m\u001b[1;33m(\u001b[0m\u001b[0mcontains\u001b[0m \u001b[1;33m=\u001b[0m \u001b[0mtime\u001b[0m\u001b[1;33m+\u001b[0m\u001b[1;34m'_fine_laser_scan'\u001b[0m\u001b[1;33m,\u001b[0m\u001b[0mreturn_timestamp\u001b[0m\u001b[1;33m=\u001b[0m\u001b[0mTrue\u001b[0m\u001b[1;33m)\u001b[0m\u001b[1;33m\u001b[0m\u001b[0m\n\u001b[0m\u001b[0;32m     12\u001b[0m \u001b[1;33m\u001b[0m\u001b[0m\n\u001b[0;32m     13\u001b[0m     \u001b[0ma\u001b[0m\u001b[1;33m=\u001b[0m\u001b[0manalyse_laserscan\u001b[0m\u001b[1;33m.\u001b[0m\u001b[0mlaserscan_analysis\u001b[0m\u001b[1;33m(\u001b[0m\u001b[0mfolder\u001b[0m\u001b[1;33m)\u001b[0m\u001b[1;33m\u001b[0m\u001b[0m\n",
        "\u001b[1;32mH:\\My Documents\\measuring\\analysis\\lib\\tools\\toolbox.pyc\u001b[0m in \u001b[0;36mlatest_data\u001b[1;34m(contains, older_than, newer_than, return_timestamp, raise_exc, folder, return_all, VERBOSE, **kw)\u001b[0m\n\u001b[0;32m    163\u001b[0m     \u001b[1;32mif\u001b[0m \u001b[0mlen\u001b[0m\u001b[1;33m(\u001b[0m\u001b[0mmeasdirs\u001b[0m\u001b[1;33m)\u001b[0m \u001b[1;33m==\u001b[0m \u001b[1;36m0\u001b[0m\u001b[1;33m:\u001b[0m\u001b[1;33m\u001b[0m\u001b[0m\n\u001b[0;32m    164\u001b[0m         \u001b[1;32mif\u001b[0m \u001b[0mraise_exc\u001b[0m \u001b[1;33m==\u001b[0m \u001b[0mTrue\u001b[0m\u001b[1;33m:\u001b[0m\u001b[1;33m\u001b[0m\u001b[0m\n\u001b[1;32m--> 165\u001b[1;33m             \u001b[1;32mraise\u001b[0m \u001b[0mException\u001b[0m\u001b[1;33m(\u001b[0m\u001b[1;34m'No fitting data found containing {}.'\u001b[0m\u001b[1;33m.\u001b[0m\u001b[0mformat\u001b[0m\u001b[1;33m(\u001b[0m\u001b[0mcontains\u001b[0m\u001b[1;33m)\u001b[0m\u001b[1;33m)\u001b[0m\u001b[1;33m\u001b[0m\u001b[0m\n\u001b[0m\u001b[0;32m    166\u001b[0m         \u001b[1;32melse\u001b[0m\u001b[1;33m:\u001b[0m\u001b[1;33m\u001b[0m\u001b[0m\n\u001b[0;32m    167\u001b[0m             \u001b[1;32mreturn\u001b[0m \u001b[0mFalse\u001b[0m\u001b[1;33m\u001b[0m\u001b[0m\n",
        "\u001b[1;31mException\u001b[0m: No fitting data found containing 165207_fine_laser_scan."
       ]
      },
      {
       "metadata": {},
       "output_type": "display_data",
       "png": "[encoded data removed]",
       "text": [
        "<matplotlib.figure.Figure at 0x4c19970>"
       ]
      }
     ],
     "prompt_number": 3
    },
    {
     "cell_type": "code",
     "collapsed": true,
     "input": [],
     "language": "python",
     "metadata": {},
     "outputs": [],
     "prompt_number": null
    },
    {
     "cell_type": "code",
     "collapsed": false,
     "input": [
      "times = ['210342','210749','211308']\n",
      "labels=['21 s','105 s', '210 s']\n",
      "reload(analyse_laserscan)\n",
      "binsize=50\n",
      "fig3,ax3 = plt.subplots(figsize=(10,4))\n",
      "    \n",
      "ax3.set_xlabel('bin nr')\n",
      "ax3.set_ylabel('FWHM')\n",
      "for i,time in enumerate(times):\n",
      "    timestamp,folder = tb.latest_data(contains = time+'_fine_laser_scan',return_timestamp=True)\n",
      "\n",
      "    a=analyse_laserscan.laserscan_analysis(folder)\n",
      "    a.get_and_bin_data(binsize=binsize,avg_per_s=True)\n",
      "#     a.poly_fit_frq()\n",
      "#     a.plot_PD_signal_vs_frq()\n",
      "#     a.plot_PD_signal_vs_V()\n",
      "#     a.plot_frq_vs_V()\n",
      "    FWHMs,u_FWHMs=a.fit_bins(plot_fit=False)\n",
      "    ax3.errorbar(np.arange(a.nr_bins),FWHMs,yerr=u_FWHMs,label=labels[i])\n",
      "#     a.plot_bins()\n",
      "#     a.get_linecut_per_ms(linecut_point = 10,do_plot=False)\n",
      "    a.finish()\n",
      "ax3.legend(title='total sweep time',loc='upper left')\n",
      "\n",
      "ax3.set_ylim([0,100])\n",
      "ax3.set_xlim([0,20])\n",
      "ax3.set_title(os.path.split(folder)[-1]+'/FWHMs_vs_bins_sweep_sweeptime_binsize%d.png'%binsize)\n",
      "plt.show()\n",
      "fig3.savefig(folder+'/FWHMs_vs_bins_sweep_sweeptime_binsize%d.png'%binsize)"
     ],
     "language": "python",
     "metadata": {
      "scrolled": true
     },
     "outputs": [],
     "prompt_number": null
    },
    {
     "cell_type": "code",
     "collapsed": false,
     "input": [
      "reload(analyse_laserscan)\n",
      "timestamp,folder = tb.latest_data(contains = '_fine_laser_scan',return_timestamp=True)\n",
      "\n",
      "a=analyse_laserscan.laserscan_analysis(folder)\n",
      "a.get_and_bin_data(binsize=100,avg_per_s=True)\n",
      "a.poly_fit_frq()\n",
      "a.plot_PD_signal_vs_frq()\n",
      "a.plot_PD_signal_vs_V()\n",
      "a.plot_frq_vs_V()\n",
      "a.fit_bins(plot_fit=True)\n",
      "a.plot_bins()\n",
      "a.get_linecut_per_ms(linecut_point = 10,do_plot=False)\n",
      "a.finish()"
     ],
     "language": "python",
     "metadata": {
      "scrolled": true
     },
     "outputs": [],
     "prompt_number": null
    },
    {
     "cell_type": "code",
     "collapsed": false,
     "input": [
      "reload(analyse_laserscan)\n",
      "timestamp,folder = tb.latest_data(contains = '_fine_laser_scan',return_timestamp=True)\n",
      "\n",
      "a=analyse_laserscan.laserscan_analysis(folder)\n",
      "a.get_laserscan_data()\n",
      "a.calc_sweeptime()\n",
      "# a.poly_fit_frq()\n",
      "a.plot_PD_signal_vs_frq()\n",
      "a.plot_PD_signal_vs_V()\n",
      "a.plot_frq_vs_V()\n",
      "a.fit_lorentzian(plot_fit=True,g_gamma=3)\n",
      "a.get_linecut_per_ms(linecut_point = 10,do_plot=False)\n",
      "a.finish()"
     ],
     "language": "python",
     "metadata": {},
     "outputs": [],
     "prompt_number": null
    },
    {
     "cell_type": "code",
     "collapsed": false,
     "input": [
      "#plot average and a specific bin\n",
      "#5 seconds per point data\n",
      "#could use one with more data points\n",
      "\n",
      "\n",
      "reload(analyse_laserscan)\n",
      "folder = 'D:/measuring/data/data_for_cav_char_paper/20160901/210749_fine_laser_scan_LT_OND_POS2_L4'\n",
      "\n",
      "a=analyse_laserscan.laserscan_analysis(folder)\n",
      "a.get_and_bin_data(binsize=100,avg_per_s=True)\n",
      "a.poly_fit_frq()\n",
      "\n",
      "bin_nr=3\n",
      "fig, ax3 = plt.subplots()\n",
      "ax3=a.plot_PD_signal_vs_frq(ret_ax=True,ax=ax3)\n",
      "#ax3=a.fit_gaussian(save_plot=False,ret_ax=True,plot_fit=True,ax=ax3,label='average')\n",
      "ax3=a.fit_gaussian(x=a.frq_data,y=a.get_bin(bin_nr=bin_nr),ax=ax3,save_plot=False,ret_ax=True,plot_fit=True,label='bin %d'%bin_nr)\n",
      "\n",
      "plt.show()\n",
      "\n",
      "a.finish()"
     ],
     "language": "python",
     "metadata": {},
     "outputs": [
      {
       "output_type": "stream",
       "stream": "stdout",
       "text": [
        "using 50 bins of size 100\n",
        "10\n",
        "bin repetitions\n",
        "new nr bins 10\n",
        "(21, 50)\n",
        "(21, 5, 10)\n"
       ]
      },
      {
       "metadata": {},
       "output_type": "display_data",
       "png": "[encoded data removed]",
       "text": [
        "<matplotlib.figure.Figure at 0xa0dc630>"
       ]
      },
      {
       "metadata": {},
       "output_type": "display_data",
       "png": "[encoded data removed]",
       "text": [
        "<matplotlib.figure.Figure at 0x4bd5a10>"
       ]
      }
     ],
     "prompt_number": 61
    },
    {
     "cell_type": "code",
     "collapsed": false,
     "input": [
      "#VERAGE OVER 50 SLOW LASERSCANS\n",
      "#\n",
      "datapath  = 'D:/measuring/data/data_for_cav_char_paper/20160904/'\n",
      "reload(analyse_laserscan)\n",
      "for i,f in enumerate(os.listdir(datapath)):\n",
      "\n",
      "    a=analyse_laserscan.laserscan_analysis(os.path.join(datapath,f))\n",
      "    a.get_and_bin_data(binsize=50,avg_per_s=True)\n",
      "    FWHMs,u_FWHMs,x0 = a.fit_bins(plot_sigmas=False,plot_fit=False)\n",
      "    if len(np.where(np.delete(u_FWHMs,remove_bins)>60)[0]>1):#delete the scans where uncertainty of fit in one bin is large. \n",
      "                #this is of course a form of postselection on the nice ones, thus cannot be done. \n",
      "        print i,x0,np.delete(u_FWHMs,remove_bins)\n",
      "        \n",
      "        continue\n",
      "    #print i, FWHMs[14],u_FWHMs[14],x0\n",
      "    #if u_FWHMs[14]>10:\n",
      "    #    print i, FWHMs[14],u_FWHMs[14],x0\n",
      "    if i == 0:\n",
      "        all_FWHMs = [FWHMs]\n",
      "        u_all_FWHMs = [u_FWHMs]\n",
      "    else:\n",
      "        all_FWHMs = np.append(all_FWHMs,[FWHMs],axis=0)\n",
      "        u_all_FWHMs = np.append(u_all_FWHMs,[FWHMs],axis=0)\n",
      "    a.finish()\n",
      "\n",
      "\n"
     ],
     "language": "python",
     "metadata": {},
     "outputs": [
      {
       "output_type": "stream",
       "stream": "stdout",
       "text": [
        "15 453.738334378 [  32.8512216    10.56753776    2.2883556     0.84593891    0.97931086\n",
        "    1.52908301    2.48417457    7.78095967    9.90278996   14.13578216\n",
        "    4.55247522    2.75216386   16.10272711  611.13357102   11.55189603]\n",
        "28"
       ]
      },
      {
       "output_type": "stream",
       "stream": "stdout",
       "text": [
        " 456.604107322 [   9.54776555   16.75296737    3.33532734    1.39676911    1.79952208\n",
        "    1.63754338    4.45993317   11.15724485    4.93515885    2.98685111\n",
        "    5.21061126    3.03649442    4.78046145   18.1480217   333.20343271]\n",
        "33"
       ]
      },
      {
       "output_type": "stream",
       "stream": "stdout",
       "text": [
        " 459.199475108 [ 92.72259807   7.92554915   1.94762338   1.70092237   1.51853556\n",
        "   3.88973206   3.61107423   4.71103191   2.5830552    2.0937238\n",
        "   1.82813884   2.19139364   4.02938769   4.14478707  13.09739803]\n",
        "38"
       ]
      },
      {
       "output_type": "stream",
       "stream": "stdout",
       "text": [
        " 455.947449975 [  4.04844397   6.94869423   1.35115217   0.72478406   1.45074646\n",
        "   1.60048458   2.33856947   2.12599141   1.6735172    1.67767738\n",
        "   3.22326194   2.21762942   3.58858041   5.07168759  68.77930103]\n",
        "39"
       ]
      },
      {
       "output_type": "stream",
       "stream": "stdout",
       "text": [
        " 454.655088572 [  2.35905917   5.84758584   1.11908515   1.01988855   1.06985606\n",
        "   1.75262667   1.97057978   8.22025015   1.53646864   2.93034123\n",
        "   8.20531642   1.87854378   9.06156241   3.94000989  80.00017854]\n",
        "40"
       ]
      },
      {
       "output_type": "stream",
       "stream": "stdout",
       "text": [
        " 455.396629818 [  3.82178936e+00   1.02282594e+01   1.46925789e+00   1.34506996e+00\n",
        "   8.81737864e-01   9.01179644e-01   1.70245397e+00   1.54457103e+01\n",
        "   4.09386719e+00   4.44820870e+00   2.74968563e+00   1.45676486e+00\n",
        "   3.01475730e+00   2.35190566e+00   1.11495927e+03]\n"
       ]
      },
      {
       "metadata": {},
       "output_type": "pyout",
       "prompt_number": 215,
       "text": [
        "<matplotlib.text.Text at 0x1436bf90>"
       ]
      },
      {
       "metadata": {},
       "output_type": "display_data",
       "png": "[encoded data removed]",
       "text": [
        "<matplotlib.figure.Figure at 0x12867970>"
       ]
      }
     ],
     "prompt_number": 215
    },
    {
     "cell_type": "code",
     "collapsed": false,
     "input": [
      "#print all_binned\n",
      "avg_FWHMs= np.average(all_FWHMs,axis=0)\n",
      "u_avg_FWHMs = np.std(all_FWHMs,axis=0)\n",
      "#u_avg_FWHMS = np.average(u_all_FWHMs,axis=0)\n",
      "\n",
      "remove_bins =[1,2,12,13,14]\n",
      "avg_FWHMs = np.delete(avg_FWHMs,remove_bins)\n",
      "u_avg_FWHMs = np.delete(u_avg_FWHMs,remove_bins)\n",
      "bins = np.delete(np.arange(a.nr_bins),remove_bins)\n",
      "\n",
      "fig2,ax2 = plt.subplots(figsize=(6,4))\n",
      "ax2.errorbar(bins,avg_FWHMs,yerr=u_avg_FWHMs,fmt='o')\n",
      "ax2.set_xlabel('bin nr')\n",
      "ax2.set_ylabel('FWHM')\n",
      "#ax2.set_ylim([0,80])\n",
      "#ax2.set_ylim([0,80])\n",
      "ax2.set_title(a.folder+'/avg_FWHMs_vs_bins_binsize_%d.png'%a.binsize)\n",
      "#fig2.savefig(a.folder+'/avg_FWHMs_vs_bins_binsize_%d.png'%a.binsize)\n",
      "\n",
      "\n",
      "\n",
      "#all_binned=np.divide(all_binned,50)\n",
      "#a.fit_bins(binned_data=all_binned)\n"
     ],
     "language": "python",
     "metadata": {},
     "outputs": []
    },
    {
     "cell_type": "code",
     "collapsed": false,
     "input": [
      "#VERAGE OVER 50 SLOW LASERSCANS\n",
      "#\n",
      "datapath  = 'D:/measuring/data/data_for_cav_char_paper/20160904/'\n",
      "bin_nr=5\n",
      "i_window=15\n",
      "reload(analyse_laserscan)\n",
      "figg,axx = plt.subplots()\n",
      "for i,f in enumerate(os.listdir(datapath)):\n",
      "    #if i>4:\n",
      "    #    break\n",
      "    a=analyse_laserscan.laserscan_analysis(os.path.join(datapath,f))\n",
      "    a.get_and_bin_data(binsize=50,avg_per_s=True)\n",
      "    a.poly_fit_frq(plot_fit=False)\n",
      "    dfrq_data=a.shift_centre(y=a.get_bin(bin_nr=bin_nr))\n",
      "    x,avg = a.crop_data_around_centre(i_window=i_window)\n",
      "    binned = a.crop_binned_data_around_centre(i_window=i_window)\n",
      "    axx.plot(binned[5],label='i%d'%i)\n",
      "    print dfrq_data[0],dfrq_data[-1],dfrq_data[0]+dfrq_data[-1]\n",
      "    if abs(dfrq_data[0]+dfrq_data[-1])>5:\n",
      "        print 'ignoring file i, since the peak is too much to the side'\n",
      "        continue\n",
      "    \n",
      "    #a.plot_PD_signal_vs_dfrq(save_fig=False)\n",
      "    #FWHMs,u_FWHMs,x0 = a.fit_bins(plot_sigmas=False)\n",
      "    if i == 0:\n",
      "        all_avg=[avg]\n",
      "        all_binned = [binned]\n",
      "    else:\n",
      "        all_avg = np.append(all_avg,[avg],axis=0)\n",
      "        all_binned=np.append(all_binned,[binned],axis=0)\n",
      "        \n",
      "    a.finish()\n",
      "axx.legend()\n",
      "axx.plot(all_binned[5])\n",
      "plt.show()"
     ],
     "language": "python",
     "metadata": {},
     "outputs": [
      {
       "metadata": {},
       "output_type": "display_data",
       "png": "[encoded data removed]",
       "text": [
        "<matplotlib.figure.Figure at 0x1617b070>"
       ]
      },
      {
       "output_type": "stream",
       "stream": "stdout",
       "text": [
        "25.5530903969 -22.9431387624 2.60995163451\n",
        "22.8914105374 -25.7726683172 -2.88125777978\n",
        "20.1572203848"
       ]
      },
      {
       "output_type": "stream",
       "stream": "stdout",
       "text": [
        " -28.3331150499 -8.17589466504\n",
        "ignoring file i, since the peak is too much to the side\n",
        "20.1258973187 -27.9653168732 -7.83941955451\n",
        "ignoring file i, since the peak is too much to the side\n",
        "22.7995651202"
       ]
      },
      {
       "output_type": "stream",
       "stream": "stdout",
       "text": [
        " -25.3776851126 -2.57811999238\n",
        "23.8978349083 -24.130638269 -0.232803360699\n",
        "26.575296873"
       ]
      },
      {
       "output_type": "stream",
       "stream": "stdout",
       "text": [
        " -21.4001576828 5.17513919027\n",
        "ignoring file i, since the peak is too much to the side\n",
        "24.0123459404 -24.4556560308 -0.443310090386\n",
        "23.8996449171"
       ]
      },
      {
       "output_type": "stream",
       "stream": "stdout",
       "text": [
        " -24.4389937686 -0.539348851463\n",
        "20.1577639226 -28.3640993127 -8.20633539004\n",
        "ignoring file i, since the peak is too much to the side\n",
        "15.3018305451"
       ]
      },
      {
       "output_type": "stream",
       "stream": "stdout",
       "text": [
        " -32.6686869908 -17.3668564457\n",
        "ignoring file i, since the peak is too much to the side\n",
        "19.9624937937 -27.9440326654 -7.98153887173\n",
        "ignoring file i, since the peak is too much to the side\n",
        "24.1266507626"
       ]
      },
      {
       "output_type": "stream",
       "stream": "stdout",
       "text": [
        " -23.972606787 0.154043975606\n",
        "22.4400763645 -25.5297909761 -3.08971461165\n",
        "22.4382517093"
       ]
      },
      {
       "output_type": "stream",
       "stream": "stdout",
       "text": [
        " -25.5549842648 -3.11673255554\n",
        "25.3968803976 -22.5964398669 2.80044053071\n",
        "26.5254353122"
       ]
      },
      {
       "output_type": "stream",
       "stream": "stdout",
       "text": [
        " -21.3648543603 5.16058095197\n",
        "ignoring file i, since the peak is too much to the side\n",
        "24.3037522244 -23.5933862553 0.710365969066\n",
        "20.4740201354"
       ]
      },
      {
       "output_type": "stream",
       "stream": "stdout",
       "text": [
        " -27.5247758306 -7.05075569513\n",
        "ignoring file i, since the peak is too much to the side\n",
        "21.5676406626 -26.2357174439 -4.66807678134\n",
        "29.6691252868"
       ]
      },
      {
       "output_type": "stream",
       "stream": "stdout",
       "text": [
        " -18.1158020513 11.5533232355\n",
        "ignoring file i, since the peak is too much to the side\n",
        "28.3295330825 -19.4407154124 8.88881767011\n",
        "ignoring file i, since the peak is too much to the side\n",
        "32.3513243783"
       ]
      },
      {
       "output_type": "stream",
       "stream": "stdout",
       "text": [
        " -15.6918312541 16.6594931241\n",
        "ignoring file i, since the peak is too much to the side\n",
        "20.37097149 -27.415055953 -7.04408446294\n",
        "ignoring file i, since the peak is too much to the side\n",
        "25.2637961619"
       ]
      },
      {
       "output_type": "stream",
       "stream": "stdout",
       "text": [
        " -22.462907448 2.8008887139\n",
        "25.5415808303 -22.0794328848 3.46214794549\n",
        "21.7256480389"
       ]
      },
      {
       "output_type": "stream",
       "stream": "stdout",
       "text": [
        " -26.3393588043 -4.61371076537\n",
        "23.8681098115 -24.0092221658 -0.141112354251\n",
        "21.1870537976"
       ]
      },
      {
       "output_type": "stream",
       "stream": "stdout",
       "text": [
        " -26.4120038604 -5.22495006285\n",
        "ignoring file i, since the peak is too much to the side\n",
        "26.5697618964 -21.2774978646 5.29226403177\n",
        "ignoring file i, since the peak is too much to the side\n",
        "19.7088967021"
       ]
      },
      {
       "output_type": "stream",
       "stream": "stdout",
       "text": [
        " -28.4356254793 -8.72672877721\n",
        "ignoring file i, since the peak is too much to the side\n",
        "25.221182551 -22.822082724 2.39909982698\n",
        "24.0732654482"
       ]
      },
      {
       "output_type": "stream",
       "stream": "stdout",
       "text": [
        " -24.0637288503 0.0095365978832\n",
        "21.611552792 -26.2421721326 -4.63061934064\n",
        "20.2708080487"
       ]
      },
      {
       "output_type": "stream",
       "stream": "stdout",
       "text": [
        " -27.8532068587 -7.58239881001\n",
        "ignoring file i, since the peak is too much to the side\n",
        "19.0733340307 -28.6532409795 -9.57990694878\n",
        "ignoring file i, since the peak is too much to the side\n",
        "25.5275105898"
       ]
      },
      {
       "output_type": "stream",
       "stream": "stdout",
       "text": [
        " -22.2340581709 3.29345241896\n",
        "29.1371096765 -18.7571848281 10.3799248483\n",
        "ignoring file i, since the peak is too much to the side\n",
        "25.3682919601"
       ]
      },
      {
       "output_type": "stream",
       "stream": "stdout",
       "text": [
        " -22.5030369243 2.86525503577\n",
        "24.9930258044 -22.907442727 2.08558307746\n",
        "23.9998735384"
       ]
      },
      {
       "output_type": "stream",
       "stream": "stdout",
       "text": [
        " -24.2486161114 -0.248742573015\n",
        "22.2815159997 -25.6595545508 -3.37803855111\n",
        "25.569370055"
       ]
      },
      {
       "output_type": "stream",
       "stream": "stdout",
       "text": [
        " -22.556697949 3.01267210597\n",
        "26.635537617 -21.3116135278 5.32392408913\n",
        "ignoring file i, since the peak is too much to the side\n",
        "29.9392509674"
       ]
      },
      {
       "output_type": "stream",
       "stream": "stdout",
       "text": [
        " -18.0955046669 11.8437463005\n",
        "ignoring file i, since the peak is too much to the side\n",
        "25.5178302903 -22.8905674202 2.62726287016\n",
        "27.9055738363"
       ]
      },
      {
       "output_type": "stream",
       "stream": "stdout",
       "text": [
        " -20.1021831555 7.80339068083\n",
        "ignoring file i, since the peak is too much to the side\n",
        "26.705027156 -21.1141394121 5.59088774385\n",
        "ignoring file i, since the peak is too much to the side\n",
        "22.4737844686"
       ]
      },
      {
       "output_type": "stream",
       "stream": "stdout",
       "text": [
        " -25.2085304394 -2.73474597082\n",
        "21.2863653089 -26.4244524402 -5.13808713129\n",
        "ignoring file i, since the peak is too much to the side\n"
       ]
      }
     ],
     "prompt_number": 245
    },
    {
     "cell_type": "code",
     "collapsed": false,
     "input": [
      "#print all_binned\n",
      "avg_binned = np.average(all_binned,axis=0)\n",
      "\n",
      "all_avgd = np.average(all_avg,axis=0)\n",
      "\n",
      "a=analyse_laserscan.laserscan_analysis(os.path.join(datapath,f))\n",
      "a.get_and_bin_data(binsize=50,avg_per_s=True)\n",
      "fig1,ax1 = plt.subplots(figsize=(6,4))\n",
      "\n",
      "ax1.plot(x,avg_binned[:,bin_nr],'o',label='bin %d'%bin_nr)\n",
      "ax1.plot(x,all_avgd,label='average')\n",
      "ax=a.fit_gaussian(x=x,y=avg_binned[:,bin_nr],plot_fit=True,ax=ax1,ret_ax=True)\n",
      "ax1.legend()\n",
      "#a.fit_bins(binned_data=avg_binned)\n",
      "\n",
      "\n",
      "#all_binned=np.divide(all_binned,50)\n",
      "#a.fit_bins(binned_data=all_binned)\n"
     ],
     "language": "python",
     "metadata": {},
     "outputs": []
    },
    {
     "cell_type": "code",
     "collapsed": false,
     "input": [],
     "language": "python",
     "metadata": {},
     "outputs": [],
     "prompt_number": 173
    },
    {
     "cell_type": "code",
     "collapsed": false,
     "input": [
      "reload(analyse_laserscan) \n",
      "reload(common) \n",
      "x,frq,y,y_per_ms_avgs,y_per_ms_per_V=analyse_laserscan.laserscan_analysis(folder,plot_frq_vs_V=True)\n",
      "fig,ax = plt.subplots(figsize=(10,4))\n",
      "ax.plot(y_per_ms_per_V, label = '%d'%(ms_min/stepsize))\n",
      "ax.set_title(folder+'/PDsignal_per_mslinecut%d.png'%linecut_point)\n",
      "ax.set_ylabel('voltage in centre frequency')\n",
      "ax.set_xlabel('ms after sync')\n",
      "fig.savefig(folder+'/PDsignal_per_mslinecut%d.png'%linecut_point)\n",
      "\n",
      "g_x0 = -4 \n",
      "g_a0 = 480 \n",
      "g_a1 = -50/13 \n",
      "g_a2 = -2/1000\n",
      "\n",
      "p0, fitfunc, fitfunc_str = common.fit_poly_shifted(g_x0,g_a0, g_a1, g_a2) \n",
      "print fitfunc(-2) \n",
      "fit_result = fit.fit1d(x,frq, None, p0=p0, fitfunc=fitfunc, do_print=True, ret=True, fixed=fixed) \n",
      "fig,ax = plt.subplots(figsize=(8,4)) \n",
      "ax.plot(x,frq)\n",
      "\n",
      "print fitfunc_str \n",
      "print fit_result['params_dict'] \n",
      "plot.plot_fit1d(fit_result, np.linspace(x[-1],x[0],10*len(x)),ax=ax, label='Fit',show_guess=False, plot_data=True,color='red', data_linestyle = '-', print_info= True)\n",
      "\n",
      "frq_new =fit_result['fitfunc'](x)\n",
      "\n",
      "print frq_new\n",
      "\n",
      "fig,ax = plt.subplots(figsize=(8,4)) \n",
      "ax.plot(frq,y,label='raw frq') \n",
      "ax.plot(frq_new,y,label='fitted frq') \n",
      "ax.legend()\n"
     ],
     "language": "python",
     "metadata": {},
     "outputs": [],
     "prompt_number": null
    },
    {
     "cell_type": "code",
     "collapsed": false,
     "input": [
      "reload(analyse_laserscan)\n",
      "reload(common)\n",
      "ms_min_start=0\n",
      "ms_min_stop=1900\n",
      "nr_bins = 20\n",
      "ms_mins= np.linspace(ms_min_start,ms_min_stop,nr_bins)\n",
      "\n",
      "\n",
      "stepsize = (ms_min_stop-ms_min_start)/(nr_bins-1)\n",
      "\n",
      "#y_per_ms_avgs = np.zeros(len(ms_mins))\n",
      "\n",
      "newest_folder = '135902'\n",
      "\n",
      "nr_scans = 10\n",
      "for i in xrange(nr_scans):\n",
      "    timestamp,folder = tb.latest_data(contains = '_fine_laser_scan',older_than=newest_folder,return_timestamp=True)\n",
      "    newest_folder =timestamp# folder[27:33]\n",
      "    a=analyse_laserscan.laserscan_analysis(folder)\n",
      "    x,y,frq,y_per_ms_binned = a.get_and_bin_data(binsize=100)\n",
      "    frq = a.poly_fit_frq(plot_fit=False)\n",
      "    sigmas = a.fit_bins(plot_fit=False,plot_sigmas=False)\n",
      "\n",
      "#     a.plot_PD_signal_vs_frq()\n",
      "#     a.plot_PD_signal_vs_V()\n",
      "#     a.plot_frq_vs_V()\n",
      "#     a.fit_bins(plot_fit=False)\n",
      "#     a.get_linecut_per_ms(linecut_point = 21,do_plot=False)\n",
      "#     a.finish()\n",
      "\n",
      "    if i ==0:\n",
      "        new_y=y\n",
      "        new_y_binned=y_per_ms_binned\n",
      "    else:\n",
      "        new_y = np.add(new_y,y)    \n",
      "        new_y_binned = np.add(new_y_binned,y_per_ms_binned)    \n",
      "\n",
      "avg_y_binned = new_y_binned/nr_scans\n",
      "avg_y = new_y/nr_scans\n",
      "\n",
      "\n",
      "fig,ax = plt.subplots()\n",
      "ax.set_xlabel('Voltage (V)')\n",
      "ax.set_ylabel('PD signal (V)')\n",
      "plt.plot(x,avg_y)\n",
      "fig.savefig(folder+'/PDsignal_vs_laser_tuning_voltage.png')\n",
      "plt.show()\n",
      "fig,ax = plt.subplots()\n",
      "\n",
      "ax.set_xlabel('Frequency (GHz) + 470.4 THz')\n",
      "ax.set_ylabel('PD signal (V)')\n",
      "plt.plot(fit_frq,avg_y)\n",
      "fig.savefig(folder+'/PDsignal_vs_frq.png')\n",
      "plt.show()\n",
      "\n",
      "\n",
      "g_a = 0.7\n",
      "g_A = 3\n",
      "g_x0 = 4\n",
      "g_sigma = 4\n",
      "fixed = []\n",
      "\n",
      "p0, fitfunc, fitfunc_str = common.fit_gauss(g_a, g_A, g_x0, g_sigma)\n",
      "fit_result = fit.fit1d(x,avg_y, None, p0=p0, fitfunc=fitfunc, do_print=True, ret=True, fixed=fixed)\n",
      "fig,ax = plt.subplots(figsize=(8,4))\n",
      "ax.set_xlabel('Voltage (V)')\n",
      "ax.set_ylabel('PD signal (V)')\n",
      "plot.plot_fit1d(fit_result, np.linspace(x[0],x[-1],10*len(x)),ax=ax, label='Fit',show_guess=True, plot_data=True,color='red', data_linestyle = '-', print_info= False)\n",
      "\n",
      "A = fit_result['params_dict']['A']\n",
      "a = fit_result['params_dict']['a']\n",
      "x0 = fit_result['params_dict']['x0']\n",
      "sigma = fit_result['params_dict']['sigma']\n",
      "\n",
      "linewidth = (frq[0]-frq[-1])/(x[-1]-x[0])*sigma\n",
      "\n",
      "ax.set_title('Linewidth = %.4fGHz'%linewidth)\n",
      "\n",
      "\n",
      "\n",
      "nr_bins = np.size(avg_y_binned,1)\n",
      "fig,ax = plt.subplots(figsize=(10,4))\n",
      "colormap = plt.cm.copper\n",
      "plt.gca().set_color_cycle([colormap(i) for i in np.linspace(0, 0.9, nr_bins/2)])\n",
      "\n",
      "for i in np.arange(nr_bins):\n",
      "    ax.plot(fit_frq,avg_y_binned[:,i], label = '%d'%(ms_min/stepsize))\n",
      "plt.show()"
     ],
     "language": "python",
     "metadata": {
      "scrolled": true
     },
     "outputs": [],
     "prompt_number": null
    },
    {
     "cell_type": "code",
     "collapsed": false,
     "input": [
      "reload(analyse_laserscan)\n",
      "ms_min_start=0\n",
      "ms_min_stop=1950\n",
      "nr_bins = 40\n",
      "ms_mins= np.linspace(ms_min_start,ms_min_stop,nr_bins)\n",
      "\n",
      "sigmas = np.array([])\n",
      "stepsize = (ms_min_stop-ms_min_start)/(nr_bins-1)\n",
      "\n",
      "#y_per_ms_avgs = np.zeros(len(ms_mins))\n",
      "\n",
      "# folder = tb.latest_data(contains = '210749_fine_laser_scan')\n",
      "analyse_laserscan.laserscan_analysis(folder,do_plot=False,plot_PD_signal_vs_V=True)\n",
      "\n",
      "fig,ax = plt.subplots(figsize=(10,4))\n",
      "colormap = plt.cm.copper\n",
      "plt.gca().set_color_cycle([colormap(i) for i in np.linspace(0, 0.9, nr_bins/2)])\n",
      "\n",
      "for i,ms_min in enumerate(ms_mins):\n",
      "    x,frq,y_per_ms_binned,y_per_ms_per_V,sigma=analyse_laserscan.laserscan_analysis(folder,\n",
      "                                                    ms_min=ms_min,ms_max=ms_min+100,fit_lorentz_avg=False,\n",
      "                                                    fit_gaussian=True)\n",
      "\n",
      "    ax.plot(frq,y_per_ms_avgs, label = '%d'%(ms_min/stepsize))\n",
      "    sigmas = np.append(sigmas,sigma)\n",
      "#     ax.set_xlabel('Voltage(V)')\n",
      "\n",
      "\n",
      "\n",
      "ax.set_xlabel('frequency (GHz) + 470.4 THz')\n",
      "ax.set_ylabel('PD signal (V)|')\n",
      "ax.set_title(folder)\n",
      "ax.legend(title='time bin (of %d ms)'%stepsize,fontsize=6)\n",
      "fig.savefig(folder+'/PDsignal_per_%dms_vs_frq.png'%stepsize)\n",
      "plt.show()\n",
      "i = i+1\n",
      "\n",
      "\n",
      "print frq[-1], frq[0]\n",
      "\n",
      "\n",
      "fig,ax = plt.subplots(figsize=(10,4))\n",
      "ax.plot(ms_mins,sigmas)\n",
      "ax.set_xlabel('ms_mins (bins)')\n",
      "ax.set_ylabel('sigma (GHz)')\n",
      "ax.set_ylim([0,20])\n",
      "ax.set_title(folder+'sigma_vs_timebin')\n"
     ],
     "language": "python",
     "metadata": {
      "scrolled": true
     },
     "outputs": [],
     "prompt_number": null
    },
    {
     "cell_type": "code",
     "collapsed": false,
     "input": [
      "print folder\n",
      "reload(analyse_laserscan)\n",
      "x,frq,y,y_per_ms_binned,y_per_ms_per_V=analyse_laserscan.laserscan_analysis(folder,\n",
      "                                                ms_min=ms_min,ms_max=ms_min+100,fit_lorentz_avg=False,\n",
      "                                                fit_gaussian=False,binsize=100)\n",
      "\n",
      "nr_bins = np.size(y_per_ms_binned,1)\n",
      "print nr_bins\n",
      "fig,ax = plt.subplots(figsize=(10,4))\n",
      "\n",
      "\n",
      "for i in np.arange(nr_bins):\n",
      "    ax.plot(frq,y_per_ms_binned[:,i], label = '%d'%(ms_min/stepsize))\n",
      "#     sigmas = np.append(sigmas,sigma)\n",
      "    \n",
      "\n",
      "\n",
      "plt.show()\n"
     ],
     "language": "python",
     "metadata": {},
     "outputs": [],
     "prompt_number": null
    },
    {
     "cell_type": "code",
     "collapsed": true,
     "input": [
      "a=np.array([1,2,3,4,5,6,7,8,9,10,11,12,13,14,15,16,1,18,19,20])"
     ],
     "language": "python",
     "metadata": {},
     "outputs": [],
     "prompt_number": null
    },
    {
     "cell_type": "code",
     "collapsed": false,
     "input": [
      "np.arange(0,1000,100)"
     ],
     "language": "python",
     "metadata": {},
     "outputs": [],
     "prompt_number": null
    },
    {
     "cell_type": "code",
     "collapsed": false,
     "input": [
      "b = np.array([[1,2,3,4],[4,5,6,7]])\n",
      "c=np.array([1,2,3,4])\n",
      "d=np.histogram(c,3)\n",
      "print d\n",
      "np.histogram(b,2)"
     ],
     "language": "python",
     "metadata": {},
     "outputs": [],
     "prompt_number": null
    },
    {
     "cell_type": "code",
     "collapsed": false,
     "input": [
      "b[0]\n",
      "print b[1]"
     ],
     "language": "python",
     "metadata": {},
     "outputs": [],
     "prompt_number": null
    },
    {
     "cell_type": "code",
     "collapsed": false,
     "input": [
      "print b[0]+b[1]"
     ],
     "language": "python",
     "metadata": {},
     "outputs": [],
     "prompt_number": null
    },
    {
     "cell_type": "code",
     "collapsed": false,
     "input": [
      "p = [1,2,3]\n",
      "q = [2,4,6]\n",
      "\n",
      "import numpy as np\n",
      "z = np.add(p, q)\n",
      "\n",
      "print z/3\n"
     ],
     "language": "python",
     "metadata": {},
     "outputs": [],
     "prompt_number": null
    },
    {
     "cell_type": "code",
     "collapsed": true,
     "input": [
      "[x + y for x, y in zip(first, second)]"
     ],
     "language": "python",
     "metadata": {},
     "outputs": [],
     "prompt_number": null
    }
   ],
   "metadata": {}
  }
 ]
}