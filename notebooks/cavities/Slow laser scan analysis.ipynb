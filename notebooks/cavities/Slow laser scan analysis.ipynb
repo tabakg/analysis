{
 "cells": [
  {
   "cell_type": "code",
   "execution_count": null,
   "metadata": {
    "collapsed": false
   },
   "outputs": [],
   "source": [
    "%matplotlib inline\n",
    "import os\n",
    "import numpy as np\n",
    "import sys\n",
    "import matplotlib\n",
    "import matplotlib.pyplot as plt\n",
    "c=2.998e8 #speed of light\n",
    "import time\n",
    "filepath='D:/measuring/'\n",
    "import scipy.signal\n",
    "os.chdir(filepath)\n",
    "\n",
    "sys.path.append('H:/My Documents/measuring/')\n",
    "%matplotlib inline\n",
    "\n",
    "from analysis.lib.tools import plot\n",
    "import analysis.lib.tools.toolbox as tb\n",
    "from analysis.lib.fitting import fit,common\n",
    "from analysis.lib.cavity import cavity_tools\n",
    "import analysis.scripts.cavity.cavity_general_analysis\n",
    "from analysis.scripts.cavity import analyse_laserscan "
   ]
  },
  {
   "cell_type": "code",
   "execution_count": null,
   "metadata": {
    "collapsed": false
   },
   "outputs": [],
   "source": [
    "import math\n",
    "2*math.sqrt(2*math.log(2))"
   ]
  },
  {
   "cell_type": "code",
   "execution_count": null,
   "metadata": {
    "collapsed": false
   },
   "outputs": [],
   "source": [
    "times = ['214252','215843','220955','223331','203750','160830']\n",
    "labels=['44','45','46','47','49','52']\n",
    "Ns=[44,45,46,47,49,52]\n",
    "reload(analyse_laserscan)\n",
    "binsize = 50\n",
    "\n",
    "FWHM_bins2 = np.array([])\n",
    "u_FWHM_bins2 = np.array([])\n",
    "fig3,ax3 = plt.subplots(figsize=(14,4))\n",
    "  \n",
    "    \n",
    "ax3.set_xlabel('bin nr')\n",
    "ax3.set_ylabel('FWHM')\n",
    "for i,time in enumerate(times):\n",
    "    timestamp,folder = tb.latest_data(contains = time+'_fine_laser_scan',return_timestamp=True)\n",
    "\n",
    "    a=analyse_laserscan.laserscan_analysis(folder)\n",
    "    a.get_and_bin_data(binsize=binsize,avg_per_s=False)\n",
    "#     a.poly_fit_frq()\n",
    "#     a.plot_PD_signal_vs_frq()\n",
    "#     a.plot_PD_signal_vs_V()\n",
    "#     a.plot_frq_vs_V()\n",
    "    FWHMs,u_FWHMs=a.fit_bins(plot_fit=False,plot_sigmas=False)\n",
    "    ax3.errorbar(np.arange(a.nr_bins),FWHMs,yerr=u_FWHMs,label=labels[i])\n",
    "#     a.plot_bins()\n",
    "#     a.get_linecut_per_ms(linecut_point = 10,do_plot=False)\n",
    "    FWHM_bins2 = np.append(FWHM_bins2,FWHMs[5])\n",
    "    u_FWHM_bins2 = np.append(u_FWHM_bins2,u_FWHMs[5])\n",
    "    a.finish()\n",
    "ax3.legend(title='cavity mode nr',loc='upper left')\n",
    "\n",
    "ax3.set_ylim([0,50])\n",
    "ax3.set_xlim([0,19])\n",
    "\n",
    "\n",
    "ax3.set_title(os.path.split(folder)[-1]+'/FWHMs_vs_bins_sweep_cavitylength_binsize%d.png'%binsize)\n",
    "fig3.savefig(folder+'/FWHMs_vs_bins_sweep_cavitylength_binsize%d.png'%binsize)\n",
    "# pls.show()\n",
    "# plt.close()\n",
    "\n",
    "fig4,ax4 = plt.subplots(figsize=(14,4))\n",
    "ax4.errorbar(Ns,FWHM_bins2,yerr=u_FWHM_bins2)\n",
    "ax4.set_xlim([43,53])\n",
    "ax4.set_xlabel('mode nr (N)')\n",
    "ax4.set_ylabel('FWHM of gaussian fit')\n",
    "fig4.savefig(folder+'/FWHMs_bin3_vs_cavitylength.png')\n"
   ]
  },
  {
   "cell_type": "code",
   "execution_count": null,
   "metadata": {
    "collapsed": false
   },
   "outputs": [],
   "source": [
    "times = ['165207','162137','160830']\n",
    "labels=['normal 1','normal 2', 'normal 3']\n",
    "binsizes = [72,83,100]\n",
    "reload(analyse_laserscan)\n",
    "\n",
    "fig3,ax3 = plt.subplots(figsize=(14,4))\n",
    "    \n",
    "ax3.set_xlabel('bin start time (100 ms)')\n",
    "ax3.set_ylabel('FWHM')\n",
    "for i,time in enumerate(times):\n",
    "    timestamp,folder = tb.latest_data(contains = time+'_fine_laser_scan',return_timestamp=True)\n",
    "\n",
    "    a=analyse_laserscan.laserscan_analysis(folder)\n",
    "    a.get_and_bin_data(binsize=binsizes[i],avg_per_s=False)\n",
    "#     a.poly_fit_frq()\n",
    "#     a.plot_PD_signal_vs_frq()\n",
    "#     a.plot_PD_signal_vs_V()\n",
    "#     a.plot_frq_vs_V()\n",
    "    FWHMs,u_FWHMs=a.fit_bins(plot_fit=False,plot_sigmas=False)\n",
    "    ax3.errorbar(np.arange(a.nr_bins)*binsizes[i]/100.,FWHMs,yerr=u_FWHMs,label=labels[i])\n",
    "#     a.plot_bins()\n",
    "#     a.get_linecut_per_ms(linecut_point = 10,do_plot=False)\n",
    "    a.finish()\n",
    "ax3.legend(title='pulse tube setting',loc='upper left')\n",
    "\n",
    "ax3.set_ylim([0,150])\n",
    "ax3.set_xlim([0,20])\n",
    "\n",
    "\n",
    "ax3.set_title(os.path.split(folder)[-1]+'/FWHMs_vs_bins_sweep_tubesetting.png')\n",
    "plt.show()\n",
    "fig3.savefig(folder+'/FWHMs_vs_bins_sweep_tubesetting.png')"
   ]
  },
  {
   "cell_type": "code",
   "execution_count": null,
   "metadata": {
    "collapsed": true
   },
   "outputs": [],
   "source": []
  },
  {
   "cell_type": "code",
   "execution_count": null,
   "metadata": {
    "collapsed": false,
    "scrolled": true
   },
   "outputs": [],
   "source": [
    "times = ['210342','210749','211308']\n",
    "labels=['21 s','105 s', '210 s']\n",
    "reload(analyse_laserscan)\n",
    "binsize=50\n",
    "fig3,ax3 = plt.subplots(figsize=(10,4))\n",
    "    \n",
    "ax3.set_xlabel('bin nr')\n",
    "ax3.set_ylabel('FWHM')\n",
    "for i,time in enumerate(times):\n",
    "    timestamp,folder = tb.latest_data(contains = time+'_fine_laser_scan',return_timestamp=True)\n",
    "\n",
    "    a=analyse_laserscan.laserscan_analysis(folder)\n",
    "    a.get_and_bin_data(binsize=binsize,avg_per_s=True)\n",
    "#     a.poly_fit_frq()\n",
    "#     a.plot_PD_signal_vs_frq()\n",
    "#     a.plot_PD_signal_vs_V()\n",
    "#     a.plot_frq_vs_V()\n",
    "    FWHMs,u_FWHMs=a.fit_bins(plot_fit=False)\n",
    "    ax3.errorbar(np.arange(a.nr_bins),FWHMs,yerr=u_FWHMs,label=labels[i])\n",
    "#     a.plot_bins()\n",
    "#     a.get_linecut_per_ms(linecut_point = 10,do_plot=False)\n",
    "    a.finish()\n",
    "ax3.legend(title='total sweep time',loc='upper left')\n",
    "\n",
    "ax3.set_ylim([0,100])\n",
    "ax3.set_xlim([0,20])\n",
    "ax3.set_title(os.path.split(folder)[-1]+'/FWHMs_vs_bins_sweep_sweeptime_binsize%d.png'%binsize)\n",
    "plt.show()\n",
    "fig3.savefig(folder+'/FWHMs_vs_bins_sweep_sweeptime_binsize%d.png'%binsize)"
   ]
  },
  {
   "cell_type": "code",
   "execution_count": null,
   "metadata": {
    "collapsed": false,
    "scrolled": true
   },
   "outputs": [],
   "source": [
    "reload(analyse_laserscan)\n",
    "timestamp,folder = tb.latest_data(contains = '_fine_laser_scan',return_timestamp=True)\n",
    "\n",
    "a=analyse_laserscan.laserscan_analysis(folder)\n",
    "a.get_and_bin_data(binsize=100,avg_per_s=True)\n",
    "a.poly_fit_frq()\n",
    "a.plot_PD_signal_vs_frq()\n",
    "a.plot_PD_signal_vs_V()\n",
    "a.plot_frq_vs_V()\n",
    "a.fit_bins(plot_fit=True)\n",
    "a.plot_bins()\n",
    "a.get_linecut_per_ms(linecut_point = 10,do_plot=False)\n",
    "a.finish()"
   ]
  },
  {
   "cell_type": "code",
   "execution_count": null,
   "metadata": {
    "collapsed": false
   },
   "outputs": [],
   "source": [
    "reload(analyse_laserscan)\n",
    "timestamp,folder = tb.latest_data(contains = '_fine_laser_scan',return_timestamp=True)\n",
    "\n",
    "a=analyse_laserscan.laserscan_analysis(folder)\n",
    "a.get_laserscan_data()\n",
    "a.calc_sweeptime()\n",
    "# a.poly_fit_frq()\n",
    "a.plot_PD_signal_vs_frq()\n",
    "a.plot_PD_signal_vs_V()\n",
    "a.plot_frq_vs_V()\n",
    "a.fit_lorentzian(plot_fit=True,g_gamma=3)\n",
    "a.get_linecut_per_ms(linecut_point = 10,do_plot=False)\n",
    "a.finish()"
   ]
  },
  {
   "cell_type": "code",
   "execution_count": null,
   "metadata": {
    "collapsed": false
   },
   "outputs": [],
   "source": [
    "reload(analyse_laserscan) \n",
    "reload(common) \n",
    "x,frq,y,y_per_ms_avgs,y_per_ms_per_V=analyse_laserscan.laserscan_analysis(folder,plot_frq_vs_V=True)\n",
    "fig,ax = plt.subplots(figsize=(10,4))\n",
    "ax.plot(y_per_ms_per_V, label = '%d'%(ms_min/stepsize))\n",
    "ax.set_title(folder+'/PDsignal_per_mslinecut%d.png'%linecut_point)\n",
    "ax.set_ylabel('voltage in centre frequency')\n",
    "ax.set_xlabel('ms after sync')\n",
    "fig.savefig(folder+'/PDsignal_per_mslinecut%d.png'%linecut_point)\n",
    "\n",
    "g_x0 = -4 \n",
    "g_a0 = 480 \n",
    "g_a1 = -50/13 \n",
    "g_a2 = -2/1000\n",
    "\n",
    "p0, fitfunc, fitfunc_str = common.fit_poly_shifted(g_x0,g_a0, g_a1, g_a2) \n",
    "print fitfunc(-2) \n",
    "fit_result = fit.fit1d(x,frq, None, p0=p0, fitfunc=fitfunc, do_print=True, ret=True, fixed=fixed) \n",
    "fig,ax = plt.subplots(figsize=(8,4)) \n",
    "ax.plot(x,frq)\n",
    "\n",
    "print fitfunc_str \n",
    "print fit_result['params_dict'] \n",
    "plot.plot_fit1d(fit_result, np.linspace(x[-1],x[0],10*len(x)),ax=ax, label='Fit',show_guess=False, plot_data=True,color='red', data_linestyle = '-', print_info= True)\n",
    "\n",
    "frq_new =fit_result['fitfunc'](x)\n",
    "\n",
    "print frq_new\n",
    "\n",
    "fig,ax = plt.subplots(figsize=(8,4)) \n",
    "ax.plot(frq,y,label='raw frq') \n",
    "ax.plot(frq_new,y,label='fitted frq') \n",
    "ax.legend()\n"
   ]
  },
  {
   "cell_type": "code",
   "execution_count": null,
   "metadata": {
    "collapsed": false,
    "scrolled": true
   },
   "outputs": [],
   "source": [
    "reload(analyse_laserscan)\n",
    "reload(common)\n",
    "ms_min_start=0\n",
    "ms_min_stop=1900\n",
    "nr_bins = 20\n",
    "ms_mins= np.linspace(ms_min_start,ms_min_stop,nr_bins)\n",
    "\n",
    "\n",
    "stepsize = (ms_min_stop-ms_min_start)/(nr_bins-1)\n",
    "\n",
    "#y_per_ms_avgs = np.zeros(len(ms_mins))\n",
    "\n",
    "newest_folder = '135902'\n",
    "\n",
    "nr_scans = 10\n",
    "for i in xrange(nr_scans):\n",
    "    timestamp,folder = tb.latest_data(contains = '_fine_laser_scan',older_than=newest_folder,return_timestamp=True)\n",
    "    newest_folder =timestamp# folder[27:33]\n",
    "    a=analyse_laserscan.laserscan_analysis(folder)\n",
    "    x,y,frq,y_per_ms_binned = a.get_and_bin_data(binsize=100)\n",
    "    frq = a.poly_fit_frq(plot_fit=False)\n",
    "    sigmas = a.fit_bins(plot_fit=False,plot_sigmas=False)\n",
    "\n",
    "#     a.plot_PD_signal_vs_frq()\n",
    "#     a.plot_PD_signal_vs_V()\n",
    "#     a.plot_frq_vs_V()\n",
    "#     a.fit_bins(plot_fit=False)\n",
    "#     a.get_linecut_per_ms(linecut_point = 21,do_plot=False)\n",
    "#     a.finish()\n",
    "\n",
    "    if i ==0:\n",
    "        new_y=y\n",
    "        new_y_binned=y_per_ms_binned\n",
    "    else:\n",
    "        new_y = np.add(new_y,y)    \n",
    "        new_y_binned = np.add(new_y_binned,y_per_ms_binned)    \n",
    "\n",
    "avg_y_binned = new_y_binned/nr_scans\n",
    "avg_y = new_y/nr_scans\n",
    "\n",
    "\n",
    "fig,ax = plt.subplots()\n",
    "ax.set_xlabel('Voltage (V)')\n",
    "ax.set_ylabel('PD signal (V)')\n",
    "plt.plot(x,avg_y)\n",
    "fig.savefig(folder+'/PDsignal_vs_laser_tuning_voltage.png')\n",
    "plt.show()\n",
    "fig,ax = plt.subplots()\n",
    "\n",
    "ax.set_xlabel('Frequency (GHz) + 470.4 THz')\n",
    "ax.set_ylabel('PD signal (V)')\n",
    "plt.plot(fit_frq,avg_y)\n",
    "fig.savefig(folder+'/PDsignal_vs_frq.png')\n",
    "plt.show()\n",
    "\n",
    "\n",
    "g_a = 0.7\n",
    "g_A = 3\n",
    "g_x0 = 4\n",
    "g_sigma = 4\n",
    "fixed = []\n",
    "\n",
    "p0, fitfunc, fitfunc_str = common.fit_gauss(g_a, g_A, g_x0, g_sigma)\n",
    "fit_result = fit.fit1d(x,avg_y, None, p0=p0, fitfunc=fitfunc, do_print=True, ret=True, fixed=fixed)\n",
    "fig,ax = plt.subplots(figsize=(8,4))\n",
    "ax.set_xlabel('Voltage (V)')\n",
    "ax.set_ylabel('PD signal (V)')\n",
    "plot.plot_fit1d(fit_result, np.linspace(x[0],x[-1],10*len(x)),ax=ax, label='Fit',show_guess=True, plot_data=True,color='red', data_linestyle = '-', print_info= False)\n",
    "\n",
    "A = fit_result['params_dict']['A']\n",
    "a = fit_result['params_dict']['a']\n",
    "x0 = fit_result['params_dict']['x0']\n",
    "sigma = fit_result['params_dict']['sigma']\n",
    "\n",
    "linewidth = (frq[0]-frq[-1])/(x[-1]-x[0])*sigma\n",
    "\n",
    "ax.set_title('Linewidth = %.4fGHz'%linewidth)\n",
    "\n",
    "\n",
    "\n",
    "nr_bins = np.size(avg_y_binned,1)\n",
    "fig,ax = plt.subplots(figsize=(10,4))\n",
    "colormap = plt.cm.copper\n",
    "plt.gca().set_color_cycle([colormap(i) for i in np.linspace(0, 0.9, nr_bins/2)])\n",
    "\n",
    "for i in np.arange(nr_bins):\n",
    "    ax.plot(fit_frq,avg_y_binned[:,i], label = '%d'%(ms_min/stepsize))\n",
    "plt.show()"
   ]
  },
  {
   "cell_type": "code",
   "execution_count": null,
   "metadata": {
    "collapsed": false,
    "scrolled": true
   },
   "outputs": [],
   "source": [
    "reload(analyse_laserscan)\n",
    "ms_min_start=0\n",
    "ms_min_stop=1950\n",
    "nr_bins = 40\n",
    "ms_mins= np.linspace(ms_min_start,ms_min_stop,nr_bins)\n",
    "\n",
    "sigmas = np.array([])\n",
    "stepsize = (ms_min_stop-ms_min_start)/(nr_bins-1)\n",
    "\n",
    "#y_per_ms_avgs = np.zeros(len(ms_mins))\n",
    "\n",
    "# folder = tb.latest_data(contains = '210749_fine_laser_scan')\n",
    "analyse_laserscan.laserscan_analysis(folder,do_plot=False,plot_PD_signal_vs_V=True)\n",
    "\n",
    "fig,ax = plt.subplots(figsize=(10,4))\n",
    "colormap = plt.cm.copper\n",
    "plt.gca().set_color_cycle([colormap(i) for i in np.linspace(0, 0.9, nr_bins/2)])\n",
    "\n",
    "for i,ms_min in enumerate(ms_mins):\n",
    "    x,frq,y_per_ms_binned,y_per_ms_per_V,sigma=analyse_laserscan.laserscan_analysis(folder,\n",
    "                                                    ms_min=ms_min,ms_max=ms_min+100,fit_lorentz_avg=False,\n",
    "                                                    fit_gaussian=True)\n",
    "\n",
    "    ax.plot(frq,y_per_ms_avgs, label = '%d'%(ms_min/stepsize))\n",
    "    sigmas = np.append(sigmas,sigma)\n",
    "#     ax.set_xlabel('Voltage(V)')\n",
    "\n",
    "\n",
    "\n",
    "ax.set_xlabel('frequency (GHz) + 470.4 THz')\n",
    "ax.set_ylabel('PD signal (V)|')\n",
    "ax.set_title(folder)\n",
    "ax.legend(title='time bin (of %d ms)'%stepsize,fontsize=6)\n",
    "fig.savefig(folder+'/PDsignal_per_%dms_vs_frq.png'%stepsize)\n",
    "plt.show()\n",
    "i = i+1\n",
    "\n",
    "\n",
    "print frq[-1], frq[0]\n",
    "\n",
    "\n",
    "fig,ax = plt.subplots(figsize=(10,4))\n",
    "ax.plot(ms_mins,sigmas)\n",
    "ax.set_xlabel('ms_mins (bins)')\n",
    "ax.set_ylabel('sigma (GHz)')\n",
    "ax.set_ylim([0,20])\n",
    "ax.set_title(folder+'sigma_vs_timebin')\n"
   ]
  },
  {
   "cell_type": "code",
   "execution_count": null,
   "metadata": {
    "collapsed": false
   },
   "outputs": [],
   "source": [
    "print folder\n",
    "reload(analyse_laserscan)\n",
    "x,frq,y,y_per_ms_binned,y_per_ms_per_V=analyse_laserscan.laserscan_analysis(folder,\n",
    "                                                ms_min=ms_min,ms_max=ms_min+100,fit_lorentz_avg=False,\n",
    "                                                fit_gaussian=False,binsize=100)\n",
    "\n",
    "nr_bins = np.size(y_per_ms_binned,1)\n",
    "print nr_bins\n",
    "fig,ax = plt.subplots(figsize=(10,4))\n",
    "\n",
    "\n",
    "for i in np.arange(nr_bins):\n",
    "    ax.plot(frq,y_per_ms_binned[:,i], label = '%d'%(ms_min/stepsize))\n",
    "#     sigmas = np.append(sigmas,sigma)\n",
    "    \n",
    "\n",
    "\n",
    "plt.show()\n"
   ]
  },
  {
   "cell_type": "code",
   "execution_count": null,
   "metadata": {
    "collapsed": true
   },
   "outputs": [],
   "source": [
    "a=np.array([1,2,3,4,5,6,7,8,9,10,11,12,13,14,15,16,1,18,19,20])"
   ]
  },
  {
   "cell_type": "code",
   "execution_count": null,
   "metadata": {
    "collapsed": false
   },
   "outputs": [],
   "source": [
    "np.arange(0,1000,100)"
   ]
  },
  {
   "cell_type": "code",
   "execution_count": null,
   "metadata": {
    "collapsed": false
   },
   "outputs": [],
   "source": [
    "b = np.array([[1,2,3,4],[4,5,6,7]])\n",
    "c=np.array([1,2,3,4])\n",
    "d=np.histogram(c,3)\n",
    "print d\n",
    "np.histogram(b,2)"
   ]
  },
  {
   "cell_type": "code",
   "execution_count": null,
   "metadata": {
    "collapsed": false
   },
   "outputs": [],
   "source": [
    "b[0]\n",
    "print b[1]"
   ]
  },
  {
   "cell_type": "code",
   "execution_count": null,
   "metadata": {
    "collapsed": false
   },
   "outputs": [],
   "source": [
    "print b[0]+b[1]"
   ]
  },
  {
   "cell_type": "code",
   "execution_count": null,
   "metadata": {
    "collapsed": false
   },
   "outputs": [],
   "source": [
    "p = [1,2,3]\n",
    "q = [2,4,6]\n",
    "\n",
    "import numpy as np\n",
    "z = np.add(p, q)\n",
    "\n",
    "print z/3\n"
   ]
  },
  {
   "cell_type": "code",
   "execution_count": null,
   "metadata": {
    "collapsed": true
   },
   "outputs": [],
   "source": [
    "[x + y for x, y in zip(first, second)]"
   ]
  }
 ],
 "metadata": {
  "kernelspec": {
   "display_name": "Python 2",
   "language": "python",
   "name": "python2"
  },
  "language_info": {
   "codemirror_mode": {
    "name": "ipython",
    "version": 2
   },
   "file_extension": ".py",
   "mimetype": "text/x-python",
   "name": "python",
   "nbconvert_exporter": "python",
   "pygments_lexer": "ipython2",
   "version": "2.7.3"
  }
 },
 "nbformat": 4,
 "nbformat_minor": 0
}
