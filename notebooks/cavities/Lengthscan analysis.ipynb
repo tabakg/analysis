{
 "cells": [
  {
   "cell_type": "code",
   "execution_count": null,
   "metadata": {
    "collapsed": false
   },
   "outputs": [],
   "source": [
    "%matplotlib inline\n",
    "import os\n",
    "import numpy as np\n",
    "import sys\n",
    "import matplotlib\n",
    "import matplotlib.pyplot as plt\n",
    "c=2.998e8 #speed of light\n",
    "import time\n",
    "filepath='D:/measuring/'\n",
    "import scipy.signal\n",
    "os.chdir(filepath)\n",
    "\n",
    "sys.path.append('H:/My Documents/measuring/')\n",
    "%matplotlib inline\n",
    "\n",
    "import analysis.lib.tools.toolbox as tb\n",
    "\n",
    "from analysis.lib.cavity import cavity_tools\n",
    "from analysis.scripts.cavity import cavity_general_analysis\n",
    "from analysis.scripts.cavity import analyse_lengthscan"
   ]
  },
  {
   "cell_type": "code",
   "execution_count": null,
   "metadata": {
    "collapsed": false
   },
   "outputs": [],
   "source": []
  },
  {
   "cell_type": "code",
   "execution_count": null,
   "metadata": {
    "collapsed": true
   },
   "outputs": [],
   "source": [
    "dpeaks = np.array([])"
   ]
  },
  {
   "cell_type": "code",
   "execution_count": null,
   "metadata": {
    "collapsed": false
   },
   "outputs": [],
   "source": [
    "reload(analyse_lengthscan)\n",
    "peak_xs = analyse_lengthscan.lengthscan_analysis(tb.latest_data(contains = '160142_length_scan'), do_get_peaks=True)\n",
    "dpeak = peak_xs[2]-peak_xs[1]\n",
    "print dpeak"
   ]
  },
  {
   "cell_type": "code",
   "execution_count": null,
   "metadata": {
    "collapsed": false
   },
   "outputs": [],
   "source": [
    "dpeaks = np.append(dpeaks,dpeak)\n",
    "print dpeaks"
   ]
  },
  {
   "cell_type": "code",
   "execution_count": null,
   "metadata": {
    "collapsed": false
   },
   "outputs": [],
   "source": [
    "avg_dp=np.average(dpeaks)\n",
    "std_dp =np.std(dpeaks)\n",
    "print 'average dp = %.3f,%.3f'%(avg_dp,std_dp)\n",
    "\n",
    "conversion_factor = 636.6/2/avg_dp\n",
    "print 'conversion factor = %.1f'%(conversion_factor)\n"
   ]
  },
  {
   "cell_type": "code",
   "execution_count": null,
   "metadata": {
    "collapsed": true
   },
   "outputs": [],
   "source": [
    "dpeaks = np.array([])"
   ]
  }
 ],
 "metadata": {
  "kernelspec": {
   "display_name": "Python 2",
   "language": "python",
   "name": "python2"
  },
  "language_info": {
   "codemirror_mode": {
    "name": "ipython",
    "version": 2
   },
   "file_extension": ".py",
   "mimetype": "text/x-python",
   "name": "python",
   "nbconvert_exporter": "python",
   "pygments_lexer": "ipython2",
   "version": "2.7.3"
  }
 },
 "nbformat": 4,
 "nbformat_minor": 0
}
