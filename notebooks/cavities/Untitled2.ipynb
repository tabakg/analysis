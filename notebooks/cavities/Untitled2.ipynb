{
 "cells": [
  {
   "cell_type": "code",
   "execution_count": null,
   "metadata": {
    "collapsed": false
   },
   "outputs": [],
   "source": [
    "import numpy as np\n",
    "import matplotlib.pyplot as plt\n",
    "%matplotlib inline  \n"
   ]
  },
  {
   "cell_type": "code",
   "execution_count": null,
   "metadata": {
    "collapsed": false
   },
   "outputs": [],
   "source": [
    "temp = np.array([29.69,29.40,29.11,28.80,28.49,28.20,27.89,27.60,27.31,27.00,26.70,26.39,26.10,25.80,25.29,24.80,23.80,27.91,29.69,30.00])\n",
    "signal = np.array([6.70,5.65,3.40,1.06,2.20,4.05,4.45,4.00,2.75,1.85,1.70,2.00,2.55,2.40,0.75,0.34,0.08,4.40,6.40,4.00])\n",
    "unc_signal = np.array([0.1,0.2,0.4,0.02,0.2,0.1,0.15,0.1,0.15,0.1,0.05,0.05,0.05,0,15,0.05,0.01,0.01,0.02,0.3,0.4])"
   ]
  },
  {
   "cell_type": "code",
   "execution_count": null,
   "metadata": {
    "collapsed": false
   },
   "outputs": [],
   "source": [
    "ind = np.argsort(temp)\n",
    "temp = temp[ind]\n",
    "signal = signal[ind]\n",
    "unc_signal = unc_signal[ind]"
   ]
  },
  {
   "cell_type": "code",
   "execution_count": null,
   "metadata": {
    "collapsed": false
   },
   "outputs": [],
   "source": [
    "print len(unc_signal)"
   ]
  },
  {
   "cell_type": "code",
   "execution_count": null,
   "metadata": {
    "collapsed": false
   },
   "outputs": [],
   "source": [
    "plt.plot (temp, signal, 'ob')\n",
    "plt.plot (temp, signal, 'r')\n",
    "plt.xlabel ('Temperature [deg]', fontsize = 15)\n",
    "plt.ylabel ('Signal [uW]', fontsize=15)\n",
    "plt.show()"
   ]
  },
  {
   "cell_type": "code",
   "execution_count": null,
   "metadata": {
    "collapsed": false
   },
   "outputs": [],
   "source": []
  }
 ],
 "metadata": {
  "kernelspec": {
   "display_name": "Python 2",
   "language": "python",
   "name": "python2"
  },
  "language_info": {
   "codemirror_mode": {
    "name": "ipython",
    "version": 2
   },
   "file_extension": ".py",
   "mimetype": "text/x-python",
   "name": "python",
   "nbconvert_exporter": "python",
   "pygments_lexer": "ipython2",
   "version": "2.7.3"
  }
 },
 "nbformat": 4,
 "nbformat_minor": 0
}
