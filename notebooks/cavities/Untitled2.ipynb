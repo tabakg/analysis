{
 "metadata": {
  "name": "",
  "signature": ""
 },
 "nbformat": 3,
 "nbformat_minor": 0,
 "worksheets": [
  {
   "cells": [
    {
     "cell_type": "code",
     "collapsed": false,
     "input": [
      "import numpy as np\n",
      "import matplotlib.pyplot as plt\n",
      "%matplotlib inline  \n"
     ],
     "language": "python",
     "metadata": {},
     "outputs": []
    },
    {
     "cell_type": "code",
     "collapsed": false,
     "input": [
      "temp = np.array([29.69,29.40,29.11,28.80,28.49,28.20,27.89,27.60,27.31,27.00,26.70,26.39,26.10,25.80,25.29,24.80,23.80,27.91,29.69,30.00])\n",
      "signal = np.array([6.70,5.65,3.40,1.06,2.20,4.05,4.45,4.00,2.75,1.85,1.70,2.00,2.55,2.40,0.75,0.34,0.08,4.40,6.40,4.00])\n",
      "unc_signal = np.array([0.1,0.2,0.4,0.02,0.2,0.1,0.15,0.1,0.15,0.1,0.05,0.05,0.05,0,15,0.05,0.01,0.01,0.02,0.3,0.4])"
     ],
     "language": "python",
     "metadata": {},
     "outputs": []
    },
    {
     "cell_type": "code",
     "collapsed": false,
     "input": [
      "ind = np.argsort(temp)\n",
      "temp = temp[ind]\n",
      "signal = signal[ind]\n",
      "unc_signal = unc_signal[ind]"
     ],
     "language": "python",
     "metadata": {},
     "outputs": []
    },
    {
     "cell_type": "code",
     "collapsed": false,
     "input": [
      "print len(unc_signal)"
     ],
     "language": "python",
     "metadata": {},
     "outputs": []
    },
    {
     "cell_type": "code",
     "collapsed": false,
     "input": [
      "plt.plot (temp, signal, 'ob')\n",
      "plt.plot (temp, signal, 'r')\n",
      "plt.xlabel ('Temperature [deg]', fontsize = 15)\n",
      "plt.ylabel ('Signal [uW]', fontsize=15)\n",
      "plt.show()"
     ],
     "language": "python",
     "metadata": {},
     "outputs": []
    },
    {
     "cell_type": "code",
     "collapsed": false,
     "input": [],
     "language": "python",
     "metadata": {},
     "outputs": []
    }
   ],
   "metadata": {}
  }
 ]
}
