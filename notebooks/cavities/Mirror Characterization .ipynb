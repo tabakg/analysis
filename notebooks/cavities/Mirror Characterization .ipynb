{
 "cells": [
  {
   "cell_type": "markdown",
   "metadata": {},
   "source": [
    "# The purpose of this notebook is to analyze the oscilloscope data and spectrometer data to find the Finesse and Cavity Length "
   ]
  },
  {
   "cell_type": "code",
   "execution_count": null,
   "metadata": {
    "collapsed": false
   },
   "outputs": [],
   "source": [
    "%matplotlib inline\n",
    "import os\n",
    "import numpy as np\n",
    "import sys\n",
    "import matplotlib\n",
    "import matplotlib.pyplot as plt\n",
    "c=3.e8 #speed of light\n",
    "import time\n",
    "filepath='D:/measuring/'\n",
    "import scipy.signal\n",
    "os.chdir(filepath)\n",
    "\n",
    "sys.path.append('H:/My Documents/measuring/')\n",
    "\n",
    "#Directory for the Spectrometer Data\n",
    "data_dir='D:\\measuring\\data/20160824\\spectrometer'#'D:\\measuring\\data/20160503\\ON diamond\\pos 7/raw data spectrometer\\L9'#'D:\\measuring\\data/20160707\\CL2_newmirror_processed'#\"/Users/suzannevandam/Documents/PhD/localdata/20160430/ON_diamond\" \n",
    "print data_dir\n",
    "\n",
    "#Saving Directory\n",
    "save_dir=data_dir#'D:\\measuring\\data/20160805\\Data_Summary'\n",
    "\n",
    "%matplotlib inline"
   ]
  },
  {
   "cell_type": "code",
   "execution_count": null,
   "metadata": {
    "collapsed": false
   },
   "outputs": [],
   "source": [
    "import analysis.scripts.cavity.spectrometer_analysis as sa\n",
    "import analysis.scripts.cavity.spectrometer_analysis_2Dsweep as sa_2D\n",
    "import analysis.scripts.cavity.oscilloscope_analysis_linewidth as oscillo_ana"
   ]
  },
  {
   "cell_type": "markdown",
   "metadata": {},
   "source": [
    "# We first analyze the linewidth of the cavity using the oscilloscope data"
   ]
  },
  {
   "cell_type": "code",
   "execution_count": null,
   "metadata": {
    "collapsed": false
   },
   "outputs": [],
   "source": [
    "#This fits the oscilloscope data to three linewidths \n",
    "#note that if you change the spacing between the side peaks (in GHz), \n",
    "#you must go to the oscilloscope_analysis_linewidth script in sublime and change it there \n",
    "reload(oscillo_ana)\n",
    "#Directory for the Oscilloscope Data \n",
    "indir='D:\\measuring\\data/20160824/Cavity characterization spectrometer/Scope_RF_ON_camera_up'#'D:\\measuring\\data/20160430\\OFF_diamond'\n",
    "filename='NICE_LWS00100'\n",
    "EOM_freq=6.9 #GHz\n",
    "\n",
    "x_min = 0 #Left most point of the x (in ms)\n",
    "x_max = 80000 #Right most point in x (in ms)\n",
    "\n",
    "oa = oscillo_ana.oscilloscope_analysis(indir=indir,filename=filename)\n",
    "oa.get_data(use_timetrace=False,x_min=x_min,x_max=x_max)#1400)\n",
    "oa.plot_data()#plot_mod=True\n",
    "\n",
    "print oa.x\n",
    "print oa.y\n",
    "\n",
    "g_a1 = 0 #Offset in the y-axis (usually remains at 0)\n",
    "g_A1 = 6 # Area of the middle peak ((High time-Low time)*Intensity)/2 \n",
    "g_gamma1 = 17 #Estimate of linewidth of the center peak (Width at half max (in ms))\n",
    "g_dx = 65 #Difference in ms between the center peak and the side peaks\n",
    "g_A2 = 4 #Area of the side peak on the left\n",
    "g_A3 = 1 #Area of the side peak on the right (only necessary if you are using the asymmetric peak fit)\n",
    "\n",
    "\n",
    "fixed =[]\n",
    "g_x01 = x_min+(x_max-x_min)/2. #Automatically finds the maximum of the middle peak. You have to place the middle peak in the center of the image for this to get a good estimate. Alternatively you can just input g_x01 manually if you have multiple peaks. \n",
    "#g_x01=43800\n",
    "\n",
    "print g_x01\n",
    "\n",
    "#oscillo_ana.get_data(indir)\n",
    "#oscillo_ana.plot_data\n",
    "# oscillo_ana.plot_data(indir, filename,use_timetrace=False,x_min=x_min,x_max=x_max)\n",
    "#oa.plot_and_fit_with_EOM(EOM_freq=EOM_freq,g_a1=g_a1, g_A1=g_A1, g_x01=g_x01, g_gamma1=g_gamma1, g_dx=g_dx, g_A2=g_A2, g_A3=g_A3, fixed=fixed)\n",
    "# oscillo_ana.plot_and_fit(indir, filename,g_a1, g_A1, g_x01, g_gamma1, g_dx, g_A2,fixed=fixed)\n",
    "\n",
    "#plt.show()\n",
    "\n",
    "#oa.plot_and_fit_with_EOM(EOM_freq=EOM_freq,g_gamma1=17, g_dx=65,g_A2=4,g_A3=1,show_fit=True)\n",
    "\n",
    "#x,y = oscillo_ana.plot_data(indir, filename,use_timetrace=False,x_min=x_min,x_max=x_max)\n",
    "\n",
    "# #oscillo_ana.plot_and_fit_with_EOM(indir, filename,EOM_frq,g_a1, g_A1, g_x01, g_gamma1, g_dx, g_A2,g_A3,fixed=fixed,use_timetrace=False)\n",
    "\n",
    "# # lws_old=lws[:-1]\n",
    "# lws = np.array([])#lws_old## \n",
    "# nr_lws=120\n",
    "\n",
    "# x0 =860\n",
    "# windowsize=300# print len(x)\n",
    "# # xi = int(len(x)/nr_lws)\n",
    "# # print xi \n",
    "\n",
    "# x,y = oa.get_data(use_timetrace=False)\n",
    "# # lw,u_lw = oa.plot_and_fit_with_EOM(EOM_freq=EOM_freq)\n",
    "# # print lw\n",
    "\n",
    "# for i in np.arange(nr_lws):\n",
    "#     xi = int(x0+(len(x)*i/nr_lws))\n",
    "    \n",
    "#     if i%2==1:\n",
    "#         xi=xi-50   \n",
    "#     if (xi-windowsize)>0:\n",
    "#         x_min = xi-windowsize\n",
    "#     else: \n",
    "#         x_min = 0\n",
    "#     if (xi+windowsize)<len(x)-1:\n",
    "#         x_max = xi+windowsize\n",
    "#     else:\n",
    "#         x_max =-1\n",
    "#     oa.get_data(use_timetrace=False,x_min = x_min, x_max=x_max)\n",
    "#     #oa.plot_data()\n",
    "#     lw,u_lw = oa.plot_and_fit_with_EOM(EOM_freq=EOM_freq,g_gamma1=20, g_dx=60,g_A2=2,g_A3=2,show_fit=True)\n",
    "#     lws = np.append(lws,lw)\n",
    "# #     if i>1:\n",
    "# #         break\n",
    "        "
   ]
  },
  {
   "cell_type": "code",
   "execution_count": null,
   "metadata": {
    "collapsed": false
   },
   "outputs": [],
   "source": [
    "reload(oscillo_ana)\n",
    "indir='D:\\measuring\\data/20160824/Cavity characterization spectrometer/Scope_RF_ON_camera_up'#'D:\\measuring\\data/20160430\\OFF_diamond'\n",
    "filename='NICE_LWS00100'\n",
    "EOM_freq=6.9 # in GHz\n",
    "\n",
    "#oa = oscillo_ana.oscilloscope_analysis(indir=indir,filename=filename)\n",
    "#oa.get_data(use_timetrace=False,x_min=0,x_max=1000)#1400)\n",
    "#oa.plot_data()#plot_mod=True)\n",
    "\n",
    "# # lws_old=lws[:-1]\n",
    "# lws = np.array([])#lws_old## \n",
    "# nr_lws=120\n",
    "\n",
    "# x0 =860\n",
    "# windowsize=300# print len(x)\n",
    "# # xi = int(len(x)/nr_lws)\n",
    "# # print xi \n",
    "\n",
    "# x,y = oa.get_data(use_timetrace=False)\n",
    "# # lw,u_lw = oa.plot_and_fit_with_EOM(EOM_freq=EOM_freq)\n",
    "# # print lw\n",
    "\n",
    "# for i in np.arange(nr_lws):\n",
    "#     xi = int(x0+(len(x)*i/nr_lws))\n",
    "    \n",
    "#     if i%2==1:\n",
    "#         xi=xi-50   \n",
    "#     if (xi-windowsize)>0:\n",
    "#         x_min = xi-windowsize\n",
    "#     else: \n",
    "#         x_min = 0\n",
    "#     if (xi+windowsize)<len(x)-1:\n",
    "#         x_max = xi+windowsize\n",
    "#     else:\n",
    "#         x_max =-1\n",
    "#     oa.get_data(use_timetrace=False,x_min = x_min, x_max=x_max)\n",
    "#     #oa.plot_data()\n",
    "#     lw,u_lw = oa.plot_and_fit_with_EOM(EOM_freq=EOM_freq,g_gamma1=20, g_dx=60,g_A2=2,g_A3=2,show_fit=True)\n",
    "#     lws = np.append(lws,lw)\n",
    "# #     if i>1:\n",
    "# #         break\n",
    "        \n",
    "# print lws\n",
    "# print len(lws)\n",
    "# print np.average(lws)\n",
    "# print np.std(lws)\n",
    "\n",
    "# f = open(os.path.join(indir,'fitted_lws.txt'), 'w')\n",
    "# np.savetxt(f,lws)\n",
    "# f.close()\n",
    "\n",
    "# plt.show()\n",
    "\n",
    "#x,y = oscillo_ana.plot_data(indir, filename,use_timetrace=False,x_min=x_min,x_max=x_max)\n",
    "\n",
    "#oscillo_ana.plot_and_fit_with_EOM(indir, filename,EOM_frq,g_a1, g_A1, g_x01, g_gamma1, g_dx, g_A2,g_A3,fixed=fixed,use_timetrace=False)"
   ]
  },
  {
   "cell_type": "markdown",
   "metadata": {},
   "source": [
    "# Now we analyze the spectrometer data to find the FSR/cavity length"
   ]
  },
  {
   "cell_type": "code",
   "execution_count": null,
   "metadata": {
    "collapsed": false
   },
   "outputs": [],
   "source": [
    "#note that what are called wavelengths, are actually the frequencies in THz! \n",
    "wavelengths,filenumbers,intensities = sa.load_data_from_folder(data_dir)\n",
    "# wavelengths,filenumbers,intensities = sa.load_data(data_file)"
   ]
  },
  {
   "cell_type": "code",
   "execution_count": null,
   "metadata": {
    "collapsed": false
   },
   "outputs": [],
   "source": [
    "#Showing all of the peaks from the spectrometer data\n",
    "print len(wavelengths)\n",
    "#plt.show()\n",
    "plt.plot(wavelengths,intensities[:,0])\n",
    "plt.ylabel('Intensity (a.u)')\n",
    "plt.xlabel('Frequency (THz)')\n",
    "plt.title('All Peaks - Spectrometer Data '+data_dir)\n",
    "plt.savefig(os.path.join(data_dir, 'All Peaks - Spectrometer Data.jpg'))\n",
    "plt.savefig(os.path.join(save_dir, 'All Peaks - Spectrometer Data.jpg'))"
   ]
  },
  {
   "cell_type": "code",
   "execution_count": null,
   "metadata": {
    "collapsed": false
   },
   "outputs": [],
   "source": [
    "#Zooming in on the middle peak to find its frequency\n",
    "print len(wavelengths)\n",
    "nwavelengths = wavelengths[600:1100]\n",
    "nintensities = intensities[600:1100]\n",
    "#plt.show()\n",
    "plt.plot(nwavelengths,nintensities[:,0])\n",
    "plt.ylabel('Intensity (a.u)')\n",
    "plt.xlabel('Frequency (THz)')\n",
    "plt.title('Main Peak - Spectrometer Data '+data_dir)\n",
    "plt.savefig(os.path.join(data_dir, 'Peak 1 - Spectrometer Data Fit.jpg'))\n",
    "plt.savefig(os.path.join(save_dir, 'Middle Peak - Spectrometer Data.jpg'))"
   ]
  },
  {
   "cell_type": "code",
   "execution_count": null,
   "metadata": {
    "collapsed": false
   },
   "outputs": [],
   "source": [
    "#Fitting to the Peak 1\n",
    "reload(sa_2D)\n",
    "minimum_peak_height = 23000\n",
    "x0s,u_x0s=sa_2D.peaks_from_1D_data(nwavelengths,nintensities[:,0],plot_peak_locations=True,minimum_peak_height=minimum_peak_height)\n",
    "print x0s\n",
    "#Now out of the peaks you fitted, select the one that you want to calculate the FSR with\n",
    "print x0s[1]\n",
    "plt.savefig(os.path.join(data_dir, 'Peak 2 - Spectrometer Data Fit.jpg'))\n",
    "plt.savefig(os.path.join(save_dir, 'Peak 2 - Spectrometer Data Fit.jpg'))"
   ]
  },
  {
   "cell_type": "code",
   "execution_count": null,
   "metadata": {
    "collapsed": false
   },
   "outputs": [],
   "source": [
    "#Fitting to the middle peak (Peak 2)\n",
    "#This middle peak is the one that we extracted our cavity linewidth from\n",
    "reload(sa_2D)\n",
    "minimum_peak_height = 3549\n",
    "nx0s,u_x0s=sa_2D.peaks_from_1D_data(nwavelengths,nintensities[:,0],plot_peak_locations=True,minimum_peak_height=minimum_peak_height)\n",
    "print nx0s\n",
    "#Now out of the peaks you fitted, select the one that you want to calculate the FSR with\n",
    "print nx0s[0]"
   ]
  },
  {
   "cell_type": "markdown",
   "metadata": {},
   "source": [
    "# Now using the linewidth calculated and the peaks chosen for the FSR, we can find the Finesse and Cavity Length"
   ]
  },
  {
   "cell_type": "code",
   "execution_count": null,
   "metadata": {
    "collapsed": false
   },
   "outputs": [],
   "source": [
    "FSR_freq = (476.65-433.43)*1.e12 #FSR (in Hz)\n",
    "dv = 1.86*1.e9 #Average of the linewidths found for the cavity (in Hz)\n",
    "F= FSR_freq/dv #Finesse \n",
    "L = c/(2*FSR_freq) #Cavity Length\n",
    "\n",
    "print L\n",
    "print 'The Finesse is', round(F,2)\n",
    "print 'The Cavity Length is', round(L*1.e6,2), 'um'\n",
    "\n",
    "text_file = open(os.path.join(save_dir,'Characterization_Results.txt'), 'w')\n",
    "text_file.write(\"Mirror Characterization\" )\n",
    "text_file.write('\\n' \"Spectrometer Data: %s\" % data_dir)\n",
    "text_file.write('\\n' \"Oscilloscope Data Average of: %s\" %indir)\n",
    "text_file.write('\\n' \"Processed and Annealed\")\n",
    "text_file.write('\\n' \"The Linewidth is: %s\" % (dv/1.e9))\n",
    "text_file.write(\" GHz\")\n",
    "text_file.write('\\n' \"The Cavity Length is: %s\" % round(L*1.e6,2))\n",
    "text_file.write(\" um\")\n",
    "text_file.write('\\n' \"The Finesse is: %s\" % (round(F,2)))\n",
    "text_file.close()"
   ]
  },
  {
   "cell_type": "code",
   "execution_count": null,
   "metadata": {
    "collapsed": true
   },
   "outputs": [],
   "source": []
  }
 ],
 "metadata": {
  "kernelspec": {
   "display_name": "Python 2",
   "language": "python",
   "name": "python2"
  },
  "language_info": {
   "codemirror_mode": {
    "name": "ipython",
    "version": 2
   },
   "file_extension": ".py",
   "mimetype": "text/x-python",
   "name": "python",
   "nbconvert_exporter": "python",
   "pygments_lexer": "ipython2",
   "version": "2.7.3"
  }
 },
 "nbformat": 4,
 "nbformat_minor": 0
}
