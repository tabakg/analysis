{
 "cells": [
  {
   "cell_type": "markdown",
   "metadata": {},
   "source": [
    "This notebook analyzes joint measurements by LT3 and LT4 to obtain correlators between the two setups.\n",
    "For the analysis we assume that all measurements are conducted as sweeps!\n",
    "(the most useful sweep is either the superposition angle theta when measuring ZZ correlators or the microwave phase when measuring XX).\n",
    "\n",
    "NK 2017"
   ]
  },
  {
   "cell_type": "code",
   "execution_count": null,
   "metadata": {
    "collapsed": false
   },
   "outputs": [],
   "source": [
    "execfile(r'D:\\measuring\\analysis\\scripts\\setup_analysis.py')\n",
    "from analysis.lib.purification import purify_pq as ppq; reload(ppq)\n",
    "\n",
    "%matplotlib inline\n",
    "## initialize analysis and include all tools from purification."
   ]
  },
  {
   "cell_type": "code",
   "execution_count": null,
   "metadata": {
    "collapsed": false,
    "scrolled": false
   },
   "outputs": [],
   "source": [
    "from analysis.lib.single_click_ent import SCE_spin_spin_correlators as spc; reload(spc)\n",
    "spc.analyze_spspcorrs(contains = 'eta',do_plot = True, save_corrs = True,do_ROC=True,plot_filter = True,plot_raw_correlators = True)"
   ]
  },
  {
   "cell_type": "code",
   "execution_count": null,
   "metadata": {
    "collapsed": false,
    "scrolled": false
   },
   "outputs": [],
   "source": [
    "from analysis.lib.single_click_ent import SCE_spin_spin_correlators as spc; reload(spc)\n",
    "spc.analyze_spspcorrs(contains = '_EntangleXsweepY',\n",
    "                      do_sine_fit = True,plot_raw_correlators =False,\n",
    "                      plot_filter =False,\n",
    "                      do_ROC = True,\n",
    "                     do_print_fit_result = False)"
   ]
  },
  {
   "cell_type": "code",
   "execution_count": null,
   "metadata": {
    "collapsed": false
   },
   "outputs": [],
   "source": [
    "0.5*(286.70377918248107-180 + 285.19286210131418)"
   ]
  },
  {
   "cell_type": "code",
   "execution_count": null,
   "metadata": {
    "collapsed": false
   },
   "outputs": [],
   "source": [
    "from analysis.lib.single_click_ent import SCE_spin_spin_correlators as spc; reload(spc)\n",
    "spc.analyze_spspcorrs(contains = '_Entangle_SweepTheta',\n",
    "                      do_sine_fit = False,plot_raw_correlators =False,\n",
    "                      plot_filter =False,\n",
    "                      do_ROC = True,save_corrs = True,\n",
    "                     do_print_fit_result = False)"
   ]
  },
  {
   "cell_type": "code",
   "execution_count": null,
   "metadata": {
    "collapsed": false
   },
   "outputs": [],
   "source": [
    "from analysis.lib.single_click_ent import SCE_spin_spin_correlators as spc; reload(spc)\n",
    "spc.analyze_spspcorrs(contains = '_EntangleXX',\n",
    "                      do_sine_fit = False,plot_raw_correlators =False,\n",
    "                      plot_filter =False,\n",
    "                      do_ROC = True,save_corrs = True,\n",
    "                     do_print_fit_result = False)"
   ]
  },
  {
   "cell_type": "code",
   "execution_count": null,
   "metadata": {
    "collapsed": true
   },
   "outputs": [],
   "source": []
  }
 ],
 "metadata": {
  "kernelspec": {
   "display_name": "Python 2",
   "language": "python",
   "name": "python2"
  },
  "language_info": {
   "codemirror_mode": {
    "name": "ipython",
    "version": 2
   },
   "file_extension": ".py",
   "mimetype": "text/x-python",
   "name": "python",
   "nbconvert_exporter": "python",
   "pygments_lexer": "ipython2",
   "version": "2.7.3"
  }
 },
 "nbformat": 4,
 "nbformat_minor": 1
}
