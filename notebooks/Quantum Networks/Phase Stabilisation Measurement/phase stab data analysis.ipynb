{
 "cells": [
  {
   "cell_type": "code",
   "execution_count": null,
   "metadata": {
    "collapsed": false
   },
   "outputs": [],
   "source": [
    "execfile(r'D:\\measuring\\analysis\\scripts\\setup_analysis.py')\n",
    "import scipy.fftpack\n",
    "%matplotlib inline"
   ]
  },
  {
   "cell_type": "code",
   "execution_count": null,
   "metadata": {
    "collapsed": false
   },
   "outputs": [],
   "source": [
    "from analysis.lib.nv import detection\n",
    "folder= tb.latest_data()\n",
    "files = []\n",
    "for file in os.listdir(\"{0}\".format(folder)):                                   \n",
    "        if file.endswith(\"PQ_single_click_ent_111no2_SIL2_phase_stab.hdf5\"):\n",
    "            files.append('{0}\\{1}'.format(folder,file))\n",
    "print files\n",
    "\n",
    "dataset_name   = '/111no2_SIL2_phase_stab/adwindata/'"
   ]
  },
  {
   "cell_type": "code",
   "execution_count": null,
   "metadata": {
    "collapsed": false
   },
   "outputs": [],
   "source": [
    "# stitch the different part and files together, make and save a plot of the data.\n",
    "s = []\n",
    "u_1 = []\n",
    "v_1 = []\n",
    "\n",
    "for i in files:\n",
    "    f = h5py.File(i, \"r\")\n",
    "\n",
    "    pid_counts_1 = f['{0}pid_counts'.format(dataset_name)]\n",
    "    sample_counts_1 = f['{0}sampling_counts'.format(dataset_name)]\n",
    "    max_repetitions = np.asarray(f['{0}completed_reps'.format(dataset_name)][...])\n",
    "    \n",
    "    delay = (f['/111no2_SIL2_phase_stab'].attrs.values()[48]/(f['/111no2_SIL2_phase_stab'].attrs.values()[23]*100))\n",
    "    pid_cycles = f['/111no2_SIL2_phase_stab'].attrs.values()[269]\n",
    "    sample_cycles = f['/111no2_SIL2_phase_stab'].attrs.values()[116]\n",
    "\n",
    "    # stitch\n",
    "    for i in xrange(max_repetitions):\n",
    "        for j in xrange(pid_cycles):\n",
    "#             s.append(setpoint)\n",
    "             u_1.append(pid_counts_1[j+i*pid_cycles])\n",
    "             v_1.append(None)\n",
    "\n",
    "        for k in xrange(sample_cycles):\n",
    "#            s.append(setpoint)\n",
    "            u_1.append(None)\n",
    "            v_1.append(sample_counts_1[k+i*sample_cycles])\n",
    "    f.close()\n",
    "      \n",
    "t = np.arange(0, (len(v_1)*delay/10), (0.1*delay))\n",
    "\n",
    "\n",
    "fig = plt.figure(figsize=(17,6))\n",
    "ax = plt.subplot(211)\n",
    "# plt.plot(t, s, 'y')\n",
    "plt.plot(t, u_1, 'r')\n",
    "plt.plot(t, v_1, 'b')\n",
    "plt.title('Counts ZPL detector 1')\n",
    "ax.set_xlabel('elapsed time (milliseconds)')\n",
    "ax.set_ylabel('counts')\n",
    "\n",
    "\n",
    "fig.savefig(os.path.join(folder, 'trace_counts.png'))"
   ]
  },
  {
   "cell_type": "code",
   "execution_count": null,
   "metadata": {
    "collapsed": false
   },
   "outputs": [],
   "source": [
    "zoom = 5*(pid_cycles+sample_cycles)\n",
    "\n",
    "fig = plt.figure(figsize=(17,6))\n",
    "ax = plt.subplot(211)\n",
    "# plt.plot(t[0:zoom], s[0:zoom], 'y')\n",
    "plt.plot(t[0:zoom], u_1[0:zoom], 'r')\n",
    "plt.plot(t[0:zoom], v_1[0:zoom], 'b')\n",
    "\n",
    "plt.title('Counts ZPL detector 1')\n",
    "ax.set_xlabel('elapsed time (milliseconds)')\n",
    "ax.set_ylabel('counts')\n",
    "\n",
    "fig.savefig(os.path.join(folder, 'trace_counts_zoomed.png'))"
   ]
  },
  {
   "cell_type": "code",
   "execution_count": null,
   "metadata": {
    "collapsed": false
   },
   "outputs": [],
   "source": [
    "# fourier transform of the sample part\n",
    "yf = [0]*sample_cycles\n",
    "for j in files:\n",
    "    f = h5py.File(j, \"r\")\n",
    "\n",
    "    pid_counts_1 = f['{0}pid_counts'.format(dataset_name)]\n",
    "    sample_counts_1 = f['{0}sampling_counts'.format(dataset_name)]\n",
    "    max_repetitions = np.asarray(f['{0}completed_reps'.format(dataset_name)][...])\n",
    "    \n",
    "    delay = (f['/111no2_SIL2_phase_stab'].attrs.values()[48]/(f['/111no2_SIL2_phase_stab'].attrs.values()[23]*100))\n",
    "    pid_cycles = f['/111no2_SIL2_phase_stab'].attrs.values()[269]\n",
    "    sample_cycles = f['/111no2_SIL2_phase_stab'].attrs.values()[116]\n",
    " \n",
    "    # stitch\n",
    "    for i in xrange(max_repetitions):\n",
    "        v_1 = []\n",
    "        for k in xrange(sample_cycles):\n",
    "            v_1.append(sample_counts_1[k+i*sample_cycles])\n",
    "        yf = np.add(yf,scipy.fftpack.fft(v_1))\n",
    "\n",
    "    f.close()\n",
    "\n",
    "# sample spacing\n",
    "xf = np.linspace(0, 1.0/(2.0*delay*10**-4), sample_cycles/2)\n",
    "\n",
    "index_max = [i for i,v in enumerate(yf) if v > 2000]\n",
    "frq_max = [x * (1.0/(delay*10**-4)) / sample_cycles for x in index_max]\n",
    "print 'peak frequencies are:'\n",
    "print frq_max\n",
    "\n",
    "norm1 = yf / np.linalg.norm(yf)\n",
    "\n",
    "fig, ax = plt.subplots()\n",
    "plt.ylim([0,10000])\n",
    "ax.plot(xf, yf[:len(yf)/2])\n",
    "\n",
    "ax.set_xlabel('frequency (Hz)')\n",
    "ax.set_ylabel('Amplitude (a.u.)')\n",
    "ax.set_yticklabels([])\n",
    "fig.savefig(os.path.join(folder, 'fft.png'))"
   ]
  },
  {
   "cell_type": "code",
   "execution_count": null,
   "metadata": {
    "collapsed": true
   },
   "outputs": [],
   "source": []
  }
 ],
 "metadata": {
  "kernelspec": {
   "display_name": "Python 2",
   "language": "python",
   "name": "python2"
  },
  "language_info": {
   "codemirror_mode": {
    "name": "ipython",
    "version": 2
   },
   "file_extension": ".py",
   "mimetype": "text/x-python",
   "name": "python",
   "nbconvert_exporter": "python",
   "pygments_lexer": "ipython2",
   "version": "2.7.11"
  }
 },
 "nbformat": 4,
 "nbformat_minor": 2
}
