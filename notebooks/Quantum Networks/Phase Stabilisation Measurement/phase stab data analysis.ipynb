{
 "cells": [
  {
   "cell_type": "code",
   "execution_count": null,
   "metadata": {
    "collapsed": false
   },
   "outputs": [],
   "source": [
    "execfile(r'D:\\measuring\\analysis\\scripts\\setup_analysis.py')\n",
    "import scipy.fftpack\n",
    "%matplotlib inline"
   ]
  },
  {
   "cell_type": "code",
   "execution_count": null,
   "metadata": {
    "collapsed": false
   },
   "outputs": [],
   "source": [
    "from analysis.lib.nv import detection\n",
    "folder= tb.latest_data()\n",
    "# folder = \"D:/measuring/data/20170308/105316_PQ_single_click_ent_111no2_SIL2_phase_stab\"\n",
    "a = m2.M2Analysis(folder)\n"
   ]
  },
  {
   "cell_type": "code",
   "execution_count": null,
   "metadata": {
    "collapsed": false
   },
   "outputs": [],
   "source": [
    "# stitch the different part and files together, make and save a plot of the data.\n",
    "s = []\n",
    "u_1 = []\n",
    "v_1 = []\n",
    "\n",
    "pid_counts_1 = a.g['adwindata']['pid_counts'].value\n",
    "sample_counts_1 = a.g['adwindata']['sampling_counts'].value\n",
    "max_repetitions = a.g['adwindata']['completed_reps'].value\n",
    "\n",
    "delay = (a.g.attrs['count_int_cycles']/(a.g.attrs['cycle_duration']*100))\n",
    "pid_cycles = a.g.attrs['pid_points']\n",
    "sample_cycles = a.g.attrs['sample_points']\n",
    "print max_repetitions\n",
    "\n",
    "# stitch\n",
    "for i in xrange(max_repetitions):\n",
    "    for j in xrange(pid_cycles):\n",
    "#             s.append(setpoint)\n",
    "         u_1.append(pid_counts_1[j+i*pid_cycles])\n",
    "         v_1.append(None)\n",
    "    for k in xrange(sample_cycles):\n",
    "#            s.append(setpoint)\n",
    "        u_1.append(None)\n",
    "        v_1.append(sample_counts_1[k+i*sample_cycles])\n",
    "\n",
    "\n",
    "t = np.arange(0, (len(v_1)*delay/10), (0.1*delay))\n",
    "\n",
    "\n",
    "fig = plt.figure(figsize=(17,6))\n",
    "ax = plt.subplot(211)\n",
    "# plt.plot(t, s, 'y')\n",
    "plt.plot(t, u_1, 'r')\n",
    "plt.plot(t, v_1, 'b')\n",
    "plt.title('Counts ZPL detector 1 {0}'.format(folder))\n",
    "ax.set_xlabel('elapsed time (milliseconds)')\n",
    "ax.set_ylabel('counts')\n",
    "\n",
    "\n",
    "fig.savefig(os.path.join(folder, 'trace_counts.png'))"
   ]
  },
  {
   "cell_type": "code",
   "execution_count": null,
   "metadata": {
    "collapsed": false
   },
   "outputs": [],
   "source": [
    "zoom_1 = 80*(pid_cycles+sample_cycles)\n",
    "zoom_2 = 90*(pid_cycles+sample_cycles)\n",
    "\n",
    "fig = plt.figure(figsize=(17,6))\n",
    "ax = plt.subplot(211)\n",
    "# plt.plot(t[0:zoom], s[0:zoom], 'y')\n",
    "plt.plot(t[zoom_1:zoom_2], u_1[zoom_1:zoom_2], 'r')\n",
    "plt.plot(t[zoom_1:zoom_2], v_1[zoom_1:zoom_2], 'b')\n",
    "\n",
    "plt.title('Counts ZPL detector 1'.format(folder))\n",
    "ax.set_xlabel('elapsed time (milliseconds)')\n",
    "ax.set_ylabel('counts')\n",
    "\n",
    "fig.savefig(os.path.join(folder, 'trace_counts_zoomed.png'))"
   ]
  },
  {
   "cell_type": "code",
   "execution_count": null,
   "metadata": {
    "collapsed": false,
    "scrolled": true
   },
   "outputs": [],
   "source": [
    "# fourier transform of the sample part\n",
    "\n",
    "\n",
    "pid_counts_1 = a.g['adwindata']['pid_counts'].value\n",
    "sample_counts_1 = a.g['adwindata']['sampling_counts'].value\n",
    "max_repetitions = a.g['adwindata']['completed_reps'].value\n",
    "\n",
    "delay = (a.g.attrs['count_int_cycles']/(a.g.attrs['cycle_duration']*100))\n",
    "pid_cycles = a.g.attrs['pid_points']\n",
    "sample_cycles = a.g.attrs['sample_points']\n",
    "\n",
    "# stitch\n",
    "v_1 = []\n",
    "for i in xrange(max_repetitions):\n",
    "    for j in xrange(pid_cycles):\n",
    "         v_1.append(pid_counts_1[j+i*pid_cycles])\n",
    "    for k in xrange(sample_cycles):\n",
    "        v_1.append(sample_counts_1[k+i*sample_cycles])\n",
    "yf = scipy.fftpack.fft(v_1)\n",
    "\n",
    "# sample spacing\n",
    "xf = np.linspace(0, 1.0/(2.0*delay*10**-4), (sample_cycles+pid_cycles)*max_repetitions/2)\n",
    "\n",
    "index_max = [i for i,v in enumerate(yf) if v > 40000]\n",
    "frq_max = [x * (1.0/(delay*10**-4)) / ((sample_cycles+pid_cycles)*max_repetitions) for x in index_max]\n",
    "print 'peak frequencies are:'\n",
    "print frq_max\n",
    "\n",
    "norm1 = yf / np.linalg.norm(yf)\n",
    "\n",
    "fig, ax = plt.subplots()\n",
    "plt.ylim([0,100000])\n",
    "ax.plot(xf, yf[:len(yf)/2])\n",
    "plt.title('FFT {0}'.format(folder))\n",
    "ax.set_xlabel('frequency (Hz)')\n",
    "ax.set_ylabel('Amplitude (a.u.)')\n",
    "# ax.set_yticklabels([])\n",
    "fig.savefig(os.path.join(folder, 'fft.png'))"
   ]
  },
  {
   "cell_type": "code",
   "execution_count": null,
   "metadata": {
    "collapsed": false
   },
   "outputs": [],
   "source": []
  },
  {
   "cell_type": "code",
   "execution_count": null,
   "metadata": {
    "collapsed": true
   },
   "outputs": [],
   "source": []
  }
 ],
 "metadata": {
  "kernelspec": {
   "display_name": "Python 2",
   "language": "python",
   "name": "python2"
  },
  "language_info": {
   "codemirror_mode": {
    "name": "ipython",
    "version": 2
   },
   "file_extension": ".py",
   "mimetype": "text/x-python",
   "name": "python",
   "nbconvert_exporter": "python",
   "pygments_lexer": "ipython2",
   "version": "2.7.11"
  }
 },
 "nbformat": 4,
 "nbformat_minor": 2
}
