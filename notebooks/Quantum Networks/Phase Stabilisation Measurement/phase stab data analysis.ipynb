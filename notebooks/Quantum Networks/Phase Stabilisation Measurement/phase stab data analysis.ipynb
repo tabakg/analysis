{
 "cells": [
  {
   "cell_type": "code",
   "execution_count": null,
   "metadata": {
    "collapsed": false
   },
   "outputs": [],
   "source": [
    "execfile(r'D:\\measuring\\analysis\\scripts\\setup_analysis.py')\n",
    "import scipy.fftpack\n",
    "%matplotlib inline"
   ]
  },
  {
   "cell_type": "code",
   "execution_count": null,
   "metadata": {
    "collapsed": false
   },
   "outputs": [],
   "source": [
    "from analysis.lib.nv import detection\n",
    "folder= tb.latest_data()\n",
    "# folder = \"D:/measuring/data/20170308/105316_PQ_single_click_ent_111no2_SIL2_phase_stab\"\n",
    "a = m2.M2Analysis(folder)"
   ]
  },
  {
   "cell_type": "code",
   "execution_count": null,
   "metadata": {
    "collapsed": false,
    "scrolled": true
   },
   "outputs": [],
   "source": [
    "# stitch the different part and files together, make and save a plot of the data.\n",
    "s = []\n",
    "u_1 = []\n",
    "v_1 = []\n",
    "u_2 = []\n",
    "v_2 = []\n",
    "w = []\n",
    "\n",
    "pid_counts_1 = a.g['adwindata']['pid_counts_1'].value\n",
    "sample_counts_1 = a.g['adwindata']['sampling_counts_1'].value\n",
    "pid_counts_2 = a.g['adwindata']['pid_counts_2'].value\n",
    "sample_counts_2 = a.g['adwindata']['sampling_counts_2'].value\n",
    "max_repetitions = a.g['adwindata']['completed_reps'].value\n",
    "\n",
    "delay = (a.g.attrs['count_int_cycles']/(a.g.attrs['cycle_duration']*100))\n",
    "pid_cycles = a.g.attrs['pid_points']\n",
    "sample_cycles = a.g.attrs['sample_points']\n",
    "\n",
    "# stitch\n",
    "for i in xrange(max_repetitions):\n",
    "    for j in xrange(pid_cycles):\n",
    "        u_1.append(pid_counts_1[j+i*pid_cycles])\n",
    "        v_1.append(None)\n",
    "        u_2.append(pid_counts_2[j+i*pid_cycles])\n",
    "        v_2.append(None)\n",
    "        w.append(pid_counts_1[j+i*pid_cycles]*1.04/(pid_counts_1[j+i*pid_cycles]*1.04+pid_counts_2[j+i*pid_cycles]*1.0))\n",
    "    for k in xrange(sample_cycles):\n",
    "        u_1.append(None)\n",
    "        v_1.append(sample_counts_1[k+i*sample_cycles])\n",
    "        u_2.append(None)\n",
    "        v_2.append(sample_counts_2[k+i*sample_cycles])\n",
    "        w.append(sample_counts_1[k+i*sample_cycles]*1.04/(sample_counts_1[k+i*sample_cycles]*1.04+sample_counts_2[k+i*sample_cycles]*1.0))\n",
    "\n",
    "t = np.arange(0, (len(v_1)*delay/10), (0.1*delay))\n",
    "\n",
    "\n",
    "fig = plt.figure(figsize=(17,6))\n",
    "ax = plt.subplot(211)\n",
    "# plt.plot(t, s, 'y')\n",
    "plt.plot(t, u_1, 'r')\n",
    "plt.plot(t, v_1, 'b')\n",
    "plt.title('Counts ZPL detector 1 {0}'.format(folder))\n",
    "ax.set_xlabel('elapsed time (milliseconds)')\n",
    "ax.set_ylabel('counts')\n",
    "ax2 = plt.subplot(212)\n",
    "plt.plot(t, u_2, 'r')\n",
    "plt.plot(t, v_2, 'b')\n",
    "plt.title('Counts ZPL detector 2 {0}'.format(folder))\n",
    "ax2.set_xlabel('elapsed time (milliseconds)')\n",
    "ax2.set_ylabel('counts')\n",
    "# ax3 = plt.subplot(313)\n",
    "# plt.plot(t, w, 'r')\n",
    "# plt.title('error signal {0}'.format(folder))\n",
    "# ax3.set_xlabel('elapsed time (milliseconds)')\n",
    "# ax3.set_ylabel('error signal')\n",
    "plt.tight_layout()\n",
    "# plt.show()\n",
    "\n",
    "fig.savefig(os.path.join(folder, 'trace_counts.png'))"
   ]
  },
  {
   "cell_type": "code",
   "execution_count": null,
   "metadata": {
    "collapsed": false
   },
   "outputs": [],
   "source": [
    "zoom_1 = 0*(pid_cycles+sample_cycles)\n",
    "zoom_2 = 10*(pid_cycles+sample_cycles)\n",
    "\n",
    "fig = plt.figure(figsize=(17,6))\n",
    "ax = plt.subplot(211)\n",
    "# plt.plot(t[0:zoom], s[0:zoom], 'y')\n",
    "plt.plot(t[zoom_1:zoom_2], u_1[zoom_1:zoom_2], 'r')\n",
    "plt.plot(t[zoom_1:zoom_2], v_1[zoom_1:zoom_2], 'b')\n",
    "\n",
    "plt.title('Counts ZPL detector 1'.format(folder))\n",
    "ax.set_xlabel('elapsed time (milliseconds)')\n",
    "ax.set_ylabel('counts')\n",
    "\n",
    "ax2 = plt.subplot(212)\n",
    "plt.plot(t[zoom_1:zoom_2], u_2[zoom_1:zoom_2], 'r')\n",
    "plt.plot(t[zoom_1:zoom_2], v_2[zoom_1:zoom_2], 'b')\n",
    "\n",
    "plt.title('Counts ZPL detector 2'.format(folder))\n",
    "ax2.set_xlabel('elapsed time (milliseconds)')\n",
    "ax2.set_ylabel('counts')\n",
    "plt.tight_layout()\n",
    "\n",
    "fig.savefig(os.path.join(folder, 'trace_counts_zoomed.png'))"
   ]
  },
  {
   "cell_type": "code",
   "execution_count": null,
   "metadata": {
    "collapsed": false
   },
   "outputs": [],
   "source": [
    "# stitch the different part and files together, make and save a plot of the data.\n",
    "s = []\n",
    "u_1 = []\n",
    "\n",
    "pid_counts_1 = a.g['adwindata']['pid_counts_1'].value\n",
    "sample_counts_1 = a.g['adwindata']['sampling_counts_1'].value\n",
    "pid_counts_2 = a.g['adwindata']['pid_counts_2'].value\n",
    "sample_counts_2 = a.g['adwindata']['sampling_counts_2'].value\n",
    "max_repetitions = a.g['adwindata']['completed_reps'].value\n",
    "\n",
    "delay = (a.g.attrs['count_int_cycles']/(a.g.attrs['cycle_duration']*100))\n",
    "pid_cycles = a.g.attrs['pid_points']\n",
    "sample_cycles = a.g.attrs['sample_points']\n",
    "\n",
    "# stitch\n",
    "for i in xrange(max_repetitions):\n",
    "    for j in xrange(pid_cycles):\n",
    "        angle1 = 2*np.arccos((float(pid_counts_1[j+i*pid_cycles])*1.04/(float(pid_counts_1[j+i*pid_cycles]*1.04) + float(pid_counts_2[j+i*pid_cycles])))**(0.5))\n",
    "        u_1.append(180.0*angle1/(np.pi))\n",
    "        \n",
    "       \n",
    "    for k in xrange(sample_cycles):\n",
    "        angle2 = 2*np.arccos((float(sample_counts_1[k+i*sample_cycles])*1.04/(float(sample_counts_1[k+i*sample_cycles])*1.04 + float(sample_counts_2[k+i*sample_cycles])))**(0.5))\n",
    "        u_1.append(180.0*angle2/(np.pi))\n",
    "\n",
    "t = np.arange(0, (len(v_1)*delay/10), (0.1*delay))\n",
    "\n",
    "\n",
    "fig = plt.figure(figsize=(17,6))\n",
    "ax = plt.subplot(111)\n",
    "plt.plot(t, u_1, 'r')\n",
    "plt.title('Phase of ZPL photons {0}'.format(folder))\n",
    "plt.ylim([0,180])\n",
    "ax.set_xlabel('elapsed time (milliseconds)')\n",
    "ax.set_ylabel('angle ($^o$)')\n",
    "\n",
    "\n",
    "fig.savefig(os.path.join(folder, 'trace_angle.png'))"
   ]
  },
  {
   "cell_type": "code",
   "execution_count": null,
   "metadata": {
    "collapsed": false
   },
   "outputs": [],
   "source": [
    "zoom_1 = 0*(pid_cycles+sample_cycles)\n",
    "zoom_2 = 10*(pid_cycles+sample_cycles)\n",
    "\n",
    "fig = plt.figure(figsize=(17,6))\n",
    "ax = plt.subplot(111)\n",
    "plt.plot(t[zoom_1:zoom_2], u_1[zoom_1:zoom_2], 'r')\n",
    "\n",
    "plt.title('Phase of ZPL photons {0}'.format(folder))\n",
    "ax.set_xlabel('elapsed time (milliseconds)')\n",
    "ax.set_ylabel('angle ($^o$)')\n",
    "\n",
    "fig.savefig(os.path.join(folder, 'trace_angle_zoomed.png'))"
   ]
  },
  {
   "cell_type": "code",
   "execution_count": null,
   "metadata": {
    "collapsed": false,
    "scrolled": true
   },
   "outputs": [],
   "source": [
    "# fourier transform of the sample part\n",
    "\n",
    "pid_counts_1 = a.g['adwindata']['pid_counts_1'].value\n",
    "sample_counts_1 = a.g['adwindata']['sampling_counts_1'].value\n",
    "max_repetitions = a.g['adwindata']['completed_reps'].value\n",
    "\n",
    "delay = (a.g.attrs['count_int_cycles']/(a.g.attrs['cycle_duration']*100))\n",
    "pid_cycles = a.g.attrs['pid_points']\n",
    "sample_cycles = a.g.attrs['sample_points']\n",
    "\n",
    "# stitch\n",
    "v_1 = []\n",
    "for i in xrange(max_repetitions):\n",
    "    for j in xrange(pid_cycles):\n",
    "         v_1.append(pid_counts_1[j+i*pid_cycles])\n",
    "    for k in xrange(sample_cycles):\n",
    "         v_1.append(sample_counts_1[k+i*sample_cycles])\n",
    "yf = scipy.fftpack.fft(v_1)\n",
    "\n",
    "# sample spacing\n",
    "xf = np.linspace(0, 1.0/(2.0*delay*10**-4), (sample_cycles+pid_cycles)*max_repetitions/2)\n",
    "\n",
    "index_max = [i for i,v in enumerate(yf) if v > 20000]\n",
    "frq_max = [x * (1.0/(delay*10**-4)) / ((sample_cycles+pid_cycles)*max_repetitions) for x in index_max]\n",
    "print 'peak frequencies are:'\n",
    "print frq_max\n",
    "\n",
    "norm1 = yf / np.linalg.norm(yf)\n",
    "\n",
    "fig, ax = plt.subplots()\n",
    "plt.ylim([0,20000])\n",
    "ax.plot(xf, yf[:len(yf)/2])\n",
    "plt.title('FFT {0}'.format(folder))\n",
    "ax.set_xlabel('frequency (Hz)')\n",
    "ax.set_ylabel('Amplitude (a.u.)')\n",
    "# ax.set_yticklabels([])\n",
    "fig.savefig(os.path.join(folder, 'fft.png'))"
   ]
  },
  {
   "cell_type": "code",
   "execution_count": null,
   "metadata": {
    "collapsed": false
   },
   "outputs": [],
   "source": []
  },
  {
   "cell_type": "code",
   "execution_count": null,
   "metadata": {
    "collapsed": true
   },
   "outputs": [],
   "source": []
  }
 ],
 "metadata": {
  "kernelspec": {
   "display_name": "Python 2",
   "language": "python",
   "name": "python2"
  },
  "language_info": {
   "codemirror_mode": {
    "name": "ipython",
    "version": 2
   },
   "file_extension": ".py",
   "mimetype": "text/x-python",
   "name": "python",
   "nbconvert_exporter": "python",
   "pygments_lexer": "ipython2",
   "version": "2.7.3"
  }
 },
 "nbformat": 4,
 "nbformat_minor": 2
}
