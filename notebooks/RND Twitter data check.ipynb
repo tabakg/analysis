{
 "metadata": {
  "name": "",
  "signature": "sha256:ff9b7ca7a24d87d9dad1fd2a4bdb45fe357b50e26ff251e9173f641f8de5d58c"
 },
 "nbformat": 3,
 "nbformat_minor": 0,
 "worksheets": [
  {
   "cells": [
    {
     "cell_type": "code",
     "collapsed": false,
     "input": [
      "execfile(r'D:\\measuring\\analysis\\scripts\\setup_analysis.py')\n",
      "import json"
     ],
     "language": "python",
     "metadata": {},
     "outputs": [
      {
       "output_type": "stream",
       "stream": "stdout",
       "text": [
        "d:\\measuring\\data\n"
       ]
      }
     ],
     "prompt_number": 36
    },
    {
     "cell_type": "code",
     "collapsed": false,
     "input": [
      "fp1=r'D:\\measuring\\data\\20160126_twitter_rnd\\2DaysUntilMITAM.txt'\n",
      "fp2=r'D:\\measuring\\data\\20160126_twitter_rnd\\3DaysTillPURPOSE.txt'"
     ],
     "language": "python",
     "metadata": {},
     "outputs": [],
     "prompt_number": 2
    },
    {
     "cell_type": "code",
     "collapsed": false,
     "input": [
      "f1= open(fp1,'r')"
     ],
     "language": "python",
     "metadata": {},
     "outputs": [],
     "prompt_number": 144
    },
    {
     "cell_type": "code",
     "collapsed": false,
     "input": [],
     "language": "python",
     "metadata": {},
     "outputs": [],
     "prompt_number": 115
    },
    {
     "cell_type": "code",
     "collapsed": false,
     "input": [],
     "language": "python",
     "metadata": {},
     "outputs": [],
     "prompt_number": 116
    },
    {
     "cell_type": "code",
     "collapsed": false,
     "input": [
      "for i in range(100):\n",
      "    line = f1.readline() \n",
      "    tweet = json.loads(line)\n",
      "    if 'retweeted_status' in tweet:\n",
      "        text = tweet['retweeted_status']['text']\n",
      "    else:\n",
      "        text = tweet['text']\n",
      "    if max([ord(x) for x in text]) > 256:\n",
      "        break"
     ],
     "language": "python",
     "metadata": {},
     "outputs": [],
     "prompt_number": 147
    },
    {
     "cell_type": "code",
     "collapsed": false,
     "input": [
      "text = u'Niall has the cutest socks!!!! \\U0001f602\\U0001f60d\\U0001f60d\\U0001f49e \\n\\n#2DaysUntilMITAM \\n\\nhttps://t.co/JSS2ch8oOV'"
     ],
     "language": "python",
     "metadata": {},
     "outputs": [],
     "prompt_number": 130
    },
    {
     "cell_type": "code",
     "collapsed": false,
     "input": [
      "line = f1.readline() \n",
      "tweet = json.loads(line)\n",
      "if 'retweeted_status' in tweet:\n",
      "    text = tweet['retweeted_status']['text']\n",
      "else:\n",
      "    text = tweet['text']\n",
      "    "
     ],
     "language": "python",
     "metadata": {},
     "outputs": [
      {
       "ename": "ValueError",
       "evalue": "I/O operation on closed file",
       "output_type": "pyerr",
       "traceback": [
        "\u001b[1;31m---------------------------------------------------------------------------\u001b[0m\n\u001b[1;31mValueError\u001b[0m                                Traceback (most recent call last)",
        "\u001b[1;32m<ipython-input-143-9b8971e6d7ef>\u001b[0m in \u001b[0;36m<module>\u001b[1;34m()\u001b[0m\n\u001b[1;32m----> 1\u001b[1;33m \u001b[0mline\u001b[0m \u001b[1;33m=\u001b[0m \u001b[0mf1\u001b[0m\u001b[1;33m.\u001b[0m\u001b[0mreadline\u001b[0m\u001b[1;33m(\u001b[0m\u001b[1;33m)\u001b[0m\u001b[1;33m\u001b[0m\u001b[0m\n\u001b[0m\u001b[0;32m      2\u001b[0m \u001b[0mtweet\u001b[0m \u001b[1;33m=\u001b[0m \u001b[0mjson\u001b[0m\u001b[1;33m.\u001b[0m\u001b[0mloads\u001b[0m\u001b[1;33m(\u001b[0m\u001b[0mline\u001b[0m\u001b[1;33m)\u001b[0m\u001b[1;33m\u001b[0m\u001b[0m\n\u001b[0;32m      3\u001b[0m \u001b[1;32mif\u001b[0m \u001b[1;34m'retweeted_status'\u001b[0m \u001b[1;32min\u001b[0m \u001b[0mtweet\u001b[0m\u001b[1;33m:\u001b[0m\u001b[1;33m\u001b[0m\u001b[0m\n\u001b[0;32m      4\u001b[0m     \u001b[0mtext\u001b[0m \u001b[1;33m=\u001b[0m \u001b[0mtweet\u001b[0m\u001b[1;33m[\u001b[0m\u001b[1;34m'retweeted_status'\u001b[0m\u001b[1;33m]\u001b[0m\u001b[1;33m[\u001b[0m\u001b[1;34m'text'\u001b[0m\u001b[1;33m]\u001b[0m\u001b[1;33m\u001b[0m\u001b[0m\n\u001b[0;32m      5\u001b[0m \u001b[1;32melse\u001b[0m\u001b[1;33m:\u001b[0m\u001b[1;33m\u001b[0m\u001b[0m\n",
        "\u001b[1;31mValueError\u001b[0m: I/O operation on closed file"
       ]
      }
     ],
     "prompt_number": 143
    },
    {
     "cell_type": "code",
     "collapsed": false,
     "input": [
      "text"
     ],
     "language": "python",
     "metadata": {},
     "outputs": [
      {
       "metadata": {},
       "output_type": "pyout",
       "prompt_number": 149,
       "text": [
        "u'RT FOR A SOLO DM WITH\\U0001f48d\\U0001f48e\\U0001f48c\\n\\n\\U0001f4f7harry\\n\\U0001f4b8louis\\n\\U0001f4b0liam\\n \\U0001f4b1niall\\n\\nMBF ME  SO I ADD\\U0001f48c\\U0001f48d\\n\\n #AMAs1D \\n#1DHistory  #2DaysUntilMITAM https://t.co/snaokWeWrC'"
       ]
      }
     ],
     "prompt_number": 149
    },
    {
     "cell_type": "code",
     "collapsed": false,
     "input": [
      "f1.close()"
     ],
     "language": "python",
     "metadata": {},
     "outputs": []
    },
    {
     "cell_type": "code",
     "collapsed": false,
     "input": [
      "print [x for x in text]\n",
      "ords = [ord(x) for x in text]\n",
      "print ords\n",
      "binary = ''.join(format(ord(x), 'b') for x in text)\n",
      "print binary\n",
      "bb=0\n",
      "for dig in binary:\n",
      "    bb= bb+int(dig)\n",
      "    bb = bb & 1\n",
      "print bb\n"
     ],
     "language": "python",
     "metadata": {},
     "outputs": [
      {
       "output_type": "stream",
       "stream": "stdout",
       "text": [
        "[u'R', u'T', u' ', u'F', u'O', u'R', u' ', u'A', u' ', u'S', u'O', u'L', u'O', u' ', u'D', u'M', u' ', u'W', u'I', u'T', u'H', u'\\ud83d', u'\\udc8d', u'\\ud83d', u'\\udc8e', u'\\ud83d', u'\\udc8c', u'\\n', u'\\n', u'\\ud83d', u'\\udcf7', u'h', u'a', u'r', u'r', u'y', u'\\n', u'\\ud83d', u'\\udcb8', u'l', u'o', u'u', u'i', u's', u'\\n', u'\\ud83d', u'\\udcb0', u'l', u'i', u'a', u'm', u'\\n', u' ', u'\\ud83d', u'\\udcb1', u'n', u'i', u'a', u'l', u'l', u'\\n', u'\\n', u'M', u'B', u'F', u' ', u'M', u'E', u' ', u' ', u'S', u'O', u' ', u'I', u' ', u'A', u'D', u'D', u'\\ud83d', u'\\udc8c', u'\\ud83d', u'\\udc8d', u'\\n', u'\\n', u' ', u'#', u'A', u'M', u'A', u's', u'1', u'D', u' ', u'\\n', u'#', u'1', u'D', u'H', u'i', u's', u't', u'o', u'r', u'y', u' ', u' ', u'#', u'2', u'D', u'a', u'y', u's', u'U', u'n', u't', u'i', u'l', u'M', u'I', u'T', u'A', u'M', u' ', u'h', u't', u't', u'p', u's', u':', u'/', u'/', u't', u'.', u'c', u'o', u'/', u's', u'n', u'a', u'o', u'k', u'W', u'e', u'W', u'r', u'C']\n",
        "[82, 84, 32, 70, 79, 82, 32, 65, 32, 83, 79, 76, 79, 32, 68, 77, 32, 87, 73, 84, 72, 55357, 56461, 55357, 56462, 55357, 56460, 10, 10, 55357, 56567, 104, 97, 114, 114, 121, 10, 55357, 56504, 108, 111, 117, 105, 115, 10, 55357, 56496, 108, 105, 97, 109, 10, 32, 55357, 56497, 110, 105, 97, 108, 108, 10, 10, 77, 66, 70, 32, 77, 69, 32, 32, 83, 79, 32, 73, 32, 65, 68, 68, 55357, 56460, 55357, 56461, 10, 10, 32, 35, 65, 77, 65, 115, 49, 68, 32, 10, 35, 49, 68, 72, 105, 115, 116, 111, 114, 121, 32, 32, 35, 50, 68, 97, 121, 115, 85, 110, 116, 105, 108, 77, 73, 84, 65, 77, 32, 104, 116, 116, 112, 115, 58, 47, 47, 116, 46, 99, 111, 47, 115, 110, 97, 111, 107, 87, 101, 87, 114, 67]\n",
        "10100101010100100000100011010011111010010100000100000110000010100111001111100110010011111000001000100100110110000010101111001001101010010010001101100000111101110111001000110111011000001111011101110010001110110110000011110111011100100011001010101011011000001111011101110011110111110100011000011110010111001011110011010110110000011110111011100101110001101100110111111101011101001111001110101101100000111101110111001011000011011001101001110000111011011010100000110110000011110111011100101100011101110110100111000011101100110110010101010100110110000101000110100000100110110001011000001000001010011100111110000010010011000001000001100010010001001101100000111101110111001000110011011000001111011101110010001101101010101000001000111000001100110110000011110011110001100010010000010101000111100011000100100100011010011110011111010011011111110010111100110000010000010001111001010001001100001111100111100111010101110111011101001101001110110010011011001001101010010000011001101100000110100011101001110100111000011100111110101011111011111110100101110110001111011111011111110011110111011000011101111110101110101111100101101011111100101000011\n",
        "0\n"
       ]
      }
     ],
     "prompt_number": 148
    },
    {
     "cell_type": "code",
     "collapsed": false,
     "input": [
      "np.sum(np.array([int(b) for b in binary],dtype=np.bool))%2"
     ],
     "language": "python",
     "metadata": {},
     "outputs": [
      {
       "metadata": {},
       "output_type": "pyout",
       "prompt_number": 150,
       "text": [
        "0"
       ]
      }
     ],
     "prompt_number": 150
    },
    {
     "cell_type": "code",
     "collapsed": false,
     "input": [
      "ord(text[-1])"
     ],
     "language": "python",
     "metadata": {},
     "outputs": [
      {
       "metadata": {},
       "output_type": "pyout",
       "prompt_number": 16,
       "text": [
        "8230"
       ]
      }
     ],
     "prompt_number": 16
    },
    {
     "cell_type": "code",
     "collapsed": false,
     "input": [
      "format(ord(text[-1]), 'b')"
     ],
     "language": "python",
     "metadata": {},
     "outputs": [
      {
       "metadata": {},
       "output_type": "pyout",
       "prompt_number": 18,
       "text": [
        "'10000000100110'"
       ]
      }
     ],
     "prompt_number": 18
    },
    {
     "cell_type": "code",
     "collapsed": false,
     "input": [
      "len(format(ord(text[-1]), 'b'))"
     ],
     "language": "python",
     "metadata": {},
     "outputs": [
      {
       "metadata": {},
       "output_type": "pyout",
       "prompt_number": 19,
       "text": [
        "14"
       ]
      }
     ],
     "prompt_number": 19
    },
    {
     "cell_type": "code",
     "collapsed": false,
     "input": [
      "ord(text[-3])"
     ],
     "language": "python",
     "metadata": {},
     "outputs": [
      {
       "metadata": {},
       "output_type": "pyout",
       "prompt_number": 17,
       "text": [
        "115"
       ]
      }
     ],
     "prompt_number": 17
    },
    {
     "cell_type": "code",
     "collapsed": false,
     "input": [
      "2**14"
     ],
     "language": "python",
     "metadata": {},
     "outputs": [
      {
       "metadata": {},
       "output_type": "pyout",
       "prompt_number": 20,
       "text": [
        "16384"
       ]
      }
     ],
     "prompt_number": 20
    },
    {
     "cell_type": "code",
     "collapsed": false,
     "input": [
      "len(format(16385, 'b'))"
     ],
     "language": "python",
     "metadata": {},
     "outputs": [
      {
       "metadata": {},
       "output_type": "pyout",
       "prompt_number": 22,
       "text": [
        "15"
       ]
      }
     ],
     "prompt_number": 22
    },
    {
     "cell_type": "code",
     "collapsed": false,
     "input": [
      "format(ord('4'), 'b')"
     ],
     "language": "python",
     "metadata": {},
     "outputs": [
      {
       "metadata": {},
       "output_type": "pyout",
       "prompt_number": 23,
       "text": [
        "'110100'"
       ]
      }
     ],
     "prompt_number": 23
    },
    {
     "cell_type": "code",
     "collapsed": false,
     "input": [
      "fpA = r'K:\\ns\\qt\\Diamond\\Projects\\_Published or Failed\\Bell (2015)\\Planning\\RND generation\\Twitter_RND\\Alice_current.txt'\n",
      "fpB=r'K:\\ns\\qt\\Diamond\\Projects\\_Published or Failed\\Bell (2015)\\Planning\\RND generation\\Twitter_RND\\Bob_current.txt'"
     ],
     "language": "python",
     "metadata": {},
     "outputs": [],
     "prompt_number": 1
    },
    {
     "cell_type": "code",
     "collapsed": false,
     "input": [
      "dA=np.loadtxt(fpA,dtype=np.bool)\n",
      "dB=np.loadtxt(fpB,dtype=np.bool)"
     ],
     "language": "python",
     "metadata": {},
     "outputs": [],
     "prompt_number": 2
    },
    {
     "cell_type": "code",
     "collapsed": false,
     "input": [
      "d[0]"
     ],
     "language": "python",
     "metadata": {},
     "outputs": [
      {
       "metadata": {},
       "output_type": "pyout",
       "prompt_number": 64,
       "text": [
        "False"
       ]
      }
     ],
     "prompt_number": 64
    },
    {
     "cell_type": "code",
     "collapsed": false,
     "input": [
      "for d in [dA,dB]:\n",
      "    print float(np.sum(d))/len(d)-0.5\n",
      "    print 1/(2*np.sqrt(len(d)))"
     ],
     "language": "python",
     "metadata": {},
     "outputs": [
      {
       "output_type": "stream",
       "stream": "stdout",
       "text": [
        "0.0089673602378\n",
        "0.00133653534955\n",
        "0.110567951168\n",
        "0.00136334963967\n"
       ]
      }
     ],
     "prompt_number": 3
    },
    {
     "cell_type": "code",
     "collapsed": false,
     "input": [
      "dA8=np.reshape(dA,(-1,8))\n",
      "dA8X=np.sum(dA8,axis=1)%2==0\n",
      "dB8=np.reshape(dB[:-5],(-1,8))\n",
      "dB8X=np.sum(dB8,axis=1)%2==0"
     ],
     "language": "python",
     "metadata": {},
     "outputs": [],
     "prompt_number": 4
    },
    {
     "cell_type": "code",
     "collapsed": false,
     "input": [
      "for d in [dA8X,dB8X]:\n",
      "    print float(np.sum(d))/len(d)-0.5\n",
      "    print 1/(2*np.sqrt(len(d)))"
     ],
     "language": "python",
     "metadata": {},
     "outputs": [
      {
       "output_type": "stream",
       "stream": "stdout",
       "text": [
        "0.00445867154453\n",
        "0.00378029283585\n",
        "0.00951701165834\n",
        "0.00385620677819\n"
       ]
      }
     ],
     "prompt_number": 5
    },
    {
     "cell_type": "code",
     "collapsed": false,
     "input": [
      "1/(2*np.sqrt(10859634+10865264))"
     ],
     "language": "python",
     "metadata": {},
     "outputs": [
      {
       "metadata": {},
       "output_type": "pyout",
       "prompt_number": 67,
       "text": [
        "0.00010727317414143089"
       ]
      }
     ],
     "prompt_number": 67
    },
    {
     "cell_type": "code",
     "collapsed": false,
     "input": [
      "#dA=dA8X;dB=dB8X\n",
      "dlen=np.min([len(dA),len(dB)])\n",
      "N00 = np.sum(dA[:dlen] & dB[:dlen])\n",
      "N01 = np.sum(dA[:dlen] & np.logical_not(dB[:dlen]))\n",
      "N10 = np.sum(np.logical_not(dA[:dlen]) & dB[:dlen])\n",
      "N11 = np.sum(np.logical_not(dA[:dlen]) & np.logical_not(dB[:dlen]))\n",
      "print N00+N01+N10+N11, dlen"
     ],
     "language": "python",
     "metadata": {},
     "outputs": [
      {
       "output_type": "stream",
       "stream": "stdout",
       "text": [
        "134501 134501\n"
       ]
      }
     ],
     "prompt_number": 93
    },
    {
     "cell_type": "code",
     "collapsed": false,
     "input": [
      "from analysis.scripts.bell.rng import pvalues\n",
      "reload(pvalues)"
     ],
     "language": "python",
     "metadata": {},
     "outputs": [
      {
       "metadata": {},
       "output_type": "pyout",
       "prompt_number": 60,
       "text": [
        "<module 'analysis.scripts.bell.rng.pvalues' from 'd:/measuring\\analysis\\scripts\\bell\\rng\\pvalues.py'>"
       ]
      }
     ],
     "prompt_number": 60
    },
    {
     "cell_type": "code",
     "collapsed": false,
     "input": [
      "pvalues.getPvaluesCounts(N00,N01,N10,N11,'', text='')"
     ],
     "language": "python",
     "metadata": {},
     "outputs": [
      {
       "output_type": "stream",
       "stream": "stdout",
       "text": [
        "('N00,N01,N10,N11 = ', 4287, 4197, 4279, 4049)\n",
        "('Na0, Na1, Nb0, Nb1 = ', 8484, 8328, 8566, 8246)\n",
        "('N = ', 16812)\n",
        "('[pA,pB]=', [0.23192038123041875, 0.013881258415995228])\n",
        "('pAB = ', 0.03281)"
       ]
      },
      {
       "output_type": "stream",
       "stream": "stdout",
       "text": [
        "\n",
        "('pABfisher = ', 0.27335248215909896)\n",
        "('pABchi2 = ', 0.27683470883622052)\n",
        " & 0.23192038123 & 0.013881258416 & 0.03281 & 0.273352482159 & 0.276834708836\\\\ \\hline \n"
       ]
      }
     ],
     "prompt_number": 91
    },
    {
     "cell_type": "code",
     "collapsed": false,
     "input": [
      "pvalues.d2s(100)"
     ],
     "language": "python",
     "metadata": {},
     "outputs": [
      {
       "metadata": {},
       "output_type": "pyout",
       "prompt_number": 50,
       "text": [
        "'1.0E+2'"
       ]
      }
     ],
     "prompt_number": 50
    },
    {
     "cell_type": "code",
     "collapsed": false,
     "input": [],
     "language": "python",
     "metadata": {},
     "outputs": []
    }
   ],
   "metadata": {}
  }
 ]
}