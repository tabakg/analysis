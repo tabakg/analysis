{
 "metadata": {
  "name": "",
  "signature": "sha256:960ac33d66327b85a3325a42f19718442c7224af40bcab6a3b30619a41566fd5"
 },
 "nbformat": 3,
 "nbformat_minor": 0,
 "worksheets": [
  {
   "cells": [
    {
     "cell_type": "code",
     "collapsed": false,
     "input": [
      "execfile(r'D:\\measuring\\analysis\\scripts\\setup_analysis.py')\n",
      "from analysis.lib.fitting import fit, common\n",
      "reload(common)\n",
      "reload(fit)\n",
      "import inspect\n",
      "%matplotlib inline"
     ],
     "language": "python",
     "metadata": {},
     "outputs": [
      {
       "output_type": "stream",
       "stream": "stdout",
       "text": [
        "d:\\measuring\\data\n",
        "reloaded"
       ]
      },
      {
       "output_type": "stream",
       "stream": "stdout",
       "text": [
        "\n"
       ]
      }
     ],
     "prompt_number": 42
    },
    {
     "cell_type": "code",
     "collapsed": false,
     "input": [
      "#d=np.loadtxt(r'K:\\ns\\qt\\Diamond\\Projects\\_Published or Failed\\Bell (2015)\\Data\\2015-12-08_LT4_pulseoverlap.txt', skiprows=1, delimiter=',', dtype='float')\n",
      "\n",
      "d=np.loadtxt(r'K:\\ns\\qt\\Diamond\\Projects\\_Published or Failed\\Bell (2015)\\Data\\2015-12-01_lt4_pulseoverlap.txt', skiprows=10, dtype='int')"
     ],
     "language": "python",
     "metadata": {},
     "outputs": [],
     "prompt_number": 43
    },
    {
     "cell_type": "code",
     "collapsed": false,
     "input": [
      "analysis_fp = r'Y:\\data\\2015-06-28-lhfbt5\\20150803090328_total_events.hdf5'\n",
      "f = h5py.File(analysis_fp,'r')\n",
      "bs_total_hist = f['analysis']['bs_total_hist'].value\n",
      "bs_hist_stats = f['analysis']['bs_hist_stats'].value\n",
      "f.close()\n",
      "hist_binsize = 100*1e-12\n",
      "xmin = 54270\n",
      "xmax = 55000\n",
      "x = np.arange(xmin,xmax)*hist_binsize *1e9 #ns\n",
      "y = bs_total_hist[xmin:xmax,0].astype(np.float)"
     ],
     "language": "python",
     "metadata": {},
     "outputs": [],
     "prompt_number": 44
    },
    {
     "cell_type": "code",
     "collapsed": false,
     "input": [
      "\n",
      "plt.plot(x,y)"
     ],
     "language": "python",
     "metadata": {},
     "outputs": [
      {
       "metadata": {},
       "output_type": "pyout",
       "prompt_number": 45,
       "text": [
        "[<matplotlib.lines.Line2D at 0xab97130>]"
       ]
      },
      {
       "metadata": {},
       "output_type": "display_data",
       "png": "[encoded data removed]",
       "text": [
        "<matplotlib.figure.Figure at 0x846dbb0>"
       ]
      }
     ],
     "prompt_number": 45
    },
    {
     "cell_type": "code",
     "collapsed": false,
     "input": [
      "f = common.fit_exp_decay_shifted_with_offset\n",
      "args=arange(len(inspect.getargspec(f)[0]))\n",
      "print f(*args)[2]\n",
      "print inspect.getargspec(f)[0]"
     ],
     "language": "python",
     "metadata": {},
     "outputs": [
      {
       "output_type": "stream",
       "stream": "stdout",
       "text": [
        "A * exp(-(x-x0)/tau) + a\n",
        "['g_a', 'g_A', 'g_tau', 'g_x0']\n"
       ]
      }
     ],
     "prompt_number": 50
    },
    {
     "cell_type": "code",
     "collapsed": false,
     "input": [
      "args=[1,20000,12,5425]\n",
      "fitres = fit.fit1d(x, y, f, *args, fixed = [3],\n",
      "                   do_print = True, ret = True)"
     ],
     "language": "python",
     "metadata": {},
     "outputs": [
      {
       "output_type": "stream",
       "stream": "stdout",
       "text": [
        "Converged with chi squared  4190177.79428\n",
        "degrees of freedom, dof  727\n",
        "RMS of residuals (i.e. sqrt(chisq/dof))  75.9187449717\n",
        "Reduced chisq (i.e. variance of residuals)  5763.65583808\n",
        "\n",
        "fitted parameters at minimum, with 68% C.I.:\n",
        " 0 a             73.333737 +/-   4.719597\n",
        " 1 A          29790.480216 +/-  19.146583\n",
        " 2 tau           12.197127 +/-   0.012824\n",
        "\n",
        "correlation matrix:\n",
        "               a         A         tau       \n",
        "         a  1.000000\n",
        "         A  0.162213  1.000000\n",
        "       tau -0.684823 -0.684291  1.000000\n",
        "\n"
       ]
      }
     ],
     "prompt_number": 51
    },
    {
     "cell_type": "code",
     "collapsed": false,
     "input": [
      "p1 = fitres['params_dict']\n",
      "plt.plot(x,y, 'o', label='data')\n",
      "plot_pts=10000\n",
      "x_p=np.linspace(min(x),max(x),plot_pts)\n",
      "f_g = f(*args)[1](x_p)\n",
      "plt.plot(x_p,f_g, label='guess')\n",
      "if fitres['success']:\n",
      "    f_p = fitres['fitfunc'](x_p)\n",
      "    plt.plot(x_p,f_p, label='fit')\n",
      "plt.legend()\n",
      "#plt.xlim(5420,5470)\n",
      "#plt.ylim(1,20000)\n"
     ],
     "language": "python",
     "metadata": {},
     "outputs": [
      {
       "metadata": {},
       "output_type": "pyout",
       "prompt_number": 52,
       "text": [
        "<matplotlib.legend.Legend at 0xae9c6d0>"
       ]
      },
      {
       "metadata": {},
       "output_type": "display_data",
       "png": "[encoded data removed]",
       "text": [
        "<matplotlib.figure.Figure at 0xae4dd30>"
       ]
      }
     ],
     "prompt_number": 52
    },
    {
     "cell_type": "code",
     "collapsed": false,
     "input": [
      "print p1\n",
      "print 'FWHM: ', 2.3*p1['sigma']"
     ],
     "language": "python",
     "metadata": {},
     "outputs": [
      {
       "output_type": "stream",
       "stream": "stdout",
       "text": [
        "{'a': 4.9235575500662918, 'A': 58.567512850888299, 'x0': 135.00610235391309, 'sigma': 0.085805347465669243}\n",
        "FWHM:  0.197352299171\n"
       ]
      }
     ],
     "prompt_number": 16
    },
    {
     "cell_type": "raw",
     "metadata": {},
     "source": [
      "---------------"
     ]
    },
    {
     "cell_type": "code",
     "collapsed": false,
     "input": [
      "fit_functions = [f for _, f in common.__dict__.iteritems() if callable(f)]\n",
      "for f in fit_functions:\n",
      "    try:\n",
      "        args=arange(len(inspect.getargspec(f)[0]))\n",
      "        print f.__name__,':  ', \n",
      "        print f(*args)[2]\n",
      "        print inspect.getargspec(f)[0]\n",
      "        print '-'*\n",
      "    except:\n",
      "        continue"
     ],
     "language": "python",
     "metadata": {},
     "outputs": [
      {
       "output_type": "stream",
       "stream": "stdout",
       "text": [
        "fit_sum_2cos :   (A*cos(2pi * (fa*x + phi_a/360) )+ B*cos(2pi * (f_b*x + phi_b/360)))/2 + avg\n",
        "['g_avg', 'g_A', 'g_f_a', 'g_phi_a', 'g_B', 'g_f_b', 'g_phi_b']\n",
        "--------------------\n",
        "fit_cos :   A * cos(2pi * (f*x + phi/360) ) + a\n",
        "['g_f', 'g_a', 'g_A', 'g_phi']\n",
        "--------------------\n",
        "fit_line :   a + b*x\n",
        "['g_a', 'g_b']\n",
        "--------------------\n",
        "fit_saturation_with_offset_linslope :   a + b*x + A * x / (x + x_sat)\n",
        "['g_a', 'g_b', 'g_A', 'g_xsat']\n",
        "--------------------\n",
        "fit_AOM_powerdependence :   a * exp(-exp(-k*(x-xc)))\n",
        "['g_a', 'g_xc', 'g_k']\n",
        "--------------------\n",
        "fit_general_exponential :   a + A * exp(-((x-x0)/T )**n)\n",
        "['g_a', 'g_A', 'g_x0', 'g_T', 'g_n']\n",
        "--------------------\n",
        "fit_double_decaying_cos :   (A1 *exp(-x/t1) cos(2pi * (f1*x + phi1/360) ) + a1)*\n",
        "                     (A2 *exp(-x/t2) cos(2pi * (f2*x + phi2/360) ) + a2)/2+ o \n",
        "['g_f1', 'g_A1', 'g_phi1', 'g_t1', 'g_f2', 'g_A2', 'g_phi2', 'g_t2', 'g_o']\n",
        "--------------------\n",
        "fit_general_exponential_dec_cos :   a + A * exp(-((x-x0)/T )**n*cos(2pi *(f*x+phi/360) )\n",
        "['g_a', 'g_A', 'g_x0', 'g_T', 'g_n', 'g_f', 'g_phi']\n",
        "--------------------\n",
        "fit_poly :   fit_parabole :   o + A * (x-c)**2\n",
        "['g_o', 'g_A', 'g_c']\n",
        "--------------------\n",
        "fit_exp_cos :   a + A * exp(-((x-x0)/T )**n  *  cos(2pi *(f*x+phi/360) )\n",
        "['g_a', 'g_A', 'g_x0', 'g_T', 'g_n', 'g_f', 'g_phi']\n",
        "--------------------\n",
        "fit_gaussian_decaying_cos :   guessed frequency is 0\n",
        "A *exp(-x/t) cos(2pi * (f*x + phi/360) ) + a\n",
        "['g_f', 'g_a', 'g_A', 'g_phi', 'g_t']\n",
        "--------------------\n",
        "fit_decaying_cos :   guessed frequency is 0\n",
        "A *exp(-x/t) cos(2pi * (f*x + phi/360) ) + a\n",
        "['g_f', 'g_a', 'g_A', 'g_phi', 'g_t']\n",
        "--------------------\n",
        "fit_2lorentz :   a1 + 2*A1/np.pi*gamma1/(4*(x-x01)**2+gamma1**2)             + 2*A2/np.pi*gamma2/(4*(x-x02)**2+gamma2**2)\n",
        "['g_a1', 'g_A1', 'g_x01', 'g_gamma1', 'g_A2', 'g_x02', 'g_gamma2']\n",
        "--------------------\n",
        "fit_double_exp_decay_with_offset :   A * exp(-x/tau)+ A2 * exp(-x/tau2) + a\n",
        "['g_a', 'g_A', 'g_tau', 'g_A2', 'g_tau2']\n",
        "--------------------\n",
        "fit_saturation :   A * x / (x + x_sat)\n",
        "['g_A', 'g_xsat']\n",
        "--------------------\n",
        "fit_lorentz :   a + 2*A/np.pi*gamma/(4*(x-x0)**2+gamma**2)\n",
        "['g_a', 'g_A', 'g_x0', 'g_gamma']\n",
        "--------------------\n",
        "fit_2gauss :   a1 + A1 * exp(-(x-x01)**2/(2*sigma1**2)) +            A2 * exp(-(x-x02)**2/(2*sigma2**2))\n",
        "['g_a1', 'g_A1', 'g_x01', 'g_sigma1', 'g_A2', 'g_x02', 'g_sigma2']\n",
        "--------------------\n",
        "fit_gauss :   a + A * exp(-(x-x0)**2/(2*sigma**2))\n",
        "['g_a', 'g_A', 'g_x0', 'g_sigma']\n",
        "--------------------\n",
        "fit_exp_decay_with_offset :   A * exp(-x/tau) + a\n",
        "['g_a', 'g_A', 'g_tau']\n",
        "--------------------\n",
        "fit_exp_decay_shifted_with_offset :   A * exp(-(x-x0)/tau) + a\n",
        "['g_a', 'g_A', 'g_tau', 'g_x0']\n",
        "--------------------\n"
       ]
      }
     ],
     "prompt_number": 19
    },
    {
     "cell_type": "code",
     "collapsed": false,
     "input": [],
     "language": "python",
     "metadata": {},
     "outputs": []
    }
   ],
   "metadata": {}
  }
 ]
}