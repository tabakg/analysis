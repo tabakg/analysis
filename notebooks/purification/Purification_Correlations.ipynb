{
 "cells": [
  {
   "cell_type": "markdown",
   "metadata": {},
   "source": [
    "# Load the data"
   ]
  },
  {
   "cell_type": "code",
   "execution_count": null,
   "metadata": {
    "collapsed": false
   },
   "outputs": [],
   "source": [
    "## setup analysis\n",
    "#execfile(r'D:\\measuring\\analysis\\scripts\\setup_analysis.py')\n",
    "execfile(r'//Users/humphreys/Repositories/personal_calcs/setup_analysis.py')\n",
    "from analysis.lib.purification import purify_pq as ppq; reload(ppq)\n",
    "from analysis.lib.purification import purify_analysis as pa; reload(pa)\n",
    "%matplotlib inline\n",
    "\n",
    "folder_lt3 = r'//Users/humphreys/Documents/teamdiamond/data/PurifyData/lt3/Purify_XX_First_Attempts'\n",
    "folder_lt4 = r'//Users/humphreys/Documents/teamdiamond/data/PurifyData/lt4/Purify_XX_First_Attempts'\n",
    "\n",
    "### ssro calibrations\n",
    "day = '20160716_' # for ssro calibration\n",
    "\n",
    "ssro_calib_lt3 = day+'091002'\n",
    "ssro_calib_lt4 = day+'113952'\n",
    "\n",
    "Purify_analysis = pa.purify_analysis('purification_analysis',folder_lt3,folder_lt4,ssro_calib_lt3,ssro_calib_lt4)\n"
   ]
  },
  {
   "cell_type": "code",
   "execution_count": null,
   "metadata": {
    "collapsed": false
   },
   "outputs": [],
   "source": [
    "\n",
    "### list of good timestamps and RO calibration\n",
    "all_lt3,all_lt4 = [],[]\n",
    "\n",
    "### get all valid time stamps. remember that data has to be stored locally.\n",
    "msmt_days  = ['20160716','20160714','20160715']\n",
    "for d in msmt_days:\n",
    "\n",
    "    tstamp_lt3,tstamp_lt4 = Purify_analysis.tstamps_for_both_setups(d,contains = 'ZZ')#,newest_tstamp = '110000') ### newest timestamp allows for only taking parts of a day.\n",
    "    all_lt3.extend(tstamp_lt3)\n",
    "    all_lt4.extend(tstamp_lt4)\n",
    "\n",
    "    \n",
    "print all_lt3\n",
    "print all_lt4"
   ]
  },
  {
   "cell_type": "code",
   "execution_count": null,
   "metadata": {
    "collapsed": false
   },
   "outputs": [],
   "source": [
    "Purify_analysis.load_raw_data(all_lt3,all_lt4)\n",
    "# BK_analysis.filter_CR_after(threshold =None)"
   ]
  },
  {
   "cell_type": "code",
   "execution_count": null,
   "metadata": {
    "collapsed": false
   },
   "outputs": [],
   "source": [
    "Purify_analysis.check_tail_w1_w2(st_start = 2774e3,st_len = 50e3)"
   ]
  },
  {
   "cell_type": "code",
   "execution_count": null,
   "metadata": {
    "collapsed": false
   },
   "outputs": [],
   "source": [
    "### autocorrelation of photon clicks --> do we have huge waiting times in the experiment\n",
    "# reload(pq_plots)\n",
    "# a_lt4 = ppq.purifyPQAnalysis(tb.latest_data(tstamp_lt4[0],folder = folder_lt4))\n",
    "# print a_lt4\n",
    "# pq_plots.plot_autocorrelation_histogram(a_lt4.pqf,start = 0,length = 50e3,binsize=0.1e3)"
   ]
  },
  {
   "cell_type": "markdown",
   "metadata": {},
   "source": [
    "### Filtering and correlations"
   ]
  },
  {
   "cell_type": "code",
   "execution_count": null,
   "metadata": {
    "collapsed": true
   },
   "outputs": [],
   "source": [
    "photon_channel = 2 # 0 or 1; 2 means both HH detectors\n",
    "st_start = 2774e3#2763e3\n",
    "st_len       = 20e3 #50 ns\n",
    "st_len_w2    = 20e3\n",
    "ch1_offset = 0e3\n",
    "max_reps_w2 = 30"
   ]
  },
  {
   "cell_type": "code",
   "execution_count": null,
   "metadata": {
    "collapsed": false,
    "scrolled": false
   },
   "outputs": [],
   "source": [
    "### this window can be used to analyze one of the full timetrace in order to get a feeling for the tail and the windows.\n",
    "### later on all timestamps should be combined to get a clear pikkcture\n",
    "\n",
    "a_lt4 = ppq.purifyPQAnalysis(tb.latest_data(tstamp_lt4[0],folder = folder_lt4))\n",
    "\n",
    "vert0 = st_start/1000. ### start of the first window\n",
    "\n",
    "# BK_analysis.plot_total_histogram(1,st_start-20e3,200e3,1e3,log_plot=True)\n",
    "pq_plots.plot_marker_filter_comparison(a_lt4.pqf,mrkr_chan = 1,start =2765e3,  length = 80e3, hist_binsize = 0.1e3, save = False, log=False,plot_threshold_ch0 =vert0,plot_threshold_ch1 =vert0) #start =7480\n",
    "# pq_plots.plot_marker_filter_comparison(a_lt4.pqf,mrkr_chan = 1,start =1965e3+1000e3,  length = 10e3, hist_binsize = 0.1e3, save = False, log=False,plot_threshold_ch0 =vert1,plot_threshold_ch1 =vert1) #start =7480\n",
    "# pq_plots.plot_photon_hist(b.pqf,start =1965+500,  length = 250, hist_binsize = 1, save = False, log=True) #start =7480"
   ]
  },
  {
   "cell_type": "code",
   "execution_count": null,
   "metadata": {
    "collapsed": false
   },
   "outputs": [],
   "source": [
    "### return the length of events without temporal filter:\n",
    "\n",
    "no_of_events = 0\n",
    "for i in range(len(Purify_analysis.lt3_dict['ssro_results'])):\n",
    "    no_of_events += len(Purify_analysis.lt3_dict['ssro_results'][i])\n",
    "\n",
    "print 'number of unfiltered (temporal and CR) events', no_of_events\n",
    "\n",
    "\n",
    "\n",
    "### apply temporal filter (see above for filters)\n",
    "#Purify_analysis.filter_CR_after(threshold = 1,verbose = False) ## NOT IMPLEMENTED\n",
    "Purify_analysis.apply_temporal_filters_to_prefiltered_data(st_start = st_start,\n",
    "                                                       st_len = st_len,\n",
    "                                                       st_len_w2 = st_len_w2\n",
    "                                                       )\n",
    "# ch1_offset = ch1_offset NOT IMPLEMENTED"
   ]
  },
  {
   "cell_type": "code",
   "execution_count": null,
   "metadata": {
    "collapsed": false,
    "scrolled": false
   },
   "outputs": [],
   "source": [
    "Purify_analysis.apply_sync_filter_w1_w2(verbose = True,max_w2 = max_reps_w2)\n",
    "Purify_analysis.apply_is_purified_filter(signature = '11', verbose = True)"
   ]
  },
  {
   "cell_type": "code",
   "execution_count": null,
   "metadata": {
    "collapsed": false
   },
   "outputs": [],
   "source": [
    "Purify_analysis.apply_CR_before_filter(verbose = True)\n",
    "Purify_analysis.apply_CR_after_filter(verbose = True)"
   ]
  },
  {
   "cell_type": "code",
   "execution_count": null,
   "metadata": {
    "collapsed": true
   },
   "outputs": [],
   "source": [
    "Purify_analysis.attach_state_filtered_syncs(verbose = False)"
   ]
  },
  {
   "cell_type": "code",
   "execution_count": null,
   "metadata": {
    "collapsed": false,
    "scrolled": false
   },
   "outputs": [],
   "source": [
    "### applies the time fitlered sync numbers to the adwin RO results of each setup\n",
    "Purify_analysis.correlate_RO_results(verbose = True,apply_ROC = True)"
   ]
  },
  {
   "cell_type": "code",
   "execution_count": null,
   "metadata": {
    "collapsed": false,
    "scrolled": false
   },
   "outputs": [],
   "source": [
    "### correlations vs. window start?\n",
    "Purify_analysis.sweep_filter_parameter_vs_correlations('st_start',np.linspace(2772e3,2776e3,20),apply_ROC = True)"
   ]
  },
  {
   "cell_type": "code",
   "execution_count": null,
   "metadata": {
    "collapsed": false
   },
   "outputs": [],
   "source": [
    "Purify_analysis.sweep_filter_parameter_vs_correlations('st_len',np.linspace(2e3,50e3,30),apply_ROC = True)"
   ]
  },
  {
   "cell_type": "code",
   "execution_count": null,
   "metadata": {
    "collapsed": false
   },
   "outputs": [],
   "source": [
    "Purify_analysis.sweep_filter_parameter_vs_correlations('max_reps_w2',np.arange(15,250,10),apply_ROC = True)"
   ]
  },
  {
   "cell_type": "code",
   "execution_count": null,
   "metadata": {
    "collapsed": false
   },
   "outputs": [],
   "source": [
    "Purify_analysis.sweep_filter_parameter_vs_correlations('max_dt',np.linspace(1e3,30e3,20),apply_ROC = True)"
   ]
  },
  {
   "cell_type": "code",
   "execution_count": null,
   "metadata": {
    "collapsed": false
   },
   "outputs": [],
   "source": [
    "Purify_analysis.sweep_filter_parameter_vs_correlations('min_cr_lt3_before',np.linspace(20,40,20),apply_ROC = True)\n",
    "Purify_analysis.sweep_filter_parameter_vs_correlations('min_cr_lt4_before',np.linspace(20,40,20),apply_ROC = True)"
   ]
  },
  {
   "cell_type": "code",
   "execution_count": null,
   "metadata": {
    "collapsed": false,
    "scrolled": false
   },
   "outputs": [],
   "source": [
    "Purify_analysis.sweep_filter_parameter_vs_correlations('min_cr_lt3_after',np.linspace(10,30,20),apply_ROC = True)\n",
    "Purify_analysis.sweep_filter_parameter_vs_correlations('min_cr_lt4_after',np.linspace(10,30,20),apply_ROC = True)"
   ]
  },
  {
   "cell_type": "code",
   "execution_count": null,
   "metadata": {
    "collapsed": true
   },
   "outputs": [],
   "source": [
    "#### put readout corrected analysis here."
   ]
  }
 ],
 "metadata": {
  "kernelspec": {
   "display_name": "Python 2",
   "language": "python",
   "name": "python2"
  },
  "language_info": {
   "codemirror_mode": {
    "name": "ipython",
    "version": 2
   },
   "file_extension": ".py",
   "mimetype": "text/x-python",
   "name": "python",
   "nbconvert_exporter": "python",
   "pygments_lexer": "ipython2",
   "version": "2.7.11"
  }
 },
 "nbformat": 4,
 "nbformat_minor": 0
}
