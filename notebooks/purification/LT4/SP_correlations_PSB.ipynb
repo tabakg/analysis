{
 "cells": [
  {
   "cell_type": "code",
   "execution_count": 5,
   "metadata": {
    "collapsed": false
   },
   "outputs": [
    {
     "name": "stdout",
     "output_type": "stream",
     "text": [
      "d:\\measuring\\data\n",
      "d:\\measuring\\data\\20160518\\140038_Purification_111no2_SIL2_SPCorrs\n"
     ]
    }
   ],
   "source": [
    "execfile(r'D:\\measuring\\analysis\\scripts\\setup_analysis.py')\n",
    "folder=tb.latest_data('SPCorrs')\n",
    "name = 'ssro'\n",
    "a = pqsequence.TailAnalysis(folder, hdf5_mode='r')#, pq_folder='bs_remote')\n",
    "#agrp=a.adwingrp('ssro')\n",
    "print folder\n",
    "%matplotlib inline"
   ]
  },
  {
   "cell_type": "code",
   "execution_count": 14,
   "metadata": {
    "collapsed": false
   },
   "outputs": [
    {
     "data": {
      "text/plain": [
       "(<matplotlib.figure.Figure at 0x10b76430>,\n",
       " (<matplotlib.axes._subplots.AxesSubplot at 0x10b6edd0>,\n",
       "  <matplotlib.axes._subplots.AxesSubplot at 0xfcf2850>))"
      ]
     },
     "execution_count": 14,
     "metadata": {},
     "output_type": "execute_result"
    },
    {
     "data": {
      "image/png": "[encoded data removed]",
      "text/plain": [
       "<matplotlib.figure.Figure at 0x10b76430>"
      ]
     },
     "metadata": {},
     "output_type": "display_data"
    }
   ],
   "source": [
    "pq_plots.plot_photon_hist(a.pqf,start = 2930E3,  length = 300E3, hist_binsize = 1E3, save = False, log=True)"
   ]
  },
  {
   "cell_type": "code",
   "execution_count": 15,
   "metadata": {
    "collapsed": false
   },
   "outputs": [
    {
     "name": "stdout",
     "output_type": "stream",
     "text": [
      "5449\n"
     ]
    }
   ],
   "source": [
    "ro_channel    = 0\n",
    "photon_channel = 1\n",
    "ro_start      = 6100\n",
    "ro_length     = 3700\n",
    "\n",
    "st_start = 7480 if 'lt3' in a.name else 5440\n",
    "\n",
    "if photon_channel == 1:\n",
    "    st_start = 5449\n",
    "st_len       = 30 #50 ns\n",
    "st_len_w2    = 30\n",
    "p_sep        = 550 #600 ns\n",
    "print st_start"
   ]
  },
  {
   "cell_type": "code",
   "execution_count": 237,
   "metadata": {
    "collapsed": false
   },
   "outputs": [],
   "source": [
    "sp_lt = a.pqf['/PQ_special-1'].value      \n",
    "ch_lt = a.pqf['/PQ_channel-1'].value\n",
    "sn_lt = a.pqf['/PQ_sync_number-1'].value\n",
    "st_lt = a.pqf['/PQ_sync_time-1'].value\n",
    "#tt_lt = a.pqf['/PQ_time-1'].value "
   ]
  },
  {
   "cell_type": "code",
   "execution_count": 238,
   "metadata": {
    "collapsed": false
   },
   "outputs": [],
   "source": [
    "st_fltr_w1 = (sp_lt == 0) & (ch_lt == photon_channel)  & (st_lt > st_start)  & (st_lt < (st_start  + st_len)) \n",
    "st_fltr_w2 = (sp_lt == 0) & (ch_lt == photon_channel)  & (st_lt > st_start + p_sep)  & (st_lt < (st_start + p_sep + st_len_w2)) \n",
    "fltr_ro    = (sp_lt == 0) & (ch_lt == ro_channel)  & (st_lt > ro_start)  & (st_lt < (ro_start  + ro_length))     "
   ]
  },
  {
   "cell_type": "code",
   "execution_count": 239,
   "metadata": {
    "collapsed": false
   },
   "outputs": [],
   "source": [
    "noof_reps = len(np.unique(sn_lt))\n",
    "noof_reps2= agrp['completed_reps'].value*a.g['joint_params'].attrs['LDE_attempts_before_CR']\n",
    "ro0_sn = sn_lt[fltr_ro]\n",
    "noof_ro0 = np.sum(fltr_ro)\n",
    "w1_sn = sn_lt[st_fltr_w1]\n",
    "w2_sn = sn_lt[st_fltr_w2]\n",
    "noof_w1_ro0 = np.sum(np.in1d(w1_sn,ro0_sn))\n",
    "noof_w2_ro0 = np.sum(np.in1d(w2_sn,ro0_sn))\n",
    "noof_w1 = np.sum(st_fltr_w1)\n",
    "noof_w2 = np.sum(st_fltr_w2)"
   ]
  },
  {
   "cell_type": "code",
   "execution_count": 240,
   "metadata": {
    "collapsed": false
   },
   "outputs": [
    {
     "name": "stdout",
     "output_type": "stream",
     "text": [
      "779849 1250000 3170761 3 99 117 106\n",
      "tail_cts 2.85952793425\n"
     ]
    }
   ],
   "source": [
    "print noof_reps,noof_reps2, noof_ro0, noof_w1_ro0, noof_w2_ro0, noof_w1, noof_w2\n",
    "print 'tail_cts', float(noof_w1+noof_w2)/noof_reps*1e4"
   ]
  },
  {
   "cell_type": "code",
   "execution_count": 241,
   "metadata": {
    "collapsed": false
   },
   "outputs": [],
   "source": [
    "ssro_calib_folder  = tb.latest_data('FastSSRO')\n",
    "try:\n",
    "#     raise IOError('')\n",
    "    F0,u_F0, F1, u_F1 = pqsequence.get_analysed_fast_ssro_calibration(ssro_calib_folder, readout_time=None, sweep_index=None)\n",
    "except IOError:\n",
    "    print 'FastSSRO calibration not found'\n",
    "    F0,u_F0, F1, u_F1 = (0.94,0.005, 0.99, 0.005)\n",
    "ssro_fids = (F0,u_F0, F1, u_F1)"
   ]
  },
  {
   "cell_type": "code",
   "execution_count": 242,
   "metadata": {
    "collapsed": false
   },
   "outputs": [
    {
     "data": {
      "text/plain": [
       "<matplotlib.text.Text at 0x244170b0>"
      ]
     },
     "execution_count": 242,
     "metadata": {},
     "output_type": "execute_result"
    },
    {
     "data": {
      "image/png": "[encoded data removed]",
      "text/plain": [
       "<matplotlib.figure.Figure at 0x242d7b30>"
      ]
     },
     "metadata": {},
     "output_type": "display_data"
    }
   ],
   "source": [
    "# P_ms1 generally stands for the probability to measure ms=1\n",
    "# P_photon is the probability for getting a photon\n",
    "win1_P_photon = float(noof_w1_ro0)/noof_w1\n",
    "u_win1_P_photon = np.sqrt(win1_P_photon * (1.-win1_P_photon)/noof_w1)\n",
    "\n",
    "win2_P_photon = float(noof_w2_ro0)/noof_w2\n",
    "u_win2_P_photon = np.sqrt(win2_P_photon * (1.-win2_P_photon)/noof_w2)\n",
    "\n",
    "fig, (ax, ax_corr) = plt.subplots(1,2, figsize=(11,4),\n",
    "                              sharex=True, sharey=True)\n",
    "\n",
    "### uncorrected for e-SSRO\n",
    "ax.bar(range(2), [win1_P_photon, win2_P_photon], color=['r', 'r'],\n",
    "       align='center', yerr=[u_win1_P_photon, u_win2_P_photon], ecolor='k',\n",
    "       width=0.8)\n",
    "\n",
    "ax.set_xlim(-0.5,1.5)\n",
    "ax.set_ylim(-0.05, 1.15)\n",
    "\n",
    "ax.set_ylabel('P ($m_s =\\, 0$)')\n",
    "\n",
    "ax.set_xticks([0,1])\n",
    "ax.set_xticklabels(['Photon in 1st window \\n ({})'.format(noof_w1),\n",
    "                    'Photon in 2nd window \\n ({})'.format(noof_w2)])\n",
    "ax.axvline(0.5, c='k', ls='--')\n",
    "ax.axhline(0, c='k', ls=':')\n",
    "ax.axhline(1, c='k', ls=':')\n",
    "\n",
    "ax.text(0, win1_P_photon + 0.05, \"{:.1f} $\\pm$ {:.1f} %\".format(win1_P_photon*100, u_win1_P_photon*100),\n",
    "        va='bottom', ha='center',\n",
    "        bbox = {'facecolor' : 'white', 'alpha' : 0.5})\n",
    "ax.text(1, win2_P_photon + 0.05, \"{:.1f} $\\pm$ {:.1f} %\".format(win2_P_photon*100, u_win2_P_photon*100),\n",
    "        va='bottom', ha='center',\n",
    "        bbox = {'facecolor' : 'white', 'alpha' : 0.5})\n",
    "ax.set_title('Uncorrected readout')\n",
    "\n",
    "### corrected for e-SSRO\n",
    "win1_P0, u_win1_P0 = roc.single_qubit_outcome_with_ROC_from_fraction(win1_P_photon, u_win1_P_photon, \n",
    "                                                                     *ssro_fids)\n",
    "win2_P0, u_win2_P0 = roc.single_qubit_outcome_with_ROC_from_fraction(win2_P_photon, u_win2_P_photon,\n",
    "                                                                     *ssro_fids)\n",
    "\n",
    "ax_corr.bar(range(2), [win1_P0, win2_P0], color=['b','b'],\n",
    "       align='center', yerr=[u_win1_P0, u_win2_P0], ecolor='k',\n",
    "       width=0.8)\n",
    "ax_corr.axvline(0.5, c='k', ls='--')\n",
    "ax_corr.axhline(0, c='k', ls=':')\n",
    "ax_corr.axhline(1, c='k', ls=':')\n",
    "\n",
    "ax_corr.text(0, win1_P0 + 0.05, \"{:.1f} $\\pm$ {:.1f} %\".format(win1_P0*100, u_win1_P0*100),\n",
    "        va='bottom', ha='center',\n",
    "        bbox = {'facecolor' : 'white', 'alpha' : 0.5})\n",
    "ax_corr.text(1, win2_P0 + 0.05, \"{:.1f} $\\pm$ {:.1f} %\".format(win2_P0*100, u_win2_P0*100),\n",
    "        va='bottom', ha='center',\n",
    "        bbox = {'facecolor' : 'white', 'alpha' : 0.5})\n",
    "ax_corr.set_title('Corrected readout \\n '+a.timestamp)\n",
    "#fig.savefig(os.path.join(folder, 'Spin-photon_correlations.png'))\n",
    "\n"
   ]
  },
  {
   "cell_type": "code",
   "execution_count": 243,
   "metadata": {
    "collapsed": false
   },
   "outputs": [
    {
     "name": "stdout",
     "output_type": "stream",
     "text": [
      "PSB SP corr from date : 20160331/210848\n",
      "\tTail counts : 2.9 \n",
      "\tRatio of photons detected in w1/w2 : 110.4 %\n",
      "\tUncorrected readout : W1 : 2.6 +/- 1.5 % & W2 : 93.4 +/- 2.4 %\n",
      "\tCorrected readout : W1 : 1.1 +/- 2.7 % & W2 : 100.7 +/- 2.7 %\n",
      "thresholds are NOT met: compare to 92.5 and 2\n"
     ]
    }
   ],
   "source": [
    "print 'PSB SP corr from date : {}'.format(tb.get_plot_title_from_folder(folder)[:15])\n",
    "print '\\tTail counts : {:.1f} '. format(float(noof_w1+noof_w2)/noof_reps*1e4)\n",
    "print '\\tRatio of photons detected in w1/w2 : {:.1f} %'.format(np.float(noof_w1)/noof_w2*100)\n",
    "print '\\tUncorrected readout : W1 : {:.1f} +/- {:.1f} % & W2 : {:.1f} +/- {:.1f} %'.format(win1_P_photon*100, u_win1_P_photon*100,win2_P_photon*100, u_win2_P_photon*100)\n",
    "print '\\tCorrected readout : W1 : {:.1f} +/- {:.1f} % & W2 : {:.1f} +/- {:.1f} %'.format(win1_P0*100, u_win2_P0*100,win2_P0*100, u_win2_P0*100)\n",
    "\n",
    "if win2_P_photon>0.925 and win1_P_photon<0.02 and np.abs(np.float(noof_w1)/noof_w2-1)<0.06 and float(noof_w1+noof_w2)/noof_reps*1e4 >1200:\n",
    "    print 'thresholds are met'\n",
    "else:\n",
    "    print 'thresholds are NOT met: compare to 92.5 and 2'"
   ]
  },
  {
   "cell_type": "code",
   "execution_count": null,
   "metadata": {
    "collapsed": false
   },
   "outputs": [],
   "source": []
  },
  {
   "cell_type": "code",
   "execution_count": 91,
   "metadata": {
    "collapsed": false
   },
   "outputs": [],
   "source": []
  },
  {
   "cell_type": "code",
   "execution_count": 81,
   "metadata": {
    "collapsed": false
   },
   "outputs": [],
   "source": []
  },
  {
   "cell_type": "code",
   "execution_count": 113,
   "metadata": {
    "collapsed": false
   },
   "outputs": [],
   "source": []
  },
  {
   "cell_type": "code",
   "execution_count": null,
   "metadata": {
    "collapsed": false
   },
   "outputs": [],
   "source": []
  }
 ],
 "metadata": {
  "kernelspec": {
   "display_name": "Python 2",
   "language": "python",
   "name": "python2"
  },
  "language_info": {
   "codemirror_mode": {
    "name": "ipython",
    "version": 2
   },
   "file_extension": ".py",
   "mimetype": "text/x-python",
   "name": "python",
   "nbconvert_exporter": "python",
   "pygments_lexer": "ipython2",
   "version": "2.7.3"
  }
 },
 "nbformat": 4,
 "nbformat_minor": 0
}
