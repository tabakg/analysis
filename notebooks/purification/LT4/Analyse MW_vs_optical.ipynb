{
 "cells": [
  {
   "cell_type": "code",
   "execution_count": 1,
   "metadata": {
    "collapsed": false
   },
   "outputs": [
    {
     "name": "stdout",
     "output_type": "stream",
     "text": [
      "d:\\measuring\\data\n",
      "reloaded\n",
      "d:\\measuring\\data\n"
     ]
    },
    {
     "ename": "KeyError",
     "evalue": "\"Unable to open object (Object 'ssro' doesn't exist)\"",
     "output_type": "error",
     "traceback": [
      "\u001b[1;31m---------------------------------------------------------------------------\u001b[0m",
      "\u001b[1;31mKeyError\u001b[0m                                  Traceback (most recent call last)",
      "\u001b[1;32m<ipython-input-1-793bb22d8149>\u001b[0m in \u001b[0;36m<module>\u001b[1;34m()\u001b[0m\n\u001b[0;32m      3\u001b[0m \u001b[0ma\u001b[0m\u001b[1;33m=\u001b[0m \u001b[0mpqsequence\u001b[0m\u001b[1;33m.\u001b[0m\u001b[0mPQSequenceAnalysis\u001b[0m\u001b[1;33m(\u001b[0m\u001b[0mfolder\u001b[0m\u001b[1;33m,\u001b[0m\u001b[0mhdf5_mode\u001b[0m\u001b[1;33m=\u001b[0m\u001b[1;34m'r'\u001b[0m\u001b[1;33m)\u001b[0m\u001b[1;33m\u001b[0m\u001b[0m\n\u001b[0;32m      4\u001b[0m \u001b[0ma\u001b[0m\u001b[1;33m.\u001b[0m\u001b[0mget_sweep_pts\u001b[0m\u001b[1;33m(\u001b[0m\u001b[1;33m)\u001b[0m\u001b[1;33m\u001b[0m\u001b[0m\n\u001b[1;32m----> 5\u001b[1;33m \u001b[0magrp\u001b[0m\u001b[1;33m=\u001b[0m\u001b[0ma\u001b[0m\u001b[1;33m.\u001b[0m\u001b[0madwingrp\u001b[0m\u001b[1;33m(\u001b[0m\u001b[1;34m'ssro'\u001b[0m\u001b[1;33m)\u001b[0m\u001b[1;33m\u001b[0m\u001b[0m\n\u001b[0m\u001b[0;32m      6\u001b[0m \u001b[0ma\u001b[0m\u001b[1;33m.\u001b[0m\u001b[0mget_sweep_idxs\u001b[0m\u001b[1;33m(\u001b[0m\u001b[0mnoof_syncs_per_sweep_pt\u001b[0m\u001b[1;33m=\u001b[0m\u001b[0magrp\u001b[0m\u001b[1;33m.\u001b[0m\u001b[0mattrs\u001b[0m\u001b[1;33m[\u001b[0m\u001b[1;34m'syncs_per_sweep'\u001b[0m\u001b[1;33m]\u001b[0m\u001b[1;33m)\u001b[0m\u001b[1;33m\u001b[0m\u001b[0m\n\u001b[0;32m      7\u001b[0m \u001b[0ma\u001b[0m\u001b[1;33m.\u001b[0m\u001b[0mget_readout_results\u001b[0m\u001b[1;33m(\u001b[0m\u001b[1;34m'ssro'\u001b[0m\u001b[1;33m)\u001b[0m\u001b[1;33m\u001b[0m\u001b[0m\n",
      "\u001b[1;32md:/measuring\\analysis\\lib\\m2\\m2.pyc\u001b[0m in \u001b[0;36madwingrp\u001b[1;34m(self, name)\u001b[0m\n\u001b[0;32m     63\u001b[0m                 \u001b[0mlogging\u001b[0m\u001b[1;33m.\u001b[0m\u001b[0merror\u001b[0m\u001b[1;33m(\u001b[0m\u001b[1;34m\"More than one measurement. Please give a name\"\u001b[0m\u001b[1;33m)\u001b[0m\u001b[1;33m\u001b[0m\u001b[0m\n\u001b[0;32m     64\u001b[0m                 \u001b[1;32mreturn\u001b[0m \u001b[0mFalse\u001b[0m\u001b[1;33m\u001b[0m\u001b[0m\n\u001b[1;32m---> 65\u001b[1;33m         \u001b[1;32mreturn\u001b[0m \u001b[0mself\u001b[0m\u001b[1;33m.\u001b[0m\u001b[0mg\u001b[0m\u001b[1;33m[\u001b[0m\u001b[0madwingrpname\u001b[0m\u001b[1;33m]\u001b[0m\u001b[1;33m\u001b[0m\u001b[0m\n\u001b[0m\u001b[0;32m     66\u001b[0m \u001b[1;33m\u001b[0m\u001b[0m\n\u001b[0;32m     67\u001b[0m     \u001b[1;32mdef\u001b[0m \u001b[0manalysis_h5data\u001b[0m\u001b[1;33m(\u001b[0m\u001b[0mself\u001b[0m\u001b[1;33m,\u001b[0m \u001b[0mname\u001b[0m\u001b[1;33m=\u001b[0m\u001b[1;34m'analysis'\u001b[0m\u001b[1;33m)\u001b[0m\u001b[1;33m:\u001b[0m\u001b[1;33m\u001b[0m\u001b[0m\n",
      "\u001b[1;32mC:\\Canopy\\User\\lib\\site-packages\\h5py\\_hl\\group.pyc\u001b[0m in \u001b[0;36m__getitem__\u001b[1;34m(self, name)\u001b[0m\n\u001b[0;32m    151\u001b[0m                 \u001b[1;32mraise\u001b[0m \u001b[0mValueError\u001b[0m\u001b[1;33m(\u001b[0m\u001b[1;34m\"Invalid HDF5 object reference\"\u001b[0m\u001b[1;33m)\u001b[0m\u001b[1;33m\u001b[0m\u001b[0m\n\u001b[0;32m    152\u001b[0m         \u001b[1;32melse\u001b[0m\u001b[1;33m:\u001b[0m\u001b[1;33m\u001b[0m\u001b[0m\n\u001b[1;32m--> 153\u001b[1;33m             \u001b[0moid\u001b[0m \u001b[1;33m=\u001b[0m \u001b[0mh5o\u001b[0m\u001b[1;33m.\u001b[0m\u001b[0mopen\u001b[0m\u001b[1;33m(\u001b[0m\u001b[0mself\u001b[0m\u001b[1;33m.\u001b[0m\u001b[0mid\u001b[0m\u001b[1;33m,\u001b[0m \u001b[0mself\u001b[0m\u001b[1;33m.\u001b[0m\u001b[0m_e\u001b[0m\u001b[1;33m(\u001b[0m\u001b[0mname\u001b[0m\u001b[1;33m)\u001b[0m\u001b[1;33m,\u001b[0m \u001b[0mlapl\u001b[0m\u001b[1;33m=\u001b[0m\u001b[0mself\u001b[0m\u001b[1;33m.\u001b[0m\u001b[0m_lapl\u001b[0m\u001b[1;33m)\u001b[0m\u001b[1;33m\u001b[0m\u001b[0m\n\u001b[0m\u001b[0;32m    154\u001b[0m \u001b[1;33m\u001b[0m\u001b[0m\n\u001b[0;32m    155\u001b[0m         \u001b[0motype\u001b[0m \u001b[1;33m=\u001b[0m \u001b[0mh5i\u001b[0m\u001b[1;33m.\u001b[0m\u001b[0mget_type\u001b[0m\u001b[1;33m(\u001b[0m\u001b[0moid\u001b[0m\u001b[1;33m)\u001b[0m\u001b[1;33m\u001b[0m\u001b[0m\n",
      "\u001b[1;32mh5o.pyx\u001b[0m in \u001b[0;36mh5py.h5o.open (h5py\\h5o.c:3390)\u001b[1;34m()\u001b[0m\n",
      "\u001b[1;31mKeyError\u001b[0m: \"Unable to open object (Object 'ssro' doesn't exist)\""
     ]
    }
   ],
   "source": [
    "execfile(r'D:\\measuring\\analysis\\scripts\\setup_analysis.py')\n",
    "folder=tb.latest_data()\n",
    "a= pqsequence.PQSequenceAnalysis(folder,hdf5_mode='r')\n",
    "a.get_sweep_pts()\n",
    "agrp=a.adwingrp('ssro')\n",
    "a.get_sweep_idxs(noof_syncs_per_sweep_pt=agrp.attrs['syncs_per_sweep'])\n",
    "a.get_readout_results('ssro')"
   ]
  },
  {
   "cell_type": "code",
   "execution_count": null,
   "metadata": {
    "collapsed": false
   },
   "outputs": [],
   "source": [
    "pq_plots.plot_photon_hist(a.pqf,start = 9900,  length = 3000, hist_binsize = 1, save = False, log=False)"
   ]
  },
  {
   "cell_type": "code",
   "execution_count": 81,
   "metadata": {
    "collapsed": false
   },
   "outputs": [],
   "source": [
    "sp_lt = a.pqf['/PQ_special-1'].value      \n",
    "ch_lt = a.pqf['/PQ_channel-1'].value\n",
    "sn_lt = a.pqf['/PQ_sync_number-1'].value\n",
    "st_lt = a.pqf['/PQ_sync_time-1'].value"
   ]
  },
  {
   "cell_type": "markdown",
   "metadata": {},
   "source": [
    "### RO vs sweep"
   ]
  },
  {
   "cell_type": "code",
   "execution_count": 66,
   "metadata": {
    "collapsed": false
   },
   "outputs": [],
   "source": [
    "ro_channel    = 0\n",
    "ro_start      = 7900\n",
    "ro_length     = 4000\n",
    "fltr_ro    = (sp_lt == 0) & (ch_lt == ro_channel)  & (st_lt > ro_start)  & (st_lt < (ro_start  + ro_length))   \n",
    "\n",
    "ro_results = np.zeros(a.sweep_length)\n",
    "sn_ro = sn_lt[fltr_ro]\n",
    "for sweep_idx in range(a.sweep_length):\n",
    "    sn_ro_swe_idx = sn_lt[(a.sweep_idxs ==sweep_idx) & fltr_ro]\n",
    "    #print len(np.unique(sn_ro_swe_idx))\n",
    "    #fltr_ro_sweep_idxs=np.in1d(sn_sweep_idx, sn_ro)\n",
    "    ro_results[sweep_idx] = float(len(np.unique(sn_ro_swe_idx)))/(a.reps*a.syncs_per_sweep/a.sweep_length)"
   ]
  },
  {
   "cell_type": "code",
   "execution_count": 67,
   "metadata": {
    "collapsed": false
   },
   "outputs": [],
   "source": [
    "u_ro_results = np.sqrt(ro_results*(1-ro_results)/(a.reps*a.syncs_per_sweep/a.sweep_length))"
   ]
  },
  {
   "cell_type": "code",
   "execution_count": 210,
   "metadata": {
    "collapsed": false
   },
   "outputs": [
    {
     "data": {
      "text/plain": [
       "<matplotlib.text.Text at 0x19b6fc30>"
      ]
     },
     "execution_count": 210,
     "metadata": {},
     "output_type": "execute_result"
    },
    {
     "data": {
      "image/png": "[encoded data removed]",
      "text/plain": [
       "<matplotlib.figure.Figure at 0x15ea3630>"
      ]
     },
     "metadata": {},
     "output_type": "display_data"
    }
   ],
   "source": [
    "ax=subplot(111)\n",
    "ax.errorbar(a.sweep_pts,ro_results, yerr=u_ro_results)\n",
    "ax.set_xlabel(a.sweep_name)"
   ]
  },
  {
   "cell_type": "markdown",
   "metadata": {},
   "source": [
    "### Tail W1/W2 vs sweep"
   ]
  },
  {
   "cell_type": "code",
   "execution_count": 82,
   "metadata": {
    "collapsed": false
   },
   "outputs": [],
   "source": [
    "ro_channel    = 0\n",
    "st_start = 9900\n",
    "st_len   = 200 #50 ns\n",
    "st_len_w2= 200\n",
    "\n",
    "w1 = np.zeros(a.sweep_length)\n",
    "w2 = np.zeros(a.sweep_length)\n",
    "w0 = np.zeros(a.sweep_length)\n",
    "for sweep_idx in range(a.sweep_length):\n",
    "    p_sep = agrp.attrs['opt_sep'][sweep_idx]*1e9 #600 ns\n",
    "    st_fltr_w0 = (sp_lt == 0) & (ch_lt == ro_channel)  & (st_lt > st_start)  & (st_lt < (st_start  + st_len)) \n",
    "    st_fltr_w1 = (sp_lt == 0) & (ch_lt == ro_channel)  & (st_lt > st_start+ p_sep)  & (st_lt < (st_start + p_sep + st_len)) \n",
    "    st_fltr_w2 = (sp_lt == 0) & (ch_lt == ro_channel)  & (st_lt > st_start + 2*p_sep)  & (st_lt < (st_start + 2*p_sep + st_len_w2)) \n",
    "    w0[sweep_idx] = np.sum(st_fltr_w0 & (a.sweep_idxs ==sweep_idx))\n",
    "    w1[sweep_idx] = np.sum(st_fltr_w1 & (a.sweep_idxs ==sweep_idx))\n",
    "    w2[sweep_idx] = np.sum(st_fltr_w2 & (a.sweep_idxs ==sweep_idx))    "
   ]
  },
  {
   "cell_type": "code",
   "execution_count": 83,
   "metadata": {
    "collapsed": false
   },
   "outputs": [
    {
     "name": "stdout",
     "output_type": "stream",
     "text": [
      "avg tail: 1163.83142857\n"
     ]
    }
   ],
   "source": [
    "print 'avg tail:', (np.sum(w1) + np.sum(w2))/(a.reps*a.syncs_per_sweep)*1e4"
   ]
  },
  {
   "cell_type": "code",
   "execution_count": 84,
   "metadata": {
    "collapsed": false
   },
   "outputs": [
    {
     "data": {
      "text/plain": [
       "<matplotlib.legend.Legend at 0x12de7d10>"
      ]
     },
     "execution_count": 84,
     "metadata": {},
     "output_type": "execute_result"
    },
    {
     "data": {
      "image/png": "[encoded data removed]",
      "text/plain": [
       "<matplotlib.figure.Figure at 0x12cd41d0>"
      ]
     },
     "metadata": {},
     "output_type": "display_data"
    }
   ],
   "source": [
    "ax=subplot(111)\n",
    "ax.set_title(a.default_plot_title)\n",
    "ratiow1w2 = w1/w2\n",
    "u_ratiow1w2 = np.sqrt(w1/w2**2 + w2*(w1/w2**2)**2)\n",
    "ratiow0w1 = 0.5*w0/w1\n",
    "u_ratiow0w1 = np.sqrt(w0/w1**2 + w1*(w0/w1**2)**2)\n",
    "ratiow0w2 = 0.5*w0/w2\n",
    "u_ratiow0w2 = np.sqrt(w0/w2**2 + w2*(w0/w2**2)**2)\n",
    "ax.errorbar(a.sweep_pts,ratiow1w2,yerr=u_ratiow1w2, label = 'w1/w2')\n",
    "ax.errorbar(a.sweep_pts,ratiow0w1,yerr=u_ratiow0w1, label = '0.5*w0/w1')\n",
    "ax.errorbar(a.sweep_pts,ratiow0w2,yerr=u_ratiow0w2, label = '0.5*w0/w2')\n",
    "ax.set_xlabel(a.sweep_name)\n",
    "ax.set_ylabel('Ratio w1/w2')\n",
    "ax.text(0.05, 0.95, 'Opt. pulse sep. = {} ns'.format(p_sep), transform=ax.transAxes,\n",
    "        verticalalignment='top',horizontalalignment='left')\n",
    "ax.legend()\n",
    "\n",
    "#ax.text(a.sweep_pts[1],ax.get_ylim()[0]+0.05,'Opt. pulse sep. = {} ns'.format(p_sep))"
   ]
  },
  {
   "cell_type": "code",
   "execution_count": 7,
   "metadata": {
    "collapsed": false
   },
   "outputs": [
    {
     "name": "stdout",
     "output_type": "stream",
     "text": [
      "\n"
     ]
    },
    {
     "data": {
      "image/png": "[encoded data removed]",
      "text/plain": [
       "<matplotlib.figure.Figure at 0x9fb22f0>"
      ]
     },
     "metadata": {},
     "output_type": "display_data"
    }
   ],
   "source": [
    "hist(st_lt[(a.sweep_idxs ==3)],bins =linspace(9900,10900,1000))\n",
    "print ''"
   ]
  },
  {
   "cell_type": "code",
   "execution_count": 9,
   "metadata": {
    "collapsed": false
   },
   "outputs": [
    {
     "data": {
      "text/plain": [
       "array([ 76924.,  78692.,  78540.,  78098.,  78011.])"
      ]
     },
     "execution_count": 9,
     "metadata": {},
     "output_type": "execute_result"
    }
   ],
   "source": [
    "w2"
   ]
  },
  {
   "cell_type": "code",
   "execution_count": 77,
   "metadata": {
    "collapsed": false
   },
   "outputs": [
    {
     "data": {
      "text/plain": [
       "array([  7.87000000e+08,   8.03666667e+08,   8.20333333e+08,\n",
       "         8.37000000e+08,   8.53666667e+08,   8.70333333e+08,\n",
       "         8.87000000e+08])"
      ]
     },
     "execution_count": 77,
     "metadata": {},
     "output_type": "execute_result"
    }
   ],
   "source": [
    "a.sweep_pts"
   ]
  },
  {
   "cell_type": "code",
   "execution_count": 78,
   "metadata": {
    "collapsed": false
   },
   "outputs": [
    {
     "data": {
      "text/plain": [
       "array([ 0.975 ,  0.976 ,  0.9775,  0.9745,  0.9685,  0.981 ,  0.9745])"
      ]
     },
     "execution_count": 78,
     "metadata": {},
     "output_type": "execute_result"
    }
   ],
   "source": [
    "a.normalized_ssro"
   ]
  },
  {
   "cell_type": "code",
   "execution_count": null,
   "metadata": {
    "collapsed": false
   },
   "outputs": [],
   "source": []
  }
 ],
 "metadata": {
  "kernelspec": {
   "display_name": "Python 2",
   "language": "python",
   "name": "python2"
  },
  "language_info": {
   "codemirror_mode": {
    "name": "ipython",
    "version": 2
   },
   "file_extension": ".py",
   "mimetype": "text/x-python",
   "name": "python",
   "nbconvert_exporter": "python",
   "pygments_lexer": "ipython2",
   "version": "2.7.3"
  }
 },
 "nbformat": 4,
 "nbformat_minor": 0
}
