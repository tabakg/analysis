{
 "metadata": {
  "name": "",
  "signature": "sha256:9d1ae68ddac05a440ee897a748f7d9004e1056bfa8d18aa6426efaf9635888a3"
 },
 "nbformat": 3,
 "nbformat_minor": 0,
 "worksheets": [
  {
   "cells": [
    {
     "cell_type": "code",
     "collapsed": false,
     "input": [
      "execfile(r'D:\\measuring\\analysis\\scripts\\setup_analysis.py')"
     ],
     "language": "python",
     "metadata": {},
     "outputs": [
      {
       "output_type": "stream",
       "stream": "stdout",
       "text": [
        "d:\\measuring\\data\n",
        "d:\\measuring\\data"
       ]
      },
      {
       "output_type": "stream",
       "stream": "stdout",
       "text": [
        "\n"
       ]
      }
     ],
     "prompt_number": 1
    },
    {
     "cell_type": "code",
     "collapsed": false,
     "input": [
      "folders = [r'D:\\measuring\\data\\20150415', r'D:\\measuring\\data\\20150416']\n",
      "fps=[]\n",
      "for folder in folders:\n",
      "    fps.extend(tb.get_all_msmt_filepaths(folder,pattern='Bell_RND_RO_SAMPLE_CFG'))\n",
      "#print fps\n",
      "RO_start=10620\n",
      "RO_length = 3700#a.g['joint_params'].attrs['LDE_RO_duration']*1e9\n",
      "\n",
      "l_fps = len(fps)\n",
      "rnd_0s = np.zeros(l_fps)\n",
      "rnd_1s = np.zeros(l_fps)\n",
      "sn_reps = np.zeros(l_fps)\n",
      "ad_reps = np.zeros(l_fps)\n",
      "valid_sn_reps = np.zeros(l_fps)\n",
      "noof_valid_ro0s = np.zeros(l_fps)\n",
      "noof_valid_marker_1_ro_ms0s=np.zeros(l_fps)\n",
      "noof_valid_marker_1_ro_ms1s=np.zeros(l_fps)\n",
      "noof_valid_marker_2_ro_ms0s=np.zeros(l_fps)\n",
      "noof_valid_marker_2_ro_ms1s=np.zeros(l_fps)\n",
      "\n",
      "print 'Total:', l_fps\n",
      "for i,fp in enumerate(fps):\n",
      "    print i,\n",
      "    try: \n",
      "        pqf=h5py.File(fp,'r')\n",
      "\n",
      "        sn = pqf['/PQ_sync_number-1'].value \n",
      "        sp = pqf['/PQ_special-1'].value      \n",
      "        st = pqf['/PQ_sync_time-1'].value\n",
      "            #_PQ_time = f['/PQ_time'].value   \n",
      "        ch = pqf['/PQ_channel-1'].value\n",
      "        gname=tb.get_measurement_name_from_folder(os.path.split(fp)[0])[5:]\n",
      "        true_reps = pqf[gname]['ssro']['completed_reps'].value*pqf[gname]['joint_params'].attrs['LDE_attempts_before_CR']\n",
      "    except Exception as e:\n",
      "        print e\n",
      "    finally:\n",
      "        pqf.close()\n",
      "\n",
      "    is_marker_1_event = (sp==1) & (ch==1) \n",
      "    is_marker_2_event = (sp==1) & (ch==2) \n",
      "    marker_1_sn= sn[is_marker_1_event]\n",
      "    marker_2_sn= sn[is_marker_2_event]\n",
      "    rnd_0s[i]=np.sum(is_marker_1_event)\n",
      "    rnd_1s[i]=np.sum(is_marker_2_event)\n",
      "\n",
      "    is_photon_0 = (sp==0) & (ch==0) \n",
      "    st_fltr = (RO_start  <= st) &  (st< (RO_start + RO_length))\n",
      "    is_photon_0_in_ro_window = st_fltr & is_photon_0\n",
      "    photon_in_0_ro_window_sn = np.unique(sn[is_photon_0_in_ro_window])\n",
      "    no_ph_in_0_ro_window_sn = np.setdiff1d(sn,photon_in_0_ro_window_sn)\n",
      "\n",
      "    ad_reps[i] =  true_reps\n",
      "    sn_reps[i] = sn[-1]\n",
      "\n",
      "    valid_sn = np.setxor1d(marker_1_sn,marker_2_sn)\n",
      "    valid_sn_reps[i] = len(valid_sn)\n",
      "    noof_valid_ro0s[i] = len(np.intersect1d(valid_sn, photon_in_0_ro_window_sn, True))\n",
      "\n",
      "    valid_sn_marker_1 = np.intersect1d(valid_sn, marker_1_sn,True)\n",
      "    valid_sn_marker_2 = np.intersect1d(valid_sn, marker_2_sn,True)\n",
      "   \n",
      "    marker_1_ro_ms0_sn = np.intersect1d(valid_sn_marker_1, photon_in_0_ro_window_sn,True)\n",
      "    marker_1_ro_ms1_sn = np.intersect1d(valid_sn_marker_1, no_ph_in_0_ro_window_sn,True)\n",
      "    marker_2_ro_ms0_sn = np.intersect1d(valid_sn_marker_2, photon_in_0_ro_window_sn,True)\n",
      "    marker_2_ro_ms1_sn = np.intersect1d(valid_sn_marker_2, no_ph_in_0_ro_window_sn,True)\n",
      "\n",
      "    noof_valid_marker_1_ro_ms0s[i]=len(marker_1_ro_ms0_sn)\n",
      "    noof_valid_marker_1_ro_ms1s[i]=len(marker_1_ro_ms1_sn)\n",
      "    noof_valid_marker_2_ro_ms0s[i]=len(marker_2_ro_ms0_sn)\n",
      "    noof_valid_marker_2_ro_ms1s[i]=len(marker_2_ro_ms1_sn)\n",
      "print 'Done!'"
     ],
     "language": "python",
     "metadata": {},
     "outputs": [
      {
       "ename": "NameError",
       "evalue": "name 'tb' is not defined",
       "output_type": "pyerr",
       "traceback": [
        "\u001b[1;31m---------------------------------------------------------------------------\u001b[0m\n\u001b[1;31mNameError\u001b[0m                                 Traceback (most recent call last)",
        "\u001b[1;32m<ipython-input-1-9e1a0723f849>\u001b[0m in \u001b[0;36m<module>\u001b[1;34m()\u001b[0m\n\u001b[0;32m      2\u001b[0m \u001b[0mfps\u001b[0m\u001b[1;33m=\u001b[0m\u001b[1;33m[\u001b[0m\u001b[1;33m]\u001b[0m\u001b[1;33m\u001b[0m\u001b[0m\n\u001b[0;32m      3\u001b[0m \u001b[1;32mfor\u001b[0m \u001b[0mfolder\u001b[0m \u001b[1;32min\u001b[0m \u001b[0mfolders\u001b[0m\u001b[1;33m:\u001b[0m\u001b[1;33m\u001b[0m\u001b[0m\n\u001b[1;32m----> 4\u001b[1;33m     \u001b[0mfps\u001b[0m\u001b[1;33m.\u001b[0m\u001b[0mextend\u001b[0m\u001b[1;33m(\u001b[0m\u001b[0mtb\u001b[0m\u001b[1;33m.\u001b[0m\u001b[0mget_all_msmt_filepaths\u001b[0m\u001b[1;33m(\u001b[0m\u001b[0mfolder\u001b[0m\u001b[1;33m,\u001b[0m\u001b[0mpattern\u001b[0m\u001b[1;33m=\u001b[0m\u001b[1;34m'Bell_RND_RO_SAMPLE_CFG'\u001b[0m\u001b[1;33m)\u001b[0m\u001b[1;33m)\u001b[0m\u001b[1;33m\u001b[0m\u001b[0m\n\u001b[0m\u001b[0;32m      5\u001b[0m \u001b[1;31m#print fps\u001b[0m\u001b[1;33m\u001b[0m\u001b[1;33m\u001b[0m\u001b[0m\n\u001b[0;32m      6\u001b[0m \u001b[0mRO_start\u001b[0m\u001b[1;33m=\u001b[0m\u001b[1;36m10620\u001b[0m\u001b[1;33m\u001b[0m\u001b[0m\n",
        "\u001b[1;31mNameError\u001b[0m: name 'tb' is not defined"
       ]
      }
     ],
     "prompt_number": 1
    },
    {
     "cell_type": "code",
     "collapsed": false,
     "input": [
      "i=3\n",
      "print valid_sn_reps[i], (noof_valid_marker_1_ro_ms0s+noof_valid_marker_1_ro_ms1s+noof_valid_marker_2_ro_ms0s+noof_valid_marker_2_ro_ms1s)[i]\n"
     ],
     "language": "python",
     "metadata": {},
     "outputs": [
      {
       "ename": "NameError",
       "evalue": "name 'valid_sn_reps' is not defined",
       "output_type": "pyerr",
       "traceback": [
        "\u001b[1;31m---------------------------------------------------------------------------\u001b[0m\n\u001b[1;31mNameError\u001b[0m                                 Traceback (most recent call last)",
        "\u001b[1;32m<ipython-input-2-25a30a4b3411>\u001b[0m in \u001b[0;36m<module>\u001b[1;34m()\u001b[0m\n\u001b[0;32m      1\u001b[0m \u001b[0mi\u001b[0m\u001b[1;33m=\u001b[0m\u001b[1;36m3\u001b[0m\u001b[1;33m\u001b[0m\u001b[0m\n\u001b[1;32m----> 2\u001b[1;33m \u001b[1;32mprint\u001b[0m \u001b[0mvalid_sn_reps\u001b[0m\u001b[1;33m[\u001b[0m\u001b[0mi\u001b[0m\u001b[1;33m]\u001b[0m\u001b[1;33m,\u001b[0m \u001b[1;33m(\u001b[0m\u001b[0mnoof_valid_marker_1_ro_ms0s\u001b[0m\u001b[1;33m+\u001b[0m\u001b[0mnoof_valid_marker_1_ro_ms1s\u001b[0m\u001b[1;33m+\u001b[0m\u001b[0mnoof_valid_marker_2_ro_ms0s\u001b[0m\u001b[1;33m+\u001b[0m\u001b[0mnoof_valid_marker_2_ro_ms1s\u001b[0m\u001b[1;33m)\u001b[0m\u001b[1;33m[\u001b[0m\u001b[0mi\u001b[0m\u001b[1;33m]\u001b[0m\u001b[1;33m\u001b[0m\u001b[0m\n\u001b[0m",
        "\u001b[1;31mNameError\u001b[0m: name 'valid_sn_reps' is not defined"
       ]
      }
     ],
     "prompt_number": 2
    },
    {
     "cell_type": "code",
     "collapsed": false,
     "input": [
      "p_missed_syncs = sn_reps/ad_reps\n",
      "noof_rnd_errors = sn_reps-valid_sn_reps\n",
      "\n",
      "p_rnd0s = (rnd_0s)/(rnd_0s+rnd_1s)\n",
      "p_rnd0s_u  = np.sqrt(p_rnd0s*(1-p_rnd0s)/(rnd_0s+rnd_1s))\n",
      "roc = error.SingleQubitROC()\n",
      "#roc.F0, roc.u_F0, roc.F1, roc.u_F1 =pqsequence.get_analysed_fast_ssro_calibration(ssro_calib_folder, RO_length)\n",
      "roc.F0, roc.u_F0, roc.F1, roc.u_F1=(0.941,0.001,0.995,0.001)\n",
      "#print pqsequence.get_analysed_fast_ssro_calibration(ssro_calib_folder, RO_length)\n",
      "##ssro.get_SSRO_calibration(ssro_calib_folder, ro_duration)\n",
      "ma_1_p0=((noof_valid_marker_1_ro_ms0s)/(noof_valid_marker_1_ro_ms0s+noof_valid_marker_1_ro_ms1s))\n",
      "ma_1_u_p0 = np.sqrt(ma_1_p0*(1-ma_1_p0)/(noof_valid_marker_1_ro_ms0s+noof_valid_marker_1_ro_ms1s))\n",
      "ma_2_p0=((noof_valid_marker_2_ro_ms0s)/(noof_valid_marker_2_ro_ms0s+noof_valid_marker_2_ro_ms1s))\n",
      "ma_2_u_p0 = np.sqrt(ma_2_p0*(1-ma_2_p0)/(noof_valid_marker_2_ro_ms0s+noof_valid_marker_2_ro_ms1s))  \n",
      "\n",
      "ma_1_p0_c, ma_1_u_p0_c = roc.num_eval(ma_1_p0, ma_1_u_p0)\n",
      "ma_2_p0_c, ma_2_u_p0_c = roc.num_eval(ma_2_p0, ma_2_u_p0)"
     ],
     "language": "python",
     "metadata": {},
     "outputs": [
      {
       "ename": "NameError",
       "evalue": "name 'sn_reps' is not defined",
       "output_type": "pyerr",
       "traceback": [
        "\u001b[1;31m---------------------------------------------------------------------------\u001b[0m\n\u001b[1;31mNameError\u001b[0m                                 Traceback (most recent call last)",
        "\u001b[1;32m<ipython-input-3-eb12b424ff7e>\u001b[0m in \u001b[0;36m<module>\u001b[1;34m()\u001b[0m\n\u001b[1;32m----> 1\u001b[1;33m \u001b[0mp_missed_syncs\u001b[0m \u001b[1;33m=\u001b[0m \u001b[0msn_reps\u001b[0m\u001b[1;33m/\u001b[0m\u001b[0mad_reps\u001b[0m\u001b[1;33m\u001b[0m\u001b[0m\n\u001b[0m\u001b[0;32m      2\u001b[0m \u001b[0mnoof_rnd_errors\u001b[0m \u001b[1;33m=\u001b[0m \u001b[0msn_reps\u001b[0m\u001b[1;33m-\u001b[0m\u001b[0mvalid_sn_reps\u001b[0m\u001b[1;33m\u001b[0m\u001b[0m\n\u001b[0;32m      3\u001b[0m \u001b[1;33m\u001b[0m\u001b[0m\n\u001b[0;32m      4\u001b[0m \u001b[0mp_rnd0s\u001b[0m \u001b[1;33m=\u001b[0m \u001b[1;33m(\u001b[0m\u001b[0mrnd_0s\u001b[0m\u001b[1;33m)\u001b[0m\u001b[1;33m/\u001b[0m\u001b[1;33m(\u001b[0m\u001b[0mrnd_0s\u001b[0m\u001b[1;33m+\u001b[0m\u001b[0mrnd_1s\u001b[0m\u001b[1;33m)\u001b[0m\u001b[1;33m\u001b[0m\u001b[0m\n\u001b[0;32m      5\u001b[0m \u001b[0mp_rnd0s_u\u001b[0m  \u001b[1;33m=\u001b[0m \u001b[0mnp\u001b[0m\u001b[1;33m.\u001b[0m\u001b[0msqrt\u001b[0m\u001b[1;33m(\u001b[0m\u001b[0mp_rnd0s\u001b[0m\u001b[1;33m*\u001b[0m\u001b[1;33m(\u001b[0m\u001b[1;36m1\u001b[0m\u001b[1;33m-\u001b[0m\u001b[0mp_rnd0s\u001b[0m\u001b[1;33m)\u001b[0m\u001b[1;33m/\u001b[0m\u001b[1;33m(\u001b[0m\u001b[0mrnd_0s\u001b[0m\u001b[1;33m+\u001b[0m\u001b[0mrnd_1s\u001b[0m\u001b[1;33m)\u001b[0m\u001b[1;33m)\u001b[0m\u001b[1;33m\u001b[0m\u001b[0m\n",
        "\u001b[1;31mNameError\u001b[0m: name 'sn_reps' is not defined"
       ]
      }
     ],
     "prompt_number": 3
    },
    {
     "cell_type": "code",
     "collapsed": false,
     "input": [
      "x=np.arange(l_fps)\n",
      "fig, ax = plt.subplots(1,1, figsize=(8,4))\n",
      "ax.errorbar(x,0.5-p_rnd0s, yerr=p_rnd0s_u)\n",
      "ax.set_xlabel('Run nr')\n",
      "ax.set_ylabel('Bias')\n",
      "fig, ax = plt.subplots(1,1, figsize=(8,4))\n",
      "ax.errorbar(x,ma_1_p0, yerr=ma_1_u_p0, label ='uncorrected')\n",
      "ax.errorbar(x,ma_1_p0_c, yerr=ma_1_u_p0_c, label ='corrected')\n",
      "ax.set_xlabel('Run nr')\n",
      "ax.set_ylabel('RND0 fidelity')\n",
      "ax.legend()\n",
      "ax.set_ylim(0.9,1.03)\n",
      "fig, ax = plt.subplots(1,1, figsize=(8,4))\n",
      "ax.errorbar(x,ma_2_p0, yerr=ma_2_u_p0, label ='uncorrected')\n",
      "ax.errorbar(x,ma_2_p0_c, yerr=ma_2_u_p0_c, label ='corrected')\n",
      "ax.set_xlabel('Run nr')\n",
      "ax.set_ylabel('RND1 fidelity')\n",
      "ax.legend()\n",
      "\n",
      "fig, ax = plt.subplots(1,1, figsize=(8,4))\n",
      "ax.plot(x,1-p_missed_syncs)\n",
      "ax.set_xlabel('Run nr')\n",
      "ax.set_ylabel('percentage missed syncs')\n",
      "ax.set_ylim(0.3,0.5)"
     ],
     "language": "python",
     "metadata": {},
     "outputs": [
      {
       "ename": "NameError",
       "evalue": "name 'l_fps' is not defined",
       "output_type": "pyerr",
       "traceback": [
        "\u001b[1;31m---------------------------------------------------------------------------\u001b[0m\n\u001b[1;31mNameError\u001b[0m                                 Traceback (most recent call last)",
        "\u001b[1;32m<ipython-input-4-e11d604ea83c>\u001b[0m in \u001b[0;36m<module>\u001b[1;34m()\u001b[0m\n\u001b[1;32m----> 1\u001b[1;33m \u001b[0mx\u001b[0m\u001b[1;33m=\u001b[0m\u001b[0mnp\u001b[0m\u001b[1;33m.\u001b[0m\u001b[0marange\u001b[0m\u001b[1;33m(\u001b[0m\u001b[0ml_fps\u001b[0m\u001b[1;33m)\u001b[0m\u001b[1;33m\u001b[0m\u001b[0m\n\u001b[0m\u001b[0;32m      2\u001b[0m \u001b[0mfig\u001b[0m\u001b[1;33m,\u001b[0m \u001b[0max\u001b[0m \u001b[1;33m=\u001b[0m \u001b[0mplt\u001b[0m\u001b[1;33m.\u001b[0m\u001b[0msubplots\u001b[0m\u001b[1;33m(\u001b[0m\u001b[1;36m1\u001b[0m\u001b[1;33m,\u001b[0m\u001b[1;36m1\u001b[0m\u001b[1;33m,\u001b[0m \u001b[0mfigsize\u001b[0m\u001b[1;33m=\u001b[0m\u001b[1;33m(\u001b[0m\u001b[1;36m8\u001b[0m\u001b[1;33m,\u001b[0m\u001b[1;36m4\u001b[0m\u001b[1;33m)\u001b[0m\u001b[1;33m)\u001b[0m\u001b[1;33m\u001b[0m\u001b[0m\n\u001b[0;32m      3\u001b[0m \u001b[0max\u001b[0m\u001b[1;33m.\u001b[0m\u001b[0merrorbar\u001b[0m\u001b[1;33m(\u001b[0m\u001b[0mx\u001b[0m\u001b[1;33m,\u001b[0m\u001b[1;36m0.5\u001b[0m\u001b[1;33m-\u001b[0m\u001b[0mp_rnd0s\u001b[0m\u001b[1;33m,\u001b[0m \u001b[0myerr\u001b[0m\u001b[1;33m=\u001b[0m\u001b[0mp_rnd0s_u\u001b[0m\u001b[1;33m)\u001b[0m\u001b[1;33m\u001b[0m\u001b[0m\n\u001b[0;32m      4\u001b[0m \u001b[0max\u001b[0m\u001b[1;33m.\u001b[0m\u001b[0mset_xlabel\u001b[0m\u001b[1;33m(\u001b[0m\u001b[1;34m'Run nr'\u001b[0m\u001b[1;33m)\u001b[0m\u001b[1;33m\u001b[0m\u001b[0m\n\u001b[0;32m      5\u001b[0m \u001b[0max\u001b[0m\u001b[1;33m.\u001b[0m\u001b[0mset_ylabel\u001b[0m\u001b[1;33m(\u001b[0m\u001b[1;34m'Bias'\u001b[0m\u001b[1;33m)\u001b[0m\u001b[1;33m\u001b[0m\u001b[0m\n",
        "\u001b[1;31mNameError\u001b[0m: name 'l_fps' is not defined"
       ]
      }
     ],
     "prompt_number": 4
    },
    {
     "cell_type": "code",
     "collapsed": false,
     "input": [
      "fig, ax = plt.subplots(1,1, figsize=(4.5,4))\n",
      "\n",
      "sync_nrs=a.pqf['/PQ_sync_number-1'].value \n",
      "is_marker_1_event=pq_tools.get_markers(a.pqf,1)\n",
      "is_marker_2_event=pq_tools.get_markers(a.pqf,2)\n",
      "noof_rnd_0_events=np.sum(is_marker_1_event)\n",
      "noof_rnd_1_events=np.sum(is_marker_2_event)\n",
      "print 'noof_rnd 0/1 events:',noof_rnd_0_events, '/' , noof_rnd_1_events\n",
      "print 'bias toward 0 : {:.2f} % '.format(50-float(noof_rnd_0_events)/(noof_rnd_0_events+noof_rnd_1_events)*100),', error : {:.2f} %'.format(1/np.sqrt(len(np.where(is_marker_1_event)[0])+len(np.where(is_marker_2_event)[0]))*100)\n",
      "print 'noof syncs:', sync_nrs[-1]\n",
      "print 'Detected marker events {} / {}:'.format(noof_rnd_0_events+noof_rnd_1_events, a.reps)\n",
      "\n",
      "is_photon_0, is_rnd_clk=pq_tools.get_photons(a.pqf)\n",
      "sync_time_ns = a.pqf['/PQ_sync_time-1'].value * pq_binsize_ns\n",
      "\n",
      "\n",
      "st_fltr = (RO_start  <= sync_time_ns) &  (sync_time_ns< (RO_start + RO_length))\n",
      "is_photon_0_in_ro_window = st_fltr & is_photon_0\n",
      "photon_in_0_ro_window_sync_numbers = sync_nrs[is_photon_0_in_ro_window]\n",
      "no_photon_in_0_ro_window_sync_numbers = np.setdiff1d(sync_nrs,photon_in_0_ro_window_sync_numbers)\n",
      "av_p0=float(len(np.unique(photon_in_0_ro_window_sync_numbers)))/a.reps\n",
      "u_av_p0 = np.sqrt(av_p0*(1-av_p0)/a.reps)\n",
      "av_F0, u_av_F0 = roc.num_eval(np.array([av_p0]),np.array([u_av_p0]))\n",
      "print 'averaged RO results: F0 {:.2f} $\\pm$ {:.2f} % '.format(av_F0[0]*100,u_av_F0[0]*100 )\n",
      "\n",
      "\n",
      "noof_reps_wo_rnd_clk=len(np.unique(sync_nrs[is_rnd_clk]))\n",
      "print 'number of reps with a random clk', noof_reps_wo_rnd_clk\n",
      "print 'syncs without a random click: {} / {} = {:.2f} %'.format(a.reps-noof_reps_wo_rnd_clk, a.reps, float(a.reps-noof_reps_wo_rnd_clk)/a.reps*100.)\n",
      "\n",
      "is_last_random_click=np.append(np.diff(np.asarray(is_rnd_clk, dtype='int'))==-1,is_rnd_clk[-1])\n",
      "#start_rnd=np.min(sync_time_ns[is_rnd_clk])-20\n",
      "#length_rnd=np.max(sync_time_ns[is_rnd_clk])-start_rnd+20\n",
      "#pq_plots.plot_photon_hist_filter_comparison(a.pqf,is_last_random_click,start = start_rnd, length = length_rnd, hist_binsize = 1, save = False)\n",
      "\n",
      "marker_1_sync_numbers= sync_nrs[is_marker_1_event]\n",
      "marker_2_sync_numbers= sync_nrs[is_marker_2_event]\n",
      "\n",
      "marker_1_ro_ms0_events=pq_tools.filter_on_same_sync_number(photon_in_0_ro_window_sync_numbers,marker_1_sync_numbers)\n",
      "marker_2_ro_ms0_events=pq_tools.filter_on_same_sync_number(photon_in_0_ro_window_sync_numbers,marker_2_sync_numbers)\n",
      "marker_1_ro_ms1_events=pq_tools.filter_on_same_sync_number(no_photon_in_0_ro_window_sync_numbers,marker_1_sync_numbers)#np.invert(marker_1_ro_ms0_events) #this also works.\n",
      "marker_2_ro_ms1_events=pq_tools.filter_on_same_sync_number(no_photon_in_0_ro_window_sync_numbers,marker_2_sync_numbers)#np.invert(marker_2_ro_ms0_events)\n",
      "noof_marker_1_ro_ms0_events=np.sum(marker_1_ro_ms0_events)\n",
      "noof_marker_2_ro_ms0_events=np.sum(marker_2_ro_ms0_events)\n",
      "noof_marker_1_ro_ms1_events=np.sum(marker_1_ro_ms1_events)\n",
      "noof_marker_2_ro_ms1_events=np.sum(marker_2_ro_ms1_events)\n",
      "\n",
      "print 'MA1 & RO0: {}, MA1 & RO1: {}, MA2 & RO0: {}, MA2 & RO1: {}'.format(noof_marker_1_ro_ms0_events, noof_marker_1_ro_ms1_events,noof_marker_2_ro_ms0_events, noof_marker_2_ro_ms1_events)\n",
      "\n",
      "\n",
      "if noof_rnd_0_events>0:\n",
      "    ma_1_p0=(float(noof_marker_1_ro_ms0_events)/(noof_marker_1_ro_ms1_events+noof_marker_1_ro_ms0_events))\n",
      "    ma_1_u_p0 = np.sqrt(ma_1_p0*(1-ma_1_p0)/(noof_marker_1_ro_ms1_events+noof_marker_1_ro_ms0_events))\n",
      "else: \n",
      "    ma_1_p0=0\n",
      "    ma_1_u_p0=0\n",
      "if noof_rnd_1_events>0:\n",
      "    ma_2_p0=(float(noof_marker_2_ro_ms0_events)/(noof_marker_2_ro_ms1_events+noof_marker_2_ro_ms0_events))\n",
      "    ma_2_u_p0 = np.sqrt(ma_2_p0*(1-ma_2_p0)/(noof_marker_2_ro_ms1_events+noof_marker_2_ro_ms0_events))        \n",
      "else:\n",
      "    ma_2_p0=0\n",
      "    ma_2_u_p0=0\n",
      "print 'Uncorrected: RND 0: F0 {:.2f}%, RND 1: F0 {:.2f}%'.format(ma_1_p0*100, ma_2_p0*100)\n",
      "\n",
      "p0, u_p0 = roc.num_eval(np.array([ma_1_p0,ma_2_p0]),np.array([ma_1_u_p0,ma_2_u_p0]))\n",
      "\n",
      "ax.bar( range(2),p0, \n",
      "    #color=[settings.COLORS[0], settings.COLORS[1]],\n",
      "    align='center', yerr=u_p0, \n",
      "    ecolor='k', width=0.8)\n",
      "ax.set_title(a.timestamp+'\\n Corrected RO')\n",
      "ax.text(0, -.15, 'Rnd_no = 0',ha='center', va='bottom')\n",
      "ax.text(1, -.15, 'Rnd_no = 1',ha='center', va='bottom')\n",
      "ax.set_xticks([0,1])\n",
      "#ax.text(1, 1.05, '{:.0f}+/-{:.0f} %'.format(p0*100., u_p0*100.),\n",
      "#    ha='center', va='bottom', color=settings.COLORS[1])  \n",
      "\n",
      "ax.text(0, 1.02,'F0: {:.2f} $\\pm$ {:.2f} %'.format(p0[0]*100,u_p0[0]*100 ),ha='center', va='bottom')\n",
      "ax.text(1, 1.02,'F0: {:.2f} $\\pm$ {:.2f} %'.format(p0[1]*100,u_p0[1]*100 ),ha='center', va='bottom')\n",
      "ax.set_ylabel('Fidelity ms0')\n",
      "ax.set_ylim(0,1.1)\n",
      "if save:\n",
      "    a.save_fig_incremental_filename(fig,'random_mw_correlation_corrected')"
     ],
     "language": "python",
     "metadata": {},
     "outputs": [
      {
       "output_type": "stream",
       "stream": "stdout",
       "text": [
        "noof_rnd 0/1 events: 1159302 / 1158114\n",
        "bias toward 0 : -0.03 %  "
       ]
      },
      {
       "output_type": "stream",
       "stream": "stdout",
       "text": [
        ", error : 0.07 %\n",
        "noof syncs: 2317416\n",
        "Detected marker events 2317416 / 4000000:\n",
        "averaged RO results: F0 28.69 $\\pm$ 0.41 % "
       ]
      },
      {
       "output_type": "stream",
       "stream": "stdout",
       "text": [
        "\n",
        "number of reps with a random clk 0\n",
        "syncs without a random click: 4000000 / 4000000 = 100.00 %\n",
        "MA1 & RO0: 1074846, MA1 & RO1: 84456, MA2 & RO0: 19302, MA2 & RO1: 1138812"
       ]
      },
      {
       "output_type": "stream",
       "stream": "stdout",
       "text": [
        "\n",
        "Uncorrected: RND 0: F0 92.71%, RND 1: F0 1.67%\n"
       ]
      },
      {
       "metadata": {},
       "output_type": "display_data",
       "png": "[encoded data removed]",
       "text": [
        "<matplotlib.figure.Figure at 0x15339e30>"
       ]
      }
     ],
     "prompt_number": 24
    },
    {
     "cell_type": "code",
     "collapsed": false,
     "input": [],
     "language": "python",
     "metadata": {},
     "outputs": [],
     "prompt_number": 14
    },
    {
     "cell_type": "code",
     "collapsed": false,
     "input": [],
     "language": "python",
     "metadata": {},
     "outputs": [],
     "prompt_number": 14
    },
    {
     "cell_type": "code",
     "collapsed": false,
     "input": [],
     "language": "python",
     "metadata": {},
     "outputs": [],
     "prompt_number": 14
    },
    {
     "cell_type": "code",
     "collapsed": false,
     "input": [],
     "language": "python",
     "metadata": {},
     "outputs": []
    }
   ],
   "metadata": {}
  }
 ]
}