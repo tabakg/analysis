{
 "metadata": {
  "name": "",
  "signature": "sha256:0a69f1bb5ed65cebfb4cc83121ac6c23bb4d6f4837e35a5e94411e76a53d9f4c"
 },
 "nbformat": 3,
 "nbformat_minor": 0,
 "worksheets": [
  {
   "cells": [
    {
     "cell_type": "code",
     "collapsed": false,
     "input": [
      "import sys\n",
      "execfile(r'D:\\measuring\\analysis\\scripts\\setup_analysis.py')\n",
      "spin_photon_folder = r'P:\\BellDataLt4\\20141109'\n",
      "\n",
      "\n",
      "# Add data path\n",
      "if not spin_photon_folder in sys.path:\n",
      "    sys.path.append(spin_photon_folder)\n",
      "    \n",
      "# Add analysis path\n",
      "#if not r'K:\\ns\\qt\\Diamond\\Projects\\Bell\\Data\\2014-07-17-LDE-over-10m-XX\\analysis' in sys.path:\n",
      "#    sys.path.append(r'K:\\ns\\qt\\Diamond\\Projects\\Bell\\Data\\2014-07-17-LDE-over-10m-XX\\analysis')\n",
      "    \n",
      "\n",
      "    \n",
      "# Import all Initialization files\n",
      "execfile(r'D:\\measuring\\analysis\\lib\\bell\\Initialization_Bell.py')\n",
      "\n",
      "#folder=tb.latest_data('Bell')\n",
      "\n",
      "# Set folders\n",
      "\n",
      "Base_Folder = spin_photon_folder \n",
      "#BS_Folder = Base_Folder + '\\\\180553_Bell_BS_SPCORR_SPCORR_lt3_SSRO171801'\n",
      "LT3_Folder = Base_Folder + '\\\\152826_Bell_lt4_full_BellFirstEverLFBT_ThisTimeReally'\n",
      "\n",
      "# Get Filepaths\n",
      "#fp_BS = tb.get_all_msmt_filepaths(BS_Folder, pattern = '')\n",
      "fp_LT3 = tb.get_all_msmt_filepaths(LT3_Folder, pattern = '')\n",
      "\n",
      "#fp_LT3 = tb.get_all_msmt_filepaths(folder, pattern = 'lt3')"
     ],
     "language": "python",
     "metadata": {},
     "outputs": [
      {
       "output_type": "stream",
       "stream": "stdout",
       "text": [
        "d:\\measuring\\data\n",
        "d:\\measuring\\data\n"
       ]
      }
     ],
     "prompt_number": 5
    },
    {
     "cell_type": "code",
     "collapsed": false,
     "input": [
      "save = False\n",
      "Settings.VERBOSE = True"
     ],
     "language": "python",
     "metadata": {},
     "outputs": [],
     "prompt_number": 6
    },
    {
     "cell_type": "code",
     "collapsed": false,
     "input": [
      "num_blocks = tb.get_num_blocks(fp_LT3[0])\n",
      "print num_blocks"
     ],
     "language": "python",
     "metadata": {},
     "outputs": [
      {
       "output_type": "stream",
       "stream": "stdout",
       "text": [
        "74\n"
       ]
      }
     ],
     "prompt_number": 7
    },
    {
     "cell_type": "heading",
     "level": 1,
     "metadata": {},
     "source": [
      "PSB Tails"
     ]
    },
    {
     "cell_type": "code",
     "collapsed": false,
     "input": [
      "# Plots the PSB\n",
      "for i in range(1):#arange(b):\n",
      "    i = i + 7\n",
      "    folder, file_name = os.path.split(fp_LT3[0])\n",
      "    a = pqsequence.TailAnalysis(folder, hdf5_mode='r', pq_folder =folder)\n",
      "    pq_plots.plot_photon_hist(a.pqf,start = 10711,  length = 4100, hist_binsize = 1, index = i, save = save, log=True)"
     ],
     "language": "python",
     "metadata": {},
     "outputs": [
      {
       "metadata": {},
       "output_type": "display_data",
       "png": "[encoded data removed]",
       "text": [
        "<matplotlib.figure.Figure at 0x117b0210>"
       ]
      }
     ],
     "prompt_number": 21
    },
    {
     "cell_type": "heading",
     "level": 1,
     "metadata": {},
     "source": [
      "Settings for filtering the PSB tails"
     ]
    },
    {
     "cell_type": "code",
     "collapsed": false,
     "input": [
      "# These settings are for analysis purposes only. These are really broad windows which containt the \n",
      "# first and second tail\n",
      "Settings.first_win_min = 7550\n",
      "Settings.first_win_max = 8150\n",
      "Settings.second_win_min = 8150\n",
      "Settings.second_win_max = 8750\n",
      "\n",
      "# Set the start of the tail filter, the length of the tail, the difference between channel 0 and 1 and the difference\n",
      "# between the two tails pico seconds\n",
      "Settings.first_win_min_ch0 = 5370\n",
      "Settings.WINDOW_LENGTH = 200\n",
      "Settings.dif_ch0_ch1 = 0\n",
      "Settings.dif_win1_win2 = 600"
     ],
     "language": "python",
     "metadata": {},
     "outputs": [],
     "prompt_number": 22
    },
    {
     "cell_type": "code",
     "collapsed": false,
     "input": [
      "TS = []\n",
      "T_ph_tail_1 = []\n",
      "T_ph_tail_2 = []\n",
      "T_ph_both_tails = []\n",
      "\n",
      "TS_save = 0\n",
      "\n",
      "for i in range(num_blocks):\n",
      "    i = i + 1\n",
      "    print i\n",
      "    # This function determines the Tailcounts per shot\n",
      "    Total_shots, Tot_ph_per_shot, TC_p_shot_first_tail, TC_p_shot_second_tail, TC_p_shot =\\\n",
      "                                            pq_tools.get_combined_tail_counts_per_shot(fp_LT3[0],\n",
      "                                                                                Settings.first_win_min,\n",
      "                                                                                Settings.first_win_max,\n",
      "                                                                                Settings.second_win_min,\n",
      "                                                                                Settings.second_win_max, \n",
      "                                                                                Settings.first_win_min_ch0,\n",
      "                                                                                Settings.dif_win1_win2,\n",
      "                                                                                Settings.WINDOW_LENGTH,\n",
      "                                                                                Settings.dif_ch0_ch1,\n",
      "                                                                                index = i,\n",
      "                                                                                VERBOSE = False)\n",
      "    \n",
      "    TS.append(Total_shots-TS_save)\n",
      "    TS_save = Total_shots\n",
      "    T_ph_tail_1.append(TC_p_shot_first_tail * Total_shots)\n",
      "    T_ph_tail_2.append(TC_p_shot_second_tail * Total_shots)\n",
      "\n",
      "print \"Completed!\"\n",
      "\n",
      "#print \n",
      "#print \"The total number of shots is:\", Total_shots\n",
      "#print \"Total photon counts per shot:\", Tot_ph_per_shot/(10**(-4))\n",
      "#print \"Total combined tailcounts per shot:\", TC_p_shot/(10**(-4))\n",
      "#print \"First tail tailcounts per shot:\", TC_p_shot_first_tail/(10**(-4))\n",
      "#print \"Second tail tailcounts per shot:\", TC_p_shot_second_tail/(10**(-4))"
     ],
     "language": "python",
     "metadata": {},
     "outputs": [
      {
       "output_type": "stream",
       "stream": "stdout",
       "text": [
        "1\n",
        "2"
       ]
      },
      {
       "output_type": "stream",
       "stream": "stdout",
       "text": [
        "\n",
        "3"
       ]
      },
      {
       "output_type": "stream",
       "stream": "stdout",
       "text": [
        "\n",
        "4"
       ]
      },
      {
       "output_type": "stream",
       "stream": "stdout",
       "text": [
        "\n",
        "5"
       ]
      },
      {
       "output_type": "stream",
       "stream": "stdout",
       "text": [
        "\n",
        "6"
       ]
      },
      {
       "output_type": "stream",
       "stream": "stdout",
       "text": [
        "\n",
        "7"
       ]
      },
      {
       "output_type": "stream",
       "stream": "stdout",
       "text": [
        "\n",
        "8"
       ]
      },
      {
       "output_type": "stream",
       "stream": "stdout",
       "text": [
        "\n",
        "9"
       ]
      },
      {
       "output_type": "stream",
       "stream": "stdout",
       "text": [
        "\n",
        "10"
       ]
      },
      {
       "output_type": "stream",
       "stream": "stdout",
       "text": [
        "\n",
        "11"
       ]
      },
      {
       "output_type": "stream",
       "stream": "stdout",
       "text": [
        "\n",
        "12"
       ]
      },
      {
       "output_type": "stream",
       "stream": "stdout",
       "text": [
        "\n",
        "13"
       ]
      },
      {
       "output_type": "stream",
       "stream": "stdout",
       "text": [
        "\n",
        "14"
       ]
      },
      {
       "output_type": "stream",
       "stream": "stdout",
       "text": [
        "\n",
        "15"
       ]
      },
      {
       "output_type": "stream",
       "stream": "stdout",
       "text": [
        "\n",
        "16"
       ]
      },
      {
       "output_type": "stream",
       "stream": "stdout",
       "text": [
        "\n",
        "17"
       ]
      },
      {
       "output_type": "stream",
       "stream": "stdout",
       "text": [
        "\n",
        "18"
       ]
      },
      {
       "output_type": "stream",
       "stream": "stdout",
       "text": [
        "\n",
        "19"
       ]
      },
      {
       "output_type": "stream",
       "stream": "stdout",
       "text": [
        "\n",
        "20"
       ]
      },
      {
       "output_type": "stream",
       "stream": "stdout",
       "text": [
        "\n",
        "21"
       ]
      },
      {
       "output_type": "stream",
       "stream": "stdout",
       "text": [
        "\n",
        "22"
       ]
      },
      {
       "output_type": "stream",
       "stream": "stdout",
       "text": [
        "\n",
        "23"
       ]
      },
      {
       "output_type": "stream",
       "stream": "stdout",
       "text": [
        "\n",
        "24"
       ]
      },
      {
       "output_type": "stream",
       "stream": "stdout",
       "text": [
        "\n",
        "25"
       ]
      },
      {
       "output_type": "stream",
       "stream": "stdout",
       "text": [
        "\n",
        "26"
       ]
      },
      {
       "output_type": "stream",
       "stream": "stdout",
       "text": [
        "\n",
        "27"
       ]
      },
      {
       "output_type": "stream",
       "stream": "stdout",
       "text": [
        "\n",
        "28"
       ]
      },
      {
       "output_type": "stream",
       "stream": "stdout",
       "text": [
        "\n",
        "29"
       ]
      },
      {
       "output_type": "stream",
       "stream": "stdout",
       "text": [
        "\n",
        "30"
       ]
      },
      {
       "output_type": "stream",
       "stream": "stdout",
       "text": [
        "\n",
        "31"
       ]
      },
      {
       "output_type": "stream",
       "stream": "stdout",
       "text": [
        "\n",
        "32"
       ]
      },
      {
       "output_type": "stream",
       "stream": "stdout",
       "text": [
        "\n",
        "33"
       ]
      },
      {
       "output_type": "stream",
       "stream": "stdout",
       "text": [
        "\n",
        "34"
       ]
      },
      {
       "output_type": "stream",
       "stream": "stdout",
       "text": [
        "\n",
        "35"
       ]
      },
      {
       "output_type": "stream",
       "stream": "stdout",
       "text": [
        "\n",
        "36"
       ]
      },
      {
       "output_type": "stream",
       "stream": "stdout",
       "text": [
        "\n",
        "37"
       ]
      },
      {
       "output_type": "stream",
       "stream": "stdout",
       "text": [
        "\n",
        "38"
       ]
      },
      {
       "output_type": "stream",
       "stream": "stdout",
       "text": [
        "\n",
        "39"
       ]
      },
      {
       "output_type": "stream",
       "stream": "stdout",
       "text": [
        "\n",
        "40"
       ]
      },
      {
       "output_type": "stream",
       "stream": "stdout",
       "text": [
        "\n",
        "41"
       ]
      },
      {
       "output_type": "stream",
       "stream": "stdout",
       "text": [
        "\n",
        "42"
       ]
      },
      {
       "output_type": "stream",
       "stream": "stdout",
       "text": [
        "\n",
        "43"
       ]
      },
      {
       "output_type": "stream",
       "stream": "stdout",
       "text": [
        "\n",
        "44"
       ]
      },
      {
       "output_type": "stream",
       "stream": "stdout",
       "text": [
        "\n",
        "45"
       ]
      },
      {
       "output_type": "stream",
       "stream": "stdout",
       "text": [
        "\n",
        "46"
       ]
      },
      {
       "output_type": "stream",
       "stream": "stdout",
       "text": [
        "\n",
        "47"
       ]
      },
      {
       "output_type": "stream",
       "stream": "stdout",
       "text": [
        "\n",
        "48"
       ]
      },
      {
       "output_type": "stream",
       "stream": "stdout",
       "text": [
        "\n",
        "49"
       ]
      },
      {
       "output_type": "stream",
       "stream": "stdout",
       "text": [
        "\n",
        "50"
       ]
      },
      {
       "output_type": "stream",
       "stream": "stdout",
       "text": [
        "\n",
        "51"
       ]
      },
      {
       "output_type": "stream",
       "stream": "stdout",
       "text": [
        "\n",
        "52"
       ]
      },
      {
       "output_type": "stream",
       "stream": "stdout",
       "text": [
        "\n",
        "53"
       ]
      },
      {
       "output_type": "stream",
       "stream": "stdout",
       "text": [
        "\n",
        "54"
       ]
      },
      {
       "output_type": "stream",
       "stream": "stdout",
       "text": [
        "\n",
        "55"
       ]
      },
      {
       "output_type": "stream",
       "stream": "stdout",
       "text": [
        "\n",
        "56"
       ]
      },
      {
       "output_type": "stream",
       "stream": "stdout",
       "text": [
        "\n",
        "57"
       ]
      },
      {
       "output_type": "stream",
       "stream": "stdout",
       "text": [
        "\n",
        "58"
       ]
      },
      {
       "output_type": "stream",
       "stream": "stdout",
       "text": [
        "\n",
        "59"
       ]
      },
      {
       "output_type": "stream",
       "stream": "stdout",
       "text": [
        "\n",
        "60"
       ]
      },
      {
       "output_type": "stream",
       "stream": "stdout",
       "text": [
        "\n",
        "61"
       ]
      },
      {
       "output_type": "stream",
       "stream": "stdout",
       "text": [
        "\n",
        "62"
       ]
      },
      {
       "output_type": "stream",
       "stream": "stdout",
       "text": [
        "\n",
        "63"
       ]
      },
      {
       "output_type": "stream",
       "stream": "stdout",
       "text": [
        "\n",
        "64"
       ]
      },
      {
       "output_type": "stream",
       "stream": "stdout",
       "text": [
        "\n",
        "65"
       ]
      },
      {
       "output_type": "stream",
       "stream": "stdout",
       "text": [
        "\n",
        "66"
       ]
      },
      {
       "output_type": "stream",
       "stream": "stdout",
       "text": [
        "\n",
        "67"
       ]
      },
      {
       "output_type": "stream",
       "stream": "stdout",
       "text": [
        "\n",
        "68"
       ]
      },
      {
       "output_type": "stream",
       "stream": "stdout",
       "text": [
        "\n",
        "69"
       ]
      },
      {
       "output_type": "stream",
       "stream": "stdout",
       "text": [
        "\n",
        "70"
       ]
      },
      {
       "output_type": "stream",
       "stream": "stdout",
       "text": [
        "\n",
        "71"
       ]
      },
      {
       "output_type": "stream",
       "stream": "stdout",
       "text": [
        "\n",
        "72"
       ]
      },
      {
       "output_type": "stream",
       "stream": "stdout",
       "text": [
        "\n",
        "73"
       ]
      },
      {
       "output_type": "stream",
       "stream": "stdout",
       "text": [
        "\n",
        "74"
       ]
      },
      {
       "output_type": "stream",
       "stream": "stdout",
       "text": [
        "\n",
        "Completed!"
       ]
      },
      {
       "output_type": "stream",
       "stream": "stdout",
       "text": [
        "\n"
       ]
      }
     ],
     "prompt_number": 23
    },
    {
     "cell_type": "heading",
     "level": 2,
     "metadata": {},
     "source": [
      "Plot Total Photons"
     ]
    },
    {
     "cell_type": "code",
     "collapsed": false,
     "input": [
      "T_ph_both_tails = np.array(T_ph_tail_1) + np.array(T_ph_tail_2)\n",
      "\n",
      "\n",
      "x = linspace(1,num_blocks,num = num_blocks)\n",
      "y = T_ph_tail_1\n",
      "y1 = T_ph_tail_2\n",
      "y2 = T_ph_both_tails\n",
      "\n",
      "\n",
      "plt.plot(x, y)\n",
      "plt.plot(x,y1)\n",
      "plt.plot(x,y2)\n",
      "plt.title('Number of potons in tail vs. block ')\n",
      "plt.xlabel('Block Number')\n",
      "plt.ylabel('Number of photons')\n",
      "\n",
      "# Tweak spacing to prevent clipping of ylabel\n",
      "plt.subplots_adjust(left=0.15)\n",
      "plt.legend( ('First Tail', 'Second Tail', 'Combined Tail') )\n",
      "plt.show()"
     ],
     "language": "python",
     "metadata": {},
     "outputs": [
      {
       "metadata": {},
       "output_type": "display_data",
       "png": "[encoded data removed]",
       "text": [
        "<matplotlib.figure.Figure at 0xebf7eb0>"
       ]
      }
     ],
     "prompt_number": 24
    },
    {
     "cell_type": "heading",
     "level": 2,
     "metadata": {},
     "source": [
      "Plot Total Photons per shot"
     ]
    },
    {
     "cell_type": "code",
     "collapsed": false,
     "input": [
      "T_ph_p_shot_tail_1 = np.array(T_ph_tail_1)/np.array(TS)\n",
      "T_ph_p_shot_tail_2 = np.array(T_ph_tail_2)/np.array(TS)\n",
      "T_ph_p_shot_both_tails = T_ph_both_tails/np.array(TS)"
     ],
     "language": "python",
     "metadata": {},
     "outputs": [],
     "prompt_number": 25
    },
    {
     "cell_type": "code",
     "collapsed": false,
     "input": [
      "plt.plot(x, T_ph_p_shot_tail_1)\n",
      "plt.plot(x, T_ph_p_shot_tail_2)\n",
      "plt.plot(x, T_ph_p_shot_both_tails)\n",
      "plt.title('Number of potons per shot in tail vs. block ')\n",
      "plt.xlabel('Block Number')\n",
      "plt.ylabel('Number of photons per shot')\n",
      "\n",
      "# Tweak spacing to prevent clipping of ylabel\n",
      "plt.subplots_adjust(left=0.15)\n",
      "plt.legend( ('First Tail', 'Second Tail', 'Combined Tail') )\n",
      "plt.show()"
     ],
     "language": "python",
     "metadata": {},
     "outputs": [
      {
       "metadata": {},
       "output_type": "display_data",
       "png": "[encoded data removed]",
       "text": [
        "<matplotlib.figure.Figure at 0x12ca2430>"
       ]
      }
     ],
     "prompt_number": 26
    },
    {
     "cell_type": "code",
     "collapsed": false,
     "input": [
      "# Returns the sync numbers of the events where a photon is detected either in the first window or in the second window. \n",
      "# Events where photons in both windows are detected, are discarded.\n",
      "unique_sync_num_first_tail, unique_sync_num_second_tail, is_tail_photons = pq_tools.get_tail_filtered_ph_sync_num(fp_LT3[0],\n",
      "                                                            Settings.first_win_min_ch0,\n",
      "                                                            Settings.dif_win1_win2,\n",
      "                                                            Settings.WINDOW_LENGTH,\n",
      "                                                            Settings.dif_ch0_ch1, \n",
      "                                                            VERBOSE = Settings.VERBOSE)"
     ],
     "language": "python",
     "metadata": {},
     "outputs": [
      {
       "output_type": "stream",
       "stream": "stdout",
       "text": [
        "The total number of photons detected in the first tail is: "
       ]
      },
      {
       "output_type": "stream",
       "stream": "stdout",
       "text": [
        "61947\n",
        "The total number of photons detected in the second tail is:"
       ]
      },
      {
       "ename": "KeyboardInterrupt",
       "evalue": "",
       "output_type": "pyerr",
       "traceback": [
        "\u001b[1;31m---------------------------------------------------------------------------\u001b[0m\n\u001b[1;31mKeyboardInterrupt\u001b[0m                         Traceback (most recent call last)",
        "\u001b[1;32m<ipython-input-9-3b49a681d000>\u001b[0m in \u001b[0;36m<module>\u001b[1;34m()\u001b[0m\n\u001b[0;32m      6\u001b[0m                                                             \u001b[0mSettings\u001b[0m\u001b[1;33m.\u001b[0m\u001b[0mWINDOW_LENGTH\u001b[0m\u001b[1;33m,\u001b[0m\u001b[1;33m\u001b[0m\u001b[0m\n\u001b[0;32m      7\u001b[0m                                                             \u001b[0mSettings\u001b[0m\u001b[1;33m.\u001b[0m\u001b[0mdif_ch0_ch1\u001b[0m\u001b[1;33m,\u001b[0m\u001b[1;33m\u001b[0m\u001b[0m\n\u001b[1;32m----> 8\u001b[1;33m                                                             VERBOSE = Settings.VERBOSE)\n\u001b[0m",
        "\u001b[1;32mH:\\My Documents\\MEP\\Analysis Scripts\\analysis\\lib\\pq\\pq_tools.pyc\u001b[0m in \u001b[0;36mget_tail_filtered_ph_sync_num\u001b[1;34m(pqf, first_win_min_ch0, dif_win1_win2, window_length, dif_ch0_ch1, index, VERBOSE)\u001b[0m\n\u001b[0;32m    411\u001b[0m                                                                        \u001b[0mwindow_length\u001b[0m\u001b[1;33m,\u001b[0m\u001b[1;33m\u001b[0m\u001b[0m\n\u001b[0;32m    412\u001b[0m                                                                        \u001b[0mdif_ch0_ch1\u001b[0m\u001b[1;33m,\u001b[0m\u001b[1;33m\u001b[0m\u001b[0m\n\u001b[1;32m--> 413\u001b[1;33m                                                                        VERBOSE = VERBOSE)\n\u001b[0m\u001b[0;32m    414\u001b[0m \u001b[1;33m\u001b[0m\u001b[0m\n\u001b[0;32m    415\u001b[0m \u001b[1;33m\u001b[0m\u001b[0m\n",
        "\u001b[1;32mH:\\My Documents\\MEP\\Analysis Scripts\\analysis\\lib\\pq\\pq_tools.pyc\u001b[0m in \u001b[0;36mget_tail_filtered_photons\u001b[1;34m(pqf, first_win_min_ch0, dif_win1_win2, window_length, dif_ch0_ch1, index, VERBOSE)\u001b[0m\n\u001b[0;32m    297\u001b[0m     \u001b[1;32mif\u001b[0m \u001b[0mVERBOSE\u001b[0m\u001b[1;33m:\u001b[0m\u001b[1;33m\u001b[0m\u001b[0m\n\u001b[0;32m    298\u001b[0m         \u001b[1;32mprint\u001b[0m \u001b[1;34m\"The total number of photons detected in the first tail is:\"\u001b[0m\u001b[1;33m,\u001b[0m \u001b[0msum\u001b[0m\u001b[1;33m(\u001b[0m\u001b[0mis_ph_first_tail\u001b[0m\u001b[1;33m)\u001b[0m\u001b[1;33m\u001b[0m\u001b[0m\n\u001b[1;32m--> 299\u001b[1;33m         \u001b[1;32mprint\u001b[0m \u001b[1;34m\"The total number of photons detected in the second tail is:\"\u001b[0m\u001b[1;33m,\u001b[0m \u001b[0msum\u001b[0m\u001b[1;33m(\u001b[0m\u001b[0mis_ph_second_tail\u001b[0m\u001b[1;33m)\u001b[0m\u001b[1;33m\u001b[0m\u001b[0m\n\u001b[0m\u001b[0;32m    300\u001b[0m \u001b[1;33m\u001b[0m\u001b[0m\n\u001b[0;32m    301\u001b[0m     \u001b[1;32mreturn\u001b[0m \u001b[0mis_ph_first_tail\u001b[0m\u001b[1;33m,\u001b[0m \u001b[0mis_ph_second_tail\u001b[0m\u001b[1;33m\u001b[0m\u001b[0m\n",
        "\u001b[1;31mKeyboardInterrupt\u001b[0m: "
       ]
      }
     ],
     "prompt_number": 9
    },
    {
     "cell_type": "heading",
     "level": 1,
     "metadata": {},
     "source": [
      "Fast SSRO Analysis"
     ]
    },
    {
     "cell_type": "code",
     "collapsed": false,
     "input": [
      "# Set start of the Read Out window\n",
      "RO_start = 10483\n",
      "RO_length = 3000"
     ],
     "language": "python",
     "metadata": {},
     "outputs": []
    },
    {
     "cell_type": "code",
     "collapsed": false,
     "input": [
      "# Returns a list with the sync numbers of the events that have at least one photon in the time from the readout start, \n",
      "# which is set above, until the readout end. The length of the readout is taken from the data.\n",
      "\n",
      "sync_num_ph_events, is_ph_in_ro_window, sync_num = ssro.sync_num_fast_SSRO_ph_events(fp_LT3[0], RO_start, RO_length)"
     ],
     "language": "python",
     "metadata": {},
     "outputs": [
      {
       "output_type": "stream",
       "stream": "stdout",
       "text": [
        "The total number of events for which a photon was read out is: 581408\n",
        "The total number of photons that are readout for these events: "
       ]
      },
      {
       "output_type": "stream",
       "stream": "stdout",
       "text": [
        "4013723\n",
        "The average amount of photons detected for each sync number is: "
       ]
      },
      {
       "output_type": "stream",
       "stream": "stdout",
       "text": [
        "6.90345334086\n"
       ]
      }
     ],
     "prompt_number": 88
    },
    {
     "cell_type": "code",
     "collapsed": false,
     "input": [
      "# Create filter that shows which readout photons are used, use for sanity check\n",
      "is_window_cor_1 = np.in1d(sync_num, unique_sync_num_first_tail)\n",
      "is_window_cor_2 = np.in1d(sync_num, unique_sync_num_second_tail)\n",
      "is_cor_RO = (is_window_cor_1 | is_window_cor_2) & is_ph_in_ro_window\n",
      "\n",
      "# Check which photons are used for SSRO are in the RO window \n",
      "folder, file_name = os.path.split(fp_LT3[0])\n",
      "a = pqsequence.TailAnalysis(folder, hdf5_mode='r', pq_folder =folder)\n",
      "pq_plots.plot_photon_hist_filter_comparison(a.pqf,is_cor_RO,start = RO_start, length = 6000, hist_binsize = 1, save = False, log=True)"
     ],
     "language": "python",
     "metadata": {},
     "outputs": [
      {
       "metadata": {},
       "output_type": "pyout",
       "prompt_number": 89,
       "text": [
        "(<matplotlib.figure.Figure at 0xcaeee90>,\n",
        " (<matplotlib.axes.AxesSubplot at 0xcaeeab0>,\n",
        "  <matplotlib.axes.AxesSubplot at 0x16865350>))"
       ]
      },
      {
       "metadata": {},
       "output_type": "display_data",
       "png": "[encoded data removed]",
       "text": [
        "<matplotlib.figure.Figure at 0xcaeee90>"
       ]
      }
     ],
     "prompt_number": 89
    },
    {
     "cell_type": "code",
     "collapsed": false,
     "input": [
      "# Define filters for the window correlations\n",
      "is_1st_window_cor = np.in1d(unique_sync_num_first_tail, sync_num_ph_events)\n",
      "is_2nd_window_cor = np.in1d(unique_sync_num_second_tail, sync_num_ph_events)\n",
      "\n",
      "# Calculate the total number of tail events and the the total number of events with a photon in the readout\n",
      "Tot_ev_1st_window = len(unique_sync_num_first_tail)\n",
      "Tot_ev_2nd_window = len(unique_sync_num_second_tail)\n",
      "Tot_ev_1st_window_with_RO_ph = sum(is_1st_window_cor)\n",
      "Tot_ev_2nd_window_with_RO_ph = sum(is_2nd_window_cor)\n",
      "\n",
      "\n",
      "if Settings.VERBOSE:\n",
      "    print \"The total number of events from the first window for which at least on photon is detected in the SSRO is:\", Tot_ev_1st_window_with_RO_ph\n",
      "    print \"This is \", float(Tot_ev_1st_window_with_RO_ph)/Tot_ev_1st_window,\" of the total number of events in the first window\"\n",
      "    print\n",
      "    print \"The total number of events from the second window for which at least on photon is detected in the SSRO is:\", Tot_ev_2nd_window_with_RO_ph\n",
      "    print \"This is \", float(Tot_ev_2nd_window_with_RO_ph)/Tot_ev_2nd_window,\" of the total number of events in the second window\"\n"
     ],
     "language": "python",
     "metadata": {},
     "outputs": [
      {
       "output_type": "stream",
       "stream": "stdout",
       "text": [
        "The total number of events from the first window for which at least on photon is detected in the SSRO is: 342\n",
        "This is  0.0218670076726  of the total number of events in the first window\n",
        "\n",
        "The total number of events from the second window for which at least on photon is detected in the SSRO is: 16658\n",
        "This is  0.953574904116  of the total number of events in the second window\n"
       ]
      }
     ],
     "prompt_number": 90
    },
    {
     "cell_type": "code",
     "collapsed": false,
     "input": [
      "# Set Readout_fidelities \n",
      "f_ms0 = 0.9566\n",
      "u_f_ms0 = 0.0005 # Find out?\n",
      "f_ms1 = 0.9868\n",
      "u_f_ms1 = 0.0005 # Find out?"
     ],
     "language": "python",
     "metadata": {},
     "outputs": [],
     "prompt_number": 91
    },
    {
     "cell_type": "code",
     "collapsed": false,
     "input": [
      "# P_ms1 generally stands for the probability to measure ms=1\n",
      "# P_photon is the probability for getting a photon\n",
      "\n",
      "win1_P_photon = float(Tot_ev_1st_window_with_RO_ph)/Tot_ev_1st_window\n",
      "u_win1_P_photon = sqrt(win1_P_photon * (1.-win1_P_photon)/Tot_ev_1st_window)\n",
      "\n",
      "win2_P_photon = float(Tot_ev_2nd_window_with_RO_ph)/Tot_ev_2nd_window\n",
      "u_win2_P_photon = sqrt(win2_P_photon * (1.-win2_P_photon)/Tot_ev_2nd_window)\n",
      "\n",
      "fig, (ax, ax_corr) = subplots(1,2, figsize=(11,4),\n",
      "                              sharex=True, sharey=True)\n",
      "\n",
      "### uncorrected for e-SSRO\n",
      "ax.bar(range(2), [win1_P_photon, win2_P_photon], color=['r', 'r'],\n",
      "       align='center', yerr=[u_win1_P_photon, u_win2_P_photon], ecolor='k',\n",
      "       width=0.8)\n",
      "\n",
      "ax.set_xlim(-0.5,1.5)\n",
      "ax.set_ylim(-0.05, 1.15)\n",
      "\n",
      "ax.set_ylabel('P ($m_s =\\, 0$)')\n",
      "\n",
      "ax.set_xticks([0,1])\n",
      "ax.set_xticklabels(['Photon in 1st window \\n ({})'.format(len(unique_sync_num_first_tail)),\n",
      "                    'Photon in 2nd window \\n ({})'.format(len(unique_sync_num_second_tail))])\n",
      "ax.axvline(0.5, c='k', ls='--')\n",
      "ax.axhline(0, c='k', ls=':')\n",
      "ax.axhline(1, c='k', ls=':')\n",
      "\n",
      "ax.text(0, win1_P_photon + 0.05, \"{:.1f} $\\pm$ {:.1f} %\".format(win1_P_photon*100, u_win1_P_photon*100),\n",
      "        va='bottom', ha='center',\n",
      "        bbox = {'facecolor' : 'white', 'alpha' : 0.5})\n",
      "ax.text(1, win2_P_photon + 0.05, \"{:.1f} $\\pm$ {:.1f} %\".format(win2_P_photon*100, u_win2_P_photon*100),\n",
      "        va='bottom', ha='center',\n",
      "        bbox = {'facecolor' : 'white', 'alpha' : 0.5})\n",
      "ax.set_title('Uncorrected readout')\n",
      "\n",
      "### corrected for e-SSRO\n",
      "\n",
      "\n",
      "ssro_fids = [f_ms0, u_f_ms0, f_ms1, u_f_ms1]\n",
      "\n",
      "\n",
      "win1_P0, u_win1_P0 = roc.single_qubit_outcome_with_ROC_from_fraction(win1_P_photon, u_win1_P_photon, \n",
      "                                                                     *ssro_fids)\n",
      "win2_P0, u_win2_P0 = roc.single_qubit_outcome_with_ROC_from_fraction(win2_P_photon, u_win2_P_photon,\n",
      "                                                                     *ssro_fids)\n",
      "    \n",
      "\n",
      "\n",
      "ax_corr.bar(range(2), [win1_P0, win2_P0], color=['b','b'],\n",
      "       align='center', yerr=[u_win1_P0, u_win2_P0], ecolor='k',\n",
      "       width=0.8)\n",
      "ax_corr.axvline(0.5, c='k', ls='--')\n",
      "ax_corr.axhline(0, c='k', ls=':')\n",
      "ax_corr.axhline(1, c='k', ls=':')\n",
      "\n",
      "ax_corr.text(0, win1_P0 + 0.05, \"{:.1f} $\\pm$ {:.1f} %\".format(win1_P0*100, u_win1_P0*100),\n",
      "        va='bottom', ha='center',\n",
      "        bbox = {'facecolor' : 'white', 'alpha' : 0.5})\n",
      "ax_corr.text(1, win2_P0 + 0.05, \"{:.1f} $\\pm$ {:.1f} %\".format(win2_P0*100, u_win2_P0*100),\n",
      "        va='bottom', ha='center',\n",
      "        bbox = {'facecolor' : 'white', 'alpha' : 0.5})\n",
      "ax_corr.set_title('Corrected readout \\n '+a.timestamp)\n",
      "#fig.savefig(os.path.join(folder, 'Spin-photon_correlations.png'))"
     ],
     "language": "python",
     "metadata": {},
     "outputs": [
      {
       "metadata": {},
       "output_type": "pyout",
       "prompt_number": 92,
       "text": [
        "<matplotlib.text.Text at 0xcf17db0>"
       ]
      },
      {
       "metadata": {},
       "output_type": "display_data",
       "png": "[encoded data removed]",
       "text": [
        "<matplotlib.figure.Figure at 0x16ed47d0>"
       ]
      }
     ],
     "prompt_number": 92
    },
    {
     "cell_type": "code",
     "collapsed": false,
     "input": [],
     "language": "python",
     "metadata": {},
     "outputs": [],
     "prompt_number": 92
    },
    {
     "cell_type": "code",
     "collapsed": false,
     "input": [],
     "language": "python",
     "metadata": {},
     "outputs": []
    }
   ],
   "metadata": {}
  }
 ]
}