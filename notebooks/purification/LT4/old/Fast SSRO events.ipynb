{
 "metadata": {
  "name": "",
  "signature": "sha256:7e592c475ab17813cb3eddf6944f9c310098e34f3492b4fa88b92a321a2abeb2"
 },
 "nbformat": 3,
 "nbformat_minor": 0,
 "worksheets": [
  {
   "cells": [
    {
     "cell_type": "code",
     "collapsed": false,
     "input": [
      "execfile(r'D:\\measuring\\analysis\\scripts\\setup_analysis.py')\n",
      "execfile(r'D:\\measuring\\analysis\\scripts\\bell\\Initialization_Bell.py')\n",
      "\n",
      "Bell_folder = r'D:\\measuring\\data\\20141117'\n",
      "#131817_Bell_lt4_full_Belllhfbt_day3_run1\n",
      "\n",
      "# Set folders\n",
      "Base_Folder = Bell_folder\n",
      "LT3_Folder = Base_Folder \n",
      "\n",
      "fp_LT3 = tb.get_all_msmt_filepaths(LT3_Folder,pattern = '192921_Bell_lt4_full_Belllhfbt_day5_run5')\n",
      "fp_all = tb.get_all_msmt_filepaths(Base_Folder, pattern = 'run5')\n",
      "\n",
      "fp_base_folder = tb.get_all_msmt_filepaths(Base_Folder, pattern = 'SSRO')\n",
      "\n",
      "print fp_all"
     ],
     "language": "python",
     "metadata": {},
     "outputs": [
      {
       "output_type": "stream",
       "stream": "stdout",
       "text": [
        "d:\\measuring\\data\n",
        "d:\\measuring\\data\n",
        "['D:\\\\measuring\\\\data\\\\20141117\\\\192057_Bell_lt4_full_Belllhfbt_day5_run5\\\\192057_Bell_lt4_full_Belllhfbt_day5_run5.hdf5', 'D:\\\\measuring\\\\data\\\\20141117\\\\192921_Bell_lt4_full_Belllhfbt_day5_run5\\\\192921_Bell_lt4_full_Belllhfbt_day5_run5.hdf5']"
       ]
      },
      {
       "output_type": "stream",
       "stream": "stdout",
       "text": [
        "\n"
       ]
      }
     ],
     "prompt_number": 3
    },
    {
     "cell_type": "code",
     "collapsed": false,
     "input": [
      "print fp_LT3\n",
      "\n"
     ],
     "language": "python",
     "metadata": {},
     "outputs": [
      {
       "output_type": "stream",
       "stream": "stdout",
       "text": [
        "['D:\\\\measuring\\\\data\\\\20141117\\\\192921_Bell_lt4_full_Belllhfbt_day5_run5\\\\192921_Bell_lt4_full_Belllhfbt_day5_run5.hdf5']\n"
       ]
      }
     ],
     "prompt_number": 32
    },
    {
     "cell_type": "code",
     "collapsed": false,
     "input": [
      "for i in range(10):\n",
      "    print len(fp_all)\n",
      "    for i,j in enumerate(fp_all):\n",
      "        if 'ME' in j:\n",
      "            print j\n",
      "            fp_all.remove(j)\n",
      "        if '134427_Bell_lt4_full_Belllhfbt_day6_run4' in j:\n",
      "            fp_all.remove(j)\n",
      "        if '145900_Bell_lt4_full_Belllhfbt_day6_run6' in j:\n",
      "            fp_all.remove(j)\n",
      "        if '172352_Bell_lt4_full_Belllhfbt_day4_run7' in j:\n",
      "            fp_all.remove(j)\n",
      "        if '160446_Bell_lt4_full_Belllhfbt_day3_run5' in j:\n",
      "            fp_all.remove(j)\n",
      "        if '211520_Bell_lt4_full_Belllhfbt_day3_run10' in j:\n",
      "            fp_all.remove(j)\n",
      "        if '223647_Bell_lt4_full_Belllhfbt_day3_run11' in j:\n",
      "            fp_all.remove(j)\n",
      "        if '230142_Bell_lt4_full_Belllhfbt_day3_run12' in j:\n",
      "            fp_all.remove(j)\n",
      "        if '234349_Bell_lt4_full_Belllhfbt_day3_run13' in j:\n",
      "            fp_all.remove(j)\n",
      "        if '235638_Bell_lt4_full_Belllhfbt_day3_run14' in j:\n",
      "            fp_all.remove(j)\n",
      "        if '163853_Bell_lt4_full_BellFirstEverLFBT_Run2' in j:\n",
      "            fp_all.remove(j)\n",
      "\n"
     ],
     "language": "python",
     "metadata": {},
     "outputs": [
      {
       "output_type": "stream",
       "stream": "stdout",
       "text": [
        "2\n",
        "2\n",
        "2\n",
        "2\n",
        "2\n",
        "2\n",
        "2\n",
        "2\n",
        "2\n",
        "2\n"
       ]
      }
     ],
     "prompt_number": 4
    },
    {
     "cell_type": "code",
     "collapsed": false,
     "input": [
      "print fp_all"
     ],
     "language": "python",
     "metadata": {},
     "outputs": [
      {
       "output_type": "stream",
       "stream": "stdout",
       "text": [
        "['D:\\\\measuring\\\\data\\\\20141117\\\\192057_Bell_lt4_full_Belllhfbt_day5_run5\\\\192057_Bell_lt4_full_Belllhfbt_day5_run5.hdf5', 'D:\\\\measuring\\\\data\\\\20141117\\\\192921_Bell_lt4_full_Belllhfbt_day5_run5\\\\192921_Bell_lt4_full_Belllhfbt_day5_run5.hdf5']\n"
       ]
      }
     ],
     "prompt_number": 5
    },
    {
     "cell_type": "heading",
     "level": 1,
     "metadata": {},
     "source": [
      "Get marked SSRO events"
     ]
    },
    {
     "cell_type": "heading",
     "level": 2,
     "metadata": {},
     "source": [
      "LT3"
     ]
    },
    {
     "cell_type": "code",
     "collapsed": false,
     "input": [
      "# Set settings SSRO filtereing\n",
      "marker_chan = 4\n",
      "channel_rnd_0 = 1\n",
      "channel_rnd_1 = 2\n",
      "RO_start = 10711\n",
      "RO_length = 4100\n",
      "sync_time_lim = 15000\n",
      "save =True"
     ],
     "language": "python",
     "metadata": {},
     "outputs": [],
     "prompt_number": 6
    },
    {
     "cell_type": "code",
     "collapsed": false,
     "input": [
      "# Plot PSB with SSRO filtering settings\n",
      "for i in range(1):#arange(b):\n",
      "    print fp_all[-1]\n",
      "    folder, file_name = os.path.split(fp_all[-1])\n",
      "    a = pqsequence.TailAnalysis(folder, hdf5_mode='r', pq_folder =folder)\n",
      "    pq_plots.plot_photon_hist(a.pqf,start = 0,  length = 16000, hist_binsize = 1, save = False, log=True)"
     ],
     "language": "python",
     "metadata": {},
     "outputs": [
      {
       "output_type": "stream",
       "stream": "stdout",
       "text": [
        "D:\\measuring\\data\\20141117\\192921_Bell_lt4_full_Belllhfbt_day5_run5\\192921_Bell_lt4_full_Belllhfbt_day5_run5.hdf5\n"
       ]
      },
      {
       "metadata": {},
       "output_type": "display_data",
       "png": "[encoded data removed]",
       "text": [
        "<matplotlib.figure.Figure at 0xf0f2cf0>"
       ]
      }
     ],
     "prompt_number": 10
    },
    {
     "cell_type": "code",
     "collapsed": false,
     "input": [
      "print \"The number of runs is:\", len(fp_all)\n",
      "for i in range(len(fp_LT3)):\n",
      "    i = i\n",
      "    print \"Run\", i+1\n",
      "    \n",
      "    date, name = os.path.split(tb.get_msmt_header(fp_LT3[i]))\n",
      "    save_name = '\\ME_' + name\n",
      "\n",
      "    Total_SSRO_events, _a, PQ_sync_number, PQ_special, PQ_sync_time, PQ_time, PQ_channel\\\n",
      "        = Events.get_total_SSRO_events(fp_LT3[i],\n",
      "                                       RO_start,\n",
      "                                       RO_length,\n",
      "                                       marker_chan,\n",
      "                                       channel_rnd_0,\n",
      "                                       channel_rnd_1,\n",
      "                                       sync_time_lim,\n",
      "                                       VERBOSE = False)    \n",
      "\n",
      "    # Checks if there already is a file in which the data analysis can be saved and if not makes it    \n",
      "    if not tb.has_data(Base_Folder +  save_name + '.hdf5',save_name):\n",
      "        f = h5py.File(Base_Folder  + save_name + '.hdf5', 'a')\n",
      "        f.close\n",
      "\n",
      "    # Saves total entanglement data and saves attributes depending on how they come out of the retrieved data\n",
      "    if save:\n",
      "        print 'now saving' \n",
      "        tb.clear_analysis_data(Base_Folder + save_name + '.hdf5')\n",
      "        tb.set_analysis_data(Base_Folder + save_name + '.hdf5',\n",
      "                                 'Total_SSRO_events',\n",
      "                                 Total_SSRO_events,\n",
      "                                 _a) \n",
      "\n",
      "        tb.clear_raw_data(Base_Folder + save_name + '.hdf5', 'PQ_sync_number')\n",
      "        tb.clear_raw_data(Base_Folder + save_name + '.hdf5', 'PQ_special')\n",
      "        tb.clear_raw_data(Base_Folder + save_name + '.hdf5', 'PQ_sync_time')\n",
      "        tb.clear_raw_data(Base_Folder + save_name + '.hdf5', 'PQ_channel')\n",
      "        tb.clear_raw_data(Base_Folder + save_name + '.hdf5', 'PQ_time')\n",
      "\n",
      "\n",
      "        tb.set_raw_data(Base_Folder + save_name + '.hdf5', 'PQ_sync_number', PQ_sync_number)\n",
      "        tb.set_raw_data(Base_Folder + save_name + '.hdf5', 'PQ_special', PQ_special)\n",
      "        tb.set_raw_data(Base_Folder + save_name + '.hdf5', 'PQ_sync_time', PQ_sync_time)\n",
      "        tb.set_raw_data(Base_Folder + save_name + '.hdf5', 'PQ_channel', PQ_channel)\n",
      "        tb.set_raw_data(Base_Folder + save_name + '.hdf5', 'PQ_time', PQ_time)\n",
      "\n",
      "\n",
      "    print\n",
      "    print 'Found {} valid entanglement events in all runs.'.format(int(len(Total_SSRO_events)))\n",
      "    print '===================================='\n",
      "    print\n",
      "\n"
     ],
     "language": "python",
     "metadata": {},
     "outputs": [
      {
       "output_type": "stream",
       "stream": "stdout",
       "text": [
        "The number of runs is: 2\n",
        "Run 1\n",
        "The total number of blocks is:"
       ]
      },
      {
       "output_type": "stream",
       "stream": "stdout",
       "text": [
        " 36\n",
        "\n"
       ]
      },
      {
       "output_type": "stream",
       "stream": "stdout",
       "text": [
        "Found 4 valid marked SSRO events in all blocks\n",
        "====================================\n",
        "\n",
        "now saving\n",
        "\n",
        "Found 4 valid entanglement events in all runs.\n",
        "====================================\n",
        "\n"
       ]
      }
     ],
     "prompt_number": 34
    },
    {
     "cell_type": "code",
     "collapsed": false,
     "input": [
      "if not tb.has_data(LT3_Folder+'\\Total_SSRO_events.hdf5','Total_SSRO_events'):\n",
      "    f = h5py.File(LT3_Folder+'\\Total_SSRO_events.hdf5', 'a')\n",
      "    f.close\n",
      "       \n",
      "# Saves total entanglement data and saves attributes depending on how they come out of the retrieved data\n",
      "if save:\n",
      "    tb.clear_analysis_data(LT3_Folder + '\\Total_SSRO_events.hdf5')\n",
      "    tb.set_analysis_data(LT3_Folder + '\\Total_SSRO_events.hdf5',\n",
      "                             'Total_SSRO_events',\n",
      "                             Total_SSRO_events,\n",
      "                             _a) \n",
      "    \n",
      "    tb.clear_raw_data(LT3_Folder + '\\Total_SSRO_events.hdf5', 'PQ_sync_number')\n",
      "    tb.clear_raw_data(LT3_Folder + '\\Total_SSRO_events.hdf5', 'PQ_special')\n",
      "    tb.clear_raw_data(LT3_Folder + '\\Total_SSRO_events.hdf5', 'PQ_sync_time')\n",
      "    tb.clear_raw_data(LT3_Folder + '\\Total_SSRO_events.hdf5', 'PQ_channel')\n",
      "    tb.clear_raw_data(LT3_Folder + '\\Total_SSRO_events.hdf5', 'PQ_time')\n",
      "    \n",
      "\n",
      "    tb.set_raw_data(LT3_Folder + '\\Total_SSRO_events.hdf5', 'PQ_sync_number', PQ_sync_number)\n",
      "    tb.set_raw_data(LT3_Folder + '\\Total_SSRO_events.hdf5', 'PQ_special', PQ_special)\n",
      "    tb.set_raw_data(LT3_Folder + '\\Total_SSRO_events.hdf5', 'PQ_sync_time', PQ_sync_time)\n",
      "    tb.set_raw_data(LT3_Folder + '\\Total_SSRO_events.hdf5', 'PQ_channel', PQ_channel)\n",
      "    tb.set_raw_data(LT3_Folder + '\\Total_SSRO_events.hdf5', 'PQ_time', PQ_time)\n",
      "\n",
      "       \n",
      "print\n",
      "print 'Found {} valid entanglement events in all runs.'.format(int(len(Total_SSRO_events)))\n",
      "print '===================================='\n",
      "print"
     ],
     "language": "python",
     "metadata": {},
     "outputs": []
    },
    {
     "cell_type": "heading",
     "level": 2,
     "metadata": {},
     "source": [
      "LT4"
     ]
    },
    {
     "cell_type": "code",
     "collapsed": false,
     "input": [
      "marker_chan = 4\n",
      "channel_rnd_0 = 1\n",
      "channel_rnd_1 = 2\n",
      "RO_start = 10483\n",
      "sync_time_lim = 15000\n",
      "save = True\n",
      "\n",
      "Total_SSRO_events, _a = Events.get_total_SSRO_events(fp_LT4[0], RO_start, marker_chan, channel_rnd_0, channel_rnd_1, sync_time_lim, VERBOSE = False)    \n",
      "    \n",
      "# Checks if there already is a file in which the data analysis can be saved and if not makes it    \n",
      "if not tb.has_data(Base_Folder+'\\Total_SSRO_events.hdf5','Total_SSRO_events'):\n",
      "    f = h5py.File(Base_Folder+'\\Total_SSRO_events.hdf5', 'a')\n",
      "    f.close\n",
      "       \n",
      "# Saves total entanglement data and saves attributes depending on how they come out of the retrieved data\n",
      "if save:\n",
      "    tb.clear_analysis_data(LT4_Folder + '\\Total_SSRO_events.hdf5')\n",
      "    tb.set_analysis_data(LT4_Folder + '\\Total_SSRO_events.hdf5',\n",
      "                             'Total_SSRO_events',\n",
      "                             Total_SSRO_events,\n",
      "                             _a) \n",
      "\n",
      "       \n",
      "print\n",
      "print 'Found {} valid entanglement events in all runs.'.format(int(len(Total_SSRO_events)))\n",
      "print '===================================='\n",
      "print\n",
      "    \n"
     ],
     "language": "python",
     "metadata": {},
     "outputs": [
      {
       "output_type": "stream",
       "stream": "stdout",
       "text": [
        "\n",
        "Found 5 valid entanglement events in all runs.\n",
        "====================================\n",
        "\n"
       ]
      }
     ],
     "prompt_number": 5
    },
    {
     "cell_type": "heading",
     "level": 2,
     "metadata": {},
     "source": [
      "Random Number Checks"
     ]
    },
    {
     "cell_type": "code",
     "collapsed": false,
     "input": [
      "tev, test = tb.get_analysis_data(fp_base_folder[0], 'Total_SSRO_events')\n",
      "Random_numbers = tev[:,3]\n",
      "Blocks = Random_checks.get_list_block_sizes(Random_numbers)"
     ],
     "language": "python",
     "metadata": {},
     "outputs": [],
     "prompt_number": 5
    },
    {
     "cell_type": "code",
     "collapsed": false,
     "input": [
      "num_bins = 20\n",
      "\n",
      "bins = range(num_bins)\n",
      "y, binedges =  np.histogram(Blocks, bins)\n",
      "x = range(num_bins-1)\n",
      "\n",
      "save_num = 2\n",
      "begin = True\n",
      "indices = []\n",
      "\n",
      "for i,j in enumerate(y):\n",
      "    if j == 0:\n",
      "        if i != save_num + 1:\n",
      "            if begin:\n",
      "                indices.append(i+1)\n",
      "                begin = False\n",
      "                save_nume = i\n",
      "            else:\n",
      "                indices.append(i)\n",
      "                begin = True\n",
      "                save_num = i\n",
      "\n",
      "for i in range(len(indices)/2):\n",
      "    if i == 0:\n",
      "        start = indices[(2*i)]\n",
      "        stop = indices[(2*i)+1]\n",
      "        y1 = y[start:stop]\n",
      "        x1 = x[start:stop]\n",
      "    else:\n",
      "        start = indices[(2*i)]\n",
      "        stop = indices[(2*i)+1]\n",
      "        y1 = np.hstack((y1,y[start:stop]))\n",
      "        x1.extend(x[start:stop])\n",
      "\n",
      "\n",
      "fig, ax = plt.subplots()\n",
      "\n",
      "ax.plot(x1,y1,'bo-')\n",
      "ax.set_xlabel('Block Length (in bits)')\n",
      "ax.set_ylabel('Occurence')\n",
      "ax.set_xlim(0,17)\n",
      "\n",
      "ax.set_yscale('log')\n",
      "\n",
      "plt.draw()\n",
      "plt.show()"
     ],
     "language": "python",
     "metadata": {},
     "outputs": [
      {
       "metadata": {},
       "output_type": "display_data",
       "png": "[encoded data removed]",
       "text": [
        "<matplotlib.figure.Figure at 0x9b73630>"
       ]
      }
     ],
     "prompt_number": 31
    },
    {
     "cell_type": "code",
     "collapsed": false,
     "input": [
      "RN = (Random_numbers * 2) -1 \n",
      "result, result2 = Random_checks.autocorr(RN)\n",
      "print result\n",
      "print len(Random_numbers)\n"
     ],
     "language": "python",
     "metadata": {},
     "outputs": [
      {
       "output_type": "stream",
       "stream": "stdout",
       "text": [
        "14099\n",
        "[-1. -2. -1. ..., -1. -2. -1.]\n",
        "7050\n"
       ]
      }
     ],
     "prompt_number": 6
    },
    {
     "cell_type": "code",
     "collapsed": false,
     "input": [
      "x = range(len(result))\n",
      "y = result\n",
      "\n",
      "fig, ax = plt.subplots()\n",
      "\n",
      "ax.plot(x,y,'b-')\n",
      "ax.set_xlabel('# of bits')\n",
      "ax.set_ylabel('Autocorrelation')\n",
      "#ax.set_xlim(0,17)\n",
      "\n",
      "#ax.set_yscale('log')\n",
      "\n",
      "plt.draw()\n",
      "plt.show()"
     ],
     "language": "python",
     "metadata": {},
     "outputs": [
      {
       "metadata": {},
       "output_type": "display_data",
       "png": "[encoded data removed]",
       "text": [
        "<matplotlib.figure.Figure at 0xa4f12f0>"
       ]
      }
     ],
     "prompt_number": 11
    },
    {
     "cell_type": "code",
     "collapsed": false,
     "input": [
      "x = range(len(result2))\n",
      "y = result2\n",
      "\n",
      "fig, ax = plt.subplots()\n",
      "\n",
      "ax.plot(x,y,'bo')\n",
      "ax.set_xlabel('# of bits')\n",
      "ax.set_ylabel('Autocorrelation')\n",
      "#ax.set_xlim(0,17) \n",
      "\n",
      "#ax.set_yscale('log')\n",
      "\n",
      "plt.draw()\n",
      "plt.show()"
     ],
     "language": "python",
     "metadata": {},
     "outputs": [
      {
       "metadata": {},
       "output_type": "display_data",
       "png": "[encoded data removed]",
       "text": [
        "<matplotlib.figure.Figure at 0x7c773d0>"
       ]
      }
     ],
     "prompt_number": 15
    },
    {
     "cell_type": "code",
     "collapsed": false,
     "input": [],
     "language": "python",
     "metadata": {},
     "outputs": []
    }
   ],
   "metadata": {}
  }
 ]
}