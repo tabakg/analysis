{
 "metadata": {
  "name": "",
  "signature": "sha256:c7a394d5cc299654baca811baa594acb696a4f8570d25ae5b35a3a71b721ecba"
 },
 "nbformat": 3,
 "nbformat_minor": 0,
 "worksheets": [
  {
   "cells": [
    {
     "cell_type": "code",
     "collapsed": false,
     "input": [
      "execfile(r'D:\\measuring\\analysis\\scripts\\setup_analysis.py')\n",
      "# Import all Initialization files\n",
      "\n",
      "execfile(r'D:\\measuring\\analysis\\scripts\\bell\\Initialization_Bell.py')\n",
      "\n",
      "# Set folders\n",
      "\n",
      "BS_Folder = tb.latest_data('Bell',folder='X:\\data')\n",
      "LT3_Folder = tb.latest_data('Bell')\n",
      "\n",
      "# Get Filepaths\n",
      "fp_BS = tb.get_all_msmt_filepaths(BS_Folder, pattern = '')\n",
      "fp_LT3 = tb.get_all_msmt_filepaths(LT3_Folder, pattern = '')\n",
      "print fp_BS\n",
      "print fp_LT3"
     ],
     "language": "python",
     "metadata": {},
     "outputs": [
      {
       "output_type": "stream",
       "stream": "stdout",
       "text": [
        "d:\\measuring\\data\n",
        "d:\\measuring\\data\n",
        "['X:\\\\data\\\\20150303\\\\174448_Bell_BS_SPCORR_SPCORR_ZPL\\\\174448_Bell_BS_SPCORR_SPCORR_ZPL.hdf5']\n",
        "['d:\\\\measuring\\\\data\\\\20150303\\\\174616_Bell_lt4_SPCORR_SPCORR_ZPL\\\\174616_Bell_lt4_SPCORR_SPCORR_ZPL.hdf5']\n"
       ]
      }
     ],
     "prompt_number": 5
    },
    {
     "cell_type": "heading",
     "level": 1,
     "metadata": {},
     "source": [
      "Plot PSB and filter on marker"
     ]
    },
    {
     "cell_type": "code",
     "collapsed": false,
     "input": [
      "# Plots the PSB\n",
      "for i in range(1):#arange(b):\n",
      "    folder, file_name = os.path.split(fp_LT3[i])\n",
      "    a = pqsequence.TailAnalysis(folder, hdf5_mode='r', pq_folder =folder)\n",
      "    pq_plots.plot_photon_hist(a.pqf,start =10600, length =50, hist_binsize = 10, save = False, log=False)"
     ],
     "language": "python",
     "metadata": {},
     "outputs": [
      {
       "output_type": "stream",
       "stream": "stdout",
       "text": [
        "h5filepath: d:\\measuring\\data\\20150303\\174616_Bell_lt4_SPCORR_SPCORR_ZPL\\174616_Bell_lt4_SPCORR_SPCORR_ZPL.hdf5\n"
       ]
      },
      {
       "metadata": {},
       "output_type": "display_data",
       "png": "[encoded data removed]",
       "text": [
        "<matplotlib.figure.Figure at 0x91dd810>"
       ]
      }
     ],
     "prompt_number": 13
    },
    {
     "cell_type": "code",
     "collapsed": false,
     "input": [
      "# Set the channel on which the markers arrives at the LT set-up\n",
      "marker_channel = 4\n",
      "\n",
      "# Set start of the Read Out window & the length\n",
      "RO_start = 10630\n",
      "RO_length = 3500\n",
      "\n",
      "# For every event with a marker check if there are photons or not and saves this in an array\n",
      "quick_SSRO_events, colums = Events.get_total_SSRO_events_quick(fp_LT3[0], \n",
      "                                                               RO_start, \n",
      "                                                               RO_length, \n",
      "                                                               marker_channel, \n",
      "                                                               sync_time_lim = 15000)\n",
      "\n"
     ],
     "language": "python",
     "metadata": {},
     "outputs": [
      {
       "output_type": "stream",
       "stream": "stdout",
       "text": [
        "The total number of blocks is: 1\n",
        "\n"
       ]
      },
      {
       "output_type": "stream",
       "stream": "stdout",
       "text": [
        "Found 810 valid marked SSRO events in block 1\n",
        "====================================\n",
        "\n",
        "\n",
        "Found 810 valid marked SSRO events in all blocks\n",
        "====================================\n",
        "\n"
       ]
      }
     ],
     "prompt_number": 14
    },
    {
     "cell_type": "heading",
     "level": 1,
     "metadata": {},
     "source": [
      "Check if number of markers matches"
     ]
    },
    {
     "cell_type": "code",
     "collapsed": false,
     "input": [
      "# Set the channel on which the markers arrive at the BS station\n",
      "marker_channel_BS = 1\n",
      "\n",
      "# Get a list with the sync numbers corresponding to events on which the markers arrive\n",
      "un_sync_num_BS = pq_tools.get_un_sync_num_with_markers(fp_BS[0],marker_channel_BS)"
     ],
     "language": "python",
     "metadata": {},
     "outputs": [
      {
       "output_type": "stream",
       "stream": "stdout",
       "text": [
        "The number of markers is: 810\n",
        "The number of events with a sync number that has a marker is: 1630\n",
        "The number of unique sync numbers that have a marker is: 810\n"
       ]
      }
     ],
     "prompt_number": 15
    },
    {
     "cell_type": "code",
     "collapsed": false,
     "input": [
      "# Check if the numbers of markers match\n",
      "if len(un_sync_num_BS) != len(quick_SSRO_events):\n",
      "    print \"There is something wrong with the markers, start running around and panic\""
     ],
     "language": "python",
     "metadata": {},
     "outputs": [],
     "prompt_number": 16
    },
    {
     "cell_type": "heading",
     "level": 1,
     "metadata": {},
     "source": [
      "ZPL Tail"
     ]
    },
    {
     "cell_type": "code",
     "collapsed": false,
     "input": [
      "#Plot the ZPL tail, in green are the events with markers\n",
      "folder, file_name = os.path.split(fp_BS[0])\n",
      "b = pqsequence.TailAnalysis(folder, hdf5_mode='r', pq_folder =folder)\n",
      "is_mrkr = pq_tools.filter_marker(b.pqf,1)\n",
      "pq_plots.plot_photon_hist_filter_comparison(b.pqf,is_mrkr,start = 5435000, length = 500000, hist_binsize = 1000, save = False, log=True)\n"
     ],
     "language": "python",
     "metadata": {},
     "outputs": [
      {
       "output_type": "stream",
       "stream": "stdout",
       "text": [
        "h5filepath: X:\\data\\20150303\\174448_Bell_BS_SPCORR_SPCORR_ZPL\\174448_Bell_BS_SPCORR_SPCORR_ZPL.hdf5\n",
        "The number of markers is: 810\n"
       ]
      },
      {
       "metadata": {},
       "output_type": "pyout",
       "prompt_number": 19,
       "text": [
        "(<matplotlib.figure.Figure at 0xc44f550>,\n",
        " (<matplotlib.axes._subplots.AxesSubplot at 0xc448b30>,\n",
        "  <matplotlib.axes._subplots.AxesSubplot at 0xc309d50>))"
       ]
      },
      {
       "metadata": {},
       "output_type": "display_data",
       "png": "[encoded data removed]",
       "text": [
        "<matplotlib.figure.Figure at 0xc44f550>"
       ]
      }
     ],
     "prompt_number": 19
    },
    {
     "cell_type": "heading",
     "level": 1,
     "metadata": {},
     "source": [
      "Settings for tail filtering"
     ]
    },
    {
     "cell_type": "code",
     "collapsed": false,
     "input": [
      "Settings.VERBOSE = True\n",
      "\n",
      "Settings.first_win_min = 5400000\n",
      "Settings.first_win_max = 5750000\n",
      "Settings.second_win_min = 5750000\n",
      "Settings.second_win_max = 5900000\n",
      "\n",
      "# Set the start of the tail filter, the length of the tail, the difference between channel 0 and 1 and the difference\n",
      "# between the two tails pico seconds\n",
      "Settings.first_win_min_ch0 = 5443000\n",
      "Settings.WINDOW_LENGTH = 40000\n",
      "Settings.dif_ch0_ch1 = 900\n",
      "Settings.dif_win1_win2 = 350000"
     ],
     "language": "python",
     "metadata": {},
     "outputs": [],
     "prompt_number": 22
    },
    {
     "cell_type": "heading",
     "level": 2,
     "metadata": {},
     "source": [
      "Calculate the tailcounts per shot for the tail filtered events"
     ]
    },
    {
     "cell_type": "code",
     "collapsed": false,
     "input": [
      "Total_shots, Tot_ph_per_shot, TC_p_shot_first_tail, TC_p_shot_second_tail, TC_p_shot = pq_tools.get_combined_tail_counts_per_shot(fp_BS[0],\n",
      "                                                                                                                Settings.first_win_min,\n",
      "                                                                                                                Settings.first_win_max,\n",
      "                                                                                                                Settings.second_win_min,\n",
      "                                                                                                                Settings.second_win_max, \n",
      "                                                                                                                Settings.first_win_min_ch0,\n",
      "                                                                                                                Settings.dif_win1_win2,\n",
      "                                                                                                                Settings.WINDOW_LENGTH,\n",
      "                                                                                                                Settings.dif_ch0_ch1,\n",
      "                                                                                                                VERBOSE = False)\n",
      "print \n",
      "print \"Total shots\", Total_shots\n",
      "print \"Total photon counts per shot\", Tot_ph_per_shot/(10**(-4))\n",
      "print \"Total combined tailcounts per shot\", TC_p_shot/(10**(-4))\n",
      "print \"First tail tailcounts per shot\", TC_p_shot_first_tail/(10**(-4))\n",
      "print \"Second tail tailcounts per shot\", TC_p_shot_second_tail/(10**(-4))\n"
     ],
     "language": "python",
     "metadata": {},
     "outputs": [
      {
       "output_type": "stream",
       "stream": "stdout",
       "text": [
        "\n",
        "Total shots 1992436\n",
        "Total photon counts per shot 4.07039423098\n",
        "Total combined tailcounts per shot 3.30249001725\n",
        "First tail tailcounts per shot 1.71649177188\n",
        "Second tail tailcounts per shot 1.58599824536\n"
       ]
      }
     ],
     "prompt_number": 23
    },
    {
     "cell_type": "heading",
     "level": 1,
     "metadata": {},
     "source": [
      "Sync numbers tail photons"
     ]
    },
    {
     "cell_type": "code",
     "collapsed": false,
     "input": [
      "# Returns the sync numbers of the events where a photon is detected either in the first window or in the second window. \n",
      "# Events where photons in both windows are detected, are discarded. This analysis is independent of the markers. Note that\n",
      "# the markers should only give events for which the above holds such the rejection ratio printed below should be zero.\n",
      "unique_sync_num_first_tail, unique_sync_num_second_tail, is_tail_photons = pq_tools.get_tail_filtered_ph_sync_num(fp_BS[0],\n",
      "                                                            Settings.first_win_min_ch0,\n",
      "                                                            Settings.dif_win1_win2,\n",
      "                                                            Settings.WINDOW_LENGTH,\n",
      "                                                            Settings.dif_ch0_ch1)\n"
     ],
     "language": "python",
     "metadata": {},
     "outputs": [
      {
       "output_type": "stream",
       "stream": "stdout",
       "text": [
        "The total number of photons detected in the first tail is: "
       ]
      },
      {
       "output_type": "stream",
       "stream": "stdout",
       "text": [
        "342\n",
        "The total number of photons detected in the second tail is: "
       ]
      },
      {
       "output_type": "stream",
       "stream": "stdout",
       "text": [
        "316\n",
        "The ratio of photons that occur in the first tail and also in the second tail is: 0.0\n",
        "The ratio of photons that occur in the second tail and also in the first tail is: 0.0\n"
       ]
      }
     ],
     "prompt_number": 24
    },
    {
     "cell_type": "heading",
     "level": 1,
     "metadata": {},
     "source": [
      "Spin Photon Correlation"
     ]
    },
    {
     "cell_type": "code",
     "collapsed": false,
     "input": [
      "# Here the spin photon correlation is determined. For every sync number with a marker in the first and second tail it is checked\n",
      "# if there is only an event in the first or second tail. Subsequently is is checked if there were one or more photons in the read out \n",
      "# such that the correlations can be determined\n",
      "\n",
      "Tot_ev_1st_window = 0\n",
      "Tot_ev_1st_window_with_RO_ph = 0\n",
      "Tot_ev_2nd_window = 0\n",
      "Tot_ev_2nd_window_with_RO_ph = 0\n",
      "\n",
      "# Loop over the list of sync numbers with markers\n",
      "for i, j in enumerate(un_sync_num_BS):\n",
      "    # Makes a boolean filter which gives true if the sync number of a photon in one of the tail matches the sync number of the marker  \n",
      "    is_phot_first_tail = unique_sync_num_first_tail == j\n",
      "    is_phot_second_tail = unique_sync_num_second_tail == j\n",
      "    \n",
      "    # Counts the number of photons in the first or the second tail\n",
      "    num_phot_first_tail = np.sum(is_phot_first_tail)\n",
      "    num_phot_second_tail = np.sum(is_phot_second_tail)\n",
      "    \n",
      "    # For this specific marker get the number of photons in the readout. Note that this is done in the order of which markers arrive. \n",
      "    # So I assume the first marker at the BS is also the first marker at the local set-ups.\n",
      "    num_phot_RO = quick_SSRO_events[i,2]\n",
      "    \n",
      "    # Again checks if we don't have photons in both tail. In principle this is redundant. If there is a photon in one of the tails it\n",
      "    # checks if there is a photon in the readout data. This is all saved.\n",
      "    \n",
      "    if (num_phot_first_tail == 1) & (num_phot_second_tail == 0):\n",
      "        Tot_ev_1st_window = Tot_ev_1st_window + 1\n",
      "        if num_phot_RO >= 1:\n",
      "            Tot_ev_1st_window_with_RO_ph = Tot_ev_1st_window_with_RO_ph + 1\n",
      "    elif (num_phot_second_tail == 1) & (num_phot_first_tail == 0):\n",
      "        Tot_ev_2nd_window = Tot_ev_2nd_window + 1\n",
      "        if num_phot_RO >= 1:\n",
      "            Tot_ev_2nd_window_with_RO_ph = Tot_ev_2nd_window_with_RO_ph + 1 \n",
      "            \n",
      "if Settings.VERBOSE:\n",
      "    print \"The total number of events from the first window for which at least on photon is detected in the SSRO is:\", Tot_ev_1st_window_with_RO_ph\n",
      "    print \"This is \", float(Tot_ev_1st_window_with_RO_ph)/Tot_ev_1st_window,\" of the total number of events in the first window\"\n",
      "    print\n",
      "    print \"The total number of events from the second window for which at least on photon is detected in the SSRO is:\", Tot_ev_2nd_window_with_RO_ph\n",
      "    print \"This is \", float(Tot_ev_2nd_window_with_RO_ph)/Tot_ev_2nd_window,\" of the total number of events in the first window\"\n"
     ],
     "language": "python",
     "metadata": {},
     "outputs": [
      {
       "output_type": "stream",
       "stream": "stdout",
       "text": [
        "The total number of events from the first window for which at least on photon is detected in the SSRO is: 323\n",
        "This is  0.944444444444  of the total number of events in the first window\n",
        "\n",
        "The total number of events from the second window for which at least on photon is detected in the SSRO is: 295\n",
        "This is  0.933544303797  of the total number of events in the first window\n"
       ]
      }
     ],
     "prompt_number": 25
    },
    {
     "cell_type": "heading",
     "level": 1,
     "metadata": {},
     "source": [
      "Make Bar plots"
     ]
    },
    {
     "cell_type": "heading",
     "level": 2,
     "metadata": {},
     "source": [
      "Set parameter for readout correction"
     ]
    },
    {
     "cell_type": "code",
     "collapsed": false,
     "input": [
      "ssro_calib_folder = tb.latest_data('FastSSRO')\n",
      "try:\n",
      "    f_ms0, u_f_ms0, f_ms1, u_f_ms1 = pqsequence.get_analysed_fast_ssro_calibration(ssro_calib_folder,RO_length)\n",
      "except IOError:\n",
      "    print 'Could not find valid FastSSRO calibration'\n",
      "    f_ms0, u_f_ms0, f_ms1, u_f_ms1 = (0.94,.005,0.99,0.005)"
     ],
     "language": "python",
     "metadata": {},
     "outputs": [],
     "prompt_number": 26
    },
    {
     "cell_type": "code",
     "collapsed": false,
     "input": [
      "# P_ms1 generally stands for the probability to measure ms=1\n",
      "# P_photon is the probability for getting a photon\n",
      "\n",
      "win1_P_photon = float(Tot_ev_1st_window_with_RO_ph)/Tot_ev_1st_window\n",
      "u_win1_P_photon = sqrt(win1_P_photon * (1.-win1_P_photon)/Tot_ev_1st_window)\n",
      "\n",
      "win2_P_photon = float(Tot_ev_2nd_window_with_RO_ph)/Tot_ev_2nd_window\n",
      "u_win2_P_photon = sqrt(win2_P_photon * (1.-win2_P_photon)/Tot_ev_2nd_window)\n",
      "\n",
      "fig, (ax, ax_corr) = subplots(1,2, figsize=(11,4),\n",
      "                              sharex=True, sharey=True)\n",
      "\n",
      "### uncorrected for e-SSRO\n",
      "ax.bar(range(2), [win1_P_photon, win2_P_photon], color=['r', 'r'],\n",
      "       align='center', yerr=[u_win1_P_photon, u_win2_P_photon], ecolor='k',\n",
      "       width=0.8)\n",
      "\n",
      "ax.set_xlim(-0.5,1.5)\n",
      "ax.set_ylim(-0.05, 1.15)\n",
      "\n",
      "ax.set_ylabel('P ($m_s =\\, 0$)')\n",
      "\n",
      "ax.set_xticks([0,1])\n",
      "ax.set_xticklabels(['Photon in 1st window \\n ({})'.format(len(unique_sync_num_first_tail)),\n",
      "                    'Photon in 2nd window \\n ({})'.format(len(unique_sync_num_second_tail))])\n",
      "ax.axvline(0.5, c='k', ls='--')\n",
      "ax.axhline(0, c='k', ls=':')\n",
      "ax.axhline(1, c='k', ls=':')\n",
      "\n",
      "ax.text(0, win1_P_photon + 0.05, \"{:.1f} $\\pm$ {:.1f} %\".format(win1_P_photon*100, u_win1_P_photon*100),\n",
      "        va='bottom', ha='center',\n",
      "        bbox = {'facecolor' : 'white', 'alpha' : 0.5})\n",
      "ax.text(1, win2_P_photon + 0.05, \"{:.1f} $\\pm$ {:.1f} %\".format(win2_P_photon*100, u_win2_P_photon*100),\n",
      "        va='bottom', ha='center',\n",
      "        bbox = {'facecolor' : 'white', 'alpha' : 0.5})\n",
      "ax.set_title('Uncorrected readout')\n",
      "\n",
      "### corrected for e-SSRO\n",
      "\n",
      "\n",
      "ssro_fids = [f_ms0, u_f_ms0, f_ms1, u_f_ms1]\n",
      "\n",
      "win1_P0, u_win1_P0 = roc.single_qubit_outcome_with_ROC_from_fraction(win1_P_photon, u_win1_P_photon, \n",
      "                                                                     *ssro_fids)\n",
      "win2_P0, u_win2_P0 = roc.single_qubit_outcome_with_ROC_from_fraction(win2_P_photon, u_win2_P_photon,\n",
      "                                                                     *ssro_fids)\n",
      "\n",
      "ax_corr.bar(range(2), [win1_P0, win2_P0], color=['b','b'],\n",
      "       align='center', yerr=[u_win1_P0, u_win2_P0], ecolor='k',\n",
      "       width=0.8)\n",
      "ax_corr.axvline(0.5, c='k', ls='--')\n",
      "ax_corr.axhline(0, c='k', ls=':')\n",
      "ax_corr.axhline(1, c='k', ls=':')\n",
      "\n",
      "ax_corr.text(0, win1_P0 + 0.05, \"{:.1f} $\\pm$ {:.1f} %\".format(win1_P0*100, u_win1_P0*100),\n",
      "        va='bottom', ha='center',\n",
      "        bbox = {'facecolor' : 'white', 'alpha' : 0.5})\n",
      "ax_corr.text(1, win2_P0 + 0.05, \"{:.1f} $\\pm$ {:.1f} %\".format(win2_P0*100, u_win2_P0*100),\n",
      "        va='bottom', ha='center',\n",
      "        bbox = {'facecolor' : 'white', 'alpha' : 0.5})\n",
      "ax_corr.set_title('Corrected readout \\n '+a.timestamp)\n",
      "#fig.savefig(os.path.join(folder, 'Spin-photon_correlations.png'))"
     ],
     "language": "python",
     "metadata": {},
     "outputs": [
      {
       "metadata": {},
       "output_type": "pyout",
       "prompt_number": 27,
       "text": [
        "<matplotlib.text.Text at 0xc6199d0>"
       ]
      },
      {
       "metadata": {},
       "output_type": "display_data",
       "png": "[encoded data removed]",
       "text": [
        "<matplotlib.figure.Figure at 0xc5e8e50>"
       ]
      }
     ],
     "prompt_number": 27
    },
    {
     "cell_type": "code",
     "collapsed": false,
     "input": [
      "cr_after = a.adwingrp('ssro')['CR_after'].value\n",
      "_t=hist(cr_after,np.max(cr_after))"
     ],
     "language": "python",
     "metadata": {},
     "outputs": []
    },
    {
     "cell_type": "code",
     "collapsed": false,
     "input": [
      "# Set the start of the tail filter, the length of the tail, the difference between channel 0 and 1 and the difference\n",
      "# between the two tails pico seconds\n",
      "Settings.first_win_min_ch0 = 5444500\n",
      "Settings.WINDOW_LENGTH = 50000\n",
      "Settings.dif_ch0_ch1 = 900\n",
      "Settings.dif_win1_win2 = 600000\n",
      "\n",
      "# Initialize some lists for saving the data\n",
      "Tail_length = []\n",
      "Tail_start = []\n",
      "TC_first_tail = []\n",
      "TC_second_tail = []\n",
      "win1_cor = []\n",
      "win2_cor = []\n",
      "\n",
      "# Here the loop starts, note that the calculation can be quite slow so start by picking a low iteration number\n",
      "for i in range(100):\n",
      "    \n",
      "    # Choose what you want to change either the window length or the Settings.first_win_min_ch0\n",
      "    Settings.WINDOW_LENGTH = 1000 +(i * 1000)\n",
      "    \n",
      "    Tail_length.append(Settings.WINDOW_LENGTH)\n",
      "    Tail_start.append(Settings.first_win_min_ch0)\n",
      "    \n",
      "    # See comments above to see what every statement does.\n",
      "    Total_shots, Tot_ph_per_shot, TC_p_shot_first_tail, TC_p_shot_second_tail, TC_p_shot = pq_tools.get_combined_tail_counts_per_shot(fp_BS[0],\n",
      "                                                                                                                Settings.first_win_min,\n",
      "                                                                                                                Settings.first_win_max,\n",
      "                                                                                                                Settings.second_win_min,\n",
      "                                                                                                                Settings.second_win_max, \n",
      "                                                                                                                Settings.first_win_min_ch0,\n",
      "                                                                                                                Settings.dif_win1_win2,\n",
      "                                                                                                                Settings.WINDOW_LENGTH,\n",
      "                                                                                                                Settings.dif_ch0_ch1,\n",
      "                                                                                                                VERBOSE = False)\n",
      "    TC_first_tail.append(TC_p_shot_first_tail*Total_shots)\n",
      "    TC_second_tail.append(TC_p_shot_second_tail*Total_shots)\n",
      "\n",
      "    unique_sync_num_first_tail, unique_sync_num_second_tail, is_tail_photons = pq_tools.get_tail_filtered_ph_sync_num(fp_BS[0],\n",
      "                                                            Settings.first_win_min_ch0,\n",
      "                                                            Settings.dif_win1_win2,\n",
      "                                                            Settings.WINDOW_LENGTH,\n",
      "                                                            Settings.dif_ch0_ch1,\n",
      "                                                            VERBOSE = False)\n",
      "    Tot_ev_1st_window = 0\n",
      "    Tot_ev_1st_window_with_RO_ph = 0\n",
      "    Tot_ev_2nd_window = 0\n",
      "    Tot_ev_2nd_window_with_RO_ph = 0\n",
      "\n",
      "\n",
      "    for i, j in enumerate(un_sync_num_BS):\n",
      "        is_phot_first_tail = unique_sync_num_first_tail == j\n",
      "        \n",
      "        is_phot_second_tail = unique_sync_num_second_tail == j\n",
      "\n",
      "        num_phot_first_tail = sum(is_phot_first_tail)\n",
      "        num_phot_second_tail = sum(is_phot_second_tail)\n",
      "    \n",
      "        num_phot_RO = quick_SSRO_events[i,2]\n",
      "    \n",
      "        if (num_phot_first_tail == 1) & (num_phot_second_tail == 0):\n",
      "            Tot_ev_1st_window = Tot_ev_1st_window + 1\n",
      "            if num_phot_RO >= 1:\n",
      "                Tot_ev_1st_window_with_RO_ph = Tot_ev_1st_window_with_RO_ph + 1        \n",
      "        \n",
      "        if (num_phot_second_tail == 1) & (num_phot_first_tail == 0):\n",
      "            Tot_ev_2nd_window = Tot_ev_2nd_window + 1\n",
      "            if num_phot_RO >= 1:\n",
      "                Tot_ev_2nd_window_with_RO_ph = Tot_ev_2nd_window_with_RO_ph + 1\n",
      "                \n",
      "\n",
      "    win1_P_photon = float(Tot_ev_1st_window_with_RO_ph)/Tot_ev_1st_window\n",
      "    win1_cor.append(win1_P_photon)\n",
      "    win2_P_photon = float(Tot_ev_2nd_window_with_RO_ph)/Tot_ev_2nd_window\n",
      "    win2_cor.append(win2_P_photon)\n",
      "    \n",
      "    \n",
      "    \n",
      "    \n",
      "\n"
     ],
     "language": "python",
     "metadata": {},
     "outputs": [],
     "prompt_number": 16
    },
    {
     "cell_type": "heading",
     "level": 1,
     "metadata": {},
     "source": [
      "Plot spin photon correlation vs. tail length or tail start"
     ]
    },
    {
     "cell_type": "code",
     "collapsed": false,
     "input": [
      "x = Tail_length\n",
      "\n",
      "y2 = win1_cor\n",
      "y3 = win2_cor\n",
      "\n",
      "fig, ax1 = plt.subplots()\n",
      "\n",
      "ax1.plot(x, y2, 'b-')\n",
      "ax1.set_xlabel('Tail length (ps)')\n",
      "# Make the y-axis label and tick labels match the line color.\n",
      "ax1.set_ylabel('Window 1 correlations', color='b')\n",
      "for tl in ax1.get_yticklabels():\n",
      "    tl.set_color('b')\n",
      "\n",
      "\n",
      "ax2 = ax1.twinx()\n",
      "ax2.plot(x,y3, 'r-')\n",
      "ax2.set_ylabel('Window 2 Correlations', color='r')\n",
      "for tl in ax2.get_yticklabels():\n",
      "    tl.set_color('r')\n",
      "plt.show()"
     ],
     "language": "python",
     "metadata": {},
     "outputs": [
      {
       "metadata": {},
       "output_type": "display_data",
       "png": "[encoded data removed]",
       "text": [
        "<matplotlib.figure.Figure at 0xbbc3dd0>"
       ]
      }
     ],
     "prompt_number": 17
    },
    {
     "cell_type": "code",
     "collapsed": false,
     "input": [
      "x = Tail_start\n",
      "\n",
      "y2 = win1_cor\n",
      "y3 = win2_cor\n",
      "\n",
      "fig, ax1 = plt.subplots()\n",
      "\n",
      "ax1.plot(x, y2, 'b-')\n",
      "ax1.set_xlabel('Tail start (ps)')\n",
      "# Make the y-axis label and tick labels match the line color.\n",
      "ax1.set_ylabel('Window 1 correlations', color='b')\n",
      "for tl in ax1.get_yticklabels():\n",
      "    tl.set_color('b')\n",
      "\n",
      "\n",
      "ax2 = ax1.twinx()\n",
      "ax2.plot(x,y3, 'r-')\n",
      "ax2.set_ylabel('Window 2 Correlations', color='r')\n",
      "for tl in ax2.get_yticklabels():\n",
      "    tl.set_color('r')\n",
      "plt.show()"
     ],
     "language": "python",
     "metadata": {},
     "outputs": [
      {
       "metadata": {},
       "output_type": "display_data",
       "png": "[encoded data removed]",
       "text": [
        "<matplotlib.figure.Figure at 0xe9eb6d0>"
       ]
      }
     ],
     "prompt_number": 16
    },
    {
     "cell_type": "heading",
     "level": 1,
     "metadata": {},
     "source": [
      "Plot the tail length vs. the number of photons in the tail"
     ]
    },
    {
     "cell_type": "code",
     "collapsed": false,
     "input": [
      "x = Tail_length\n",
      "\n",
      "y2 = TC_first_tail\n",
      "y3 = TC_second_tail\n",
      "\n",
      "fig, ax1 = plt.subplots()\n",
      "\n",
      "ax1.plot(x, y2, 'b-')\n",
      "ax1.set_xlabel('Tail length (ps)')\n",
      "# Make the y-axis label and tick labels match the line color.\n",
      "ax1.set_ylabel('# of photons in first tail', color='b')\n",
      "for tl in ax1.get_yticklabels():\n",
      "    tl.set_color('b')\n",
      "\n",
      "\n",
      "ax2 = ax1.twinx()\n",
      "ax2.plot(x,y3, 'r-')\n",
      "ax2.set_ylabel('# of photons in second tail', color='r')\n",
      "for tl in ax2.get_yticklabels():\n",
      "    tl.set_color('r')\n",
      "plt.show()"
     ],
     "language": "python",
     "metadata": {},
     "outputs": [
      {
       "metadata": {},
       "output_type": "display_data",
       "png": "[encoded data removed]",
       "text": [
        "<matplotlib.figure.Figure at 0xeeb2490>"
       ]
      }
     ],
     "prompt_number": 17
    },
    {
     "cell_type": "heading",
     "level": 1,
     "metadata": {},
     "source": [
      "Check Spin Photon correlations for different Read Out lengths"
     ]
    },
    {
     "cell_type": "code",
     "collapsed": false,
     "input": [
      "# Set start of the Read Out window\n",
      "RO_start = 10483\n",
      "RO_length = 3000\n",
      "\n",
      "Settings.VERBOSE = True\n",
      "\n",
      "Settings.first_win_min = 5400000\n",
      "Settings.first_win_max = 6050000\n",
      "Settings.second_win_min = 605000\n",
      "Settings.second_win_max = 6800000\n",
      "\n",
      "# Set the start of the tail filter, the length of the tail, the difference between channel 0 and 1 and the difference\n",
      "# between the two tails pico seconds\n",
      "Settings.first_win_min_ch0 = 5440500\n",
      "Settings.WINDOW_LENGTH = 200000\n",
      "Settings.dif_ch0_ch1 = 900\n",
      "Settings.dif_win1_win2 = 600000\n",
      "\n",
      "RO_start_list = []\n",
      "win1_cor = []\n",
      "win2_cor = []\n",
      "\n",
      "for i in range(60):\n",
      "    \n",
      "    print i\n",
      "    RO_start = 10483 + (i*2)\n",
      "    \n",
      "\n",
      "    RO_start_list.append(RO_start)\n",
      "\n",
      "# For every event with a marker check if there are photons or not and saves this in an array\n",
      "    quick_SSRO_events, colums = Events.get_total_SSRO_events_quick(fp_LT3[0], \n",
      "                                                               RO_start, \n",
      "                                                               RO_length, \n",
      "                                                               marker_channel, \n",
      "                                                               sync_time_lim = 15000)\n",
      "\n",
      "\n",
      "# Returns the sync numbers of the events where a photon is detected either in the first window or in the second window. \n",
      "# Events where photons in both windows are detected, are discarded.\n",
      "    unique_sync_num_first_tail, unique_sync_num_second_tail, is_tail_photons = pq_tools.get_tail_filtered_ph_sync_num(fp_BS[0],\n",
      "                                                            Settings.first_win_min_ch0,\n",
      "                                                            Settings.dif_win1_win2,\n",
      "                                                            Settings.WINDOW_LENGTH,\n",
      "                                                            Settings.dif_ch0_ch1, \n",
      "                                                            VERBOSE = False)\n",
      "\n",
      "# Here the spin photon correlation is determined. For every sync number with a marker in the first and second tail it is checked\n",
      "# if there is only an event in the first or second tail. Subsequently is is checked if there were one or more photons in the read out \n",
      "# such that the correlations can be determined\n",
      "\n",
      "    Tot_ev_1st_window = 0\n",
      "    Tot_ev_1st_window_with_RO_ph = 0\n",
      "    Tot_ev_2nd_window = 0\n",
      "    Tot_ev_2nd_window_with_RO_ph = 0\n",
      "\n",
      "\n",
      "    for i, j in enumerate(un_sync_num_BS):\n",
      "        is_phot_first_tail = unique_sync_num_first_tail == j\n",
      "        is_phot_second_tail = unique_sync_num_second_tail == j\n",
      "    \n",
      "        num_phot_first_tail = sum(is_phot_first_tail)\n",
      "        num_phot_second_tail = sum(is_phot_second_tail)\n",
      "    \n",
      "        num_phot_RO = quick_SSRO_events[i,2]\n",
      "    \n",
      "        if (num_phot_first_tail == 1) & (num_phot_second_tail == 0):\n",
      "            Tot_ev_1st_window = Tot_ev_1st_window + 1\n",
      "            if num_phot_RO >= 1:\n",
      "                Tot_ev_1st_window_with_RO_ph = Tot_ev_1st_window_with_RO_ph + 1        \n",
      "        elif (num_phot_second_tail == 1) & (num_phot_first_tail) == 0:\n",
      "            Tot_ev_2nd_window = Tot_ev_2nd_window + 1\n",
      "            if num_phot_RO >= 1:\n",
      "                Tot_ev_2nd_window_with_RO_ph = Tot_ev_2nd_window_with_RO_ph + 1 \n",
      "        \n",
      "    win1_P_photon = float(Tot_ev_1st_window_with_RO_ph)/Tot_ev_1st_window\n",
      "    win1_cor.append(win1_P_photon)\n",
      "    win2_P_photon = float(Tot_ev_2nd_window_with_RO_ph)/Tot_ev_2nd_window\n",
      "    win2_cor.append(win2_P_photon)\n"
     ],
     "language": "python",
     "metadata": {},
     "outputs": [
      {
       "output_type": "stream",
       "stream": "stdout",
       "text": [
        "0\n",
        "The total number of blocks is: 1\n",
        "\n"
       ]
      },
      {
       "output_type": "stream",
       "stream": "stdout",
       "text": [
        "Found 1459 valid marked SSRO events in block 1\n",
        "====================================\n",
        "\n",
        "\n",
        "Found 1459 valid marked SSRO events in all blocks\n",
        "====================================\n",
        "\n",
        "1\n",
        "The total number of blocks is: 1\n",
        "\n"
       ]
      },
      {
       "output_type": "stream",
       "stream": "stdout",
       "text": [
        "Found 1459 valid marked SSRO events in block 1\n",
        "====================================\n",
        "\n",
        "\n",
        "Found 1459 valid marked SSRO events in all blocks\n",
        "====================================\n",
        "\n",
        "2\n",
        "The total number of blocks is: 1\n",
        "\n"
       ]
      }
     ]
    },
    {
     "cell_type": "heading",
     "level": 1,
     "metadata": {},
     "source": [
      "Plot RO start or RO length vs. the window correlations "
     ]
    },
    {
     "cell_type": "code",
     "collapsed": false,
     "input": [
      "x = RO_start_list\n",
      "\n",
      "y2 = win1_cor\n",
      "y3 = win2_cor\n",
      "\n",
      "fig, ax1 = plt.subplots()\n",
      "\n",
      "ax1.plot(x, y2, 'b-')\n",
      "ax1.set_xlabel('RO Length (ps)')\n",
      "# Make the y-axis label and tick labels match the line color.\n",
      "ax1.set_ylabel('Window 1 correlations', color='b')\n",
      "for tl in ax1.get_yticklabels():\n",
      "    tl.set_color('b')\n",
      "\n",
      "\n",
      "ax2 = ax1.twinx()\n",
      "ax2.plot(x,y3, 'r-')\n",
      "ax2.set_ylabel('Window 2 Correlations', color='r')\n",
      "for tl in ax2.get_yticklabels():\n",
      "    tl.set_color('r')\n",
      "plt.show()"
     ],
     "language": "python",
     "metadata": {},
     "outputs": [
      {
       "metadata": {},
       "output_type": "display_data",
       "png": "[encoded data removed]",
       "text": [
        "<matplotlib.figure.Figure at 0x18740390>"
       ]
      }
     ],
     "prompt_number": 14
    },
    {
     "cell_type": "code",
     "collapsed": false,
     "input": [],
     "language": "python",
     "metadata": {},
     "outputs": []
    }
   ],
   "metadata": {}
  }
 ]
}