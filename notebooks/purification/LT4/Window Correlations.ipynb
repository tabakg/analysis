{
 "metadata": {
  "name": "",
  "signature": "sha256:e9f5a4f9d8a1adacc6cc9fbc5c0d9b86b79cf529f20b6439c6a2ca893948c24f"
 },
 "nbformat": 3,
 "nbformat_minor": 0,
 "worksheets": [
  {
   "cells": [
    {
     "cell_type": "code",
     "collapsed": false,
     "input": [
      "execfile(r'D:\\measuring\\analysis\\scripts\\setup_analysis.py')\n",
      "folder=tb.latest_data('Bell')\n",
      "#timestamp='164007'\n",
      "#folder=tb.data_from_time(timestamp)\n",
      "#folder=r'D:\\measuring\\data\\20141120\\232419_Bell_lt3_full_Belllhfbt_day7_run20'\n",
      "name = 'ssro'\n",
      "pq_folder = tb.latest_data('Bell', folder =r'X:\\data')\n",
      "a = pqsequence.TailAnalysis(folder, hdf5_mode='r',pq_folder=pq_folder)#r'X:\\data\\20140708\\174133_Bell_BS_tpqi_parallel_BS_SAM_SIL5_Heating_opt_rabis')"
     ],
     "language": "python",
     "metadata": {},
     "outputs": [
      {
       "output_type": "stream",
       "stream": "stdout",
       "text": [
        "d:\\measuring\\data\n",
        "h5filepath: X:\\data\\20150413\\132912_Bell_BS_SPCORR_SPCORR_ZPL\\132912_Bell_BS_SPCORR_SPCORR_ZPL.hdf5\n"
       ]
      }
     ],
     "prompt_number": 8
    },
    {
     "cell_type": "code",
     "collapsed": false,
     "input": [
      "#pq_plots.plot_photon_hist(a.pqf,start = 5430.5e3, length = 500e3, hist_binsize = 1000, save = False, log=True)\n",
      "is_PLU_mrkr = pq_tools.get_markers(a.pqf, 1)\n",
      "pq_plots.plot_photon_hist_filter_comparison(a.pqf,is_PLU_mrkr,start = 5444000, length = 700000, hist_binsize = 1000, save = False, log=True)"
     ],
     "language": "python",
     "metadata": {},
     "outputs": [
      {
       "metadata": {},
       "output_type": "pyout",
       "prompt_number": 9,
       "text": [
        "(<matplotlib.figure.Figure at 0x8acb7f0>,\n",
        " (<matplotlib.axes._subplots.AxesSubplot at 0x8c19e50>,\n",
        "  <matplotlib.axes._subplots.AxesSubplot at 0x94820f0>))"
       ]
      },
      {
       "metadata": {},
       "output_type": "display_data",
       "png": "[encoded data removed]",
       "text": [
        "<matplotlib.figure.Figure at 0x8acb7f0>"
       ]
      }
     ],
     "prompt_number": 9
    },
    {
     "cell_type": "code",
     "collapsed": false,
     "input": [
      "st_start_ch0 = 5444000\n",
      "st_len       = 50000 #50 ns\n",
      "ch0_ch1_diff = 600 #1 ns\n",
      "st_start_ch1 = st_start_ch0 + ch0_ch1_diff\n",
      "pulse_sep    = 350000 #600 ns"
     ],
     "language": "python",
     "metadata": {},
     "outputs": [],
     "prompt_number": 11
    },
    {
     "cell_type": "code",
     "collapsed": false,
     "input": [
      "Total_shots, Tot_ph_per_shot, TC_p_shot_first_tail, TC_p_shot_second_tail, TC_p_shot = pq_tools.get_combined_tail_counts_per_shot(tb.measurement_filename(pq_folder),\n",
      "                                                                                                                5440*1e3,\n",
      "                                                                                                                5640*1e3,\n",
      "                                                                                                                6040*1e3,\n",
      "                                                                                                                6240*1e3, \n",
      "                                                                                                                st_start_ch0,\n",
      "                                                                                                                pulse_sep,\n",
      "                                                                                                                st_len,\n",
      "                                                                                                                ch0_ch1_diff,\n",
      "                                                                                                                VERBOSE = False)\n",
      "print \n",
      "print \"Total shots\", Total_shots\n",
      "print \"Total photon counts per shot\", Tot_ph_per_shot/(10**(-4))\n",
      "print \"Total combined tailcounts per shot\", TC_p_shot/(10**(-4))\n",
      "print \"First tail tailcounts per shot\", TC_p_shot_first_tail/(10**(-4))\n",
      "print \"Second tail tailcounts per shot\", TC_p_shot_second_tail/(10**(-4))\n"
     ],
     "language": "python",
     "metadata": {},
     "outputs": [
      {
       "output_type": "stream",
       "stream": "stdout",
       "text": [
        "\n",
        "Total shots 572761\n",
        "Total photon counts per shot 1.86814395533\n",
        "Total combined tailcounts per shot 1.92052182324\n",
        "First tail tailcounts per shot 1.15231309394\n",
        "Second tail tailcounts per shot 0.768208729295\n"
       ]
      }
     ],
     "prompt_number": 12
    },
    {
     "cell_type": "heading",
     "level": 4,
     "metadata": {},
     "source": [
      "Spin photon correlations:"
     ]
    },
    {
     "cell_type": "code",
     "collapsed": false,
     "input": [
      "ad_reps = a.adwingrp('ssro')['entanglement_events'].value\n",
      "\n",
      "is_PLU_mrkr = pq_tools.get_markers(a.pqf, 1)\n",
      "noof_PLU_markers = len(where(is_PLU_mrkr)[0])\n",
      "if ad_reps != noof_PLU_markers:\n",
      "    print 'Adwin events ({}) do not match PQ events ({}) - data set seems faulty :('.format(ad_reps,noof_PLU_markers)\n",
      "else:\n",
      "    print 'OK :)'\n",
      "\n",
      "is_ph0, is_ph1 = pq_tools.get_photons(a.pqf)\n",
      "is_valid_ph0_w1 = is_ph0 & pq_tools.filter_synctimes(a.pqf, st_start_ch0 ,(st_start_ch0+st_len))\n",
      "is_valid_ph0_w2 = is_ph0 & pq_tools.filter_synctimes(a.pqf,(st_start_ch0+pulse_sep) ,(st_start_ch0+pulse_sep+st_len))\n",
      "is_valid_ph1_w1 = is_ph1 & pq_tools.filter_synctimes(a.pqf,st_start_ch1 ,(st_start_ch1+st_len))\n",
      "is_valid_ph1_w2 = is_ph1 & pq_tools.filter_synctimes(a.pqf,(st_start_ch1+pulse_sep) ,(st_start_ch1+pulse_sep+st_len))\n",
      "is_ph_with_PLU_mrkr_in_first_window = (is_valid_ph0_w1 | is_valid_ph1_w1) & pq_tools.filter_marker(a.pqf,1)\n",
      "is_ph_with_PLU_mrkr_in_second_window = (is_valid_ph0_w2 | is_valid_ph1_w2) & pq_tools.filter_marker(a.pqf,1)\n",
      "sync_numbers = a.pqf['/PQ_sync_number-1'].value\n",
      "if ad_reps == noof_PLU_markers:\n",
      "    PLU_sync_numbers = sync_numbers[is_PLU_mrkr] # change in if statement\n",
      "elif (ad_reps-1) == noof_PLU_markers:\n",
      "    PLU_sync_numbers = sync_numbers[is_PLU_mrkr]\n",
      "first_window_photons_sync_numbers = sync_numbers[is_ph_with_PLU_mrkr_in_first_window]\n",
      "first_window_readouts = pq_tools.filter_on_same_sync_number(\n",
      "    first_window_photons_sync_numbers, PLU_sync_numbers)\n",
      "second_window_photons_sync_numbers = sync_numbers[is_ph_with_PLU_mrkr_in_second_window]\n",
      "second_window_readouts = pq_tools.filter_on_same_sync_number(\n",
      "    second_window_photons_sync_numbers, PLU_sync_numbers)\n",
      "print np.sum(first_window_readouts)"
     ],
     "language": "python",
     "metadata": {},
     "outputs": [
      {
       "output_type": "stream",
       "stream": "stdout",
       "text": [
        "Adwin events (0) do not match PQ events (1455) - data set seems faulty :(\n",
        "The number of markers is: 1455\n",
        "The number of markers is: 1455\n"
       ]
      },
      {
       "ename": "NameError",
       "evalue": "name 'PLU_sync_numbers' is not defined",
       "output_type": "pyerr",
       "traceback": [
        "\u001b[1;31m---------------------------------------------------------------------------\u001b[0m\n\u001b[1;31mNameError\u001b[0m                                 Traceback (most recent call last)",
        "\u001b[1;32m<ipython-input-5-e0ae09a1a1e2>\u001b[0m in \u001b[0;36m<module>\u001b[1;34m()\u001b[0m\n\u001b[0;32m     22\u001b[0m \u001b[0mfirst_window_photons_sync_numbers\u001b[0m \u001b[1;33m=\u001b[0m \u001b[0msync_numbers\u001b[0m\u001b[1;33m[\u001b[0m\u001b[0mis_ph_with_PLU_mrkr_in_first_window\u001b[0m\u001b[1;33m]\u001b[0m\u001b[1;33m\u001b[0m\u001b[0m\n\u001b[0;32m     23\u001b[0m first_window_readouts = pq_tools.filter_on_same_sync_number(\n\u001b[1;32m---> 24\u001b[1;33m     first_window_photons_sync_numbers, PLU_sync_numbers)\n\u001b[0m\u001b[0;32m     25\u001b[0m \u001b[0msecond_window_photons_sync_numbers\u001b[0m \u001b[1;33m=\u001b[0m \u001b[0msync_numbers\u001b[0m\u001b[1;33m[\u001b[0m\u001b[0mis_ph_with_PLU_mrkr_in_second_window\u001b[0m\u001b[1;33m]\u001b[0m\u001b[1;33m\u001b[0m\u001b[0m\n\u001b[0;32m     26\u001b[0m second_window_readouts = pq_tools.filter_on_same_sync_number(\n",
        "\u001b[1;31mNameError\u001b[0m: name 'PLU_sync_numbers' is not defined"
       ]
      }
     ],
     "prompt_number": 5
    },
    {
     "cell_type": "code",
     "collapsed": false,
     "input": [
      "ad_ssro = a.adwingrp('ssro')['RO_data'].value == 0 #check for >0 photons, making 1 <-> ms=0 RO\n",
      "ad_ssro_duration = a.g.attrs['SSRO_duration']\n",
      "ssro_folder = tb.latest_data('SSROCalibration') #tb.data_from_time('20140708183041')# tb.latest_data('SSROCalibration' , older_than=timestamp)\n",
      "ssro_fids = ssro.get_SSRO_calibration(ssro_folder, ad_ssro_duration)\n",
      "#ad_cr = a.adwingrp('ssro')['CR_after'].value > 0\n",
      "first_window_ssro_results = ad_ssro[first_window_readouts]# & ad_cr]\n",
      "second_window_ssro_results = ad_ssro[second_window_readouts]# & ad_cr]\n",
      "\n",
      "# P_ms1 generally stands for the probability to measure ms=1\n",
      "# P_photon is the probability for getting a photon\n",
      "win1_P_photon = 1. - float(first_window_ssro_results.sum())/len(first_window_ssro_results)\n",
      "u_win1_P_photon = sqrt(win1_P_photon * (1.-win1_P_photon)/len(first_window_ssro_results))\n",
      "\n",
      "win2_P_photon = 1. - float(second_window_ssro_results.sum())/len(second_window_ssro_results)\n",
      "u_win2_P_photon = sqrt(win2_P_photon * (1.-win2_P_photon)/len(second_window_ssro_results))\n",
      "\n",
      "fig, (ax, ax_corr) = subplots(1,2, figsize=(11,4),\n",
      "                              sharex=True, sharey=True)\n",
      "\n",
      "### uncorrected for e-SSRO\n",
      "ax.bar(range(2), [win1_P_photon, win2_P_photon], color=['r', 'r'],\n",
      "       align='center', yerr=[u_win1_P_photon, u_win2_P_photon], ecolor='k',\n",
      "       width=0.8)\n",
      "\n",
      "ax.set_xlim(-0.5,1.5)\n",
      "ax.set_ylim(-0.05, 1.15)\n",
      "\n",
      "ax.set_ylabel('P ($m_s =\\, 0$)')\n",
      "\n",
      "ax.set_xticks([0,1])\n",
      "ax.set_xticklabels(['Photon in 1st window \\n ({})'.format(len(first_window_ssro_results)),\n",
      "                    'Photon in 2nd window \\n ({})'.format(len(second_window_ssro_results))])\n",
      "ax.axvline(0.5, c='k', ls='--')\n",
      "ax.axhline(0, c='k', ls=':')\n",
      "ax.axhline(1, c='k', ls=':')\n",
      "\n",
      "ax.text(0, win1_P_photon + 0.05, \"{:.1f} $\\pm$ {:.1f} %\".format(win1_P_photon*100, u_win1_P_photon*100),\n",
      "        va='bottom', ha='center',\n",
      "        bbox = {'facecolor' : 'white', 'alpha' : 0.5})\n",
      "ax.text(1, win2_P_photon + 0.05, \"{:.1f} $\\pm$ {:.1f} %\".format(win2_P_photon*100, u_win2_P_photon*100),\n",
      "        va='bottom', ha='center',\n",
      "        bbox = {'facecolor' : 'white', 'alpha' : 0.5})\n",
      "ax.set_title('Uncorrected readout')\n",
      "\n",
      "### corrected for e-SSRO\n",
      "win1_P0, u_win1_P0 = roc.single_qubit_outcome_with_ROC_from_fraction(win1_P_photon, u_win1_P_photon, \n",
      "                                                                     *ssro_fids)\n",
      "win2_P0, u_win2_P0 = roc.single_qubit_outcome_with_ROC_from_fraction(win2_P_photon, u_win2_P_photon,\n",
      "                                                                     *ssro_fids)\n",
      "\n",
      "ax_corr.bar(range(2), [win1_P0, win2_P0], color=['b','b'],\n",
      "       align='center', yerr=[u_win1_P0, u_win2_P0], ecolor='k',\n",
      "       width=0.8)\n",
      "ax_corr.axvline(0.5, c='k', ls='--')\n",
      "ax_corr.axhline(0, c='k', ls=':')\n",
      "ax_corr.axhline(1, c='k', ls=':')\n",
      "\n",
      "ax_corr.text(0, win1_P0 + 0.05, \"{:.1f} $\\pm$ {:.1f} %\".format(win1_P0*100, u_win1_P0*100),\n",
      "        va='bottom', ha='center',\n",
      "        bbox = {'facecolor' : 'white', 'alpha' : 0.5})\n",
      "ax_corr.text(1, win2_P0 + 0.05, \"{:.1f} $\\pm$ {:.1f} %\".format(win2_P0*100, u_win2_P0*100),\n",
      "        va='bottom', ha='center',\n",
      "        bbox = {'facecolor' : 'white', 'alpha' : 0.5})\n",
      "ax_corr.set_title('Corrected readout \\n '+a.timestamp)\n",
      "fig.savefig(os.path.join(folder, 'Spin-photon_correlations.png'))"
     ],
     "language": "python",
     "metadata": {},
     "outputs": [
      {
       "ename": "NameError",
       "evalue": "name 'first_window_readouts' is not defined",
       "output_type": "pyerr",
       "traceback": [
        "\u001b[1;31m---------------------------------------------------------------------------\u001b[0m\n\u001b[1;31mNameError\u001b[0m                                 Traceback (most recent call last)",
        "\u001b[1;32m<ipython-input-13-27f46ca27571>\u001b[0m in \u001b[0;36m<module>\u001b[1;34m()\u001b[0m\n\u001b[0;32m      4\u001b[0m \u001b[0mssro_fids\u001b[0m \u001b[1;33m=\u001b[0m \u001b[0mssro\u001b[0m\u001b[1;33m.\u001b[0m\u001b[0mget_SSRO_calibration\u001b[0m\u001b[1;33m(\u001b[0m\u001b[0mssro_folder\u001b[0m\u001b[1;33m,\u001b[0m \u001b[0mad_ssro_duration\u001b[0m\u001b[1;33m)\u001b[0m\u001b[1;33m\u001b[0m\u001b[0m\n\u001b[0;32m      5\u001b[0m \u001b[1;31m#ad_cr = a.adwingrp('ssro')['CR_after'].value > 0\u001b[0m\u001b[1;33m\u001b[0m\u001b[1;33m\u001b[0m\u001b[0m\n\u001b[1;32m----> 6\u001b[1;33m \u001b[0mfirst_window_ssro_results\u001b[0m \u001b[1;33m=\u001b[0m \u001b[0mad_ssro\u001b[0m\u001b[1;33m[\u001b[0m\u001b[0mfirst_window_readouts\u001b[0m\u001b[1;33m]\u001b[0m\u001b[1;31m# & ad_cr]\u001b[0m\u001b[1;33m\u001b[0m\u001b[0m\n\u001b[0m\u001b[0;32m      7\u001b[0m \u001b[0msecond_window_ssro_results\u001b[0m \u001b[1;33m=\u001b[0m \u001b[0mad_ssro\u001b[0m\u001b[1;33m[\u001b[0m\u001b[0msecond_window_readouts\u001b[0m\u001b[1;33m]\u001b[0m\u001b[1;31m# & ad_cr]\u001b[0m\u001b[1;33m\u001b[0m\u001b[0m\n\u001b[0;32m      8\u001b[0m \u001b[1;33m\u001b[0m\u001b[0m\n",
        "\u001b[1;31mNameError\u001b[0m: name 'first_window_readouts' is not defined"
       ]
      }
     ],
     "prompt_number": 13
    },
    {
     "cell_type": "code",
     "collapsed": false,
     "input": [],
     "language": "python",
     "metadata": {},
     "outputs": []
    },
    {
     "cell_type": "code",
     "collapsed": false,
     "input": [],
     "language": "python",
     "metadata": {},
     "outputs": []
    }
   ],
   "metadata": {}
  }
 ]
}