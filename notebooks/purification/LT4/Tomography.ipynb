{
 "cells": [
  {
   "cell_type": "code",
   "execution_count": null,
   "metadata": {
    "collapsed": false
   },
   "outputs": [],
   "source": [
    "import sys\n",
    "sys.path.append(r'D:/measuring')\n",
    "import numpy as np\n",
    "sys.path.append(r'D:/measuring/analysis')\n",
    "%matplotlib inline"
   ]
  },
  {
   "cell_type": "markdown",
   "metadata": {},
   "source": [
    "# Tomographies General"
   ]
  },
  {
   "cell_type": "markdown",
   "metadata": {},
   "source": [
    "###  Single measurement"
   ]
  },
  {
   "cell_type": "code",
   "execution_count": null,
   "metadata": {
    "collapsed": false
   },
   "outputs": [],
   "source": [
    "from analysis.scripts.QEC import Two_Qubit_Tomography as Tomo2; reload(Tomo2)\n",
    "# a = Tomo2.BarPlotTomo(folder_name = '024446_Swap-gate_111_1_sil18negative_5_swap')\n",
    "# b = Tomo2.BarPlotTomo(tag = 'positive_Tomo_X_C5')\n",
    "#c = Tomo2.BarPlotTomo(folder_name = '112601_Memory_Sweep_repump_time_positive_Tomo_X_C5_repump_power2e-08')\n",
    "# b = Tomo2.BarPlotTomo(folder_name = '_MBE_Tomography_Pippinpositive')\n",
    "b = Tomo2.BarPlotTomo(folder_name = '175930')\n",
    "# b = Tomo2.BarPlotTomo(folder_name = 'C8_negative_tau0_4.945e-06_part10_')"
   ]
  },
  {
   "cell_type": "markdown",
   "metadata": {},
   "source": [
    "### Contrast measurement"
   ]
  },
  {
   "cell_type": "code",
   "execution_count": null,
   "metadata": {
    "collapsed": false,
    "scrolled": false
   },
   "outputs": [],
   "source": [
    "from analysis.scripts.QEC import Two_Qubit_Tomography as Tomo2\n",
    "reload(Tomo2)\n",
    "\n",
    "# carbons = [8]\n",
    "# method = 'both'\n",
    "# for c in carbons:\n",
    "#     if method == 'MBI' or method == 'both':\n",
    "#         Tomo2.BarPlotTomoContrast(tag = '_' + str(c) + '_MBI')\n",
    "#     if method == 'swap' or method == 'both':\n",
    "#         Tomo2.BarPlotTomoContrast(tag = '_' + str(c) + '_swap')\n",
    "\n",
    "# Tomo2.BarPlotTomoContrast(tag = '_tau3_8.81e-06_part7_')\n",
    "\n",
    "# Tomo2.BarPlotTomoContrast(tag = '_1_MBI')\n",
    "# Tomo2.BarPlotTomoContrast(tag = '_Tomo_X_C5')\n",
    "# Tomo2.BarPlotTomoContrast(tag = '_statemX_Tomo_XY_C25')\n",
    "# Tomo2.BarPlotTomoContrast(tag = '_statemX_Tomo_YY_C25')\n",
    "# Tomo2.BarPlotTomoContrast(tag = '_statemX_Tomo_YX_C25')\n",
    "# Tomo2.BarPlotTomoContrast(tag = '_5_MBI')\n",
    "\n",
    "Tomo2.BarPlotTomoContrast(tag = '121750')\n",
    "# Tomo2.BarPlotTomoContrast(tag = '_2_swap')\n",
    "# Tomo2.BarPlotTomoContrast(tag = '_elState')\n",
    "# Tomo2.BarPlotTomoContrast(tag = '_elState')\n",
    "# Tomo2.BarPlotTomoContrast(tag = '_multiC_MBI_')\n",
    "\n",
    "# mpl.rcParams['axes.linewidth']=2\n",
    "# Tomo2.BarPlotTomoContrastFull_mult_msmts(older_than='20150423_010040')"
   ]
  },
  {
   "cell_type": "code",
   "execution_count": null,
   "metadata": {
    "collapsed": false,
    "scrolled": false
   },
   "outputs": [],
   "source": [
    "from analysis.scripts.QEC import Two_Qubit_Tomography as Tomo2; reload(Tomo2)\n",
    "reload(Tomo2)\n",
    "carbons = [4]\n",
    "for c in carbons:\n",
    "    Tomo2.CompleteTomo(folder_tag = 'Swap_gate_111no2_carbon' + str(c), \n",
    "                       older_than = None, \n",
    "                       newer_than = '20160510_162715',\n",
    "                       num_to_get = 3,\n",
    "                       plot_fit = True)"
   ]
  },
  {
   "cell_type": "code",
   "execution_count": null,
   "metadata": {
    "collapsed": false
   },
   "outputs": [],
   "source": [
    "gt = [183,137,230,246,131]\n",
    "fid = [0.8, 0.62,0.41,0.7,0.62]\n",
    "import matplotlib.pyplot as plt\n",
    "plt.plot(gt,fid,'ro')"
   ]
  },
  {
   "cell_type": "code",
   "execution_count": null,
   "metadata": {
    "collapsed": true
   },
   "outputs": [],
   "source": []
  }
 ],
 "metadata": {
  "kernelspec": {
   "display_name": "Python 2",
   "language": "python",
   "name": "python2"
  },
  "language_info": {
   "codemirror_mode": {
    "name": "ipython",
    "version": 2
   },
   "file_extension": ".py",
   "mimetype": "text/x-python",
   "name": "python",
   "nbconvert_exporter": "python",
   "pygments_lexer": "ipython2",
   "version": "2.7.3"
  }
 },
 "nbformat": 4,
 "nbformat_minor": 0
}
