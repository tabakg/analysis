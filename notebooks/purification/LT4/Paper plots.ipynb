{
 "cells": [
  {
   "cell_type": "code",
   "execution_count": null,
   "metadata": {
    "collapsed": false
   },
   "outputs": [],
   "source": [
    "execfile(r'D:\\measuring\\analysis\\scripts\\setup_analysis.py')\n",
    "%matplotlib inline"
   ]
  },
  {
   "cell_type": "markdown",
   "metadata": {},
   "source": [
    "# Feedback vs. no feedback"
   ]
  },
  {
   "cell_type": "code",
   "execution_count": null,
   "metadata": {
    "collapsed": false
   },
   "outputs": [],
   "source": [
    "from analysis.scripts.mbi import mbi_data_general_fits as fits; reload(fits)\n",
    "####\n",
    "#parameters / timestamps\n",
    "ssro_tstamp = '20160817_094252'\n",
    "tstamp_feedback = '20160817_141641'\n",
    "tstamp_no_feedback = '20160817_132726'\n",
    "####\n",
    "Result_w_feedback = fits.exp_sin(timestamp=  tstamp_feedback,\n",
    "                      offset=[0.5], amplitude = [0.5], center = [0], decay_constant = [300], \n",
    "                      exp_power = [2],\n",
    "                      frequency = [0.], phase =[0], \n",
    "                      fixed = [0,2,4,5,6],\n",
    "                      ylim = None,\n",
    "                      plot_fit = True, do_print = True, show_guess = False)[0]\n",
    "Result_wo_feedback = fits.exp_sin(timestamp=  tstamp_no_feedback,\n",
    "                      offset=[0.5], amplitude = [0.5], center = [0], decay_constant = [300], \n",
    "                      exp_power = [2],\n",
    "                      frequency = [0.04], phase =[0], \n",
    "                      fixed = [0,2,4],\n",
    "                      ylim = None,\n",
    "                      plot_fit = True, do_print = True, show_guess = False)[0]"
   ]
  },
  {
   "cell_type": "code",
   "execution_count": null,
   "metadata": {
    "collapsed": false
   },
   "outputs": [],
   "source": [
    "save_folder = r'K:\\ns\\qt\\Diamond\\Projects\\Purification\\Paper\\Plots' \n",
    "\n",
    "fig = plt.figure(figsize =(0.7577*6,0.7577*4))\n",
    "ax = plt.subplot(111)\n",
    "x_wo_feed = np.linspace(Result_wo_feedback['x'][0],Result_wo_feedback['x'][-1],200)\n",
    "x_w_feed = np.linspace(Result_w_feedback['x'][0],Result_w_feedback['x'][-1],200)\n",
    "\n",
    "### formatting\n",
    "lw = 1.5\n",
    "fontsize = 12\n",
    "markersize = 5\n",
    "\n",
    "col_w_feed = '#50A53A'\n",
    "col_wo_feed = 'black'\n",
    "\n",
    "ax.set_ylabel('p(ms = 0)',size = fontsize)\n",
    "ax.set_xlabel('N',size = fontsize)\n",
    "ax.set_xticklabels([0,20,40,60,80,100],size = fontsize)\n",
    "ax.set_yticklabels([0.0,0.2,0.4,0.6,0.8,1.0],size = fontsize)\n",
    "ax.xaxis.set_tick_params(width=lw)\n",
    "ax.yaxis.set_tick_params(width=lw)\n",
    "[i.set_linewidth(lw) for i in ax.spines.itervalues()]\n",
    "\n",
    "### commencde plotting\n",
    "plt.plot(x_w_feed,Result_w_feedback['fitfunc'](x_w_feed),color = col_w_feed,lw=lw)\n",
    "plt.plot(x_wo_feed,Result_wo_feedback['fitfunc'](x_wo_feed), color = col_wo_feed,lw = lw)\n",
    "plt.errorbar(Result_wo_feedback['x'],Result_wo_feedback['y'],Result_wo_feedback['y_u'],fmt = 'o',color = col_wo_feed,ms = markersize)\n",
    "plt.errorbar(Result_w_feedback['x'],Result_w_feedback['y'],Result_w_feedback['y_u'],fmt = 'o',color = col_w_feed,ms = markersize)\n",
    "plt.savefig(os.path.join(save_folder,'feedback_nofeedback.png'),format='png',bbox_inches = 'tight',pad_inches=0.3)\n",
    "plt.savefig(os.path.join(save_folder,'feedback_nofeedback.p'),format='png',bbox_inches = 'tight',pad_inches=0.3)"
   ]
  },
  {
   "cell_type": "code",
   "execution_count": null,
   "metadata": {
    "collapsed": true
   },
   "outputs": [],
   "source": [
    "ax.set_ylabel?"
   ]
  },
  {
   "cell_type": "code",
   "execution_count": null,
   "metadata": {
    "collapsed": true
   },
   "outputs": [],
   "source": [
    "plt.figure?"
   ]
  },
  {
   "cell_type": "code",
   "execution_count": null,
   "metadata": {
    "collapsed": false
   },
   "outputs": [],
   "source": [
    "plt.errorbar?"
   ]
  },
  {
   "cell_type": "code",
   "execution_count": null,
   "metadata": {
    "collapsed": true
   },
   "outputs": [],
   "source": []
  }
 ],
 "metadata": {
  "kernelspec": {
   "display_name": "Python 2",
   "language": "python",
   "name": "python2"
  },
  "language_info": {
   "codemirror_mode": {
    "name": "ipython",
    "version": 2
   },
   "file_extension": ".py",
   "mimetype": "text/x-python",
   "name": "python",
   "nbconvert_exporter": "python",
   "pygments_lexer": "ipython2",
   "version": "2.7.3"
  }
 },
 "nbformat": 4,
 "nbformat_minor": 0
}
