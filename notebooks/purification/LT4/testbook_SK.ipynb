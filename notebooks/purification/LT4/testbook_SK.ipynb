{
 "metadata": {
  "name": "",
  "signature": "sha256:aefcdbe7cda10e24cc4d201e727f02b9ba171a717ffa111a3fc9b2b8663e39d8"
 },
 "nbformat": 3,
 "nbformat_minor": 0,
 "worksheets": [
  {
   "cells": [
    {
     "cell_type": "code",
     "collapsed": false,
     "input": [
      "import visa\n",
      "# rm = visa.ResourceManager\n",
      "print visa.get_instruments_list()\n",
      "print visa.instrument('TCPIP0::192.168.0.51')\n"
     ],
     "language": "python",
     "metadata": {},
     "outputs": [
      {
       "output_type": "stream",
       "stream": "stdout",
       "text": [
        "['USB0::0x1313::0x8078::P0007639', 'TCPIP0::192.168.0.51', 'COM1', 'COM4', 'COM7']\n",
        "Instrument(\"TCPIP0::192.168.0.51::inst0::INSTR\")\n"
       ]
      }
     ],
     "prompt_number": 42
    },
    {
     "cell_type": "code",
     "collapsed": false,
     "input": [
      "# execfile(r'D:\\measuring\\measurement\\instruments\\test_visa_SK.py')"
     ],
     "language": "python",
     "metadata": {},
     "outputs": [],
     "prompt_number": 24
    },
    {
     "cell_type": "code",
     "collapsed": false,
     "input": [
      "reload(r'D:\\measuring\\measurement\\instruments\\toptica_DLpro.py')\n",
      "execfile(r'D:\\measuring\\measurement\\instruments\\toptica_DLpro.py')"
     ],
     "language": "python",
     "metadata": {},
     "outputs": [
      {
       "ename": "TypeError",
       "evalue": "reload() argument must be module",
       "output_type": "pyerr",
       "traceback": [
        "\u001b[1;31m---------------------------------------------------------------------------\u001b[0m\n\u001b[1;31mTypeError\u001b[0m                                 Traceback (most recent call last)",
        "\u001b[1;32m<ipython-input-7-075dbdefc381>\u001b[0m in \u001b[0;36m<module>\u001b[1;34m()\u001b[0m\n\u001b[1;32m----> 1\u001b[1;33m \u001b[0mreload\u001b[0m\u001b[1;33m(\u001b[0m\u001b[1;34mr'D:\\measuring\\measurement\\instruments\\toptica_DLpro.py'\u001b[0m\u001b[1;33m)\u001b[0m\u001b[1;33m\u001b[0m\u001b[0m\n\u001b[0m\u001b[0;32m      2\u001b[0m \u001b[0mexecfile\u001b[0m\u001b[1;33m(\u001b[0m\u001b[1;34mr'D:\\measuring\\measurement\\instruments\\toptica_DLpro.py'\u001b[0m\u001b[1;33m)\u001b[0m\u001b[1;33m\u001b[0m\u001b[0m\n",
        "\u001b[1;31mTypeError\u001b[0m: reload() argument must be module"
       ]
      }
     ],
     "prompt_number": 7
    }
   ],
   "metadata": {}
  }
 ]
}