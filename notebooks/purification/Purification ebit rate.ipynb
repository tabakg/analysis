{
 "cells": [
  {
   "cell_type": "code",
   "execution_count": null,
   "metadata": {
    "collapsed": false
   },
   "outputs": [],
   "source": [
    "## setup analysis\n",
    "execfile(r'D:\\measuring\\analysis\\scripts\\setup_analysis.py')\n",
    "from analysis.lib.purification import purify_pq as ppq; reload(ppq)\n",
    "from analysis.lib.purification import purify_analysis as pa; reload(pa)\n",
    "import  analysis.lib.purification.purify_pq as ppq\n",
    "\n",
    "%matplotlib inline\n",
    "\n",
    "thetas = ['pi/4','pi/5','pi/6','pi/8']\n",
    "\n",
    "outcome_bins = np.arange(50,540,50)"
   ]
  },
  {
   "cell_type": "code",
   "execution_count": null,
   "metadata": {
    "collapsed": true
   },
   "outputs": [],
   "source": [
    "def calculate_ebit_rate(outcome_bins,apply_ROC = True):\n",
    "    \n",
    "    ## get correlation probabilties\n",
    "    psi_m_XX,psi_p_XX,psi_m_XX_corrs,psi_p_XX_corrs = Purify_XX.sweep_filter_parameter_vs_correlations('bin_w2',outcome_bins,\n",
    "                                                                         apply_ROC = apply_ROC,do_plot= False)\n",
    "    psi_m_YY,psi_p_YY,psi_m_YY_corrs,psi_p_YY_corrs = Purify_YY.sweep_filter_parameter_vs_correlations('bin_w2',outcome_bins,\n",
    "                                                                         apply_ROC = apply_ROC,do_plot= False)\n",
    "    psi_m_ZZ,psi_p_ZZ,psi_m_ZZ_corrs,psi_p_ZZ_corrs = Purify_ZZ.sweep_filter_parameter_vs_correlations('bin_w2',outcome_bins,\n",
    "                                                                         apply_ROC = apply_ROC,do_plot= False)       \n",
    "    ## calculate fidelities\n",
    "    psi_m_F = (psi_m_XX[1] + psi_m_YY[1] + psi_m_ZZ[1]+1)/4.\n",
    "    psi_p_F = (psi_p_XX[1] + psi_p_YY[1] + psi_p_ZZ[1]+1)/4.\n",
    "    \n",
    "    ## calciulate error bars\n",
    "    psi_m_F_u = np.sqrt(psi_m_XX[2]**2 + psi_m_YY[2]**2 + psi_m_ZZ[2]**2)/4.\n",
    "    psi_p_F_u = np.sqrt(psi_p_XX[2]**2 + psi_p_YY[2]**2 + psi_p_ZZ[2]**2)/4.\n",
    "    \n",
    "    # calculate ebits    \n",
    "    ebits_p, ebits_p_u = pa.calculate_ebits(psi_m_YY,psi_m_ZZ,psi_m_XX_corrs)\n",
    "    ebits_m, ebits_m_u = pa.calculate_ebits(psi_p_YY,psi_p_ZZ,psi_p_XX_corrs)\n",
    "    \n",
    "    total_counts_p = psi_p_XX[0]+psi_p_YY[0]+psi_p_ZZ[0]\n",
    "    total_counts_m = psi_m_XX[0]+psi_m_YY[0]+psi_m_ZZ[0]\n",
    "    \n",
    "    total_time = Purify_XX.estimate_sequence_time() + Purify_YY.estimate_sequence_time() + Purify_ZZ.estimate_sequence_time()\n",
    "    \n",
    "    rate_p = np.array(total_counts_p)/total_time\n",
    "    rate_m = np.array(total_counts_m)/total_time\n",
    "    \n",
    "    ebit_rate_p = np.sum(rate_p*ebits_p)\n",
    "    ebit_rate_p_u = np.sqrt(np.sum(rate_p**2*ebits_p_u**2))\n",
    "    ebit_rate_m = np.sum(rate_m*ebits_m)\n",
    "    ebit_rate_m_u = np.sqrt(np.sum(rate_m**2*ebits_m_u**2))\n",
    "    \n",
    "    avg_fidelity_p = np.sum(psi_p_F*total_counts_p)/np.sum(total_counts_p)\n",
    "    avg_fidelity_p_u = np.sqrt(np.sum(psi_p_F_u**2*total_counts_p**2))/np.sum(total_counts_p)\n",
    "    avg_fidelity_m = np.sum(psi_m_F*total_counts_p)/np.sum(total_counts_m)\n",
    "    avg_fidelity_m_u = np.sqrt(np.sum(psi_m_F_u**2*total_counts_p**2))/np.sum(total_counts_m)\n",
    "    \n",
    "    rate_p = np.sum(rate_p)\n",
    "    rate_m = np.sum(rate_m)\n",
    "    \n",
    "    return [rate_p,rate_m,ebit_rate_p,ebit_rate_p_u,ebit_rate_m,ebit_rate_m_u,avg_fidelity_p,avg_fidelity_p_u,avg_fidelity_m,avg_fidelity_m_u]"
   ]
  },
  {
   "cell_type": "code",
   "execution_count": null,
   "metadata": {
    "collapsed": false,
    "scrolled": false
   },
   "outputs": [],
   "source": [
    "vals = []\n",
    "\n",
    "for theta in thetas:\n",
    "    \n",
    "    folder_lt3,folder_lt4 = pa.get_folders_from_theta(theta)\n",
    "    ssro_calib_lt3,ssro_calib_lt4 = pa.get_ssro_calibs()\n",
    "\n",
    "    Purify_XX = pa.purify_analysis('purification_analysis',folder_lt3,folder_lt4,ssro_calib_lt3,ssro_calib_lt4)\n",
    "    Purify_YY = pa.purify_analysis('purification_analysis',folder_lt3,folder_lt4,ssro_calib_lt3,ssro_calib_lt4)\n",
    "    Purify_ZZ = pa.purify_analysis('purification_analysis',folder_lt3,folder_lt4,ssro_calib_lt3,ssro_calib_lt4)\n",
    "\n",
    "    Purify_XX.get_tstamps_and_offsets(contains = 'XX')\n",
    "    Purify_YY.get_tstamps_and_offsets(contains = 'YY')\n",
    "    Purify_ZZ.get_tstamps_and_offsets(contains = 'ZZ')\n",
    "\n",
    "#     ### load the data\n",
    "    Purify_XX.load_raw_data()\n",
    "    Purify_XX.correct_pq_times()\n",
    "    Purify_YY.load_raw_data()\n",
    "    Purify_YY.correct_pq_times()\n",
    "    Purify_ZZ.load_raw_data()\n",
    "    Purify_ZZ.correct_pq_times()\n",
    "    \n",
    "    vals.append(calculate_ebit_rate(outcome_bins = outcome_bins))\n",
    "   \n",
    "vals = np.transpose(vals)"
   ]
  },
  {
   "cell_type": "markdown",
   "metadata": {},
   "source": [
    "## Calculations for other bounds"
   ]
  },
  {
   "cell_type": "code",
   "execution_count": null,
   "metadata": {
    "collapsed": false
   },
   "outputs": [],
   "source": [
    "TPQI_vis = 0.5765\n",
    "TPQI_vis_u = 0.04\n",
    "\n",
    "estimatedFirstClickProb = 0.000757 # At 50% superpos.\n",
    "tailLT3 = 12.\n",
    "tailLT4 = 6.\n",
    "firstClickProbLT3 = (tailLT4/(tailLT4+tailLT3))*estimatedFirstClickProb\n",
    "firstClickProbLT4 = (tailLT3/(tailLT4+tailLT3))*estimatedFirstClickProb\n",
    "\n",
    "pBK = 0.5*firstClickProbLT3*firstClickProbLT4\n",
    "estimatedRateBK = pBK / (7e-6)\n",
    "estimatedEbitsBK= np.log2(1+TPQI_vis)\n",
    "\n",
    "# print pBK\n",
    "# print estimatedRateBK\n",
    "# print estimatedEbitsBK\n",
    "\n",
    "estimatedEbitRateBK = estimatedRateBK*estimatedEbitsBK\n"
   ]
  },
  {
   "cell_type": "code",
   "execution_count": null,
   "metadata": {
    "collapsed": false
   },
   "outputs": [],
   "source": [
    "thetas = [np.pi/4,np.pi/5,np.pi/6,np.pi/8]\n",
    "\n",
    "rate_p = vals[0]\n",
    "rate_m = vals[1]\n",
    "ebit_rate_p = vals[2]\n",
    "ebit_rate_p_u = vals[3]\n",
    "ebit_rate_m = vals[4]\n",
    "ebit_rate_m_u = vals[5]\n",
    "avg_fidelity_p = vals[6]\n",
    "avg_fidelity_p_u = vals[7]\n",
    "avg_fidelity_m = vals[8]\n",
    "avg_fidelity_m_u = vals[9]\n",
    "\n",
    "super_posn_frac = np.sin(thetas)**2\n",
    "\n",
    "total_ebit_rate = ebit_rate_p + ebit_rate_m\n",
    "total_ebit_rate_u = np.sqrt(ebit_rate_p_u**2 + ebit_rate_m_u**2)\n",
    "\n",
    "fig  = plt.figure()\n",
    "ax = plt.subplot()\n",
    "ax.set_xlabel('Superposn ms=0 frac.')\n",
    "ax.set_ylabel('Ebit rate')\n",
    "plt.errorbar(super_posn_frac,total_ebit_rate,total_ebit_rate_u,label = 'Pur')\n",
    "plt.plot([0, 0.6], [estimatedEbitRateBK, estimatedEbitRateBK], label = 'BK')\n",
    "plt.plot([0, 0.6], [estimatedRateBK, estimatedRateBK], label = 'BK perfect')\n",
    "plt.xlim([0.1,0.55])\n",
    "plt.ylim([0,plt.ylim()[1]])\n",
    "plt.legend()\n",
    "plt.show()\n",
    "plt.close('all')\n",
    "\n",
    "fig  = plt.figure()\n",
    "ax = plt.subplot()\n",
    "ax.set_xlabel('Superposn ms=0 frac.')\n",
    "ax.set_ylabel('Raw rate (Hz)')\n",
    "plt.plot(super_posn_frac,rate_m,label = '-')\n",
    "plt.plot(super_posn_frac,rate_p,label = '+')\n",
    "plt.xlim([0.1,0.55])\n",
    "plt.legend()\n",
    "plt.show()\n",
    "plt.close('all')\n",
    "\n",
    "fig  = plt.figure()\n",
    "ax = plt.subplot()\n",
    "ax.set_xlabel('Superposn ms=0 frac.')\n",
    "ax.set_ylabel('Avg fidelity')\n",
    "plt.errorbar(super_posn_frac,avg_fidelity_m,avg_fidelity_m_u,label = '-')\n",
    "plt.errorbar(super_posn_frac,avg_fidelity_p,avg_fidelity_p_u,label = '+')\n",
    "plt.xlim([0.1,0.55])\n",
    "plt.legend()\n",
    "plt.show()\n",
    "plt.close('all')"
   ]
  },
  {
   "cell_type": "code",
   "execution_count": null,
   "metadata": {
    "collapsed": true
   },
   "outputs": [],
   "source": []
  }
 ],
 "metadata": {
  "kernelspec": {
   "display_name": "Python 2",
   "language": "python",
   "name": "python2"
  },
  "language_info": {
   "codemirror_mode": {
    "name": "ipython",
    "version": 2
   },
   "file_extension": ".py",
   "mimetype": "text/x-python",
   "name": "python",
   "nbconvert_exporter": "python",
   "pygments_lexer": "ipython2",
   "version": "2.7.3"
  }
 },
 "nbformat": 4,
 "nbformat_minor": 0
}
