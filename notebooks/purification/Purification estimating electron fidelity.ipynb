{
 "cells": [
  {
   "cell_type": "code",
   "execution_count": 1,
   "metadata": {
    "collapsed": false
   },
   "outputs": [
    {
     "name": "stdout",
     "output_type": "stream",
     "text": [
      "reloaded\n"
     ]
    }
   ],
   "source": [
    "## setup analysis\n",
    "execfile(r'D:\\measuring\\analysis\\scripts\\setup_analysis.py')\n",
    "from analysis.lib.purification import purify_pq as ppq; reload(ppq)\n",
    "from analysis.lib.purification import purify_analysis as pa; reload(pa)\n",
    "%matplotlib inline\n",
    "\n",
    "folder_lt3 = r'D:\\measuring\\data\\Purification_lt3_raw_data\\Eta_vs_Theta'\n",
    "folder_lt4 = r'D:\\measuring\\data\\Purification_lt4_raw_data\\Eta_vs_Theta'\n",
    "\n",
    "### ssro calibrations\n",
    "day = '20160726_' # for ssro calibration\n",
    "ssro_calib_lt3 = day+'095123'\n",
    "ssro_calib_lt4 = day+'104600'\n",
    "\n",
    "Purify_analysis = pa.purify_analysis('Eta_v_Theta',folder_lt3,folder_lt4,ssro_calib_lt3,ssro_calib_lt4)\n",
    "\n",
    "msmt_days_unshifted = ['20160726']\n",
    "msmt_days_shifted = ['20160824']\n",
    "\n",
    "ms0_percents = [10,15,25,35,50,75]\n",
    "real_theta_vals = np.flipud((0.5-np.array([0.153355,0.2525,0.2827,0.323754,0.362197,0.3865]))\n",
    ")*np.pi\n",
    "real_pop_vals = np.sin(real_theta_vals)**2\n",
    "TPQI_vis = 0.725\n",
    "TPQI_vis_u = 0.03\n"
   ]
  },
  {
   "cell_type": "code",
   "execution_count": 2,
   "metadata": {
    "collapsed": false
   },
   "outputs": [
    {
     "ename": "WindowsError",
     "evalue": "[Error 3] The system cannot find the path specified: 'D:\\\\measuring\\\\data\\\\Purification_lt3_raw_data\\\\Eta_vs_Theta/*.*'",
     "output_type": "error",
     "traceback": [
      "\u001b[1;31m---------------------------------------------------------------------------\u001b[0m",
      "\u001b[1;31mWindowsError\u001b[0m                              Traceback (most recent call last)",
      "\u001b[1;32m<ipython-input-2-407194372ddb>\u001b[0m in \u001b[0;36m<module>\u001b[1;34m()\u001b[0m\n\u001b[0;32m     14\u001b[0m         \u001b[0mst_start\u001b[0m \u001b[1;33m=\u001b[0m \u001b[1;36m3057e3\u001b[0m\u001b[1;31m#2763e3\u001b[0m\u001b[1;33m\u001b[0m\u001b[0m\n\u001b[0;32m     15\u001b[0m \u001b[1;33m\u001b[0m\u001b[0m\n\u001b[1;32m---> 16\u001b[1;33m     \u001b[0mPurify_analysis\u001b[0m\u001b[1;33m.\u001b[0m\u001b[0mget_tstamps_and_offsets\u001b[0m\u001b[1;33m(\u001b[0m\u001b[0munshifted_days\u001b[0m \u001b[1;33m=\u001b[0m \u001b[0mmsmt_days_unshifted\u001b[0m\u001b[1;33m,\u001b[0m \u001b[0mshifted_days\u001b[0m \u001b[1;33m=\u001b[0m \u001b[0mmsmt_days_shifted\u001b[0m\u001b[1;33m,\u001b[0m \u001b[0mcontains\u001b[0m \u001b[1;33m=\u001b[0m \u001b[0mstring\u001b[0m\u001b[1;33m)\u001b[0m\u001b[1;33m\u001b[0m\u001b[0m\n\u001b[0m\u001b[0;32m     17\u001b[0m     \u001b[0mPurify_analysis\u001b[0m\u001b[1;33m.\u001b[0m\u001b[0mload_raw_data\u001b[0m\u001b[1;33m(\u001b[0m\u001b[1;33m)\u001b[0m\u001b[1;33m\u001b[0m\u001b[0m\n\u001b[0;32m     18\u001b[0m \u001b[1;33m\u001b[0m\u001b[0m\n",
      "\u001b[1;32md:/measuring\\analysis\\lib\\purification\\purify_analysis.pyc\u001b[0m in \u001b[0;36mget_tstamps_and_offsets\u001b[1;34m(self, contains, return_tstamps, verbose, unshifted_days, shifted_days, shifted_data_correction_time, shifted_data_start_offset_ch1, unshifted_data_start_offset_ch1)\u001b[0m\n\u001b[0;32m     93\u001b[0m                 \u001b[1;32mif\u001b[0m \u001b[0mverbose\u001b[0m\u001b[1;33m:\u001b[0m\u001b[1;33m\u001b[0m\u001b[0m\n\u001b[0;32m     94\u001b[0m                         \u001b[1;32mprint\u001b[0m \u001b[0md\u001b[0m\u001b[1;33m\u001b[0m\u001b[0m\n\u001b[1;32m---> 95\u001b[1;33m                 \u001b[0mtstamp_lt3\u001b[0m\u001b[1;33m,\u001b[0m\u001b[0mtstamp_lt4\u001b[0m \u001b[1;33m=\u001b[0m \u001b[0mself\u001b[0m\u001b[1;33m.\u001b[0m\u001b[0mtstamps_for_both_setups\u001b[0m\u001b[1;33m(\u001b[0m\u001b[0md\u001b[0m\u001b[1;33m,\u001b[0m\u001b[0mcontains\u001b[0m \u001b[1;33m=\u001b[0m \u001b[0mcontains\u001b[0m\u001b[1;33m)\u001b[0m\u001b[1;33m\u001b[0m\u001b[0m\n\u001b[0m\u001b[0;32m     96\u001b[0m                 \u001b[1;31m#,newest_tstamp = '110000') ### newest timestamp allows for only taking parts of a day.\u001b[0m\u001b[1;33m\u001b[0m\u001b[1;33m\u001b[0m\u001b[0m\n\u001b[0;32m     97\u001b[0m                 \u001b[0mall_lt3\u001b[0m\u001b[1;33m.\u001b[0m\u001b[0mextend\u001b[0m\u001b[1;33m(\u001b[0m\u001b[0mtstamp_lt3\u001b[0m\u001b[1;33m)\u001b[0m\u001b[1;33m\u001b[0m\u001b[0m\n",
      "\u001b[1;32md:/measuring\\analysis\\lib\\purification\\purify_analysis.pyc\u001b[0m in \u001b[0;36mtstamps_for_both_setups\u001b[1;34m(self, day_string, contains, newest_tstamp)\u001b[0m\n\u001b[0;32m   1577\u001b[0m         \"\"\"\n\u001b[0;32m   1578\u001b[0m \u001b[1;33m\u001b[0m\u001b[0m\n\u001b[1;32m-> 1579\u001b[1;33m         \u001b[0mlt3_t_list\u001b[0m \u001b[1;33m=\u001b[0m \u001b[0mself\u001b[0m\u001b[1;33m.\u001b[0m\u001b[0mfind_tstamps_of_day\u001b[0m\u001b[1;33m(\u001b[0m\u001b[1;33m[\u001b[0m\u001b[1;33m]\u001b[0m\u001b[1;33m,\u001b[0m\u001b[0mday_string\u001b[0m\u001b[1;33m,\u001b[0m\u001b[0mcontains\u001b[0m\u001b[1;33m=\u001b[0m\u001b[0mcontains\u001b[0m\u001b[1;33m,\u001b[0m\u001b[0manalysis_folder\u001b[0m \u001b[1;33m=\u001b[0m \u001b[0mself\u001b[0m\u001b[1;33m.\u001b[0m\u001b[0mlt3_folder\u001b[0m \u001b[1;33m,\u001b[0m\u001b[0mnewest_tstamp\u001b[0m \u001b[1;33m=\u001b[0m \u001b[0mnewest_tstamp\u001b[0m\u001b[1;33m)\u001b[0m\u001b[1;33m\u001b[0m\u001b[0m\n\u001b[0m\u001b[0;32m   1580\u001b[0m         \u001b[0mlt4_t_list\u001b[0m \u001b[1;33m=\u001b[0m \u001b[0mself\u001b[0m\u001b[1;33m.\u001b[0m\u001b[0mfind_tstamps_of_day\u001b[0m\u001b[1;33m(\u001b[0m\u001b[1;33m[\u001b[0m\u001b[1;33m]\u001b[0m\u001b[1;33m,\u001b[0m\u001b[0mday_string\u001b[0m\u001b[1;33m,\u001b[0m\u001b[0mcontains\u001b[0m\u001b[1;33m=\u001b[0m\u001b[0mcontains\u001b[0m\u001b[1;33m,\u001b[0m\u001b[0manalysis_folder\u001b[0m \u001b[1;33m=\u001b[0m \u001b[0mself\u001b[0m\u001b[1;33m.\u001b[0m\u001b[0mlt4_folder\u001b[0m\u001b[1;33m,\u001b[0m \u001b[0mnewest_tstamp\u001b[0m \u001b[1;33m=\u001b[0m \u001b[0mnewest_tstamp\u001b[0m\u001b[1;33m)\u001b[0m\u001b[1;33m\u001b[0m\u001b[0m\n\u001b[0;32m   1581\u001b[0m \u001b[1;33m\u001b[0m\u001b[0m\n",
      "\u001b[1;32md:/measuring\\analysis\\lib\\purification\\purify_analysis.pyc\u001b[0m in \u001b[0;36mfind_tstamps_of_day\u001b[1;34m(self, ts_list, day_string, contains, analysis_folder, newest_tstamp)\u001b[0m\n\u001b[0;32m   1593\u001b[0m         \u001b[0mnewer_than\u001b[0m \u001b[1;33m=\u001b[0m \u001b[0mday_string\u001b[0m\u001b[1;33m+\u001b[0m\u001b[1;34m'_000000'\u001b[0m\u001b[1;33m\u001b[0m\u001b[0m\n\u001b[0;32m   1594\u001b[0m \u001b[1;33m\u001b[0m\u001b[0m\n\u001b[1;32m-> 1595\u001b[1;33m         \u001b[1;32mwhile\u001b[0m \u001b[0mtb\u001b[0m\u001b[1;33m.\u001b[0m\u001b[0mlatest_data\u001b[0m\u001b[1;33m(\u001b[0m\u001b[0mcontains\u001b[0m\u001b[1;33m,\u001b[0m\u001b[0molder_than\u001b[0m\u001b[1;33m=\u001b[0m\u001b[0mlatest_t\u001b[0m\u001b[1;33m,\u001b[0m\u001b[0mfolder\u001b[0m\u001b[1;33m=\u001b[0m\u001b[0manalysis_folder\u001b[0m\u001b[1;33m,\u001b[0m\u001b[0mnewer_than\u001b[0m\u001b[1;33m=\u001b[0m\u001b[0mnewer_than\u001b[0m\u001b[1;33m,\u001b[0m\u001b[0mreturn_timestamp\u001b[0m \u001b[1;33m=\u001b[0m \u001b[0mTrue\u001b[0m\u001b[1;33m,\u001b[0m\u001b[0mraise_exc\u001b[0m \u001b[1;33m=\u001b[0m \u001b[0mFalse\u001b[0m\u001b[1;33m)\u001b[0m \u001b[1;33m!=\u001b[0m \u001b[0mFalse\u001b[0m\u001b[1;33m:\u001b[0m\u001b[1;33m\u001b[0m\u001b[0m\n\u001b[0m\u001b[0;32m   1596\u001b[0m \u001b[1;33m\u001b[0m\u001b[0m\n\u001b[0;32m   1597\u001b[0m             \u001b[0mlatest_t\u001b[0m\u001b[1;33m,\u001b[0m\u001b[0mf\u001b[0m \u001b[1;33m=\u001b[0m \u001b[0mtb\u001b[0m\u001b[1;33m.\u001b[0m\u001b[0mlatest_data\u001b[0m\u001b[1;33m(\u001b[0m\u001b[0mcontains\u001b[0m\u001b[1;33m,\u001b[0m\u001b[0molder_than\u001b[0m\u001b[1;33m=\u001b[0m\u001b[0mlatest_t\u001b[0m\u001b[1;33m,\u001b[0m\u001b[0mfolder\u001b[0m\u001b[1;33m=\u001b[0m\u001b[0manalysis_folder\u001b[0m\u001b[1;33m,\u001b[0m\u001b[0mnewer_than\u001b[0m\u001b[1;33m=\u001b[0m\u001b[0mnewer_than\u001b[0m\u001b[1;33m,\u001b[0m\u001b[0mreturn_timestamp\u001b[0m \u001b[1;33m=\u001b[0m \u001b[0mTrue\u001b[0m\u001b[1;33m,\u001b[0m\u001b[0mraise_exc\u001b[0m\u001b[1;33m=\u001b[0m\u001b[0mFalse\u001b[0m\u001b[1;33m)\u001b[0m\u001b[1;33m\u001b[0m\u001b[0m\n",
      "\u001b[1;32md:/measuring\\analysis\\lib\\tools\\toolbox.pyc\u001b[0m in \u001b[0;36mlatest_data\u001b[1;34m(contains, older_than, newer_than, return_timestamp, raise_exc, folder, return_all, VERBOSE, **kw)\u001b[0m\n\u001b[0;32m     98\u001b[0m         \u001b[0msearch_dir\u001b[0m \u001b[1;33m=\u001b[0m \u001b[0mfolder\u001b[0m\u001b[1;33m\u001b[0m\u001b[0m\n\u001b[0;32m     99\u001b[0m \u001b[1;33m\u001b[0m\u001b[0m\n\u001b[1;32m--> 100\u001b[1;33m     \u001b[0mdaydirs\u001b[0m \u001b[1;33m=\u001b[0m \u001b[0mos\u001b[0m\u001b[1;33m.\u001b[0m\u001b[0mlistdir\u001b[0m\u001b[1;33m(\u001b[0m\u001b[0msearch_dir\u001b[0m\u001b[1;33m)\u001b[0m\u001b[1;33m\u001b[0m\u001b[0m\n\u001b[0m\u001b[0;32m    101\u001b[0m \u001b[1;33m\u001b[0m\u001b[0m\n\u001b[0;32m    102\u001b[0m     \u001b[1;32mif\u001b[0m \u001b[0mlen\u001b[0m\u001b[1;33m(\u001b[0m\u001b[0mdaydirs\u001b[0m\u001b[1;33m)\u001b[0m \u001b[1;33m==\u001b[0m \u001b[1;36m0\u001b[0m\u001b[1;33m:\u001b[0m\u001b[1;33m\u001b[0m\u001b[0m\n",
      "\u001b[1;31mWindowsError\u001b[0m: [Error 3] The system cannot find the path specified: 'D:\\\\measuring\\\\data\\\\Purification_lt3_raw_data\\\\Eta_vs_Theta/*.*'"
     ]
    }
   ],
   "source": [
    "fidelities = []\n",
    "fidelities_u = []\n",
    "fidelities_mixed = []\n",
    "fidelities_mixed_u = []\n",
    "val00 = []\n",
    "val11 = []\n",
    "\n",
    "for ms0_percent in ms0_percents:\n",
    "    if ms0_percent != 35:\n",
    "        string = 'eta_'+str(ms0_percent)+'percent'\n",
    "        st_start = 3055e3#2763e3\n",
    "    else:\n",
    "        string = 'ZZ_'+str(ms0_percent)+'percent'\n",
    "        st_start = 3057e3#2763e3\n",
    "        \n",
    "    Purify_analysis.get_tstamps_and_offsets(unshifted_days = msmt_days_unshifted, shifted_days = msmt_days_shifted, contains = string)\n",
    "    Purify_analysis.load_raw_data()\n",
    "    \n",
    "    ##### Set filters:\n",
    "    st_start = 3055e3#2763e3\n",
    "    st_len       = 40e3 #50 ns\n",
    "    st_len_w2    = 40e3\n",
    "    \n",
    "    Purify_analysis.apply_temporal_filters_to_prefiltered_data(st_start = st_start,\n",
    "                                                           st_len = st_len,\n",
    "                                                           st_len_w2 = st_len_w2\n",
    "                                                           )\n",
    "    Purify_analysis.apply_sync_filter_w1_w2()\n",
    "    corrected_corrs,u_corrected_corrs,no = Purify_analysis.correlate_RO_results_no_purification(apply_ROC = True,return_value = True,verbose=False)\n",
    "    val00.append(corrected_corrs[3])\n",
    "    val11.append(corrected_corrs[0])\n",
    "    fidelities.append((corrected_corrs[1]+corrected_corrs[2] + 2*np.sqrt(TPQI_vis*corrected_corrs[1]*corrected_corrs[2]))/2)\n",
    "    fidelities_u.append(np.sqrt((1+np.sqrt(TPQI_vis*corrected_corrs[2]/corrected_corrs[1]))*u_corrected_corrs[1]**2\\\n",
    "                               +(1+np.sqrt(TPQI_vis*corrected_corrs[1]/corrected_corrs[2]))*u_corrected_corrs[2]**2\\\n",
    "                               +np.sqrt(corrected_corrs[1]*corrected_corrs[2]/TPQI_vis)*TPQI_vis_u**2)/2)\n",
    "    \n",
    "    fidelities_mixed.append((corrected_corrs[1]+corrected_corrs[2])/2)\n",
    "    fidelities_mixed_u.append(np.sqrt(u_corrected_corrs[1]**2+u_corrected_corrs[2]**2)/2)\n",
    "\n"
   ]
  },
  {
   "cell_type": "code",
   "execution_count": null,
   "metadata": {
    "collapsed": false
   },
   "outputs": [],
   "source": [
    "execfile(r'D:\\measuring\\analysis\\scripts\\setup_analysis.py')\n",
    "from analysis.lib.purification import purify_pq as ppq; reload(ppq)\n",
    "from analysis.lib.purification import purify_analysis as pa; reload(pa)\n",
    "%matplotlib inline\n",
    "\n",
    "ms0_percents = [10,15,25,35,50,75]\n",
    "real_theta_vals = np.flipud((0.5-np.array([0.153355,0.2525,0.2827,0.323754,0.362197,0.3865]))\n",
    ")*np.pi\n",
    "real_pop_vals = np.sin(real_theta_vals)**2\n",
    "TPQI_vis = 0.725\n",
    "TPQI_vis_u = 0.03"
   ]
  },
  {
   "cell_type": "code",
   "execution_count": null,
   "metadata": {
    "collapsed": false
   },
   "outputs": [],
   "source": [
    "purified_state_pops = real_pop_vals[1:5]#np.array([15,25,34.5,50])/100.\n",
    "\n",
    "pur_Fids_m_and_p = np.flipud(np.array([[0.50599, 0.02954, 0.51779, 0.02976],\\\n",
    "                    [0.61099, 0.03484, 0.57424, 0.03461],\\\n",
    "                    [0.65494, 0.03380, 0.65526, 0.03479],\\\n",
    "                    [0.74337, 0.03981, 0.73586, 0.03788]]))\n",
    "\n",
    "purified_state_fid =  0.5*(pur_Fids_m_and_p[:,0]+pur_Fids_m_and_p[:,2])\n",
    "purified_state_fid_u =  0.5*np.sqrt(pur_Fids_m_and_p[:,1]**2+pur_Fids_m_and_p[:,3]**2)\n",
    "\n",
    "model_theta_pur = [0.0244717,0.0954915,0.206107,0.345492,0.5,0.654508,0.793893,0.904508,0.975528,1.]\n",
    "model_fids_pur = [0.75495,0.751584,0.717445,0.663532,0.589792,0.496099,0.385553,0.268143,0.164567,0.116475]\n",
    "model_theta_store = [0.0244717, 0.0544967, 0.0954915, 0.146447, 0.206107, 0.273005, \n",
    "0.345492, 0.421783, 0.5, 0.578217, 0.654508]\n",
    "model_fids_stored_0 = [0.705493, 0.741849, 0.732398, 0.702568, 0.660533, 0.610118, \n",
    "0.553802, 0.493591, 0.435622, 0.441202, 0.446663]\n",
    "model_fids_stored_25 = [0.691955, 0.727038, 0.717918, 0.689132, 0.648569, 0.59992, \n",
    "0.545576, 0.487474, 0.431489, 0.43613, 0.440672]\n",
    "model_fids_stored_50 = [0.667111, 0.699857, 0.691345, 0.664476, 0.626615, 0.581206, \n",
    "0.530482, 0.47625, 0.423904, 0.426822, 0.429677]\n",
    "def corrs_theta_theory(theta,pd1,pd2,pdc):\n",
    "    p11 = 2*np.cos(theta)**4 * pdc\n",
    "    p00=np.sin(theta)**4 * (pd1*(1-pd2)+pd2*(1-pd1))\n",
    "    p01=np.sin(theta)**2 * np.cos(theta)**2 * pd2\n",
    "    p10=np.sin(theta)**2 * np.cos(theta)**2 * pd1\n",
    "    return np.array([p00,p01,p10,p11])/np.tile((p00+p01+p10+p11)[np.newaxis].T,4).T\n",
    "\n",
    "\n",
    "pd1 = 8e-4;\n",
    "pd2 = 0.5*pd1;\n",
    "pdc = 2.5e-6;\n",
    "e_state_thetas = np.arange(np.pi/20,np.pi/2+np.pi/21.,np.pi/20) \n",
    "e_state_pops = np.sin(e_state_thetas)**2\n",
    "corrs_e_state = corrs_theta_theory(e_state_thetas,pd1,pd2,pdc)\n",
    "model_fids_estate = ((corrs_e_state[1]+corrs_e_state[2] + 2*np.sqrt(TPQI_vis*corrs_e_state[1]*corrs_e_state[2]))/2)\n",
    "model_fids_estate_mixed = ((corrs_e_state[1]+corrs_e_state[2])/2)"
   ]
  },
  {
   "cell_type": "code",
   "execution_count": null,
   "metadata": {
    "collapsed": false
   },
   "outputs": [],
   "source": [
    "save_folder = r'K:\\ns\\qt\\Diamond\\Projects\\Purification\\Paper\\Plots'\n",
    "# save_folder = r'D:\\nkalb\\Desktop'\n",
    "golden_ratio = 1.61803\n",
    "mm_to_inches = 0.0393701 ### inch/mm\n",
    "figure_width = mm_to_inches*78\n",
    "fig = plt.figure(figsize =(figure_width,figure_width/golden_ratio))\n",
    "ax = plt.subplot(111)\n",
    "\n",
    "lw = 1\n",
    "fontsize = 10\n",
    "markersize = 4\n",
    "ax.tick_params(labelsize = fontsize,width =lw)\n",
    "for axis in ['top','bottom','left','right']:\n",
    "    ax.spines[axis].set_linewidth(lw)\n",
    "ax.yaxis.label.set_size(fontsize)\n",
    "ax.xaxis.label.set_size(fontsize)\n",
    "\n",
    "\n",
    "# plt.plot([0.0,1.0],[0.5,0.5],'-',color='black',alpha=0.5) # horizontal line for class. fidelity\n",
    "ax.fill_between(model_theta_store,model_fids_stored_0,model_fids_stored_50,color='#F29335',alpha=0.2,linewidth=0.0)\n",
    "plt.plot(model_theta_store,model_fids_stored_25,linestyle='-',color='#F29335',lw=lw)\n",
    "# plt.plot(e_state_pops,model_fids_stored,linestyle='-.',color='black',lw=lw)\n",
    "# plt.plot(e_state_pops,model_fids_estate_mixed,linestyle='--',color='#F29335',lw=lw)\n",
    "plt.plot(model_theta_pur,model_fids_pur,linestyle='--',color='#3594F2',lw=lw)\n",
    "# plt.plot(model_theta_pur,model_fids_stored,linestyle='--',color='b')\n",
    "# plt.errorbar(real_pop_vals,fidelities,fidelities_u,marker='+',ms=10,mew =2,capsize=4, elinewidth=2,ls='none',label = 'Ideal e- state')\n",
    "# plt.errorbar(real_pop_vals,fidelities_mixed,fidelities_mixed_u,marker='o',ms=markersize,mew =0.5,capsize=3, elinewidth=lw,ls='none',color='#F29335',label = 'Accessible e- state')\n",
    "plt.errorbar(purified_state_pops,purified_state_fid,purified_state_fid_u,marker='o',ms=markersize,mew =0.5,capsize=3, elinewidth=lw,ls='none', color='#3594F2',label = 'Purified state',zorder=10)\n",
    "\n",
    "\n",
    "ax.set_ylabel('Fidelity w. Bell state')\n",
    "\n",
    "# linewidths = lw\n",
    "# textsize = fontsize\n",
    "\n",
    "plt.yticks([0.25,0.5,0.75])\n",
    "plt.xlim([0.1,0.55])\n",
    "plt.ylim([0.2,0.85])\n",
    "# plt.legend( numpoints = 1)\n",
    "\n",
    "### for the final plot we want to hide the x ticks as they are given in the panel below:\n",
    "# ax.set_xticklabels([])\n",
    "# ax.set_xlabel('Population in ms=0')\n",
    "ax.set_xlabel(r'sin$^2 \\theta$')\n",
    "\n",
    "plt.savefig(os.path.join(save_folder,'did_we_purify.png'),\n",
    "                    format='png',bbox_inches = 'tight',pad_inches=0.3)\n",
    "plt.savefig(os.path.join(save_folder,'did_we_purify.pdf'),\n",
    "                    format='pdf',bbox_inches = 'tight',pad_inches=0.3)\n",
    "plt.show()\n",
    "plt.close('all')"
   ]
  },
  {
   "cell_type": "code",
   "execution_count": null,
   "metadata": {
    "collapsed": false
   },
   "outputs": [],
   "source": [
    "# save_folder = r'K:\\ns\\qt\\Diamond\\Projects\\Purification\\Paper\\Plots'\n",
    "\n",
    "golden_ratio = 1.61803\n",
    "mm_to_inches = 0.0393701 ### inch/mm\n",
    "figure_width = mm_to_inches*78\n",
    "fig = plt.figure(figsize =(figure_width,figure_width/golden_ratio))\n",
    "ax = plt.subplot(111)\n",
    "\n",
    "lw = 1\n",
    "fontsize = 10\n",
    "markersize = 4\n",
    "ax.tick_params(labelsize = fontsize,width =lw)\n",
    "for axis in ['top','bottom','left','right']:\n",
    "    ax.spines[axis].set_linewidth(lw)\n",
    "ax.yaxis.label.set_size(fontsize)\n",
    "ax.xaxis.label.set_size(fontsize)\n",
    "\n",
    "\n",
    "plt.plot(model_theta_pur,model_fids_pur,linestyle='--',color='#3594F2',lw=lw)\n",
    "plt.errorbar(purified_state_pops,purified_state_fid,purified_state_fid_u,marker='o',ms=markersize,mew =0.5,capsize=3, elinewidth=lw,ls='none', color='#3594F2',label = 'Purified state',zorder=10)\n",
    "plt.plot(e_state_pops,model_fids_estate,linestyle='-',color='#F29335',lw=lw,zorder=0)\n",
    "\n",
    "ax.set_ylabel('Fidelity w. Bell state')\n",
    "plt.yticks([0.25,0.5,0.75])\n",
    "plt.xlim([0.1,0.55])\n",
    "plt.ylim([0.4,0.85])\n",
    "\n",
    "### for the final plot we want to hide the x ticks as they are given in the panel below:\n",
    "\n",
    "ax.set_xlabel(r'sin$^2 \\theta$')\n",
    "\n",
    "plt.savefig(os.path.join(save_folder,'did_we_purify_estate.png'),\n",
    "                    format='png',bbox_inches = 'tight',pad_inches=0.3)\n",
    "plt.savefig(os.path.join(save_folder,'did_we_purify_estate.pdf'),\n",
    "                    format='pdf',bbox_inches = 'tight',pad_inches=0.3)\n",
    "plt.show()\n",
    "plt.close('all')"
   ]
  },
  {
   "cell_type": "code",
   "execution_count": null,
   "metadata": {
    "collapsed": true
   },
   "outputs": [],
   "source": []
  }
 ],
 "metadata": {
  "kernelspec": {
   "display_name": "Python 2",
   "language": "python",
   "name": "python2"
  },
  "language_info": {
   "codemirror_mode": {
    "name": "ipython",
    "version": 2
   },
   "file_extension": ".py",
   "mimetype": "text/x-python",
   "name": "python",
   "nbconvert_exporter": "python",
   "pygments_lexer": "ipython2",
   "version": "2.7.3"
  }
 },
 "nbformat": 4,
 "nbformat_minor": 0
}
