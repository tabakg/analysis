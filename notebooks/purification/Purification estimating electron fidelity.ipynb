{
 "cells": [
  {
   "cell_type": "code",
   "execution_count": null,
   "metadata": {
    "collapsed": false
   },
   "outputs": [],
   "source": [
    "## setup analysis\n",
    "execfile(r'D:\\measuring\\analysis\\scripts\\setup_analysis.py')\n",
    "from analysis.lib.purification import purify_pq as ppq; reload(ppq)\n",
    "from analysis.lib.purification import purify_analysis as pa; reload(pa)\n",
    "%matplotlib inline\n",
    "\n",
    "folder_lt3 = r'D:\\measuring\\data\\Purification_lt3_raw_data\\Eta_vs_Theta'\n",
    "folder_lt4 = r'D:\\measuring\\data\\Purification_lt4_raw_data\\Eta_vs_Theta'\n",
    "\n",
    "### ssro calibrations\n",
    "day = '20160726_' # for ssro calibration\n",
    "ssro_calib_lt3 = day+'095123'\n",
    "ssro_calib_lt4 = day+'104600'\n",
    "\n",
    "Purify_analysis = pa.purify_analysis('Eta_v_Theta',folder_lt3,folder_lt4,ssro_calib_lt3,ssro_calib_lt4)\n",
    "\n",
    "msmt_days_unshifted = ['20160726']\n",
    "msmt_days_shifted = ['20160824']\n",
    "\n",
    "ms0_percents = [10,15,25,35,50,75]\n",
    "real_theta_vals = np.flipud((0.5-np.array([0.153355,0.2525,0.2827,0.323754,0.362197,0.3865]))\n",
    ")*np.pi\n",
    "real_pop_vals = np.sin(real_theta_vals)**2\n",
    "TPQI_vis = 0.725\n",
    "TPQI_vis_u = 0.03\n"
   ]
  },
  {
   "cell_type": "code",
   "execution_count": null,
   "metadata": {
    "collapsed": false
   },
   "outputs": [],
   "source": [
    "fidelities = []\n",
    "fidelities_u = []\n",
    "fidelities_mixed = []\n",
    "fidelities_mixed_u = []\n",
    "val00 = []\n",
    "val11 = []\n",
    "\n",
    "for ms0_percent in ms0_percents:\n",
    "    if ms0_percent != 35:\n",
    "        string = 'eta_'+str(ms0_percent)+'percent'\n",
    "        st_start = 3055e3#2763e3\n",
    "    else:\n",
    "        string = 'ZZ_'+str(ms0_percent)+'percent'\n",
    "        st_start = 3057e3#2763e3\n",
    "        \n",
    "    Purify_analysis.get_tstamps_and_offsets(unshifted_days = msmt_days_unshifted, shifted_days = msmt_days_shifted, contains = string)\n",
    "    Purify_analysis.load_raw_data()\n",
    "    \n",
    "    ##### Set filters:\n",
    "    st_start = 3055e3#2763e3\n",
    "    st_len       = 40e3 #50 ns\n",
    "    st_len_w2    = 40e3\n",
    "    \n",
    "    Purify_analysis.apply_temporal_filters_to_prefiltered_data(st_start = st_start,\n",
    "                                                           st_len = st_len,\n",
    "                                                           st_len_w2 = st_len_w2\n",
    "                                                           )\n",
    "    Purify_analysis.apply_sync_filter_w1_w2()\n",
    "    corrected_corrs,u_corrected_corrs,no = Purify_analysis.correlate_RO_results_no_purification(apply_ROC = True,return_value = True,verbose=False)\n",
    "    val00.append(corrected_corrs[3])\n",
    "    val11.append(corrected_corrs[0])\n",
    "    fidelities.append((corrected_corrs[1]+corrected_corrs[2] + 2*np.sqrt(TPQI_vis*corrected_corrs[1]*corrected_corrs[2]))/2)\n",
    "    fidelities_u.append(np.sqrt((1+np.sqrt(TPQI_vis*corrected_corrs[2]/corrected_corrs[1]))*u_corrected_corrs[1]**2\\\n",
    "                               +(1+np.sqrt(TPQI_vis*corrected_corrs[1]/corrected_corrs[2]))*u_corrected_corrs[2]**2\\\n",
    "                               +np.sqrt(corrected_corrs[1]*corrected_corrs[2]/TPQI_vis)*TPQI_vis_u**2)/2)\n",
    "    \n",
    "    fidelities_mixed.append((corrected_corrs[1]+corrected_corrs[2])/2)\n",
    "    fidelities_mixed_u.append(np.sqrt(u_corrected_corrs[1]**2+u_corrected_corrs[2]**2)/2)\n",
    "\n"
   ]
  },
  {
   "cell_type": "code",
   "execution_count": 2,
   "metadata": {
    "collapsed": false
   },
   "outputs": [
    {
     "name": "stdout",
     "output_type": "stream",
     "text": [
      "reloaded\n"
     ]
    }
   ],
   "source": [
    "## setup analysis\n",
    "execfile(r'D:\\measuring\\analysis\\scripts\\setup_analysis.py')\n",
    "from analysis.lib.purification import purify_pq as ppq; reload(ppq)\n",
    "from analysis.lib.purification import purify_analysis as pa; reload(pa)\n",
    "%matplotlib inline"
   ]
  },
  {
   "cell_type": "code",
   "execution_count": 3,
   "metadata": {
    "collapsed": false
   },
   "outputs": [],
   "source": [
    "ms0_percents = [10,15,25,35,50,75]\n",
    "real_theta_vals = np.flipud((0.5-np.array([0.153355,0.2525,0.2827,0.323754,0.362197,0.3865]))\n",
    ")*np.pi\n",
    "real_pop_vals = np.sin(real_theta_vals)**2\n",
    "TPQI_vis = 0.725\n",
    "TPQI_vis_u = 0.03\n",
    "purified_state_pops = real_pop_vals[1:5]#np.array([15,25,34.5,50])/100.\n",
    "\n",
    "pur_Fids_m_and_p = np.flipud(np.array([[0.50599, 0.02954, 0.51779, 0.02976],\\\n",
    "                    [0.61099, 0.03484, 0.57424, 0.03461],\\\n",
    "                    [0.65494, 0.03380, 0.65526, 0.03479],\\\n",
    "                    [0.74337, 0.03981, 0.73586, 0.03788]]))\n",
    "\n",
    "purified_state_fid =  0.5*(pur_Fids_m_and_p[:,0]+pur_Fids_m_and_p[:,2])\n",
    "purified_state_fid_u =  0.5*np.sqrt(pur_Fids_m_and_p[:,1]**2+pur_Fids_m_and_p[:,3]**2)\n",
    "\n",
    "model_theta_pur = [0.0244717,0.0954915,0.206107,0.345492,0.5,0.654508,0.793893,0.904508,0.975528,1.]\n",
    "model_fids_pur = [0.75495,0.751584,0.717445,0.663532,0.589792,0.496099,0.385553,0.268143,0.164567,0.116475]\n",
    "model_fids_stored = [0.602638,0.602828,0.543042,0.45957,0.364955,0.26963,0.18336,0.114787,0.0707252,0.0555374]\n",
    "def corrs_theta_theory(theta,pd1,pd2,pdc):\n",
    "    p11 = 2*np.cos(theta)**4 * pdc\n",
    "    p00=np.sin(theta)**4 * (pd1*(1-pd2)+pd2*(1-pd1))\n",
    "    p01=np.sin(theta)**2 * np.cos(theta)**2 * pd2\n",
    "    p10=np.sin(theta)**2 * np.cos(theta)**2 * pd1\n",
    "    return np.array([p00,p01,p10,p11])/np.tile((p00+p01+p10+p11)[np.newaxis].T,4).T\n",
    "\n",
    "\n",
    "pd1 = 8e-4;\n",
    "pd2 = 4e-4;\n",
    "pdc = 2.5e-6;\n",
    "e_state_thetas = np.arange(np.pi/20,np.pi/2+np.pi/21.,np.pi/20) \n",
    "e_state_pops = np.sin(e_state_thetas)**2\n",
    "corrs_e_state = corrs_theta_theory(e_state_thetas,pd1,pd2,pdc)\n",
    "model_fids_estate = ((corrs_e_state[1]+corrs_e_state[2] + 2*np.sqrt(TPQI_vis*corrs_e_state[1]*corrs_e_state[2]))/2)\n",
    "model_fids_estate_mixed = ((corrs_e_state[1]+corrs_e_state[2])/2)\n",
    "\n"
   ]
  },
  {
   "cell_type": "code",
   "execution_count": 7,
   "metadata": {
    "collapsed": false
   },
   "outputs": [
    {
     "data": {
      "image/png": "[encoded data removed]",
      "text/plain": [
       "<matplotlib.figure.Figure at 0xaead898>"
      ]
     },
     "metadata": {},
     "output_type": "display_data"
    }
   ],
   "source": [
    "# save_folder = r'K:\\ns\\qt\\Diamond\\Projects\\Purification\\Paper\\Plots'\n",
    "save_folder = r'D:\\nkalb\\Desktop'\n",
    "golden_ratio = 1.61803\n",
    "mm_to_inches = 0.0393701 ### inch/mm\n",
    "figure_width = mm_to_inches*89\n",
    "fig = plt.figure(figsize =(figure_width,figure_width/golden_ratio))\n",
    "ax = plt.subplot(111)\n",
    "\n",
    "lw = 1\n",
    "fontsize = 10\n",
    "markersize = 3\n",
    "ax.tick_params(labelsize = fontsize,width =lw)\n",
    "for axis in ['top','bottom','left','right']:\n",
    "    ax.spines[axis].set_linewidth(lw)\n",
    "ax.yaxis.label.set_size(fontsize)\n",
    "ax.xaxis.label.set_size(fontsize)\n",
    "\n",
    "\n",
    "plt.plot([0.0,1.0],[0.5,0.5],'-',color='black',alpha=0.5) # horizontal line for class. fidelity\n",
    "ax.fill_between(e_state_pops,model_fids_estate,model_fids_stored,color='black',alpha=0.3)\n",
    "plt.plot(e_state_pops,model_fids_estate,linestyle='-.',color='black',lw=lw)\n",
    "# plt.plot(e_state_pops,model_fids_estate_mixed,linestyle='--',color='black',lw=lw)\n",
    "plt.plot(model_theta_pur,model_fids_pur,linestyle='--',color='#50A53A',lw=lw)\n",
    "# plt.plot(model_theta_pur,model_fids_stored,linestyle='--',color='b')\n",
    "# plt.errorbar(real_pop_vals,fidelities,fidelities_u,marker='+',ms=10,mew =2,capsize=4, elinewidth=2,ls='none',label = 'Ideal e- state')\n",
    "# plt.errorbar(real_pop_vals,fidelities_mixed,fidelities_mixed_u,marker='o',ms=markersize,mew =1,capsize=3, elinewidth=lw,ls='none',color='gray',label = 'Accessible e- state')\n",
    "plt.errorbar(purified_state_pops,purified_state_fid,purified_state_fid_u,marker='o',ms=markersize,mew =1,capsize=3, elinewidth=lw,ls='none', color='#50A53A',label = 'Purified state')\n",
    "\n",
    "\n",
    "ax.set_ylabel('Fidelity w. Bell state')\n",
    "\n",
    "# linewidths = lw\n",
    "# textsize = fontsize\n",
    "\n",
    "plt.yticks([0.2,0.4,0.6,0.8])\n",
    "plt.xlim([0.1,0.55])\n",
    "plt.ylim([0.2,0.85])\n",
    "# plt.legend( numpoints = 1)\n",
    "\n",
    "### for the final plot we want to hide the x ticks as they are given in the panel below:\n",
    "# ax.set_xticklabels([])\n",
    "ax.set_xlabel('Population in ms=0')\n",
    "\n",
    "plt.savefig(os.path.join(save_folder,'did_we_purify.png'),\n",
    "                    format='png',bbox_inches = 'tight',pad_inches=0.3)\n",
    "plt.savefig(os.path.join(save_folder,'did_we_purify.pdf'),\n",
    "                    format='pdf',bbox_inches = 'tight',pad_inches=0.3)\n",
    "plt.show()\n",
    "plt.close('all')"
   ]
  },
  {
   "cell_type": "code",
   "execution_count": null,
   "metadata": {
    "collapsed": true
   },
   "outputs": [],
   "source": []
  },
  {
   "cell_type": "code",
   "execution_count": null,
   "metadata": {
    "collapsed": true
   },
   "outputs": [],
   "source": []
  }
 ],
 "metadata": {
  "kernelspec": {
   "display_name": "Python 2",
   "language": "python",
   "name": "python2"
  },
  "language_info": {
   "codemirror_mode": {
    "name": "ipython",
    "version": 2
   },
   "file_extension": ".py",
   "mimetype": "text/x-python",
   "name": "python",
   "nbconvert_exporter": "python",
   "pygments_lexer": "ipython2",
   "version": "2.7.11"
  }
 },
 "nbformat": 4,
 "nbformat_minor": 0
}
