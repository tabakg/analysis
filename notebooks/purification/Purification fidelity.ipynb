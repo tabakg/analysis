{
 "cells": [
  {
   "cell_type": "code",
   "execution_count": null,
   "metadata": {
    "collapsed": false
   },
   "outputs": [],
   "source": [
    "## setup analysis\n",
    "execfile(r'D:\\measuring\\analysis\\scripts\\setup_analysis.py')\n",
    "from analysis.lib.purification import purify_pq as ppq; reload(ppq)\n",
    "from analysis.lib.purification import purify_analysis as pa; reload(pa)\n",
    "%matplotlib inline\n",
    "\n",
    "theta = 'pi/4'\n"
   ]
  },
  {
   "cell_type": "code",
   "execution_count": null,
   "metadata": {
    "collapsed": false
   },
   "outputs": [],
   "source": [
    "folder_lt3,folder_lt4 = pa.get_folders_from_theta(theta)\n",
    "ssro_calib_lt3,ssro_calib_lt4 = pa.get_ssro_calibs()\n",
    "\n",
    "Purify_XX = pa.purify_analysis('purification_analysis',folder_lt3,folder_lt4,ssro_calib_lt3,ssro_calib_lt4)\n",
    "Purify_YY = pa.purify_analysis('purification_analysis',folder_lt3,folder_lt4,ssro_calib_lt3,ssro_calib_lt4)\n",
    "Purify_ZZ = pa.purify_analysis('purification_analysis',folder_lt3,folder_lt4,ssro_calib_lt3,ssro_calib_lt4)\n",
    "\n",
    "Purify_XX.get_tstamps_and_offsets(contains = 'XX')\n",
    "Purify_YY.get_tstamps_and_offsets(contains = 'YY')\n",
    "Purify_ZZ.get_tstamps_and_offsets(contains = 'ZZ')\n"
   ]
  },
  {
   "cell_type": "code",
   "execution_count": null,
   "metadata": {
    "collapsed": false
   },
   "outputs": [],
   "source": [
    "### load the data\n",
    "Purify_XX.load_raw_data()\n",
    "Purify_XX.correct_pq_times()\n",
    "Purify_YY.load_raw_data()\n",
    "Purify_YY.correct_pq_times()\n",
    "Purify_ZZ.load_raw_data()\n",
    "Purify_ZZ.correct_pq_times()"
   ]
  },
  {
   "cell_type": "code",
   "execution_count": null,
   "metadata": {
    "collapsed": false
   },
   "outputs": [],
   "source": [
    "def sweep_parameter(param_name,sweep_pts,apply_ROC, plot_all = False):\n",
    "    \n",
    "    ## get correlation probabilties\n",
    "    psi_m_XX,psi_p_XX,psi_m_XX_corrs,psi_p_XX_corrs = Purify_XX.sweep_filter_parameter_vs_correlations(param_name,sweep_pts,\n",
    "                                                                         apply_ROC = apply_ROC,do_plot= False)\n",
    "    psi_m_YY,psi_p_YY,psi_m_YY_corrs,psi_p_YY_corrs = Purify_YY.sweep_filter_parameter_vs_correlations(param_name,sweep_pts,\n",
    "                                                                         apply_ROC = apply_ROC,do_plot= False)\n",
    "    psi_m_ZZ,psi_p_ZZ,psi_m_ZZ_corrs,psi_p_ZZ_corrs = Purify_ZZ.sweep_filter_parameter_vs_correlations(param_name,sweep_pts,\n",
    "                                                                         apply_ROC = apply_ROC,do_plot= False)       \n",
    "    ## calculate fidelities\n",
    "    psi_m_F = (psi_m_XX[1] + psi_m_YY[1] + psi_m_ZZ[1]+1)/4.\n",
    "    psi_p_F = (psi_p_XX[1] + psi_p_YY[1] + psi_p_ZZ[1]+1)/4.\n",
    "      \n",
    "    ## calciulate error bars\n",
    "    psi_m_F_u = np.sqrt(psi_m_XX[2]**2 + psi_m_YY[2]**2 + psi_m_ZZ[2]**2)/4.\n",
    "    psi_p_F_u = np.sqrt(psi_p_XX[2]**2 + psi_p_YY[2]**2 + psi_p_ZZ[2]**2)/4.\n",
    "    \n",
    "    # calculate ebits    \n",
    "    ebits_p, ebits_p_u = pa.calculate_ebits(psi_m_YY,psi_m_ZZ,psi_m_XX_corrs)\n",
    "    ebits_m, ebits_m_u = pa.calculate_ebits(psi_p_YY,psi_p_ZZ,psi_p_XX_corrs)\n",
    "    \n",
    "    psi_F = 0.5*(psi_m_F+psi_p_F)\n",
    "    psi_F_u = 0.5*np.sqrt(psi_m_F_u**2+psi_p_F_u**2)\n",
    "    \n",
    "#     print 'Overall fidelities ', psi_F[:3]\n",
    "#     print psi_F_u[:3]\n",
    "    \n",
    "    fig  = plt.figure()\n",
    "    ax = plt.subplot()\n",
    "    ax.set_xlabel(param_name)\n",
    "    ax.set_ylabel('Fidelity')\n",
    "    plt.errorbar(sweep_pts,psi_m_F,psi_m_F_u,label = '-')\n",
    "    plt.errorbar(sweep_pts,psi_p_F,psi_p_F_u,label = '+')\n",
    "    if param_name == 'bin_w2':\n",
    "        plt.xlim(np.array(plt.xlim()) + [-50,50])\n",
    "    plt.legend()\n",
    "    plt.show()\n",
    "    plt.close('all')\n",
    " \n",
    "    fig  = plt.figure()\n",
    "    ax = plt.subplot()\n",
    "    ax.set_xlabel(param_name)\n",
    "    ax.set_ylabel('Fidelity (avg)')\n",
    "    plt.errorbar(sweep_pts,psi_F,psi_F_u)\n",
    "    if param_name == 'bin_w2':\n",
    "        plt.xlim(np.array(plt.xlim()) + [-50,50])\n",
    "    plt.show()\n",
    "    plt.close('all')\n",
    "    \n",
    "    fig  = plt.figure()\n",
    "    ax = plt.subplot()\n",
    "    ax.set_xlabel(param_name)\n",
    "    ax.set_ylabel('ebits')\n",
    "\n",
    "    plt.errorbar(sweep_pts,ebits_p,ebits_p_u,label = '+')\n",
    "    plt.errorbar(sweep_pts,ebits_m,ebits_m_u,label = '-')\n",
    "    if param_name == 'bin_w2':\n",
    "        plt.xlim(np.array(plt.xlim()) + [-50,50])\n",
    "    plt.legend()\n",
    "    plt.show()\n",
    "    plt.close('all')\n",
    "    \n",
    "    ### get the rate for any given data point\n",
    "    ### keep in mind that this includes ALL down time of the experiment. Some might argue that this is an unfair comparison\n",
    "    ### we therefore also include a diagram that uses the operation time of the sequence only and the number of times the sequence has run\n",
    "    ### tomography is excluded from this calculated rate\n",
    "    total_time = 0\n",
    "    total_time += Purify_XX.get_total_time() + Purify_YY.get_total_time() + Purify_ZZ.get_total_time()\n",
    "    total_counts = psi_m_XX[0]+psi_p_XX[0]+psi_m_YY[0]+psi_p_YY[0]+psi_m_ZZ[0]+psi_p_ZZ[0]\n",
    "    fig  = plt.figure()\n",
    "    ax = plt.subplot()\n",
    "    ax.set_xlabel(param_name)\n",
    "    ax.set_ylabel('Rate (Hz)')\n",
    "    plt.plot(sweep_pts,total_counts/total_time, label = 'incl. overhead')\n",
    "    if param_name == 'bin_w2':\n",
    "        plt.xlim(np.array(plt.xlim()) + [-50,50]) \n",
    "    total_time = 0\n",
    "    total_time += Purify_XX.estimate_sequence_time() + Purify_YY.estimate_sequence_time() + Purify_ZZ.estimate_sequence_time()\n",
    "    \n",
    "    plt.plot(sweep_pts,total_counts/total_time, label = 'excl. overhead')\n",
    "    if param_name == 'bin_w2':\n",
    "        plt.xlim(np.array(plt.xlim()) + [-50,50])\n",
    "    plt.legend(loc = 2)\n",
    "    plt.show()\n",
    "    plt.close('all')\n",
    "    \n",
    "    ## plot individual correlations\n",
    "    if plot_all:\n",
    "        fig  = plt.figure()\n",
    "        ax = plt.subplot()\n",
    "        ax.set_xlabel(param_name)\n",
    "        ax.set_ylabel('Expectation value')\n",
    "        plt.errorbar(sweep_pts,psi_m_XX[1],psi_m_XX[2],label = 'XX')\n",
    "        plt.errorbar(sweep_pts,psi_m_YY[1],psi_m_YY[2],label = 'YY')\n",
    "        plt.errorbar(sweep_pts,psi_m_ZZ[1],psi_m_ZZ[2],label = 'ZZ')\n",
    "        if param_name == 'bin_w2':\n",
    "            plt.xlim(np.array(plt.xlim()) + [-50,50])   \n",
    "        plt.title('Psi_minus correlations')\n",
    "        plt.legend()\n",
    "        plt.show()\n",
    "        plt.close('all')\n",
    "        \n",
    "        fig  = plt.figure()\n",
    "        ax = plt.subplot()\n",
    "        ax.set_xlabel(param_name)\n",
    "        ax.set_ylabel('Expectation value')\n",
    "        plt.errorbar(sweep_pts,psi_p_XX[1],psi_p_XX[2],label = 'XX')\n",
    "        plt.errorbar(sweep_pts,psi_p_YY[1],psi_p_YY[2],label = 'YY')\n",
    "        plt.errorbar(sweep_pts,psi_p_ZZ[1],psi_p_ZZ[2],label = 'ZZ')\n",
    "        if param_name == 'bin_w2':\n",
    "            plt.xlim(np.array(plt.xlim()) + [-50,50])\n",
    "        plt.title('Psi_plus correlations')\n",
    "        plt.legend()\n",
    "        plt.show()\n",
    "        plt.close('all')"
   ]
  },
  {
   "cell_type": "code",
   "execution_count": null,
   "metadata": {
    "collapsed": false,
    "scrolled": false
   },
   "outputs": [],
   "source": [
    "sweep_parameter('bin_w2',np.arange(50,450,50),apply_ROC = True,plot_all = True)"
   ]
  },
  {
   "cell_type": "code",
   "execution_count": null,
   "metadata": {
    "collapsed": false
   },
   "outputs": [],
   "source": [
    "sweep_parameter('st_start',np.linspace(-4e3,4e3,10)+2773.5e3,apply_ROC = True)"
   ]
  },
  {
   "cell_type": "code",
   "execution_count": null,
   "metadata": {
    "collapsed": false
   },
   "outputs": [],
   "source": [
    "sweep_parameter('max_reps_w1',np.arange(100,1000,50),apply_ROC = True)"
   ]
  },
  {
   "cell_type": "code",
   "execution_count": null,
   "metadata": {
    "collapsed": false
   },
   "outputs": [],
   "source": [
    "sweep_parameter('min_cr_lt4_after',np.arange(1,20,2),apply_ROC = True)\n",
    "sweep_parameter('min_cr_lt3_after',np.arange(1,20,2),apply_ROC = True)"
   ]
  },
  {
   "cell_type": "code",
   "execution_count": null,
   "metadata": {
    "collapsed": false
   },
   "outputs": [],
   "source": [
    "sweep_parameter('max_dt',np.linspace(2.5e3,40e3,10),apply_ROC = True)"
   ]
  },
  {
   "cell_type": "code",
   "execution_count": null,
   "metadata": {
    "collapsed": false
   },
   "outputs": [],
   "source": [
    "sweep_parameter('st_len',np.linspace(3e3,40e3,10),apply_ROC = True)"
   ]
  },
  {
   "cell_type": "code",
   "execution_count": null,
   "metadata": {
    "collapsed": true
   },
   "outputs": [],
   "source": []
  }
 ],
 "metadata": {
  "kernelspec": {
   "display_name": "Python 2",
   "language": "python",
   "name": "python2"
  },
  "language_info": {
   "codemirror_mode": {
    "name": "ipython",
    "version": 2
   },
   "file_extension": ".py",
   "mimetype": "text/x-python",
   "name": "python",
   "nbconvert_exporter": "python",
   "pygments_lexer": "ipython2",
   "version": "2.7.3"
  }
 },
 "nbformat": 4,
 "nbformat_minor": 0
}
