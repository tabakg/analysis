{
 "cells": [
  {
   "cell_type": "code",
   "execution_count": null,
   "metadata": {
    "collapsed": false
   },
   "outputs": [],
   "source": [
    "import numpy as np\n",
    "import os,sys\n",
    "import matplotlib\n",
    "reload(matplotlib)\n",
    "\n",
    "matplotlib.rc('pdf', fonttype=42)\n",
    "\n",
    "sys.path.append(\"D:/measuring/\")\n",
    "sys.path.append(\"D:/measuring/\")\n",
    "sys.path.append(r'D:/measuring/analysis')\n",
    "import analysis.lib.fitting.common as fitlib\n",
    "from analysis.lib.Qmemory import CarbonDephasing as CD\n",
    "reload(CD)\n",
    "execfile(r'D:\\measuring\\analysis\\scripts\\setup_analysis.py')\n",
    "%matplotlib inline"
   ]
  },
  {
   "cell_type": "markdown",
   "metadata": {},
   "source": [
    "# Repump Speed"
   ]
  },
  {
   "cell_type": "code",
   "execution_count": 21,
   "metadata": {
    "collapsed": false,
    "scrolled": false
   },
   "outputs": [
    {
     "name": "stdout",
     "output_type": "stream",
     "text": [
      "d:\\measuring\\data\n",
      "reloaded\n",
      "Using SSRO timestamp  d:\\measuring\\data\\20160331\\203029_AdwinSSRO_SSROCalibration_Pippin_SIL2\n",
      "folder is  d:\\measuring\\data\\20160330\\112551_PulsarMBIElectronRamsey_Dephasing_Pippin_SIL2_Eprime_Repump_1000.0nW_0RO_p1init_1cycles\n"
     ]
    },
    {
     "ename": "IOError",
     "evalue": "Unable to open file (Unable to open file: name = 'd:\\measuring\\data\\20160331\\203029_adwinssro_ssrocalibration_pippin_sil2\\analysis.hdf5', errno = 2, error message = 'no such file or directory', flags = 0, o_flags = 0)",
     "output_type": "error",
     "traceback": [
      "\u001b[1;31m---------------------------------------------------------------------------\u001b[0m",
      "\u001b[1;31mIOError\u001b[0m                                   Traceback (most recent call last)",
      "\u001b[1;32m<ipython-input-21-72185d949c21>\u001b[0m in \u001b[0;36m<module>\u001b[1;34m()\u001b[0m\n\u001b[0;32m      5\u001b[0m         \u001b[0mamplitude\u001b[0m \u001b[1;33m=\u001b[0m\u001b[1;36m0.2\u001b[0m\u001b[1;33m,\u001b[0m \u001b[0mdecay_constant_one\u001b[0m \u001b[1;33m=\u001b[0m \u001b[1;36m20.\u001b[0m\u001b[1;33m,\u001b[0m \u001b[0mdecay_constant_two\u001b[0m \u001b[1;33m=\u001b[0m \u001b[1;36m400.\u001b[0m\u001b[1;33m,\u001b[0m \u001b[0mx_offs\u001b[0m \u001b[1;33m=\u001b[0m \u001b[1;36m0\u001b[0m\u001b[1;33m,\u001b[0m \u001b[0moffset\u001b[0m\u001b[1;33m=\u001b[0m\u001b[1;36m0.01\u001b[0m\u001b[1;33m,\u001b[0m \u001b[0mfixed\u001b[0m \u001b[1;33m=\u001b[0m \u001b[1;33m[\u001b[0m\u001b[1;36m0\u001b[0m\u001b[1;33m]\u001b[0m\u001b[1;33m,\u001b[0m\u001b[1;33m\u001b[0m\u001b[0m\n\u001b[0;32m      6\u001b[0m         \u001b[0mdo_plot\u001b[0m \u001b[1;33m=\u001b[0m \u001b[0mTrue\u001b[0m\u001b[1;33m,\u001b[0m \u001b[0mdo_fit\u001b[0m \u001b[1;33m=\u001b[0m \u001b[0mTrue\u001b[0m\u001b[1;33m,\u001b[0m \u001b[0mprint_fit\u001b[0m \u001b[1;33m=\u001b[0m \u001b[0mTrue\u001b[0m\u001b[1;33m,\u001b[0m \u001b[0mplot_fit\u001b[0m\u001b[1;33m=\u001b[0m\u001b[0mTrue\u001b[0m\u001b[1;33m,\u001b[0m  \u001b[0mplot_fit_guess\u001b[0m \u001b[1;33m=\u001b[0m \u001b[0mFalse\u001b[0m\u001b[1;33m,\u001b[0m\u001b[1;33m\u001b[0m\u001b[0m\n\u001b[1;32m----> 7\u001b[1;33m         init_states=['p1','m1'], ro_states=['0'])\n\u001b[0m",
      "\u001b[1;32mD:/measuring/analysis\\lib\\Qmemory\\CarbonDephasing.pyc\u001b[0m in \u001b[0;36mrepump_speed\u001b[1;34m(timestamp, ssro_calib_timestamp, older_than, powers, exclude_first_n_points, log_plot, amplitude, decay_constant_one, decay_constant_two, x_offs, offset, fixed, do_plot, do_fit, print_fit, plot_fit, plot_fit_guess, init_states, ro_states)\u001b[0m\n\u001b[0;32m    922\u001b[0m                 \u001b[0mCR_after_check\u001b[0m \u001b[1;33m=\u001b[0m \u001b[0mNone\u001b[0m\u001b[1;33m\u001b[0m\u001b[0m\n\u001b[0;32m    923\u001b[0m                 \u001b[0ma\u001b[0m\u001b[1;33m.\u001b[0m\u001b[0mget_readout_results\u001b[0m\u001b[1;33m(\u001b[0m\u001b[0mname\u001b[0m\u001b[1;33m=\u001b[0m\u001b[1;34m'adwindata'\u001b[0m\u001b[1;33m,\u001b[0m\u001b[0mCR_after_check\u001b[0m \u001b[1;33m=\u001b[0m \u001b[0mCR_after_check\u001b[0m\u001b[1;33m)\u001b[0m\u001b[1;33m\u001b[0m\u001b[0m\n\u001b[1;32m--> 924\u001b[1;33m                 \u001b[0ma\u001b[0m\u001b[1;33m.\u001b[0m\u001b[0mget_electron_ROC\u001b[0m\u001b[1;33m(\u001b[0m\u001b[0mssro_calib_folder\u001b[0m\u001b[1;33m)\u001b[0m\u001b[1;33m\u001b[0m\u001b[0m\n\u001b[0m\u001b[0;32m    925\u001b[0m \u001b[1;33m\u001b[0m\u001b[0m\n\u001b[0;32m    926\u001b[0m                 \u001b[0mx\u001b[0m \u001b[1;33m=\u001b[0m \u001b[0ma\u001b[0m\u001b[1;33m.\u001b[0m\u001b[0msweep_pts\u001b[0m\u001b[1;33m.\u001b[0m\u001b[0mreshape\u001b[0m\u001b[1;33m(\u001b[0m\u001b[1;33m-\u001b[0m\u001b[1;36m1\u001b[0m\u001b[1;33m)\u001b[0m\u001b[1;33m[\u001b[0m\u001b[0mexclude_first_n_points\u001b[0m\u001b[1;33m:\u001b[0m\u001b[1;33m]\u001b[0m\u001b[1;33m\u001b[0m\u001b[0m\n",
      "\u001b[1;32mD:/measuring/analysis\\lib\\m2\\ssro\\mbi.pyc\u001b[0m in \u001b[0;36mget_electron_ROC\u001b[1;34m(self, ssro_calib_folder)\u001b[0m\n\u001b[0;32m    156\u001b[0m             \u001b[0mroc\u001b[0m\u001b[1;33m.\u001b[0m\u001b[0mF0\u001b[0m\u001b[1;33m,\u001b[0m \u001b[0mroc\u001b[0m\u001b[1;33m.\u001b[0m\u001b[0mu_F0\u001b[0m\u001b[1;33m,\u001b[0m \u001b[0mroc\u001b[0m\u001b[1;33m.\u001b[0m\u001b[0mF1\u001b[0m\u001b[1;33m,\u001b[0m \u001b[0mroc\u001b[0m\u001b[1;33m.\u001b[0m\u001b[0mu_F1\u001b[0m \u001b[1;33m=\u001b[0m\u001b[0;31m \u001b[0m\u001b[0;31m\\\u001b[0m\u001b[1;33m\u001b[0m\u001b[0m\n\u001b[0;32m    157\u001b[0m                 ssro.get_SSRO_calibration(ssro_calib_folder,\n\u001b[1;32m--> 158\u001b[1;33m                         ro_durations[i])\n\u001b[0m\u001b[0;32m    159\u001b[0m             p0, u_p0 = roc.num_eval(self.normalized_ssro[:,i],\n\u001b[0;32m    160\u001b[0m                     self.u_normalized_ssro[:,i])\n",
      "\u001b[1;32mD:/measuring/analysis\\lib\\m2\\ssro\\ssro.pyc\u001b[0m in \u001b[0;36mget_SSRO_calibration\u001b[1;34m(folder, readout_time)\u001b[0m\n\u001b[0;32m     20\u001b[0m     \u001b[1;32melse\u001b[0m\u001b[1;33m:\u001b[0m\u001b[1;33m\u001b[0m\u001b[0m\n\u001b[0;32m     21\u001b[0m         \u001b[0mfp\u001b[0m \u001b[1;33m=\u001b[0m \u001b[0mos\u001b[0m\u001b[1;33m.\u001b[0m\u001b[0mpath\u001b[0m\u001b[1;33m.\u001b[0m\u001b[0mjoin\u001b[0m\u001b[1;33m(\u001b[0m\u001b[0mfolder\u001b[0m\u001b[1;33m,\u001b[0m \u001b[1;34m'analysis.hdf5'\u001b[0m\u001b[1;33m)\u001b[0m\u001b[1;33m\u001b[0m\u001b[0m\n\u001b[1;32m---> 22\u001b[1;33m     \u001b[0mf\u001b[0m \u001b[1;33m=\u001b[0m \u001b[0mh5py\u001b[0m\u001b[1;33m.\u001b[0m\u001b[0mFile\u001b[0m\u001b[1;33m(\u001b[0m\u001b[0mfp\u001b[0m\u001b[1;33m,\u001b[0m \u001b[1;34m'r'\u001b[0m\u001b[1;33m)\u001b[0m\u001b[1;33m\u001b[0m\u001b[0m\n\u001b[0m\u001b[0;32m     23\u001b[0m \u001b[1;33m\u001b[0m\u001b[0m\n\u001b[0;32m     24\u001b[0m     \u001b[0mtimes\u001b[0m \u001b[1;33m=\u001b[0m \u001b[0mf\u001b[0m\u001b[1;33m[\u001b[0m\u001b[1;34m'fidelity/time'\u001b[0m\u001b[1;33m]\u001b[0m\u001b[1;33m.\u001b[0m\u001b[0mvalue\u001b[0m\u001b[1;33m\u001b[0m\u001b[0m\n",
      "\u001b[1;32mC:\\Canopy\\User\\lib\\site-packages\\h5py\\_hl\\files.pyc\u001b[0m in \u001b[0;36m__init__\u001b[1;34m(self, name, mode, driver, libver, userblock_size, **kwds)\u001b[0m\n\u001b[0;32m    229\u001b[0m \u001b[1;33m\u001b[0m\u001b[0m\n\u001b[0;32m    230\u001b[0m                 \u001b[0mfapl\u001b[0m \u001b[1;33m=\u001b[0m \u001b[0mmake_fapl\u001b[0m\u001b[1;33m(\u001b[0m\u001b[0mdriver\u001b[0m\u001b[1;33m,\u001b[0m \u001b[0mlibver\u001b[0m\u001b[1;33m,\u001b[0m \u001b[1;33m**\u001b[0m\u001b[0mkwds\u001b[0m\u001b[1;33m)\u001b[0m\u001b[1;33m\u001b[0m\u001b[0m\n\u001b[1;32m--> 231\u001b[1;33m                 \u001b[0mfid\u001b[0m \u001b[1;33m=\u001b[0m \u001b[0mmake_fid\u001b[0m\u001b[1;33m(\u001b[0m\u001b[0mname\u001b[0m\u001b[1;33m,\u001b[0m \u001b[0mmode\u001b[0m\u001b[1;33m,\u001b[0m \u001b[0muserblock_size\u001b[0m\u001b[1;33m,\u001b[0m \u001b[0mfapl\u001b[0m\u001b[1;33m)\u001b[0m\u001b[1;33m\u001b[0m\u001b[0m\n\u001b[0m\u001b[0;32m    232\u001b[0m \u001b[1;33m\u001b[0m\u001b[0m\n\u001b[0;32m    233\u001b[0m             \u001b[0mGroup\u001b[0m\u001b[1;33m.\u001b[0m\u001b[0m__init__\u001b[0m\u001b[1;33m(\u001b[0m\u001b[0mself\u001b[0m\u001b[1;33m,\u001b[0m \u001b[0mfid\u001b[0m\u001b[1;33m)\u001b[0m\u001b[1;33m\u001b[0m\u001b[0m\n",
      "\u001b[1;32mC:\\Canopy\\User\\lib\\site-packages\\h5py\\_hl\\files.pyc\u001b[0m in \u001b[0;36mmake_fid\u001b[1;34m(name, mode, userblock_size, fapl, fcpl)\u001b[0m\n\u001b[0;32m     76\u001b[0m \u001b[1;33m\u001b[0m\u001b[0m\n\u001b[0;32m     77\u001b[0m     \u001b[1;32mif\u001b[0m \u001b[0mmode\u001b[0m \u001b[1;33m==\u001b[0m \u001b[1;34m'r'\u001b[0m\u001b[1;33m:\u001b[0m\u001b[1;33m\u001b[0m\u001b[0m\n\u001b[1;32m---> 78\u001b[1;33m         \u001b[0mfid\u001b[0m \u001b[1;33m=\u001b[0m \u001b[0mh5f\u001b[0m\u001b[1;33m.\u001b[0m\u001b[0mopen\u001b[0m\u001b[1;33m(\u001b[0m\u001b[0mname\u001b[0m\u001b[1;33m,\u001b[0m \u001b[0mh5f\u001b[0m\u001b[1;33m.\u001b[0m\u001b[0mACC_RDONLY\u001b[0m\u001b[1;33m,\u001b[0m \u001b[0mfapl\u001b[0m\u001b[1;33m=\u001b[0m\u001b[0mfapl\u001b[0m\u001b[1;33m)\u001b[0m\u001b[1;33m\u001b[0m\u001b[0m\n\u001b[0m\u001b[0;32m     79\u001b[0m     \u001b[1;32melif\u001b[0m \u001b[0mmode\u001b[0m \u001b[1;33m==\u001b[0m \u001b[1;34m'r+'\u001b[0m\u001b[1;33m:\u001b[0m\u001b[1;33m\u001b[0m\u001b[0m\n\u001b[0;32m     80\u001b[0m         \u001b[0mfid\u001b[0m \u001b[1;33m=\u001b[0m \u001b[0mh5f\u001b[0m\u001b[1;33m.\u001b[0m\u001b[0mopen\u001b[0m\u001b[1;33m(\u001b[0m\u001b[0mname\u001b[0m\u001b[1;33m,\u001b[0m \u001b[0mh5f\u001b[0m\u001b[1;33m.\u001b[0m\u001b[0mACC_RDWR\u001b[0m\u001b[1;33m,\u001b[0m \u001b[0mfapl\u001b[0m\u001b[1;33m=\u001b[0m\u001b[0mfapl\u001b[0m\u001b[1;33m)\u001b[0m\u001b[1;33m\u001b[0m\u001b[0m\n",
      "\u001b[1;32mh5py\\_objects.pyx\u001b[0m in \u001b[0;36mh5py._objects.with_phil.wrapper (C:\\pisi\\tmp\\h5py-2.4.0-2\\work\\h5py-2.4.0\\h5py\\_objects.c:2463)\u001b[1;34m()\u001b[0m\n",
      "\u001b[1;32mh5py\\_objects.pyx\u001b[0m in \u001b[0;36mh5py._objects.with_phil.wrapper (C:\\pisi\\tmp\\h5py-2.4.0-2\\work\\h5py-2.4.0\\h5py\\_objects.c:2420)\u001b[1;34m()\u001b[0m\n",
      "\u001b[1;32mh5py\\h5f.pyx\u001b[0m in \u001b[0;36mh5py.h5f.open (C:\\pisi\\tmp\\h5py-2.4.0-2\\work\\h5py-2.4.0\\h5py\\h5f.c:1797)\u001b[1;34m()\u001b[0m\n",
      "\u001b[1;31mIOError\u001b[0m: Unable to open file (Unable to open file: name = 'd:\\measuring\\data\\20160331\\203029_adwinssro_ssrocalibration_pippin_sil2\\analysis.hdf5', errno = 2, error message = 'no such file or directory', flags = 0, o_flags = 0)"
     ]
    },
    {
     "data": {
      "image/png": "[encoded data removed]",
      "text/plain": [
       "<matplotlib.figure.Figure at 0xc3f5d70>"
      ]
     },
     "metadata": {},
     "output_type": "display_data"
    }
   ],
   "source": [
    "reload(CD)\n",
    "CD.repump_speed(#timestamp='20160120_161935',\n",
    "        older_than = '20160331_203030' , #remmeber this for SSRO calibration!\n",
    "        powers = [1000e-9], exclude_first_n_points =0, log_plot = True,\n",
    "        amplitude =0.2, decay_constant_one = 20., decay_constant_two = 400., x_offs = 0, offset=0.01, fixed = [0], \n",
    "        do_plot = True, do_fit = True, print_fit = True, plot_fit=True,  plot_fit_guess = False, \n",
    "        init_states=['p1','m1'], ro_states=['0'])"
   ]
  },
  {
   "cell_type": "code",
   "execution_count": 22,
   "metadata": {
    "collapsed": false
   },
   "outputs": [
    {
     "name": "stderr",
     "output_type": "stream",
     "text": [
      "WARNING:root:Requested day '20151027' not found\n"
     ]
    },
    {
     "name": "stdout",
     "output_type": "stream",
     "text": [
      "d:\\measuring\\data\n",
      "reloaded\n",
      "Using SSRO timestamp  d:\\measuring\\data\\20150925\\175238_AdwinSSRO_SSROCalibration_Pippin_SIL1\n"
     ]
    },
    {
     "ename": "TypeError",
     "evalue": "'NoneType' object has no attribute '__getitem__'",
     "output_type": "error",
     "traceback": [
      "\u001b[1;31m---------------------------------------------------------------------------\u001b[0m",
      "\u001b[1;31mTypeError\u001b[0m                                 Traceback (most recent call last)",
      "\u001b[1;32m<ipython-input-22-1e0d9843fe89>\u001b[0m in \u001b[0;36m<module>\u001b[1;34m()\u001b[0m\n\u001b[0;32m      3\u001b[0m         \u001b[0mexclude_first_n_points\u001b[0m \u001b[1;33m=\u001b[0m\u001b[1;33m[\u001b[0m\u001b[1;36m0\u001b[0m\u001b[1;33m]\u001b[0m\u001b[1;33m,\u001b[0m \u001b[0mdecay_constant_guess\u001b[0m \u001b[1;33m=\u001b[0m \u001b[1;33m[\u001b[0m\u001b[1;36m2e3\u001b[0m\u001b[1;33m]\u001b[0m\u001b[1;33m,\u001b[0m \u001b[0mbinwidth_ns\u001b[0m \u001b[1;33m=\u001b[0m \u001b[0mNone\u001b[0m\u001b[1;33m,\u001b[0m\u001b[1;33m\u001b[0m\u001b[0m\n\u001b[0;32m      4\u001b[0m         \u001b[0mlog_plot\u001b[0m \u001b[1;33m=\u001b[0m \u001b[0mTrue\u001b[0m\u001b[1;33m,\u001b[0m \u001b[0mdo_fit\u001b[0m \u001b[1;33m=\u001b[0m \u001b[0mTrue\u001b[0m\u001b[1;33m,\u001b[0m \u001b[0mshow_guess\u001b[0m \u001b[1;33m=\u001b[0m \u001b[0mFalse\u001b[0m\u001b[1;33m,\u001b[0m\u001b[0mplot_results\u001b[0m \u001b[1;33m=\u001b[0m \u001b[0mTrue\u001b[0m\u001b[1;33m,\u001b[0m \u001b[0mdo_print\u001b[0m \u001b[1;33m=\u001b[0m \u001b[0mTrue\u001b[0m\u001b[1;33m,\u001b[0m \u001b[0mcolors\u001b[0m \u001b[1;33m=\u001b[0m \u001b[1;33m[\u001b[0m\u001b[1;34m'r'\u001b[0m\u001b[1;33m]\u001b[0m\u001b[1;33m,\u001b[0m\u001b[1;33m\u001b[0m\u001b[0m\n\u001b[1;32m----> 5\u001b[1;33m         fixed = [0], labels = [''])\n\u001b[0m",
      "\u001b[1;32mD:/measuring/analysis\\lib\\Qmemory\\CarbonDephasing.pyc\u001b[0m in \u001b[0;36mionization_paper_plot\u001b[1;34m(timestamps, measurement_name, ssro_calib_timestamp, exclude_first_n_points, binwidth_ns, amplitude, decay_constant_guess, decay_constant_two, x_offs, plot_results, do_T2correct, labels, log_plot, do_fit, do_print, fixed, show_guess, colors)\u001b[0m\n\u001b[0;32m   1336\u001b[0m         \u001b[1;32mprint\u001b[0m \u001b[1;34m'Using SSRO timestamp '\u001b[0m\u001b[1;33m,\u001b[0m \u001b[0mssro_calib_folder\u001b[0m\u001b[1;33m\u001b[0m\u001b[0m\n\u001b[0;32m   1337\u001b[0m \u001b[1;33m\u001b[0m\u001b[0m\n\u001b[1;32m-> 1338\u001b[1;33m         \u001b[0ma\u001b[0m \u001b[1;33m=\u001b[0m \u001b[0mmbi\u001b[0m\u001b[1;33m.\u001b[0m\u001b[0mMBIAnalysis\u001b[0m\u001b[1;33m(\u001b[0m\u001b[0mfolder\u001b[0m\u001b[1;33m)\u001b[0m\u001b[1;33m\u001b[0m\u001b[0m\n\u001b[0m\u001b[0;32m   1339\u001b[0m         \u001b[0ma\u001b[0m\u001b[1;33m.\u001b[0m\u001b[0mget_sweep_pts\u001b[0m\u001b[1;33m(\u001b[0m\u001b[1;33m)\u001b[0m\u001b[1;33m\u001b[0m\u001b[0m\n\u001b[0;32m   1340\u001b[0m         \u001b[0ma\u001b[0m\u001b[1;33m.\u001b[0m\u001b[0mget_readout_results\u001b[0m\u001b[1;33m(\u001b[0m\u001b[0mname\u001b[0m\u001b[1;33m=\u001b[0m\u001b[1;34m'adwindata'\u001b[0m\u001b[1;33m,\u001b[0m \u001b[0mCR_after_check\u001b[0m \u001b[1;33m=\u001b[0m \u001b[0mFalse\u001b[0m\u001b[1;33m)\u001b[0m\u001b[1;33m\u001b[0m\u001b[0m\n",
      "\u001b[1;32mD:/measuring/analysis\\lib\\m2\\m2.pyc\u001b[0m in \u001b[0;36m__init__\u001b[1;34m(self, folder, **kw)\u001b[0m\n\u001b[0;32m     15\u001b[0m         \u001b[1;31m#print 'analyzing in', folder\u001b[0m\u001b[1;33m\u001b[0m\u001b[1;33m\u001b[0m\u001b[0m\n\u001b[0;32m     16\u001b[0m         \u001b[0mself\u001b[0m\u001b[1;33m.\u001b[0m\u001b[0mfolder\u001b[0m \u001b[1;33m=\u001b[0m \u001b[0mfolder\u001b[0m\u001b[1;33m\u001b[0m\u001b[0m\n\u001b[1;32m---> 17\u001b[1;33m         \u001b[0mself\u001b[0m\u001b[1;33m.\u001b[0m\u001b[0mload_hdf5data\u001b[0m\u001b[1;33m(\u001b[0m\u001b[1;33m**\u001b[0m\u001b[0mkw\u001b[0m\u001b[1;33m)\u001b[0m\u001b[1;33m\u001b[0m\u001b[0m\n\u001b[0m\u001b[0;32m     18\u001b[0m \u001b[1;33m\u001b[0m\u001b[0m\n\u001b[0;32m     19\u001b[0m \u001b[1;33m\u001b[0m\u001b[0m\n",
      "\u001b[1;32mD:/measuring/analysis\\lib\\m2\\m2.pyc\u001b[0m in \u001b[0;36mload_hdf5data\u001b[1;34m(self, **kw)\u001b[0m\n\u001b[0;32m     19\u001b[0m \u001b[1;33m\u001b[0m\u001b[0m\n\u001b[0;32m     20\u001b[0m     \u001b[1;32mdef\u001b[0m \u001b[0mload_hdf5data\u001b[0m\u001b[1;33m(\u001b[0m\u001b[0mself\u001b[0m\u001b[1;33m,\u001b[0m \u001b[1;33m**\u001b[0m\u001b[0mkw\u001b[0m\u001b[1;33m)\u001b[0m\u001b[1;33m:\u001b[0m\u001b[1;33m\u001b[0m\u001b[0m\n\u001b[1;32m---> 21\u001b[1;33m         \u001b[0mself\u001b[0m\u001b[1;33m.\u001b[0m\u001b[0mh5filepath\u001b[0m \u001b[1;33m=\u001b[0m \u001b[0mtoolbox\u001b[0m\u001b[1;33m.\u001b[0m\u001b[0mmeasurement_filename\u001b[0m\u001b[1;33m(\u001b[0m\u001b[0mself\u001b[0m\u001b[1;33m.\u001b[0m\u001b[0mfolder\u001b[0m\u001b[1;33m)\u001b[0m\u001b[1;33m\u001b[0m\u001b[0m\n\u001b[0m\u001b[0;32m     22\u001b[0m         \u001b[0mh5mode\u001b[0m\u001b[1;33m=\u001b[0m\u001b[0mkw\u001b[0m\u001b[1;33m.\u001b[0m\u001b[0mpop\u001b[0m\u001b[1;33m(\u001b[0m\u001b[1;34m'hdf5_mode'\u001b[0m\u001b[1;33m,\u001b[0m \u001b[1;34m'r'\u001b[0m\u001b[1;33m)\u001b[0m\u001b[1;33m\u001b[0m\u001b[0m\n\u001b[0;32m     23\u001b[0m         \u001b[0mself\u001b[0m\u001b[1;33m.\u001b[0m\u001b[0mf\u001b[0m \u001b[1;33m=\u001b[0m \u001b[0mh5py\u001b[0m\u001b[1;33m.\u001b[0m\u001b[0mFile\u001b[0m\u001b[1;33m(\u001b[0m\u001b[0mself\u001b[0m\u001b[1;33m.\u001b[0m\u001b[0mh5filepath\u001b[0m\u001b[1;33m,\u001b[0m\u001b[0mh5mode\u001b[0m\u001b[1;33m)\u001b[0m\u001b[1;33m\u001b[0m\u001b[0m\n",
      "\u001b[1;32mD:/measuring/analysis\\lib\\tools\\toolbox.pyc\u001b[0m in \u001b[0;36mmeasurement_filename\u001b[1;34m(directory, ext)\u001b[0m\n\u001b[0;32m    242\u001b[0m \u001b[1;33m\u001b[0m\u001b[0m\n\u001b[0;32m    243\u001b[0m \u001b[1;32mdef\u001b[0m \u001b[0mmeasurement_filename\u001b[0m\u001b[1;33m(\u001b[0m\u001b[0mdirectory\u001b[0m\u001b[1;33m=\u001b[0m\u001b[0mos\u001b[0m\u001b[1;33m.\u001b[0m\u001b[0mgetcwd\u001b[0m\u001b[1;33m(\u001b[0m\u001b[1;33m)\u001b[0m\u001b[1;33m,\u001b[0m \u001b[0mext\u001b[0m\u001b[1;33m=\u001b[0m\u001b[1;34m'hdf5'\u001b[0m\u001b[1;33m)\u001b[0m\u001b[1;33m:\u001b[0m\u001b[1;33m\u001b[0m\u001b[0m\n\u001b[1;32m--> 244\u001b[1;33m     \u001b[0mdirname\u001b[0m \u001b[1;33m=\u001b[0m \u001b[0mos\u001b[0m\u001b[1;33m.\u001b[0m\u001b[0mpath\u001b[0m\u001b[1;33m.\u001b[0m\u001b[0msplit\u001b[0m\u001b[1;33m(\u001b[0m\u001b[0mdirectory\u001b[0m\u001b[1;33m)\u001b[0m\u001b[1;33m[\u001b[0m\u001b[1;36m1\u001b[0m\u001b[1;33m]\u001b[0m\u001b[1;33m\u001b[0m\u001b[0m\n\u001b[0m\u001b[0;32m    245\u001b[0m     \u001b[0mfn\u001b[0m \u001b[1;33m=\u001b[0m \u001b[0mdirname\u001b[0m\u001b[1;33m+\u001b[0m\u001b[1;34m'.'\u001b[0m\u001b[1;33m+\u001b[0m\u001b[0mext\u001b[0m\u001b[1;33m\u001b[0m\u001b[0m\n\u001b[0;32m    246\u001b[0m \u001b[1;33m\u001b[0m\u001b[0m\n",
      "\u001b[1;32mC:\\Users\\tud277299\\AppData\\Local\\Enthought\\Canopy32\\App\\appdata\\canopy-1.0.3.1262.win-x86\\lib\\ntpath.pyc\u001b[0m in \u001b[0;36msplit\u001b[1;34m(p)\u001b[0m\n\u001b[0;32m    168\u001b[0m     Either part may be empty.\"\"\"\n\u001b[0;32m    169\u001b[0m \u001b[1;33m\u001b[0m\u001b[0m\n\u001b[1;32m--> 170\u001b[1;33m     \u001b[0md\u001b[0m\u001b[1;33m,\u001b[0m \u001b[0mp\u001b[0m \u001b[1;33m=\u001b[0m \u001b[0msplitdrive\u001b[0m\u001b[1;33m(\u001b[0m\u001b[0mp\u001b[0m\u001b[1;33m)\u001b[0m\u001b[1;33m\u001b[0m\u001b[0m\n\u001b[0m\u001b[0;32m    171\u001b[0m     \u001b[1;31m# set i to index beyond p's last slash\u001b[0m\u001b[1;33m\u001b[0m\u001b[1;33m\u001b[0m\u001b[0m\n\u001b[0;32m    172\u001b[0m     \u001b[0mi\u001b[0m \u001b[1;33m=\u001b[0m \u001b[0mlen\u001b[0m\u001b[1;33m(\u001b[0m\u001b[0mp\u001b[0m\u001b[1;33m)\u001b[0m\u001b[1;33m\u001b[0m\u001b[0m\n",
      "\u001b[1;32mC:\\Users\\tud277299\\AppData\\Local\\Enthought\\Canopy32\\App\\appdata\\canopy-1.0.3.1262.win-x86\\lib\\ntpath.pyc\u001b[0m in \u001b[0;36msplitdrive\u001b[1;34m(p)\u001b[0m\n\u001b[0;32m    123\u001b[0m     \"\"\"Split a pathname into drive and path specifiers. Returns a 2-tuple\n\u001b[0;32m    124\u001b[0m \"(drive,path)\";  either part may be empty\"\"\"\n\u001b[1;32m--> 125\u001b[1;33m     \u001b[1;32mif\u001b[0m \u001b[0mp\u001b[0m\u001b[1;33m[\u001b[0m\u001b[1;36m1\u001b[0m\u001b[1;33m:\u001b[0m\u001b[1;36m2\u001b[0m\u001b[1;33m]\u001b[0m \u001b[1;33m==\u001b[0m \u001b[1;34m':'\u001b[0m\u001b[1;33m:\u001b[0m\u001b[1;33m\u001b[0m\u001b[0m\n\u001b[0m\u001b[0;32m    126\u001b[0m         \u001b[1;32mreturn\u001b[0m \u001b[0mp\u001b[0m\u001b[1;33m[\u001b[0m\u001b[1;36m0\u001b[0m\u001b[1;33m:\u001b[0m\u001b[1;36m2\u001b[0m\u001b[1;33m]\u001b[0m\u001b[1;33m,\u001b[0m \u001b[0mp\u001b[0m\u001b[1;33m[\u001b[0m\u001b[1;36m2\u001b[0m\u001b[1;33m:\u001b[0m\u001b[1;33m]\u001b[0m\u001b[1;33m\u001b[0m\u001b[0m\n\u001b[0;32m    127\u001b[0m     \u001b[1;32mreturn\u001b[0m \u001b[1;34m''\u001b[0m\u001b[1;33m,\u001b[0m \u001b[0mp\u001b[0m\u001b[1;33m\u001b[0m\u001b[0m\n",
      "\u001b[1;31mTypeError\u001b[0m: 'NoneType' object has no attribute '__getitem__'"
     ]
    },
    {
     "data": {
      "image/png": "[encoded data removed]",
      "text/plain": [
       "<matplotlib.figure.Figure at 0xc806a50>"
      ]
     },
     "metadata": {},
     "output_type": "display_data"
    }
   ],
   "source": [
    "reload(CD)\n",
    "CD.ionization_paper_plot(timestamps=['20151027_140613'],#20151105_030558',\n",
    "        exclude_first_n_points =[0], decay_constant_guess = [2e3], binwidth_ns = None,\n",
    "        log_plot = True, do_fit = True, show_guess = False,plot_results = True, do_print = True, colors = ['r'],\n",
    "        fixed = [0], labels = [''])"
   ]
  },
  {
   "cell_type": "code",
   "execution_count": 3,
   "metadata": {
    "collapsed": false
   },
   "outputs": [
    {
     "ename": "NameError",
     "evalue": "name 'matplotlib' is not defined",
     "output_type": "error",
     "traceback": [
      "\u001b[1;31m---------------------------------------------------------------------------\u001b[0m",
      "\u001b[1;31mNameError\u001b[0m                                 Traceback (most recent call last)",
      "\u001b[1;32m<ipython-input-3-2e48a51fc930>\u001b[0m in \u001b[0;36m<module>\u001b[1;34m()\u001b[0m\n\u001b[1;32m----> 1\u001b[1;33m \u001b[0mmatplotlib\u001b[0m\u001b[1;33m.\u001b[0m\u001b[0mrc\u001b[0m\u001b[1;33m(\u001b[0m\u001b[1;34m'pdf'\u001b[0m\u001b[1;33m,\u001b[0m \u001b[0mfonttype\u001b[0m\u001b[1;33m=\u001b[0m\u001b[1;36m42\u001b[0m\u001b[1;33m)\u001b[0m\u001b[1;33m\u001b[0m\u001b[0m\n\u001b[0m\u001b[0;32m      2\u001b[0m pdf_with_rc_fonts = {\n\u001b[0;32m      3\u001b[0m     \u001b[1;34m'font.family'\u001b[0m\u001b[1;33m:\u001b[0m \u001b[1;34m'serif'\u001b[0m\u001b[1;33m,\u001b[0m\u001b[1;33m\u001b[0m\u001b[0m\n\u001b[0;32m      4\u001b[0m     \u001b[1;34m'font.serif'\u001b[0m\u001b[1;33m:\u001b[0m \u001b[1;33m[\u001b[0m\u001b[1;34m'Times New Roman'\u001b[0m\u001b[1;33m]\u001b[0m\u001b[1;33m,\u001b[0m\u001b[1;33m\u001b[0m\u001b[0m\n\u001b[0;32m      5\u001b[0m     \u001b[1;34m'font.sans-serif'\u001b[0m\u001b[1;33m:\u001b[0m \u001b[1;33m[\u001b[0m\u001b[1;34m'Arial'\u001b[0m\u001b[1;33m]\u001b[0m\u001b[1;33m,\u001b[0m\u001b[1;33m\u001b[0m\u001b[0m\n",
      "\u001b[1;31mNameError\u001b[0m: name 'matplotlib' is not defined"
     ]
    }
   ],
   "source": [
    "matplotlib.rc('pdf', fonttype=42)\n",
    "pdf_with_rc_fonts = {\n",
    "    'font.family': 'serif',\n",
    "    'font.serif': ['Times New Roman'],\n",
    "    'font.sans-serif': ['Arial'],\n",
    "}\n",
    "matplotlib.rcParams.update(pdf_with_rc_fonts)\n",
    "\n",
    "from matplotlib import rcParams\n",
    "rcParams['xtick.major.size'] = 4\n",
    "#xtick.minor.size\n",
    "rcParams['font.family'] = 'sans-serif'\n",
    "rcParams['font.sans-serif'] = ['Arial']\n",
    "rcParams['font.family'] = 'serif'\n",
    "rcParams['font.serif'] = ['Times New Roman']\n",
    "rcParams['lines.linewidth'] = 1\n",
    "rcParams['axes.linewidth'] = 0.6\n",
    "color_list = ['b','g','y','r','brown','m','c']\n",
    "CR_after_check = True ### discard events with ionization for data analysis? (this relies on the CR check after the SSRO.)\n",
    "linewidth = 1\n",
    "errorbar_width = 2\n",
    "figwidthPRL=3.+3./8.\n",
    "golden_ratio = 1.62\n",
    "figsize=(figwidthPRL,figwidthPRL/1.4)\n",
    "axeslabel_fontsize = 7\n",
    "ticklabel_fontsize = 7\n",
    "fignumber_fontsize=11\n",
    "legend_fontsize = 7\n",
    "markersize = 3\n",
    "majorticklength = 3\n",
    "minorticklength = 1.5\n",
    "tickwidth = 0.6\n",
    "axeswidth = 0.6\n",
    "save_figure_to = 'D:\\measuring\\QMem_plots'\n",
    "\n",
    "fig = plt.figure(figsize=figsize)\n",
    "ax = plt.subplot()\n",
    "plt.tick_params(pad = 4, axis='both', which='major', labelsize=ticklabel_fontsize, width = tickwidth, length=majorticklength)\n",
    "plt.tick_params(pad = 4, axis='both', which='minor', labelsize=ticklabel_fontsize, width = tickwidth, length=minorticklength)\n",
    "y_max = 500\n",
    "ax.yaxis.set_ticks(np.arange(0, y_max,100))\n",
    "plt.ylim(0,y_max)\n",
    "plt.xlabel(r'Repump laser power ($\\mu$W)', size=axeslabel_fontsize)\n",
    "plt.ylabel(r'Decay time constant (ns)', size=axeslabel_fontsize)\n",
    "plt.tight_layout()\n",
    "yscaling = 5\n",
    "fig.text(0.09,0.9, 'x'+str(yscaling),size=fignumber_fontsize, color = 'r')\n",
    "\n",
    "plt.errorbar(powers*1000000, tau2/np.array(yscaling), yerr = tau2_err/np.array(yscaling), zorder = 500, capsize= errorbar_width, fmt = '.', ls= '', color = 'r', elinewidth=linewidth)\n",
    "plt.errorbar(powers*1000000, tau, yerr = tau_err , zorder = 500, capsize= errorbar_width, fmt = '.', ls= '', color = 'k', elinewidth=linewidth)\n",
    "plt.savefig(os.path.join(save_figure_to, 'Supp_repump_saturation.pdf'), format='pdf')\n",
    "plt.savefig(os.path.join(save_figure_to, 'Supp_repump_saturation.png'), format='png')\n",
    "plt.show()\n",
    "plt.close('all')\n",
    "\n",
    "# fig = plt.figure()\n",
    "# ax = plt.subplot()\n",
    "# plt.xlabel('tau2')\n",
    "# plt.ylabel('tau')\n",
    "# plt.ylim(0,700)\n",
    "# plt.xlim(0,3500)\n",
    "# plt.errorbar(tau2, tau, yerr = tau_err, xerr=tau2_err, fmt = 'o', color = 'k', label = 'x')\n",
    "# plt.show()\n",
    "# plt.close('all')\n",
    "#plt.errorbar(tau,tau2, xerr=tau_err, yerr = tau2_err, fmt = 'o', color = 'k', label = 'x')\n",
    "#print fit_result['params_dict']['tau2'], ' +- ', fit_result['error_dict']['tau2']"
   ]
  },
  {
   "cell_type": "code",
   "execution_count": 4,
   "metadata": {
    "collapsed": false
   },
   "outputs": [
    {
     "ename": "NameError",
     "evalue": "name 'plt' is not defined",
     "output_type": "error",
     "traceback": [
      "\u001b[1;31m---------------------------------------------------------------------------\u001b[0m",
      "\u001b[1;31mNameError\u001b[0m                                 Traceback (most recent call last)",
      "\u001b[1;32m<ipython-input-4-1012aa43db99>\u001b[0m in \u001b[0;36m<module>\u001b[1;34m()\u001b[0m\n\u001b[1;32m----> 1\u001b[1;33m \u001b[0mfig\u001b[0m \u001b[1;33m=\u001b[0m \u001b[0mplt\u001b[0m\u001b[1;33m.\u001b[0m\u001b[0mfigure\u001b[0m\u001b[1;33m(\u001b[0m\u001b[1;33m)\u001b[0m\u001b[1;33m\u001b[0m\u001b[0m\n\u001b[0m\u001b[0;32m      2\u001b[0m \u001b[0max\u001b[0m \u001b[1;33m=\u001b[0m \u001b[0mplt\u001b[0m\u001b[1;33m.\u001b[0m\u001b[0msubplot\u001b[0m\u001b[1;33m(\u001b[0m\u001b[1;33m)\u001b[0m\u001b[1;33m\u001b[0m\u001b[0m\n\u001b[0;32m      3\u001b[0m \u001b[0mplt\u001b[0m\u001b[1;33m.\u001b[0m\u001b[0mxlabel\u001b[0m\u001b[1;33m(\u001b[0m\u001b[1;34m'tau'\u001b[0m\u001b[1;33m)\u001b[0m\u001b[1;33m\u001b[0m\u001b[0m\n\u001b[0;32m      4\u001b[0m \u001b[0mplt\u001b[0m\u001b[1;33m.\u001b[0m\u001b[0mylabel\u001b[0m\u001b[1;33m(\u001b[0m\u001b[1;34m'tau2'\u001b[0m\u001b[1;33m)\u001b[0m\u001b[1;33m\u001b[0m\u001b[0m\n\u001b[0;32m      5\u001b[0m \u001b[0mplt\u001b[0m\u001b[1;33m.\u001b[0m\u001b[0mylim\u001b[0m\u001b[1;33m(\u001b[0m\u001b[1;36m0\u001b[0m\u001b[1;33m,\u001b[0m\u001b[1;36m3500\u001b[0m\u001b[1;33m)\u001b[0m\u001b[1;33m\u001b[0m\u001b[0m\n",
      "\u001b[1;31mNameError\u001b[0m: name 'plt' is not defined"
     ]
    }
   ],
   "source": [
    "fig = plt.figure()\n",
    "ax = plt.subplot()\n",
    "plt.xlabel('tau')\n",
    "plt.ylabel('tau2')\n",
    "plt.ylim(0,3500)\n",
    "plt.xlim(0,700)\n",
    "p0, fitfunc, fitfunc_str = fitlib.fit_line(g_a=0,g_b=6.5)\n",
    "x=np.arange(0,700,1)\n",
    "plt.errorbar(x, fitfunc(x), fmt = '', color = 'r', label = 'x')\n",
    "plt.errorbar(tau, tau2, yerr = tau2_err, xerr=tau_err, fmt = 'o', color = 'k', label = 'x')\n",
    "print p0, fitfunc, fitfunc_str\n",
    "fit_result = fit.fit1d(tau, tau2, None, p0 = p0, fitfunc = fitfunc, do_print = True, ret = True)\n",
    "print fit_result\n",
    "\n",
    "plot.plot_fit1d(fit_result, np.linspace(0,1.1 *np.max(tau2),1001), show_guess=True, ax=ax, plot_data=True, add_txt=False, lw=2, color = 'g')\n",
    "\n",
    "plt.show()\n",
    "plt.close('all')\n",
    "#plt.errorbar(tau,tau2, xerr=tau_err, yerr = tau2_err, fmt = 'o', color = 'k', label = 'x')\n",
    "#print fit_result['params_dict']['tau2'], ' +- ', fit_result['error_dict']['tau2']"
   ]
  },
  {
   "cell_type": "markdown",
   "metadata": {},
   "source": [
    "## Paper plot"
   ]
  },
  {
   "cell_type": "code",
   "execution_count": 5,
   "metadata": {
    "collapsed": false,
    "scrolled": false
   },
   "outputs": [
    {
     "ename": "NameError",
     "evalue": "name 'CD' is not defined",
     "output_type": "error",
     "traceback": [
      "\u001b[1;31m---------------------------------------------------------------------------\u001b[0m",
      "\u001b[1;31mNameError\u001b[0m                                 Traceback (most recent call last)",
      "\u001b[1;32m<ipython-input-5-b4538ad02e87>\u001b[0m in \u001b[0;36m<module>\u001b[1;34m()\u001b[0m\n\u001b[1;32m----> 1\u001b[1;33m \u001b[0mreload\u001b[0m\u001b[1;33m(\u001b[0m\u001b[0mCD\u001b[0m\u001b[1;33m)\u001b[0m\u001b[1;33m\u001b[0m\u001b[0m\n\u001b[0m\u001b[0;32m      2\u001b[0m \u001b[0mbinwidth\u001b[0m \u001b[1;33m=\u001b[0m \u001b[1;33m[\u001b[0m\u001b[0mNone\u001b[0m\u001b[1;33m,\u001b[0m\u001b[0mNone\u001b[0m\u001b[1;33m,\u001b[0m\u001b[0mNone\u001b[0m\u001b[1;33m,\u001b[0m\u001b[0mNone\u001b[0m\u001b[1;33m,\u001b[0m\u001b[0mNone\u001b[0m\u001b[1;33m]\u001b[0m\u001b[1;33m\u001b[0m\u001b[0m\n\u001b[0;32m      3\u001b[0m \u001b[0mbinwidth\u001b[0m \u001b[1;33m=\u001b[0m \u001b[1;33m[\u001b[0m\u001b[1;36m12\u001b[0m\u001b[1;33m,\u001b[0m\u001b[1;36m12\u001b[0m\u001b[1;33m,\u001b[0m\u001b[1;36m25\u001b[0m\u001b[1;33m,\u001b[0m\u001b[1;36m25\u001b[0m\u001b[1;33m,\u001b[0m\u001b[1;36m25\u001b[0m\u001b[1;33m]\u001b[0m\u001b[1;33m\u001b[0m\u001b[0m\n\u001b[0;32m      4\u001b[0m \u001b[0mstart_tstamps\u001b[0m \u001b[1;33m=\u001b[0m \u001b[1;33m[\u001b[0m\u001b[1;34m'20151105_032629'\u001b[0m\u001b[1;33m,\u001b[0m\u001b[1;34m'20151031_182230'\u001b[0m\u001b[1;33m,\u001b[0m\u001b[1;34m'20151025_235900'\u001b[0m\u001b[1;33m,\u001b[0m\u001b[1;34m'20151024_131500'\u001b[0m\u001b[1;33m,\u001b[0m\u001b[1;34m'20151024_233353'\u001b[0m \u001b[1;33m]\u001b[0m\u001b[1;33m\u001b[0m\u001b[0m\n\u001b[0;32m      5\u001b[0m \u001b[0mstop_timestamps\u001b[0m \u001b[1;33m=\u001b[0m \u001b[1;33m[\u001b[0m \u001b[1;34m'20151103_211016'\u001b[0m\u001b[1;33m,\u001b[0m\u001b[1;34m'20151030_220005'\u001b[0m\u001b[1;33m,\u001b[0m\u001b[1;34m'20151025_102306'\u001b[0m\u001b[1;33m,\u001b[0m\u001b[1;34m'20151023_193751'\u001b[0m\u001b[1;33m,\u001b[0m\u001b[1;34m'20151024_145547'\u001b[0m\u001b[1;33m]\u001b[0m\u001b[1;33m\u001b[0m\u001b[0m\n",
      "\u001b[1;31mNameError\u001b[0m: name 'CD' is not defined"
     ]
    }
   ],
   "source": [
    "reload(CD)\n",
    "binwidth = [None,None,None,None,None]\n",
    "binwidth = [12,12,25,25,25]\n",
    "start_tstamps = ['20151105_032629','20151031_182230','20151025_235900','20151024_131500','20151024_233353' ]\n",
    "stop_timestamps = [ '20151103_211016','20151030_220005','20151025_102306','20151023_193751','20151024_145547']\n",
    "CD.repump_speed_paper_plot(older_than=start_tstamps, newer_than=stop_timestamps, binwidth_ns=binwidth,\n",
    "        exclude_first_n_points = [5,7,2,2,2], offset = [0.,0.,0.,0.,0.], amplitude = [0.8,0.8,0.8,0.8, 0.8], \n",
    "        x0 = [0.,0.,0.,0., 0.], decay_constant_one = [50, 20,300,150,200],\n",
    "        decay_constant_two = [500.,523.,800.,800.,500.],\n",
    "        labels = [r'$E_{1,2}$ 2000 nW',r'$A_{1,2}$ 2000 nW',r'$A_{1,2}$ 190 nW',r'$A_{1,2}$ 100 nW',r'$A_{1,2}$ 50 nW'],\n",
    "        x_offs=[0,0,0,0,0], colors=['y','g','c','b','k'], cutoff_ns = [1000,1200,1800,2500,1000],#[800,2200,1200,1500],\n",
    "        plot_fit = True, do_print = False, fixed = [[0],[0],[0],[0],[0]], show_guess = False)"
   ]
  },
  {
   "cell_type": "code",
   "execution_count": 6,
   "metadata": {
    "collapsed": false
   },
   "outputs": [
    {
     "ename": "NameError",
     "evalue": "name 'CD' is not defined",
     "output_type": "error",
     "traceback": [
      "\u001b[1;31m---------------------------------------------------------------------------\u001b[0m",
      "\u001b[1;31mNameError\u001b[0m                                 Traceback (most recent call last)",
      "\u001b[1;32m<ipython-input-6-305b6f51f209>\u001b[0m in \u001b[0;36m<module>\u001b[1;34m()\u001b[0m\n\u001b[1;32m----> 1\u001b[1;33m \u001b[0mreload\u001b[0m\u001b[1;33m(\u001b[0m\u001b[0mCD\u001b[0m\u001b[1;33m)\u001b[0m\u001b[1;33m\u001b[0m\u001b[0m\n\u001b[0m\u001b[0;32m      2\u001b[0m \u001b[0mtstamps_E\u001b[0m \u001b[1;33m=\u001b[0m \u001b[1;33m[\u001b[0m\u001b[1;34m'20151219_215910'\u001b[0m\u001b[1;33m,\u001b[0m\u001b[1;34m'20151219_215525'\u001b[0m\u001b[1;33m,\u001b[0m\u001b[1;34m'20151219_215138'\u001b[0m\u001b[1;33m]\u001b[0m\u001b[1;31m#,\u001b[0m\u001b[1;33m\u001b[0m\u001b[0m\n\u001b[0;32m      3\u001b[0m \u001b[0mtstamps_A\u001b[0m \u001b[1;33m=\u001b[0m \u001b[1;33m[\u001b[0m\u001b[1;34m'20151221_161917'\u001b[0m\u001b[1;33m,\u001b[0m\u001b[1;34m'20151221_161445'\u001b[0m\u001b[1;33m,\u001b[0m\u001b[1;34m'20151221_161024'\u001b[0m\u001b[1;33m]\u001b[0m\u001b[1;33m\u001b[0m\u001b[0m\n\u001b[0;32m      4\u001b[0m CD.repump_speed_pm1_paper_plot(tstamps_E=tstamps_E,tstamps_A=tstamps_A, binwidth_ns=[17,17,17], \n\u001b[0;32m      5\u001b[0m         \u001b[0mlabels\u001b[0m \u001b[1;33m=\u001b[0m \u001b[1;33m[\u001b[0m\u001b[1;34mr'$p_{\\left|+1\\right\\rangle}$'\u001b[0m\u001b[1;33m,\u001b[0m\u001b[1;34mr'$p_{\\left|-1\\right\\rangle}$'\u001b[0m\u001b[1;33m,\u001b[0m\u001b[1;34mr'$1-p_{\\left|0\\right\\rangle}$'\u001b[0m\u001b[1;33m]\u001b[0m\u001b[1;33m,\u001b[0m \u001b[1;31m#ssro_calib_timestamp=['20151221_160634',None],\u001b[0m\u001b[1;33m\u001b[0m\u001b[0m\n",
      "\u001b[1;31mNameError\u001b[0m: name 'CD' is not defined"
     ]
    }
   ],
   "source": [
    "reload(CD)\n",
    "tstamps_E = ['20151219_215910','20151219_215525','20151219_215138']#,\n",
    "tstamps_A = ['20151221_161917','20151221_161445','20151221_161024']\n",
    "CD.repump_speed_pm1_paper_plot(tstamps_E=tstamps_E,tstamps_A=tstamps_A, binwidth_ns=[17,17,17], \n",
    "        labels = [r'$p_{\\left|+1\\right\\rangle}$',r'$p_{\\left|-1\\right\\rangle}$',r'$1-p_{\\left|0\\right\\rangle}$'], #ssro_calib_timestamp=['20151221_160634',None],\n",
    "        exclude_first_n_points_A = [6,6,6], exclude_first_n_points_E = [12,12,12], offset = [0.,0.,0.], amplitude = [0.2,0.7,0.7], x0 = [0.,0.,0.], decay_constant_one = [50,50,50], \n",
    "        decay_constant_two = [440.,440.,440.], x_offs=[-200,0,0], colors=['k','r','b','g'], cutoff_ns = [600,600,600],\n",
    "        plot_fit = True, do_print = False, marker = ['+', 'x', '.'], fixed = [[0,3,4],[0,2,3],[0,2,3]], show_guess = False)"
   ]
  },
  {
   "cell_type": "markdown",
   "metadata": {},
   "source": [
    "# General plotting of positive and negative data"
   ]
  },
  {
   "cell_type": "code",
   "execution_count": 35,
   "metadata": {
    "collapsed": false
   },
   "outputs": [
    {
     "name": "stdout",
     "output_type": "stream",
     "text": [
      "d:\\measuring\\data\n",
      "reloaded\n"
     ]
    },
    {
     "data": {
      "image/png": "[encoded data removed]",
      "text/plain": [
       "<matplotlib.figure.Figure at 0xa254810>"
      ]
     },
     "metadata": {},
     "output_type": "display_data"
    }
   ],
   "source": [
    "reload(CD)\n",
    "fig = plt.figure()\n",
    "ax = plt.subplot()\n",
    "\n",
    "older_than = None\n",
    "x,y1,y_u,f = CD.get_PosNeg_data('_Tomo_X_C1',older_than = older_than)\n",
    "CD.plot_data(x,y1,y_u=y_u,fmt='o-')\n",
    "# x,y1,y_u,f = CD.get_PosNeg_data('_Tomo_Z_C2',older_than = older_than)\n",
    "# CD.plot_data(x,y1,y_u=y_u,fmt='o-')\n",
    "# x,y1,y_u,f = CD.get_PosNeg_data('_Tomo_Z_C3',older_than = older_than)\n",
    "# CD.plot_data(x,y1,y_u=y_u,fmt='o-')\n",
    "# x,y1,y_u,f = CD.get_PosNeg_data('_Tomo_Z_C5',older_than = older_than)\n",
    "# CD.plot_data(x,y1,y_u=y_u,fmt='o-')\n",
    "# x,y1,y_u,f = CD.get_PosNeg_data('_Tomo_Z_C6',older_than = older_than)\n",
    "# CD.plot_data(x,y1,y_u=y_u,fmt='o-')\n",
    "# x,y1,y_u,f = CD.get_PosNeg_data('_statemX_Tomo_ZZ_C12',older_than = '20151023_142159')\n",
    "# CD.plot_data(x,y1,y_u=y_u,fmt='o-')\n",
    "# x,y1,y_u,f = CD.get_PosNeg_data('_Tomo_Y_C2')\n",
    "# CD.plot_data(x,y1,y_u=y_u,fmt='o')\n",
    "# x,y1,y_u,f = CD.get_PosNeg_data('_statemX_Tomo_XX_C25')\n",
    "# CD.plot_data(x,y1,y_u=y_u,fmt='o-')\n",
    "\n",
    "#test stuff\n",
    "# p0, fitfunc,fitfuncstr = common.fit_cos(freq,offset,amp,phase)\n",
    "\n",
    "# CD.fit_exp_pos_neg_data('_Tomo_X_C1')\n",
    "# carbons = [1]\n",
    "# for c in carbons:\n",
    "#     f = CD.fit_exp_pos_neg_data('_Tomo_X_C'+ str(c))\n",
    "\n",
    "\n",
    "plt.title(CD.get_tstamp_from_folder(f))\n",
    "plt.xlabel('Repetitions')\n",
    "plt.ylabel('<X>')\n",
    "plt.legend(['C1'],loc=1)#,'logical X C25 YY','logical X C25 XY','logical X C25 YX'])\n",
    "plt.savefig(os.path.join(f,'Pos_neg_data.png'),format='png')\n",
    "plt.show()\n",
    "plt.close('all')"
   ]
  },
  {
   "cell_type": "markdown",
   "metadata": {},
   "source": [
    "# Fit exponential to positive/negative data"
   ]
  },
  {
   "cell_type": "code",
   "execution_count": 8,
   "metadata": {
    "collapsed": false
   },
   "outputs": [
    {
     "ename": "NameError",
     "evalue": "name 'CD' is not defined",
     "output_type": "error",
     "traceback": [
      "\u001b[1;31m---------------------------------------------------------------------------\u001b[0m",
      "\u001b[1;31mNameError\u001b[0m                                 Traceback (most recent call last)",
      "\u001b[1;32m<ipython-input-8-b45f3fea61df>\u001b[0m in \u001b[0;36m<module>\u001b[1;34m()\u001b[0m\n\u001b[1;32m----> 1\u001b[1;33m \u001b[0mreload\u001b[0m\u001b[1;33m(\u001b[0m\u001b[0mCD\u001b[0m\u001b[1;33m)\u001b[0m\u001b[1;33m\u001b[0m\u001b[0m\n\u001b[0m\u001b[0;32m      2\u001b[0m \u001b[1;32mimport\u001b[0m \u001b[0mcolorsys\u001b[0m\u001b[1;33m\u001b[0m\u001b[0m\n\u001b[0;32m      3\u001b[0m \u001b[1;33m\u001b[0m\u001b[0m\n\u001b[0;32m      4\u001b[0m \u001b[0mfig\u001b[0m \u001b[1;33m=\u001b[0m \u001b[0mplt\u001b[0m\u001b[1;33m.\u001b[0m\u001b[0mfigure\u001b[0m\u001b[1;33m(\u001b[0m\u001b[1;33m)\u001b[0m\u001b[1;33m\u001b[0m\u001b[0m\n\u001b[0;32m      5\u001b[0m \u001b[0max\u001b[0m \u001b[1;33m=\u001b[0m \u001b[0mplt\u001b[0m\u001b[1;33m.\u001b[0m\u001b[0msubplot\u001b[0m\u001b[1;33m(\u001b[0m\u001b[1;33m)\u001b[0m\u001b[1;33m\u001b[0m\u001b[0m\n",
      "\u001b[1;31mNameError\u001b[0m: name 'CD' is not defined"
     ]
    }
   ],
   "source": [
    "reload(CD)\n",
    "import colorsys\n",
    "\n",
    "fig = plt.figure()\n",
    "ax = plt.subplot()\n",
    "fit_exp = False\n",
    "\n",
    "#### get exp decays for all carbon combinations.\n",
    "i = 0\n",
    "states = ['X','mX']\n",
    "carbons = ['26']\n",
    "N =  len(states)*len(carbons)\n",
    "HSV_tuples = [(x*1.0/N, 0.7, 1.) for x in range(N)]\n",
    "RGB_tuples = map(lambda x: colorsys.hsv_to_rgb(*x), HSV_tuples)\n",
    "\n",
    "for state in states:\n",
    "    for Cs in carbons:\n",
    "        f = CD.fit_exp_pos_neg_data('_state'+state+'_Tomo_ZZ_C'+Cs,label = 'C'+Cs+' '+state,ax=ax,color=RGB_tuples[i], fmt='o')\n",
    "        i+=1\n",
    "\n",
    "# f = CD.fit_exp_pos_neg_data('_Tomo_Z_C1',label = 'C1',ax=ax, color='b', fmt='o')\n",
    "# f = CD.fit_exp_pos_neg_data('_Tomo_Z_C2',label = 'C2',ax=ax, color='g', fmt='o')\n",
    "# f = CD.fit_exp_pos_neg_data('_Tomo_Z_C3',label = 'C3',ax=ax, color='r', fmt='o')\n",
    "# f = CD.fit_exp_pos_neg_data('_Tomo_Z_C5',label = 'C5',ax=ax, color='y', fmt='o')\n",
    "# f = CD.fit_exp_pos_neg_data('_Tomo_Z_C6',label = 'C6',ax=ax, color='c', fmt='o')\n",
    "#print f\n",
    "\n",
    "#### plotting/formatting saving\n",
    "plt.title(CD.get_tstamp_from_folder(f)+' 2000 nW')\n",
    "plt.xlabel('Number of Repetitions')\n",
    "plt.ylabel('Expectation value')\n",
    "plt.legend(['C1','fit','C2','fit','C3','fit','C5','fit','C6','fit'],bbox_to_anchor=(1.05, 1), loc=2, borderaxespad=0.)#,'','C3','','C5','','C6'])\n",
    "plt.savefig(os.path.join(f,'Pos_neg_fit_exponential.png'),format='png')\n",
    "plt.show()\n",
    "plt.close('all')"
   ]
  },
  {
   "cell_type": "markdown",
   "metadata": {},
   "source": [
    "# General plot of Bloch vector length"
   ]
  },
  {
   "cell_type": "code",
   "execution_count": 9,
   "metadata": {
    "collapsed": false,
    "scrolled": false
   },
   "outputs": [
    {
     "ename": "NameError",
     "evalue": "name 'CD' is not defined",
     "output_type": "error",
     "traceback": [
      "\u001b[1;31m---------------------------------------------------------------------------\u001b[0m",
      "\u001b[1;31mNameError\u001b[0m                                 Traceback (most recent call last)",
      "\u001b[1;32m<ipython-input-9-31caa4998507>\u001b[0m in \u001b[0;36m<module>\u001b[1;34m()\u001b[0m\n\u001b[0;32m      1\u001b[0m \u001b[1;31m### routine gets raw data for 'X' and 'Y' tomography of a carbon and plots it.\u001b[0m\u001b[1;33m\u001b[0m\u001b[1;33m\u001b[0m\u001b[0m\n\u001b[0;32m      2\u001b[0m \u001b[1;33m\u001b[0m\u001b[0m\n\u001b[1;32m----> 3\u001b[1;33m \u001b[0mreload\u001b[0m\u001b[1;33m(\u001b[0m\u001b[0mCD\u001b[0m\u001b[1;33m)\u001b[0m\u001b[1;33m\u001b[0m\u001b[0m\n\u001b[0m\u001b[0;32m      4\u001b[0m \u001b[0molder_than\u001b[0m \u001b[1;33m=\u001b[0m \u001b[1;34m'20150723_094107'\u001b[0m\u001b[1;33m\u001b[0m\u001b[0m\n\u001b[0;32m      5\u001b[0m \u001b[1;31m#older_than = None\u001b[0m\u001b[1;33m\u001b[0m\u001b[1;33m\u001b[0m\u001b[0m\n",
      "\u001b[1;31mNameError\u001b[0m: name 'CD' is not defined"
     ]
    }
   ],
   "source": [
    "### routine gets raw data for 'X' and 'Y' tomography of a carbon and plots it.\n",
    "\n",
    "reload(CD)\n",
    "older_than = '20150723_094107'\n",
    "#older_than = None\n",
    "f_name = 'Memory_Sweep_timing_'\n",
    "\n",
    "CD.Sweep_repetitions(carbon = '1',folder_name = f_name, older_than = older_than, do_T2correct=True, fit_result=False, return_fits=True, fitGauss=True)\n",
    "#CD.Sweep_repetitions(carbon = '5',folder_name = 'Memory_Sweep_repump_time_', older_than = None, do_T2correct=False, fit_result=False, return_fits=True, fitGauss=True)\n",
    "#CD.Sweep_repetitions(carbon = '3',folder_name = 'Memory_Sweep_repump_time_', older_than = older_than)\n",
    "#folder_name = 'Memory_Sweep_repump_time_'\n",
    "#CD.Sweep_repetitions(carbon = c,folder_name = folder_name,logicstate = 'X',return_fits=True,plot_result = True, older_than = '20151002_135716' )\n",
    "#CD.Sweep_repetitions(carbon = c, folder_name = folder_name, logicstate = 'mX', return_fits=True, plot_result = True)#, older_than = '20151002_140212')"
   ]
  },
  {
   "cell_type": "code",
   "execution_count": 10,
   "metadata": {
    "collapsed": false
   },
   "outputs": [
    {
     "ename": "NameError",
     "evalue": "name 'CD' is not defined",
     "output_type": "error",
     "traceback": [
      "\u001b[1;31m---------------------------------------------------------------------------\u001b[0m",
      "\u001b[1;31mNameError\u001b[0m                                 Traceback (most recent call last)",
      "\u001b[1;32m<ipython-input-10-3d39cbc2e887>\u001b[0m in \u001b[0;36m<module>\u001b[1;34m()\u001b[0m\n\u001b[1;32m----> 1\u001b[1;33m \u001b[0mreload\u001b[0m\u001b[1;33m(\u001b[0m\u001b[0mCD\u001b[0m\u001b[1;33m)\u001b[0m\u001b[1;33m\u001b[0m\u001b[0m\n\u001b[0m\u001b[0;32m      2\u001b[0m \u001b[0mf_name\u001b[0m \u001b[1;33m=\u001b[0m \u001b[1;34m'Memory_Sweep_repump_time_'\u001b[0m\u001b[1;33m\u001b[0m\u001b[0m\n\u001b[0;32m      3\u001b[0m \u001b[0molder_than\u001b[0m \u001b[1;33m=\u001b[0m \u001b[1;34m'20151022_190000'\u001b[0m\u001b[1;31m#'20151022_220000'\u001b[0m\u001b[1;33m\u001b[0m\u001b[0m\n\u001b[0;32m      4\u001b[0m CD.avg_repump_time_paper_plot(carbons = ['1','5','2','3'], colors=['b','c','g','y'],\n\u001b[0;32m      5\u001b[0m                               \u001b[0mfolder_name\u001b[0m \u001b[1;33m=\u001b[0m \u001b[0mf_name\u001b[0m\u001b[1;33m,\u001b[0m \u001b[0molder_than\u001b[0m \u001b[1;33m=\u001b[0m \u001b[0molder_than\u001b[0m\u001b[1;33m,\u001b[0m\u001b[1;33m\u001b[0m\u001b[0m\n",
      "\u001b[1;31mNameError\u001b[0m: name 'CD' is not defined"
     ]
    }
   ],
   "source": [
    "reload(CD)\n",
    "f_name = 'Memory_Sweep_repump_time_'\n",
    "older_than = '20151022_190000'#'20151022_220000'\n",
    "CD.avg_repump_time_paper_plot(carbons = ['1','5','2','3'], colors=['b','c','g','y'],\n",
    "                              folder_name = f_name, older_than = older_than,\n",
    "                              save=False, fig_name = 'Fig3a_avgRPtime', CR_after_check=True) "
   ]
  },
  {
   "cell_type": "code",
   "execution_count": 11,
   "metadata": {
    "collapsed": false
   },
   "outputs": [
    {
     "ename": "NameError",
     "evalue": "name 'CD' is not defined",
     "output_type": "error",
     "traceback": [
      "\u001b[1;31m---------------------------------------------------------------------------\u001b[0m",
      "\u001b[1;31mNameError\u001b[0m                                 Traceback (most recent call last)",
      "\u001b[1;32m<ipython-input-11-9c4efc35187b>\u001b[0m in \u001b[0;36m<module>\u001b[1;34m()\u001b[0m\n\u001b[1;32m----> 1\u001b[1;33m \u001b[0mreload\u001b[0m\u001b[1;33m(\u001b[0m\u001b[0mCD\u001b[0m\u001b[1;33m)\u001b[0m\u001b[1;33m\u001b[0m\u001b[0m\n\u001b[0m\u001b[0;32m      2\u001b[0m \u001b[0mf_name\u001b[0m \u001b[1;33m=\u001b[0m \u001b[1;34m'Memory_sweep_timing_'\u001b[0m\u001b[1;33m\u001b[0m\u001b[0m\n\u001b[0;32m      3\u001b[0m \u001b[0molder_than\u001b[0m \u001b[1;33m=\u001b[0m \u001b[1;34m'20150723_094542'\u001b[0m\u001b[1;31m#'20151022_220000'\u001b[0m\u001b[1;33m\u001b[0m\u001b[0m\n\u001b[0;32m      4\u001b[0m CD.t_sweep_paper_plot(carbons = ['1', '2', '5'], colors=['b','c','g'], labels = ['-37.0','+18.4','+23.7'],\n\u001b[0;32m      5\u001b[0m         \u001b[0mfolder_name\u001b[0m \u001b[1;33m=\u001b[0m \u001b[0mf_name\u001b[0m\u001b[1;33m,\u001b[0m \u001b[0molder_than\u001b[0m \u001b[1;33m=\u001b[0m \u001b[0molder_than\u001b[0m\u001b[1;33m,\u001b[0m \u001b[0mdo_Z\u001b[0m\u001b[1;33m=\u001b[0m\u001b[0mTrue\u001b[0m\u001b[1;33m,\u001b[0m\u001b[1;33m\u001b[0m\u001b[0m\n",
      "\u001b[1;31mNameError\u001b[0m: name 'CD' is not defined"
     ]
    }
   ],
   "source": [
    "reload(CD)\n",
    "f_name = 'Memory_sweep_timing_'\n",
    "older_than = '20150723_094542'#'20151022_220000'\n",
    "CD.t_sweep_paper_plot(carbons = ['1', '2', '5'], colors=['b','c','g'], labels = ['-37.0','+18.4','+23.7'],\n",
    "        folder_name = f_name, older_than = older_than, do_Z=True,\n",
    "        is_X_measurement = False, ignore_logic_state =True,fit_results=False,\n",
    "        save=False, fig_name = 'Supp_tsweep', CR_after_check=True) "
   ]
  },
  {
   "cell_type": "code",
   "execution_count": 12,
   "metadata": {
    "collapsed": false,
    "scrolled": true
   },
   "outputs": [
    {
     "ename": "NameError",
     "evalue": "name 'CD' is not defined",
     "output_type": "error",
     "traceback": [
      "\u001b[1;31m---------------------------------------------------------------------------\u001b[0m",
      "\u001b[1;31mNameError\u001b[0m                                 Traceback (most recent call last)",
      "\u001b[1;32m<ipython-input-12-5b7d716f02c9>\u001b[0m in \u001b[0;36m<module>\u001b[1;34m()\u001b[0m\n\u001b[1;32m----> 1\u001b[1;33m \u001b[0mreload\u001b[0m\u001b[1;33m(\u001b[0m\u001b[0mCD\u001b[0m\u001b[1;33m)\u001b[0m\u001b[1;33m\u001b[0m\u001b[0m\n\u001b[0m\u001b[0;32m      2\u001b[0m \u001b[1;31m# CD.Sweep_Rep_List(carbons = ['3','6'],older_than = '20151102_080000', save=True)\u001b[0m\u001b[1;33m\u001b[0m\u001b[1;33m\u001b[0m\u001b[0m\n\u001b[0;32m      3\u001b[0m \u001b[0molder_than\u001b[0m \u001b[1;33m=\u001b[0m \u001b[1;34m'20151102_080000'\u001b[0m\u001b[1;33m\u001b[0m\u001b[0m\n\u001b[0;32m      4\u001b[0m \u001b[0mlogicstate_list\u001b[0m \u001b[1;33m=\u001b[0m \u001b[1;33m[\u001b[0m\u001b[1;34m'X'\u001b[0m\u001b[1;33m]\u001b[0m\u001b[1;33m*\u001b[0m\u001b[1;36m5\u001b[0m \u001b[1;31m# length should be equally long to the carbon list\u001b[0m\u001b[1;33m\u001b[0m\u001b[0m\n\u001b[0;32m      5\u001b[0m CD.decay_vs_rep_paper_plot(DPS=False, carbons = ['6','1','5','2','3'], logicstate_list = logicstate_list,\n",
      "\u001b[1;31mNameError\u001b[0m: name 'CD' is not defined"
     ]
    }
   ],
   "source": [
    "reload(CD) \n",
    "# CD.Sweep_Rep_List(carbons = ['3','6'],older_than = '20151102_080000', save=True) \n",
    "older_than = '20151102_080000'\n",
    "logicstate_list = ['X']*5 # length should be equally long to the carbon list\n",
    "CD.decay_vs_rep_paper_plot(DPS=False, carbons = ['6','1','5','2','3'], logicstate_list = logicstate_list,\n",
    "            fit_results = True,do_T2correct=False, older_than = older_than, \n",
    "            x_max = 800, tick_spacing=200, colors = ['k','b','c','g','y'],  plotclassical = False, fig_name='Fig3_XDecay', plotlabel ='(b)')\n",
    "logicstate_list = ['X','X','X','mX'] # length should be equally long to the carbon list\n",
    "CD.decay_vs_rep_paper_plot(DPS=True,carbons = ['5','2','25','25'], logicstate_list = logicstate_list,\n",
    "            fit_results = True,do_T2correct=False, older_than = older_than, plotclassical = False,\n",
    "            x_max=2300, tick_spacing=500, colors = ['c','g','m','r'], fig_name='Fig4a_DFS', plotlabel ='(a)')"
   ]
  },
  {
   "cell_type": "code",
   "execution_count": 13,
   "metadata": {
    "collapsed": false
   },
   "outputs": [
    {
     "ename": "NameError",
     "evalue": "name 'CD' is not defined",
     "output_type": "error",
     "traceback": [
      "\u001b[1;31m---------------------------------------------------------------------------\u001b[0m",
      "\u001b[1;31mNameError\u001b[0m                                 Traceback (most recent call last)",
      "\u001b[1;32m<ipython-input-13-41e620dad61e>\u001b[0m in \u001b[0;36m<module>\u001b[1;34m()\u001b[0m\n\u001b[1;32m----> 1\u001b[1;33m \u001b[0mreload\u001b[0m\u001b[1;33m(\u001b[0m\u001b[0mCD\u001b[0m\u001b[1;33m)\u001b[0m\u001b[1;33m\u001b[0m\u001b[0m\n\u001b[0m\u001b[0;32m      2\u001b[0m \u001b[1;31m# CD.Osci_period(carbon = '5',older_than = None,freq=0,fixed = [0,1,3])\u001b[0m\u001b[1;33m\u001b[0m\u001b[1;33m\u001b[0m\u001b[0m\n\u001b[0;32m      3\u001b[0m \u001b[1;31m# CD.Osci_period(carbon = '2',older_than = None)\u001b[0m\u001b[1;33m\u001b[0m\u001b[1;33m\u001b[0m\u001b[0m\n\u001b[0;32m      4\u001b[0m \u001b[0mCD\u001b[0m\u001b[1;33m.\u001b[0m\u001b[0mOsci_period\u001b[0m\u001b[1;33m(\u001b[0m\u001b[0mcarbon\u001b[0m \u001b[1;33m=\u001b[0m \u001b[1;34m'2'\u001b[0m\u001b[1;33m,\u001b[0m\u001b[0molder_than\u001b[0m \u001b[1;33m=\u001b[0m \u001b[0mNone\u001b[0m\u001b[1;33m,\u001b[0m\u001b[0mfit_results\u001b[0m \u001b[1;33m=\u001b[0m \u001b[0mTrue\u001b[0m\u001b[1;33m)\u001b[0m\u001b[1;33m\u001b[0m\u001b[0m\n",
      "\u001b[1;31mNameError\u001b[0m: name 'CD' is not defined"
     ]
    }
   ],
   "source": [
    "reload(CD)\n",
    "# CD.Osci_period(carbon = '5',older_than = None,freq=0,fixed = [0,1,3])\n",
    "# CD.Osci_period(carbon = '2',older_than = None)\n",
    "CD.Osci_period(carbon = '2',older_than = None,fit_results = True)"
   ]
  },
  {
   "cell_type": "markdown",
   "metadata": {},
   "source": [
    "# Coupling strength vs repetition decay"
   ]
  },
  {
   "cell_type": "code",
   "execution_count": 14,
   "metadata": {
    "collapsed": false,
    "scrolled": false
   },
   "outputs": [
    {
     "ename": "NameError",
     "evalue": "name 'CD' is not defined",
     "output_type": "error",
     "traceback": [
      "\u001b[1;31m---------------------------------------------------------------------------\u001b[0m",
      "\u001b[1;31mNameError\u001b[0m                                 Traceback (most recent call last)",
      "\u001b[1;32m<ipython-input-14-083149938b45>\u001b[0m in \u001b[0;36m<module>\u001b[1;34m()\u001b[0m\n\u001b[1;32m----> 1\u001b[1;33m \u001b[0mreload\u001b[0m\u001b[1;33m(\u001b[0m\u001b[0mCD\u001b[0m\u001b[1;33m)\u001b[0m\u001b[1;33m\u001b[0m\u001b[0m\n\u001b[0m\u001b[0;32m      2\u001b[0m \u001b[1;33m\u001b[0m\u001b[0m\n\u001b[0;32m      3\u001b[0m \u001b[0mupdate_data\u001b[0m \u001b[1;33m=\u001b[0m \u001b[0mTrue\u001b[0m\u001b[1;33m\u001b[0m\u001b[0m\n\u001b[0;32m      4\u001b[0m \u001b[1;32mtry\u001b[0m\u001b[1;33m:\u001b[0m  \u001b[1;31m#does last data exist?\u001b[0m\u001b[1;33m\u001b[0m\u001b[0m\n\u001b[0;32m      5\u001b[0m     \u001b[0mdummy\u001b[0m \u001b[1;33m=\u001b[0m \u001b[0mlastdata\u001b[0m\u001b[1;33m\u001b[0m\u001b[0m\n",
      "\u001b[1;31mNameError\u001b[0m: name 'CD' is not defined"
     ]
    }
   ],
   "source": [
    "reload(CD)\n",
    "\n",
    "update_data = True\n",
    "try:  #does last data exist?\n",
    "    dummy = lastdata\n",
    "except:\n",
    "    print 'No last data'\n",
    "    update_data = True\n",
    "    lastdata=None\n",
    "\n",
    "do_T2correct = True\n",
    "LogPlot = True\n",
    "\n",
    "c_idents = ['1','2','3','5','6','12','13','15','16','23','25','26','35','36','56']\n",
    "#c_idents = ['1','15']\n",
    "\n",
    "older_than_list=['20151105_050000', '20151102_080000','20151026_020000','20151024_131500','20151025_030000']\n",
    "labels = [r'2000 nW $E_{1,2}$', r'2000 nW $A_{1,2}$',r'190 nW $A_{1,2}$',r'100 nW $A_{1,2}$',r'50 nW $A_{1,2}$']\n",
    "styles = ['yo', 'go', 'co', 'bo',  'ko']\n",
    "fit_colors = ['y','g','c', 'b' ,'k']   # no color assigned means no fit is done.\n",
    "\n",
    "lastdata = CD.coupling_vs_rep_paper_plot(c_idents=c_idents, older_than_list=older_than_list, \n",
    "                labels = labels, styles=styles, fit_colors=fit_colors, LogPlot=LogPlot, \n",
    "                fixed = [[0],[0],[0],[0],[0]], is_X_measurement = True, do_Z=False,\n",
    "                update_data=update_data, lastdata = lastdata, do_T2correct=do_T2correct, \n",
    "                fit_guess = [(1,0.00044,20),(1,0.00044,20),(1,0.0006,20),(1,0.00075,20),(1,0.001,20)], fit_guess_art = (1, 0.00044,0))"
   ]
  },
  {
   "cell_type": "code",
   "execution_count": 15,
   "metadata": {
    "collapsed": false
   },
   "outputs": [
    {
     "ename": "NameError",
     "evalue": "name 'CD' is not defined",
     "output_type": "error",
     "traceback": [
      "\u001b[1;31m---------------------------------------------------------------------------\u001b[0m",
      "\u001b[1;31mNameError\u001b[0m                                 Traceback (most recent call last)",
      "\u001b[1;32m<ipython-input-15-ec29f03dc482>\u001b[0m in \u001b[0;36m<module>\u001b[1;34m()\u001b[0m\n\u001b[1;32m----> 1\u001b[1;33m \u001b[0mreload\u001b[0m\u001b[1;33m(\u001b[0m\u001b[0mCD\u001b[0m\u001b[1;33m)\u001b[0m\u001b[1;33m\u001b[0m\u001b[0m\n\u001b[0m\u001b[0;32m      2\u001b[0m \u001b[1;33m\u001b[0m\u001b[0m\n\u001b[0;32m      3\u001b[0m \u001b[0mupdate_data\u001b[0m \u001b[1;33m=\u001b[0m \u001b[0mTrue\u001b[0m\u001b[1;33m\u001b[0m\u001b[0m\n\u001b[0;32m      4\u001b[0m \u001b[1;32mtry\u001b[0m\u001b[1;33m:\u001b[0m  \u001b[1;31m#does last data exist?\u001b[0m\u001b[1;33m\u001b[0m\u001b[0m\n\u001b[0;32m      5\u001b[0m     \u001b[0mdummy\u001b[0m \u001b[1;33m=\u001b[0m \u001b[0mlastdata\u001b[0m\u001b[1;33m\u001b[0m\u001b[0m\n",
      "\u001b[1;31mNameError\u001b[0m: name 'CD' is not defined"
     ]
    }
   ],
   "source": [
    "reload(CD)\n",
    "\n",
    "update_data = True\n",
    "try:  #does last data exist?\n",
    "    dummy = lastdata\n",
    "except:\n",
    "    print 'No last data'\n",
    "    update_data = True\n",
    "    lastdata=None\n",
    "\n",
    "do_T2correct_list = [False,True]\n",
    "do_T2correct = False\n",
    "LogPlot = True\n",
    "\n",
    "c_idents = ['1','2','3','5','6','12','13','15','16','23','25','26','35','36','56']\n",
    "#c_idents = ['1','2','3','5','6']\n",
    "#c_idents = ['12','13','15','16','23','25','26','35','36','56']\n",
    "#c_idents = ['1','12','25']\n",
    "\n",
    "older_than_list=['20151102_080000', '20151102_080000']\n",
    "#older_than_Z='20151027_050000'\n",
    "older_than_Z='20151102_211941'\n",
    "labels = ['uncorrected X decay', 'corrected X decay']\n",
    "styles = ['k.', 'g.']\n",
    "fit_colors = ['k','g']   # no color assigned means no fit is done.\n",
    "\n",
    "lastdata = CD.coupling_vs_rep_paper_plot(c_idents=c_idents, older_than_list=older_than_list,older_than_Z=older_than_Z,\n",
    "                labels = labels, styles=styles, fit_colors=fit_colors, LogPlot=LogPlot, \n",
    "                fixed = [[0],[0],[0],[0],[0]], return_vals=True, do_Z=True,\n",
    "                update_data=update_data, lastdata = lastdata, do_T2correct=do_T2correct, do_T2correct_list =do_T2correct_list,\n",
    "                fit_guess = [(1,0.00044,0), (1,0.00044,0), (1,0.00044,0)], fit_guess_art = [], legend_pos=3)"
   ]
  },
  {
   "cell_type": "code",
   "execution_count": 16,
   "metadata": {
    "collapsed": false
   },
   "outputs": [
    {
     "ename": "NameError",
     "evalue": "name 'plt' is not defined",
     "output_type": "error",
     "traceback": [
      "\u001b[1;31m---------------------------------------------------------------------------\u001b[0m",
      "\u001b[1;31mNameError\u001b[0m                                 Traceback (most recent call last)",
      "\u001b[1;32m<ipython-input-16-0109d6d804dd>\u001b[0m in \u001b[0;36m<module>\u001b[1;34m()\u001b[0m\n\u001b[0;32m      2\u001b[0m \u001b[0mLongRP\u001b[0m\u001b[1;33m=\u001b[0m\u001b[1;33m[\u001b[0m\u001b[1;36m275\u001b[0m\u001b[1;33m,\u001b[0m\u001b[1;36m540\u001b[0m\u001b[1;33m,\u001b[0m\u001b[1;36m675\u001b[0m\u001b[1;33m,\u001b[0m\u001b[1;36m971\u001b[0m\u001b[1;33m]\u001b[0m\u001b[1;33m\u001b[0m\u001b[0m\n\u001b[0;32m      3\u001b[0m \u001b[0mFitted_times\u001b[0m\u001b[1;33m=\u001b[0m\u001b[1;33m[\u001b[0m\u001b[1;36m400\u001b[0m\u001b[1;33m,\u001b[0m\u001b[1;36m550\u001b[0m\u001b[1;33m,\u001b[0m\u001b[1;36m670\u001b[0m\u001b[1;33m,\u001b[0m\u001b[1;36m730\u001b[0m\u001b[1;33m]\u001b[0m\u001b[1;33m\u001b[0m\u001b[0m\n\u001b[1;32m----> 4\u001b[1;33m \u001b[0mplt\u001b[0m\u001b[1;33m.\u001b[0m\u001b[0merrorbar\u001b[0m\u001b[1;33m(\u001b[0m\u001b[0mLongRP\u001b[0m\u001b[1;33m,\u001b[0m\u001b[0mShortRP\u001b[0m\u001b[1;33m,\u001b[0m\u001b[0mNone\u001b[0m\u001b[1;33m,\u001b[0m\u001b[0mfmt\u001b[0m \u001b[1;33m=\u001b[0m \u001b[1;34m'ro'\u001b[0m\u001b[1;33m)\u001b[0m\u001b[1;33m\u001b[0m\u001b[0m\n\u001b[0m\u001b[0;32m      5\u001b[0m \u001b[0mplt\u001b[0m\u001b[1;33m.\u001b[0m\u001b[0mylabel\u001b[0m\u001b[1;33m(\u001b[0m\u001b[1;34m'Short repump time'\u001b[0m\u001b[1;33m)\u001b[0m\u001b[1;33m\u001b[0m\u001b[0m\n\u001b[0;32m      6\u001b[0m \u001b[0mplt\u001b[0m\u001b[1;33m.\u001b[0m\u001b[0mxlabel\u001b[0m\u001b[1;33m(\u001b[0m\u001b[1;34m'Long repump time'\u001b[0m\u001b[1;33m)\u001b[0m\u001b[1;33m\u001b[0m\u001b[0m\n",
      "\u001b[1;31mNameError\u001b[0m: name 'plt' is not defined"
     ]
    }
   ],
   "source": [
    "ShortRP=[21,32,47,114]\n",
    "LongRP=[275,540,675,971]\n",
    "Fitted_times=[400,550,670,730]\n",
    "plt.errorbar(LongRP,ShortRP,None,fmt = 'ro')\n",
    "plt.ylabel('Short repump time')\n",
    "plt.xlabel('Long repump time')\n",
    "plt.ylim(0,150)\n",
    "plt.xlim(0,1000)\n"
   ]
  },
  {
   "cell_type": "code",
   "execution_count": 17,
   "metadata": {
    "collapsed": false
   },
   "outputs": [
    {
     "ename": "NameError",
     "evalue": "name 'plt' is not defined",
     "output_type": "error",
     "traceback": [
      "\u001b[1;31m---------------------------------------------------------------------------\u001b[0m",
      "\u001b[1;31mNameError\u001b[0m                                 Traceback (most recent call last)",
      "\u001b[1;32m<ipython-input-17-a60093785ac1>\u001b[0m in \u001b[0;36m<module>\u001b[1;34m()\u001b[0m\n\u001b[1;32m----> 1\u001b[1;33m \u001b[0mplt\u001b[0m\u001b[1;33m.\u001b[0m\u001b[0merrorbar\u001b[0m\u001b[1;33m(\u001b[0m\u001b[0mFitted_times\u001b[0m\u001b[1;33m,\u001b[0m \u001b[0mLongRP\u001b[0m\u001b[1;33m,\u001b[0m \u001b[0mNone\u001b[0m\u001b[1;33m,\u001b[0m\u001b[0mfmt\u001b[0m \u001b[1;33m=\u001b[0m \u001b[1;34m'bo'\u001b[0m\u001b[1;33m,\u001b[0m \u001b[0mlabel\u001b[0m \u001b[1;33m=\u001b[0m \u001b[1;34m'long'\u001b[0m\u001b[1;33m)\u001b[0m\u001b[1;33m\u001b[0m\u001b[0m\n\u001b[0m\u001b[0;32m      2\u001b[0m \u001b[0mplt\u001b[0m\u001b[1;33m.\u001b[0m\u001b[0merrorbar\u001b[0m\u001b[1;33m(\u001b[0m\u001b[0mFitted_times\u001b[0m\u001b[1;33m,\u001b[0m \u001b[0mnp\u001b[0m\u001b[1;33m.\u001b[0m\u001b[0marray\u001b[0m\u001b[1;33m(\u001b[0m\u001b[1;36m4\u001b[0m\u001b[1;33m*\u001b[0m\u001b[0mnp\u001b[0m\u001b[1;33m.\u001b[0m\u001b[0mpi\u001b[0m\u001b[1;33m)\u001b[0m\u001b[1;33m*\u001b[0m\u001b[0mShortRP\u001b[0m\u001b[1;33m,\u001b[0m \u001b[0mNone\u001b[0m\u001b[1;33m,\u001b[0m\u001b[0mfmt\u001b[0m \u001b[1;33m=\u001b[0m \u001b[1;34m'ro'\u001b[0m\u001b[1;33m,\u001b[0m\u001b[0mlabel\u001b[0m\u001b[1;33m=\u001b[0m\u001b[1;34m'4pi * short'\u001b[0m\u001b[1;33m)\u001b[0m\u001b[1;33m\u001b[0m\u001b[0m\n\u001b[0;32m      3\u001b[0m \u001b[0mplt\u001b[0m\u001b[1;33m.\u001b[0m\u001b[0merrorbar\u001b[0m\u001b[1;33m(\u001b[0m\u001b[0mnp\u001b[0m\u001b[1;33m.\u001b[0m\u001b[0marange\u001b[0m\u001b[1;33m(\u001b[0m\u001b[1;36m0\u001b[0m\u001b[1;33m,\u001b[0m\u001b[1;36m1500\u001b[0m\u001b[1;33m,\u001b[0m\u001b[1;36m10\u001b[0m\u001b[1;33m)\u001b[0m\u001b[1;33m,\u001b[0m\u001b[0mnp\u001b[0m\u001b[1;33m.\u001b[0m\u001b[0marange\u001b[0m\u001b[1;33m(\u001b[0m\u001b[1;36m0\u001b[0m\u001b[1;33m,\u001b[0m\u001b[1;36m1500\u001b[0m\u001b[1;33m,\u001b[0m\u001b[1;36m10\u001b[0m\u001b[1;33m)\u001b[0m\u001b[1;33m,\u001b[0m \u001b[0mNone\u001b[0m\u001b[1;33m,\u001b[0m\u001b[0mfmt\u001b[0m \u001b[1;33m=\u001b[0m \u001b[1;34m'y'\u001b[0m\u001b[1;33m,\u001b[0m\u001b[0mlabel\u001b[0m\u001b[1;33m=\u001b[0m\u001b[1;34m'y=x'\u001b[0m\u001b[1;33m)\u001b[0m\u001b[1;33m\u001b[0m\u001b[0m\n\u001b[0;32m      4\u001b[0m \u001b[0mplt\u001b[0m\u001b[1;33m.\u001b[0m\u001b[0mlegend\u001b[0m\u001b[1;33m(\u001b[0m\u001b[0mloc\u001b[0m\u001b[1;33m=\u001b[0m\u001b[1;36m2\u001b[0m\u001b[1;33m)\u001b[0m\u001b[1;33m\u001b[0m\u001b[0m\n\u001b[0;32m      5\u001b[0m \u001b[0mplt\u001b[0m\u001b[1;33m.\u001b[0m\u001b[0mylabel\u001b[0m\u001b[1;33m(\u001b[0m\u001b[1;34m'Measured repump time'\u001b[0m\u001b[1;33m)\u001b[0m\u001b[1;33m\u001b[0m\u001b[0m\n",
      "\u001b[1;31mNameError\u001b[0m: name 'plt' is not defined"
     ]
    }
   ],
   "source": [
    "plt.errorbar(Fitted_times, LongRP, None,fmt = 'bo', label = 'long')\n",
    "plt.errorbar(Fitted_times, np.array(4*np.pi)*ShortRP, None,fmt = 'ro',label='4pi * short')\n",
    "plt.errorbar(np.arange(0,1500,10),np.arange(0,1500,10), None,fmt = 'y',label='y=x')\n",
    "plt.legend(loc=2)\n",
    "plt.ylabel('Measured repump time')\n",
    "plt.xlabel('Fitted repump time')\n",
    "plt.xlim(0,1500)\n",
    "plt.ylim(0,1500)\n",
    "print np.array(np.pi)*Fitted_times"
   ]
  },
  {
   "cell_type": "markdown",
   "metadata": {},
   "source": [
    "## Initialization values for various carbons (execute script 3Qubit_inits)"
   ]
  },
  {
   "cell_type": "code",
   "execution_count": 18,
   "metadata": {
    "collapsed": false
   },
   "outputs": [
    {
     "ename": "ImportError",
     "evalue": "No module named analysis.scripts.QEC",
     "output_type": "error",
     "traceback": [
      "\u001b[1;31m---------------------------------------------------------------------------\u001b[0m",
      "\u001b[1;31mImportError\u001b[0m                               Traceback (most recent call last)",
      "\u001b[1;32m<ipython-input-18-50727f780870>\u001b[0m in \u001b[0;36m<module>\u001b[1;34m()\u001b[0m\n\u001b[1;32m----> 1\u001b[1;33m \u001b[1;32mfrom\u001b[0m \u001b[0manalysis\u001b[0m\u001b[1;33m.\u001b[0m\u001b[0mscripts\u001b[0m\u001b[1;33m.\u001b[0m\u001b[0mQEC\u001b[0m \u001b[1;32mimport\u001b[0m \u001b[0mTwo_Qubit_Tomography\u001b[0m \u001b[1;32mas\u001b[0m \u001b[0mTomo2\u001b[0m\u001b[1;33m\u001b[0m\u001b[0m\n\u001b[0m\u001b[0;32m      2\u001b[0m \u001b[0mreload\u001b[0m\u001b[1;33m(\u001b[0m\u001b[0mTomo2\u001b[0m\u001b[1;33m)\u001b[0m\u001b[1;33m\u001b[0m\u001b[0m\n\u001b[0;32m      3\u001b[0m \u001b[0mcarbon_combinations\u001b[0m \u001b[1;33m=\u001b[0m \u001b[1;33m[\u001b[0m\u001b[1;33m[\u001b[0m\u001b[1;36m1\u001b[0m\u001b[1;33m,\u001b[0m\u001b[1;36m2\u001b[0m\u001b[1;33m,\u001b[0m\u001b[1;36m3\u001b[0m\u001b[1;33m]\u001b[0m\u001b[1;33m,\u001b[0m\u001b[1;33m[\u001b[0m\u001b[1;36m1\u001b[0m\u001b[1;33m,\u001b[0m\u001b[1;36m2\u001b[0m\u001b[1;33m,\u001b[0m\u001b[1;36m5\u001b[0m\u001b[1;33m]\u001b[0m\u001b[1;33m,\u001b[0m\u001b[1;33m[\u001b[0m\u001b[1;36m1\u001b[0m\u001b[1;33m,\u001b[0m\u001b[1;36m2\u001b[0m\u001b[1;33m,\u001b[0m\u001b[1;36m6\u001b[0m\u001b[1;33m]\u001b[0m\u001b[1;33m,\u001b[0m\u001b[1;33m[\u001b[0m\u001b[1;36m1\u001b[0m\u001b[1;33m,\u001b[0m\u001b[1;36m3\u001b[0m\u001b[1;33m,\u001b[0m\u001b[1;36m5\u001b[0m\u001b[1;33m]\u001b[0m\u001b[1;33m,\u001b[0m\u001b[1;33m[\u001b[0m\u001b[1;36m1\u001b[0m\u001b[1;33m,\u001b[0m\u001b[1;36m3\u001b[0m\u001b[1;33m,\u001b[0m\u001b[1;36m6\u001b[0m\u001b[1;33m]\u001b[0m\u001b[1;33m,\u001b[0m\u001b[1;33m[\u001b[0m\u001b[1;36m1\u001b[0m\u001b[1;33m,\u001b[0m\u001b[1;36m5\u001b[0m\u001b[1;33m,\u001b[0m\u001b[1;36m6\u001b[0m\u001b[1;33m]\u001b[0m\u001b[1;33m,\u001b[0m\u001b[1;33m[\u001b[0m\u001b[1;36m2\u001b[0m\u001b[1;33m,\u001b[0m\u001b[1;36m3\u001b[0m\u001b[1;33m,\u001b[0m\u001b[1;36m5\u001b[0m\u001b[1;33m]\u001b[0m\u001b[1;33m,\u001b[0m\u001b[1;33m[\u001b[0m\u001b[1;36m2\u001b[0m\u001b[1;33m,\u001b[0m\u001b[1;36m3\u001b[0m\u001b[1;33m,\u001b[0m\u001b[1;36m6\u001b[0m\u001b[1;33m]\u001b[0m\u001b[1;33m,\u001b[0m\u001b[1;33m[\u001b[0m\u001b[1;36m2\u001b[0m\u001b[1;33m,\u001b[0m\u001b[1;36m5\u001b[0m\u001b[1;33m,\u001b[0m\u001b[1;36m6\u001b[0m\u001b[1;33m]\u001b[0m\u001b[1;33m,\u001b[0m\u001b[1;33m[\u001b[0m\u001b[1;36m3\u001b[0m\u001b[1;33m,\u001b[0m\u001b[1;36m5\u001b[0m\u001b[1;33m,\u001b[0m\u001b[1;36m6\u001b[0m\u001b[1;33m]\u001b[0m\u001b[1;33m]\u001b[0m\u001b[1;33m\u001b[0m\u001b[0m\n\u001b[0;32m      4\u001b[0m \u001b[1;31m# carbon_combinations = [[1,2,5]]\u001b[0m\u001b[1;33m\u001b[0m\u001b[1;33m\u001b[0m\u001b[0m\n\u001b[0;32m      5\u001b[0m \u001b[1;32mfor\u001b[0m \u001b[0mkk\u001b[0m \u001b[1;32min\u001b[0m \u001b[0mcarbon_combinations\u001b[0m\u001b[1;33m:\u001b[0m\u001b[1;33m\u001b[0m\u001b[0m\n",
      "\u001b[1;31mImportError\u001b[0m: No module named analysis.scripts.QEC"
     ]
    }
   ],
   "source": [
    "from analysis.scripts.QEC import Two_Qubit_Tomography as Tomo2\n",
    "reload(Tomo2)\n",
    "carbon_combinations = [[1,2,3],[1,2,5],[1,2,6],[1,3,5],[1,3,6],[1,5,6],[2,3,5],[2,3,6],[2,5,6],[3,5,6]]\n",
    "# carbon_combinations = [[1,2,5]]\n",
    "for kk in carbon_combinations:\n",
    "    x_label,x,res,res_err = Tomo2.BarPlotTomoContrast(tag = '_'+str(kk[0])+str(kk[1])+str(kk[2])+'_init',\n",
    "                                                      plot_fit = False, \n",
    "                                                      return_data = True,\n",
    "                                                      save = False)\n",
    "    print 'Carbons {} {} {}: {} {:.2} +- {:.2} and {} {:.2} +- {:.2}'.format(kk[0],kk[1],kk[2],x_label[0],res[0],res_err[0],x_label[1],res[1],res_err[1])"
   ]
  },
  {
   "cell_type": "markdown",
   "metadata": {},
   "source": [
    "# Decay with repump power/time"
   ]
  },
  {
   "cell_type": "code",
   "execution_count": 19,
   "metadata": {
    "collapsed": false
   },
   "outputs": [
    {
     "ename": "NameError",
     "evalue": "name 'CD' is not defined",
     "output_type": "error",
     "traceback": [
      "\u001b[1;31m---------------------------------------------------------------------------\u001b[0m",
      "\u001b[1;31mNameError\u001b[0m                                 Traceback (most recent call last)",
      "\u001b[1;32m<ipython-input-19-3423a5574003>\u001b[0m in \u001b[0;36m<module>\u001b[1;34m()\u001b[0m\n\u001b[1;32m----> 1\u001b[1;33m \u001b[0mreload\u001b[0m\u001b[1;33m(\u001b[0m\u001b[0mCD\u001b[0m\u001b[1;33m)\u001b[0m\u001b[1;33m\u001b[0m\u001b[0m\n\u001b[0m\u001b[0;32m      2\u001b[0m \u001b[0mreload\u001b[0m\u001b[1;33m(\u001b[0m\u001b[0mfitlib\u001b[0m\u001b[1;33m)\u001b[0m\u001b[1;33m\u001b[0m\u001b[0m\n\u001b[0;32m      3\u001b[0m \u001b[1;33m\u001b[0m\u001b[0m\n\u001b[0;32m      4\u001b[0m \u001b[0mfig\u001b[0m \u001b[1;33m=\u001b[0m \u001b[0mplt\u001b[0m\u001b[1;33m.\u001b[0m\u001b[0mfigure\u001b[0m\u001b[1;33m(\u001b[0m\u001b[1;33m)\u001b[0m\u001b[1;33m\u001b[0m\u001b[0m\n\u001b[0;32m      5\u001b[0m \u001b[0max\u001b[0m \u001b[1;33m=\u001b[0m \u001b[0mplt\u001b[0m\u001b[1;33m.\u001b[0m\u001b[0msubplot\u001b[0m\u001b[1;33m(\u001b[0m\u001b[1;33m)\u001b[0m\u001b[1;33m\u001b[0m\u001b[0m\n",
      "\u001b[1;31mNameError\u001b[0m: name 'CD' is not defined"
     ]
    }
   ],
   "source": [
    "reload(CD)\n",
    "reload(fitlib)\n",
    "\n",
    "fig = plt.figure()\n",
    "ax = plt.subplot()\n",
    "plt.xlabel('Pump power (uW))')\n",
    "plt.ylabel('Fitted decay constant')\n",
    "#plt.ylim([0,4])\n",
    "\n",
    "update_data=True\n",
    "if update_data:\n",
    "    older_than ='20150903_232308'\n",
    "    powers=np.array([3.5e-6, 2.7e-6, 2e-6, 1.5e-6, 1e-6, 5e-7, 2e-7, 1e-7, 6e-8, 4e-8, 3e-8])\n",
    "    x1,y1,y_u1, folder = CD.repump_power_vs_repetitions(c_identifier='1', repump_powers = powers, do_T2correct=True, older_than = '20150904_121025')\n",
    "    x2,y2,y_u2, folder2 = CD.repump_power_vs_repetitions(c_identifier='2', repump_powers = powers, do_T2correct=True, older_than = '20150903_232308')\n",
    "\n",
    "plt.errorbar(powers*1e6,y1,y_u1,fmt = 'o',color = 'b', label = 'C1')\n",
    "plt.errorbar(powers*1e6,y2,y_u2,fmt = 'o',color = 'g', label = 'C2')\n",
    "\n",
    "if older_than != None:\n",
    "    plt.title('older_than ' + older_than)\n",
    "else:\n",
    "    plt.title(CD.get_tstamp_from_folder(folder))\n",
    "plt.legend()#bbox_to_anchor=(1.05, 1), loc=2, borderaxespad=0.)\n",
    "plt.savefig(os.path.join(folder,'power_vs_repetitions.pdf'),format='pdf')\n",
    "plt.savefig(os.path.join(folder,'power_vs_repeititons.png'),format='png')\n",
    "plt.show()\n",
    "plt.close('all')\n",
    "    \n",
    "######################### GET SHORT AND FAST PUMPING TIMESCALES AND PLOT DATA AS A FUNCTION OF THOSE\n",
    "\n",
    "if update_data:\n",
    "    tau, tau_err = CD.repump_speed_doubleExp(older_than='20150904_125052', exclude_first_n_points = 10, \n",
    "            offset = 1, amplitude_one = -0.7, amplitude_two = -0, x0 = 0, decay_constant_one = 0.06, \n",
    "            decay_constant_two = 1.06, fixed = [3,4], show_guess = True, do_print = False, \n",
    "            powers=[3500e-9, 2700e-9, 2000e-9, 1500e-9, 1000e-9, 500e-9, 200e-9, 100e-9, 60e-9, 40e-9, 30e-9], \n",
    "            plot_fit = False, plot_results = False)\n",
    "    #tau = tau+np.array(0.45)\n",
    "\n",
    "# tau2, tau_err2 = CD.repump_speed_doubleExp(timestamp='20150903_232308',#'20150903_125250',\n",
    "#         exclude_first_n_points = 10, offset = 1, amplitude_one = -0.7,\n",
    "#         amplitude_two = -0, x0 = 0, decay_constant_one = 0.06, \n",
    "#         decay_constant_two = 1.06, fixed = [3,4], show_guess = False, do_print = False, \n",
    "#         powers=[3500e-9, 2700e-9, 2000e-9, 1500e-9, 1000e-9, 500e-9, 200e-9, 100e-9, 60e-9, 40e-9, 30e-9], \n",
    "#         plot_fit = False, plot_results = True)\n",
    "\n",
    "fig = plt.figure()\n",
    "ax = plt.subplot()\n",
    "\n",
    "plt.xlabel('Repump time constant (us)')\n",
    "plt.ylabel('Fitted decay constant')\n",
    "if False: #Log-Plot\n",
    "    plt.ylim(10,500)\n",
    "    ax.set_yscale(\"log\", nonposy='clip')\n",
    "else:\n",
    "    plt.ylim(0,500)\n",
    "plt.errorbar(tau, y1, yerr = y_u1,xerr = tau_err,fmt = 'o',color = 'b', label = 'C1')\n",
    "plt.errorbar(tau, y2, yerr = y_u2,xerr = tau_err,fmt = 'o',color = 'g', label = 'C2')\n",
    "\n",
    "\n",
    "p0,fitfunc,fitfunc_str =fitlib.fit_dephasing_constant_offset(1., 55.*(10**(-3)), 0.)\n",
    "#p0,fitfunc,fitfunc_str =fitlib.fit_hyperbola(1., 55.*(10**(-3)), 0.07)\n",
    "#p0,fitfunc,fitfunc_str =fitlib.fit_exp_decay_shifted_with_offset(0,200,0.2,0) # g_a : offset g_A : initial Amplitude g_tau : decay constant g_x0 : x offset\n",
    "\n",
    "if True: #show guess\n",
    "    ax.plot(np.linspace(0.05,1.1*np.max(tau),201), fitfunc(np.linspace(0.05,1.2,201)), ':', lw=2, color = 'r')\n",
    "\n",
    "fit_result = fit.fit1d(np.array(tau), np.array(y1), None, p0 = p0, fitfunc = fitfunc, do_print = True, ret = True, fixed = [0])\n",
    "plot.plot_fit1d(fit_result, np.linspace(0.05,1.1*np.max(tau),1001), ax=ax, plot_data=False, add_txt=False, lw=2, color = 'b')\n",
    "\n",
    "p0,fitfunc,fitfunc_str =fitlib.fit_dephasing_constant_offset(1., 20.*(10**(-3)), 0.07)\n",
    "fit_result2 = fit.fit1d(np.array(tau),np.array(y2) ,None, p0 = p0, fitfunc = fitfunc, do_print = False, ret = True,fixed = [0])\n",
    "print fit_result['params_dict']\n",
    "print fit_result2['params_dict']\n",
    "plot.plot_fit1d(fit_result2, np.linspace(0.05,1.1 *np.max(tau),1001), ax=ax, plot_data=False, add_txt=False, lw=2, color = 'g')\n",
    "if True:\n",
    "    print 'saving to: ', folder\n",
    "    plt.savefig(os.path.join(folder,'repumptimescale_vs_repetitions.pdf'),format='pdf')\n",
    "    plt.savefig(os.path.join(folder,'repumptimescale_vs_repetitions.png'),format='png')\n",
    "plt.show()\n",
    "plt.close('all')\n"
   ]
  },
  {
   "cell_type": "markdown",
   "metadata": {},
   "source": [
    "##### Compareregular Pi and BB1 pulses"
   ]
  },
  {
   "cell_type": "code",
   "execution_count": null,
   "metadata": {
    "collapsed": false
   },
   "outputs": [],
   "source": [
    "execfile(r'D:\\measuring\\analysis\\scripts\\Quantum_Memory\\LT2_compare_pi_bb1.py')"
   ]
  },
  {
   "cell_type": "raw",
   "metadata": {},
   "source": []
  },
  {
   "cell_type": "markdown",
   "metadata": {},
   "source": [
    "##### First plot of reps vs repump time"
   ]
  },
  {
   "cell_type": "code",
   "execution_count": 20,
   "metadata": {
    "collapsed": false
   },
   "outputs": [
    {
     "ename": "NameError",
     "evalue": "name 'np' is not defined",
     "output_type": "error",
     "traceback": [
      "\u001b[1;31m---------------------------------------------------------------------------\u001b[0m",
      "\u001b[1;31mNameError\u001b[0m                                 Traceback (most recent call last)",
      "\u001b[1;32m<ipython-input-20-cebdaa92d3b9>\u001b[0m in \u001b[0;36m<module>\u001b[1;34m()\u001b[0m\n\u001b[0;32m      1\u001b[0m \u001b[0mRepumpPower_uW\u001b[0m\u001b[1;33m=\u001b[0m\u001b[1;33m[\u001b[0m\u001b[1;36m1.8\u001b[0m\u001b[1;33m,\u001b[0m \u001b[1;36m0.5\u001b[0m\u001b[1;33m,\u001b[0m \u001b[1;36m0.1\u001b[0m\u001b[1;33m,\u001b[0m \u001b[1;36m0.03\u001b[0m\u001b[1;33m,\u001b[0m \u001b[1;36m0.06\u001b[0m\u001b[1;33m,\u001b[0m \u001b[1;36m0.04\u001b[0m\u001b[1;33m,\u001b[0m \u001b[1;36m1.\u001b[0m\u001b[1;33m,\u001b[0m \u001b[1;36m0.2\u001b[0m\u001b[1;33m,\u001b[0m \u001b[1;36m0.46\u001b[0m\u001b[1;33m,\u001b[0m \u001b[1;36m0.5\u001b[0m\u001b[1;33m]\u001b[0m\u001b[1;33m\u001b[0m\u001b[0m\n\u001b[0;32m      2\u001b[0m \u001b[0mRepumpTimes_fast_ns\u001b[0m\u001b[1;33m=\u001b[0m\u001b[1;33m[\u001b[0m\u001b[1;36m74.5\u001b[0m\u001b[1;33m,\u001b[0m \u001b[1;36m115\u001b[0m\u001b[1;33m,\u001b[0m \u001b[1;36m264\u001b[0m\u001b[1;33m,\u001b[0m \u001b[1;36m707\u001b[0m\u001b[1;33m,\u001b[0m \u001b[1;36m341\u001b[0m\u001b[1;33m,\u001b[0m \u001b[1;36m647\u001b[0m\u001b[1;33m,\u001b[0m \u001b[1;36m97.9\u001b[0m\u001b[1;33m,\u001b[0m \u001b[1;36m162\u001b[0m\u001b[1;33m,\u001b[0m \u001b[1;36m428\u001b[0m\u001b[1;33m,\u001b[0m \u001b[1;36m122\u001b[0m\u001b[1;33m]\u001b[0m\u001b[1;33m\u001b[0m\u001b[0m\n\u001b[1;32m----> 3\u001b[1;33m \u001b[0mRepumpTimes_fast_us\u001b[0m\u001b[1;33m=\u001b[0m\u001b[0mnp\u001b[0m\u001b[1;33m.\u001b[0m\u001b[0marray\u001b[0m\u001b[1;33m(\u001b[0m\u001b[0mRepumpTimes_fast_ns\u001b[0m\u001b[1;33m)\u001b[0m\u001b[1;33m/\u001b[0m\u001b[1;36m1000.\u001b[0m\u001b[1;33m\u001b[0m\u001b[0m\n\u001b[0m\u001b[0;32m      4\u001b[0m \u001b[0mRepumpTimes_fast_Err_ns\u001b[0m\u001b[1;33m=\u001b[0m\u001b[1;33m[\u001b[0m\u001b[1;36m0.5\u001b[0m\u001b[1;33m,\u001b[0m \u001b[1;36m10\u001b[0m\u001b[1;33m,\u001b[0m \u001b[1;36m34\u001b[0m\u001b[1;33m,\u001b[0m \u001b[1;36m86\u001b[0m\u001b[1;33m,\u001b[0m \u001b[1;36m53\u001b[0m\u001b[1;33m,\u001b[0m \u001b[1;36m69\u001b[0m\u001b[1;33m,\u001b[0m \u001b[1;36m0.7\u001b[0m\u001b[1;33m,\u001b[0m \u001b[1;36m14\u001b[0m\u001b[1;33m,\u001b[0m \u001b[1;36m7\u001b[0m\u001b[1;33m,\u001b[0m \u001b[1;36m0.9\u001b[0m\u001b[1;33m]\u001b[0m\u001b[1;33m\u001b[0m\u001b[0m\n\u001b[0;32m      5\u001b[0m \u001b[0mRepumpTimes_fast_Err\u001b[0m\u001b[1;33m=\u001b[0m\u001b[0mnp\u001b[0m\u001b[1;33m.\u001b[0m\u001b[0marray\u001b[0m\u001b[1;33m(\u001b[0m\u001b[0mRepumpTimes_fast_Err_ns\u001b[0m\u001b[1;33m)\u001b[0m\u001b[1;33m/\u001b[0m\u001b[1;36m1000.\u001b[0m\u001b[1;33m\u001b[0m\u001b[0m\n",
      "\u001b[1;31mNameError\u001b[0m: name 'np' is not defined"
     ]
    }
   ],
   "source": [
    "RepumpPower_uW=[1.8, 0.5, 0.1, 0.03, 0.06, 0.04, 1., 0.2, 0.46, 0.5]\n",
    "RepumpTimes_fast_ns=[74.5, 115, 264, 707, 341, 647, 97.9, 162, 428, 122]\n",
    "RepumpTimes_fast_us=np.array(RepumpTimes_fast_ns)/1000.\n",
    "RepumpTimes_fast_Err_ns=[0.5, 10, 34, 86, 53, 69, 0.7, 14, 7, 0.9]\n",
    "RepumpTimes_fast_Err=np.array(RepumpTimes_fast_Err_ns)/1000.\n",
    "RepumpTimes_slow_ns=[926, 850, 1393, 2970, 1382, 3347, 1087, 1035, 1778, 1173]\n",
    "RepumpTimes_slow_Err=[158, 139, 144, 686, 168, 737, 169, 130, 234, 173]\n",
    "NoReps=[220, 138, 112, 72, 86, 86, 198, 158, 79, 184]\n",
    "NoRepsErr=[15, 10, 10, 5, 7, 4, 14, 22, 6, 17]\n",
    "plt.errorbar(RepumpTimes_fast_us, NoReps, xerr=RepumpTimes_fast_Err, yerr=NoRepsErr, fmt = 'o', label = 'fast')\n",
    "#plt.errorbar(RepumpTimes_slow_ns, NoReps, xerr=RepumpTimes_slow_Err, yerr=NoRepsErr, fmt = 'o', label = 'slow')\n",
    "plt.xlabel('Short repump timescale (us)')\n",
    "plt.ylabel('Repetitions (1/e)')\n",
    "plt.ylim(0.500)\n",
    "    \n",
    "g_a, g_A, g_tau = 70, 200, 150\n",
    "#p0, fitfunc, fitfunc_str = fitlib.fit_exp_decay_with_offset(g_a, g_A, g_tau)\n",
    "p0,fitfunc,fitfunc_str =fitlib.fit_dephasing_constant_offset(1., 100.*(10**(-3)), 0.)\n",
    "#plot the initial guess\n",
    "\n",
    "if True: #Show Guess\n",
    "    plt.plot(np.linspace(0.1,1,201), fitfunc(np.linspace(0.1,1.,201)), ':', lw=2)\n",
    "   \n",
    "    \n",
    "fit_result = fit.fit1d(np.array(RepumpTimes_fast_us),np.array( NoReps), None, p0=p0, fitfunc=fitfunc, ret=True, do_print=False,fixed=[0])\n",
    "\n",
    "if True: ## plot data and fit\n",
    "    ax = plt.subplot()\n",
    "    plot.plot_fit1d(fit_result, np.linspace(0.05,1.,1001), ax=ax, plot_data=False)\n"
   ]
  },
  {
   "cell_type": "markdown",
   "metadata": {},
   "source": [
    "#### ZZ decay as a function of perp hyperfine strength"
   ]
  },
  {
   "cell_type": "code",
   "execution_count": 21,
   "metadata": {
    "collapsed": false
   },
   "outputs": [
    {
     "ename": "NameError",
     "evalue": "name 'CD' is not defined",
     "output_type": "error",
     "traceback": [
      "\u001b[1;31m---------------------------------------------------------------------------\u001b[0m",
      "\u001b[1;31mNameError\u001b[0m                                 Traceback (most recent call last)",
      "\u001b[1;32m<ipython-input-21-14a28c6a20b3>\u001b[0m in \u001b[0;36m<module>\u001b[1;34m()\u001b[0m\n\u001b[1;32m----> 1\u001b[1;33m \u001b[0mreload\u001b[0m\u001b[1;33m(\u001b[0m\u001b[0mCD\u001b[0m\u001b[1;33m)\u001b[0m\u001b[1;33m\u001b[0m\u001b[0m\n\u001b[0m\u001b[0;32m      2\u001b[0m \u001b[1;33m\u001b[0m\u001b[0m\n\u001b[0;32m      3\u001b[0m \u001b[1;33m\u001b[0m\u001b[0m\n\u001b[0;32m      4\u001b[0m \u001b[1;31m### get exp decays for all carbon combinations.\u001b[0m\u001b[1;33m\u001b[0m\u001b[1;33m\u001b[0m\u001b[0m\n\u001b[0;32m      5\u001b[0m \u001b[0mcarbons\u001b[0m \u001b[1;33m=\u001b[0m \u001b[1;33m[\u001b[0m\u001b[1;34m'12'\u001b[0m\u001b[1;33m,\u001b[0m\u001b[1;34m'13'\u001b[0m\u001b[1;33m,\u001b[0m\u001b[1;34m'15'\u001b[0m\u001b[1;33m,\u001b[0m\u001b[1;34m'16'\u001b[0m\u001b[1;33m,\u001b[0m\u001b[1;34m'23'\u001b[0m\u001b[1;33m,\u001b[0m\u001b[1;34m'25'\u001b[0m\u001b[1;33m,\u001b[0m\u001b[1;34m'26'\u001b[0m\u001b[1;33m,\u001b[0m\u001b[1;34m'35'\u001b[0m\u001b[1;33m,\u001b[0m\u001b[1;34m'36'\u001b[0m\u001b[1;33m,\u001b[0m\u001b[1;34m'56'\u001b[0m\u001b[1;33m,\u001b[0m\u001b[1;34m'1'\u001b[0m\u001b[1;33m,\u001b[0m\u001b[1;34m'2'\u001b[0m\u001b[1;33m,\u001b[0m\u001b[1;34m'3'\u001b[0m\u001b[1;33m,\u001b[0m\u001b[1;34m'5'\u001b[0m\u001b[1;33m,\u001b[0m\u001b[1;34m'6'\u001b[0m\u001b[1;33m]\u001b[0m\u001b[1;33m\u001b[0m\u001b[0m\n",
      "\u001b[1;31mNameError\u001b[0m: name 'CD' is not defined"
     ]
    }
   ],
   "source": [
    "reload(CD)\n",
    "\n",
    "\n",
    "### get exp decays for all carbon combinations.\n",
    "carbons = ['12','13','15','16','23','25','26','35','36','56','1','2','3','5','6']\n",
    "older_than = '20151026_014111' ### 190 nW\n",
    "CD.Z_decay_vs_perp_coupling(c_idents = carbons, older_than = older_than)\n",
    "\n",
    "carbons = ['1','2','3','5','6']\n",
    "older_than = '20151026_014111' ### 190 nW\n",
    "CD.Z_decay_vs_perp_coupling(c_idents = carbons, older_than = older_than)"
   ]
  },
  {
   "cell_type": "markdown",
   "metadata": {},
   "source": [
    "#### Laser stability"
   ]
  },
  {
   "cell_type": "code",
   "execution_count": 22,
   "metadata": {
    "collapsed": false
   },
   "outputs": [
    {
     "ename": "ImportError",
     "evalue": "No module named analysis.lib.Qmemory",
     "output_type": "error",
     "traceback": [
      "\u001b[1;31m---------------------------------------------------------------------------\u001b[0m",
      "\u001b[1;31mImportError\u001b[0m                               Traceback (most recent call last)",
      "\u001b[1;32m<ipython-input-22-3b0fb32c22d4>\u001b[0m in \u001b[0;36m<module>\u001b[1;34m()\u001b[0m\n\u001b[1;32m----> 1\u001b[1;33m \u001b[1;32mfrom\u001b[0m \u001b[0manalysis\u001b[0m\u001b[1;33m.\u001b[0m\u001b[0mlib\u001b[0m\u001b[1;33m.\u001b[0m\u001b[0mQmemory\u001b[0m \u001b[1;32mimport\u001b[0m \u001b[0mCheckLaserPower\u001b[0m \u001b[1;32mas\u001b[0m \u001b[0mLaser\u001b[0m\u001b[1;33m;\u001b[0m \u001b[0mreload\u001b[0m\u001b[1;33m(\u001b[0m\u001b[0mLaser\u001b[0m\u001b[1;33m)\u001b[0m\u001b[1;33m\u001b[0m\u001b[0m\n\u001b[0m\u001b[0;32m      2\u001b[0m \u001b[1;33m\u001b[0m\u001b[0m\n\u001b[0;32m      3\u001b[0m \u001b[0mLaser\u001b[0m\u001b[1;33m.\u001b[0m\u001b[0mCheckPower\u001b[0m\u001b[1;33m(\u001b[0m\u001b[1;34m'NewfocusAOM'\u001b[0m\u001b[1;33m,\u001b[0m\u001b[1;34m'ADWIN'\u001b[0m\u001b[1;33m,\u001b[0m\u001b[0mnr_of_files\u001b[0m\u001b[1;33m=\u001b[0m\u001b[1;36m10\u001b[0m\u001b[1;33m)\u001b[0m\u001b[1;33m\u001b[0m\u001b[0m\n\u001b[0;32m      4\u001b[0m \u001b[0mLaser\u001b[0m\u001b[1;33m.\u001b[0m\u001b[0mCheckPower\u001b[0m\u001b[1;33m(\u001b[0m\u001b[1;34m'MatisseAOM'\u001b[0m\u001b[1;33m,\u001b[0m\u001b[1;34m'ADWIN'\u001b[0m\u001b[1;33m,\u001b[0m\u001b[0mnr_of_files\u001b[0m\u001b[1;33m=\u001b[0m\u001b[1;36m10\u001b[0m\u001b[1;33m)\u001b[0m\u001b[1;33m\u001b[0m\u001b[0m\n",
      "\u001b[1;31mImportError\u001b[0m: No module named analysis.lib.Qmemory"
     ]
    }
   ],
   "source": [
    "from analysis.lib.Qmemory import CheckLaserPower as Laser; reload(Laser)\n",
    "\n",
    "Laser.CheckPower('NewfocusAOM','ADWIN',nr_of_files=10)\n",
    "Laser.CheckPower('MatisseAOM','ADWIN',nr_of_files=10)"
   ]
  },
  {
   "cell_type": "code",
   "execution_count": null,
   "metadata": {
    "collapsed": false
   },
   "outputs": [],
   "source": []
  }
 ],
 "metadata": {
  "kernelspec": {
   "display_name": "Python 2",
   "language": "python",
   "name": "python2"
  },
  "language_info": {
   "codemirror_mode": {
    "name": "ipython",
    "version": 2
   },
   "file_extension": ".py",
   "mimetype": "text/x-python",
   "name": "python",
   "nbconvert_exporter": "python",
   "pygments_lexer": "ipython2",
   "version": "2.7.3"
  }
 },
 "nbformat": 4,
 "nbformat_minor": 0
}
