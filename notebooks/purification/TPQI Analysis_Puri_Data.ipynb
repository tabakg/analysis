{
 "cells": [
  {
   "cell_type": "code",
   "execution_count": null,
   "metadata": {
    "collapsed": false
   },
   "outputs": [],
   "source": [
    "## setup analysis\n",
    "execfile(r'D:\\measuring\\analysis\\scripts\\setup_analysis.py')\n",
    "from analysis.lib.purification import purify_pq as ppq; reload(ppq)\n",
    "from analysis.lib.purification import purify_BK as pbk; reload(pbk)\n",
    "\n",
    "from analysis.lib.pq import pq_tools;reload(pq_tools)\n",
    "\n",
    "%matplotlib inline\n",
    "from analysis.lib.fitting import fit, common\n",
    "\n",
    "#folder_lt4 = r'D:\\measuring\\data\\Purification_lt4_raw_data\\Purify_25percent_theta'\n",
    "folder_lt4 = r'D:\\measuring\\data\\Purification_lt4_raw_data\\Purify_XX_First_Attempts'\n",
    "\n",
    "filename_contains = 'Purify_'\n",
    "\n",
    "from analysis.lib.purification import purify_TPQI_from_Puri_Data as TPQI; reload(TPQI)"
   ]
  },
  {
   "cell_type": "code",
   "execution_count": null,
   "metadata": {
    "collapsed": false
   },
   "outputs": [],
   "source": [
    "### find timestamps for all three experiments (for pi/6)\n",
    "days_25 = ['20160720','20160721','20160722','20160724','20160725','20160807','20160808']\n",
    "days_First = ['20160714','20160715','20160716','20160718','20160719','20160726','20160727']\n",
    "days_First_new_timings = ['20160816']\n",
    "days_25_new_timings = ['20160811']\n",
    "\n",
    "all_lt4 = []\n",
    "offsets = [] # Hold offset to compensate for timing change for new APD\n",
    "correction_time = 2791.5e3-2772.5e3\n",
    "offsets_ch1 = []\n",
    "start_offset_ch1 = -1.8e3\n",
    "\n",
    "days = days_First\n",
    "\n",
    "for d in days:\n",
    "\n",
    "    tstamp_lt4 = TPQI.find_tstamps_of_day([],d,contains=filename_contains,analysis_folder = folder_lt4)\n",
    "    all_lt4.extend(tstamp_lt4)\n",
    "    offsets.extend(np.zeros(np.shape(tstamp_lt4)))\n",
    "    offsets_ch1.extend(np.zeros(np.shape(tstamp_lt4)))\n",
    "days = days_First_new_timings\n",
    "for d in days:\n",
    "\n",
    "    tstamp_lt4 = TPQI.find_tstamps_of_day([],d,contains=filename_contains,analysis_folder = folder_lt4)\n",
    "\n",
    "    all_lt4.extend(tstamp_lt4)\n",
    "    offsets.extend(np.zeros(np.shape(tstamp_lt4))+correction_time)\n",
    "    offsets_ch1.extend(np.zeros(np.shape(tstamp_lt4))+start_offset_ch1)\n",
    "print 'No of files: ', len(all_lt4)"
   ]
  },
  {
   "cell_type": "code",
   "execution_count": null,
   "metadata": {
    "collapsed": false
   },
   "outputs": [],
   "source": [
    "### define parameters\n",
    "start_ch0 = 2772.5e3\n",
    "\n",
    "window_length = 40e3\n",
    "pulse_sep = 0\n",
    "number_of_pulses = 1"
   ]
  },
  {
   "cell_type": "code",
   "execution_count": null,
   "metadata": {
    "collapsed": false
   },
   "outputs": [],
   "source": [
    "### get coincidences\n",
    "# execfile(r'D:\\measuring\\analysis\\scripts\\setup_analysis.py')\n",
    "reload(TPQI)\n",
    "reload(pq_tools)\n",
    "dts,dts_offset, filtered_dts,filtered_dts_offset = TPQI.TPQI_analysis(folder_lt4,all_lt4,offsets,offsets_ch1,start_ch0,start_ch0,\n",
    "                                       window_length,\n",
    "                                       pulse_sep,\n",
    "                                       number_of_pulses, Verbose = False)\n",
    "\n",
    "len(dts),len(dts_offset),len(filtered_dts),len(filtered_dts_offset)"
   ]
  },
  {
   "cell_type": "code",
   "execution_count": null,
   "metadata": {
    "collapsed": false
   },
   "outputs": [],
   "source": [
    "### plot result\n",
    "\n",
    "lim = 50\n",
    "\n",
    "hist_binsize = 4\n",
    "bins = np.arange(min(dts)-100.5,max(dts)+100.5,hist_binsize)\n",
    "\n",
    "\n",
    "fig = plt.figure()\n",
    "ax = fig.add_subplot(111)\n",
    "\n",
    "y,x=np.histogram(filtered_dts, bins=bins)\n",
    "bin_centres = x[:-1] + (x[1] - x[0])/2\n",
    "ax.plot(bin_centres,y)\n",
    "\n",
    "y,x=np.histogram(filtered_dts_offset, bins=bins)\n",
    "bin_centres = x[:-1] + (x[1] - x[0])/2\n",
    "ax.plot(bin_centres,y)\n",
    "\n",
    "\n",
    "ax.set_xlabel('Difference time (ns)')\n",
    "ax.set_ylabel('Coincidences in bin')\n",
    "# ax.set_range\n",
    "ax.set_title('TPQI')\n",
    "ax.set_xlim([-lim,lim])\n",
    "# ax.set_ylim([0,30])\n",
    "\n",
    "plt.show()\n",
    "plt.close('all')\n",
    "\n",
    "\n"
   ]
  },
  {
   "cell_type": "code",
   "execution_count": null,
   "metadata": {
    "collapsed": false
   },
   "outputs": [],
   "source": [
    "counts_in_same_pulse = np.sum((filtered_dts<200) & (filtered_dts>-200))\n",
    "counts_in_next_pulse = np.sum((filtered_dts_offset<200) & (filtered_dts_offset>-200))\n",
    "\n",
    "print 'coincidence with next pulse',counts_in_next_pulse \n",
    "print 'coincidences in same pulse',counts_in_same_pulse\n",
    "\n",
    "tail_lt3 = 7.2 #9.1975 for SIL 3\n",
    "tail_lt4 = 5.1514\n",
    "\n",
    "p1 = tail_lt3\n",
    "p2 = tail_lt4\n",
    "\n",
    "Visibility = 2*p1*p2/(2*p1*p2 + p1**2 + p2**2)\n",
    "# Visibility = 0.5\n",
    "print 'assumed tail LT3/LT4',tail_lt3,tail_lt4\n",
    "print 'distiungishable expected vis', Visibility\n",
    "print 'measured Visibility', counts_in_same_pulse/float(counts_in_next_pulse)\n",
    "print 'normalized TPQI visibility', 1-(counts_in_same_pulse/float(counts_in_next_pulse))/Visibility\n"
   ]
  },
  {
   "cell_type": "code",
   "execution_count": null,
   "metadata": {
    "collapsed": false
   },
   "outputs": [],
   "source": [
    "def sweep_tpqi_param(param_name,sweep_pts):\n",
    "    vis = []\n",
    "    vis_u = []\n",
    "    counts_filt = []\n",
    "    counts_filt_next = []\n",
    "    \n",
    "    initialVal = tpqi_dict[param_name]\n",
    "    for p in sweep_pts:\n",
    "        tpqi_dict[param_name] = p\n",
    "        # get dts\n",
    "        dts,dts_offset, filtered_dts,filtered_dts_offset = TPQI.TPQI_analysis(folder_lt4,all_lt4,offsets,offsets_ch1,\n",
    "                                               tpqi_dict['start_ch0'],tpqi_dict['start_ch0'],\n",
    "                                               tpqi_dict['window_length'],\n",
    "                                              tpqi_dict['pulse_sep'],\n",
    "                                               tpqi_dict['number_of_pulses'],\n",
    "                                               Verbose = False)\n",
    "        ## calc visibility\n",
    "        counts_in_same_pulse = np.sum((filtered_dts<200) & (filtered_dts>-200))\n",
    "        counts_in_next_pulse = np.sum((filtered_dts_offset<200) & (filtered_dts_offset>-200))\n",
    "\n",
    "        tail_lt3 = 7.2 #9.1975 for SIL 2 of pippin\n",
    "        tail_lt4 = 5.1514\n",
    "\n",
    "        p1 = tail_lt3\n",
    "        p2 = tail_lt4\n",
    "\n",
    "        Visibility = 2*p1*p2/(2*p1*p2 + p1**2 + p2**2)\n",
    "        if counts_in_same_pulse != 0 and counts_in_next_pulse != 0:\n",
    "            vis.append(1-(counts_in_same_pulse/float(counts_in_next_pulse))/Visibility)\n",
    "            vis_u.append(np.sqrt((counts_in_same_pulse**2)/float(counts_in_next_pulse**3)+ \\\n",
    "                                 (counts_in_same_pulse)/float(counts_in_next_pulse**2))/Visibility)\n",
    "            \n",
    "#             print counts_in_same_pulse, counts_in_next_pulse,vis_u[-1]\n",
    "        else:\n",
    "            vis.append(0)\n",
    "            vis_u.append(0)\n",
    "\n",
    "        counts_filt.append(counts_in_same_pulse)\n",
    "        counts_filt_next.append(counts_in_next_pulse)\n",
    "    \n",
    "    ### do some plotting\n",
    "    fig = plt.figure()\n",
    "    ax = plt.subplot()\n",
    "    plt.errorbar(sweep_pts,vis,yerr=vis_u)\n",
    "    ax.set_xlabel(param_name)\n",
    "    ax.set_ylabel('Visibility')\n",
    "    plt.show()\n",
    "    plt.close('all')\n",
    "    \n",
    "    ### do some plotting\n",
    "    fig = plt.figure()\n",
    "    ax = plt.subplot()\n",
    "    plt.plot(sweep_pts,counts_filt,sweep_pts,counts_filt_next)\n",
    "    ax.set_xlabel(param_name)\n",
    "    ax.set_ylabel('Counts')\n",
    "    plt.show()\n",
    "    plt.close('all')\n",
    "    \n",
    "    tpqi_dict[param_name] = initialVal\n",
    "# Error propagation for N1/N2     Sqrt[N2^2 \\[Sigma]1^2 + N1^2 \\[Sigma]2^2]/N2^2"
   ]
  },
  {
   "cell_type": "code",
   "execution_count": null,
   "metadata": {
    "collapsed": false,
    "scrolled": false
   },
   "outputs": [],
   "source": [
    "##### sweep tpqi parameters\n",
    "tpqi_dict = {\n",
    "    'start_ch0' : 2772.5e3,\n",
    "    'window_length' : 40e3,\n",
    "    'pulse_sep' : 700e3,\n",
    "    'number_of_pulses' : 1}\n",
    "\n",
    "sweep_tpqi_param('start_ch0',np.linspace(2771e3,2781e3,10))\n",
    "sweep_tpqi_param('window_length',np.linspace(10e3,60e3,10))"
   ]
  },
  {
   "cell_type": "code",
   "execution_count": null,
   "metadata": {
    "collapsed": false
   },
   "outputs": [],
   "source": [
    "def sweep_tpqi_days(steps):\n",
    "    vis = []\n",
    "    vis_u = []\n",
    "    counts_filt = []\n",
    "    counts_filt_next = []\n",
    "\n",
    "    total_tstamps = len(all_lt4)\n",
    "    file_ints = (np.linspace(0,total_tstamps,steps+1)).astype(int)\n",
    "\n",
    "    for j in range(len(file_ints)-1):\n",
    "        # get dts\n",
    "        dts,dts_offset, filtered_dts,filtered_dts_offset = TPQI.TPQI_analysis(folder_lt4,all_lt4[file_ints[j]:file_ints[j+1]]\n",
    "                                              ,offsets[file_ints[j]:file_ints[j+1]],offsets_ch1[file_ints[j]:file_ints[j+1]],tpqi_dict['start_ch0'],\n",
    "                                              tpqi_dict['start_ch0'],\n",
    "                                               tpqi_dict['window_length'],\n",
    "                                              tpqi_dict['pulse_sep'],\n",
    "                                               tpqi_dict['number_of_pulses'],\n",
    "                                               Verbose = False)\n",
    "        ## calc visibility\n",
    "        counts_in_same_pulse = np.sum((filtered_dts<200) & (filtered_dts>-200))\n",
    "        counts_in_next_pulse = np.sum((filtered_dts_offset<200) & (filtered_dts_offset>-200))\n",
    "\n",
    "        tail_lt3 = 7.2 #9.1975 for SIL 2 of pippin\n",
    "        tail_lt4 = 5.1514\n",
    "\n",
    "        p1 = tail_lt3\n",
    "        p2 = tail_lt4\n",
    "\n",
    "        Visibility = 2*p1*p2/(2*p1*p2 + p1**2 + p2**2)\n",
    "        if counts_in_same_pulse != 0 and counts_in_next_pulse != 0:\n",
    "            vis.append(1-(counts_in_same_pulse/float(counts_in_next_pulse))/Visibility)\n",
    "            vis_u.append(np.sqrt((counts_in_same_pulse**2)/float(counts_in_next_pulse**3)+ \\\n",
    "                                 (counts_in_same_pulse)/float(counts_in_next_pulse**2))/Visibility)\n",
    "            \n",
    "#             print counts_in_same_pulse, counts_in_next_pulse,vis_u[-1]\n",
    "        else:\n",
    "            vis.append(0)\n",
    "            vis_u.append(0)\n",
    "\n",
    "        counts_filt.append(counts_in_same_pulse)\n",
    "        counts_filt_next.append(counts_in_next_pulse)\n",
    "    \n",
    "    sweep_pts = file_ints[1:]\n",
    "    \n",
    "    ### do some plotting\n",
    "    fig = plt.figure()\n",
    "    ax = plt.subplot()\n",
    "    plt.errorbar(sweep_pts,vis,yerr=vis_u)\n",
    "    ax.set_xlabel('File nos')\n",
    "    ax.set_ylabel('Visibility')\n",
    "    plt.show()\n",
    "    plt.close('all')\n",
    "\n",
    "    ### do some plotting\n",
    "    fig = plt.figure()\n",
    "    ax = plt.subplot()\n",
    "    plt.plot(sweep_pts,counts_filt,sweep_pts,counts_filt_next)\n",
    "    ax.set_xlabel('File nos')\n",
    "    ax.set_ylabel('Counts')\n",
    "    plt.show()\n",
    "    plt.close('all')\n",
    "    "
   ]
  },
  {
   "cell_type": "code",
   "execution_count": null,
   "metadata": {
    "collapsed": false
   },
   "outputs": [],
   "source": [
    "##### sweep tpqi parameters\n",
    "tpqi_dict = {\n",
    "    'start_ch0' : 2772.5e3,\n",
    "    'window_length' : 40e3,\n",
    "    'pulse_sep' : 700e3,\n",
    "    'number_of_pulses' : 1}\n",
    "\n",
    "sweep_tpqi_days(3)"
   ]
  },
  {
   "cell_type": "code",
   "execution_count": null,
   "metadata": {
    "collapsed": false
   },
   "outputs": [],
   "source": [
    "### regular histgram plotting:\n",
    "reload(pq_plots)\n",
    "# f = tb.latest_data('105117',folder = folder_lt4)\n",
    "# a = pqsequence.PQSequenceAnalysis(f)\n",
    "f = tb.latest_data(all_lt4[-1],folder = folder_lt4)\n",
    "b = pqsequence.PQSequenceAnalysis(f)\n",
    "\n",
    "# pq_plots.plot_photon_hist(a.pqf,hist_binsize = 1e2,start=2.430e6,length=0.01e6,log = False)\n",
    "pq_plots.plot_photon_hist(b.pqf,hist_binsize = 1e2,start=2.760e6,length=0.040e6,log = False)\n",
    "# a.plot_histogram(0,hist_binsize = 1e2,start=2.430e6,length=0.01e6,log_plot = False)\n",
    "# a.plot_histogram(1,hist_binsize = 1e2,start=2.430e6,length=0.01e6,log_plot = False)"
   ]
  },
  {
   "cell_type": "code",
   "execution_count": null,
   "metadata": {
    "collapsed": true
   },
   "outputs": [],
   "source": []
  }
 ],
 "metadata": {
  "kernelspec": {
   "display_name": "Python 2",
   "language": "python",
   "name": "python2"
  },
  "language_info": {
   "codemirror_mode": {
    "name": "ipython",
    "version": 2
   },
   "file_extension": ".py",
   "mimetype": "text/x-python",
   "name": "python",
   "nbconvert_exporter": "python",
   "pygments_lexer": "ipython2",
   "version": "2.7.3"
  }
 },
 "nbformat": 4,
 "nbformat_minor": 0
}
