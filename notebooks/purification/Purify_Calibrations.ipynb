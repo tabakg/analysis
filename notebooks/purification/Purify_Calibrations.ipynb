{
 "cells": [
  {
   "cell_type": "code",
   "execution_count": null,
   "metadata": {
    "collapsed": false
   },
   "outputs": [],
   "source": [
    "execfile(r'D:\\measuring\\analysis\\scripts\\setup_analysis.py')\n",
    "import analysis.lib.purification.purify_ssro as pu_ssro;reload(pu_ssro)\n",
    "%matplotlib inline"
   ]
  },
  {
   "cell_type": "markdown",
   "metadata": {},
   "source": [
    "## Repump speed"
   ]
  },
  {
   "cell_type": "code",
   "execution_count": null,
   "metadata": {
    "collapsed": true
   },
   "outputs": [],
   "source": [
    "### to be written // imported from Qmemory"
   ]
  },
  {
   "cell_type": "markdown",
   "metadata": {},
   "source": [
    "## average repump time Z"
   ]
  },
  {
   "cell_type": "code",
   "execution_count": null,
   "metadata": {
    "collapsed": false
   },
   "outputs": [],
   "source": [
    "reload(pu_ssro)\n",
    "pu_ssro.average_repump_time(contains = '_Z', do_fit = True, fixed = [])"
   ]
  },
  {
   "cell_type": "markdown",
   "metadata": {},
   "source": [
    "## average repump time XY"
   ]
  },
  {
   "cell_type": "code",
   "execution_count": null,
   "metadata": {
    "collapsed": false,
    "scrolled": false
   },
   "outputs": [],
   "source": [
    "reload(pu_ssro)\n",
    "pu_ssro.average_repump_time(contains = '_X', do_fit = True, fixed = [])"
   ]
  },
  {
   "cell_type": "markdown",
   "metadata": {},
   "source": [
    "## Number of repetitions"
   ]
  },
  {
   "cell_type": "code",
   "execution_count": null,
   "metadata": {
    "collapsed": false,
    "scrolled": false
   },
   "outputs": [],
   "source": [
    "reload(pu_ssro)\n",
    "# pu_ssro.number_of_repetitions(contains = '_X', do_fit = True, show_guess = False, fit_n = 1,fit_f = 1e-10, fixed = [0,2,4,5,6])\n",
    "pu_ssro.number_of_repetitions(contains = '_Z', do_fit = True, show_guess = False, fit_T =3000,fit_n = 1, fit_f = 1e-10, fixed = [0,2,4,5,6], older_than = None)"
   ]
  },
  {
   "cell_type": "markdown",
   "metadata": {},
   "source": [
    "## El to C swap"
   ]
  },
  {
   "cell_type": "code",
   "execution_count": null,
   "metadata": {
    "collapsed": false
   },
   "outputs": [],
   "source": [
    "reload(pu_ssro)\n",
    "pu_ssro.el_to_c_swap(input_el=['X','mX','Y','mY','Z','mZ'])"
   ]
  },
  {
   "cell_type": "markdown",
   "metadata": {},
   "source": [
    "## Calibrate LDE phase"
   ]
  },
  {
   "cell_type": "code",
   "execution_count": null,
   "metadata": {
    "collapsed": false
   },
   "outputs": [],
   "source": [
    "reload(pu_ssro)\n",
    "pu_ssro.calibrate_LDE_phase(contains = 'LDE_phase', do_fit = True,fixed = [1],show_guess = False, phi0 = 180, freq = 1./20, older_than = None)"
   ]
  },
  {
   "cell_type": "markdown",
   "metadata": {},
   "source": [
    "## Calibrate feedback phase"
   ]
  },
  {
   "cell_type": "code",
   "execution_count": null,
   "metadata": {
    "collapsed": false
   },
   "outputs": [],
   "source": [
    "reload(pu_ssro)\n",
    "pu_ssro.calibrate_LDE_phase(contains = 'phase',do_fit = True,fixed = [],show_guess = False, phi0=240,freq = 10/360.)"
   ]
  },
  {
   "cell_type": "markdown",
   "metadata": {},
   "source": [
    "## Check phase offset after LDE2"
   ]
  },
  {
   "cell_type": "code",
   "execution_count": null,
   "metadata": {
    "collapsed": false
   },
   "outputs": [],
   "source": [
    "reload(pu_ssro)\n",
    "pu_ssro.phase_offset_after_LDE() ### tomographic measurement"
   ]
  },
  {
   "cell_type": "code",
   "execution_count": null,
   "metadata": {
    "collapsed": false
   },
   "outputs": [],
   "source": [
    "reload(pu_ssro)\n",
    "tomo_basis = 'Z'\n",
    "pu_ssro.calibrate_LDE_phase(contains = '_phase_offset_after_LDE_'+tomo_basis,tomo_basis = tomo_basis,\n",
    "                            do_fit = True,fixed = [0,4],decay = 1e5,\n",
    "                            show_guess = False, phi0=240,freq = 1/360.)"
   ]
  },
  {
   "cell_type": "markdown",
   "metadata": {},
   "source": [
    "# Full sequence local with rotation to Z"
   ]
  },
  {
   "cell_type": "code",
   "execution_count": null,
   "metadata": {
    "collapsed": false
   },
   "outputs": [],
   "source": [
    "reload(pu_ssro)\n",
    "tomo_basis = 'Z'\n",
    "pu_ssro.calibrate_LDE_phase(contains = 'full_sequence_local_'+tomo_basis,tomo_basis = tomo_basis,\n",
    "                            do_fit = True,fixed = [0,1],decay = 300,\n",
    "                            show_guess = False, phi0=0,freq = 1/360)"
   ]
  },
  {
   "cell_type": "code",
   "execution_count": null,
   "metadata": {
    "collapsed": true
   },
   "outputs": [],
   "source": []
  }
 ],
 "metadata": {
  "kernelspec": {
   "display_name": "Python 2",
   "language": "python",
   "name": "python2"
  },
  "language_info": {
   "codemirror_mode": {
    "name": "ipython",
    "version": 2
   },
   "file_extension": ".py",
   "mimetype": "text/x-python",
   "name": "python",
   "nbconvert_exporter": "python",
   "pygments_lexer": "ipython2",
   "version": "2.7.10"
  }
 },
 "nbformat": 4,
 "nbformat_minor": 0
}
