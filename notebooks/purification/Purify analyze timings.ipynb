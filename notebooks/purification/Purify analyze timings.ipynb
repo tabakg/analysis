{
 "cells": [
  {
   "cell_type": "code",
   "execution_count": null,
   "metadata": {
    "collapsed": false
   },
   "outputs": [],
   "source": [
    "## setup analysis\n",
    "execfile(r'D:\\measuring\\analysis\\scripts\\setup_analysis.py')\n",
    "from analysis.lib.purification import purify_pq as ppq; reload(ppq)\n",
    "from analysis.lib.purification import purify_analysis as pa; reload(pa)\n",
    "%matplotlib inline\n",
    "\n",
    "folder_lt3 = r'D:\\measuring\\data\\Purification_lt3_raw_data'\n",
    "folder_lt4 = r'D:\\measuring\\data\\Purification_lt4_raw_data'\n",
    "#addendum = r'\\Purify_XX_First_Attempts'\n",
    "addendum = r'\\Purify_25percent_theta'\n",
    "folder_lt3 = folder_lt3+addendum\n",
    "folder_lt4 = folder_lt4+addendum\n",
    "### ssro calibrations\n",
    "day = '20160716_' # for ssro calibration\n",
    "\n",
    "ssro_calib_lt3 = day+'091002'\n",
    "ssro_calib_lt4 = day+'113952'\n",
    "\n",
    "Purify = pa.purify_analysis('purification_analysis',folder_lt3,folder_lt4,ssro_calib_lt3,ssro_calib_lt4)"
   ]
  },
  {
   "cell_type": "code",
   "execution_count": null,
   "metadata": {
    "collapsed": false
   },
   "outputs": [],
   "source": [
    "### find timestamps for all three experiments (for pi/6)\n",
    "days_25 =['20160720','20160721'], ['20160724','20160725'] # ['20160720','20160721','20160722',\n",
    "days_First = ['20160714','20160715','20160716','20160718','20160719','20160726','20160727']\n",
    "days_post = [ '20160807','20160808']\n",
    "\n",
    "days = days_25\n",
    "all_lt3 , all_lt4 = [],[]\n",
    "\n",
    "for d in days:\n",
    "\n",
    "    tstamp_lt3,tstamp_lt4 = Purify.tstamps_for_both_setups(d,contains = 'Purify_')\n",
    "    #,newest_tstamp = '110000') ### newest timestamp allows for only taking parts of a day.\n",
    "    all_lt3.extend(tstamp_lt3)\n",
    "    all_lt4.extend(tstamp_lt4)\n",
    "\n",
    "\n",
    "print 'No of files: ', len(all_lt4)"
   ]
  },
  {
   "cell_type": "code",
   "execution_count": null,
   "metadata": {
    "collapsed": false
   },
   "outputs": [],
   "source": [
    "Purify.calculate_sequence_time(all_lt4,st_start= 2772.5e3,st_len=40e3,max_w2 = 150)"
   ]
  },
  {
   "cell_type": "code",
   "execution_count": null,
   "metadata": {
    "collapsed": true
   },
   "outputs": [],
   "source": []
  },
  {
   "cell_type": "code",
   "execution_count": null,
   "metadata": {
    "collapsed": true
   },
   "outputs": [],
   "source": []
  }
 ],
 "metadata": {
  "kernelspec": {
   "display_name": "Python 2",
   "language": "python",
   "name": "python2"
  },
  "language_info": {
   "codemirror_mode": {
    "name": "ipython",
    "version": 2
   },
   "file_extension": ".py",
   "mimetype": "text/x-python",
   "name": "python",
   "nbconvert_exporter": "python",
   "pygments_lexer": "ipython2",
   "version": "2.7.3"
  }
 },
 "nbformat": 4,
 "nbformat_minor": 0
}
