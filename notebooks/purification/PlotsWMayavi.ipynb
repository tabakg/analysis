{
 "cells": [
  {
   "cell_type": "code",
   "execution_count": 1,
   "metadata": {
    "collapsed": true
   },
   "outputs": [],
   "source": [
    "from mayavi import mlab\n",
    "import numpy as np\n",
    "import pylab as pl\n",
    "import os"
   ]
  },
  {
   "cell_type": "code",
   "execution_count": 2,
   "metadata": {
    "collapsed": false
   },
   "outputs": [
    {
     "name": "stdout",
     "output_type": "stream",
     "text": [
      "Notebook initialized with x3d backend.\n"
     ]
    }
   ],
   "source": [
    "mlab.init_notebook()"
   ]
  },
  {
   "cell_type": "code",
   "execution_count": 214,
   "metadata": {
    "collapsed": true
   },
   "outputs": [],
   "source": [
    "relative_scale_factor = 4.\n",
    "rsf = relative_scale_factor\n",
    "x = np.array([1,2,3,4])\n",
    "y = np.array([1,2,3,4])\n",
    "X,Y = np.meshgrid(x,y)"
   ]
  },
  {
   "cell_type": "code",
   "execution_count": 217,
   "metadata": {
    "collapsed": false
   },
   "outputs": [],
   "source": [
    "relative_scale_factor = 4.\n",
    "rsf = relative_scale_factor\n",
    "x = np.array([1,2,3,4])\n",
    "y = np.array([1,2,3,4])\n",
    "X,Y = np.meshgrid(x,y)\n",
    "#### extracted values for the density matrices here non-local only\n",
    "dm_same = rsf*np.array([[-0.001+0.j,     0.082+0.054j,  0.046+0.027j,  0.004-0.025j],\n",
    "           [ 0.082-0.054j,  0.475+0.j,     0.205+0.012j, -0.026-0.026j],\n",
    "           [ 0.046-0.027j,  0.205-0.012j,  0.425+0.j,    -0.019-0.022j],\n",
    "           [ 0.004+0.025j, -0.026+0.026j, -0.019+0.022j,  0.101+0.j   ]])\n",
    "\n",
    "### error bars for same detector clicking\n",
    "dm_same_u = rsf*np.array([[ 0.022+0.j,     0.027+0.026j,  0.028+0.026j,  0.026+0.037j],\n",
    "                      [ 0.027+0.026j,  0.022+0.j,     0.026+0.037j,  0.028+0.026j],\n",
    "                      [ 0.028+0.026j,  0.026+0.037j,  0.022+0.j,     0.027+0.026j],\n",
    "                      [ 0.026+0.037j,  0.028+0.026j,  0.027+0.026j,  0.022+0.j   ]])\n",
    "### dm for opposite detector only:\n",
    "dm_opposite = rsf*np.array([[ 0.018+0.j,     0.020+0.004j,  0.051+0.021j, -0.002-0.019j],\n",
    "                       [ 0.020-0.004j,  0.462+0.j,    -0.224-0.051j, -0.022-0.059j],\n",
    "                       [ 0.051-0.021j, -0.224+0.051j,  0.400+0.j,    0.061+0.054j],\n",
    "                       [-0.002+0.019j, -0.022+0.059j,  0.061-0.054j,  0.120+0.j,  ]])\n",
    "dm_opposite_u = rsf*np.array([[ 0.022+0.j,     0.028+0.029j,  0.028+0.028j,  0.026+0.034j],\n",
    "                         [ 0.028+0.029j,  0.022+0.j,     0.026+0.034j,  0.028+0.028j],\n",
    "                         [ 0.028+0.028j,  0.026+0.034j,  0.022+0.j,     0.028+0.029j],\n",
    "                         [ 0.026+0.034j,  0.028+0.028j,  0.028+0.029j,  0.022+0.j   ]])\n",
    "\n",
    "#### LOCAL NUCLEAR SPIN DENSITY MATRICES\n",
    "dm_lt4 = rsf*np.array([[ 0.002+0.j,     0.011+0.015j, -0.001-0.023j,  0.001+0.007j],\n",
    "          [ 0.011-0.015j,  0.510+0.j,    -0.491-0.018j, -0.011+0.032j],\n",
    "          [-0.001+0.023j, -0.491+0.018j,  0.469+0.j,     0.003-0.022j], \n",
    "          [ 0.001-0.007j, -0.011-0.032j,  0.003+0.022j,  0.019+0.j   ]])\n",
    "\n",
    "dm_lt4_u = np.zeros_like(dm_lt4)\n",
    "dm_lt3 = rsf*np.array([[ 0.058+0.j,     0.061-0.004j,  0.020-0.022j,  0.008+0.j   ],\n",
    "                       [ 0.061+0.004j,  0.482+0.j,    -0.478+0.001j, -0.006+0.012j],\n",
    "                       [ 0.020+0.022j, -0.478-0.001j,  0.471+0.j,    -0.027+0.002j],\n",
    "                       [ 0.008+0.j,    -0.006-0.012j, -0.027-0.002j, -0.010+0.j   ]])\n",
    "dm_lt3_u = np.zeros_like(dm_lt3)\n",
    "\n",
    "\n",
    "dm_id = rsf*np.array([[ 0.+0.j,   0.+0.0j, 0-0.0j, 0+0.0j],\n",
    "                      [ 0.-0.0j,  0.5+0.0j, 0.5-0.0j, 0+0.0j],\n",
    "                      [-0.+0.0j,  0.5+0.0j, 0.5+0.0j, 0-0.0j], \n",
    "                      [ 0.-0.0j, -0.-0.0j, 0+0.0j, 0+0.0j]])\n",
    "\n",
    "dm_id_odd = rsf*np.array([[ 0.+0.j,   0.+0.0j, 0-0.0j, 0+0.0j],\n",
    "                      [ 0.-0.0j,  0.5+0.0j, -0.5-0.0j, 0+0.0j],\n",
    "                      [-0.+0.0j,  -0.5+0.0j, 0.5+0.0j, 0-0.0j], \n",
    "                      [ 0.-0.0j, -0.-0.0j, 0+0.0j, 0+0.0j]])"
   ]
  },
  {
   "cell_type": "code",
   "execution_count": 218,
   "metadata": {
    "collapsed": false
   },
   "outputs": [],
   "source": [
    "### case selector: which dm to plot?\n",
    "plot_dm = 'lt4' ### 'opposite' 'same' 'lt3' 'lt4'\n",
    "plot_vals = 'abs'  ### 'real' 'abs' 'imag'\n",
    "errorbars = True\n",
    "save_folder = r'M:\\tnw\\ns\\qt\\Diamond\\Projects\\Purification\\Paper\\Plots' #saves automatically to the right folder. For illustrator auto updates.\n",
    "# save_folder = r'D:\\nkalb\\Desktop'\n",
    "\n",
    "\n",
    "if plot_dm== 'same':\n",
    "    save_name = \"dm_same_mayavi\"\n",
    "    dm = dm_same\n",
    "    dm_u = dm_same_u\n",
    "\n",
    "    \n",
    "elif plot_dm == 'opposite':\n",
    "    save_name = \"dm_opposite_mayavi\"\n",
    "    dm = dm_opposite\n",
    "    dm_u = dm_opposite_u\n",
    "    dm_id = dm_id_odd \n",
    "    \n",
    "elif plot_dm == 'lt3':\n",
    "    save_name = \"dm_lt3\"\n",
    "    dm = dm_lt3\n",
    "    dm_u = dm_lt3_u\n",
    "    errorbars = False\n",
    "\n",
    "else:\n",
    "    save_name = 'dm_lt4'\n",
    "    dm = dm_lt4\n",
    "    dm_u = dm_lt4_u\n",
    "    errorbars = False \n",
    "\n",
    "if plot_vals == 'real':\n",
    "    z_labels = ['0.5','0.25','0.0']#,'-0.25']\n",
    "    zz = np.arange(0.0,0.5*rsf+0.01,0.1*rsf)#np.arange(-.3*rsf,0.5*rsf+0.01,0.1*rsf)\n",
    "    save_name = save_name+'_re.png'\n",
    "    dm = dm.real\n",
    "    dm_u = dm_u.real\n",
    "    dm_id = dm_id.real\n",
    "    \n",
    "elif plot_vals == 'abs':\n",
    "    z_labels = ['0.5','0.25','0.0']\n",
    "    zz = np.arange(-.0*rsf,0.5*rsf+0.01,0.1*rsf)\n",
    "    save_name = save_name+'_abs.png'\n",
    "    dm = abs(dm.real)\n",
    "    dm_u = abs(dm_u.real)\n",
    "    dm_id = abs(dm_id.real)\n",
    "else:\n",
    "    zz = np.arange(-.0*rsf,0.2*rsf+0.01,0.1*rsf)\n",
    "    z_labels = ['0.2','0.0','-0.2']\n",
    "    save_name = save_name+'_im.png'\n",
    "    dm = dm.imag\n",
    "    dm_u = dm_u.imag\n",
    "    dm_id = dm_id.imag\n",
    "    \n",
    "    \n",
    "if plot_dm == 'lt3' or plot_dm == 'lt4':\n",
    "    x_labels = [r'|0,-X>','|1,-X>','|0,+X>','|1,+X>']\n",
    "    y_labels = [r'<0,-X|','<1,-X|','<0,+X|','<1,+X|'] \n",
    "    y_off = +0.89\n",
    "else:\n",
    "    x_labels = [r'|0,0>','|1,0>','|0,1>','|1,1>']\n",
    "    y_labels = [r'<0,0|','<1,0|','<0,1|','<1,1|']\n",
    "    y_off = +0.75+0.2"
   ]
  },
  {
   "cell_type": "code",
   "execution_count": 219,
   "metadata": {
    "collapsed": true
   },
   "outputs": [],
   "source": [
    "mlab.clf()\n",
    "plt=  mlab.figure(figure=None,bgcolor=(1,1,1), fgcolor=(0,0,0), engine=None, size=(400, 350))# \n",
    "lateral_scale = 0.75\n",
    "\n",
    "### now include a line mesh around the 3Dbars for better visualization:\n",
    "ls = (1-lateral_scale)/2\n",
    "\n",
    "for k in range(4):\n",
    "    for l in range(4):\n",
    "        simple_x = np.array([ls,ls,1-ls,1-ls,ls]) +0.5+k\n",
    "        simple_y = np.array([ls,1-ls,1-ls,ls,ls]) +0.5+l\n",
    "        if dm[k][l] !=0:\n",
    "            simple_z = np.array([0.0,dm[l][k]])\n",
    "            simple_z_id = np.array([dm_id[l][k]])\n",
    "            for z in simple_z:\n",
    "                mlab.plot3d(simple_x,simple_y,z*np.ones(len(simple_y)),\n",
    "                        line_width=0.01,tube_radius=0.01,opacity = 1.)\n",
    "            if (3>k>0) & (3>l>0):\n",
    "                for z in simple_z_id:\n",
    "                    mlab.plot3d(simple_x,simple_y,z*np.ones(len(simple_y)),\n",
    "                            line_width=0.01,tube_radius=0.01,opacity = 0.25)\n",
    "                \n",
    "            for i in range(len(simple_x)):\n",
    "                if (3>k>0) & (3>l>0):\n",
    "                    mlab.plot3d(simple_x[i]*np.ones(2),simple_y[i]*np.ones(2),\n",
    "                                [simple_z[-1],simple_z_id[-1]],line_width=0.01,tube_radius=0.01,opacity=0.325)\n",
    "                mlab.plot3d(simple_x[i]*np.ones(2),simple_y[i]*np.ones(2),\n",
    "                            simple_z,line_width=0.01,tube_radius=0.01,opacity=1.)\n",
    "                \n",
    "\n",
    "        else:\n",
    "            mlab.plot3d(simple_x,simple_y,0*np.ones(len(simple_y)),\n",
    "                        line_width=0.01,tube_radius=0.01,opacity = 1.)"
   ]
  },
  {
   "cell_type": "code",
   "execution_count": 220,
   "metadata": {
    "collapsed": false
   },
   "outputs": [],
   "source": [
    "\n",
    "mlab.barchart(X,Y,dm,color = (0/255.,0/255.,0/255.),lateral_scale=lateral_scale,opacity =0.9,mode = '2dcross',\n",
    "              line_width = 2,figure = plt)\n",
    "mlab.barchart(X,Y,dm,color = (53/255.,148/255.,242/255.),lateral_scale=lateral_scale,opacity =0.625,\n",
    "                  auto_scale = False,figure = plt)#,mode = '2dsquare')\n",
    "\n",
    "plt = mlab.barchart(X,Y,dm_id,color = (53/255.,148/255.,242/255.),lateral_scale=lateral_scale,opacity =0.325,\n",
    "                  auto_scale = False,figure = plt)#,mode = '2dsquare')\n",
    "\n",
    "\n",
    "\n",
    "\n",
    "\n",
    "if errorbars:\n",
    "    ### need to extract the z starting point and length value for the errorbars\n",
    "    u_start = dm-dm_u\n",
    "    u_end = dm+dm_u\n",
    "\n",
    "    e_bar_cap = 0.1\n",
    "    for i in range(len(x)):\n",
    "        for j in range(len(y)):\n",
    "\n",
    "            ebar = np.linspace(-e_bar_cap,e_bar_cap,2)\n",
    "\n",
    "            if u_start[j][i] != u_end[j][i]: ## error bar is not 0:\n",
    "\n",
    "                mlab.plot3d(x[i]*np.ones(2),y[j]*np.ones(2),np.linspace(u_start[j][i],u_end[j][i],2),\n",
    "                            line_width=0.03,tube_radius=0.02,opacity = 1.)\n",
    "                mlab.plot3d(x[i]+ebar,y[j]+ebar,u_end[j][i]*np.ones(2),\n",
    "                        line_width=0.03,tube_radius=0.01,opacity = 1.)       \n",
    "\n",
    "            mlab.plot3d(x[i]+ebar,y[j]+ebar,u_start[j][i]*np.ones(2),\n",
    "                        line_width=0.03,tube_radius=0.01,opacity = 1.)"
   ]
  },
  {
   "cell_type": "code",
   "execution_count": 221,
   "metadata": {
    "collapsed": false
   },
   "outputs": [],
   "source": [
    "##### colormap handling:\n",
    "# Retrieve the LUT of the surf object.\n",
    "# lut = plt.module_manager.scalar_lut_manager.lut.table.to_array()\n",
    "# plt.module_manager.scalar_lut_manager.data_range  = [-0.5*rsf,rsf*0.5]\n",
    "# # The lut is a 255x4 array, with the columns representing RGBA\n",
    "# # (red, green, blue, alpha) coded with integers going from 0 to 255.\n",
    "# start_colour = [53.,148.,242.] ### black to \n",
    "# mid_colour = [255,255,255] ### white\n",
    "# end_colour =  [53.,148.,242.] ## to blue\n",
    "\n",
    "# def cfunc(start_val,stop_val,x,length,start_index):\n",
    "#     ### gives a linear colour gradient\n",
    "#     ### returns zero if zero is true\n",
    "#     zero = (np.argsort(x)>start_index) & (np.argsort(x) < (start_index+length))\n",
    "#     return (start_val+(stop_val-start_val)*((x-start_index)/float(length)))*zero\n",
    "\n",
    "\n",
    "# col = np.linspace(0, 255, 256)\n",
    "# # Modify the blue channel of the LUT\n",
    "# index = 2\n",
    "# blue = cfunc(start_colour[index],mid_colour[index],col,128,0)+cfunc(mid_colour[index],end_colour[index],col,129,127)\n",
    "# lut[:, index] = np.round(blue)\n",
    "# #red channel\n",
    "# index = 0\n",
    "# red = cfunc(start_colour[index],mid_colour[index],col,128,0)+cfunc(mid_colour[index],\n",
    "#                                                                          end_colour[index],col,129,127)\n",
    "# lut[:,index] = np.round(red)\n",
    "# #green channel\n",
    "# index = 1\n",
    "# green = cfunc(start_colour[index],mid_colour[index],col,128,0)+cfunc(mid_colour[index],\n",
    "#                                                                            end_colour[index],col,129,127)\n",
    "# lut[:,index] = np.round(green)\n",
    "\n",
    "# #### transparency\n",
    "# lut[:,-1] = np.round(np.append(np.linspace(255,0,128),np.linspace(0,255,128)))\n",
    "\n",
    "# # and finally we put this LUT back in the surface object. We could have\n",
    "# plt.module_manager.scalar_lut_manager.lut.table = lut"
   ]
  },
  {
   "cell_type": "code",
   "execution_count": 222,
   "metadata": {
    "collapsed": false
   },
   "outputs": [],
   "source": [
    "### add plot axes.\n",
    "xx = yy = np.arange(0.5,4.6,1)\n",
    "\n",
    "xy = xz = yx = yz = zx = zy = np.zeros_like(xx)\n",
    "zx = zy = np.zeros_like(zz)\n",
    "lensoffset = 0.5\n",
    "#### plot the axes including tick labels\n",
    "mlab.plot3d(yx+lensoffset,yy,yz,line_width=0.01,tube_radius=0.01,color = (0.4,0.4,0.4))\n",
    "mlab.plot3d(zx+lensoffset,zy+lensoffset,zz,line_width=0.01,tube_radius=0.01,color = (0.4,0.4,0.4))\n",
    "mlab.plot3d(xx,xy+lensoffset+4,xz,line_width=0.01,tube_radius=0.01,color = (0.4,0.4,0.4))\n",
    "#### plot frame\n",
    "\n",
    "### fix the viewing angle\n",
    "mlab.view(azimuth = 45+90,elevation = 60,distance=12.5)\n",
    "\n",
    "### create vertical lines at the outer corners\n",
    "\n",
    "mlab.plot3d(4.5*np.ones(5),4.5*np.ones(5),np.linspace(-0.0*rsf,np.amax(zz),5),line_width=0.01,\n",
    "                tube_radius=0.01,color = (0.4,0.4,0.4))\n",
    "mlab.plot3d(4.5*np.ones(5),0.5*np.ones(5),np.linspace(-0.0*rsf,np.amax(zz),5),line_width=0.01,\n",
    "                tube_radius=0.01,color = (0.4,0.4,0.4))\n",
    "\n",
    "### make the axis and tick labels\n",
    "text_scale = 0.1#0.18 for 3D text\n",
    "txt_lw = 0.5\n",
    "for l in z_labels:\n",
    "#     mlab.text(0.6,0.4,l,z=(float(l)-text_scale*0.15)*rsf,line_width=txt_lw,width=text_scale)#,scale=text_scale,orientation=(90,90,90),orient_to_camera=False)\n",
    "    mlab.plot3d(yx+lensoffset+4,yy,rsf*float(l)*np.ones_like(yy),line_width=0.01,\n",
    "                tube_radius=0.01,color = (0.4,0.4,0.4))\n",
    "    mlab.plot3d(xx,xy+lensoffset,rsf*float(l)*np.ones_like(xx),line_width=0.01,\n",
    "                tube_radius=0.01,color = (0.4,0.4,0.4))\n",
    "    \n",
    "\n",
    "### make X and Y labels\n",
    "# pos_list = [1.5,2.5,3.5,4.5]\n",
    "# for pos,l in zip(pos_list,x_labels):\n",
    "#     mlab.text(pos-0.4,4.5+y_off,l,z=0,line_width=txt_lw,width=text_scale)#orientation=(90,180,90),orient_to_camera=False)\n",
    "\n",
    "# for pos,l in zip(pos_list,y_labels):\n",
    "#     mlab.text(0+0.42-0.3,pos,l,z=0.05,line_width=txt_lw,width=text_scale)#orientation=(90,180,0),orient_to_camera=False)\n",
    "    \n"
   ]
  },
  {
   "cell_type": "code",
   "execution_count": 223,
   "metadata": {
    "collapsed": false
   },
   "outputs": [],
   "source": [
    "#### plug in the correct lighting\n",
    "plt.scene.anti_aliasing_frames = 10#20\n",
    "# plt.scene.polygon_smoothing = True\n",
    "plt.scene.light_manager.number_of_lights = 5\n",
    "[l1,l2,l3,l4,l5] = plt.scene.light_manager.lights"
   ]
  },
  {
   "cell_type": "code",
   "execution_count": 224,
   "metadata": {
    "collapsed": false
   },
   "outputs": [],
   "source": [
    "c = (53/255.,148/255.,242/255.)\n",
    "# c = (0,0,0)\n",
    "l1.activate = True ### this is standard to point along the direction of the camera\n",
    "l1.intensity = 0.5\n",
    "l1.color = c\n",
    "\n",
    "\n",
    "### additional lighting params\n",
    "active = True\n",
    "intensity = 1\n",
    "\n",
    "### need one light from below and one from above:\n",
    "l2.activate = active\n",
    "l2.elevation = 90\n",
    "l2.azimuth = 135\n",
    "l2.intensity = intensity\n",
    "l2.color = c\n",
    "\n",
    "l3.activate = active\n",
    "l3.elevation = -90\n",
    "l3.azimuth = 0\n",
    "l3.intensity = intensity\n",
    "l3.color = c\n",
    "\n",
    "l4.activate = active\n",
    "l4.elevation= -45\n",
    "l4.azimuth = -65\n",
    "l4.intensity = intensity\n",
    "l4.color = c\n",
    "\n",
    "l5.activate = active\n",
    "l5.elevation= 35\n",
    "l5.azimuth = 105\n",
    "l5.intensity = intensity\n",
    "l5.color = c"
   ]
  },
  {
   "cell_type": "code",
   "execution_count": 225,
   "metadata": {
    "collapsed": false
   },
   "outputs": [],
   "source": [
    "mlab.view(distance=11.5)\n",
    "# mlab.scalarbar(object = plt,orientation = 'vertical',label_fmt = '%.1f')\n",
    "mlab.savefig(os.path.join(save_folder,save_name),figure=plt,magnification=6)#high resolution use mag = 10 / low res use mag = 1\n",
    "mlab.close(all=True)"
   ]
  },
  {
   "cell_type": "code",
   "execution_count": null,
   "metadata": {
    "collapsed": true
   },
   "outputs": [],
   "source": []
  },
  {
   "cell_type": "code",
   "execution_count": 3,
   "metadata": {
    "collapsed": false
   },
   "outputs": [],
   "source": [
    "def most_stupid_fucntion_of_all_time(plot_dm,plot_vals,mag):\n",
    "        ### case selector: which dm to plot?\n",
    "    relative_scale_factor = 4.\n",
    "    rsf = relative_scale_factor\n",
    "    x = np.array([1,2,3,4])\n",
    "    y = np.array([1,2,3,4])\n",
    "    X,Y = np.meshgrid(x,y)\n",
    "    #### extracted values for the density matrices here non-local only\n",
    "    dm_same = rsf*np.array([[-0.001+0.j,     0.082+0.054j,  0.046+0.027j,  0.004-0.025j],\n",
    "               [ 0.082-0.054j,  0.475+0.j,     0.205+0.012j, -0.026-0.026j],\n",
    "               [ 0.046-0.027j,  0.205-0.012j,  0.425+0.j,    -0.019-0.022j],\n",
    "               [ 0.004+0.025j, -0.026+0.026j, -0.019+0.022j,  0.101+0.j   ]])\n",
    "\n",
    "    ### error bars for same detector clicking\n",
    "    dm_same_u = rsf*np.array([[ 0.022+0.j,     0.027+0.026j,  0.028+0.026j,  0.026+0.037j],\n",
    "                          [ 0.027+0.026j,  0.022+0.j,     0.026+0.037j,  0.028+0.026j],\n",
    "                          [ 0.028+0.026j,  0.026+0.037j,  0.022+0.j,     0.027+0.026j],\n",
    "                          [ 0.026+0.037j,  0.028+0.026j,  0.027+0.026j,  0.022+0.j   ]])\n",
    "    ### dm for opposite detector only:\n",
    "    dm_opposite = rsf*np.array([[ 0.018+0.j,     0.020+0.004j,  0.051+0.021j, -0.002-0.019j],\n",
    "                           [ 0.020-0.004j,  0.462+0.j,    -0.224-0.051j, -0.022-0.059j],\n",
    "                           [ 0.051-0.021j, -0.224+0.051j,  0.400+0.j,    0.061+0.054j],\n",
    "                           [-0.002+0.019j, -0.022+0.059j,  0.061-0.054j,  0.120+0.j,  ]])\n",
    "    dm_opposite_u = rsf*np.array([[ 0.022+0.j,     0.028+0.029j,  0.028+0.028j,  0.026+0.034j],\n",
    "                             [ 0.028+0.029j,  0.022+0.j,     0.026+0.034j,  0.028+0.028j],\n",
    "                             [ 0.028+0.028j,  0.026+0.034j,  0.022+0.j,     0.028+0.029j],\n",
    "                             [ 0.026+0.034j,  0.028+0.028j,  0.028+0.029j,  0.022+0.j   ]])\n",
    "\n",
    "    #### LOCAL NUCLEAR SPIN DENSITY MATRICES\n",
    "    dm_lt4 = rsf*np.array([[ 0.002+0.j,     0.011+0.015j, -0.001-0.023j,  0.001+0.007j],\n",
    "              [ 0.011-0.015j,  0.510+0.j,    -0.491-0.018j, -0.011+0.032j],\n",
    "              [-0.001+0.023j, -0.491+0.018j,  0.469+0.j,     0.003-0.022j], \n",
    "              [ 0.001-0.007j, -0.011-0.032j,  0.003+0.022j,  0.019+0.j   ]])\n",
    "\n",
    "    dm_lt4_u = np.zeros_like(dm_lt4)\n",
    "    dm_lt3 = rsf*np.array([[ 0.058+0.j,     0.061-0.004j,  0.020-0.022j,  0.008+0.j   ],\n",
    "                           [ 0.061+0.004j,  0.482+0.j,    -0.478+0.001j, -0.006+0.012j],\n",
    "                           [ 0.020+0.022j, -0.478-0.001j,  0.471+0.j,    -0.027+0.002j],\n",
    "                           [ 0.008+0.j,    -0.006-0.012j, -0.027-0.002j, -0.010+0.j   ]])\n",
    "    dm_lt3_u = np.zeros_like(dm_lt3)\n",
    "\n",
    "\n",
    "    dm_id = rsf*np.array([[ 0.+0.j,   0.+0.0j, 0-0.0j, 0+0.0j],\n",
    "                          [ 0.-0.0j,  0.5+0.0j, 0.5-0.0j, 0+0.0j],\n",
    "                          [-0.+0.0j,  0.5+0.0j, 0.5+0.0j, 0-0.0j], \n",
    "                          [ 0.-0.0j, -0.-0.0j, 0+0.0j, 0+0.0j]])\n",
    "\n",
    "    dm_id_odd = rsf*np.array([[ 0.+0.j,   0.+0.0j, 0-0.0j, 0+0.0j],\n",
    "                          [ 0.-0.0j,  0.5+0.0j, -0.5-0.0j, 0+0.0j],\n",
    "                          [-0.+0.0j,  -0.5+0.0j, 0.5+0.0j, 0-0.0j], \n",
    "                          [ 0.-0.0j, -0.-0.0j, 0+0.0j, 0+0.0j]])\n",
    "    errorbars = True\n",
    "    save_folder = r'M:\\tnw\\ns\\qt\\Diamond\\Projects\\Purification\\Paper\\Plots' #saves automatically to the right folder. For illustrator auto updates.\n",
    "    # save_folder = r'D:\\nkalb\\Desktop'\n",
    "\n",
    "\n",
    "    if plot_dm== 'same':\n",
    "        save_name = \"dm_same_mayavi\"\n",
    "        dm = dm_same\n",
    "        dm_u = dm_same_u\n",
    "\n",
    "\n",
    "    elif plot_dm == 'opposite':\n",
    "        save_name = \"dm_opposite_mayavi\"\n",
    "        dm = dm_opposite\n",
    "        dm_u = dm_opposite_u\n",
    "        dm_id = dm_id_odd \n",
    "\n",
    "    elif plot_dm == 'lt3':\n",
    "        save_name = \"dm_lt3\"\n",
    "        dm = dm_lt3\n",
    "        dm_u = dm_lt3_u\n",
    "        errorbars = False\n",
    "\n",
    "    else:\n",
    "        save_name = 'dm_lt4'\n",
    "        dm = dm_lt4\n",
    "        dm_u = dm_lt4_u\n",
    "        errorbars = False \n",
    "\n",
    "    if plot_vals == 'real':\n",
    "        z_labels = ['0.5','0.25','0.0']#,'-0.25']\n",
    "        zz = np.arange(0.0,0.5*rsf+0.01,0.1*rsf)#np.arange(-.3*rsf,0.5*rsf+0.01,0.1*rsf)\n",
    "        save_name = save_name+'_re.png'\n",
    "        dm = dm.real\n",
    "        dm_u = dm_u.real\n",
    "        dm_id = dm_id.real\n",
    "\n",
    "    elif plot_vals == 'abs':\n",
    "        z_labels = ['0.5','0.25','0.0']\n",
    "        zz = np.arange(-.0*rsf,0.5*rsf+0.01,0.1*rsf)\n",
    "        save_name = save_name+'_abs.png'\n",
    "        dm = abs(dm.real)\n",
    "        dm_u = abs(dm_u.real)\n",
    "        dm_id = abs(dm_id.real)\n",
    "    else:\n",
    "        zz = np.arange(-.0*rsf,0.2*rsf+0.01,0.1*rsf)\n",
    "        z_labels = ['0.2','0.0']\n",
    "        save_name = save_name+'_im.png'\n",
    "        dm = dm.imag\n",
    "        dm_u = dm_u.imag\n",
    "        dm_id = dm_id.imag\n",
    "\n",
    "\n",
    "    if plot_dm == 'lt3' or plot_dm == 'lt4':\n",
    "        x_labels = [r'|0,-X>','|1,-X>','|0,+X>','|1,+X>']\n",
    "        y_labels = [r'<0,-X|','<1,-X|','<0,+X|','<1,+X|'] \n",
    "        y_off = +0.89\n",
    "    else:\n",
    "        x_labels = [r'|0,0>','|1,0>','|0,1>','|1,1>']\n",
    "        y_labels = [r'<0,0|','<1,0|','<0,1|','<1,1|']\n",
    "        y_off = +0.75+0.2\n",
    "        \n",
    "    mlab.clf()\n",
    "    plt=  mlab.figure(figure=None,bgcolor=(1,1,1), fgcolor=(0,0,0), engine=None, size=(400, 350))# \n",
    "    lateral_scale = 0.75\n",
    "\n",
    "    ### now include a line mesh around the 3Dbars for better visualization:\n",
    "    ls = (1-lateral_scale)/2\n",
    "\n",
    "    for k in range(4):\n",
    "        for l in range(4):\n",
    "            simple_x = np.array([ls,ls,1-ls,1-ls,ls]) +0.5+k\n",
    "            simple_y = np.array([ls,1-ls,1-ls,ls,ls]) +0.5+l\n",
    "            if dm[k][l] !=0:\n",
    "                simple_z = np.array([0.0,dm[l][k]])\n",
    "                simple_z_id = np.array([dm_id[l][k]])\n",
    "                for z in simple_z:\n",
    "                    mlab.plot3d(simple_x,simple_y,z*np.ones(len(simple_y)),\n",
    "                            line_width=0.01,tube_radius=0.01,opacity = 1.)\n",
    "                if (3>k>0) & (3>l>0):\n",
    "                    for z in simple_z_id:\n",
    "                        mlab.plot3d(simple_x,simple_y,z*np.ones(len(simple_y)),\n",
    "                                line_width=0.01,tube_radius=0.01,opacity = 0.325)\n",
    "\n",
    "                for i in range(len(simple_x)):\n",
    "                    if (3>k>0) & (3>l>0):\n",
    "                        mlab.plot3d(simple_x[i]*np.ones(2),simple_y[i]*np.ones(2),\n",
    "                                    [simple_z[-1],simple_z_id[-1]],line_width=0.01,tube_radius=0.01,opacity=0.325)\n",
    "                    mlab.plot3d(simple_x[i]*np.ones(2),simple_y[i]*np.ones(2),\n",
    "                                simple_z,line_width=0.01,tube_radius=0.01,opacity=1.)\n",
    "\n",
    "\n",
    "            else:\n",
    "                mlab.plot3d(simple_x,simple_y,0*np.ones(len(simple_y)),\n",
    "                            line_width=0.01,tube_radius=0.01,opacity = 1.)\n",
    "                \n",
    "    mlab.barchart(X,Y,dm,color = (0/255.,0/255.,0/255.),lateral_scale=lateral_scale,opacity =0.9,mode = '2dcross',\n",
    "                  line_width = 2,figure = plt)\n",
    "    mlab.barchart(X,Y,dm,color = (53/255.,148/255.,242/255.),lateral_scale=lateral_scale,opacity =0.625,\n",
    "                      auto_scale = False,figure = plt)#,mode = '2dsquare')\n",
    "\n",
    "    plt = mlab.barchart(X,Y,dm_id,color = (53/255.,148/255.,242/255.),lateral_scale=lateral_scale,opacity =0.325,\n",
    "                      auto_scale = False,figure = plt)#,mode = '2dsquare')\n",
    "\n",
    "\n",
    "\n",
    "\n",
    "\n",
    "    if errorbars:\n",
    "        ### need to extract the z starting point and length value for the errorbars\n",
    "        u_start = dm-dm_u\n",
    "        u_end = dm+dm_u\n",
    "\n",
    "        e_bar_cap = 0.1\n",
    "        for i in range(len(x)):\n",
    "            for j in range(len(y)):\n",
    "\n",
    "                ebar = np.linspace(-e_bar_cap,e_bar_cap,2)\n",
    "\n",
    "                if u_start[j][i] != u_end[j][i]: ## error bar is not 0:\n",
    "\n",
    "                    mlab.plot3d(x[i]*np.ones(2),y[j]*np.ones(2),np.linspace(u_start[j][i],u_end[j][i],2),\n",
    "                                line_width=0.03,tube_radius=0.02,opacity = 1.)\n",
    "                    mlab.plot3d(x[i]+ebar,y[j]+ebar,u_end[j][i]*np.ones(2),\n",
    "                            line_width=0.03,tube_radius=0.01,opacity = 1.)       \n",
    "\n",
    "                mlab.plot3d(x[i]+ebar,y[j]+ebar,u_start[j][i]*np.ones(2),\n",
    "                            line_width=0.03,tube_radius=0.01,opacity = 1.)\n",
    "                ### add plot axes.\n",
    "    xx = yy = np.arange(0.5,4.6,1)\n",
    "\n",
    "    xy = xz = yx = yz = zx = zy = np.zeros_like(xx)\n",
    "    zx = zy = np.zeros_like(zz)\n",
    "    lensoffset = 0.5\n",
    "    #### plot the axes including tick labels\n",
    "    mlab.plot3d(yx+lensoffset,yy,yz,line_width=0.01,tube_radius=0.01,color = (0.4,0.4,0.4))\n",
    "    mlab.plot3d(zx+lensoffset,zy+lensoffset,zz,line_width=0.01,tube_radius=0.01,color = (0.4,0.4,0.4))\n",
    "    mlab.plot3d(xx,xy+lensoffset+4,xz,line_width=0.01,tube_radius=0.01,color = (0.4,0.4,0.4))\n",
    "    #### plot frame\n",
    "\n",
    "    ### fix the viewing angle\n",
    "    mlab.view(azimuth = 45+90,elevation = 60,distance=12.5)\n",
    "\n",
    "    ### create vertical lines at the outer corners\n",
    "\n",
    "    mlab.plot3d(4.5*np.ones(5),4.5*np.ones(5),np.linspace(-0.0*rsf,np.amax(zz),5),line_width=0.01,\n",
    "                    tube_radius=0.01,color = (0.4,0.4,0.4))\n",
    "    mlab.plot3d(4.5*np.ones(5),0.5*np.ones(5),np.linspace(-0.0*rsf,np.amax(zz),5),line_width=0.01,\n",
    "                    tube_radius=0.01,color = (0.4,0.4,0.4))\n",
    "\n",
    "    ### make the axis and tick labels\n",
    "    text_scale = 0.1#0.18 for 3D text\n",
    "    txt_lw = 0.5\n",
    "    for l in z_labels:\n",
    "    #     mlab.text(0.6,0.4,l,z=(float(l)-text_scale*0.15)*rsf,line_width=txt_lw,width=text_scale)#,scale=text_scale,orientation=(90,90,90),orient_to_camera=False)\n",
    "        mlab.plot3d(yx+lensoffset+4,yy,rsf*float(l)*np.ones_like(yy),line_width=0.01,\n",
    "                    tube_radius=0.01,color = (0.4,0.4,0.4))\n",
    "        mlab.plot3d(xx,xy+lensoffset,rsf*float(l)*np.ones_like(xx),line_width=0.01,\n",
    "                    tube_radius=0.01,color = (0.4,0.4,0.4))\n",
    "\n",
    "\n",
    "    ### make X and Y labels\n",
    "    # pos_list = [1.5,2.5,3.5,4.5]\n",
    "    # for pos,l in zip(pos_list,x_labels):\n",
    "    #     mlab.text(pos-0.4,4.5+y_off,l,z=0,line_width=txt_lw,width=text_scale)#orientation=(90,180,90),orient_to_camera=False)\n",
    "\n",
    "    # for pos,l in zip(pos_list,y_labels):\n",
    "    #     mlab.text(0+0.42-0.3,pos,l,z=0.05,line_width=txt_lw,width=text_scale)#orientation=(90,180,0),orient_to_camera=False)\n",
    "\n",
    "    #### plug in the correct lighting\n",
    "    plt.scene.anti_aliasing_frames = 10#20\n",
    "    # plt.scene.polygon_smoothing = True\n",
    "    plt.scene.light_manager.number_of_lights = 5\n",
    "    [l1,l2,l3,l4,l5] = plt.scene.light_manager.lights\n",
    "    c = (53/255.,148/255.,242/255.)\n",
    "    # c = (0,0,0)\n",
    "    l1.activate = True ### this is standard to point along the direction of the camera\n",
    "    l1.intensity = 0.5\n",
    "    l1.color = c\n",
    "\n",
    "\n",
    "    ### additional lighting params\n",
    "    active = True\n",
    "    intensity = 1\n",
    "\n",
    "    ### need one light from below and one from above:\n",
    "    l2.activate = active\n",
    "    l2.elevation = 90\n",
    "    l2.azimuth = 135\n",
    "    l2.intensity = intensity\n",
    "    l2.color = c\n",
    "\n",
    "    l3.activate = active\n",
    "    l3.elevation = -90\n",
    "    l3.azimuth = 0\n",
    "    l3.intensity = intensity\n",
    "    l3.color = c\n",
    "\n",
    "    l4.activate = active\n",
    "    l4.elevation= -45\n",
    "    l4.azimuth = -65\n",
    "    l4.intensity = intensity\n",
    "    l4.color = c\n",
    "\n",
    "    l5.activate = active\n",
    "    l5.elevation= 35\n",
    "    l5.azimuth = 105\n",
    "    l5.intensity = intensity\n",
    "    l5.color = c\n",
    "    \n",
    "    mlab.view(distance=11.5)\n",
    "    # mlab.scalarbar(object = plt,orientation = 'vertical',label_fmt = '%.1f')\n",
    "    print save_name\n",
    "    mlab.savefig(os.path.join(save_folder,save_name),figure=plt,magnification=mag)#high resolution use mag = 10 / low res use mag = 1\n",
    "    mlab.close(all=True)"
   ]
  },
  {
   "cell_type": "code",
   "execution_count": 4,
   "metadata": {
    "collapsed": false
   },
   "outputs": [],
   "source": [
    "plot_dm = 'lt4' ### 'opposite' 'same' 'lt3' 'lt4'\n",
    "plot_vals = 'abs'  ### 'real' 'abs' 'imag'\n",
    "mag= 3"
   ]
  },
  {
   "cell_type": "code",
   "execution_count": 5,
   "metadata": {
    "collapsed": false
   },
   "outputs": [
    {
     "name": "stdout",
     "output_type": "stream",
     "text": [
      "dm_lt3_abs.png\n"
     ]
    }
   ],
   "source": [
    "most_stupid_fucntion_of_all_time('lt3','abs',mag)\n"
   ]
  },
  {
   "cell_type": "code",
   "execution_count": 6,
   "metadata": {
    "collapsed": false
   },
   "outputs": [
    {
     "name": "stdout",
     "output_type": "stream",
     "text": [
      "dm_opposite_mayavi_re.png\n"
     ]
    }
   ],
   "source": [
    "most_stupid_fucntion_of_all_time('opposite','real',mag)\n"
   ]
  },
  {
   "cell_type": "code",
   "execution_count": 7,
   "metadata": {
    "collapsed": false
   },
   "outputs": [
    {
     "name": "stdout",
     "output_type": "stream",
     "text": [
      "dm_opposite_mayavi_im.png\n"
     ]
    }
   ],
   "source": [
    "most_stupid_fucntion_of_all_time('opposite','imag',mag)\n"
   ]
  },
  {
   "cell_type": "code",
   "execution_count": 8,
   "metadata": {
    "collapsed": false
   },
   "outputs": [
    {
     "name": "stdout",
     "output_type": "stream",
     "text": [
      "dm_same_mayavi_re.png\n"
     ]
    }
   ],
   "source": [
    "most_stupid_fucntion_of_all_time('same','real',mag)\n"
   ]
  },
  {
   "cell_type": "code",
   "execution_count": 9,
   "metadata": {
    "collapsed": false
   },
   "outputs": [
    {
     "name": "stdout",
     "output_type": "stream",
     "text": [
      "dm_same_mayavi_im.png\n"
     ]
    }
   ],
   "source": [
    "most_stupid_fucntion_of_all_time('same','imag',mag)"
   ]
  },
  {
   "cell_type": "code",
   "execution_count": 10,
   "metadata": {
    "collapsed": false
   },
   "outputs": [
    {
     "name": "stdout",
     "output_type": "stream",
     "text": [
      "dm_lt4_abs.png\n"
     ]
    }
   ],
   "source": [
    "most_stupid_fucntion_of_all_time('lt4','abs',mag)"
   ]
  },
  {
   "cell_type": "code",
   "execution_count": null,
   "metadata": {
    "collapsed": true
   },
   "outputs": [],
   "source": []
  }
 ],
 "metadata": {
  "kernelspec": {
   "display_name": "Python 2",
   "language": "python",
   "name": "python2"
  },
  "language_info": {
   "codemirror_mode": {
    "name": "ipython",
    "version": 2
   },
   "file_extension": ".py",
   "mimetype": "text/x-python",
   "name": "python",
   "nbconvert_exporter": "python",
   "pygments_lexer": "ipython2",
   "version": "2.7.11"
  }
 },
 "nbformat": 4,
 "nbformat_minor": 0
}
