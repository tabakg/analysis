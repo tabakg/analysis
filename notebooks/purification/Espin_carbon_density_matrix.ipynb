{
 "cells": [
  {
   "cell_type": "code",
   "execution_count": 1,
   "metadata": {
    "collapsed": false
   },
   "outputs": [
    {
     "name": "stdout",
     "output_type": "stream",
     "text": [
      "reloaded\n"
     ]
    }
   ],
   "source": [
    "execfile(r'D:\\measuring\\analysis\\scripts\\setup_analysis.py')\n",
    "%matplotlib inline\n",
    "from analysis.scripts.purification import electron_nuclear_bell_state as enbs"
   ]
  },
  {
   "cell_type": "code",
   "execution_count": 2,
   "metadata": {
    "collapsed": false,
    "scrolled": true
   },
   "outputs": [
    {
     "ename": "Exception",
     "evalue": "No fitting data found containing 124639.",
     "output_type": "error",
     "traceback": [
      "\u001b[0;31m---------------------------------------------------------------------------\u001b[0m",
      "\u001b[0;31mException\u001b[0m                                 Traceback (most recent call last)",
      "\u001b[0;32m<ipython-input-2-4e2d1b3a48dd>\u001b[0m in \u001b[0;36m<module>\u001b[0;34m()\u001b[0m\n\u001b[1;32m      4\u001b[0m enbs.electron_carbon_density_matrix(search_string = '13C_full_sequence_dm_',\n\u001b[1;32m      5\u001b[0m                                     \u001b[0mssro_calib_timestamp\u001b[0m\u001b[1;33m=\u001b[0m\u001b[1;34m'20160914_124639'\u001b[0m\u001b[1;33m,\u001b[0m\u001b[1;33m\u001b[0m\u001b[0m\n\u001b[0;32m----> 6\u001b[0;31m                                    plot_errors = False)\n\u001b[0m\u001b[1;32m      7\u001b[0m                                     \u001b[1;31m#newer_than = '20160913_000000')\u001b[0m\u001b[1;33m\u001b[0m\u001b[1;33m\u001b[0m\u001b[0m\n\u001b[1;32m      8\u001b[0m \u001b[0mplt\u001b[0m\u001b[1;33m.\u001b[0m\u001b[0msavefig\u001b[0m\u001b[1;33m(\u001b[0m\u001b[0mos\u001b[0m\u001b[1;33m.\u001b[0m\u001b[0mpath\u001b[0m\u001b[1;33m.\u001b[0m\u001b[0mjoin\u001b[0m\u001b[1;33m(\u001b[0m\u001b[0msave_folder\u001b[0m\u001b[1;33m,\u001b[0m\u001b[1;34m'dm_lt3.png'\u001b[0m\u001b[1;33m)\u001b[0m\u001b[1;33m,\u001b[0m\u001b[0mformat\u001b[0m\u001b[1;33m=\u001b[0m\u001b[1;34m'png'\u001b[0m\u001b[1;33m,\u001b[0m\u001b[0mbbox_inches\u001b[0m \u001b[1;33m=\u001b[0m \u001b[1;34m'tight'\u001b[0m\u001b[1;33m,\u001b[0m\u001b[0mpad_inches\u001b[0m\u001b[1;33m=\u001b[0m\u001b[1;36m0.3\u001b[0m\u001b[1;33m)\u001b[0m\u001b[1;33m\u001b[0m\u001b[0m\n",
      "\u001b[0;32md:/measuring\\analysis\\scripts\\purification\\electron_nuclear_bell_state.pyc\u001b[0m in \u001b[0;36melectron_carbon_density_matrix\u001b[0;34m(**kw)\u001b[0m\n\u001b[1;32m    255\u001b[0m     \"\"\"\n\u001b[1;32m    256\u001b[0m \u001b[1;33m\u001b[0m\u001b[0m\n\u001b[0;32m--> 257\u001b[0;31m     \u001b[0mfolder\u001b[0m\u001b[1;33m,\u001b[0m\u001b[0msweep_pts\u001b[0m\u001b[1;33m,\u001b[0m\u001b[0mexp_values\u001b[0m\u001b[1;33m,\u001b[0m\u001b[0mexp_vals_u\u001b[0m \u001b[1;33m=\u001b[0m \u001b[0mget_correlations\u001b[0m\u001b[1;33m(\u001b[0m\u001b[1;33m**\u001b[0m\u001b[0mkw\u001b[0m\u001b[1;33m)\u001b[0m\u001b[1;33m\u001b[0m\u001b[0m\n\u001b[0m\u001b[1;32m    258\u001b[0m     \u001b[1;32mprint\u001b[0m \u001b[1;34m'this is the folder'\u001b[0m\u001b[1;33m,\u001b[0m \u001b[0mfolder\u001b[0m\u001b[1;33m\u001b[0m\u001b[0m\n\u001b[1;32m    259\u001b[0m \u001b[1;33m\u001b[0m\u001b[0m\n",
      "\u001b[0;32md:/measuring\\analysis\\scripts\\purification\\electron_nuclear_bell_state.pyc\u001b[0m in \u001b[0;36mget_correlations\u001b[0;34m(**kw)\u001b[0m\n\u001b[1;32m     50\u001b[0m     \u001b[1;32melse\u001b[0m\u001b[1;33m:\u001b[0m\u001b[1;33m\u001b[0m\u001b[0m\n\u001b[1;32m     51\u001b[0m         \u001b[0mssro_dstmp\u001b[0m\u001b[1;33m,\u001b[0m \u001b[0mssro_tstmp\u001b[0m \u001b[1;33m=\u001b[0m \u001b[0mtb\u001b[0m\u001b[1;33m.\u001b[0m\u001b[0mverify_timestamp\u001b[0m\u001b[1;33m(\u001b[0m\u001b[0mssro_calib_timestamp\u001b[0m\u001b[1;33m)\u001b[0m\u001b[1;33m\u001b[0m\u001b[0m\n\u001b[0;32m---> 52\u001b[0;31m         \u001b[0mssro_calib_folder\u001b[0m \u001b[1;33m=\u001b[0m \u001b[0mtb\u001b[0m\u001b[1;33m.\u001b[0m\u001b[0mlatest_data\u001b[0m\u001b[1;33m(\u001b[0m\u001b[0mcontains\u001b[0m \u001b[1;33m=\u001b[0m \u001b[0mssro_tstmp\u001b[0m\u001b[1;33m,\u001b[0m\u001b[0molder_than\u001b[0m \u001b[1;33m=\u001b[0m \u001b[0mstr\u001b[0m\u001b[1;33m(\u001b[0m\u001b[0mint\u001b[0m\u001b[1;33m(\u001b[0m\u001b[0mssro_dstmp\u001b[0m\u001b[1;33m)\u001b[0m\u001b[1;33m+\u001b[0m\u001b[1;36m1\u001b[0m\u001b[1;33m)\u001b[0m\u001b[1;33m+\u001b[0m\u001b[1;34m'_'\u001b[0m\u001b[1;33m+\u001b[0m\u001b[0mssro_tstmp\u001b[0m\u001b[1;33m)\u001b[0m\u001b[1;33m\u001b[0m\u001b[0m\n\u001b[0m\u001b[1;32m     53\u001b[0m \u001b[1;33m\u001b[0m\u001b[0m\n\u001b[1;32m     54\u001b[0m     \u001b[1;31m### for basis assignment, see onenote 2016-08-24 or alternatively mathematica file E_13C_Bell_state.nb\u001b[0m\u001b[1;33m\u001b[0m\u001b[1;33m\u001b[0m\u001b[0m\n",
      "\u001b[0;32md:/measuring\\analysis\\lib\\tools\\toolbox.pyc\u001b[0m in \u001b[0;36mlatest_data\u001b[0;34m(contains, older_than, newer_than, return_timestamp, raise_exc, folder, return_all, VERBOSE, **kw)\u001b[0m\n\u001b[1;32m    163\u001b[0m     \u001b[1;32mif\u001b[0m \u001b[0mlen\u001b[0m\u001b[1;33m(\u001b[0m\u001b[0mmeasdirs\u001b[0m\u001b[1;33m)\u001b[0m \u001b[1;33m==\u001b[0m \u001b[1;36m0\u001b[0m\u001b[1;33m:\u001b[0m\u001b[1;33m\u001b[0m\u001b[0m\n\u001b[1;32m    164\u001b[0m         \u001b[1;32mif\u001b[0m \u001b[0mraise_exc\u001b[0m \u001b[1;33m==\u001b[0m \u001b[0mTrue\u001b[0m\u001b[1;33m:\u001b[0m\u001b[1;33m\u001b[0m\u001b[0m\n\u001b[0;32m--> 165\u001b[0;31m             \u001b[1;32mraise\u001b[0m \u001b[0mException\u001b[0m\u001b[1;33m(\u001b[0m\u001b[1;34m'No fitting data found containing {}.'\u001b[0m\u001b[1;33m.\u001b[0m\u001b[0mformat\u001b[0m\u001b[1;33m(\u001b[0m\u001b[0mcontains\u001b[0m\u001b[1;33m)\u001b[0m\u001b[1;33m)\u001b[0m\u001b[1;33m\u001b[0m\u001b[0m\n\u001b[0m\u001b[1;32m    166\u001b[0m         \u001b[1;32melse\u001b[0m\u001b[1;33m:\u001b[0m\u001b[1;33m\u001b[0m\u001b[0m\n\u001b[1;32m    167\u001b[0m             \u001b[1;32mreturn\u001b[0m \u001b[0mFalse\u001b[0m\u001b[1;33m\u001b[0m\u001b[0m\n",
      "\u001b[0;31mException\u001b[0m: No fitting data found containing 124639."
     ]
    }
   ],
   "source": [
    "reload(enbs)\n",
    "save_folder = r'K:\\ns\\qt\\Diamond\\Projects\\Purification\\Paper\\Plots' \n",
    "# enbs.electron_carbon_density_matrix() # not the full sequence\n",
    "enbs.electron_carbon_density_matrix(search_string = '13C_full_sequence_dm_',\n",
    "                                    ssro_calib_timestamp='20160914_124639',\n",
    "                                   plot_errors = False)\n",
    "                                    #newer_than = '20160913_000000')\n",
    "plt.savefig(os.path.join(save_folder,'dm_lt3.png'),format='png',bbox_inches = 'tight',pad_inches=0.3)\n",
    "plt.savefig(os.path.join(save_folder,'dm_lt3.pdf'),format='pdf',bbox_inches = 'tight',pad_inches=0.3)\n",
    "plt.show()"
   ]
  },
  {
   "cell_type": "code",
   "execution_count": null,
   "metadata": {
    "collapsed": true
   },
   "outputs": [],
   "source": []
  }
 ],
 "metadata": {
  "kernelspec": {
   "display_name": "Python 2",
   "language": "python",
   "name": "python2"
  },
  "language_info": {
   "codemirror_mode": {
    "name": "ipython",
    "version": 2
   },
   "file_extension": ".py",
   "mimetype": "text/x-python",
   "name": "python",
   "nbconvert_exporter": "python",
   "pygments_lexer": "ipython2",
   "version": "2.7.11"
  }
 },
 "nbformat": 4,
 "nbformat_minor": 0
}
