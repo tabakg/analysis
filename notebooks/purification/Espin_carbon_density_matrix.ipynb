{
 "cells": [
  {
   "cell_type": "code",
   "execution_count": null,
   "metadata": {
    "collapsed": false
   },
   "outputs": [],
   "source": [
    "execfile(r'D:\\measuring\\analysis\\scripts\\setup_analysis.py')\n",
    "%matplotlib inline\n",
    "from analysis.scripts.purification import electron_nuclear_bell_state as enbs"
   ]
  },
  {
   "cell_type": "code",
   "execution_count": null,
   "metadata": {
    "collapsed": false
   },
   "outputs": [],
   "source": [
    "reload(enbs)\n",
    "save_folder = r'K:\\ns\\qt\\Diamond\\Projects\\Purification\\Paper\\Plots' \n",
    "# enbs.electron_carbon_density_matrix() # not the full sequence\n",
    "enbs.electron_carbon_density_matrix(search_string = '13C_full_sequence_dm_',\n",
    "                                    plot_errors=False,\n",
    "                                    ssro_calib_timestamp = '20160912_142059')#newer_than = '20160913_000000')\n",
    "plt.savefig(os.path.join(save_folder,'dm_lt4.png'),format='png',bbox_inches = 'tight',pad_inches=0.3)\n",
    "plt.savefig(os.path.join(save_folder,'dm_lt4.pdf'),format='pdf',bbox_inches = 'tight',pad_inches=0.3)\n",
    "plt.show()"
   ]
  },
  {
   "cell_type": "code",
   "execution_count": null,
   "metadata": {
    "collapsed": true
   },
   "outputs": [],
   "source": []
  }
 ],
 "metadata": {
  "kernelspec": {
   "display_name": "Python 2",
   "language": "python",
   "name": "python2"
  },
  "language_info": {
   "codemirror_mode": {
    "name": "ipython",
    "version": 2
   },
   "file_extension": ".py",
   "mimetype": "text/x-python",
   "name": "python",
   "nbconvert_exporter": "python",
   "pygments_lexer": "ipython2",
   "version": "2.7.3"
  }
 },
 "nbformat": 4,
 "nbformat_minor": 0
}
