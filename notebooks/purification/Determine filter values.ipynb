{
 "cells": [
  {
   "cell_type": "code",
   "execution_count": null,
   "metadata": {
    "collapsed": true
   },
   "outputs": [],
   "source": [
    "## setup analysis\n",
    "execfile(r'D:\\measuring\\analysis\\scripts\\setup_analysis.py')\n",
    "from analysis.lib.purification import purify_pq as ppq; reload(ppq)\n",
    "from analysis.lib.purification import purify_BK as pbk; reload(pbk)\n",
    "\n",
    "from analysis.lib.pq import pq_tools;reload(pq_tools)\n",
    "\n",
    "%matplotlib inline\n",
    "from analysis.lib.fitting import fit, common\n",
    "\n",
    "thetas = [np.pi/4,np.pi/5,np.pi/6,np.pi/8]\n",
    "\n",
    "base_folder_lt4 = r'D:\\measuring\\data\\Purification_lt4_raw_data'\n",
    "\n",
    "filename_contains = r'Purify'\n",
    "\n",
    "from analysis.lib.purification import purify_TPQI_from_Puri_Data as TPQI; reload(TPQI)"
   ]
  },
  {
   "cell_type": "code",
   "execution_count": null,
   "metadata": {
    "collapsed": true
   },
   "outputs": [],
   "source": [
    "### define parameters\n",
    "start_ch0 = 2772.5e3\n",
    "\n",
    "window_length = 40e3\n",
    "pulse_sep = 0\n",
    "number_of_pulses = 1"
   ]
  },
  {
   "cell_type": "code",
   "execution_count": null,
   "metadata": {
    "collapsed": true
   },
   "outputs": [],
   "source": []
  },
  {
   "cell_type": "code",
   "execution_count": null,
   "metadata": {
    "collapsed": true
   },
   "outputs": [],
   "source": []
  },
  {
   "cell_type": "code",
   "execution_count": null,
   "metadata": {
    "collapsed": true
   },
   "outputs": [],
   "source": [
    "get_photon_hists_from_tstamps(tstamps,base_folder, **kw):"
   ]
  },
  {
   "cell_type": "code",
   "execution_count": null,
   "metadata": {
    "collapsed": true
   },
   "outputs": [],
   "source": [
    "_plot_photon_hist(ax0, h0, b0)\n",
    "    _plot_photon_hist(ax1, h1, b1)\n",
    "\n",
    "    ax0.set_title('photons channel 0')\n",
    "    ax1.set_title('photons channepql 1')"
   ]
  }
 ],
 "metadata": {
  "kernelspec": {
   "display_name": "Python 2",
   "language": "python",
   "name": "python2"
  },
  "language_info": {
   "codemirror_mode": {
    "name": "ipython",
    "version": 2
   },
   "file_extension": ".py",
   "mimetype": "text/x-python",
   "name": "python",
   "nbconvert_exporter": "python",
   "pygments_lexer": "ipython2",
   "version": "2.7.3"
  }
 },
 "nbformat": 4,
 "nbformat_minor": 0
}
