{
 "cells": [
  {
   "cell_type": "code",
   "execution_count": null,
   "metadata": {
    "collapsed": false
   },
   "outputs": [],
   "source": [
    "execfile(r'D:\\measuring\\analysis\\scripts\\setup_analysis.py')\n",
    "import analysis.lib.purification.purify_ssro as pu_ssro;reload(pu_ssro)\n",
    "%matplotlib inline"
   ]
  },
  {
   "cell_type": "markdown",
   "metadata": {},
   "source": [
    "## Repump speed"
   ]
  },
  {
   "cell_type": "code",
   "execution_count": null,
   "metadata": {
    "collapsed": true
   },
   "outputs": [],
   "source": [
    "### to be written // imported from Qmemory"
   ]
  },
  {
   "cell_type": "markdown",
   "metadata": {},
   "source": [
    "## average repump time Z"
   ]
  },
  {
   "cell_type": "code",
   "execution_count": null,
   "metadata": {
    "collapsed": false
   },
   "outputs": [],
   "source": [
    "reload(pu_ssro)\n",
    "pu_ssro.average_repump_time(contains = '_Z', do_fit = True, fixed = [])"
   ]
  },
  {
   "cell_type": "markdown",
   "metadata": {},
   "source": [
    "## average repump time XY"
   ]
  },
  {
   "cell_type": "code",
   "execution_count": null,
   "metadata": {
    "collapsed": false,
    "scrolled": false
   },
   "outputs": [],
   "source": [
    "reload(pu_ssro)\n",
    "pu_ssro.average_repump_time(contains = '_X', do_fit = True, fixed = [])"
   ]
  },
  {
   "cell_type": "markdown",
   "metadata": {},
   "source": [
    "## Number of repetitions"
   ]
  },
  {
   "cell_type": "code",
   "execution_count": null,
   "metadata": {
    "collapsed": false,
    "scrolled": false
   },
   "outputs": [],
   "source": [
    "reload(pu_ssro)\n",
    "# pu_ssro.number_of_repetitions(contains = '_X', do_fit = True, show_guess = False, fit_n = 1,fit_f = 1e-10, fixed = [0,2,4,5,6])\n",
    "pu_ssro.number_of_repetitions(contains = '_Z', do_fit = True, show_guess = False, fit_T =3000,fit_n = 1, fit_f = 1e-10, fixed = [0,2,4,5,6], older_than = None)"
   ]
  },
  {
   "cell_type": "markdown",
   "metadata": {},
   "source": [
    "## El to C swap"
   ]
  },
  {
   "cell_type": "code",
   "execution_count": null,
   "metadata": {
    "collapsed": false
   },
   "outputs": [],
   "source": [
    "reload(pu_ssro)\n",
    "pu_ssro.el_to_c_swap(input_el=['X','mX','Y','mY','Z'])"
   ]
  },
  {
   "cell_type": "markdown",
   "metadata": {},
   "source": [
    "# Swap vs LDE attempts"
   ]
  },
  {
   "cell_type": "code",
   "execution_count": null,
   "metadata": {
    "collapsed": false
   },
   "outputs": [],
   "source": [
    "reload(pu_ssro)\n",
    "tomo_basis = 'Y'\n",
    "pu_ssro.calibrate_LDE_phase(contains = 'LDE_attempts_vs_swap',tomo_basis = tomo_basis,\n",
    "                            do_fit = False,fixed = [0,4],decay = 1e5,\n",
    "                            show_guess = False, phi0=240,freq = 1/360.)"
   ]
  },
  {
   "cell_type": "markdown",
   "metadata": {},
   "source": [
    "## Calibrate LDE phase"
   ]
  },
  {
   "cell_type": "code",
   "execution_count": null,
   "metadata": {
    "collapsed": false
   },
   "outputs": [],
   "source": [
    "reload(pu_ssro)\n",
    "pu_ssro.calibrate_LDE_phase(contains = 'LDE_phase', do_fit = True,fixed = [1],show_guess = False, phi0 = 180, freq = 1./20, older_than = None)"
   ]
  },
  {
   "cell_type": "markdown",
   "metadata": {},
   "source": [
    "## Calibrate feedback phase"
   ]
  },
  {
   "cell_type": "code",
   "execution_count": null,
   "metadata": {
    "collapsed": false
   },
   "outputs": [],
   "source": [
    "reload(pu_ssro)\n",
    "pu_ssro.calibrate_LDE_phase(contains = 'phase',do_fit = True,fixed = [],show_guess = False, phi0=240,freq = 14/360.)"
   ]
  },
  {
   "cell_type": "code",
   "execution_count": null,
   "metadata": {
    "collapsed": false
   },
   "outputs": [],
   "source": [
    "print 360/13.168 #2.311\n",
    "print 360/13.777 #2.312\n",
    "print 360/11.956 #2.309\n",
    "print 360/12.551 #2.310"
   ]
  },
  {
   "cell_type": "markdown",
   "metadata": {},
   "source": [
    "# Apply phase feedback"
   ]
  },
  {
   "cell_type": "code",
   "execution_count": null,
   "metadata": {
    "collapsed": false
   },
   "outputs": [],
   "source": [
    "from analysis.scripts.mbi import mbi_data_general_fits as fits; reload(fits)\n",
    "\n",
    "Result = fits.exp_sin(timestamp=  None, contains = '_Z',\n",
    "                      offset=[0.5], amplitude = [0.35], center = [0], decay_constant = [500], \n",
    "                      exp_power = [2],\n",
    "                      frequency = [4./360], phase =[0], \n",
    "                      fixed = [2,4],\n",
    "                      ylim = None,\n",
    "                      plot_fit = True,do_print = True, show_guess = True)\n",
    "phase_per_point = 360*Result[0]['params_dict']['f']\n",
    "phase_error =  360*Result[0]['error_dict']['f']\n",
    "offset = Result[0]['params_dict']['phi']\n",
    "offset_error = Result[0]['error_dict']['phi']\n",
    "\n",
    "print phase_per_point,phase_error\n",
    "print offset, offset_error"
   ]
  },
  {
   "cell_type": "markdown",
   "metadata": {},
   "source": [
    "## Check phase offset after LDE2"
   ]
  },
  {
   "cell_type": "code",
   "execution_count": null,
   "metadata": {
    "collapsed": false
   },
   "outputs": [],
   "source": [
    "reload(pu_ssro)\n",
    "pu_ssro.phase_offset_after_LDE() ### tomographic measurement"
   ]
  },
  {
   "cell_type": "code",
   "execution_count": null,
   "metadata": {
    "collapsed": false
   },
   "outputs": [],
   "source": [
    "reload(pu_ssro)\n",
    "tomo_basis = 'Z'\n",
    "fit_result = pu_ssro.calibrate_LDE_phase(contains = '_phase_offset_after_LDE_'+tomo_basis,tomo_basis = tomo_basis,\n",
    "                            do_fit = True,fixed = [0,4],decay = 1e5,\n",
    "                            show_guess = False, phi0=240,freq = 1/360.,ret= True,post_select=False)\n",
    "\n",
    "phi = fit_result['params_dict']['phi']\n",
    "print 'you have to add this to the offset phase: ', -phi % 360"
   ]
  },
  {
   "cell_type": "markdown",
   "metadata": {},
   "source": [
    "# Full sequence local with rotation to Z"
   ]
  },
  {
   "cell_type": "code",
   "execution_count": null,
   "metadata": {
    "collapsed": false,
    "scrolled": false
   },
   "outputs": [],
   "source": [
    "reload(pu_ssro)\n",
    "tomo_basis = 'Y'\n",
    "pu_ssro.calibrate_LDE_phase(contains = 'full_sequence',tomo_basis = tomo_basis,\n",
    "                            do_fit = True,fixed = [0,1,3],decay = 250,\n",
    "                            show_guess = False, phi0=0,freq = 0,post_select = True)"
   ]
  },
  {
   "cell_type": "code",
   "execution_count": null,
   "metadata": {
    "collapsed": true
   },
   "outputs": [],
   "source": []
  }
 ],
 "metadata": {
  "kernelspec": {
   "display_name": "Python 2",
   "language": "python",
   "name": "python2"
  },
  "language_info": {
   "codemirror_mode": {
    "name": "ipython",
    "version": 2
   },
   "file_extension": ".py",
   "mimetype": "text/x-python",
   "name": "python",
   "nbconvert_exporter": "python",
   "pygments_lexer": "ipython2",
   "version": "2.7.3"
  }
 },
 "nbformat": 4,
 "nbformat_minor": 0
}
