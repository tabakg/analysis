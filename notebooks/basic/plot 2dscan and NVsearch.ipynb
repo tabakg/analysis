{
 "metadata": {
  "name": "",
  "signature": ""
 },
 "nbformat": 3,
 "nbformat_minor": 0,
 "worksheets": [
  {
   "cells": [
    {
     "cell_type": "code",
     "collapsed": false,
     "input": [
      "cd 'D:\\\\measuring\\analysis\\'"
     ],
     "language": "python",
     "metadata": {},
     "outputs": []
    },
    {
     "cell_type": "code",
     "collapsed": false,
     "input": [
      "import sys\n",
      "sys.path.append(r'D:/measuring')\n",
      "import numpy as np\n",
      "sys.path.append(r'D:/measuring/analysis')\n",
      "from analysis.lib.tools import toolbox as tb"
     ],
     "language": "python",
     "metadata": {},
     "outputs": []
    },
    {
     "cell_type": "code",
     "collapsed": false,
     "input": [
      "from analysis.scripts.Fabrication import Display_scan2d as dscan\n",
      "reload(dscan)"
     ],
     "language": "python",
     "metadata": {},
     "outputs": []
    },
    {
     "cell_type": "code",
     "collapsed": false,
     "input": [
      "reload(dscan)\n",
      "nr_plots=20\n",
      "\n",
      "\n",
      "older_than=None\n",
      "from analysis.lib.fitting import fit, common\n",
      "for j in np.arange(nr_plots):\n",
      "        timestamp,folder = tb.latest_data(contains='scan2d',older_than = older_than, return_timestamp=True)\n",
      "        older_than=timestamp\n",
      "        print timestamp\n",
      "        title = folder\n",
      "        a = dscan.DisplayScan(folder)\n",
      "        a.get_data()\n",
      "        cr=a.countrates\n",
      "        cr[cr==0]=np.min(cr[cr>0])\n",
      "        a.plot_data(title)"
     ],
     "language": "python",
     "metadata": {},
     "outputs": []
    },
    {
     "cell_type": "code",
     "collapsed": false,
     "input": [
      "reload(dscan)\n",
      "dscan.display_scan(nr_plots=50)"
     ],
     "language": "python",
     "metadata": {},
     "outputs": []
    },
    {
     "cell_type": "code",
     "collapsed": false,
     "input": [
      "np.loaddata"
     ],
     "language": "python",
     "metadata": {},
     "outputs": []
    },
    {
     "cell_type": "code",
     "collapsed": false,
     "input": [
      "3.e8/(637.2e-9)*1.e-12-470.4"
     ],
     "language": "python",
     "metadata": {},
     "outputs": []
    },
    {
     "cell_type": "code",
     "collapsed": false,
     "input": [
      "np.linspace(0.5,27.5,676)\n",
      "\n",
      "\n"
     ],
     "language": "python",
     "metadata": {},
     "outputs": []
    },
    {
     "cell_type": "code",
     "collapsed": false,
     "input": [
      "older_than = None\n",
      "fig,ax = plt.subplots(figsize=(15,10))\n",
      "ax.set_xlim(left=-150, right=230)\n",
      "for j in range(6):\n",
      "    timestamp,folder = tb.latest_data(contains='laser_scan_Harvard',older_than = older_than, return_timestamp=True)\n",
      "    older_than=timestamp\n",
      "    datfile = tb.measurement_filename(directory=folder, ext='dat')\n",
      "    data = np.loadtxt(datfile)\n",
      "    voltage = data[:,0] \n",
      "    freq = data[:,1]\n",
      "    counts = data[:,2] \n",
      "    ax.plot(freq,counts)"
     ],
     "language": "python",
     "metadata": {},
     "outputs": []
    },
    {
     "cell_type": "code",
     "collapsed": false,
     "input": [
      "timestamp,folder = tb.latest_data(contains='laser_scan',older_than = older_than, return_timestamp=True)\n",
      "print folder"
     ],
     "language": "python",
     "metadata": {},
     "outputs": []
    },
    {
     "cell_type": "code",
     "collapsed": false,
     "input": [
      "math.e\n",
      "\n",
      "1-1/math.e\n",
      "np.sqrt(800)"
     ],
     "language": "python",
     "metadata": {},
     "outputs": []
    },
    {
     "cell_type": "markdown",
     "metadata": {},
     "source": [
      "np.arange(-0.9,0.3,0.01)\n",
      "\n"
     ]
    },
    {
     "cell_type": "code",
     "collapsed": false,
     "input": [
      "steps = np.arange(-0.9,0.3,0.01)\n",
      "steps = np.append(np.arange(-0.9,0.3,0.01), 0.3)\n",
      "print steps"
     ],
     "language": "python",
     "metadata": {},
     "outputs": []
    },
    {
     "cell_type": "code",
     "collapsed": false,
     "input": [
      "wls = np.linspace(637.26,636.62,9)\n",
      "fs_centre = np.linspace(-230,250,9)\n",
      "print wls, fs_centre"
     ],
     "language": "python",
     "metadata": {},
     "outputs": []
    }
   ],
   "metadata": {}
  }
 ]
}