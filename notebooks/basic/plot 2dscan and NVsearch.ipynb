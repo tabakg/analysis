{
 "cells": [
  {
   "cell_type": "code",
   "execution_count": null,
   "metadata": {
    "collapsed": false
   },
   "outputs": [],
   "source": [
    "cd 'D:\\\\measuring\\analysis\\'"
   ]
  },
  {
   "cell_type": "code",
   "execution_count": null,
   "metadata": {
    "collapsed": false
   },
   "outputs": [],
   "source": [
    "import sys\n",
    "sys.path.append(r'D:/measuring')\n",
    "import numpy as np\n",
    "sys.path.append(r'D:/measuring/analysis')\n",
    "from analysis.lib.tools import toolbox as tb\n",
    "%matplotlib inline"
   ]
  },
  {
   "cell_type": "code",
   "execution_count": null,
   "metadata": {
    "collapsed": false
   },
   "outputs": [],
   "source": [
    "from analysis.scripts.Fabrication import Display_scan2d as dscan\n",
    "reload(dscan)"
   ]
  },
  {
   "cell_type": "code",
   "execution_count": null,
   "metadata": {
    "collapsed": false,
    "scrolled": true
   },
   "outputs": [],
   "source": [
    "reload(dscan)\n",
    "nr_plots=15\n",
    "\n",
    "\n",
    "older_than='20160811113459'\n",
    "from analysis.lib.fitting import fit, common\n",
    "for j in np.arange(nr_plots):\n",
    "        timestamp,folder = tb.latest_data(contains='scan2d',older_than = older_than, return_timestamp=True)\n",
    "        older_than=timestamp\n",
    "        print timestamp\n",
    "        title = folder\n",
    "        a = dscan.DisplayScan(folder)\n",
    "        a.get_data()\n",
    "        cr=a.countrates\n",
    "        cr[cr==0]=np.min(cr[cr>0])\n",
    "        a.plot_data(title)#,vmax=400000)"
   ]
  },
  {
   "cell_type": "code",
   "execution_count": null,
   "metadata": {
    "collapsed": false
   },
   "outputs": [],
   "source": [
    "reload(dscan)\n",
    "dscan.display_scan(nr_plots=5)"
   ]
  },
  {
   "cell_type": "code",
   "execution_count": null,
   "metadata": {
    "collapsed": false
   },
   "outputs": [],
   "source": [
    "np.loaddata"
   ]
  },
  {
   "cell_type": "code",
   "execution_count": null,
   "metadata": {
    "collapsed": false
   },
   "outputs": [],
   "source": [
    "3.e8/(637.2e-9)*1.e-12-470.4"
   ]
  },
  {
   "cell_type": "code",
   "execution_count": null,
   "metadata": {
    "collapsed": false
   },
   "outputs": [],
   "source": [
    "np.linspace(0.5,27.5,676)\n",
    "\n",
    "\n"
   ]
  },
  {
   "cell_type": "code",
   "execution_count": null,
   "metadata": {
    "collapsed": false
   },
   "outputs": [],
   "source": [
    "older_than = None\n",
    "fig,ax = plt.subplots(figsize=(15,10))\n",
    "ax.set_xlim(left=-150, right=230)\n",
    "for j in range(6):\n",
    "    timestamp,folder = tb.latest_data(contains='laser_scan_Harvard',older_than = older_than, return_timestamp=True)\n",
    "    older_than=timestamp\n",
    "    datfile = tb.measurement_filename(directory=folder, ext='dat')\n",
    "    data = np.loadtxt(datfile)\n",
    "    voltage = data[:,0] \n",
    "    freq = data[:,1]\n",
    "    counts = data[:,2] \n",
    "    ax.plot(freq,counts)"
   ]
  },
  {
   "cell_type": "code",
   "execution_count": null,
   "metadata": {
    "collapsed": false
   },
   "outputs": [],
   "source": [
    "timestamp,folder = tb.latest_data(contains='laser_scan',older_than = older_than, return_timestamp=True)\n",
    "print folder"
   ]
  },
  {
   "cell_type": "code",
   "execution_count": null,
   "metadata": {
    "collapsed": false
   },
   "outputs": [],
   "source": [
    "math.e\n",
    "\n",
    "1-1/math.e\n",
    "np.sqrt(800)"
   ]
  },
  {
   "cell_type": "markdown",
   "metadata": {},
   "source": [
    "np.arange(-0.9,0.3,0.01)\n",
    "\n"
   ]
  },
  {
   "cell_type": "code",
   "execution_count": null,
   "metadata": {
    "collapsed": false
   },
   "outputs": [],
   "source": [
    "steps = np.arange(-0.9,0.3,0.01)\n",
    "steps = np.append(np.arange(-0.9,0.3,0.01), 0.3)\n",
    "print steps"
   ]
  },
  {
   "cell_type": "code",
   "execution_count": null,
   "metadata": {
    "collapsed": false
   },
   "outputs": [],
   "source": [
    "wls = np.linspace(637.26,636.62,9)\n",
    "fs_centre = np.linspace(-230,250,9)\n",
    "print wls, fs_centre"
   ]
  }
 ],
 "metadata": {
  "kernelspec": {
   "display_name": "Python 2",
   "language": "python",
   "name": "python2"
  },
  "language_info": {
   "codemirror_mode": {
    "name": "ipython",
    "version": 2
   },
   "file_extension": ".py",
   "mimetype": "text/x-python",
   "name": "python",
   "nbconvert_exporter": "python",
   "pygments_lexer": "ipython2",
   "version": "2.7.3"
  }
 },
 "nbformat": 4,
 "nbformat_minor": 0
}
