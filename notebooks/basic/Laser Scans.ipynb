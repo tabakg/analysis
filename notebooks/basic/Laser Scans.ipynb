{
 "cells": [
  {
   "cell_type": "code",
   "execution_count": null,
   "metadata": {
    "collapsed": false
   },
   "outputs": [],
   "source": [
    "execfile('d:/measuring/analysis/scripts/setup_analysis.py')\n",
    "%matplotlib inline\n"
   ]
  },
  {
   "cell_type": "code",
   "execution_count": null,
   "metadata": {
    "collapsed": false
   },
   "outputs": [],
   "source": [
    "nr_of_scans = 16\n",
    "older_than=None\n",
    "fig,ax=plt.subplots(1, figsize=(16,5))\n",
    "for i in range(nr_of_scans):\n",
    "    timestamp,folder = tb.latest_data(contains='LaserScan', older_than = older_than,return_timestamp=True)\n",
    "    older_than=timestamp\n",
    "\n",
    "    #print folder\n",
    "\n",
    "    a=m2.M2Analysis(folder=folder)\n",
    "    for k in a.f.keys():\n",
    "        if '_data' in k:\n",
    "            a.dg = a.f[k]\n",
    "    a.counts,a.frequency,a.voltage = a.dg['Counts [Hz]'].value,a.dg['Frequency [GHz]'].value,a.dg['Voltage [V]'].value\n",
    "    #print len(a.counts)\n",
    "    if len(a.counts)>200:\n",
    "        ax.plot(a.frequency, a.counts, label=' '+a.name)\n",
    "        \n",
    "ax.set_xlabel('Frequency (GHz wrt 470.4 THz)')\n",
    "ax.set_ylabel('Countrate [Hz]')\n",
    "#ax.legend()"
   ]
  },
  {
   "cell_type": "code",
   "execution_count": null,
   "metadata": {
    "collapsed": false
   },
   "outputs": [],
   "source": [
    "fig,ax=plt.subplots(1)\n"
   ]
  },
  {
   "cell_type": "code",
   "execution_count": null,
   "metadata": {
    "collapsed": false
   },
   "outputs": [],
   "source": [
    "tb.get_msmt_fp?"
   ]
  },
  {
   "cell_type": "code",
   "execution_count": null,
   "metadata": {
    "collapsed": false
   },
   "outputs": [],
   "source": [
    "older_than=None\n",
    "newer_than = '20160920152010'\n",
    "newer_than_old = '20160908080000'\n",
    "fig,ax=plt.subplots(1, figsize=(16,5))\n",
    "fig2,ax2=plt.subplots(1, figsize=(16,5))\n",
    "bins = np.arange(-500,500,.5)\n",
    "hist = np.zeros(len(bins)-1)\n",
    "bin_norm = np.zeros(len(bins)-1)\n",
    "while 1:\n",
    "    old_laser_scan=False\n",
    "    ret = tb.latest_data(contains='LasefdsrScan', older_than = older_than,newer_than=newer_than,return_timestamp=True, raise_exc=False)\n",
    "    if not ret:\n",
    "        ret = tb.latest_data(contains='laser_scan', older_than = older_than,newer_than=newer_than_old,return_timestamp=True, raise_exc=False)\n",
    "        old_laser_scan = True\n",
    "        if not ret:\n",
    "            break\n",
    "    timestamp,folder = ret\n",
    "    older_than=timestamp\n",
    "    if old_laser_scan:\n",
    "        d = np.loadtxt(tb.get_msmt_fp(folder, ext='dat'), skiprows=15)\n",
    "        if len(d)>2:\n",
    "            voltage, frequency, counts = d[:,0],d[:,1],d[:,2]\n",
    "    else:\n",
    "        a=m2.M2Analysis(folder=folder)\n",
    "        data_found = False\n",
    "        for k in a.f.keys():\n",
    "            if '_data' in k and 'area_5' in k:\n",
    "                a.dg = a.f[k]\n",
    "                data_found=True\n",
    "        if not data_found:\n",
    "            continue\n",
    "        voltage, frequency, counts = a.dg['Voltage [V]'].value, a.dg['Frequency [GHz]'].value, a.dg['Counts [Hz]'].value\n",
    "     \n",
    "    if len(counts)>200:\n",
    "        cts_norm_zero = counts.astype(np.float)/np.average(counts) -1\n",
    "        _h,_b = np.histogram(frequency, weights=cts_norm_zero, bins=bins)\n",
    "        bin_norm+=1.0*(_h>0)\n",
    "        hist+= _h\n",
    "        ax2.plot(frequency,cts_norm_zero+1, alpha=0.5)\n",
    "        \n",
    "ax.plot(bins[1:],hist, '.')        \n",
    "ax.set_xlim(200,260)\n",
    "ax.set_xlabel('Frequency (GHz wrt 470.4 THz)')\n",
    "ax.set_ylabel('Deviation from average countrates')\n",
    "ax2.set_xlabel('Frequency (GHz wrt 470.4 THz)')\n",
    "ax2.set_ylabel('Normalized countrates')\n",
    "ax2.set_xlim(200,260)\n",
    "#ax.legend()"
   ]
  },
  {
   "cell_type": "code",
   "execution_count": null,
   "metadata": {
    "collapsed": false
   },
   "outputs": [],
   "source": [
    "older_than=None#'20160927204809'\n",
    "newer_than = '20160928132457'\n",
    "fig,ax=plt.subplots(1, figsize=(16,5))\n",
    "fig2,ax2=plt.subplots(1, figsize=(16,5))\n",
    "bins = np.arange(100,120,.05)\n",
    "hist = np.zeros(len(bins)-1)\n",
    "bin_norm = np.zeros(len(bins)-1)\n",
    "ii = 0\n",
    "while 1:\n",
    "    ret = tb.latest_data(contains='laser_scan', older_than = older_than,newer_than=newer_than,return_timestamp=True, raise_exc=False)\n",
    "    if not ret:\n",
    "        break\n",
    "    timestamp,folder = ret\n",
    "    older_than=timestamp\n",
    "    if not 'g_0.0' in folder:\n",
    "        print folder\n",
    "        continue        \n",
    "    #print folder\n",
    "    d = np.loadtxt(tb.get_msmt_fp(folder, ext='dat'), skiprows=15)\n",
    "    if len(d)>2:\n",
    "        voltage, frequency, counts = d[:,0],d[:,1],d[:,2]\n",
    "    if len(counts)>100:\n",
    "        cts = counts.astype(np.float)/np.average(counts) -1\n",
    "        _h,_b = np.histogram(frequency, weights=cts, bins=bins)\n",
    "        hist+= _h\n",
    "        ax2.plot(frequency,cts, alpha=0.5)\n",
    "        ii+=1\n",
    "        \n",
    "ax.plot(bins[1:],hist)        \n",
    "ax.set_xlim(min(bins),max(bins))\n",
    "ax.set_xlabel('Frequency (GHz wrt 470.4 THz)')\n",
    "ax.set_ylabel('Deviation from average countrates')\n",
    "ax2.set_xlabel('Frequency (GHz wrt 470.4 THz)')\n",
    "ax2.set_ylabel('Normalized countrates')\n",
    "ax2.set_xlim(min(bins),max(bins))\n",
    "#ax.legend()\n",
    "print ii"
   ]
  },
  {
   "cell_type": "code",
   "execution_count": null,
   "metadata": {
    "collapsed": false
   },
   "outputs": [],
   "source": [
    "t = np.array([637.009, 637.04,637.06,637.153,637.289])\n",
    "d = np.array([250, 232.1, 217.1, 153.4,49.4])\n",
    "\n",
    "x,y=1/t,d\n",
    "fig,ax=plt.subplots(1, figsize=(16,5))\n",
    "\n",
    "f = common.fit_line\n",
    "args=[0,100]\n",
    "fitres = fit.fit1d(x, y, f,*args, fixed = [],\n",
    "                   do_print = True, ret = True, maxfev=100)\n",
    "p1 = fitres['params_dict']\n",
    "ax.plot(x,y, 'o')\n",
    "plot_pts=100\n",
    "x_p=np.linspace(min(x),max(x),plot_pts)\n",
    "if fitres['success']:\n",
    "    f_p = fitres['fitfunc'](x_p)\n",
    "    ax.plot(x_p,f_p)\n",
    "f_g = f(*args)[1](x_p)\n",
    "ax.plot(x_p,f_g)"
   ]
  },
  {
   "cell_type": "code",
   "execution_count": null,
   "metadata": {
    "collapsed": true
   },
   "outputs": [],
   "source": [
    "common.fit_line?"
   ]
  },
  {
   "cell_type": "code",
   "execution_count": null,
   "metadata": {
    "collapsed": false
   },
   "outputs": [],
   "source": [
    "print fitres['fitfunc'](1/637.16)\n",
    "print fitres['fitfunc'](1/636.526)"
   ]
  },
  {
   "cell_type": "code",
   "execution_count": null,
   "metadata": {
    "collapsed": false
   },
   "outputs": [],
   "source": [
    "folder = r'd:\\\\measuring\\\\data\\\\20160921\\\\161331_laser_scan_Sophie_area_5_NV1_g_2.0_r_200.0'\n",
    "d = np.loadtxt(tb.get_msmt_fp(folder, ext='dat'), skiprows=15)\n",
    "if len(d)>2:\n",
    "    frequency, counts,counts_no_green = d[:,0],d[:,1],d[:,2]"
   ]
  },
  {
   "cell_type": "code",
   "execution_count": null,
   "metadata": {
    "collapsed": false
   },
   "outputs": [],
   "source": [
    "fig,(ax,ax2)=plt.subplots(2, figsize=(16,8))\n",
    "ax.plot(frequency,counts, label = 'Green + Red')\n",
    "ax.plot(frequency, counts_no_green, label = 'Red only')\n",
    "ax2.plot(frequency,counts-counts_no_green,'r',\n",
    "         label = 'Difference')\n",
    "ax2.set_xlabel('Frequency (GHz wrt 470.4 THz)')\n",
    "ax.set_ylabel('Countrates [Hz]')\n",
    "ax2.set_ylabel('Countrate difference [Hz]')\n",
    "ax.legend()\n",
    "ax2.legend()\n",
    "#from analysis.lib.tools import rebin\n",
    "#order = 1\n",
    "#ax.plot(rebin.average(frequency,order=order),rebin.rebin(counts-counts_no_green,order=order))"
   ]
  },
  {
   "cell_type": "code",
   "execution_count": null,
   "metadata": {
    "collapsed": false
   },
   "outputs": [],
   "source": [
    "bins = np.arange(200,1050,.5)\n",
    "\n",
    "hist,_b = np.histogram(frequency, weights=counts-counts_no_green, bins=bins)       \n",
    "fig,ax2=plt.subplots(1, figsize=(16,5))\n",
    "ax2.plot(bins[1:],hist, '.')   "
   ]
  },
  {
   "cell_type": "code",
   "execution_count": null,
   "metadata": {
    "collapsed": false
   },
   "outputs": [],
   "source": []
  },
  {
   "cell_type": "code",
   "execution_count": null,
   "metadata": {
    "collapsed": false
   },
   "outputs": [],
   "source": [
    "nvlevels.get_transitions_ExEy(75,93.8,\n",
    "                              show_ms0_transitions=True,\n",
    "                              show_m1_transitions=True,\n",
    "                              show_p1_transitions=False,\n",
    "                              show_A_transitions=False,\n",
    "                              show_FB_A_transitions=False,\n",
    "                              show_FB_E_transitions=False,\n",
    "                              show_E_prime_flip_transitions=False)"
   ]
  },
  {
   "cell_type": "code",
   "execution_count": null,
   "metadata": {
    "collapsed": false
   },
   "outputs": [],
   "source": [
    "### Fitting laserscans 2 peaks\n",
    "\n",
    "f_min = 92\n",
    "f_max = 96.5\n",
    "g_a1= 232\n",
    "g_A1= 25\n",
    "g_x01 = 93.8\n",
    "g_gamma1 = 0.8\n",
    "g_x02 = 95.3\n",
    "g_A2 = 25\n",
    "g_gamma2 = 0.8\n",
    "fixed=[]\n",
    "\n",
    "folder = r'K:\\ns\\qt\\Diamond\\Samples\\Cavity samples\\2016-09 Harry_unetched\\Laserscans\\Scan3 NV2\\161949_laser_scan_Harry_Scan3_NV2_g_0.0_r_1.5'\n",
    "d = np.loadtxt(tb.get_msmt_fp(folder, ext='dat'), skiprows=15)\n",
    "if len(d)>2:\n",
    "    voltage, frequency, counts = d[:,0],d[:,1],d[:,2]\n",
    "\n",
    "fig,ax=plt.subplots(1, figsize=(16,5))\n",
    "plt.plot(frequency,counts,'-')\n",
    "ax.set_xlabel(\"Frequency (GHz wrt 470.4 THz)\", fontsize = 14)\n",
    "ax.set_ylabel(\"Countrate (Hz)\", fontsize = 14)\n",
    "plt.savefig(os.path.join(folder,'Scan1_NV2_wholefigure.png'))\n",
    "\n",
    "idx_min = np.searchsorted(frequency, f_min, side=\"left\")\n",
    "idx_max = np.searchsorted(frequency, f_max, side=\"left\")\n",
    "frequency = frequency[idx_min:idx_max]\n",
    "counts = counts[idx_min:idx_max]\n",
    "\n",
    "fig,ax=plt.subplots(1, figsize=(10,5))\n",
    "  \n",
    "p0, fitfunc, fitfunc_str = common.fit_2lorentz(g_a1, g_A1, g_x01, g_gamma1, g_x02, g_A2, g_gamma2)\n",
    "fit_result = fit.fit1d(frequency,counts, None, p0=p0, fitfunc=fitfunc, do_print=True, ret=True, fixed=fixed)\n",
    "\n",
    "Ex = fit_result['params_dict']['x01']\n",
    "A12 = fit_result['params_dict']['x02']\n",
    "gammaEx = fit_result['params_dict']['gamma1']\n",
    "gammaA12 = fit_result['params_dict']['gamma2']\n",
    "u_gammaEx = fit_result['error_dict']['gamma1']\n",
    "u_gammaA12 = fit_result['error_dict']['gamma1']\n",
    "#Strain = Ex - Ey\n",
    "\n",
    "print 'Ex = ', Ex , 'GHz, A12 = ' , A12, 'GHz'\n",
    "print 'Linewidth Ex', gammaEx, 'GHz +/-', u_gammaEx, 'GHz'\n",
    "print 'Linewidth A12', gammaEy, 'GHz +/-', u_gammaEy, 'GHz'\n",
    "\n",
    "\n",
    "plot.plot_fit1d(fit_result, np.linspace(frequency[0],frequency[-1],len(frequency)),ax=ax, label='Fit',show_guess=True, plot_data=True,color='red', data_linestyle = '-', print_info= False)\n",
    "ax.set_xlabel(\"Frequency (GHz wrt 470.4 THz)\", fontsize = 14)\n",
    "ax.set_ylabel(\"Countrate (Hz)\", fontsize = 14)\n",
    "ax.legend(title='Transitions at %.2f GHz and %.2f GHz, Linewidth_Ex = %.2f $\\pm$ %.2f MHz, Linewidth_A12 = %.2f $\\pm$ %.2f MHz '%(Ex, A12, gammaEx*1.e3,u_gammaEx*1.e3, gammaA12*1.e3,u_gammaA12*1.e3))\n",
    "plt.savefig(os.path.join(folder,'Scan3_NV2_ExA12.png'))\n"
   ]
  },
  {
   "cell_type": "code",
   "execution_count": null,
   "metadata": {
    "collapsed": false
   },
   "outputs": [],
   "source": [
    "### Fitting laserscans 1 peak at a time\n",
    "\n",
    "f_min = 70\n",
    "f_max = 90\n",
    "g_a= 200\n",
    "g_A= 800\n",
    "g_x0 = 80\n",
    "g_gamma = 1\n",
    "fixed=[]\n",
    "\n",
    "\n",
    "folder = r'K:\\ns\\qt\\Diamond\\Samples\\Cavity samples\\2016-09 Harry_unetched\\Laserscans\\Scan5 NV1\\090101_laser_scan_Harry_Scan5_NV1_g_1.0_r_30.0'\n",
    "d = np.loadtxt(tb.get_msmt_fp(folder, ext='dat'), skiprows=15)\n",
    "if len(d)>2:\n",
    "    voltage, frequency, counts = d[:,0],d[:,1],d[:,2]\n",
    "\n",
    "fig,ax=plt.subplots(1, figsize=(16,5))\n",
    "plt.plot(frequency,counts,'-')\n",
    "ax.set_xlabel(\"Frequency (GHz wrt 470.4 THz)\", fontsize = 14)\n",
    "ax.set_ylabel(\"Countrate (Hz)\", fontsize = 14)\n",
    "plt.savefig(os.path.join(folder,'Scan5_NV1_wholefigure.png'))\n",
    "\n",
    "idx_min = np.searchsorted(frequency, f_min, side=\"left\")\n",
    "idx_max = np.searchsorted(frequency, f_max, side=\"left\")\n",
    "frequency = frequency[idx_min:idx_max]\n",
    "counts = counts[idx_min:idx_max]\n",
    "\n",
    "fig,ax=plt.subplots(1, figsize=(10,5))\n",
    "    \n",
    "p0, fitfunc, fitfunc_str = common.fit_lorentz(g_a, g_A, g_x0, g_gamma)\n",
    "fit_result = fit.fit1d(frequency,counts, None, p0=p0, fitfunc=fitfunc, do_print=True, ret=True, fixed=fixed)\n",
    "\n",
    "T = fit_result['params_dict']['x0']\n",
    "gamma = fit_result['params_dict']['gamma']\n",
    "u_gamma = fit_result['error_dict']['gamma']\n",
    "\n",
    "print 'T = ', T , 'GHz'\n",
    "print 'Linewidth T', gamma, 'GHz +/-', u_gamma, 'GHz'\n",
    "\n",
    "\n",
    "plot.plot_fit1d(fit_result, np.linspace(frequency[0],frequency[-1],len(frequency)),ax=ax, label='Fit',show_guess=True, plot_data=True,color='red', data_linestyle = '-', print_info= False)\n",
    "ax.set_xlabel(\"Frequency (GHz wrt 470.4 THz)\", fontsize = 14)\n",
    "ax.set_ylabel(\"Countrate (Hz)\", fontsize = 14)\n",
    "ax.legend(title='Transition at %.2f GHz, Linewidth = %.2f $\\pm$ %.2f MHz'%(T, gamma*1.e3,u_gamma*1.e3))\n",
    "plt.savefig(os.path.join(folder,'Scan5_NV1_Ex.png'))\n",
    "\n",
    "\n",
    "\n",
    "\n"
   ]
  },
  {
   "cell_type": "code",
   "execution_count": null,
   "metadata": {
    "collapsed": false
   },
   "outputs": [],
   "source": [
    "# plotting optical depth versus linewidth Ey\n",
    "\n",
    "folder = r'K:\\ns\\qt\\Diamond\\Samples\\Cavity samples\\2016-09 Harry_unetched\\Laserscans'\n",
    "fig,ax=plt.subplots(1, figsize=(8,5))\n",
    "od = [0.6, 1, 2, 1.8]\n",
    "Ey = [315, 367, 421, 295]\n",
    "yerr = [13, 12, 102, 12]\n",
    "\n",
    "eb = plt.errorbar(od, Ey, yerr=yerr, fmt='.', color='b')\n",
    "ax.set_xlabel(\"Optical depth (um)\", fontsize = 14)\n",
    "ax.set_ylabel(\"Linewidth Ey (MHz)\", fontsize = 14)\n",
    "ax.set_xlim(0,2.5)\n",
    "plt.savefig(os.path.join(folder,'OpticalDepth_vs_Eylinewidth.png'))\n",
    "\n",
    "\n",
    "strain = [6.99,7.1,18.36,7.36,7.84,18.8,20.49,13.49,14.52]\n",
    "avg_strain = np.mean(strain)\n",
    "print avg_strain\n"
   ]
  },
  {
   "cell_type": "code",
   "execution_count": null,
   "metadata": {
    "collapsed": false
   },
   "outputs": [],
   "source": [
    "from mpl_toolkits.axes_grid1 import host_subplot\n",
    "import mpl_toolkits.axisartist as AA\n",
    "import matplotlib.pyplot as plt\n",
    "\n",
    "folder = r'K:\\ns\\qt\\Diamond\\Samples\\Cavity samples\\2016-09 Harry_unetched\\Laserscans'\n",
    "od = [0.6, 1, 2, 1.8]\n",
    "Ey = [315, 367, 421, 295]\n",
    "Ex = [522, 619, 1417, 239]\n",
    "yerr = [13, 12, 102, 12]\n",
    "xerr = [38,57,384,65]\n",
    "\n",
    "if 1:\n",
    "\n",
    "    host = host_subplot(111, axes_class=AA.Axes)\n",
    "    plt.subplots_adjust(right=0.75)\n",
    "\n",
    "    par1 = host.twinx()\n",
    "    \n",
    "    offset = 60\n",
    "\n",
    "    host.set_xlim(0, 2.5)\n",
    "    host.set_ylim(0, 1500)\n",
    "\n",
    "    host.set_xlabel(\"Optical depth (um)\")\n",
    "    host.set_ylabel(\"Intrinsic linewidth Ey (Mhz)\")\n",
    "    par1.set_ylabel(\"Linewidth Ex with green excitation (Mhz)\")\n",
    "    \n",
    "\n",
    "    p1, = host.plot(od, Ey, '.')\n",
    "    p2, = par1.plot(od, Ex, '.')\n",
    "    eb1 = plt.errorbar(od, Ey, yerr=yerr, fmt='.', color='b')\n",
    "    eb2 = plt.errorbar(od, Ex, yerr=xerr, fmt='.', color='g')\n",
    "    \n",
    "    par1.set_ylim(0, 1500)\n",
    "\n",
    "    host.legend()\n",
    "\n",
    "    host.axis[\"left\"].label.set_color(p1.get_color())\n",
    "    par1.axis[\"right\"].label.set_color(p2.get_color())\n",
    "\n",
    "    plt.draw()\n",
    "    #plt.show()\n",
    "    plt.savefig(os.path.join(folder,'OpticalDepth_vs_Eylinewidth_Ex_green.png'))\n",
    "\n",
    "\n"
   ]
  },
  {
   "cell_type": "code",
   "execution_count": null,
   "metadata": {
    "collapsed": false
   },
   "outputs": [],
   "source": [
    "import analysis.scripts.cavity.spectrometer_analysis as sa\n",
    "import analysis.scripts.cavity.spectrometer_analysis_2Dsweep as spectrometer_analysis_2Dsweep\n",
    "data_dir = 'D:\\measuring\\data/20161004/Sophie_ZPL_spectrometer/20160920 ZPL Sophie Area 5'\n",
    "\n",
    "f_min = 0\n",
    "f_max = 1000\n",
    "g_a= 0\n",
    "g_A= 100\n",
    "g_x0 = 471.7\n",
    "g_gamma = 0.5\n",
    "fixed=[]\n",
    "\n",
    "sa_2D = spectrometer_analysis_2Dsweep.spectrometer_2D_analysis(data_dir,V_min=0,V_max=10,laser_wavelength=636.6e-9)\n",
    "frequencies,filenumbers,intensities = sa_2D.get_data(min_frq=470,max_frq=473)\n",
    "reload(spectrometer_analysis_2Dsweep)\n",
    "intensity = intensities[:,0]\n",
    "\n",
    "\n",
    "fig,ax=plt.subplots(1, figsize=(16,5))\n",
    "plt.plot(frequencies,intensities[:,0],'-')\n",
    "ax.set_xlabel(\"Frequency (THz)\", fontsize = 14)\n",
    "ax.set_ylabel(\"Intensity(a.u.)\", fontsize = 14)\n",
    "plt.savefig(os.path.join(data_dir,'Sophie_Scan5_ZPL.png'))\n",
    "\n",
    "idx_min = np.searchsorted(frequencies, f_min, side=\"left\")\n",
    "idx_max = np.searchsorted(frequencies, f_max, side=\"left\")\n",
    "frequency = frequencies[idx_min:idx_max]\n",
    "intensity = intensity[idx_min:idx_max]\n",
    "print max(frequency)\n",
    "print len(frequency)\n",
    "\n",
    "\n",
    "fig,ax=plt.subplots(1, figsize=(8,5))\n",
    "    \n",
    "p0, fitfunc, fitfunc_str = common.fit_lorentz(g_a, g_A, g_x0, g_gamma)\n",
    "fit_result = fit.fit1d(frequency,intensity, None, p0=p0, fitfunc=fitfunc, do_print=True, ret=True, fixed=fixed)\n",
    "\n",
    "T = fit_result['params_dict']['x0']\n",
    "gamma = fit_result['params_dict']['gamma']\n",
    "u_gamma = fit_result['error_dict']['gamma']\n",
    "\n",
    "print 'T = ', T , 'GHz'\n",
    "print 'Linewidth T', gamma, 'GHz +/-', u_gamma, 'GHz'\n",
    "\n",
    "\n",
    "plot.plot_fit1d(fit_result, np.linspace(frequency[0],frequency[-1],len(frequency)),ax=ax, label='Fit',show_guess=True, plot_data=True,color='red', data_linestyle = '-', print_info= False)\n",
    "ax.set_xlabel(\"Frequency (THz)\", fontsize = 14)\n",
    "ax.set_ylabel(\"Intensity (a.u.)\", fontsize = 14)\n",
    "ax.set_yscale('log')\n",
    "ax.legend(title='ZPL at %.2f THz, Linewidth = %.2f $\\pm$ %.2f GHz'%(T, gamma*1.e3,u_gamma*1.e3))\n",
    "plt.savefig(os.path.join(data_dir,'fit_Sophie_scan5.png'))\n",
    "\n",
    "\n",
    "\n",
    "\n"
   ]
  },
  {
   "cell_type": "code",
   "execution_count": null,
   "metadata": {
    "collapsed": false
   },
   "outputs": [],
   "source": []
  },
  {
   "cell_type": "code",
   "execution_count": null,
   "metadata": {
    "collapsed": true
   },
   "outputs": [],
   "source": []
  }
 ],
 "metadata": {
  "kernelspec": {
   "display_name": "Python 2",
   "language": "python",
   "name": "python2"
  },
  "language_info": {
   "codemirror_mode": {
    "name": "ipython",
    "version": 2
   },
   "file_extension": ".py",
   "mimetype": "text/x-python",
   "name": "python",
   "nbconvert_exporter": "python",
   "pygments_lexer": "ipython2",
   "version": "2.7.3"
  }
 },
 "nbformat": 4,
 "nbformat_minor": 0
}
