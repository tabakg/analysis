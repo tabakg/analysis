{
 "cells": [
  {
   "cell_type": "code",
   "execution_count": null,
   "metadata": {
    "collapsed": false
   },
   "outputs": [],
   "source": [
    "execfile('d:/measuring/analysis/scripts/setup_analysis.py')\n",
    "%matplotlib inline\n"
   ]
  },
  {
   "cell_type": "code",
   "execution_count": null,
   "metadata": {
    "collapsed": false
   },
   "outputs": [],
   "source": [
    "nr_of_scans = 16\n",
    "older_than=None\n",
    "fig,ax=plt.subplots(1, figsize=(16,5))\n",
    "for i in range(nr_of_scans):\n",
    "    timestamp,folder = tb.latest_data(contains='LaserScan', older_than = older_than,return_timestamp=True)\n",
    "    older_than=timestamp\n",
    "\n",
    "    #print folder\n",
    "\n",
    "    a=m2.M2Analysis(folder=folder)\n",
    "    for k in a.f.keys():\n",
    "        if '_data' in k:\n",
    "            a.dg = a.f[k]\n",
    "    a.counts,a.frequency,a.voltage = a.dg['Counts [Hz]'].value,a.dg['Frequency [GHz]'].value,a.dg['Voltage [V]'].value\n",
    "    #print len(a.counts)\n",
    "    if len(a.counts)>200:\n",
    "        ax.plot(a.frequency, a.counts, label=' '+a.name)\n",
    "        \n",
    "ax.set_xlabel('Frequency (GHz wrt 470.4 THz)')\n",
    "ax.set_ylabel('Countrate [Hz]')\n",
    "#ax.legend()"
   ]
  },
  {
   "cell_type": "code",
   "execution_count": null,
   "metadata": {
    "collapsed": false
   },
   "outputs": [],
   "source": [
    "fig,ax=plt.subplots(1)\n"
   ]
  },
  {
   "cell_type": "code",
   "execution_count": null,
   "metadata": {
    "collapsed": false
   },
   "outputs": [],
   "source": [
    "tb.get_msmt_fp?"
   ]
  },
  {
   "cell_type": "code",
   "execution_count": null,
   "metadata": {
    "collapsed": false
   },
   "outputs": [],
   "source": [
    "nr_of_scans = 16\n",
    "older_than=None\n",
    "newer_than = '20160913132000'\n",
    "newer_than_old = '20160908080000'\n",
    "fig,ax=plt.subplots(1, figsize=(16,5))\n",
    "fig2,ax2=plt.subplots(1, figsize=(16,5))\n",
    "bins = np.arange(-500,500,1.)\n",
    "hist = np.zeros(len(bins)-1)\n",
    "bin_norm = np.zeros(len(bins)-1)\n",
    "while 1:\n",
    "    old_laser_scan=False\n",
    "    ret = tb.latest_data(contains='LaserScan', older_than = older_than,newer_than=newer_than,return_timestamp=True, raise_exc=False)\n",
    "    if not ret:\n",
    "        ret = tb.latest_data(contains='ldfsaaser_scan', older_than = older_than,newer_than=newer_than_old,return_timestamp=True, raise_exc=False)\n",
    "        old_laser_scan = True\n",
    "        if not ret:\n",
    "            break\n",
    "    timestamp,folder = ret\n",
    "    older_than=timestamp\n",
    "    if old_laser_scan:\n",
    "        d = np.loadtxt(tb.get_msmt_fp(folder, ext='dat'), skiprows=15)\n",
    "        if len(d)>2:\n",
    "            voltage, frequency, counts = d[:,0],d[:,1],d[:,2]\n",
    "    else:\n",
    "        a=m2.M2Analysis(folder=folder)\n",
    "        data_found = False\n",
    "        for k in a.f.keys():\n",
    "            if '_data' in k and 'area_5' in k:\n",
    "                a.dg = a.f[k]\n",
    "                data_found=True\n",
    "        if not data_found:\n",
    "            continue\n",
    "        voltage, frequency, counts = a.dg['Voltage [V]'].value, a.dg['Frequency [GHz]'].value, a.dg['Counts [Hz]'].value\n",
    "     \n",
    "    if len(counts)>200:\n",
    "        cts_norm_zero = counts.astype(np.float)/np.average(counts) -1\n",
    "        _h,_b = np.histogram(frequency, weights=cts_norm_zero, bins=bins)\n",
    "        bin_norm+=1.0*(_h>0)\n",
    "        hist+= _h\n",
    "        ax2.plot(frequency,cts_norm_zero+1, alpha=0.5)\n",
    "        \n",
    "ax.plot(bins[1:],hist, '.')        \n",
    "ax.set_xlim(-500,500)\n",
    "ax.set_xlabel('Frequency (GHz wrt 470.4 THz)')\n",
    "ax.set_ylabel('Deviation from average countrates')\n",
    "ax2.set_xlabel('Frequency (GHz wrt 470.4 THz)')\n",
    "ax2.set_ylabel('Normalized countrates')\n",
    "ax2.set_xlim(-500,500)\n",
    "#ax.legend()"
   ]
  },
  {
   "cell_type": "code",
   "execution_count": null,
   "metadata": {
    "collapsed": false
   },
   "outputs": [],
   "source": [
    "bin_norm[100:]"
   ]
  },
  {
   "cell_type": "code",
   "execution_count": null,
   "metadata": {
    "collapsed": true
   },
   "outputs": [],
   "source": []
  }
 ],
 "metadata": {
  "kernelspec": {
   "display_name": "Python 2",
   "language": "python",
   "name": "python2"
  },
  "language_info": {
   "codemirror_mode": {
    "name": "ipython",
    "version": 2
   },
   "file_extension": ".py",
   "mimetype": "text/x-python",
   "name": "python",
   "nbconvert_exporter": "python",
   "pygments_lexer": "ipython2",
   "version": "2.7.3"
  }
 },
 "nbformat": 4,
 "nbformat_minor": 0
}
