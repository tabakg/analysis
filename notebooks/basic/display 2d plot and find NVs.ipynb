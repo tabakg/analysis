{
 "metadata": {
  "name": "",
  "signature": ""
 },
 "nbformat": 3,
 "nbformat_minor": 0,
 "worksheets": [
  {
   "cells": [
    {
     "cell_type": "code",
     "collapsed": false,
     "input": [
      "import numpy as np\n",
      "import matplotlib.pyplot as plt\n",
      "import matplotlib.image as mpimg\n",
      "import h5py\n",
      "import sys\n",
      "import os\n",
      "sys.path.append('D:/measuring')\n",
      "\n",
      "import msvcrt\n",
      "import analysis.lib.tools.toolbox as tb\n",
      "from IPython.display import Image\n",
      "\n"
     ],
     "language": "python",
     "metadata": {},
     "outputs": []
    },
    {
     "cell_type": "code",
     "collapsed": false,
     "input": [
      "import analysis.scripts.Fabrication.Display_scan2d as ds"
     ],
     "language": "python",
     "metadata": {},
     "outputs": []
    },
    {
     "cell_type": "code",
     "collapsed": false,
     "input": [
      "reload(ds)\n",
      "\n",
      "newer_than='20160720192250'\n",
      "older_than='20160720203946'\n",
      "# l=0\n",
      "\n",
      "search_dir = 'D:/measuring/data/20160719'\n",
      "print os.listdir(search_dir)\n",
      "all_measdirs = [d for d in os.listdir(search_dir) ]\n",
      "all_measdirs.sort() # get a sorted list of all measurements on that day\n",
      "\n",
      "while older_than > newer_than:\n",
      "    timestamp,folder = tb.latest_data(contains='scan2d', older_than = older_than,return_timestamp=True)\n",
      "    older_than=timestamp\n",
      "\n",
      "# for d in all_measdirs:\n",
      "#     if 'scan2d' in d:\n",
      "#         folder = os.path.join(search_dir,d)\n",
      "#         print folder\n",
      "    #     l+=1\n",
      "    #     if l>3:\n",
      "    #         break\n",
      "    #     timestamp,folder = tb.latest_data('scan2d',older_than=older_than,return_timestamp=True)#'x=-30,y=55')\n",
      "    #     older_than=timestamp\n",
      "    d = ds.DisplayScan(folder)\n",
      "    good_NVs = d.get_good_NVs_only()\n",
      "\n",
      "    print 39*'**'\n",
      "    if 'bleaching' in folder:\n",
      "        print '**new position****************************************************************'\n",
      "        print '**%s******************************************************************'%(folder[57:67])\n",
      "        print '******************************************************************************'\n",
      "        d.get_data()\n",
      "        d.plot_data(folder)\n",
      "\n",
      "    else: \n",
      "        print 'under surface: %s'%folder[-6:]\n",
      "        print timestamp\n",
      "        print '******************************************************************************'\n",
      "\n",
      "    for i in good_NVs:\n",
      "\n",
      "        dict = d.get_NV_information(i)\n",
      "        print ''\n",
      "        print '**NV %d*************'%(i)\n",
      "        for j in dict:\n",
      "            print '%s\\t\\t%.1f \\t+-%.2f'%(j, dict[j][0], dict[j][1])\n",
      "\n",
      "\n",
      "        for file in os.listdir(folder):\n",
      "            if file.endswith(\".png\"):\n",
      "                if 'NV_%d_'%(i) in file:\n",
      "                    filename = os.path.join(folder,file)\n",
      "                    img = mpimg.imread(filename)\n",
      "                    plt.imshow(img)\n",
      "                    plt.axis('off')\n",
      "                    plt.show()\n",
      "\n"
     ],
     "language": "python",
     "metadata": {},
     "outputs": []
    },
    {
     "cell_type": "code",
     "collapsed": false,
     "input": [],
     "language": "python",
     "metadata": {},
     "outputs": []
    },
    {
     "cell_type": "code",
     "collapsed": false,
     "input": [
      "reload(ds)\n",
      "# search_dir = 'D:/measuring/data/20160719'\n",
      "# print os.listdir(search_dir)\n",
      "# all_measdirs = [d for d in os.listdir(search_dir) ]\n",
      "# all_measdirs.sort() # get a sorted list of all measurements on that day\n",
      "\n",
      "\n",
      "\n",
      "newer_than='20160727161900'\n",
      "older_than='20160728085100'\n",
      "\n",
      "while older_than > newer_than:\n",
      "    timestamp,folder = tb.latest_data(contains='scan2d', older_than = older_than,return_timestamp=True)\n",
      "    older_than=timestamp\n",
      "\n",
      "\n",
      "\n",
      "# for d in all_measdirs:\n",
      "#     if 'scan2d' in d:\n",
      "#         folder = os.path.join(search_dir,d)\n",
      "#         if '181457' in d:\n",
      "#              continue\n",
      "    print folder\n",
      "    d = ds.DisplayScan(folder)\n",
      "    x,y,data = d.get_data()\n",
      "    d.plot_data(folder, use_save_location=False)#save_location=save_location,\n",
      "    NVs = d.find_NV_locations(save_NVs = True, print_udpate=True)\n",
      "    d.plot_NV_locations(print_NV_data=True)\n",
      "    d.zoom_around_NV()\n"
     ],
     "language": "python",
     "metadata": {},
     "outputs": []
    },
    {
     "cell_type": "code",
     "collapsed": false,
     "input": [
      "older_than = '20160719060000'\n",
      "newer_than = '20160719000000' #'20160718144114'\n",
      "l=0\n",
      "\n",
      "while older_than > newer_than:\n",
      "    l = l+1\n",
      "    timestamp,folder = tb.latest_data(contains='scan2d', older_than = older_than,return_timestamp=True)\n",
      "    filename = tb.get_measurement_name_from_folder(folder)\n",
      "    older_than=timestamp\n",
      "    \n",
      "    print 'time_NVs[\\'%s\\']=() #%s'%(timestamp,filename)\n",
      "    \n",
      "    "
     ],
     "language": "python",
     "metadata": {},
     "outputs": []
    },
    {
     "cell_type": "code",
     "collapsed": false,
     "input": [
      "print folder\n",
      "print folder[-4:]"
     ],
     "language": "python",
     "metadata": {},
     "outputs": []
    },
    {
     "cell_type": "code",
     "collapsed": true,
     "input": [
      "steps=20.\n",
      "step = (66-56)/steps\n",
      "z = 56\n",
      "for x in range(int(steps)):\n",
      "    print z\n",
      "    z = z +step\n",
      "    \n"
     ],
     "language": "python",
     "metadata": {},
     "outputs": []
    },
    {
     "cell_type": "code",
     "collapsed": false,
     "input": [],
     "language": "python",
     "metadata": {},
     "outputs": []
    }
   ],
   "metadata": {}
  }
 ]
}
